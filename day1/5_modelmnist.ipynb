{
 "cells": [
  {
   "cell_type": "markdown",
   "metadata": {},
   "source": [
    "# Summer School on Data Science Tools and Techniques in Modelling Complex Networks\n",
    "\n",
    "### [Bogumił Kamiński](http://bogumilkaminski.pl/about/)\n",
    "\n",
    "## Introduction to Julia language with applications to machine learning\n",
    "### Day 1, Monday, August 19th, 2019, 13:00 to 16:00"
   ]
  },
  {
   "cell_type": "markdown",
   "metadata": {},
   "source": [
    "**Note:** the examples here are not tuned for optimal performance but to be a gentle introduction to the Julia language for ML practicioners (if time allows we will come back to them during the last day of the workshop to show how their speed can be improved)"
   ]
  },
  {
   "cell_type": "code",
   "execution_count": 1,
   "metadata": {},
   "outputs": [],
   "source": [
    "using Pkg\n",
    "Pkg.activate(\".\");"
   ]
  },
  {
   "cell_type": "code",
   "execution_count": 2,
   "metadata": {},
   "outputs": [],
   "source": [
    "using Serialization\n",
    "\n",
    "train_images, train_labels, test_images, test_labels = deserialize(\"mnist.data\");"
   ]
  },
  {
   "cell_type": "code",
   "execution_count": 3,
   "metadata": {},
   "outputs": [
    {
     "data": {
      "text/html": [
       "<script>\n",
       "// Immediately-invoked-function-expression to avoid global variables.\n",
       "(function() {\n",
       "    var warning_div = document.getElementById(\"webio-warning-5369513011913584416\");\n",
       "    var hide = function () {\n",
       "        var script = document.getElementById(\"webio-setup-7298762031993383280\");\n",
       "        var parent = script && script.parentElement;\n",
       "        var grandparent = parent && parent.parentElement;\n",
       "        if (grandparent) {\n",
       "            grandparent.style.display = \"none\";\n",
       "        }\n",
       "        warning_div.style.display = \"none\";\n",
       "    };\n",
       "    if (typeof Jupyter !== \"undefined\") {\n",
       "        console.log(\"WebIO detected Jupyter notebook environment.\");\n",
       "        // Jupyter notebook.\n",
       "        var extensions = (\n",
       "            Jupyter\n",
       "            && Jupyter.notebook.config.data\n",
       "            && Jupyter.notebook.config.data.load_extensions\n",
       "        );\n",
       "        if (extensions && extensions[\"webio/main\"]) {\n",
       "            // Extension already loaded.\n",
       "            console.log(\"Jupyter WebIO nbextension detected; not loading ad-hoc.\");\n",
       "            hide();\n",
       "            return;\n",
       "        }\n",
       "        console.warn(\"Loading WebIO Jupyter extension on an ad-hoc basis. Consider enabling the WebIO nbextension for a stabler experience (this should happen automatically when building WebIO).\");\n",
       "        warning_div.innerHTML = \"<strong>Loading WebIO Jupyter extension on an ad-hoc basis. Consider enabling the WebIO nbextension for a stabler experience (this should happen automatically when building WebIO).</strong>\";\n",
       "    } else if (window.location.pathname.includes(\"/lab\")) {\n",
       "        // Guessing JupyterLa\n",
       "        console.log(\"Jupyter Lab detected; make sure the @webio/jupyter-lab-provider labextension is installed.\");\n",
       "        hide();\n",
       "        return;\n",
       "    }\n",
       "})();\n",
       "\n",
       "</script>\n",
       "<p\n",
       "    id=\"webio-warning-5369513011913584416\"\n",
       "    class=\"output_text output_stderr\"\n",
       "    style=\"padding: 1em; font-weight: bold;\"\n",
       ">\n",
       "    Unable to load WebIO. Please make sure WebIO works for your Jupyter client.\n",
       "    For troubleshooting, please see <a href=\"https://juliagizmos.github.io/WebIO.jl/latest/providers/ijulia/\">\n",
       "    the WebIO/IJulia documentation</a>.\n",
       "    <!-- TODO: link to installation docs. -->\n",
       "</p>\n"
      ],
      "text/plain": [
       "HTML{String}(\"<script>\\n// Immediately-invoked-function-expression to avoid global variables.\\n(function() {\\n    var warning_div = document.getElementById(\\\"webio-warning-5369513011913584416\\\");\\n    var hide = function () {\\n        var script = document.getElementById(\\\"webio-setup-7298762031993383280\\\");\\n        var parent = script && script.parentElement;\\n        var grandparent = parent && parent.parentElement;\\n        if (grandparent) {\\n            grandparent.style.display = \\\"none\\\";\\n        }\\n        warning_div.style.display = \\\"none\\\";\\n    };\\n    if (typeof Jupyter !== \\\"undefined\\\") {\\n        console.log(\\\"WebIO detected Jupyter notebook environment.\\\");\\n        // Jupyter notebook.\\n        var extensions = (\\n            Jupyter\\n            && Jupyter.notebook.config.data\\n            && Jupyter.notebook.config.data.load_extensions\\n        );\\n        if (extensions && extensions[\\\"webio/main\\\"]) {\\n            // Extension already loaded.\\n            console.log(\\\"Jupyter WebIO nbextension detected; not loading ad-hoc.\\\");\\n            hide();\\n            return;\\n        }\\n        console.warn(\\\"Loading WebIO Jupyter extension on an ad-hoc basis. Consider enabling the WebIO nbextension for a stabler experience (this should happen automatically when building WebIO).\\\");\\n        warning_div.innerHTML = \\\"<strong>Loading WebIO Jupyter extension on an ad-hoc basis. Consider enabling the WebIO nbextension for a stabler experience (this should happen automatically when building WebIO).</strong>\\\";\\n    } else if (window.location.pathname.includes(\\\"/lab\\\")) {\\n        // Guessing JupyterLa\\n        console.log(\\\"Jupyter Lab detected; make sure the @webio/jupyter-lab-provider labextension is installed.\\\");\\n        hide();\\n        return;\\n    }\\n})();\\n\\n</script>\\n<p\\n    id=\\\"webio-warning-5369513011913584416\\\"\\n    class=\\\"output_text output_stderr\\\"\\n    style=\\\"padding: 1em; font-weight: bold;\\\"\\n>\\n    Unable to load WebIO. Please make sure WebIO works for your Jupyter client.\\n    For troubleshooting, please see <a href=\\\"https://juliagizmos.github.io/WebIO.jl/latest/providers/ijulia/\\\">\\n    the WebIO/IJulia documentation</a>.\\n    <!-- TODO: link to installation docs. -->\\n</p>\\n\")"
      ]
     },
     "metadata": {},
     "output_type": "display_data"
    }
   ],
   "source": [
    "using Images, WebIO, Interact"
   ]
  },
  {
   "cell_type": "code",
   "execution_count": 4,
   "metadata": {},
   "outputs": [
    {
     "data": {
      "application/vnd.webio.node+json": {
       "children": [
        {
         "children": [
          {
           "children": [
            {
             "children": [],
             "instanceArgs": {
              "namespace": "html",
              "tag": "div"
             },
             "nodeType": "DOM",
             "props": {
              "setInnerHtml": "<img src='data:image/png;base64,iVBORw0KGgoAAAANSUhEUgAAAHAAAABwCAAAAADji6uXAAAABGdBTUEAALGPC/xhBQAAACBjSFJNAAB6JgAAgIQAAPoAAACA6AAAdTAAAOpgAAA6mAAAF3CculE8AAAAAmJLR0QA/4ePzL8AAAIKSURBVGje7dpPiI1RGMfxzyAL8qfZmFISi1EiFigpSZJiMbGhbLBDVjZ2FqSwQBazUhayxYryd6FuTf5syN6fHYM0yGDxvJPr3tu9c2eKc0/nW29v5z3ve3/93qdz3uc551IoFAqFQqHQ+/R1+8BMLKhrH8EcDOIwzmEvvuIMTjY8P+NfO8xfcFanG5ZgNjZiExZid4v7XuMihvAZz/EwBYf5C7Ydh2tx19/jrhU/cQBfqvZbfMCrFBzmL9g2hv2oYVmLvhpGsQXfdY7zf3OYv2DbufQ9jmMnnoq5Ep5hmxh3K3EsZYf5C04qp5kvvnHDOIj9uNYrDvMX7JjTwKfq/LE6H8J18R1M3mH+gl3VFnNxC5uxA3d6wWH+gl3Xh8vxROQz9zGCy/iVqsP8BbuOIVEDXsG8qn0CV/EuRYf5C04phrAK57G1ag/jFN6k5jB/wSnHkFiz2SXGZB/uiZojKYf5C04rhhN8EwnuD2zHg5Qc5i84qdqiFauxB+vqfuQFHqXmMH/BrmM4iKMirxmouz4ucppONWP+rzTduXQA+8T+0tKGvhGRz9xM0WH+gh1juEisiV7Cioa+Gs7ihsmv2eT/StOJYb+oF9Zo3rd4LOqK2xhL3WH+gk0x3CD2KtZjcUPfGC7gtD97hck7zF+wKacZqo4JXoo10nHxP4vRXnOYv2ChUCgUps9vDE1MYMzifHwAAAAASUVORK5CYII='></img>"
             },
             "type": "node"
            },
            "True: 5"
           ],
           "instanceArgs": {
            "namespace": "html",
            "tag": "div"
           },
           "nodeType": "DOM",
           "props": {
            "style": {
             "display": "flex",
             "flex-direction": "column"
            }
           },
           "type": "node"
          },
          {
           "children": [
            {
             "children": [],
             "instanceArgs": {
              "namespace": "html",
              "tag": "div"
             },
             "nodeType": "DOM",
             "props": {
              "setInnerHtml": "<img src='data:image/png;base64,iVBORw0KGgoAAAANSUhEUgAAAHAAAABwCAAAAADji6uXAAAABGdBTUEAALGPC/xhBQAAACBjSFJNAAB6JgAAgIQAAPoAAACA6AAAdTAAAOpgAAA6mAAAF3CculE8AAAAAmJLR0QA/4ePzL8AAAIWSURBVGje7dlPiE1RHAfwzwx5jWQWNtRkxw6vNxErskRRFpLMVklNkbJAVhb+LFCipIgiWRDJZuqtbPzb20kpTMKkKHMtzpVHc999b5TOnM63Tt13zv3db9/z7fc7v3sfGRkZGRkZGQP/EjyKAxjDdVzA85qYwf+tMH3CWXvYxAQWd8x9wpLYFKZPOH82QetwF8Mo8AXfBf824Fn5OwqF6RP2lYcL0cINjJTBhVA/T+FWOXcMJ2NRmD5hX3l4GbtnmG9hEdrYhFUxKUyfsGcPR7HV78Rt4wFO4y1e4CM2657c6W9pnLW06c/+5ZGQjxuxGlfwvlz7ga/l2kw9avpbGl8ersRhoX/5IOTcNUzhYTn+xhAOYU8MCtMn7OphA2ewReg9x/BU8KgOy2NRmD5hVw9bgn+wXTgD55zC9Am7enhWODDbevdvENOqD9r0tzQeD7cJvUyB+308cLqMeRmLwvQJKz0cwgK8w+0eHtTAifJ6AkdiUZg+YW1f+k3oRbuhgaNC//pGqMFTsShMn7DWw7o62hS824V72BmbwvQJKz0cKMcOjFfcc1DIv2HcFN49olOYPmGlh0U5luI8rmIS67EXa4Tv3q/xGBdjVZg+YW0tnYf9Qo38jBUda0+E/uV4zArTJ6z8XjqCO1jbcWNRXk8K/zON6x/pb2k8HsIy7BPOvF8ensMlvJorCtMnzMjIyMjIyOAnQ85TpVMJlhIAAAAASUVORK5CYII='></img>"
             },
             "type": "node"
            },
            "True: 0"
           ],
           "instanceArgs": {
            "namespace": "html",
            "tag": "div"
           },
           "nodeType": "DOM",
           "props": {
            "style": {
             "display": "flex",
             "flex-direction": "column"
            }
           },
           "type": "node"
          },
          {
           "children": [
            {
             "children": [],
             "instanceArgs": {
              "namespace": "html",
              "tag": "div"
             },
             "nodeType": "DOM",
             "props": {
              "setInnerHtml": "<img src='data:image/png;base64,iVBORw0KGgoAAAANSUhEUgAAAHAAAABwCAAAAADji6uXAAAABGdBTUEAALGPC/xhBQAAACBjSFJNAAB6JgAAgIQAAPoAAACA6AAAdTAAAOpgAAA6mAAAF3CculE8AAAAAmJLR0QA/4ePzL8AAAGlSURBVGje7dixS5VRHMbxj3IJWhILESGCBmmzqSEHCy5EtDcpbhr0bzQFzk0ODjVGOjU0OVmko5EJQVJDWyAkgVDDe8Dee68k773kuT/Osxzuue99vuc5D+d9uS9FRUVFRUVFRcOvkUEbtvECd7DX4/vR/50wPrDVOTGHK3jV0PAWtnNKGB/Y1eFdTGvW4Siu45rTD3j8LT3/Dhex1dBsCkt4jo+5JIwP7OqwnxWspnE/p4TxgbUOZzDZh9lYGt/klDA+sNbhA1xsaDSpehbCt5wSxgfWOryRxt0GRiuqHj/hMKeE8YGtXpPvz/jjS7iPBdxLc0/wI6eE8YE9O7zc8flmWlkbV3EB82nuCO/wK5nt5JYwPrD2N+4ZHqnO0cFf8zPpwmP8xAdVb9vYxHd8xbiq36wSxgfWzuFjfMFsx0UH2FB197aHyTIm8DnHhPGBXffSpw1M2ml8mWPC+MBW/xYnWs8xYQEWYP7AgZ3DEdW78n+9a42/pcPb4e8zrj7+lg5vh3Aba7kljA8c6L00y4TxgQPp8DUe5powPrCoqKioqH/9ATeSLmyCLr3XAAAAAElFTkSuQmCC'></img>"
             },
             "type": "node"
            },
            "True: 4"
           ],
           "instanceArgs": {
            "namespace": "html",
            "tag": "div"
           },
           "nodeType": "DOM",
           "props": {
            "style": {
             "display": "flex",
             "flex-direction": "column"
            }
           },
           "type": "node"
          },
          {
           "children": [
            {
             "children": [],
             "instanceArgs": {
              "namespace": "html",
              "tag": "div"
             },
             "nodeType": "DOM",
             "props": {
              "setInnerHtml": "<img src='data:image/png;base64,iVBORw0KGgoAAAANSUhEUgAAAHAAAABwCAAAAADji6uXAAAABGdBTUEAALGPC/xhBQAAACBjSFJNAAB6JgAAgIQAAPoAAACA6AAAdTAAAOpgAAA6mAAAF3CculE8AAAAAmJLR0QA/4ePzL8AAAF/SURBVGje7dixShxRGIbhxyVgYaEhglhlr0C8gC1SJGKRwsqU5gbSCVqksQukEkkdsU/hBSjaLHgH2ggpUsTKwsrCpJiBXYVkZ3YX58zP+apzYJh3Xz7+M4clJycnJycnJ6f9mZnWiz5jDx28wfk/nus8t2F84ItpvOQjdvFQ7v+kZBgfOJUOX2M2VcP4wIk7fItP5foS7/E7JcP4wIk67OEQ8+X+K36mZhgfOFGHW1gu12c4StEwPnDse+mi4sx8wC0+4DRFw/jAseawix9D+wPV+mvEMD5wrA7XsVKuT7CfsmF8YO2zdENxj5lDH5v+fw9t3DA+sNYcdj0+Q6/V668Rw/jAWh3uGPwXA1/aYBgfWLnDVawN7Y9x1QbD+MDK38MbvCzXF4p7zV0bDOMDK8/hK4Nz9Jvx+mvEMD6wUoffn/yyfpsM4wNHdriKd4oZvFfMYN27aKOG8YEjO1zAUrn+he22GWZgBqYPHDmHl4rvX6+thvGBOTk5OTmT5y9D7yxecgVygwAAAABJRU5ErkJggg=='></img>"
             },
             "type": "node"
            },
            "True: 1"
           ],
           "instanceArgs": {
            "namespace": "html",
            "tag": "div"
           },
           "nodeType": "DOM",
           "props": {
            "style": {
             "display": "flex",
             "flex-direction": "column"
            }
           },
           "type": "node"
          },
          {
           "children": [
            {
             "children": [],
             "instanceArgs": {
              "namespace": "html",
              "tag": "div"
             },
             "nodeType": "DOM",
             "props": {
              "setInnerHtml": "<img src='data:image/png;base64,iVBORw0KGgoAAAANSUhEUgAAAHAAAABwCAAAAADji6uXAAAABGdBTUEAALGPC/xhBQAAACBjSFJNAAB6JgAAgIQAAPoAAACA6AAAdTAAAOpgAAA6mAAAF3CculE8AAAAAmJLR0QA/4ePzL8AAAHwSURBVGje7dnPi41RHMfx10j5kSShbCwMG2QjWRkbsZNYjAWFnYWdkpKN8QfY2LAgqWlEyWxk49dmyk4ZJVaajZKUSJlr8T23mabmzr2Pmnvu6Xw29/l1nvf93M/9PufHQ1VVVVVVVVVVVVVV1f9rqNcGB3AGI9idjl3CDA7iPqY6tF+x3A7LB/aU4ShuYlNq+AKbsWvezR7iVE4Oyweu7Pai/biNtXiF63iDVZjAkXTt29wclg/sKsPTuJO2n4t6/JH2R83l9wX3cnNYPnDJZ+kYrqCFW7hqLj+Yxs60fRJPcnNYPrBjHV4T+f3BM1zGr3Rutai/beKPMGbp/PrisHzgonW4AR/E+GUSx+ed24EH2Jf2H+E8fubosHzgohluEfMF2I7fOIdj2IN14vnawgk8zdVh+cCOdTgt5g5DIqu2ZtKxrfiaPrN1WD5w0f7wu3h+TmIjPon+7i6+YVxkN567w/KBHcc0U6IOF2oEhzCLz7k7LB/Y1fxwodaI/FpqHWYA7Hm9tK2/IsN2n5itw/KBjerw6CA5LB/YKMPhQXJYPrBRhq/TN50dBIflAxtl+A4fxdx/WO0P+wxsPKY5K95lvMRFvM/VYfnAxhmuF+8ND+OxWIer66V9ATbOkMjxBi5gr+5qsfyfdNmBVYOvfxOISKianOH0AAAAAElFTkSuQmCC'></img>"
             },
             "type": "node"
            },
            "True: 9"
           ],
           "instanceArgs": {
            "namespace": "html",
            "tag": "div"
           },
           "nodeType": "DOM",
           "props": {
            "style": {
             "display": "flex",
             "flex-direction": "column"
            }
           },
           "type": "node"
          },
          {
           "children": [
            {
             "children": [],
             "instanceArgs": {
              "namespace": "html",
              "tag": "div"
             },
             "nodeType": "DOM",
             "props": {
              "setInnerHtml": "<img src='data:image/png;base64,iVBORw0KGgoAAAANSUhEUgAAAHAAAABwCAAAAADji6uXAAAABGdBTUEAALGPC/xhBQAAACBjSFJNAAB6JgAAgIQAAPoAAACA6AAAdTAAAOpgAAA6mAAAF3CculE8AAAAAmJLR0QA/4ePzL8AAAIeSURBVGje7dhNiI1hGAbgizHTZAwlv8spiowFkcaGjYjyV5LYKNRsJspPNhpKoixkz9KKrCZJlDIWFrOkUFPK1KQooZn8LZ5vOqfpmPmMMt+8vXd99f6c59zffe6e9zzPS0ZGRkZGRkbGzMesfwluxzzswhJcx8gkMbP/t8L0CedMJagDZ9GFzrr1ZeipmsL0Cf8qD1fhJI6gtQh+h89YjQ/YildVUpg+Yak8XICrOCjOzzG8xna04CUWFU+lFKZPWMrDfTg2bu0ttok8XFllhekTlvLwQN14EC9wTvhHnLGVVZg+YSkPj+MEHuINhsftL62ywvQJS3n4Hr0T7HdVWWH6hFPqLXrQJurSX1hbrPfjedUUpk9YureYizW4gJ11b/uzGA9hi6h1KqUwfcJJ87AZ63AXy/FN+NWPHcJbaMJ+3MBolRSmTzhhHrYIn+4V84t4jGdYWIw7x8Ucxn1/vnNL/yetjofNuIQzxfyBuJ/5hMXow3qRc9eEl3uKzz4q1j4W84HpVJg+YUMPm3AZp/EF53FHeLIRN7FB9BndeIL52CzycLeoeYgesmM6FaZP2NDDbuHTV7W+cBOOinqmVeTobbU+vx6HhJdwStzJTZvC9AkbejgkzssRcX/dhhV1+724gh8zQWH6hA09HFDr+cbQh6eiXhnE95miMH3Chh62Y6+oWYZxS/wXjpb+2gopTJ8wIyMjIyMjIyMF/AZmoFKjiAQ4zwAAAABJRU5ErkJggg=='></img>"
             },
             "type": "node"
            },
            "True: 2"
           ],
           "instanceArgs": {
            "namespace": "html",
            "tag": "div"
           },
           "nodeType": "DOM",
           "props": {
            "style": {
             "display": "flex",
             "flex-direction": "column"
            }
           },
           "type": "node"
          },
          {
           "children": [
            {
             "children": [],
             "instanceArgs": {
              "namespace": "html",
              "tag": "div"
             },
             "nodeType": "DOM",
             "props": {
              "setInnerHtml": "<img src='data:image/png;base64,iVBORw0KGgoAAAANSUhEUgAAAHAAAABwCAAAAADji6uXAAAABGdBTUEAALGPC/xhBQAAACBjSFJNAAB6JgAAgIQAAPoAAACA6AAAdTAAAOpgAAA6mAAAF3CculE8AAAAAmJLR0QA/4ePzL8AAAExSURBVGje7dkxSgRBEIXhTzEy8gQiaqCJRt5CDY2MNRMvIHgFwUC8w17CM+i6CAbGxobOGuzCTtotrj1FvWgapvn79aN6qhlSqVQqlUqtlE64wxWecYyPwvmry3YYH7hW8vIWztFhH3sywwaARRl+4gmnQ3IYH1iU4Zfyuvt3h/GBRRlu4HBoDuMDizJcx2ZvfISJstqMv6VLBxb3pTe4xXQ+vsZ9yw7jA4szhG+ZYUPAorO0v8puKA7jA6sy7CzqsHmHCUxgAhP496rqaaYW38MRzlp2GB/4674UDjBu1WF8YFVP84DL3vjC7I7RpMP4wKoMJ0NyGB9YdZbCG3Z6q97Fe4sO4wOr6hBesD1/Lrnvx9/S4WT4iJMhOIwPrM5wjFez//lNO4wPTKVSqVQqxQ/pmiThuHbDZQAAAABJRU5ErkJggg=='></img>"
             },
             "type": "node"
            },
            "True: 1"
           ],
           "instanceArgs": {
            "namespace": "html",
            "tag": "div"
           },
           "nodeType": "DOM",
           "props": {
            "style": {
             "display": "flex",
             "flex-direction": "column"
            }
           },
           "type": "node"
          },
          {
           "children": [
            {
             "children": [],
             "instanceArgs": {
              "namespace": "html",
              "tag": "div"
             },
             "nodeType": "DOM",
             "props": {
              "setInnerHtml": "<img src='data:image/png;base64,iVBORw0KGgoAAAANSUhEUgAAAHAAAABwCAAAAADji6uXAAAABGdBTUEAALGPC/xhBQAAACBjSFJNAAB6JgAAgIQAAPoAAACA6AAAdTAAAOpgAAA6mAAAF3CculE8AAAAAmJLR0QA/4ePzL8AAAH9SURBVGje7dk9aFRBFAXgLyFBsFBMp4Uogo1aaCf4V5gERLQSAlEiip2ipVrbClZaCBb2QqIYEEEEsQ9oa6WFCjYJGP8wFvMk+zNv94WAOw5zqtl37+zZw+HO3vuGgoKCgoKCgoL/H0NrSd6NURzBXfyO5MxhCj9qvmP4XyvMn7CRh3twHmeqX7it2rhSk/8Q17CYgsL8CRt5+BgnIhtXeuw5itcpKMyfcKRJ0nOrHn7GA+0eHhQ8S1Jh/oSN6nAEW6v1T3zsiG/CW+GMhVlM43sKCvMnbFSHv/C+R3wSW1o+fxD3byAK8ydcU18awxQuaT9Lx8T7mYEozJ+wUR3GMI0b2CXMG3+xIJy3ySjMn7CRhztwDsdbnh3S3pcu4jrmsZySwvwJ+56l+4S5fXtkY6uHT3E6RYX5EzaqwyHdZg9rf09zUpg/5lNTmD9hXw/f4BjO4hm+dcQv4krKCvMnXHdfuhlfqvUppQ5TrMN+mExdYf6EtR6OYgIv1PeZF3AndYX5E0Y9PIybGMdO3e9oxoT+5TY2Vs+W9Z4pBqYwf8Lo/+EC9lbre1jqiI/jgNXZ4mWV9yhFhfkT9vWw18ZPeIKruvvVZBTmTxj1cD8uYyYSe4eveIX7wuyRtML8CWtniw3C3f0t4U5iVrhHnNN995S0wvwJCwoKCgrWjz/TA0jz9/U8JAAAAABJRU5ErkJggg=='></img>"
             },
             "type": "node"
            },
            "True: 3"
           ],
           "instanceArgs": {
            "namespace": "html",
            "tag": "div"
           },
           "nodeType": "DOM",
           "props": {
            "style": {
             "display": "flex",
             "flex-direction": "column"
            }
           },
           "type": "node"
          }
         ],
         "instanceArgs": {
          "namespace": "html",
          "tag": "div"
         },
         "nodeType": "DOM",
         "props": {
          "style": {
           "display": "flex",
           "flex-direction": "row"
          }
         },
         "type": "node"
        },
        {
         "children": [
          {
           "children": [
            {
             "children": [],
             "instanceArgs": {
              "namespace": "html",
              "tag": "div"
             },
             "nodeType": "DOM",
             "props": {
              "setInnerHtml": "<img src='data:image/png;base64,iVBORw0KGgoAAAANSUhEUgAAAHAAAABwCAAAAADji6uXAAAABGdBTUEAALGPC/xhBQAAACBjSFJNAAB6JgAAgIQAAPoAAACA6AAAdTAAAOpgAAA6mAAAF3CculE8AAAAAmJLR0QA/4ePzL8AAAEhSURBVGje7dixSQRRFEbhb8VFTBTRQDAwMNFQzbQFEeswtAhrsAoLMBE0sAMx1UDESCNBFtZkGpg34N653APLi4bD4Wd4w1IURVEURTF+Jn0fmOIE1zhtEC79d2F+Ye8Nt/CJDxx1Z+jC/MLl1ge3u19tuHBh84a9X+BFFeYXNm84x+oYCvMLmzeEYzxFL8wv7L3hDN9Yx94YCvMLe2/4hUecjaWwhCWMLxx0H26OoTC/cNCG52MozC9s2vBe3YeBhE0bvnXnFLt4jVyYX9i04aw7J1iJXphf2PqXmWfs4waXkQvzC5u/ae6wg6vohfmFg75L5/iNXphfOGjDNVzgNnJhfmHzffiODRziJXJhfmHze/iAA/xEL8wvLIqiKIbzB7rCGnmE+s7vAAAAAElFTkSuQmCC'></img>"
             },
             "type": "node"
            },
            "True: 1"
           ],
           "instanceArgs": {
            "namespace": "html",
            "tag": "div"
           },
           "nodeType": "DOM",
           "props": {
            "style": {
             "display": "flex",
             "flex-direction": "column"
            }
           },
           "type": "node"
          },
          {
           "children": [
            {
             "children": [],
             "instanceArgs": {
              "namespace": "html",
              "tag": "div"
             },
             "nodeType": "DOM",
             "props": {
              "setInnerHtml": "<img src='data:image/png;base64,iVBORw0KGgoAAAANSUhEUgAAAHAAAABwCAAAAADji6uXAAAABGdBTUEAALGPC/xhBQAAACBjSFJNAAB6JgAAgIQAAPoAAACA6AAAdTAAAOpgAAA6mAAAF3CculE8AAAAAmJLR0QA/4ePzL8AAAHuSURBVGje7dk9aBRBGMbxnxJBtAhIGhENKFqoAe3EwoiVtU2IBAlqodYBCztFsBELKwNKELEQ8SN9AoKFoI2QQkQrRURBrWyUxGJWWE8v7ELizb3MA8ftzdzN/x5entmZWYqKioqKiorWrNbAc9XgRzra1/5vh/GBA6sx6DUcxO0cHMYHrngNr+AMfkhZ7LnD+MAVr+EBrMNT3MvBYXxg6xoewgWM40tH3zj24i2mcnEYH9h6TfMKOzEqZa2uBezBMTzMxWF8YOscfscS1ne078M2LP6jr6cO4wNb1fASRqQsvqy1b8R5bMAz3M/JYXxg47l0K55jEEfxpNZ3A6fwQcpiVg7jAxvlcAQPMITr/qzfFCar68s5OowPXDaHA5jAzeqfLUpZnMVVbMIj7McdnMzRYXzgsjWcwEzti2+wo/r8AluwGZ+r9ywdxgd2reGYlK2f+Ibj+Crlb7T246Xq9RGHpb1hVg7jA7vWcB7D0j3uVq19N6al85jfNYS7OJGjw/jArmuax9I65l1H+5C0jyedyyxU1+9zdRgf2OqcZlDK5VlpztzVDw7jA1vt8c9JzyQ++fu5YLYO4wMb13AYp6X737Tmc2fPHcYHNp5LX2O7tFad7CeH8YGNcziDi9L+vq8cxgcWFRUVFRUV8Quek0XsTpCCZwAAAABJRU5ErkJggg=='></img>"
             },
             "type": "node"
            },
            "True: 4"
           ],
           "instanceArgs": {
            "namespace": "html",
            "tag": "div"
           },
           "nodeType": "DOM",
           "props": {
            "style": {
             "display": "flex",
             "flex-direction": "column"
            }
           },
           "type": "node"
          },
          {
           "children": [
            {
             "children": [],
             "instanceArgs": {
              "namespace": "html",
              "tag": "div"
             },
             "nodeType": "DOM",
             "props": {
              "setInnerHtml": "<img src='data:image/png;base64,iVBORw0KGgoAAAANSUhEUgAAAHAAAABwCAAAAADji6uXAAAABGdBTUEAALGPC/xhBQAAACBjSFJNAAB6JgAAgIQAAPoAAACA6AAAdTAAAOpgAAA6mAAAF3CculE8AAAAAmJLR0QA/4ePzL8AAAHWSURBVGje7dlPiE1hGMfxz0hISEhmYxKJyZ+pKTULO7GZWSqy1uxkQcpCU1LKKEa2s1QWWIqFnZUFiwnlT4hZTixmMxKLc25z6NzbOSn39fT+6tZ7n+ec++3X03Of856XrKysrKysrIE2Fw9jHKfxDC/K+A0sNfyNFf/aYXxg4xpO4hrW1eSO4EmqDuMDG9dwE15ia03uK07gcYoO4wNXNr1wAVOYxlp8wvYytxHH5Br2CdhqHsJzHMQc9lXiu/A+RYfxgY37sKMruIiRP+KrU3UYH9i6D2EbHmF/JXYPx1N0GB/Yug9P4YDf/0fhaaoO4wMb9+Ee3FfMvbrC53nYN2DjPtyLHT1uOIszKTqMD2xcwwe4gKtYU5MfTNVhfGCreTiDN4r9YOfmW9iQssP4wNbPNA8r6wHsxCXFXmMIH1NzGB/YuoZVrVLUD77jR4oO4wP/qoaXK+tZfE7RYXxg173FZkVd7uJOTX4QryzPwry36Buwax/exAR240v5eYvRMnbecv2uYz5Vh/GBXftwTHFGMVZ+/6A4ezqM9WXsJ17jEBZTdRgf2PM9zTTe4XaX/AK2pO4wPrDnM805xXlE5+x+BCfL9Tcc/R8cxgdmZWVlZWVl8QtzxjjaMNLTNQAAAABJRU5ErkJggg=='></img>"
             },
             "type": "node"
            },
            "True: 3"
           ],
           "instanceArgs": {
            "namespace": "html",
            "tag": "div"
           },
           "nodeType": "DOM",
           "props": {
            "style": {
             "display": "flex",
             "flex-direction": "column"
            }
           },
           "type": "node"
          },
          {
           "children": [
            {
             "children": [],
             "instanceArgs": {
              "namespace": "html",
              "tag": "div"
             },
             "nodeType": "DOM",
             "props": {
              "setInnerHtml": "<img src='data:image/png;base64,iVBORw0KGgoAAAANSUhEUgAAAHAAAABwCAAAAADji6uXAAAABGdBTUEAALGPC/xhBQAAACBjSFJNAAB6JgAAgIQAAPoAAACA6AAAdTAAAOpgAAA6mAAAF3CculE8AAAAAmJLR0QA/4ePzL8AAAF4SURBVGje7di/Sx1BFMXxT4KNKSKoTZpYpUwhKLGx8w8QU1lYCGlSGBQFEbXW0sIypbGwDLHwR51CQtIIFgqinY1NBEUQU8wKz+Ipq4+8fcP9wrLD3d05HA53dnYJgiAIgiAIgiB4Pi8aPWEP2jGKz0VtE+PF+OX/dpi/YFujJhrCiJRdB25rrg0002H+gs/uw694j/6a2l98wy+s46qZDvMXfHKGXVjCJ5zjGMvYxyVOq+Iwf8EnZ7iCCaxiHhdVdZi/YKkMX2EWY5gsHt5yf62snMP8BUvtaRakDDewrVx2TXOYv2CpPrwtjmF8bxWH+QuW6sM99EnvwEvstILD/AUf7cMP+INrdOILFqU9zAAOqu4wf8G6Gb7BD7zFFNaKejfOivEgflbdYf6CddfS33gt7WHWauqTxXlX+hasvMP8Bev24Zy0D22vqR3iHU7wUcq58g7zF3zwfTiDXulf6N3Ne5jGEW5awWH+gkEQBEEQBEEQBI3gH5UrNC4u67AHAAAAAElFTkSuQmCC'></img>"
             },
             "type": "node"
            },
            "True: 5"
           ],
           "instanceArgs": {
            "namespace": "html",
            "tag": "div"
           },
           "nodeType": "DOM",
           "props": {
            "style": {
             "display": "flex",
             "flex-direction": "column"
            }
           },
           "type": "node"
          },
          {
           "children": [
            {
             "children": [],
             "instanceArgs": {
              "namespace": "html",
              "tag": "div"
             },
             "nodeType": "DOM",
             "props": {
              "setInnerHtml": "<img src='data:image/png;base64,iVBORw0KGgoAAAANSUhEUgAAAHAAAABwCAAAAADji6uXAAAABGdBTUEAALGPC/xhBQAAACBjSFJNAAB6JgAAgIQAAPoAAACA6AAAdTAAAOpgAAA6mAAAF3CculE8AAAAAmJLR0QA/4ePzL8AAAIgSURBVGje7dlPiI1RHMbxzzUTKTeUGjZTY2MlSSxmYTEWVjPFAjWSFDsWkpS1jdVkPXtSyoSiEFkpf4oyMyILiZSFlD+5hsV5J+97m3vn3qbc43Seut1+p3Pep6dv73vO733JysrKysrKyvr/VSsXq7Af37ENdYzjHt41LfyAKTzq0nDZv06YvmGF4Xmc6mLxHF7gEi7iTYwJ0zesMHyFjaX6E541LZjFJqzB1tL4KG7EmDB9w/5ysVvgM1vUX/G+xcI6nmOwqMdkhj0yrDB8Xfw60ai//H5gMtaE6Rv2d7tgOS7gUGlsGE9jTZi+YVcMR3AQh4v6J05gOuaE6Rt2zHAHbqGvNPYbb/Er5oTpG3bMcJ8qP8Jz9brQI17DVeGcE1XC9A1rnU4cxllsx7oWc+YwIfSZH2NJmL5hxwznNSgwHMBeHFngIvexS2Da84TpG3bNsFnjOC7sl2WdEe7HnidM33DJDAmb6m3sLI1N4lgMCdM37Lo/XEgNPFZl+DKWhOkbLspwA45iBpdbzOnDllLdwMNYEqZv2JbhetzEZqxtMWcAJ4X+f17TeBBLwvQN2zKcEPjBkPAu/FtRr8RpgV+9GKvhi/DuJpqE6Ru2ZXhH6O3hifBO9HNRr1b99kTgt0foLaJJmL5h23PpEM7hwCIXaQj37BWt98GeJUzfcNHeYoVwb40IZ82xYnym+L8rPGPzd4ueGWZlZWVlLV1/AKJAT++xHHUNAAAAAElFTkSuQmCC'></img>"
             },
             "type": "node"
            },
            "True: 3"
           ],
           "instanceArgs": {
            "namespace": "html",
            "tag": "div"
           },
           "nodeType": "DOM",
           "props": {
            "style": {
             "display": "flex",
             "flex-direction": "column"
            }
           },
           "type": "node"
          },
          {
           "children": [
            {
             "children": [],
             "instanceArgs": {
              "namespace": "html",
              "tag": "div"
             },
             "nodeType": "DOM",
             "props": {
              "setInnerHtml": "<img src='data:image/png;base64,iVBORw0KGgoAAAANSUhEUgAAAHAAAABwCAAAAADji6uXAAAABGdBTUEAALGPC/xhBQAAACBjSFJNAAB6JgAAgIQAAPoAAACA6AAAdTAAAOpgAAA6mAAAF3CculE8AAAAAmJLR0QA/4ePzL8AAAIbSURBVGje7dg7iFNBGAXgz0ch4mPRwsZnYezWgIUKuyhYqeCCjTYWdjYiGC1st7JYUbARu0WslAVBRBBWfGAlWGhnIYqPZkVEVBBMLOYu9wp6k7hgJsMcCJmZ5Obk3MN/58xPRkbGoLFooT/QwF0swaYevr/4fytMn3DpQi6+jCNYg9uxKkyf8J/qcB1msAsdvMA+fIxRYfqEfddhA1PYWczP4ane/BuIwvQJ+/ZwLQ5U5m9xP2aF6RP25WED15UP4MO4FbvC9An78vAYNuIOTuDdMChMn7DnTPMETbzHfrwcFoXpE/ZUhxNChungBr4Pk8L0Cbt6OILxyvyTkGOqOIUNxfhMbArTJ+zq4U/sKP5ZGw8rn50WavOkskfTwnp/3yvTv6XxebhHqMM23ijPgU2M4VAx/yrU5zbcxFG8jkFh+oS1Hq7ElmL8AdeELNPAWWGfnMM9XMAqzGJ1TArTJ6z1cAwXi/FVTAp9tinhnP9FyDgtbMWVYm3Wn2twIArTJ6z1cLQynizeZ5R9tgk8wG48KtYuqc816d/SuDwcEQ6Q872YJjYXay3Bv2rvpiV4GJXC9Am7ZppO8ZpHu5iPChlnGV4JuedzjArTJ6zt01SfkePYjvNYUbl4DseF/luUCtMnrK3DH/iG5Xjs93qkzDS9+jcQhekTdu2XHhTO8nuVHk7jOZ4Je2LUCtMnzMjIyMjIyMjIyIgBvwC151YQSLFxqgAAAABJRU5ErkJggg=='></img>"
             },
             "type": "node"
            },
            "True: 6"
           ],
           "instanceArgs": {
            "namespace": "html",
            "tag": "div"
           },
           "nodeType": "DOM",
           "props": {
            "style": {
             "display": "flex",
             "flex-direction": "column"
            }
           },
           "type": "node"
          },
          {
           "children": [
            {
             "children": [],
             "instanceArgs": {
              "namespace": "html",
              "tag": "div"
             },
             "nodeType": "DOM",
             "props": {
              "setInnerHtml": "<img src='data:image/png;base64,iVBORw0KGgoAAAANSUhEUgAAAHAAAABwCAAAAADji6uXAAAABGdBTUEAALGPC/xhBQAAACBjSFJNAAB6JgAAgIQAAPoAAACA6AAAdTAAAOpgAAA6mAAAF3CculE8AAAAAmJLR0QA/4ePzL8AAAEUSURBVGje7dmhSkRBGEfxnyIrgtkgGGwiNqvBIsgG38onEINgF3waMRgEgyCIL6CwZQ13fYCZQZ35+E7ZDXc5HP7MTrgkSZIkSZKMz1rpw3eY4xBvFcL1vy6ML9woeXgLJ9jGOW5HKIwvLNrwE8/Yxc4ohfGFRRvCNU5xMEphfGHRfQh7eMUC+3jvvTC+sPgcMg0/wwVuei+ML6zacLn6nI1QmMIUpjCFv0/1fbis+eF/FMYXNt2HQxTGF1Zt+MPjCIXxhU0bvoxQmMIU9i9sOoebIxTGFzZtOMdV74XxhcUbfuDJ9P5wiML4wuINF/hafT+T57ADYdV/6QOOTe+Cuy+ML6za8BJHuB+hML4wSZIkaecbeyEXkGV2PBoAAAAASUVORK5CYII='></img>"
             },
             "type": "node"
            },
            "True: 1"
           ],
           "instanceArgs": {
            "namespace": "html",
            "tag": "div"
           },
           "nodeType": "DOM",
           "props": {
            "style": {
             "display": "flex",
             "flex-direction": "column"
            }
           },
           "type": "node"
          },
          {
           "children": [
            {
             "children": [],
             "instanceArgs": {
              "namespace": "html",
              "tag": "div"
             },
             "nodeType": "DOM",
             "props": {
              "setInnerHtml": "<img src='data:image/png;base64,iVBORw0KGgoAAAANSUhEUgAAAHAAAABwCAAAAADji6uXAAAABGdBTUEAALGPC/xhBQAAACBjSFJNAAB6JgAAgIQAAPoAAACA6AAAdTAAAOpgAAA6mAAAF3CculE8AAAAAmJLR0QA/4ePzL8AAAHmSURBVGje7dk9aBRRFMXxn6IpElQEGyU2NprERisrLfwACwtRFPyqxUY0oJWFCPZCsIiFVQjY2QgWFhYKFlai+AnGykILS0ETi/dgV5zd2U3AzFzeafbemTd79s/h7c7doaioqKioqKioqKioaOVas5KLpzGCCZzNx95iqs81a/83YXzDoTM8gN359XjFGyziIyabQhjfcF3dgq2Yx47cb8KYlN1L7K0gGGsSYXzDvhkewj1srzg3iW/Ygm24j/F87k2TCOMb9s3wmr/z+4nreIF3+dh3XNbJ7zPON4kwvmHPDI9gX1f/RcrmWcXa8a76obQ/G0MY37BnhtMYzfVz3PRvfptxFPu71j1qGmF8w54Zzkq/dT9wBl8r1lzErVy/xqke61aVML7hsufDY3iA9fiFq7jbRML4hsvO8DeWcn1J2reNJIxvWDsfVul2/qSLuX/aZML4hkNnOII9Un5L0lzxocmE8Q2HynAU53A49/OY09mPjSSMbzhwhhuk/2xO5v4KZgyX36oQxjcc+J5mAq9y/Qk720IY33CgfbhLmh3gvTTXt4YwvuFAGd7A6VzPYKFNhPENazOcwsZcz+JJ2wjjG9ZmeEH67lzAHZ3nFa0hjG9Ye09zEI9xQnom0TrC+IZF7dcfOdQ+4/dMdSIAAAAASUVORK5CYII='></img>"
             },
             "type": "node"
            },
            "True: 7"
           ],
           "instanceArgs": {
            "namespace": "html",
            "tag": "div"
           },
           "nodeType": "DOM",
           "props": {
            "style": {
             "display": "flex",
             "flex-direction": "column"
            }
           },
           "type": "node"
          }
         ],
         "instanceArgs": {
          "namespace": "html",
          "tag": "div"
         },
         "nodeType": "DOM",
         "props": {
          "style": {
           "display": "flex",
           "flex-direction": "row"
          }
         },
         "type": "node"
        },
        {
         "children": [
          {
           "children": [
            {
             "children": [],
             "instanceArgs": {
              "namespace": "html",
              "tag": "div"
             },
             "nodeType": "DOM",
             "props": {
              "setInnerHtml": "<img src='data:image/png;base64,iVBORw0KGgoAAAANSUhEUgAAAHAAAABwCAAAAADji6uXAAAABGdBTUEAALGPC/xhBQAAACBjSFJNAAB6JgAAgIQAAPoAAACA6AAAdTAAAOpgAAA6mAAAF3CculE8AAAAAmJLR0QA/4ePzL8AAAH8SURBVGje7dnPi05hFAfwD9HMUBZMVtQozGRDLCQLpbCQlRILZW3NzkJjJf/AlFGzFDaj1Ch78muSYpT8KCtFDIkQi3Pl9TbXfZlyH0/Pt27de8597/d++3bO+zznUlBQUFBQUFDw/2PBn9x8GHuwEcNV7Ab24W2Pz1j4rxXmT9iTh4MYF169wfUqvgNLMYMNqSrMn7AnD29jCGdxBq+r+AhuYglGqyM5hfkTNnq4C1O4gENz5EdxAs+xJkWF+RMuarphMR7jfE3+kvCwH8swm5rC/Akb67C/eqsPNflhPKzOj2IsNYX5EzbW4ceG/BM8EGuadSkqzJ+w0cMmfK6OZBXmTzhvD/tEv4V3KSrMn3DeHg75ud+f6ogPilnANlzEo7YU5k/41x72YRW2d8TGcAebsRyrRW2uxZG2FOZP2LguHcBKbMFW7OyId89mvuJFdT6BK3iFp20qzJ+wtg4HcFLM10a6crN4jy8dDxgXdXg3NYX5E9bW4VUxo/mEa6KWJqvrZ6LeZrBe7C82CV+TU5g/YW0d7ha+7cf0HD86Lf4PX+KA3vxrRWH+hLUefhPfKO53xfvFOnOvqMmDmvtnqwrzJ6ztpT/65ARW4J7omcfFXuKWmK1NN1K0rDB/wt+uS0/hWNdbXcY5v+4Fk1aYP2FBQUFBQUFBQQ74Dr4HTcm7N9jFAAAAAElFTkSuQmCC'></img>"
             },
             "type": "node"
            },
            "True: 2"
           ],
           "instanceArgs": {
            "namespace": "html",
            "tag": "div"
           },
           "nodeType": "DOM",
           "props": {
            "style": {
             "display": "flex",
             "flex-direction": "column"
            }
           },
           "type": "node"
          },
          {
           "children": [
            {
             "children": [],
             "instanceArgs": {
              "namespace": "html",
              "tag": "div"
             },
             "nodeType": "DOM",
             "props": {
              "setInnerHtml": "<img src='data:image/png;base64,iVBORw0KGgoAAAANSUhEUgAAAHAAAABwCAAAAADji6uXAAAABGdBTUEAALGPC/xhBQAAACBjSFJNAAB6JgAAgIQAAPoAAACA6AAAdTAAAOpgAAA6mAAAF3CculE8AAAAAmJLR0QA/4ePzL8AAAIGSURBVGje7dm7axVBFAbwX9SIksJGRW+hjQgKgmBhIYLhksoHov4DYidYCuILIwgWgvjEQsGAhY0gvkC00MpGRBvFLkHEIj7AQkx1LWYuRIh79xJJZof5YNmzh539+Pg4c2ZmKSgoKCgoKChoPgb+58eG8AItbMP4DO8smGuF+RMums3gFlbE+AeGsQUf8S0VhfkT9uXhJhzB2vi8HmtifB4bhcL+jMWpKMyfsC8Ph3Fo2vMU7qCNYzHXwW2lDucQtfvhGRzFEoxhEhfifTOeYjm+CnX6OxWF+RPWrsMhLMUETuBLzK/DcaEv/sKof/s3LwrzJ6xdh1txCxuE+fMwluEGdgprmnO4mJrC/Alr1+FbvBI8bGNE8Ku7phnFlRQV5k9Y28Mp/IzxatwTirgj1Of9VBXmT9jXunRihtwTYW3zKVWF+RPW9nAhtvu7gT7G7tQV5k9Y28O72CfMnV106g6eT4X5E/b0sIWD2C949gbvYm5lExTmT9jTwzbOxvgkrmKv4OH7JijMn7DSwx24HOM9eI5VOB1z401QmD9hpYcjwj7+JR5hELtibkA4V0teYf6ElR52pl2Dwhx6STiTuYnrTVCYP2Glh91/g5N4JuwtCL3wYVMU5k9Y6eGHeD8gzJ3fcU3oi41RmD9hpYdjwr/cU3iNB3qfaSenMH/CgoKCgoLZ4w9+lE1PRRbpxQAAAABJRU5ErkJggg=='></img>"
             },
             "type": "node"
            },
            "True: 8"
           ],
           "instanceArgs": {
            "namespace": "html",
            "tag": "div"
           },
           "nodeType": "DOM",
           "props": {
            "style": {
             "display": "flex",
             "flex-direction": "column"
            }
           },
           "type": "node"
          },
          {
           "children": [
            {
             "children": [],
             "instanceArgs": {
              "namespace": "html",
              "tag": "div"
             },
             "nodeType": "DOM",
             "props": {
              "setInnerHtml": "<img src='data:image/png;base64,iVBORw0KGgoAAAANSUhEUgAAAHAAAABwCAAAAADji6uXAAAABGdBTUEAALGPC/xhBQAAACBjSFJNAAB6JgAAgIQAAPoAAACA6AAAdTAAAOpgAAA6mAAAF3CculE8AAAAAmJLR0QA/4ePzL8AAAHGSURBVGje7dkxa9ZQGAXgp2q1gw7+A1G6KDi4KFJREKTaqY4q6Ci4qqAdFR3ERRDdHEqHQn+A4tg/IEitLtKhUERdLBUVUYc3QynaJv3A3u/lHgjhJjc5HA7nJiehoqKioqJXDPR6g/24j3EcxtsN5m/73wrzE+7o5eLjeI6PeIwPJSrMT7jpHI5hBk8xga+lKsxPuCkPh/EKsziHXyUrzE/Y2cMhsX4O4Qy+lK4wP2Hn5+EdHBVZ7OrflijMT9gph7uwINbRs/2iMD9hpxzexG7xDtM3CvMTdsrhLFYw2k8K8xO2zuEJHBM9fjVOiX44V6rC/IStPbyIebxvxlfwEHvxHddFzy9OYX7C1mvpD1wQvX4n3uEGXoiO+AznRe8oSmF+wlY5PNRM/NmMjwivZprxNEZwS/Ww1Byexkvh5Tz2iCx+XjXnIF5je2kK8xN26haLzX55nXPFKcxP2MrDARsH9qS/e7vlCvMTtvLwd7P9C4O4iskSFeYnbOXhGyzhEp6sOTfYHNuHyyUqzE/YysMl3BN9EKZwQPT92/gm/mF8KlFhfsJO39qu4YH49k08/x7hruiPRSrMT1hRUVFRUVFRkQF/AJxEP72fGtmtAAAAAElFTkSuQmCC'></img>"
             },
             "type": "node"
            },
            "True: 6"
           ],
           "instanceArgs": {
            "namespace": "html",
            "tag": "div"
           },
           "nodeType": "DOM",
           "props": {
            "style": {
             "display": "flex",
             "flex-direction": "column"
            }
           },
           "type": "node"
          },
          {
           "children": [
            {
             "children": [],
             "instanceArgs": {
              "namespace": "html",
              "tag": "div"
             },
             "nodeType": "DOM",
             "props": {
              "setInnerHtml": "<img src='data:image/png;base64,iVBORw0KGgoAAAANSUhEUgAAAHAAAABwCAAAAADji6uXAAAABGdBTUEAALGPC/xhBQAAACBjSFJNAAB6JgAAgIQAAPoAAACA6AAAdTAAAOpgAAA6mAAAF3CculE8AAAAAmJLR0QA/4ePzL8AAAG4SURBVGje7dg/SJVRHMbxj9GQQwjRVA1BNFiKg2EJbTW1RxIZRZtzEAStDUEtDQ3R5GL0h9yiJRdzMdClIZeGAiEjaEhq0IbzBhGk91yhe94f54HLhfPew/d+efjdw7nU1NTU1NTU1NTU1NTsPH3dbNqHC7iJA83aLdzuYO+u/20YH5jd4TjuYQybfz2bxtXSDOMDszrcj9cYxBpeYBaXcR4rGMHPkgzjA7M6nMdJvMK5P9aP4g324DSWSzKMD9yd8+H15n32H8+/SfNZlGF8YFaHfc3rqzRzR3AFo1jFRXwqzTA+MOu3dFU6ExebjaPN+gSelmoYH5g1h1+wFyekDjfxHe9KNowPzOrwOE7hEB43a8/VDnsM7OqOP4wlaQ6P4X3JhvGBWXP4O0PNN91og2F8YFcdrkv9zdn6Pl+EYXxgdoeDuIbPeIAPpRvGB2Z1OICXOIgbOr9P9NQwPjCrwztSfzO42xbD+MCOOzyLS9JZ+KRNhvGBHd0tDuOt9P/apHQnbI1hfOC2c9iP69JZ+MzO+uuJYXzgtnM4hftYwBn8aJthfOCWHY5Jc/cID/GxjYbxgTXtzy+taTuBUHHN0wAAAABJRU5ErkJggg=='></img>"
             },
             "type": "node"
            },
            "True: 9"
           ],
           "instanceArgs": {
            "namespace": "html",
            "tag": "div"
           },
           "nodeType": "DOM",
           "props": {
            "style": {
             "display": "flex",
             "flex-direction": "column"
            }
           },
           "type": "node"
          },
          {
           "children": [
            {
             "children": [],
             "instanceArgs": {
              "namespace": "html",
              "tag": "div"
             },
             "nodeType": "DOM",
             "props": {
              "setInnerHtml": "<img src='data:image/png;base64,iVBORw0KGgoAAAANSUhEUgAAAHAAAABwCAAAAADji6uXAAAABGdBTUEAALGPC/xhBQAAACBjSFJNAAB6JgAAgIQAAPoAAACA6AAAdTAAAOpgAAA6mAAAF3CculE8AAAAAmJLR0QA/4ePzL8AAAH1SURBVGje7dlPiE1RHAfwD15Wj0kpMtkI2VjMAlFsaBb2lCgl/9aiJJHSWMlOFqMpTdkpyRoLSWOhLFgMyoaNP6NYCYtzJ/dO974375nmnU7nW7fO79x3ft/7Pd/e/Z1zDxkZGRkZGRlLFiLJZtzCYXzs8tuli60wfcJWOViBNmbws4ck+7EHx3ENv2JSmD5h5X94FedxDjd6SLIbj4r2FkzHpDB9wlZd52W8w/15JlkTs8L0CWs9bGMCo3jRJUEbZ0rxQYzFpDB9woqH70vtlbiCI/jaIcEmbI9ZYfqElXq4DBeEd+ksTmO8Q4J1eIwNRZzr4WA9hCE8x8YifoV9+NyQYARTpTh7OPh6OIOn/nm4FetVPVyOU0X7QOwK0yesXdM8w9FSvBMvsau42rhYM+6NzrVzIArTJ2z8TjOJQx2e8nfDvZO4HZPC9AkbPZxb5+YO+tNwbwInYlKYPmGrn0HTgocPhfp5KWaF6RPO28Mv+IDruFvqH5E9HDBho4dvcUfY973GTWGf0Q2jWKV5bZP+lMbj4Xcc6yPhsLD3iEZh+oR91cMyvuET1pb6xoT9Y90ZVPpTGs+6tBfswD3V84sh/IhBYfqEC+IhbMMDrC7ivXgSg8L0Cf/7XTqLKeEM6qyw52g6s0p/ShedMCMjIyMjI4O/n2ZEjljqmL4AAAAASUVORK5CYII='></img>"
             },
             "type": "node"
            },
            "True: 4"
           ],
           "instanceArgs": {
            "namespace": "html",
            "tag": "div"
           },
           "nodeType": "DOM",
           "props": {
            "style": {
             "display": "flex",
             "flex-direction": "column"
            }
           },
           "type": "node"
          },
          {
           "children": [
            {
             "children": [],
             "instanceArgs": {
              "namespace": "html",
              "tag": "div"
             },
             "nodeType": "DOM",
             "props": {
              "setInnerHtml": "<img src='data:image/png;base64,iVBORw0KGgoAAAANSUhEUgAAAHAAAABwCAAAAADji6uXAAAABGdBTUEAALGPC/xhBQAAACBjSFJNAAB6JgAAgIQAAPoAAACA6AAAdTAAAOpgAAA6mAAAF3CculE8AAAAAmJLR0QA/4ePzL8AAAIXSURBVGje7dk7aFRBGAXgb1fRwkd8YCVYiaYQSZVSBcVKMIVlxG3USjstRNsIphFBLCzEdAEVrKxEgrFIp50LKlomYCFaRBC1mFnckN17N0bMOM6p5nFnzpw5/DP/vZeCgoKCgoKCxp+Y5AieohnLMxXPNv+2wvwJV+1hCxdwMK7+JaZwG99SUJg/4ao8bOE0DnWt/nss78WHFBTmT7h+pQO2YQT3sAsbY/vruPp9qSnMn3BFHo7hLI5bGnMwGdvupqYwf8KBPRzH/YqVNvq0r7nC/AkH8nAcN4W4W8Q8tmBH7F/EZ2y1NDaTUJg/Ya2HY0L8dbyZwzEhn+mcm1fwKLYlpzB/wkoPW0L8EWJtDhe7+l8J/t6J9QfCfTmaksL8CSs9vIZNsTyB6119s3ginKsdfMHX1BTmT9jXwxHhzmtiXY/+N33GNWpU5L+laXh4AA+xXX2O0o3N2FAzJv8tTcPDW9jzG5OdUn0XronC/Alr89LLA040jBux/F7IgZJQmD9hrYcfB5hkGI+xEwtCPM73eTb/LU3jm/czv75j0zunIdx/UzgZ6+9wAu2UFOZP2NPDo5jGUKzP4ocQa23hfG0I+cuocG5OCO/57Wq+/2BL0/AQDgu56ZDl37d1tc0IsTiVqsL8CSv/H+7GOVy13MMFPMd5fEpZYf6EA/0DPoNL2C/8J5zEW7z4FxTmT1hQUFBQUFDAT4dETtlq9h02AAAAAElFTkSuQmCC'></img>"
             },
             "type": "node"
            },
            "True: 0"
           ],
           "instanceArgs": {
            "namespace": "html",
            "tag": "div"
           },
           "nodeType": "DOM",
           "props": {
            "style": {
             "display": "flex",
             "flex-direction": "column"
            }
           },
           "type": "node"
          },
          {
           "children": [
            {
             "children": [],
             "instanceArgs": {
              "namespace": "html",
              "tag": "div"
             },
             "nodeType": "DOM",
             "props": {
              "setInnerHtml": "<img src='data:image/png;base64,iVBORw0KGgoAAAANSUhEUgAAAHAAAABwCAAAAADji6uXAAAABGdBTUEAALGPC/xhBQAAACBjSFJNAAB6JgAAgIQAAPoAAACA6AAAdTAAAOpgAAA6mAAAF3CculE8AAAAAmJLR0QA/4ePzL8AAAHTSURBVGje7djPi09RGMfx10zfpESZKBZMWShRJMpCKcosbK1mimZshiSys6DEQn4WU+wVFhb+AFnNbGYvmtnOlFlMiCKUxfmWrw3nfqfc4+l8Nrf71Ondp0/Pved5qKqqqqqqqqqqqmpfAys5PIwLOIMOnmL0L2cG/7XD+MC+M5zAXcxhCltwBTvxpiSH8YGNM1yFi7iMO7iJ99iLWWzFQkkO4wM7TQ+M4xrO435P/SiW/Dm/VhzGBzbqwyHpO/kKY/jerQ/jJdZgc2kO4wOz+7CDaanXTvuVHzzGNtwu0WF8YHaGx7Edh7HcUx/FAXzCrRIdxgdmZ3gSbzHTU9sk3U0HpX/juxIdxgdmZzgi3UW/dd/X4Tk24CFulOowPjArwyPd54vucwSPpDliHpfwsVSH8YFZGS7hC55hLTbiq3SpncKHkh3GB2bPFidwCot4ggfSjuaYlG+xDuMDG+9pBnAPkzgo7WaKdhgf2HhPcwhncV3z/FpxGB/YuA8X8QM7pJmweIfxgY36cJ80S5zTX36tOIwPzO7D1dJ8vx678Pl/cRgfmN2H49iNPfrPrxWH8YHZffhamgn3+33fXbzD+MDsPhzCVSvLrxWH8YFVVVXt6ych00L29U9E/wAAAABJRU5ErkJggg=='></img>"
             },
             "type": "node"
            },
            "True: 9"
           ],
           "instanceArgs": {
            "namespace": "html",
            "tag": "div"
           },
           "nodeType": "DOM",
           "props": {
            "style": {
             "display": "flex",
             "flex-direction": "column"
            }
           },
           "type": "node"
          },
          {
           "children": [
            {
             "children": [],
             "instanceArgs": {
              "namespace": "html",
              "tag": "div"
             },
             "nodeType": "DOM",
             "props": {
              "setInnerHtml": "<img src='data:image/png;base64,iVBORw0KGgoAAAANSUhEUgAAAHAAAABwCAAAAADji6uXAAAABGdBTUEAALGPC/xhBQAAACBjSFJNAAB6JgAAgIQAAPoAAACA6AAAdTAAAOpgAAA6mAAAF3CculE8AAAAAmJLR0QA/4ePzL8AAAGMSURBVGje7dmhS11hGMfxj2JyWFamQVgQBG+XFatNMM1gGxZZWdPFIRYHkwUNE/8DDTNYRLQtCgqOtVkGYltyyNBwDniT91zPRd/z8P7S88LlfM+XH8+5h3vJycnJycnJyWl++np1oY9YxRqWH/hc/1Mbxgf2pMMh/MIr3OA9tlMxjA8c6MUFFhX9wSV+pGQYH1h7D6dw3HaewX5KhvGBtfbwNb62nQ9xlJphfGCtPTzDRDn/xVscpGYYH1hrD1u4LedNnft7FsP4wEd3+EWxxLeKZ+hKqobxgY/qcAOziv5OMY/rVA3jA7vucFLR33B5/oarlA3jA7vu8B1GyvknvqduGB/Y1XvpB3xuu8tR/EndMD6w8h6OYqG8w//Y0n1/z2IYH1ipwzHsYbw8r2OpKYbxgZU6HHffH0WfjTGMD6zU4cu2+RjnTTKMD6z0TvNb8X0Ic9hpkmF8YMc9bOFFOX/CbtMM4wM7dvhG8R8v/HP/+2hjDOMDKz1LLzCIaZw0zTA+MCcnJyenfu4APw4t2kRtTgAAAAAASUVORK5CYII='></img>"
             },
             "type": "node"
            },
            "True: 1"
           ],
           "instanceArgs": {
            "namespace": "html",
            "tag": "div"
           },
           "nodeType": "DOM",
           "props": {
            "style": {
             "display": "flex",
             "flex-direction": "column"
            }
           },
           "type": "node"
          }
         ],
         "instanceArgs": {
          "namespace": "html",
          "tag": "div"
         },
         "nodeType": "DOM",
         "props": {
          "style": {
           "display": "flex",
           "flex-direction": "row"
          }
         },
         "type": "node"
        },
        {
         "children": [
          {
           "children": [
            {
             "children": [],
             "instanceArgs": {
              "namespace": "html",
              "tag": "div"
             },
             "nodeType": "DOM",
             "props": {
              "setInnerHtml": "<img src='data:image/png;base64,iVBORw0KGgoAAAANSUhEUgAAAHAAAABwCAAAAADji6uXAAAABGdBTUEAALGPC/xhBQAAACBjSFJNAAB6JgAAgIQAAPoAAACA6AAAdTAAAOpgAAA6mAAAF3CculE8AAAAAmJLR0QA/4ePzL8AAAGsSURBVGje7dmxS1VhGMfxj2EOGZRG5JAghDU4CEJQ/0ZDkltUNDr2BzQFlYGjSOCgIA0V1Ozi0CJERENB0JBRNBSBlKAO7wE1OHI9F+Q9D+8P7vDce16+/PhyX3g4lJSUlJR0m55uDi/iCm7gTYdnjh11w/jArhyu4io+YQybOTaMD2zscFhyd7ya+7GRY8P4wN6mB0/b9fccf3NtGB/YyGEv7u2Zl7CVa8P4wEYOH2OqLQ3jAw/t8A5utalhfOChHN7ELPqwhok2NIwPrHV4EuO4hMu4joHqt2m8xsc2NIwPrHU4jHlcrOZfmMNDfMb5tjSMD6x1+EH6H45W8298qXm2P+eG8YGNd/wzeIchaT+8lmvD+MDGO/5P6U4dwkrODeMDGzvcm/WcG8YHdu1wG99zbhgf2LHDUbu7xYZ0l87gAc5WnxO4j2d4mUvD+MADHfbhAm7jruQI/uEPBqt5GT+q50/hm+LwCFPr8ByeYPK/79el+/M93tacXcipYXxgrcMp+/29wiPpvW8n73qzaRgfWLsfjuAFvkp35dO2NowPLCkpKSkpKSmJkB2cezgZgNmgdgAAAABJRU5ErkJggg=='></img>"
             },
             "type": "node"
            },
            "True: 1"
           ],
           "instanceArgs": {
            "namespace": "html",
            "tag": "div"
           },
           "nodeType": "DOM",
           "props": {
            "style": {
             "display": "flex",
             "flex-direction": "column"
            }
           },
           "type": "node"
          },
          {
           "children": [
            {
             "children": [],
             "instanceArgs": {
              "namespace": "html",
              "tag": "div"
             },
             "nodeType": "DOM",
             "props": {
              "setInnerHtml": "<img src='data:image/png;base64,iVBORw0KGgoAAAANSUhEUgAAAHAAAABwCAAAAADji6uXAAAABGdBTUEAALGPC/xhBQAAACBjSFJNAAB6JgAAgIQAAPoAAACA6AAAdTAAAOpgAAA6mAAAF3CculE8AAAAAmJLR0QA/4ePzL8AAAIrSURBVGje7dlPiE5RGAbwH2YaYmNhQRPKKDaThY3FLNhYSEiUUDNZ2InVlwXjXzaalI2IkrLAgpVsGCFlY6PYTEMsTBI1M2omjSzO9/X9me+vxXz3O51nc89973vv03Of3nPfcy4JCQkJCQkJi1q9YT+WYitOYhS38RHvmrh/8UIrjJ+wKQ+XYRMuYgd6quR8wnPkMIm5rCiMn7Cuh/0YwE7sauGh5/EI77OgMH7CrnoXB3CtIvbF/BpbLcyvBQzjh+ThAqGrUcJj7MUEbuEKpityTuBqVhXGT1h3Ll0p1NwazOBzjbxteF1y/hvH8DALCuMnrFuHv/LHyRrXu3EZByriOdX9a4vC+AkbzqW1sB2nzO91xoV+JjMK4yf8Lw+HcANLKuIXhO/nRJYUxk/Ykof92IMzyv2bwRPcFdaJmVIYP2FTa/xu9Ak11pePzeFPfnwWI1lVGD9hU3WYE9btBbzCfVzvBIXxE9b1cLlQd4MlsVEcxbdOURg/YV0PB5Xv07zAPkx1ksL4CWt+DzfjKXrz589wBN+r5K4TavZSflzANE7jTTsVxk9YtQ634IGifzCGjYoenlPsTQ8r966AIeX+tUVh/IRVPRwT/iNtKIkdx0HFPZu1Gje1vVVi8b/S7MylPbgj+NYqhvFT+Dc8226F8RPW7GlmcQ+rhH21WviKQ/hQEpvC36wojJ+w4Rp/BXZjvdCzwE28zI/H8TbLCuMnTEhISEhISOAfDe9TlJxdm+cAAAAASUVORK5CYII='></img>"
             },
             "type": "node"
            },
            "True: 2"
           ],
           "instanceArgs": {
            "namespace": "html",
            "tag": "div"
           },
           "nodeType": "DOM",
           "props": {
            "style": {
             "display": "flex",
             "flex-direction": "column"
            }
           },
           "type": "node"
          },
          {
           "children": [
            {
             "children": [],
             "instanceArgs": {
              "namespace": "html",
              "tag": "div"
             },
             "nodeType": "DOM",
             "props": {
              "setInnerHtml": "<img src='data:image/png;base64,iVBORw0KGgoAAAANSUhEUgAAAHAAAABwCAAAAADji6uXAAAABGdBTUEAALGPC/xhBQAAACBjSFJNAAB6JgAAgIQAAPoAAACA6AAAdTAAAOpgAAA6mAAAF3CculE8AAAAAmJLR0QA/4ePzL8AAAGrSURBVGje7dm/S1ZRHMfxVz/IwukZGnJIeobWyCWkxkDQQcWhIfwDmp1cbAubHJsapC0K3BxqFRcFByfBoIagQRyC1AhquHd6eh483aJ7ni/ns1y433vvm8/9cM/3nHMpKioqKioqKioqal8X/sVDbmIbU9g/59qL/9thfODl1Atv4xSf+tRe4Du+5ugwPjApw3ms4ynWemqTeIhVfMzRYXxgUoaPseH3/GC2fsjbXB3GByZleB+vBtTG/FlTjf9K88twDFfxc0B9Ad9UvTJLh/GB52b4GccYxQjOeurXsIfDAfXWHcYHJo2lb7CE61jGh556F+/xDO9ycxgfmNTKOniJufqG16qxs4sHqnF2Sf85T+sO4wOTpyOX8EjV/27V5zoYV81NN/EjR4fxgX+1T7OoWjfewJdcHcYHJu/T9FN3GBzGBzb+DkewhSu4h5NcHcYHNv4OO7iL59Lza8VhfGDjDGfqY+oeW2sO4wMbZzhRH3dzdxgf2CjDO3ii6ofZO4wPbJRhR7Wu3xkGh/GBjTKcxhFWhsFhfGDjfngg7b996w7jA4uKitrXL92xMu+GFSrhAAAAAElFTkSuQmCC'></img>"
             },
             "type": "node"
            },
            "True: 4"
           ],
           "instanceArgs": {
            "namespace": "html",
            "tag": "div"
           },
           "nodeType": "DOM",
           "props": {
            "style": {
             "display": "flex",
             "flex-direction": "column"
            }
           },
           "type": "node"
          },
          {
           "children": [
            {
             "children": [],
             "instanceArgs": {
              "namespace": "html",
              "tag": "div"
             },
             "nodeType": "DOM",
             "props": {
              "setInnerHtml": "<img src='data:image/png;base64,iVBORw0KGgoAAAANSUhEUgAAAHAAAABwCAAAAADji6uXAAAABGdBTUEAALGPC/xhBQAAACBjSFJNAAB6JgAAgIQAAPoAAACA6AAAdTAAAOpgAAA6mAAAF3CculE8AAAAAmJLR0QA/4ePzL8AAAIISURBVGje7dk/bE1RHAfwD1pCm0oasXToQElYJMRgwmLoikVMRToZKEYRkwiJUSLRij/RgUmsQhgsDCQiFjZTNXmJ+FeG8yQ37/Xed5+X6OnJ+U7n97vnnG++93vP30tGRkZGRkZGxvLHiroV1+IAzmMHfheeTWCuWf6ANxX9rPzfCtMnLPVwK84V4nU4VKPDtziI97EoTJ+w1MNPGPnHThuYwckYFKZP2Ff24D5OFeJ5XMQJbOnQ6SD2YrswLpdUYfqElXPpj0L8UxiboziDq5htxsOLtJ8T5tQnS60wfcJSD4/gTofGm3Abu1vyX3EUD2NQmD5h7X0pDGCjMM/CEMZa6jQwiXuxKEyfsLaHA7iBwxV15nEMD2JSmD5hbQ9HhPWwChOYjk1h+oS1PRzGY+yqqPMZ43gVk8L0CbtaDzdjZyGeQX9LnSs4G5PC9Am78rAVa3ANxwu5X9iH57EoTJ+wr5fG33BX2Oesb+ZWqf4w0n+ly8tDwj6neBdwHS9jUpg+YU8ejgnjcEMh18D3mBSmT9jm4X5hjfuLSWG/STj/9Qv/ME4L/6JGY1eYPmGbh0PYVoifFsovhDFXduc9jWexKUyfsKu5dE9J/gsWcBnvYlOYPmGbhx9xU7jzXt2h8S3hLDEl+BilwvQJS48BU7i0SP4CXjfLjwQPo1aYPmFGRkZGRu/4Az3SRuouJzw/AAAAAElFTkSuQmCC'></img>"
             },
             "type": "node"
            },
            "True: 3"
           ],
           "instanceArgs": {
            "namespace": "html",
            "tag": "div"
           },
           "nodeType": "DOM",
           "props": {
            "style": {
             "display": "flex",
             "flex-direction": "column"
            }
           },
           "type": "node"
          },
          {
           "children": [
            {
             "children": [],
             "instanceArgs": {
              "namespace": "html",
              "tag": "div"
             },
             "nodeType": "DOM",
             "props": {
              "setInnerHtml": "<img src='data:image/png;base64,iVBORw0KGgoAAAANSUhEUgAAAHAAAABwCAAAAADji6uXAAAABGdBTUEAALGPC/xhBQAAACBjSFJNAAB6JgAAgIQAAPoAAACA6AAAdTAAAOpgAAA6mAAAF3CculE8AAAAAmJLR0QA/4ePzL8AAAIDSURBVGje7dlNqE5BHAbw33UvC1/J18LHRuwUi1tiZynJS5aKuimSlLIhKSlldXfKzUc2shAbKcnCQm/X0o6k2N2IcMUl12LOYnrfl/ervHOneTbn/P8zZ57zzNPMnJlDQUFBQUFBQcHcx1CrZA0nsLOqMBuV3cdDPMIKvMTXLgjn/W+F+RM2eVjDLSxq8+ArLMR7zFS5U3iWmsL8CUcaE6u09w82Vde1Ue4O9uN5SgrzJ2wahz/7fItfeIyD+JiCwvwJmzw8I/Q/1HGjuh/Fkep+I4bbNLwVL1JQmD/hUC8PHRPWQoLny1rUuYjzKSjMn7AnD2MsEdbPcezC4io/ie0pKMyfcKTfBr5gGk+wO8qPp6Iwf8K+xyFhLv0QxXXsw1QKCvMn7HscrsbNKP5dxVN/qZ9/l84dD4dxGGPYVuVmcBkTKSnMn7DnuXQMVxtyT4XzuaQU5k/Y9Tg8jeNYGeU+Ywt+pKgwf8KOPdyBk9iM9VG+Lsyfb1NVmD9hxx6uw4EonsYVXMKnlBXmT9ixhxca4gk8wPfUFeZP2NE3zXxhr7C0Rdk9fIvi68L8Oqv1+ph/l6bpYQ23saCLhidxVji/GajC/Ak73lscwlFhXVzzj3pvhPPwd9gg/I8cqML8CbveH44K+wjC+ejeqOwc7mI5XmMPrg1aYf6EBQUFBQX94w/NY0UX3LKr8AAAAABJRU5ErkJggg=='></img>"
             },
             "type": "node"
            },
            "True: 2"
           ],
           "instanceArgs": {
            "namespace": "html",
            "tag": "div"
           },
           "nodeType": "DOM",
           "props": {
            "style": {
             "display": "flex",
             "flex-direction": "column"
            }
           },
           "type": "node"
          },
          {
           "children": [
            {
             "children": [],
             "instanceArgs": {
              "namespace": "html",
              "tag": "div"
             },
             "nodeType": "DOM",
             "props": {
              "setInnerHtml": "<img src='data:image/png;base64,iVBORw0KGgoAAAANSUhEUgAAAHAAAABwCAAAAADji6uXAAAABGdBTUEAALGPC/xhBQAAACBjSFJNAAB6JgAAgIQAAPoAAACA6AAAdTAAAOpgAAA6mAAAF3CculE8AAAAAmJLR0QA/4ePzL8AAAGdSURBVGje7djPSxVRGMbxzzUTK2klrtSFG6PWLqVFGYo//gA3gruQlm5DIf8RQWghoW2CVrlpGQQtEkvFcOMqXFRCqIsz0F3dOyl4Zw7vF4bhzJyZh4eHd857hiAIgiAIgiAIgiCgcd0X3MJI0/gIZy3md920w/wFGzCHtyUfuI9nWEQPbmO86f5LvKqSw/wFG3AHv1tMGsAERvHYv8w+YRszGCuu/cHdKjnMX7Cb1vnBBzyQAr8ozm/wHCc4ljJsYL1qDvMX7C4z6ULK+TPW8AU/cI5lrBTz9rFaNYf5C5bqaSbxrTiamcNr9OIQT3BQNYf5C165L12W+pd7Uk0+xV4VHeYveKUMZ7Ep9aT7eIF3VXWYv2Cp9bCZaWxI+R1hSrn665jD/AX/qw6nsSXt679L+8R261/HHeYvWDrDWan++orxQ3ytg8P8BUt9S4ekfy990n5wCbt1cZi/YNs67Jf+xwxK698CdurkMH/BtnX4SMrvL+bxsW4O8xdsm+FP/MJ718+vIw7zFyzV0wxLWZ7W0WH+gkEQBEEQcAkyqDoVGQFlagAAAABJRU5ErkJggg=='></img>"
             },
             "type": "node"
            },
            "True: 7"
           ],
           "instanceArgs": {
            "namespace": "html",
            "tag": "div"
           },
           "nodeType": "DOM",
           "props": {
            "style": {
             "display": "flex",
             "flex-direction": "column"
            }
           },
           "type": "node"
          },
          {
           "children": [
            {
             "children": [],
             "instanceArgs": {
              "namespace": "html",
              "tag": "div"
             },
             "nodeType": "DOM",
             "props": {
              "setInnerHtml": "<img src='data:image/png;base64,iVBORw0KGgoAAAANSUhEUgAAAHAAAABwCAAAAADji6uXAAAABGdBTUEAALGPC/xhBQAAACBjSFJNAAB6JgAAgIQAAPoAAACA6AAAdTAAAOpgAAA6mAAAF3CculE8AAAAAmJLR0QA/4ePzL8AAAHASURBVGje7di7axVBGMbhJxpv0c4LQhAR0ihGNJUQIgS0EAQrG0EtRBCENAn+BRrURrRTC21EsLNOZ8AiiKSJigjeOrXTRrwkxU5wTzgxe44g4/D9YNmZb3f25d2X3Z1ZgiAIgiAIgiAI/p6edsWNWI9j2L/CBW7iTQeCq/61w/IFWzI8ieG0DTa8wGuM4GOuDssXbMlwHr/S9iHVpvEJL5YM3Iux1J7A9Vwdli/YW++8wjdcwsM/DNqBQ7X+u5wdli/Y0+mAXap8h1L/Ec7gS64OyxdsnGEfDuM2ttbq+zCXs8PyBRtneA3jberT+JraT3EPb3NyWL5gb9MTB5apj9TaR7FbNb/9mYvD8gUbP4d7sHlJbRtO4S524irW4glG8SMHh+ULdjynWWQYl3Ea71NtCLfSfhDPc3BYvmDjd2mdg7iCi37nB89wX5XhFPpzcFi+YFcZTmADXrY5NoPv2J6Lw/IFu8pwCw7gASbxONVP4DjW5OSwfMGuMpxVzUePqL6Ln1O9H6tT+2wuDssX7GpOsw43cG6Z43dwQfv1Rfm39P/IkGoNsQnnta45ZlT/4uZzcVi+YBAEQRAEQQksAP7COYaEI4fdAAAAAElFTkSuQmCC'></img>"
             },
             "type": "node"
            },
            "True: 3"
           ],
           "instanceArgs": {
            "namespace": "html",
            "tag": "div"
           },
           "nodeType": "DOM",
           "props": {
            "style": {
             "display": "flex",
             "flex-direction": "column"
            }
           },
           "type": "node"
          },
          {
           "children": [
            {
             "children": [],
             "instanceArgs": {
              "namespace": "html",
              "tag": "div"
             },
             "nodeType": "DOM",
             "props": {
              "setInnerHtml": "<img src='data:image/png;base64,iVBORw0KGgoAAAANSUhEUgAAAHAAAABwCAAAAADji6uXAAAABGdBTUEAALGPC/xhBQAAACBjSFJNAAB6JgAAgIQAAPoAAACA6AAAdTAAAOpgAAA6mAAAF3CculE8AAAAAmJLR0QA/4ePzL8AAAHmSURBVGje7dlBiE1hGMbxH83GbGQxlFA2MzWNKMpOQxZioSxkodhgo7Ci7JSNNNsJWVqaoRiNhbKxUgq72SjZjERJlGay+M50b7dzr+uecs95+57NOfd7+/rf5z59nfc9l6ysrKysrKys5mvdIJsmcRlbcQyP8aqo3cW3HnvX/2+H8YEDZTiDS11qX3Edd+riMD5woAw/SmcQ3uBTW+0QXuNgXRzGB45U2byEo1guPm+R8tuNs3iKz8N2GB9YKcMfWvltwjmt83kfD3Fy2A7jAytluB0H8B7PsK+ttopHdXAYH1j5eVimD7ilvK+J/5M26xx26h2O4At+18VhfOA/ZziBDR1rqziPeb1nw6E4jA/sO8MRaV64J/Uv8B2LuIm3dXUYH9jX83Cn1HNe7Vi/iNm6O4wP/Os53Is5bCupLTXBYXxgzwz3SPPBWg+6gic43iSH8YE9M3ygld8Cbku55gxrBeya4WmMS+/ODuOXNC9caJrD+MDSDCdwo/g2K1L/uaYTxXVZ6z1brR3GB5ZmuBFjxf1CcR3HmbYN8/qfJ4bqMD6wNMNpjBb3V7AfU9hRrL3EtaY4jA8snQ+n8Fz6L6lTP3FK6k8b4TA+sOuMv0vKcXPb2qLUm75oksP4wKysrKys6voD1xJDLrDjwQgAAAAASUVORK5CYII='></img>"
             },
             "type": "node"
            },
            "True: 8"
           ],
           "instanceArgs": {
            "namespace": "html",
            "tag": "div"
           },
           "nodeType": "DOM",
           "props": {
            "style": {
             "display": "flex",
             "flex-direction": "column"
            }
           },
           "type": "node"
          }
         ],
         "instanceArgs": {
          "namespace": "html",
          "tag": "div"
         },
         "nodeType": "DOM",
         "props": {
          "style": {
           "display": "flex",
           "flex-direction": "row"
          }
         },
         "type": "node"
        }
       ],
       "instanceArgs": {
        "namespace": "html",
        "tag": "div"
       },
       "nodeType": "DOM",
       "props": {
        "style": {
         "display": "flex",
         "flex-direction": "column"
        }
       },
       "type": "node"
      },
      "text/html": [
       "<div\n",
       "    class=\"webio-mountpoint\"\n",
       "    data-webio-mountpoint=\"116203420070600847\"\n",
       ">\n",
       "    <script>\n",
       "    if (window.require && require.defined && require.defined(\"nbextensions/webio/main\")) {\n",
       "        console.log(\"Jupyter WebIO extension detected, not mounting.\");\n",
       "    } else if (window.WebIO) {\n",
       "        WebIO.mount(\n",
       "            document.querySelector('[data-webio-mountpoint=\"116203420070600847\"]'),\n",
       "            {\"props\":{\"style\":{\"display\":\"flex\",\"flex-direction\":\"column\"}},\"nodeType\":\"DOM\",\"type\":\"node\",\"instanceArgs\":{\"namespace\":\"html\",\"tag\":\"div\"},\"children\":[{\"props\":{\"style\":{\"display\":\"flex\",\"flex-direction\":\"row\"}},\"nodeType\":\"DOM\",\"type\":\"node\",\"instanceArgs\":{\"namespace\":\"html\",\"tag\":\"div\"},\"children\":[{\"props\":{\"style\":{\"display\":\"flex\",\"flex-direction\":\"column\"}},\"nodeType\":\"DOM\",\"type\":\"node\",\"instanceArgs\":{\"namespace\":\"html\",\"tag\":\"div\"},\"children\":[{\"props\":{\"setInnerHtml\":\"<img src='data:image\\/png;base64,iVBORw0KGgoAAAANSUhEUgAAAHAAAABwCAAAAADji6uXAAAABGdBTUEAALGPC\\/xhBQAAACBjSFJNAAB6JgAAgIQAAPoAAACA6AAAdTAAAOpgAAA6mAAAF3CculE8AAAAAmJLR0QA\\/4ePzL8AAAIKSURBVGje7dpPiI1RGMfxzyAL8qfZmFISi1EiFigpSZJiMbGhbLBDVjZ2FqSwQBazUhayxYryd6FuTf5syN6fHYM0yGDxvJPr3tu9c2eKc0\\/nW29v5z3ve3\\/93qdz3uc551IoFAqFQqHQ+\\/R1+8BMLKhrH8EcDOIwzmEvvuIMTjY8P+NfO8xfcFanG5ZgNjZiExZid4v7XuMihvAZz\\/EwBYf5C7Ydh2tx19\\/jrhU\\/cQBfqvZbfMCrFBzmL9g2hv2oYVmLvhpGsQXfdY7zf3OYv2DbufQ9jmMnnoq5Ep5hmxh3K3EsZYf5C04qp5kvvnHDOIj9uNYrDvMX7JjTwKfq\\/LE6H8J18R1M3mH+gl3VFnNxC5uxA3d6wWH+gl3Xh8vxROQz9zGCy\\/iVqsP8BbuOIVEDXsG8qn0CV\\/EuRYf5C04phrAK57G1ag\\/jFN6k5jB\\/wSnHkFiz2SXGZB\\/uiZojKYf5C04rhhN8EwnuD2zHg5Qc5i84qdqiFauxB+vqfuQFHqXmMH\\/BrmM4iKMirxmouz4ucppONWP+rzTduXQA+8T+0tKGvhGRz9xM0WH+gh1juEisiV7Cioa+Gs7ihsmv2eT\\/StOJYb+oF9Zo3rd4LOqK2xhL3WH+gk0x3CD2KtZjcUPfGC7gtD97hck7zF+wKacZqo4JXoo10nHxP4vRXnOYv2ChUCgUps9vDE1MYMzifHwAAAAASUVORK5CYII='><\\/img>\"},\"nodeType\":\"DOM\",\"type\":\"node\",\"instanceArgs\":{\"namespace\":\"html\",\"tag\":\"div\"},\"children\":[]},\"True: 5\"]},{\"props\":{\"style\":{\"display\":\"flex\",\"flex-direction\":\"column\"}},\"nodeType\":\"DOM\",\"type\":\"node\",\"instanceArgs\":{\"namespace\":\"html\",\"tag\":\"div\"},\"children\":[{\"props\":{\"setInnerHtml\":\"<img src='data:image\\/png;base64,iVBORw0KGgoAAAANSUhEUgAAAHAAAABwCAAAAADji6uXAAAABGdBTUEAALGPC\\/xhBQAAACBjSFJNAAB6JgAAgIQAAPoAAACA6AAAdTAAAOpgAAA6mAAAF3CculE8AAAAAmJLR0QA\\/4ePzL8AAAIWSURBVGje7dlPiE1RHAfwzwx5jWQWNtRkxw6vNxErskRRFpLMVklNkbJAVhb+LFCipIgiWRDJZuqtbPzb20kpTMKkKHMtzpVHc999b5TOnM63Tt13zv3db9\\/z7fc7v3sfGRkZGRkZGQP\\/EjyKAxjDdVzA85qYwf+tMH3CWXvYxAQWd8x9wpLYFKZPOH82QetwF8Mo8AXfBf824Fn5OwqF6RP2lYcL0cINjJTBhVA\\/T+FWOXcMJ2NRmD5hX3l4GbtnmG9hEdrYhFUxKUyfsGcPR7HV78Rt4wFO4y1e4CM2657c6W9pnLW06c\\/+5ZGQjxuxGlfwvlz7ga\\/l2kw9avpbGl8ersRhoX\\/5IOTcNUzhYTn+xhAOYU8MCtMn7OphA2ewReg9x\\/BU8KgOy2NRmD5hVw9bgn+wXTgD55zC9Am7enhWODDbevdvENOqD9r0tzQeD7cJvUyB+308cLqMeRmLwvQJKz0cwgK8w+0eHtTAifJ6AkdiUZg+YW1f+k3oRbuhgaNC\\/\\/pGqMFTsShMn7DWw7o62hS824V72BmbwvQJKz0cKMcOjFfcc1DIv2HcFN49olOYPmGlh0U5luI8rmIS67EXa4Tv3q\\/xGBdjVZg+YW0tnYf9Qo38jBUda0+E\\/uV4zArTJ6z8XjqCO1jbcWNRXk8K\\/zON6x\\/pb2k8HsIy7BPOvF8ensMlvJorCtMnzMjIyMjIyOAnQ85TpVMJlhIAAAAASUVORK5CYII='><\\/img>\"},\"nodeType\":\"DOM\",\"type\":\"node\",\"instanceArgs\":{\"namespace\":\"html\",\"tag\":\"div\"},\"children\":[]},\"True: 0\"]},{\"props\":{\"style\":{\"display\":\"flex\",\"flex-direction\":\"column\"}},\"nodeType\":\"DOM\",\"type\":\"node\",\"instanceArgs\":{\"namespace\":\"html\",\"tag\":\"div\"},\"children\":[{\"props\":{\"setInnerHtml\":\"<img src='data:image\\/png;base64,iVBORw0KGgoAAAANSUhEUgAAAHAAAABwCAAAAADji6uXAAAABGdBTUEAALGPC\\/xhBQAAACBjSFJNAAB6JgAAgIQAAPoAAACA6AAAdTAAAOpgAAA6mAAAF3CculE8AAAAAmJLR0QA\\/4ePzL8AAAGlSURBVGje7dixS5VRHMbxj3IJWhILESGCBmmzqSEHCy5EtDcpbhr0bzQFzk0ODjVGOjU0OVmko5EJQVJDWyAkgVDDe8Dee68k773kuT\\/Osxzuue99vuc5D+d9uS9FRUVFRUVFRcOvkUEbtvECd7DX4\\/vR\\/50wPrDVOTGHK3jV0PAWtnNKGB\\/Y1eFdTGvW4Siu45rTD3j8LT3\\/Dhex1dBsCkt4jo+5JIwP7OqwnxWspnE\\/p4TxgbUOZzDZh9lYGt\\/klDA+sNbhA1xsaDSpehbCt5wSxgfWOryRxt0GRiuqHj\\/hMKeE8YGtXpPvz\\/jjS7iPBdxLc0\\/wI6eE8YE9O7zc8flmWlkbV3EB82nuCO\\/wK5nt5JYwPrD2N+4ZHqnO0cFf8zPpwmP8xAdVb9vYxHd8xbiq36wSxgfWzuFjfMFsx0UH2FB197aHyTIm8DnHhPGBXffSpw1M2ml8mWPC+MBW\\/xYnWs8xYQEWYP7AgZ3DEdW78n+9a42\\/pcPb4e8zrj7+lg5vh3Aba7kljA8c6L00y4TxgQPp8DUe5powPrCoqKioqH\\/9ATeSLmyCLr3XAAAAAElFTkSuQmCC'><\\/img>\"},\"nodeType\":\"DOM\",\"type\":\"node\",\"instanceArgs\":{\"namespace\":\"html\",\"tag\":\"div\"},\"children\":[]},\"True: 4\"]},{\"props\":{\"style\":{\"display\":\"flex\",\"flex-direction\":\"column\"}},\"nodeType\":\"DOM\",\"type\":\"node\",\"instanceArgs\":{\"namespace\":\"html\",\"tag\":\"div\"},\"children\":[{\"props\":{\"setInnerHtml\":\"<img src='data:image\\/png;base64,iVBORw0KGgoAAAANSUhEUgAAAHAAAABwCAAAAADji6uXAAAABGdBTUEAALGPC\\/xhBQAAACBjSFJNAAB6JgAAgIQAAPoAAACA6AAAdTAAAOpgAAA6mAAAF3CculE8AAAAAmJLR0QA\\/4ePzL8AAAF\\/SURBVGje7dixShxRGIbhxyVgYaEhglhlr0C8gC1SJGKRwsqU5gbSCVqksQukEkkdsU\\/hBSjaLHgH2ggpUsTKwsrCpJiBXYVkZ3YX58zP+apzYJh3Xz7+M4clJycnJycnJ6f9mZnWiz5jDx28wfk\\/nus8t2F84ItpvOQjdvFQ7v+kZBgfOJUOX2M2VcP4wIk7fItP5foS7\\/E7JcP4wIk67OEQ8+X+K36mZhgfOFGHW1gu12c4StEwPnDse+mi4sx8wC0+4DRFw\\/jAseawix9D+wPV+mvEMD5wrA7XsVKuT7CfsmF8YO2zdENxj5lDH5v+fw9t3DA+sNYcdj0+Q6\\/V668Rw\\/jAWh3uGPwXA1\\/aYBgfWLnDVawN7Y9x1QbD+MDK38MbvCzXF4p7zV0bDOMDK8\\/hK4Nz9Jvx+mvEMD6wUoffn\\/yyfpsM4wNHdriKd4oZvFfMYN27aKOG8YEjO1zAUrn+he22GWZgBqYPHDmHl4rvX6+thvGBOTk5OTmT5y9D7yxecgVygwAAAABJRU5ErkJggg=='><\\/img>\"},\"nodeType\":\"DOM\",\"type\":\"node\",\"instanceArgs\":{\"namespace\":\"html\",\"tag\":\"div\"},\"children\":[]},\"True: 1\"]},{\"props\":{\"style\":{\"display\":\"flex\",\"flex-direction\":\"column\"}},\"nodeType\":\"DOM\",\"type\":\"node\",\"instanceArgs\":{\"namespace\":\"html\",\"tag\":\"div\"},\"children\":[{\"props\":{\"setInnerHtml\":\"<img src='data:image\\/png;base64,iVBORw0KGgoAAAANSUhEUgAAAHAAAABwCAAAAADji6uXAAAABGdBTUEAALGPC\\/xhBQAAACBjSFJNAAB6JgAAgIQAAPoAAACA6AAAdTAAAOpgAAA6mAAAF3CculE8AAAAAmJLR0QA\\/4ePzL8AAAHwSURBVGje7dnPi41RHMfx10j5kSShbCwMG2QjWRkbsZNYjAWFnYWdkpKN8QfY2LAgqWlEyWxk49dmyk4ZJVaajZKUSJlr8T23mabmzr2Pmnvu6Xw29\\/l1nvf93M\\/9PufHQ1VVVVVVVVVVVVVV1f9rqNcGB3AGI9idjl3CDA7iPqY6tF+x3A7LB\\/aU4ShuYlNq+AKbsWvezR7iVE4Oyweu7Pai\\/biNtXiF63iDVZjAkXTt29wclg\\/sKsPTuJO2n4t6\\/JH2R83l9wX3cnNYPnDJZ+kYrqCFW7hqLj+Yxs60fRJPcnNYPrBjHV4T+f3BM1zGr3Rutai\\/beKPMGbp\\/PrisHzgonW4AR\\/E+GUSx+ed24EH2Jf2H+E8fubosHzgohluEfMF2I7fOIdj2IN14vnawgk8zdVh+cCOdTgt5g5DIqu2ZtKxrfiaPrN1WD5w0f7wu3h+TmIjPon+7i6+YVxkN567w\\/KBHcc0U6IOF2oEhzCLz7k7LB\\/Y1fxwodaI\\/FpqHWYA7Hm9tK2\\/IsN2n5itw\\/KBjerw6CA5LB\\/YKMPhQXJYPrBRhq\\/TN50dBIflAxtl+A4fxdx\\/WO0P+wxsPKY5K95lvMRFvM\\/VYfnAxhmuF+8ND+OxWIer66V9ATbOkMjxBi5gr+5qsfyfdNmBVYOvfxOISKianOH0AAAAAElFTkSuQmCC'><\\/img>\"},\"nodeType\":\"DOM\",\"type\":\"node\",\"instanceArgs\":{\"namespace\":\"html\",\"tag\":\"div\"},\"children\":[]},\"True: 9\"]},{\"props\":{\"style\":{\"display\":\"flex\",\"flex-direction\":\"column\"}},\"nodeType\":\"DOM\",\"type\":\"node\",\"instanceArgs\":{\"namespace\":\"html\",\"tag\":\"div\"},\"children\":[{\"props\":{\"setInnerHtml\":\"<img src='data:image\\/png;base64,iVBORw0KGgoAAAANSUhEUgAAAHAAAABwCAAAAADji6uXAAAABGdBTUEAALGPC\\/xhBQAAACBjSFJNAAB6JgAAgIQAAPoAAACA6AAAdTAAAOpgAAA6mAAAF3CculE8AAAAAmJLR0QA\\/4ePzL8AAAIeSURBVGje7dhNiI1hGAbgizHTZAwlv8spiowFkcaGjYjyV5LYKNRsJspPNhpKoixkz9KKrCZJlDIWFrOkUFPK1KQooZn8LZ5vOqfpmPmMMt+8vXd99f6c59zffe6e9zzPS0ZGRkZGRkbGzMesfwluxzzswhJcx8gkMbP\\/t8L0CedMJagDZ9GFzrr1ZeipmsL0Cf8qD1fhJI6gtQh+h89YjQ\\/YildVUpg+Yak8XICrOCjOzzG8xna04CUWFU+lFKZPWMrDfTg2bu0ttok8XFllhekTlvLwQN14EC9wTvhHnLGVVZg+YSkPj+MEHuINhsftL62ywvQJS3n4Hr0T7HdVWWH6hFPqLXrQJurSX1hbrPfjedUUpk9YureYizW4gJ11b\\/uzGA9hi6h1KqUwfcJJ87AZ63AXy\\/FN+NWPHcJbaMJ+3MBolRSmTzhhHrYIn+4V84t4jGdYWIw7x8Ucxn1\\/vnNL\\/yetjofNuIQzxfyBuJ\\/5hMXow3qRc9eEl3uKzz4q1j4W84HpVJg+YUMPm3AZp\\/EF53FHeLIRN7FB9BndeIL52CzycLeoeYgesmM6FaZP2NDDbuHTV7W+cBOOinqmVeTobbU+vx6HhJdwStzJTZvC9AkbejgkzssRcX\\/dhhV1+724gh8zQWH6hA09HFDr+cbQh6eiXhnE95miMH3Chh62Y6+oWYZxS\\/wXjpb+2gopTJ8wIyMjIyMjIyMF\\/AZmoFKjiAQ4zwAAAABJRU5ErkJggg=='><\\/img>\"},\"nodeType\":\"DOM\",\"type\":\"node\",\"instanceArgs\":{\"namespace\":\"html\",\"tag\":\"div\"},\"children\":[]},\"True: 2\"]},{\"props\":{\"style\":{\"display\":\"flex\",\"flex-direction\":\"column\"}},\"nodeType\":\"DOM\",\"type\":\"node\",\"instanceArgs\":{\"namespace\":\"html\",\"tag\":\"div\"},\"children\":[{\"props\":{\"setInnerHtml\":\"<img src='data:image\\/png;base64,iVBORw0KGgoAAAANSUhEUgAAAHAAAABwCAAAAADji6uXAAAABGdBTUEAALGPC\\/xhBQAAACBjSFJNAAB6JgAAgIQAAPoAAACA6AAAdTAAAOpgAAA6mAAAF3CculE8AAAAAmJLR0QA\\/4ePzL8AAAExSURBVGje7dkxSgRBEIXhTzEy8gQiaqCJRt5CDY2MNRMvIHgFwUC8w17CM+i6CAbGxobOGuzCTtotrj1FvWgapvn79aN6qhlSqVQqlUqtlE64wxWecYyPwvmry3YYH7hW8vIWztFhH3sywwaARRl+4gmnQ3IYH1iU4Zfyuvt3h\\/GBRRlu4HBoDuMDizJcx2ZvfISJstqMv6VLBxb3pTe4xXQ+vsZ9yw7jA4szhG+ZYUPAorO0v8puKA7jA6sy7CzqsHmHCUxgAhP496rqaaYW38MRzlp2GB\\/4674UDjBu1WF8YFVP84DL3vjC7I7RpMP4wKoMJ0NyGB9YdZbCG3Z6q97Fe4sO4wOr6hBesD1\\/Lrnvx9\\/S4WT4iJMhOIwPrM5wjFez\\/\\/lNO4wPTKVSqVQqxQ\\/pmiThuHbDZQAAAABJRU5ErkJggg=='><\\/img>\"},\"nodeType\":\"DOM\",\"type\":\"node\",\"instanceArgs\":{\"namespace\":\"html\",\"tag\":\"div\"},\"children\":[]},\"True: 1\"]},{\"props\":{\"style\":{\"display\":\"flex\",\"flex-direction\":\"column\"}},\"nodeType\":\"DOM\",\"type\":\"node\",\"instanceArgs\":{\"namespace\":\"html\",\"tag\":\"div\"},\"children\":[{\"props\":{\"setInnerHtml\":\"<img src='data:image\\/png;base64,iVBORw0KGgoAAAANSUhEUgAAAHAAAABwCAAAAADji6uXAAAABGdBTUEAALGPC\\/xhBQAAACBjSFJNAAB6JgAAgIQAAPoAAACA6AAAdTAAAOpgAAA6mAAAF3CculE8AAAAAmJLR0QA\\/4ePzL8AAAH9SURBVGje7dk9aFRBFAXgLyFBsFBMp4Uogo1aaCf4V5gERLQSAlEiip2ipVrbClZaCBb2QqIYEEEEsQ9oa6WFCjYJGP8wFvMk+zNv94WAOw5zqtl37+zZw+HO3vuGgoKCgoKCgoL\\/H0NrSd6NURzBXfyO5MxhCj9qvmP4XyvMn7CRh3twHmeqX7it2rhSk\\/8Q17CYgsL8CRt5+BgnIhtXeuw5itcpKMyfcKRJ0nOrHn7GA+0eHhQ8S1Jh\\/oSN6nAEW6v1T3zsiG\\/CW+GMhVlM43sKCvMnbFSHv\\/C+R3wSW1o+fxD3byAK8ydcU18awxQuaT9Lx8T7mYEozJ+wUR3GMI0b2CXMG3+xIJy3ySjMn7CRhztwDsdbnh3S3pcu4jrmsZySwvwJ+56l+4S5fXtkY6uHT3E6RYX5EzaqwyHdZg9rf09zUpg\\/5lNTmD9hXw\\/f4BjO4hm+dcQv4krKCvMnXHdfuhlfqvUppQ5TrMN+mExdYf6EtR6OYgIv1PeZF3AndYX5E0Y9PIybGMdO3e9oxoT+5TY2Vs+W9Z4pBqYwf8Lo\\/+EC9lbre1jqiI\\/jgNXZ4mWV9yhFhfkT9vWw18ZPeIKruvvVZBTmTxj1cD8uYyYSe4eveIX7wuyRtML8CWtniw3C3f0t4U5iVrhHnNN995S0wvwJCwoKCgrWjz\\/TA0jz9\\/U8JAAAAABJRU5ErkJggg=='><\\/img>\"},\"nodeType\":\"DOM\",\"type\":\"node\",\"instanceArgs\":{\"namespace\":\"html\",\"tag\":\"div\"},\"children\":[]},\"True: 3\"]}]},{\"props\":{\"style\":{\"display\":\"flex\",\"flex-direction\":\"row\"}},\"nodeType\":\"DOM\",\"type\":\"node\",\"instanceArgs\":{\"namespace\":\"html\",\"tag\":\"div\"},\"children\":[{\"props\":{\"style\":{\"display\":\"flex\",\"flex-direction\":\"column\"}},\"nodeType\":\"DOM\",\"type\":\"node\",\"instanceArgs\":{\"namespace\":\"html\",\"tag\":\"div\"},\"children\":[{\"props\":{\"setInnerHtml\":\"<img src='data:image\\/png;base64,iVBORw0KGgoAAAANSUhEUgAAAHAAAABwCAAAAADji6uXAAAABGdBTUEAALGPC\\/xhBQAAACBjSFJNAAB6JgAAgIQAAPoAAACA6AAAdTAAAOpgAAA6mAAAF3CculE8AAAAAmJLR0QA\\/4ePzL8AAAEhSURBVGje7dixSQRRFEbhb8VFTBTRQDAwMNFQzbQFEeswtAhrsAoLMBE0sAMx1UDESCNBFtZkGpg34N653APLi4bD4Wd4w1IURVEURTF+Jn0fmOIE1zhtEC79d2F+Ye8Nt\\/CJDxx1Z+jC\\/MLl1ge3u19tuHBh84a9X+BFFeYXNm84x+oYCvMLmzeEYzxFL8wv7L3hDN9Yx94YCvMLe2\\/4hUecjaWwhCWMLxx0H26OoTC\\/cNCG52MozC9s2vBe3YeBhE0bvnXnFLt4jVyYX9i04aw7J1iJXphf2PqXmWfs4waXkQvzC5u\\/ae6wg6vohfmFg75L5\\/iNXphfOGjDNVzgNnJhfmHzffiODRziJXJhfmHze\\/iAA\\/xEL8wvLIqiKIbzB7rCGnmE+s7vAAAAAElFTkSuQmCC'><\\/img>\"},\"nodeType\":\"DOM\",\"type\":\"node\",\"instanceArgs\":{\"namespace\":\"html\",\"tag\":\"div\"},\"children\":[]},\"True: 1\"]},{\"props\":{\"style\":{\"display\":\"flex\",\"flex-direction\":\"column\"}},\"nodeType\":\"DOM\",\"type\":\"node\",\"instanceArgs\":{\"namespace\":\"html\",\"tag\":\"div\"},\"children\":[{\"props\":{\"setInnerHtml\":\"<img src='data:image\\/png;base64,iVBORw0KGgoAAAANSUhEUgAAAHAAAABwCAAAAADji6uXAAAABGdBTUEAALGPC\\/xhBQAAACBjSFJNAAB6JgAAgIQAAPoAAACA6AAAdTAAAOpgAAA6mAAAF3CculE8AAAAAmJLR0QA\\/4ePzL8AAAHuSURBVGje7dk9aBRBGMbxnxJBtAhIGhENKFqoAe3EwoiVtU2IBAlqodYBCztFsBELKwNKELEQ8SN9AoKFoI2QQkQrRURBrWyUxGJWWE8v7ELizb3MA8ftzdzN\\/x5entmZWYqKioqKiorWrNbAc9XgRzra1\\/5vh\\/GBA6sx6DUcxO0cHMYHrngNr+AMfkhZ7LnD+MAVr+EBrMNT3MvBYXxg6xoewgWM40tH3zj24i2mcnEYH9h6TfMKOzEqZa2uBezBMTzMxWF8YOscfscS1ne078M2LP6jr6cO4wNb1fASRqQsvqy1b8R5bMAz3M\\/JYXxg47l0K55jEEfxpNZ3A6fwQcpiVg7jAxvlcAQPMITr\\/qzfFCar68s5OowPXDaHA5jAzeqfLUpZnMVVbMIj7McdnMzRYXzgsjWcwEzti2+wo\\/r8AluwGZ+r9ywdxgd2reGYlK2f+Ibj+Crlb7T246Xq9RGHpb1hVg7jA7vWcB7D0j3uVq19N6al85jfNYS7OJGjw\\/jArmuax9I65l1H+5C0jyedyyxU1+9zdRgf2OqcZlDK5VlpztzVDw7jA1vt8c9JzyQ++fu5YLYO4wMb13AYp6X737Tmc2fPHcYHNp5LX2O7tFad7CeH8YGNcziDi9L+vq8cxgcWFRUVFRUV8Quek0XsTpCCZwAAAABJRU5ErkJggg=='><\\/img>\"},\"nodeType\":\"DOM\",\"type\":\"node\",\"instanceArgs\":{\"namespace\":\"html\",\"tag\":\"div\"},\"children\":[]},\"True: 4\"]},{\"props\":{\"style\":{\"display\":\"flex\",\"flex-direction\":\"column\"}},\"nodeType\":\"DOM\",\"type\":\"node\",\"instanceArgs\":{\"namespace\":\"html\",\"tag\":\"div\"},\"children\":[{\"props\":{\"setInnerHtml\":\"<img src='data:image\\/png;base64,iVBORw0KGgoAAAANSUhEUgAAAHAAAABwCAAAAADji6uXAAAABGdBTUEAALGPC\\/xhBQAAACBjSFJNAAB6JgAAgIQAAPoAAACA6AAAdTAAAOpgAAA6mAAAF3CculE8AAAAAmJLR0QA\\/4ePzL8AAAHWSURBVGje7dlPiE1hGMfxz0hISEhmYxKJyZ+pKTULO7GZWSqy1uxkQcpCU1LKKEa2s1QWWIqFnZUFiwnlT4hZTixmMxKLc25z6NzbOSn39fT+6tZ7n+ec++3X03Of856XrKysrKysrIE2Fw9jHKfxDC\\/K+A0sNfyNFf\\/aYXxg4xpO4hrW1eSO4EmqDuMDG9dwE15ia03uK07gcYoO4wNXNr1wAVOYxlp8wvYytxHH5Br2CdhqHsJzHMQc9lXiu\\/A+RYfxgY37sKMruIiRP+KrU3UYH9i6D2EbHmF\\/JXYPx1N0GB\\/Yug9P4YDf\\/0fhaaoO4wMb9+Ee3FfMvbrC53nYN2DjPtyLHT1uOIszKTqMD2xcwwe4gKtYU5MfTNVhfGCreTiDN4r9YOfmW9iQssP4wNbPNA8r6wHsxCXFXmMIH1NzGB\\/YuoZVrVLUD77jR4oO4wP\\/qoaXK+tZfE7RYXxg173FZkVd7uJOTX4QryzPwry36Buwax\\/exAR240v5eYvRMnbecv2uYz5Vh\\/GBXftwTHFGMVZ+\\/6A4ezqM9WXsJ17jEBZTdRgf2PM9zTTe4XaX\\/AK2pO4wPrDnM805xXlE5+x+BCfL9Tcc\\/R8cxgdmZWVlZWVl8QtzxjjaMNLTNQAAAABJRU5ErkJggg=='><\\/img>\"},\"nodeType\":\"DOM\",\"type\":\"node\",\"instanceArgs\":{\"namespace\":\"html\",\"tag\":\"div\"},\"children\":[]},\"True: 3\"]},{\"props\":{\"style\":{\"display\":\"flex\",\"flex-direction\":\"column\"}},\"nodeType\":\"DOM\",\"type\":\"node\",\"instanceArgs\":{\"namespace\":\"html\",\"tag\":\"div\"},\"children\":[{\"props\":{\"setInnerHtml\":\"<img src='data:image\\/png;base64,iVBORw0KGgoAAAANSUhEUgAAAHAAAABwCAAAAADji6uXAAAABGdBTUEAALGPC\\/xhBQAAACBjSFJNAAB6JgAAgIQAAPoAAACA6AAAdTAAAOpgAAA6mAAAF3CculE8AAAAAmJLR0QA\\/4ePzL8AAAF4SURBVGje7di\\/Sx1BFMXxT4KNKSKoTZpYpUwhKLGx8w8QU1lYCGlSGBQFEbXW0sIypbGwDLHwR51CQtIIFgqinY1NBEUQU8wKz+Ipq4+8fcP9wrLD3d05HA53dnYJgiAIgiAIgiB4Pi8aPWEP2jGKz0VtE+PF+OX\\/dpi\\/YFujJhrCiJRdB25rrg0002H+gs\\/uw694j\\/6a2l98wy+s46qZDvMXfHKGXVjCJ5zjGMvYxyVOq+Iwf8EnZ7iCCaxiHhdVdZi\\/YKkMX2EWY5gsHt5yf62snMP8BUvtaRakDDewrVx2TXOYv2CpPrwtjmF8bxWH+QuW6sM99EnvwEvstILD\\/AUf7cMP+INrdOILFqU9zAAOqu4wf8G6Gb7BD7zFFNaKejfOivEgflbdYf6CddfS33gt7WHWauqTxXlX+hasvMP8Bev24Zy0D22vqR3iHU7wUcq58g7zF3zwfTiDXulf6N3Ne5jGEW5awWH+gkEQBEEQBEEQBI3gH5UrNC4u67AHAAAAAElFTkSuQmCC'><\\/img>\"},\"nodeType\":\"DOM\",\"type\":\"node\",\"instanceArgs\":{\"namespace\":\"html\",\"tag\":\"div\"},\"children\":[]},\"True: 5\"]},{\"props\":{\"style\":{\"display\":\"flex\",\"flex-direction\":\"column\"}},\"nodeType\":\"DOM\",\"type\":\"node\",\"instanceArgs\":{\"namespace\":\"html\",\"tag\":\"div\"},\"children\":[{\"props\":{\"setInnerHtml\":\"<img src='data:image\\/png;base64,iVBORw0KGgoAAAANSUhEUgAAAHAAAABwCAAAAADji6uXAAAABGdBTUEAALGPC\\/xhBQAAACBjSFJNAAB6JgAAgIQAAPoAAACA6AAAdTAAAOpgAAA6mAAAF3CculE8AAAAAmJLR0QA\\/4ePzL8AAAIgSURBVGje7dlPiI1RHMbxzzUTKTeUGjZTY2MlSSxmYTEWVjPFAjWSFDsWkpS1jdVkPXtSyoSiEFkpf4oyMyILiZSFlD+5hsV5J+97m3vn3qbc43Seut1+p3Pep6dv73vO733JysrKysrKyvr\\/VSsXq7Af37ENdYzjHt41LfyAKTzq0nDZv06YvmGF4Xmc6mLxHF7gEi7iTYwJ0zesMHyFjaX6E541LZjFJqzB1tL4KG7EmDB9w\\/5ysVvgM1vUX\\/G+xcI6nmOwqMdkhj0yrDB8Xfw60ai\\/\\/H5gMtaE6Rv2d7tgOS7gUGlsGE9jTZi+YVcMR3AQh4v6J05gOuaE6Rt2zHAHbqGvNPYbb\\/Er5oTpG3bMcJ8qP8Jz9brQI17DVeGcE1XC9A1rnU4cxllsx7oWc+YwIfSZH2NJmL5hxwznNSgwHMBeHFngIvexS2Da84TpG3bNsFnjOC7sl2WdEe7HnidM33DJDAmb6m3sLI1N4lgMCdM37Lo\\/XEgNPFZl+DKWhOkbLspwA45iBpdbzOnDllLdwMNYEqZv2JbhetzEZqxtMWcAJ4X+f17TeBBLwvQN2zKcEPjBkPAu\\/FtRr8RpgV+9GKvhi\\/DuJpqE6Ru2ZXhH6O3hifBO9HNRr1b99kTgt0foLaJJmL5h23PpEM7hwCIXaQj37BWt98GeJUzfcNHeYoVwb40IZ82xYnym+L8rPGPzd4ueGWZlZWVlLV1\\/AKJAT++xHHUNAAAAAElFTkSuQmCC'><\\/img>\"},\"nodeType\":\"DOM\",\"type\":\"node\",\"instanceArgs\":{\"namespace\":\"html\",\"tag\":\"div\"},\"children\":[]},\"True: 3\"]},{\"props\":{\"style\":{\"display\":\"flex\",\"flex-direction\":\"column\"}},\"nodeType\":\"DOM\",\"type\":\"node\",\"instanceArgs\":{\"namespace\":\"html\",\"tag\":\"div\"},\"children\":[{\"props\":{\"setInnerHtml\":\"<img src='data:image\\/png;base64,iVBORw0KGgoAAAANSUhEUgAAAHAAAABwCAAAAADji6uXAAAABGdBTUEAALGPC\\/xhBQAAACBjSFJNAAB6JgAAgIQAAPoAAACA6AAAdTAAAOpgAAA6mAAAF3CculE8AAAAAmJLR0QA\\/4ePzL8AAAIbSURBVGje7dg7iFNBGAXgz0ch4mPRwsZnYezWgIUKuyhYqeCCjTYWdjYiGC1st7JYUbARu0WslAVBRBBWfGAlWGhnIYqPZkVEVBBMLOYu9wp6k7hgJsMcCJmZ5Obk3MN\\/58xPRkbGoLFooT\\/QwF0swaYevr\\/4fytMn3DpQi6+jCNYg9uxKkyf8J\\/qcB1msAsdvMA+fIxRYfqEfddhA1PYWczP4ane\\/BuIwvQJ+\\/ZwLQ5U5m9xP2aF6RP25WED15UP4MO4FbvC9An78vAYNuIOTuDdMChMn7DnTPMETbzHfrwcFoXpE\\/ZUhxNChungBr4Pk8L0Cbt6OILxyvyTkGOqOIUNxfhMbArTJ+zq4U\\/sKP5ZGw8rn50WavOkskfTwnp\\/3yvTv6XxebhHqMM23ijPgU2M4VAx\\/yrU5zbcxFG8jkFh+oS1Hq7ElmL8AdeELNPAWWGfnMM9XMAqzGJ1TArTJ6z1cAwXi\\/FVTAp9tinhnP9FyDgtbMWVYm3Wn2twIArTJ6z1cLQynizeZ5R9tgk8wG48KtYuqc816d\\/SuDwcEQ6Q872YJjYXay3Bv2rvpiV4GJXC9Am7ZppO8ZpHu5iPChlnGV4JuedzjArTJ6zt01SfkePYjvNYUbl4DseF\\/luUCtMnrK3DH\\/iG5Xjs93qkzDS9+jcQhekTdu2XHhTO8nuVHk7jOZ4Je2LUCtMnzMjIyMjIyMjIyIgBvwC151YQSLFxqgAAAABJRU5ErkJggg=='><\\/img>\"},\"nodeType\":\"DOM\",\"type\":\"node\",\"instanceArgs\":{\"namespace\":\"html\",\"tag\":\"div\"},\"children\":[]},\"True: 6\"]},{\"props\":{\"style\":{\"display\":\"flex\",\"flex-direction\":\"column\"}},\"nodeType\":\"DOM\",\"type\":\"node\",\"instanceArgs\":{\"namespace\":\"html\",\"tag\":\"div\"},\"children\":[{\"props\":{\"setInnerHtml\":\"<img src='data:image\\/png;base64,iVBORw0KGgoAAAANSUhEUgAAAHAAAABwCAAAAADji6uXAAAABGdBTUEAALGPC\\/xhBQAAACBjSFJNAAB6JgAAgIQAAPoAAACA6AAAdTAAAOpgAAA6mAAAF3CculE8AAAAAmJLR0QA\\/4ePzL8AAAEUSURBVGje7dmhSkRBGEfxnyIrgtkgGGwiNqvBIsgG38onEINgF3waMRgEgyCIL6CwZQ13fYCZQZ35+E7ZDXc5HP7MTrgkSZIkSZKMz1rpw3eY4xBvFcL1vy6ML9woeXgLJ9jGOW5HKIwvLNrwE8\\/Yxc4ohfGFRRvCNU5xMEphfGHRfQh7eMUC+3jvvTC+sPgcMg0\\/wwVuei+ML6zacLn6nI1QmMIUpjCFv0\\/1fbis+eF\\/FMYXNt2HQxTGF1Zt+MPjCIXxhU0bvoxQmMIU9i9sOoebIxTGFzZtOMdV74XxhcUbfuDJ9P5wiML4wuINF\\/hafT+T57ADYdV\\/6QOOTe+Cuy+ML6za8BJHuB+hML4wSZIkaecbeyEXkGV2PBoAAAAASUVORK5CYII='><\\/img>\"},\"nodeType\":\"DOM\",\"type\":\"node\",\"instanceArgs\":{\"namespace\":\"html\",\"tag\":\"div\"},\"children\":[]},\"True: 1\"]},{\"props\":{\"style\":{\"display\":\"flex\",\"flex-direction\":\"column\"}},\"nodeType\":\"DOM\",\"type\":\"node\",\"instanceArgs\":{\"namespace\":\"html\",\"tag\":\"div\"},\"children\":[{\"props\":{\"setInnerHtml\":\"<img src='data:image\\/png;base64,iVBORw0KGgoAAAANSUhEUgAAAHAAAABwCAAAAADji6uXAAAABGdBTUEAALGPC\\/xhBQAAACBjSFJNAAB6JgAAgIQAAPoAAACA6AAAdTAAAOpgAAA6mAAAF3CculE8AAAAAmJLR0QA\\/4ePzL8AAAHmSURBVGje7dk9aBRRFMXxn6IpElQEGyU2NprERisrLfwACwtRFPyqxUY0oJWFCPZCsIiFVQjY2QgWFhYKFlai+AnGykILS0ETi\\/dgV5zd2U3AzFzeafbemTd79s\\/h7c7doaioqKioqKioqKioaOVas5KLpzGCCZzNx95iqs81a\\/83YXzDoTM8gN359XjFGyziIyabQhjfcF3dgq2Yx47cb8KYlN1L7K0gGGsSYXzDvhkewj1srzg3iW\\/Ygm24j\\/F87k2TCOMb9s3wmr\\/z+4nreIF3+dh3XNbJ7zPON4kwvmHPDI9gX1f\\/RcrmWcXa8a76obQ\\/G0MY37BnhtMYzfVz3PRvfptxFPu71j1qGmF8w54Zzkq\\/dT9wBl8r1lzErVy\\/xqke61aVML7hsufDY3iA9fiFq7jbRML4hsvO8DeWcn1J2reNJIxvWDsfVul2\\/qSLuX\\/aZML4hkNnOII9Un5L0lzxocmE8Q2HynAU53A49\\/OY09mPjSSMbzhwhhuk\\/2xO5v4KZgyX36oQxjcc+J5mAq9y\\/Qk720IY33CgfbhLmh3gvTTXt4YwvuFAGd7A6VzPYKFNhPENazOcwsZcz+JJ2wjjG9ZmeEH67lzAHZ3nFa0hjG9Ye09zEI9xQnom0TrC+IZF7dcfOdQ+4\\/dMdSIAAAAASUVORK5CYII='><\\/img>\"},\"nodeType\":\"DOM\",\"type\":\"node\",\"instanceArgs\":{\"namespace\":\"html\",\"tag\":\"div\"},\"children\":[]},\"True: 7\"]}]},{\"props\":{\"style\":{\"display\":\"flex\",\"flex-direction\":\"row\"}},\"nodeType\":\"DOM\",\"type\":\"node\",\"instanceArgs\":{\"namespace\":\"html\",\"tag\":\"div\"},\"children\":[{\"props\":{\"style\":{\"display\":\"flex\",\"flex-direction\":\"column\"}},\"nodeType\":\"DOM\",\"type\":\"node\",\"instanceArgs\":{\"namespace\":\"html\",\"tag\":\"div\"},\"children\":[{\"props\":{\"setInnerHtml\":\"<img src='data:image\\/png;base64,iVBORw0KGgoAAAANSUhEUgAAAHAAAABwCAAAAADji6uXAAAABGdBTUEAALGPC\\/xhBQAAACBjSFJNAAB6JgAAgIQAAPoAAACA6AAAdTAAAOpgAAA6mAAAF3CculE8AAAAAmJLR0QA\\/4ePzL8AAAH8SURBVGje7dnPi05hFAfwD9HMUBZMVtQozGRDLCQLpbCQlRILZW3NzkJjJf\\/AlFGzFDaj1Ch78muSYpT8KCtFDIkQi3Pl9TbXfZlyH0\\/Pt27de8597\\/d++3bO+zznUlBQUFBQUFDw\\/2PBn9x8GHuwEcNV7Ab24W2Pz1j4rxXmT9iTh4MYF169wfUqvgNLMYMNqSrMn7AnD29jCGdxBq+r+AhuYglGqyM5hfkTNnq4C1O4gENz5EdxAs+xJkWF+RMuarphMR7jfE3+kvCwH8swm5rC\\/Akb67C\\/eqsPNflhPKzOj2IsNYX5EzbW4ceG\\/BM8EGuadSkqzJ+w0cMmfK6OZBXmTzhvD\\/tEv4V3KSrMn3DeHg75ud+f6ogPilnANlzEo7YU5k\\/41x72YRW2d8TGcAebsRyrRW2uxZG2FOZP2LguHcBKbMFW7OyId89mvuJFdT6BK3iFp20qzJ+wtg4HcFLM10a6crN4jy8dDxgXdXg3NYX5E9bW4VUxo\\/mEa6KWJqvrZ6LeZrBe7C82CV+TU5g\\/YW0d7ha+7cf0HD86Lf4PX+KA3vxrRWH+hLUefhPfKO53xfvFOnOvqMmDmvtnqwrzJ6ztpT\\/65ARW4J7omcfFXuKWmK1NN1K0rDB\\/wt+uS0\\/hWNdbXcY5v+4Fk1aYP2FBQUFBQUFBQQ74Dr4HTcm7N9jFAAAAAElFTkSuQmCC'><\\/img>\"},\"nodeType\":\"DOM\",\"type\":\"node\",\"instanceArgs\":{\"namespace\":\"html\",\"tag\":\"div\"},\"children\":[]},\"True: 2\"]},{\"props\":{\"style\":{\"display\":\"flex\",\"flex-direction\":\"column\"}},\"nodeType\":\"DOM\",\"type\":\"node\",\"instanceArgs\":{\"namespace\":\"html\",\"tag\":\"div\"},\"children\":[{\"props\":{\"setInnerHtml\":\"<img src='data:image\\/png;base64,iVBORw0KGgoAAAANSUhEUgAAAHAAAABwCAAAAADji6uXAAAABGdBTUEAALGPC\\/xhBQAAACBjSFJNAAB6JgAAgIQAAPoAAACA6AAAdTAAAOpgAAA6mAAAF3CculE8AAAAAmJLR0QA\\/4ePzL8AAAIGSURBVGje7dm7axVBFAbwX9SIksJGRW+hjQgKgmBhIYLhksoHov4DYidYCuILIwgWgvjEQsGAhY0gvkC00MpGRBvFLkHEIj7AQkx1LWYuRIh79xJJZof5YNmzh539+Pg4c2ZmKSgoKCgoKChoPgb+58eG8AItbMP4DO8smGuF+RMums3gFlbE+AeGsQUf8S0VhfkT9uXhJhzB2vi8HmtifB4bhcL+jMWpKMyfsC8Ph3Fo2vMU7qCNYzHXwW2lDucQtfvhGRzFEoxhEhfifTOeYjm+CnX6OxWF+RPWrsMhLMUETuBLzK\\/DcaEv\\/sKof\\/s3LwrzJ6xdh1txCxuE+fMwluEGdgprmnO4mJrC\\/Alr1+FbvBI8bGNE8Ku7phnFlRQV5k9Y28Mp\\/IzxatwTirgj1Of9VBXmT9jXunRihtwTYW3zKVWF+RPW9nAhtvu7gT7G7tQV5k9Y28O72CfMnV106g6eT4X5E\\/b0sIWD2C949gbvYm5lExTmT9jTwzbOxvgkrmKv4OH7JijMn7DSwx24HOM9eI5VOB1z401QmD9hpYcjwj7+JR5hELtibkA4V0teYf6ElR52pl2Dwhx6STiTuYnrTVCYP2Glh91\\/g5N4JuwtCL3wYVMU5k9Y6eGHeD8gzJ3fcU3oi41RmD9hpYdjwr\\/cU3iNB3qfaSenMH\\/CgoKCgoLZ4w9+lE1PRRbpxQAAAABJRU5ErkJggg=='><\\/img>\"},\"nodeType\":\"DOM\",\"type\":\"node\",\"instanceArgs\":{\"namespace\":\"html\",\"tag\":\"div\"},\"children\":[]},\"True: 8\"]},{\"props\":{\"style\":{\"display\":\"flex\",\"flex-direction\":\"column\"}},\"nodeType\":\"DOM\",\"type\":\"node\",\"instanceArgs\":{\"namespace\":\"html\",\"tag\":\"div\"},\"children\":[{\"props\":{\"setInnerHtml\":\"<img src='data:image\\/png;base64,iVBORw0KGgoAAAANSUhEUgAAAHAAAABwCAAAAADji6uXAAAABGdBTUEAALGPC\\/xhBQAAACBjSFJNAAB6JgAAgIQAAPoAAACA6AAAdTAAAOpgAAA6mAAAF3CculE8AAAAAmJLR0QA\\/4ePzL8AAAHGSURBVGje7dkxa9ZQGAXgp2q1gw7+A1G6KDi4KFJREKTaqY4q6Ci4qqAdFR3ERRDdHEqHQn+A4tg\\/IEitLtKhUERdLBUVUYc3QynaJv3A3u\\/lHgjhJjc5HA7nJiehoqKioqJXDPR6g\\/24j3EcxtsN5m\\/73wrzE+7o5eLjeI6PeIwPJSrMT7jpHI5hBk8xga+lKsxPuCkPh\\/EKsziHXyUrzE\\/Y2cMhsX4O4Qy+lK4wP2Hn5+EdHBVZ7OrflijMT9gph7uwINbRs\\/2iMD9hpxzexG7xDtM3CvMTdsrhLFYw2k8K8xO2zuEJHBM9fjVOiX44V6rC\\/IStPbyIebxvxlfwEHvxHddFzy9OYX7C1mvpD1wQvX4n3uEGXoiO+AznRe8oSmF+wlY5PNRM\\/NmMjwivZprxNEZwS\\/Ww1Byexkvh5Tz2iCx+XjXnIF5je2kK8xN26haLzX55nXPFKcxP2MrDARsH9qS\\/e7vlCvMTtvLwd7P9C4O4iskSFeYnbOXhGyzhEp6sOTfYHNuHyyUqzE\\/YysMl3BN9EKZwQPT92\\/gm\\/mF8KlFhfsJO39qu4YH49k08\\/x7hruiPRSrMT1hRUVFRUVFRkQF\\/AJxEP72fGtmtAAAAAElFTkSuQmCC'><\\/img>\"},\"nodeType\":\"DOM\",\"type\":\"node\",\"instanceArgs\":{\"namespace\":\"html\",\"tag\":\"div\"},\"children\":[]},\"True: 6\"]},{\"props\":{\"style\":{\"display\":\"flex\",\"flex-direction\":\"column\"}},\"nodeType\":\"DOM\",\"type\":\"node\",\"instanceArgs\":{\"namespace\":\"html\",\"tag\":\"div\"},\"children\":[{\"props\":{\"setInnerHtml\":\"<img src='data:image\\/png;base64,iVBORw0KGgoAAAANSUhEUgAAAHAAAABwCAAAAADji6uXAAAABGdBTUEAALGPC\\/xhBQAAACBjSFJNAAB6JgAAgIQAAPoAAACA6AAAdTAAAOpgAAA6mAAAF3CculE8AAAAAmJLR0QA\\/4ePzL8AAAG4SURBVGje7dg\\/SJVRHMbxj9GQQwjRVA1BNFiKg2EJbTW1RxIZRZtzEAStDUEtDQ3R5GL0h9yiJRdzMdClIZeGAiEjaEhq0IbzBhGk91yhe94f54HLhfPew\\/d+efjdw7nU1NTU1NTU1NTU1NTsPH3dbNqHC7iJA83aLdzuYO+u\\/20YH5jd4TjuYQybfz2bxtXSDOMDszrcj9cYxBpeYBaXcR4rGMHPkgzjA7M6nMdJvMK5P9aP4g324DSWSzKMD9yd8+H15n32H8+\\/SfNZlGF8YFaHfc3rqzRzR3AFo1jFRXwqzTA+MOu3dFU6ExebjaPN+gSelmoYH5g1h1+wFyekDjfxHe9KNowPzOrwOE7hEB43a8\\/VDnsM7OqOP4wlaQ6P4X3JhvGBWXP4O0PNN91og2F8YFcdrkv9zdn6Pl+EYXxgdoeDuIbPeIAPpRvGB2Z1OICXOIgbOr9P9NQwPjCrwztSfzO42xbD+MCOOzyLS9JZ+KRNhvGBHd0tDuOt9P\\/apHQnbI1hfOC2c9iP69JZ+MzO+uuJYXzgtnM4hftYwBn8aJthfOCWHY5Jc\\/cID\\/GxjYbxgTXtzy+taTuBUHHN0wAAAABJRU5ErkJggg=='><\\/img>\"},\"nodeType\":\"DOM\",\"type\":\"node\",\"instanceArgs\":{\"namespace\":\"html\",\"tag\":\"div\"},\"children\":[]},\"True: 9\"]},{\"props\":{\"style\":{\"display\":\"flex\",\"flex-direction\":\"column\"}},\"nodeType\":\"DOM\",\"type\":\"node\",\"instanceArgs\":{\"namespace\":\"html\",\"tag\":\"div\"},\"children\":[{\"props\":{\"setInnerHtml\":\"<img src='data:image\\/png;base64,iVBORw0KGgoAAAANSUhEUgAAAHAAAABwCAAAAADji6uXAAAABGdBTUEAALGPC\\/xhBQAAACBjSFJNAAB6JgAAgIQAAPoAAACA6AAAdTAAAOpgAAA6mAAAF3CculE8AAAAAmJLR0QA\\/4ePzL8AAAH1SURBVGje7dlPiE1RHAfwD15Wj0kpMtkI2VjMAlFsaBb2lCgl\\/9aiJJHSWMlOFqMpTdkpyRoLSWOhLFgMyoaNP6NYCYtzJ\\/dO974375nmnU7nW7fO79x3ft\\/7Pd\\/e\\/Z1zDxkZGRkZGRlLFiLJZtzCYXzs8tuli60wfcJWOViBNmbws4ck+7EHx3ENv2JSmD5h5X94FedxDjd6SLIbj4r2FkzHpDB9wlZd52W8w\\/15JlkTs8L0CWs9bGMCo3jRJUEbZ0rxQYzFpDB9woqH70vtlbiCI\\/jaIcEmbI9ZYfqElXq4DBeEd+ksTmO8Q4J1eIwNRZzr4WA9hCE8x8YifoV9+NyQYARTpTh7OPh6OIOn\\/nm4FetVPVyOU0X7QOwK0yesXdM8w9FSvBMvsau42rhYM+6NzrVzIArTJ2z8TjOJQx2e8nfDvZO4HZPC9AkbPZxb5+YO+tNwbwInYlKYPmGrn0HTgocPhfp5KWaF6RPO28Mv+IDruFvqH5E9HDBho4dvcUfY973GTWGf0Q2jWKV5bZP+lMbj4Xcc6yPhsLD3iEZh+oR91cMyvuET1pb6xoT9Y90ZVPpTGs+6tBfswD3V84sh\\/IhBYfqEC+IhbMMDrC7ivXgSg8L0Cf\\/7XTqLKeEM6qyw52g6s0p\\/ShedMCMjIyMjI4O\\/n2ZEjljqmL4AAAAASUVORK5CYII='><\\/img>\"},\"nodeType\":\"DOM\",\"type\":\"node\",\"instanceArgs\":{\"namespace\":\"html\",\"tag\":\"div\"},\"children\":[]},\"True: 4\"]},{\"props\":{\"style\":{\"display\":\"flex\",\"flex-direction\":\"column\"}},\"nodeType\":\"DOM\",\"type\":\"node\",\"instanceArgs\":{\"namespace\":\"html\",\"tag\":\"div\"},\"children\":[{\"props\":{\"setInnerHtml\":\"<img src='data:image\\/png;base64,iVBORw0KGgoAAAANSUhEUgAAAHAAAABwCAAAAADji6uXAAAABGdBTUEAALGPC\\/xhBQAAACBjSFJNAAB6JgAAgIQAAPoAAACA6AAAdTAAAOpgAAA6mAAAF3CculE8AAAAAmJLR0QA\\/4ePzL8AAAIXSURBVGje7dk7aFRBGAXgb1fRwkd8YCVYiaYQSZVSBcVKMIVlxG3USjstRNsIphFBLCzEdAEVrKxEgrFIp50LKlomYCFaRBC1mFnckN17N0bMOM6p5nFnzpw5\\/DP\\/vZeCgoKCgoKCxp+Y5AieohnLMxXPNv+2wvwJV+1hCxdwMK7+JaZwG99SUJg\\/4ao8bOE0DnWt\\/nss78WHFBTmT7h+pQO2YQT3sAsbY\\/vruPp9qSnMn3BFHo7hLI5bGnMwGdvupqYwf8KBPRzH\\/YqVNvq0r7nC\\/AkH8nAcN4W4W8Q8tmBH7F\\/EZ2y1NDaTUJg\\/Ya2HY0L8dbyZwzEhn+mcm1fwKLYlpzB\\/wkoPW0L8EWJtDhe7+l8J\\/t6J9QfCfTmaksL8CSs9vIZNsTyB6119s3ginKsdfMHX1BTmT9jXwxHhzmtiXY\\/+N33GNWpU5L+laXh4AA+xXX2O0o3N2FAzJv8tTcPDW9jzG5OdUn0XronC\\/Alr89LLA040jBux\\/F7IgZJQmD9hrYcfB5hkGI+xEwtCPM73eTb\\/LU3jm\\/czv75j0zunIdx\\/UzgZ6+9wAu2UFOZP2NPDo5jGUKzP4ocQa23hfG0I+cuocG5OCO\\/57Wq+\\/2BL0\\/AQDgu56ZDl37d1tc0IsTiVqsL8CSv\\/H+7GOVy13MMFPMd5fEpZYf6EA\\/0DPoNL2C\\/8J5zEW7z4FxTmT1hQUFBQUFDAT4dETtlq9h02AAAAAElFTkSuQmCC'><\\/img>\"},\"nodeType\":\"DOM\",\"type\":\"node\",\"instanceArgs\":{\"namespace\":\"html\",\"tag\":\"div\"},\"children\":[]},\"True: 0\"]},{\"props\":{\"style\":{\"display\":\"flex\",\"flex-direction\":\"column\"}},\"nodeType\":\"DOM\",\"type\":\"node\",\"instanceArgs\":{\"namespace\":\"html\",\"tag\":\"div\"},\"children\":[{\"props\":{\"setInnerHtml\":\"<img src='data:image\\/png;base64,iVBORw0KGgoAAAANSUhEUgAAAHAAAABwCAAAAADji6uXAAAABGdBTUEAALGPC\\/xhBQAAACBjSFJNAAB6JgAAgIQAAPoAAACA6AAAdTAAAOpgAAA6mAAAF3CculE8AAAAAmJLR0QA\\/4ePzL8AAAHTSURBVGje7djPi09RGMfx10zfpESZKBZMWShRJMpCKcosbK1mimZshiSys6DEQn4WU+wVFhb+AFnNbGYvmtnOlFlMiCKUxfmWrw3nfqfc4+l8Nrf71Ondp0\\/Pved5qKqqqqqqqqqqqmpfAys5PIwLOIMOnmL0L2cG\\/7XD+MC+M5zAXcxhCltwBTvxpiSH8YGNM1yFi7iMO7iJ99iLWWzFQkkO4wM7TQ+M4xrO435P\\/SiW\\/Dm\\/VhzGBzbqwyHpO\\/kKY\\/jerQ\\/jJdZgc2kO4wOz+7CDaanXTvuVHzzGNtwu0WF8YHaGx7Edh7HcUx\\/FAXzCrRIdxgdmZ3gSbzHTU9sk3U0HpX\\/juxIdxgdmZzgi3UW\\/dd\\/X4Tk24CFulOowPjArwyPd54vucwSPpDliHpfwsVSH8YFZGS7hC55hLTbiq3SpncKHkh3GB2bPFidwCot4ggfSjuaYlG+xDuMDG+9pBnAPkzgo7WaKdhgf2HhPcwhncV3z\\/FpxGB\\/YuA8X8QM7pJmweIfxgY36cJ80S5zTX36tOIwPzO7D1dJ8vx678Pl\\/cRgfmN2H49iNPfrPrxWH8YHZffhamgn3+33fXbzD+MDsPhzCVSvLrxWH8YFVVVXt6ych00L29U9E\\/wAAAABJRU5ErkJggg=='><\\/img>\"},\"nodeType\":\"DOM\",\"type\":\"node\",\"instanceArgs\":{\"namespace\":\"html\",\"tag\":\"div\"},\"children\":[]},\"True: 9\"]},{\"props\":{\"style\":{\"display\":\"flex\",\"flex-direction\":\"column\"}},\"nodeType\":\"DOM\",\"type\":\"node\",\"instanceArgs\":{\"namespace\":\"html\",\"tag\":\"div\"},\"children\":[{\"props\":{\"setInnerHtml\":\"<img src='data:image\\/png;base64,iVBORw0KGgoAAAANSUhEUgAAAHAAAABwCAAAAADji6uXAAAABGdBTUEAALGPC\\/xhBQAAACBjSFJNAAB6JgAAgIQAAPoAAACA6AAAdTAAAOpgAAA6mAAAF3CculE8AAAAAmJLR0QA\\/4ePzL8AAAGMSURBVGje7dmhS11hGMfxj2JyWFamQVgQBG+XFatNMM1gGxZZWdPFIRYHkwUNE\\/8DDTNYRLQtCgqOtVkGYltyyNBwDniT91zPRd\\/z8P7S88LlfM+XH8+5h3vJycnJycnJyWl++np1oY9YxRqWH\\/hc\\/1Mbxgf2pMMh\\/MIr3OA9tlMxjA8c6MUFFhX9wSV+pGQYH1h7D6dw3HaewX5KhvGBtfbwNb62nQ9xlJphfGCtPTzDRDn\\/xVscpGYYH1hrD1u4LedNnft7FsP4wEd3+EWxxLeKZ+hKqobxgY\\/qcAOziv5OMY\\/rVA3jA7vucFLR33B5\\/oarlA3jA7vu8B1GyvknvqduGB\\/Y1XvpB3xuu8tR\\/EndMD6w8h6OYqG8w\\/\\/Y0n1\\/z2IYH1ipwzHsYbw8r2OpKYbxgZU6HHffH0WfjTGMD6zU4cu2+RjnTTKMD6z0TvNb8X0Ic9hpkmF8YMc9bOFFOX\\/CbtMM4wM7dvhG8R8v\\/HP\\/+2hjDOMDKz1LLzCIaZw0zTA+MCcnJyenfu4APw4t2kRtTgAAAAAASUVORK5CYII='><\\/img>\"},\"nodeType\":\"DOM\",\"type\":\"node\",\"instanceArgs\":{\"namespace\":\"html\",\"tag\":\"div\"},\"children\":[]},\"True: 1\"]}]},{\"props\":{\"style\":{\"display\":\"flex\",\"flex-direction\":\"row\"}},\"nodeType\":\"DOM\",\"type\":\"node\",\"instanceArgs\":{\"namespace\":\"html\",\"tag\":\"div\"},\"children\":[{\"props\":{\"style\":{\"display\":\"flex\",\"flex-direction\":\"column\"}},\"nodeType\":\"DOM\",\"type\":\"node\",\"instanceArgs\":{\"namespace\":\"html\",\"tag\":\"div\"},\"children\":[{\"props\":{\"setInnerHtml\":\"<img src='data:image\\/png;base64,iVBORw0KGgoAAAANSUhEUgAAAHAAAABwCAAAAADji6uXAAAABGdBTUEAALGPC\\/xhBQAAACBjSFJNAAB6JgAAgIQAAPoAAACA6AAAdTAAAOpgAAA6mAAAF3CculE8AAAAAmJLR0QA\\/4ePzL8AAAGsSURBVGje7dmxS1VhGMfxj2EOGZRG5JAghDU4CEJQ\\/0ZDkltUNDr2BzQFlYGjSOCgIA0V1Ozi0CJERENB0JBRNBSBlKAO7wE1OHI9F+Q9D+8P7vDce16+\\/PhyX3g4lJSUlJR0m55uDi\\/iCm7gTYdnjh11w\\/jArhyu4io+YQybOTaMD2zscFhyd7ya+7GRY8P4wN6mB0\\/b9fccf3NtGB\\/YyGEv7u2Zl7CVa8P4wEYOH2OqLQ3jAw\\/t8A5utalhfOChHN7ELPqwhok2NIwPrHV4EuO4hMu4joHqt2m8xsc2NIwPrHU4jHlcrOZfmMNDfMb5tjSMD6x1+EH6H45W8298qXm2P+eG8YGNd\\/wzeIchaT+8lmvD+MDGO\\/5P6U4dwkrODeMDGzvcm\\/WcG8YHdu1wG99zbhgf2LHDUbu7xYZ0l87gAc5WnxO4j2d4mUvD+MADHfbhAm7jruQI\\/uEPBqt5GT+q50\\/hm+LwCFPr8ByeYPK\\/79el+\\/M93tacXcipYXxgrcMp+\\/29wiPpvW8n73qzaRgfWLsfjuAFvkp35dO2NowPLCkpKSkpKSmJkB2cezgZgNmgdgAAAABJRU5ErkJggg=='><\\/img>\"},\"nodeType\":\"DOM\",\"type\":\"node\",\"instanceArgs\":{\"namespace\":\"html\",\"tag\":\"div\"},\"children\":[]},\"True: 1\"]},{\"props\":{\"style\":{\"display\":\"flex\",\"flex-direction\":\"column\"}},\"nodeType\":\"DOM\",\"type\":\"node\",\"instanceArgs\":{\"namespace\":\"html\",\"tag\":\"div\"},\"children\":[{\"props\":{\"setInnerHtml\":\"<img src='data:image\\/png;base64,iVBORw0KGgoAAAANSUhEUgAAAHAAAABwCAAAAADji6uXAAAABGdBTUEAALGPC\\/xhBQAAACBjSFJNAAB6JgAAgIQAAPoAAACA6AAAdTAAAOpgAAA6mAAAF3CculE8AAAAAmJLR0QA\\/4ePzL8AAAIrSURBVGje7dlPiE5RGAbwH2YaYmNhQRPKKDaThY3FLNhYSEiUUDNZ2InVlwXjXzaalI2IkrLAgpVsGCFlY6PYTEMsTBI1M2omjSzO9\\/X9me+vxXz3O51nc89973vv03Of3nPfcy4JCQkJCQkJi1q9YT+WYitOYhS38RHvmrh\\/8UIrjJ+wKQ+XYRMuYgd6quR8wnPkMIm5rCiMn7Cuh\\/0YwE7sauGh5\\/EI77OgMH7CrnoXB3CtIvbF\\/BpbLcyvBQzjh+ThAqGrUcJj7MUEbuEKpityTuBqVhXGT1h3Ll0p1NwazOBzjbxteF1y\\/hvH8DALCuMnrFuHv\\/LHyRrXu3EZByriOdX9a4vC+AkbzqW1sB2nzO91xoV+JjMK4yf8Lw+HcANLKuIXhO\\/nRJYUxk\\/Ykof92IMzyv2bwRPcFdaJmVIYP2FTa\\/xu9Ak11pePzeFPfnwWI1lVGD9hU3WYE9btBbzCfVzvBIXxE9b1cLlQd4MlsVEcxbdOURg\\/YV0PB5Xv07zAPkx1ksL4CWt+DzfjKXrz589wBN+r5K4TavZSflzANE7jTTsVxk9YtQ634IGifzCGjYoenlPsTQ8r966AIeX+tUVh\\/IRVPRwT\\/iNtKIkdx0HFPZu1Gje1vVVi8b\\/S7MylPbgj+NYqhvFT+Dc8226F8RPW7GlmcQ+rhH21WviKQ\\/hQEpvC36wojJ+w4Rp\\/BXZjvdCzwE28zI\\/H8TbLCuMnTEhISEhISOAfDe9TlJxdm+cAAAAASUVORK5CYII='><\\/img>\"},\"nodeType\":\"DOM\",\"type\":\"node\",\"instanceArgs\":{\"namespace\":\"html\",\"tag\":\"div\"},\"children\":[]},\"True: 2\"]},{\"props\":{\"style\":{\"display\":\"flex\",\"flex-direction\":\"column\"}},\"nodeType\":\"DOM\",\"type\":\"node\",\"instanceArgs\":{\"namespace\":\"html\",\"tag\":\"div\"},\"children\":[{\"props\":{\"setInnerHtml\":\"<img src='data:image\\/png;base64,iVBORw0KGgoAAAANSUhEUgAAAHAAAABwCAAAAADji6uXAAAABGdBTUEAALGPC\\/xhBQAAACBjSFJNAAB6JgAAgIQAAPoAAACA6AAAdTAAAOpgAAA6mAAAF3CculE8AAAAAmJLR0QA\\/4ePzL8AAAGrSURBVGje7dm\\/S1ZRHMfxVz\\/IwukZGnJIeobWyCWkxkDQQcWhIfwDmp1cbAubHJsapC0K3BxqFRcFByfBoIagQRyC1AhquHd6eh483aJ7ni\\/ns1y433vvm8\\/9cM\\/3nHMpKioqKioqKioqal8X\\/sVDbmIbU9g\\/59qL\\/9thfODl1Atv4xSf+tRe4Du+5ugwPjApw3ms4ynWemqTeIhVfMzRYXxgUoaPseH3\\/GC2fsjbXB3GByZleB+vBtTG\\/FlTjf9K88twDFfxc0B9Ad9UvTJLh\\/GB52b4GccYxQjOeurXsIfDAfXWHcYHJo2lb7CE61jGh556F+\\/xDO9ycxgfmNTKOniJufqG16qxs4sHqnF2Sf85T+sO4wOTpyOX8EjV\\/27V5zoYV81NN\\/EjR4fxgX+1T7OoWjfewJdcHcYHJu\\/T9FN3GBzGBzb+DkewhSu4h5NcHcYHNv4OO7iL59Lza8VhfGDjDGfqY+oeW2sO4wMbZzhRH3dzdxgf2CjDO3ii6ofZO4wPbJRhR7Wu3xkGh\\/GBjTKcxhFWhsFhfGDjfngg7b996w7jA4uKitrXL92xMu+GFSrhAAAAAElFTkSuQmCC'><\\/img>\"},\"nodeType\":\"DOM\",\"type\":\"node\",\"instanceArgs\":{\"namespace\":\"html\",\"tag\":\"div\"},\"children\":[]},\"True: 4\"]},{\"props\":{\"style\":{\"display\":\"flex\",\"flex-direction\":\"column\"}},\"nodeType\":\"DOM\",\"type\":\"node\",\"instanceArgs\":{\"namespace\":\"html\",\"tag\":\"div\"},\"children\":[{\"props\":{\"setInnerHtml\":\"<img src='data:image\\/png;base64,iVBORw0KGgoAAAANSUhEUgAAAHAAAABwCAAAAADji6uXAAAABGdBTUEAALGPC\\/xhBQAAACBjSFJNAAB6JgAAgIQAAPoAAACA6AAAdTAAAOpgAAA6mAAAF3CculE8AAAAAmJLR0QA\\/4ePzL8AAAIISURBVGje7dk\\/bE1RHAfwD1pCm0oasXToQElYJMRgwmLoikVMRToZKEYRkwiJUSLRij\\/RgUmsQhgsDCQiFjZTNXmJ+FeG8yQ37\\/Xed5+X6OnJ+U7n97vnnG++93vP30tGRkZGRkZGxvLHiroV1+IAzmMHfheeTWCuWf6ANxX9rPzfCtMnLPVwK84V4nU4VKPDtziI97EoTJ+w1MNPGPnHThuYwckYFKZP2Ff24D5OFeJ5XMQJbOnQ6SD2YrswLpdUYfqElXPpj0L8UxiboziDq5htxsOLtJ8T5tQnS60wfcJSD4\\/gTofGm3Abu1vyX3EUD2NQmD5h7X0pDGCjMM\\/CEMZa6jQwiXuxKEyfsLaHA7iBwxV15nEMD2JSmD5hbQ9HhPWwChOYjk1h+oS1PRzGY+yqqPMZ43gVk8L0CbtaDzdjZyGeQX9LnSs4G5PC9Am78rAVa3ANxwu5X9iH57EoTJ+wr5fG33BX2Oesb+ZWqf4w0n+ly8tDwj6neBdwHS9jUpg+YU8ejgnjcEMh18D3mBSmT9jm4X5hjfuLSWG\\/STj\\/9Qv\\/ME4L\\/6JGY1eYPmGbh0PYVoifFsovhDFXduc9jWexKUyfsKu5dE9J\\/gsWcBnvYlOYPmGbhx9xU7jzXt2h8S3hLDEl+BilwvQJS48BU7i0SP4CXjfLjwQPo1aYPmFGRkZGRu\\/4Az3SRuouJzw\\/AAAAAElFTkSuQmCC'><\\/img>\"},\"nodeType\":\"DOM\",\"type\":\"node\",\"instanceArgs\":{\"namespace\":\"html\",\"tag\":\"div\"},\"children\":[]},\"True: 3\"]},{\"props\":{\"style\":{\"display\":\"flex\",\"flex-direction\":\"column\"}},\"nodeType\":\"DOM\",\"type\":\"node\",\"instanceArgs\":{\"namespace\":\"html\",\"tag\":\"div\"},\"children\":[{\"props\":{\"setInnerHtml\":\"<img src='data:image\\/png;base64,iVBORw0KGgoAAAANSUhEUgAAAHAAAABwCAAAAADji6uXAAAABGdBTUEAALGPC\\/xhBQAAACBjSFJNAAB6JgAAgIQAAPoAAACA6AAAdTAAAOpgAAA6mAAAF3CculE8AAAAAmJLR0QA\\/4ePzL8AAAIDSURBVGje7dlNqE5BHAbw33UvC1\\/J18LHRuwUi1tiZynJS5aKuimSlLIhKSlldXfKzUc2shAbKcnCQm\\/X0o6k2N2IcMUl12LOYnrfl\\/ervHOneTbn\\/P8zZ57zzNPMnJlDQUFBQUFBQcHcx1CrZA0nsLOqMBuV3cdDPMIKvMTXLgjn\\/W+F+RM2eVjDLSxq8+ArLMR7zFS5U3iWmsL8CUcaE6u09w82Vde1Ue4O9uN5SgrzJ2wahz\\/7fItfeIyD+JiCwvwJmzw8I\\/Q\\/1HGjuh\\/Fkep+I4bbNLwVL1JQmD\\/hUC8PHRPWQoLny1rUuYjzKSjMn7AnD2MsEdbPcezC4io\\/ie0pKMyfcKTfBr5gGk+wO8qPp6Iwf8K+xyFhLv0QxXXsw1QKCvMn7HscrsbNKP5dxVN\\/qZ9\\/l84dD4dxGGPYVuVmcBkTKSnMn7DnuXQMVxtyT4XzuaQU5k\\/Y9Tg8jeNYGeU+Ywt+pKgwf8KOPdyBk9iM9VG+Lsyfb1NVmD9hxx6uw4EonsYVXMKnlBXmT9ixhxca4gk8wPfUFeZP2NE3zXxhr7C0Rdk9fIvi68L8Oqv1+ph\\/l6bpYQ23saCLhidxVji\\/GajC\\/Ak73lscwlFhXVzzj3pvhPPwd9gg\\/I8cqML8CbveH44K+wjC+ejeqOwc7mI5XmMPrg1aYf6EBQUFBQX94w\\/NY0UX3LKr8AAAAABJRU5ErkJggg=='><\\/img>\"},\"nodeType\":\"DOM\",\"type\":\"node\",\"instanceArgs\":{\"namespace\":\"html\",\"tag\":\"div\"},\"children\":[]},\"True: 2\"]},{\"props\":{\"style\":{\"display\":\"flex\",\"flex-direction\":\"column\"}},\"nodeType\":\"DOM\",\"type\":\"node\",\"instanceArgs\":{\"namespace\":\"html\",\"tag\":\"div\"},\"children\":[{\"props\":{\"setInnerHtml\":\"<img src='data:image\\/png;base64,iVBORw0KGgoAAAANSUhEUgAAAHAAAABwCAAAAADji6uXAAAABGdBTUEAALGPC\\/xhBQAAACBjSFJNAAB6JgAAgIQAAPoAAACA6AAAdTAAAOpgAAA6mAAAF3CculE8AAAAAmJLR0QA\\/4ePzL8AAAGdSURBVGje7djPSxVRGMbxzzUTK2klrtSFG6PWLqVFGYo\\/\\/gA3gruQlm5DIf8RQWghoW2CVrlpGQQtEkvFcOMqXFRCqIsz0F3dOyl4Zw7vF4bhzJyZh4eHd857hiAIgiAIgiAIgiCgcd0X3MJI0\\/gIZy3md920w\\/wFGzCHtyUfuI9nWEQPbmO86f5LvKqSw\\/wFG3AHv1tMGsAERvHYv8w+YRszGCuu\\/cHdKjnMX7Cb1vnBBzyQAr8ozm\\/wHCc4ljJsYL1qDvMX7C4z6ULK+TPW8AU\\/cI5lrBTz9rFaNYf5C5bqaSbxrTiamcNr9OIQT3BQNYf5C165L12W+pd7Uk0+xV4VHeYveKUMZ7Ep9aT7eIF3VXWYv2Cp9bCZaWxI+R1hSrn665jD\\/AX\\/qw6nsSXt679L+8R261\\/HHeYvWDrDWan++orxQ3ytg8P8BUt9S4ekfy990n5wCbt1cZi\\/YNs67Jf+xwxK698CdurkMH\\/BtnX4SMrvL+bxsW4O8xdsm+FP\\/MJ718+vIw7zFyzV0wxLWZ7W0WH+gkEQBEEQcAkyqDoVGQFlagAAAABJRU5ErkJggg=='><\\/img>\"},\"nodeType\":\"DOM\",\"type\":\"node\",\"instanceArgs\":{\"namespace\":\"html\",\"tag\":\"div\"},\"children\":[]},\"True: 7\"]},{\"props\":{\"style\":{\"display\":\"flex\",\"flex-direction\":\"column\"}},\"nodeType\":\"DOM\",\"type\":\"node\",\"instanceArgs\":{\"namespace\":\"html\",\"tag\":\"div\"},\"children\":[{\"props\":{\"setInnerHtml\":\"<img src='data:image\\/png;base64,iVBORw0KGgoAAAANSUhEUgAAAHAAAABwCAAAAADji6uXAAAABGdBTUEAALGPC\\/xhBQAAACBjSFJNAAB6JgAAgIQAAPoAAACA6AAAdTAAAOpgAAA6mAAAF3CculE8AAAAAmJLR0QA\\/4ePzL8AAAHASURBVGje7di7axVBGMbhJxpv0c4LQhAR0ihGNJUQIgS0EAQrG0EtRBCENAn+BRrURrRTC21EsLNOZ8AiiKSJigjeOrXTRrwkxU5wTzgxe44g4\\/D9YNmZb3f25d2X3Z1ZgiAIgiAIgiAI\\/p6edsWNWI9j2L\\/CBW7iTQeCq\\/61w\\/IFWzI8ieG0DTa8wGuM4GOuDssXbMlwHr\\/S9iHVpvEJL5YM3Iux1J7A9Vwdli\\/YW++8wjdcwsM\\/DNqBQ7X+u5wdli\\/Y0+mAXap8h1L\\/Ec7gS64OyxdsnGEfDuM2ttbq+zCXs8PyBRtneA3jberT+JraT3EPb3NyWL5gb9MTB5apj9TaR7FbNb\\/9mYvD8gUbP4d7sHlJbRtO4S524irW4glG8SMHh+ULdjynWWQYl3Ea71NtCLfSfhDPc3BYvmDjd2mdg7iCi37nB89wX5XhFPpzcFi+YFcZTmADXrY5NoPv2J6Lw\\/IFu8pwCw7gASbxONVP4DjW5OSwfMGuMpxVzUePqL6Ln1O9H6tT+2wuDssX7GpOsw43cG6Z43dwQfv1Rfm39P\\/IkGoNsQnnta45ZlT\\/4uZzcVi+YBAEQRAEQQksAP7COYaEI4fdAAAAAElFTkSuQmCC'><\\/img>\"},\"nodeType\":\"DOM\",\"type\":\"node\",\"instanceArgs\":{\"namespace\":\"html\",\"tag\":\"div\"},\"children\":[]},\"True: 3\"]},{\"props\":{\"style\":{\"display\":\"flex\",\"flex-direction\":\"column\"}},\"nodeType\":\"DOM\",\"type\":\"node\",\"instanceArgs\":{\"namespace\":\"html\",\"tag\":\"div\"},\"children\":[{\"props\":{\"setInnerHtml\":\"<img src='data:image\\/png;base64,iVBORw0KGgoAAAANSUhEUgAAAHAAAABwCAAAAADji6uXAAAABGdBTUEAALGPC\\/xhBQAAACBjSFJNAAB6JgAAgIQAAPoAAACA6AAAdTAAAOpgAAA6mAAAF3CculE8AAAAAmJLR0QA\\/4ePzL8AAAHmSURBVGje7dlBiE1hGMbxH83GbGQxlFA2MzWNKMpOQxZioSxkodhgo7Ci7JSNNNsJWVqaoRiNhbKxUgq72SjZjERJlGay+M50b7dzr+uecs95+57NOfd7+\\/rf5z59nfc9l6ysrKysrKys5mvdIJsmcRlbcQyP8aqo3cW3HnvX\\/2+H8YEDZTiDS11qX3Edd+riMD5woAw\\/SmcQ3uBTW+0QXuNgXRzGB45U2byEo1guPm+R8tuNs3iKz8N2GB9YKcMfWvltwjmt83kfD3Fy2A7jAytluB0H8B7PsK+ttopHdXAYH1j5eVimD7ilvK+J\\/5M26xx26h2O4At+18VhfOA\\/ZziBDR1rqziPeb1nw6E4jA\\/sO8MRaV64J\\/Uv8B2LuIm3dXUYH9jX83Cn1HNe7Vi\\/iNm6O4wP\\/Os53Is5bCupLTXBYXxgzwz3SPPBWg+6gic43iSH8YE9M3ygld8Cbku55gxrBeya4WmMS+\\/ODuOXNC9caJrD+MDSDCdwo\\/g2K1L\\/uaYTxXVZ6z1brR3GB5ZmuBFjxf1CcR3HmbYN8\\/qfJ4bqMD6wNMNpjBb3V7AfU9hRrL3EtaY4jA8snQ+n8Fz6L6lTP3FK6k8b4TA+sOuMv0vKcXPb2qLUm75oksP4wKysrKys6voD1xJDLrDjwQgAAAAASUVORK5CYII='><\\/img>\"},\"nodeType\":\"DOM\",\"type\":\"node\",\"instanceArgs\":{\"namespace\":\"html\",\"tag\":\"div\"},\"children\":[]},\"True: 8\"]}]}]},\n",
       "            window,\n",
       "        );\n",
       "    } else {\n",
       "        document\n",
       "            .querySelector('[data-webio-mountpoint=\"116203420070600847\"]')\n",
       "            .innerHTML = '<strong>WebIO not detected.</strong>';\n",
       "    }\n",
       "    </script>\n",
       "</div>\n"
      ],
      "text/plain": [
       "(div { style=Dict(\"display\"=>\"flex\",\"flex-direction\"=>\"column\") }\n",
       "  (div { style=Dict(\"display\"=>\"flex\",\"flex-direction\"=>\"row\") }\n",
       "    (div { style=Dict(\"display\"=>\"flex\",\"flex-direction\"=>\"column\") }\n",
       "      (div { setInnerHtml=\"<img src='data:image/png;base64,iVBORw0KGgoAAAANSUhEUgAAAHAAAABwCAAAAADji6uXAAAABGdBTUEAALGPC/xhBQAAACBjSFJNAAB6JgAAgIQAAPoAAACA6AAAdTAAAOpgAAA6mAAAF3CculE8AAAAAmJLR0QA/4ePzL8AAAIKSURBVGje7dpPiI1RGMfxzyAL8qfZmFISi1EiFigpSZJiMbGhbLBDVjZ2FqSwQBazUhayxYryd6FuTf5syN6fHYM0yGDxvJPr3tu9c2eKc0/nW29v5z3ve3/93qdz3uc551IoFAqFQqHQ+/R1+8BMLKhrH8EcDOIwzmEvvuIMTjY8P+NfO8xfcFanG5ZgNjZiExZid4v7XuMihvAZz/EwBYf5C7Ydh2tx19/jrhU/cQBfqvZbfMCrFBzmL9g2hv2oYVmLvhpGsQXfdY7zf3OYv2DbufQ9jmMnnoq5Ep5hmxh3K3EsZYf5C04qp5kvvnHDOIj9uNYrDvMX7JjTwKfq/LE6H8J18R1M3mH+gl3VFnNxC5uxA3d6wWH+gl3Xh8vxROQz9zGCy/iVqsP8BbuOIVEDXsG8qn0CV/EuRYf5C04phrAK57G1ag/jFN6k5jB/wSnHkFiz2SXGZB/uiZojKYf5C04rhhN8EwnuD2zHg5Qc5i84qdqiFauxB+vqfuQFHqXmMH/BrmM4iKMirxmouz4ucppONWP+rzTduXQA+8T+0tKGvhGRz9xM0WH+gh1juEisiV7Cioa+Gs7ihsmv2eT/StOJYb+oF9Zo3rd4LOqK2xhL3WH+gk0x3CD2KtZjcUPfGC7gtD97hck7zF+wKacZqo4JXoo10nHxP4vRXnOYv2ChUCgUps9vDE1MYMzifHwAAAAASUVORK5CYII='></img>\" })\n",
       "      \"True: 5\")\n",
       "    (div { style=Dict(\"display\"=>\"flex\",\"flex-direction\"=>\"column\") }\n",
       "      (div { setInnerHtml=\"<img src='data:image/png;base64,iVBORw0KGgoAAAANSUhEUgAAAHAAAABwCAAAAADji6uXAAAABGdBTUEAALGPC/xhBQAAACBjSFJNAAB6JgAAgIQAAPoAAACA6AAAdTAAAOpgAAA6mAAAF3CculE8AAAAAmJLR0QA/4ePzL8AAAIWSURBVGje7dlPiE1RHAfwzwx5jWQWNtRkxw6vNxErskRRFpLMVklNkbJAVhb+LFCipIgiWRDJZuqtbPzb20kpTMKkKHMtzpVHc999b5TOnM63Tt13zv3db9/z7fc7v3sfGRkZGRkZGQP/EjyKAxjDdVzA85qYwf+tMH3CWXvYxAQWd8x9wpLYFKZPOH82QetwF8Mo8AXfBf824Fn5OwqF6RP2lYcL0cINjJTBhVA/T+FWOXcMJ2NRmD5hX3l4GbtnmG9hEdrYhFUxKUyfsGcPR7HV78Rt4wFO4y1e4CM2657c6W9pnLW06c/+5ZGQjxuxGlfwvlz7ga/l2kw9avpbGl8ersRhoX/5IOTcNUzhYTn+xhAOYU8MCtMn7OphA2ewReg9x/BU8KgOy2NRmD5hVw9bgn+wXTgD55zC9Am7enhWODDbevdvENOqD9r0tzQeD7cJvUyB+308cLqMeRmLwvQJKz0cwgK8w+0eHtTAifJ6AkdiUZg+YW1f+k3oRbuhgaNC//pGqMFTsShMn7DWw7o62hS824V72BmbwvQJKz0cKMcOjFfcc1DIv2HcFN49olOYPmGlh0U5luI8rmIS67EXa4Tv3q/xGBdjVZg+YW0tnYf9Qo38jBUda0+E/uV4zArTJ6z8XjqCO1jbcWNRXk8K/zON6x/pb2k8HsIy7BPOvF8ensMlvJorCtMnzMjIyMjIyOAnQ85TpVMJlhIAAAAASUVORK5CYII='></img>\" })\n",
       "      \"True: 0\")\n",
       "    (div { style=Dict(\"display\"=>\"flex\",\"flex-direction\"=>\"column\") }\n",
       "      (div { setInnerHtml=\"<img src='data:image/png;base64,iVBORw0KGgoAAAANSUhEUgAAAHAAAABwCAAAAADji6uXAAAABGdBTUEAALGPC/xhBQAAACBjSFJNAAB6JgAAgIQAAPoAAACA6AAAdTAAAOpgAAA6mAAAF3CculE8AAAAAmJLR0QA/4ePzL8AAAGlSURBVGje7dixS5VRHMbxj3IJWhILESGCBmmzqSEHCy5EtDcpbhr0bzQFzk0ODjVGOjU0OVmko5EJQVJDWyAkgVDDe8Dee68k773kuT/Osxzuue99vuc5D+d9uS9FRUVFRUVFRcOvkUEbtvECd7DX4/vR/50wPrDVOTGHK3jV0PAWtnNKGB/Y1eFdTGvW4Siu45rTD3j8LT3/Dhex1dBsCkt4jo+5JIwP7OqwnxWspnE/p4TxgbUOZzDZh9lYGt/klDA+sNbhA1xsaDSpehbCt5wSxgfWOryRxt0GRiuqHj/hMKeE8YGtXpPvz/jjS7iPBdxLc0/wI6eE8YE9O7zc8flmWlkbV3EB82nuCO/wK5nt5JYwPrD2N+4ZHqnO0cFf8zPpwmP8xAdVb9vYxHd8xbiq36wSxgfWzuFjfMFsx0UH2FB197aHyTIm8DnHhPGBXffSpw1M2ml8mWPC+MBW/xYnWs8xYQEWYP7AgZ3DEdW78n+9a42/pcPb4e8zrj7+lg5vh3Aba7kljA8c6L00y4TxgQPp8DUe5powPrCoqKioqH/9ATeSLmyCLr3XAAAAAElFTkSuQmCC'></img>\" })\n",
       "      \"True: 4\")\n",
       "    (div { style=Dict(\"display\"=>\"flex\",\"flex-direction\"=>\"column\") }\n",
       "      (div { setInnerHtml=\"<img src='data:image/png;base64,iVBORw0KGgoAAAANSUhEUgAAAHAAAABwCAAAAADji6uXAAAABGdBTUEAALGPC/xhBQAAACBjSFJNAAB6JgAAgIQAAPoAAACA6AAAdTAAAOpgAAA6mAAAF3CculE8AAAAAmJLR0QA/4ePzL8AAAF/SURBVGje7dixShxRGIbhxyVgYaEhglhlr0C8gC1SJGKRwsqU5gbSCVqksQukEkkdsU/hBSjaLHgH2ggpUsTKwsrCpJiBXYVkZ3YX58zP+apzYJh3Xz7+M4clJycnJycnJ6f9mZnWiz5jDx28wfk/nus8t2F84ItpvOQjdvFQ7v+kZBgfOJUOX2M2VcP4wIk7fItP5foS7/E7JcP4wIk67OEQ8+X+K36mZhgfOFGHW1gu12c4StEwPnDse+mi4sx8wC0+4DRFw/jAseawix9D+wPV+mvEMD5wrA7XsVKuT7CfsmF8YO2zdENxj5lDH5v+fw9t3DA+sNYcdj0+Q6/V668Rw/jAWh3uGPwXA1/aYBgfWLnDVawN7Y9x1QbD+MDK38MbvCzXF4p7zV0bDOMDK8/hK4Nz9Jvx+mvEMD6wUoffn/yyfpsM4wNHdriKd4oZvFfMYN27aKOG8YEjO1zAUrn+he22GWZgBqYPHDmHl4rvX6+thvGBOTk5OTmT5y9D7yxecgVygwAAAABJRU5ErkJggg=='></img>\" })\n",
       "      \"True: 1\")\n",
       "    (div { style=Dict(\"display\"=>\"flex\",\"flex-direction\"=>\"column\") }\n",
       "      (div { setInnerHtml=\"<img src='data:image/png;base64,iVBORw0KGgoAAAANSUhEUgAAAHAAAABwCAAAAADji6uXAAAABGdBTUEAALGPC/xhBQAAACBjSFJNAAB6JgAAgIQAAPoAAACA6AAAdTAAAOpgAAA6mAAAF3CculE8AAAAAmJLR0QA/4ePzL8AAAHwSURBVGje7dnPi41RHMfx10j5kSShbCwMG2QjWRkbsZNYjAWFnYWdkpKN8QfY2LAgqWlEyWxk49dmyk4ZJVaajZKUSJlr8T23mabmzr2Pmnvu6Xw29/l1nvf93M/9PufHQ1VVVVVVVVVVVVVV1f9rqNcGB3AGI9idjl3CDA7iPqY6tF+x3A7LB/aU4ShuYlNq+AKbsWvezR7iVE4Oyweu7Pai/biNtXiF63iDVZjAkXTt29wclg/sKsPTuJO2n4t6/JH2R83l9wX3cnNYPnDJZ+kYrqCFW7hqLj+Yxs60fRJPcnNYPrBjHV4T+f3BM1zGr3Rutai/beKPMGbp/PrisHzgonW4AR/E+GUSx+ed24EH2Jf2H+E8fubosHzgohluEfMF2I7fOIdj2IN14vnawgk8zdVh+cCOdTgt5g5DIqu2ZtKxrfiaPrN1WD5w0f7wu3h+TmIjPon+7i6+YVxkN567w/KBHcc0U6IOF2oEhzCLz7k7LB/Y1fxwodaI/FpqHWYA7Hm9tK2/IsN2n5itw/KBjerw6CA5LB/YKMPhQXJYPrBRhq/TN50dBIflAxtl+A4fxdx/WO0P+wxsPKY5K95lvMRFvM/VYfnAxhmuF+8ND+OxWIer66V9ATbOkMjxBi5gr+5qsfyfdNmBVYOvfxOISKianOH0AAAAAElFTkSuQmCC'></img>\" })\n",
       "      \"True: 9\")\n",
       "    (div { style=Dict(\"display\"=>\"flex\",\"flex-direction\"=>\"column\") }\n",
       "      (div { setInnerHtml=\"<img src='data:image/png;base64,iVBORw0KGgoAAAANSUhEUgAAAHAAAABwCAAAAADji6uXAAAABGdBTUEAALGPC/xhBQAAACBjSFJNAAB6JgAAgIQAAPoAAACA6AAAdTAAAOpgAAA6mAAAF3CculE8AAAAAmJLR0QA/4ePzL8AAAIeSURBVGje7dhNiI1hGAbgizHTZAwlv8spiowFkcaGjYjyV5LYKNRsJspPNhpKoixkz9KKrCZJlDIWFrOkUFPK1KQooZn8LZ5vOqfpmPmMMt+8vXd99f6c59zffe6e9zzPS0ZGRkZGRkbGzMesfwluxzzswhJcx8gkMbP/t8L0CedMJagDZ9GFzrr1ZeipmsL0Cf8qD1fhJI6gtQh+h89YjQ/YildVUpg+Yak8XICrOCjOzzG8xna04CUWFU+lFKZPWMrDfTg2bu0ttok8XFllhekTlvLwQN14EC9wTvhHnLGVVZg+YSkPj+MEHuINhsftL62ywvQJS3n4Hr0T7HdVWWH6hFPqLXrQJurSX1hbrPfjedUUpk9YureYizW4gJ11b/uzGA9hi6h1KqUwfcJJ87AZ63AXy/FN+NWPHcJbaMJ+3MBolRSmTzhhHrYIn+4V84t4jGdYWIw7x8Ucxn1/vnNL/yetjofNuIQzxfyBuJ/5hMXow3qRc9eEl3uKzz4q1j4W84HpVJg+YUMPm3AZp/EF53FHeLIRN7FB9BndeIL52CzycLeoeYgesmM6FaZP2NDDbuHTV7W+cBOOinqmVeTobbU+vx6HhJdwStzJTZvC9AkbejgkzssRcX/dhhV1+724gh8zQWH6hA09HFDr+cbQh6eiXhnE95miMH3Chh62Y6+oWYZxS/wXjpb+2gopTJ8wIyMjIyMjIyMF/AZmoFKjiAQ4zwAAAABJRU5ErkJggg=='></img>\" })\n",
       "      \"True: 2\")\n",
       "    (div { style=Dict(\"display\"=>\"flex\",\"flex-direction\"=>\"column\") }\n",
       "      (div { setInnerHtml=\"<img src='data:image/png;base64,iVBORw0KGgoAAAANSUhEUgAAAHAAAABwCAAAAADji6uXAAAABGdBTUEAALGPC/xhBQAAACBjSFJNAAB6JgAAgIQAAPoAAACA6AAAdTAAAOpgAAA6mAAAF3CculE8AAAAAmJLR0QA/4ePzL8AAAExSURBVGje7dkxSgRBEIXhTzEy8gQiaqCJRt5CDY2MNRMvIHgFwUC8w17CM+i6CAbGxobOGuzCTtotrj1FvWgapvn79aN6qhlSqVQqlUqtlE64wxWecYyPwvmry3YYH7hW8vIWztFhH3sywwaARRl+4gmnQ3IYH1iU4Zfyuvt3h/GBRRlu4HBoDuMDizJcx2ZvfISJstqMv6VLBxb3pTe4xXQ+vsZ9yw7jA4szhG+ZYUPAorO0v8puKA7jA6sy7CzqsHmHCUxgAhP496rqaaYW38MRzlp2GB/4674UDjBu1WF8YFVP84DL3vjC7I7RpMP4wKoMJ0NyGB9YdZbCG3Z6q97Fe4sO4wOr6hBesD1/Lrnvx9/S4WT4iJMhOIwPrM5wjFez//lNO4wPTKVSqVQqxQ/pmiThuHbDZQAAAABJRU5ErkJggg=='></img>\" })\n",
       "      \"True: 1\")\n",
       "    (div { style=Dict(\"display\"=>\"flex\",\"flex-direction\"=>\"column\") }\n",
       "      (div { setInnerHtml=\"<img src='data:image/png;base64,iVBORw0KGgoAAAANSUhEUgAAAHAAAABwCAAAAADji6uXAAAABGdBTUEAALGPC/xhBQAAACBjSFJNAAB6JgAAgIQAAPoAAACA6AAAdTAAAOpgAAA6mAAAF3CculE8AAAAAmJLR0QA/4ePzL8AAAH9SURBVGje7dk9aFRBFAXgLyFBsFBMp4Uogo1aaCf4V5gERLQSAlEiip2ipVrbClZaCBb2QqIYEEEEsQ9oa6WFCjYJGP8wFvMk+zNv94WAOw5zqtl37+zZw+HO3vuGgoKCgoKCgoL/H0NrSd6NURzBXfyO5MxhCj9qvmP4XyvMn7CRh3twHmeqX7it2rhSk/8Q17CYgsL8CRt5+BgnIhtXeuw5itcpKMyfcKRJ0nOrHn7GA+0eHhQ8S1Jh/oSN6nAEW6v1T3zsiG/CW+GMhVlM43sKCvMnbFSHv/C+R3wSW1o+fxD3byAK8ydcU18awxQuaT9Lx8T7mYEozJ+wUR3GMI0b2CXMG3+xIJy3ySjMn7CRhztwDsdbnh3S3pcu4jrmsZySwvwJ+56l+4S5fXtkY6uHT3E6RYX5EzaqwyHdZg9rf09zUpg/5lNTmD9hXw/f4BjO4hm+dcQv4krKCvMnXHdfuhlfqvUppQ5TrMN+mExdYf6EtR6OYgIv1PeZF3AndYX5E0Y9PIybGMdO3e9oxoT+5TY2Vs+W9Z4pBqYwf8Lo/+EC9lbre1jqiI/jgNXZ4mWV9yhFhfkT9vWw18ZPeIKruvvVZBTmTxj1cD8uYyYSe4eveIX7wuyRtML8CWtniw3C3f0t4U5iVrhHnNN995S0wvwJCwoKCgrWjz/TA0jz9/U8JAAAAABJRU5ErkJggg=='></img>\" })\n",
       "      \"True: 3\"))\n",
       "  (div { style=Dict(\"display\"=>\"flex\",\"flex-direction\"=>\"row\") }\n",
       "    (div { style=Dict(\"display\"=>\"flex\",\"flex-direction\"=>\"column\") }\n",
       "      (div { setInnerHtml=\"<img src='data:image/png;base64,iVBORw0KGgoAAAANSUhEUgAAAHAAAABwCAAAAADji6uXAAAABGdBTUEAALGPC/xhBQAAACBjSFJNAAB6JgAAgIQAAPoAAACA6AAAdTAAAOpgAAA6mAAAF3CculE8AAAAAmJLR0QA/4ePzL8AAAEhSURBVGje7dixSQRRFEbhb8VFTBTRQDAwMNFQzbQFEeswtAhrsAoLMBE0sAMx1UDESCNBFtZkGpg34N653APLi4bD4Wd4w1IURVEURTF+Jn0fmOIE1zhtEC79d2F+Ye8Nt/CJDxx1Z+jC/MLl1ge3u19tuHBh84a9X+BFFeYXNm84x+oYCvMLmzeEYzxFL8wv7L3hDN9Yx94YCvMLe2/4hUecjaWwhCWMLxx0H26OoTC/cNCG52MozC9s2vBe3YeBhE0bvnXnFLt4jVyYX9i04aw7J1iJXphf2PqXmWfs4waXkQvzC5u/ae6wg6vohfmFg75L5/iNXphfOGjDNVzgNnJhfmHzffiODRziJXJhfmHze/iAA/xEL8wvLIqiKIbzB7rCGnmE+s7vAAAAAElFTkSuQmCC'></img>\" })\n",
       "      \"True: 1\")\n",
       "    (div { style=Dict(\"display\"=>\"flex\",\"flex-direction\"=>\"column\") }\n",
       "      (div { setInnerHtml=\"<img src='data:image/png;base64,iVBORw0KGgoAAAANSUhEUgAAAHAAAABwCAAAAADji6uXAAAABGdBTUEAALGPC/xhBQAAACBjSFJNAAB6JgAAgIQAAPoAAACA6AAAdTAAAOpgAAA6mAAAF3CculE8AAAAAmJLR0QA/4ePzL8AAAHuSURBVGje7dk9aBRBGMbxnxJBtAhIGhENKFqoAe3EwoiVtU2IBAlqodYBCztFsBELKwNKELEQ8SN9AoKFoI2QQkQrRURBrWyUxGJWWE8v7ELizb3MA8ftzdzN/x5entmZWYqKioqKiorWrNbAc9XgRzra1/5vh/GBA6sx6DUcxO0cHMYHrngNr+AMfkhZ7LnD+MAVr+EBrMNT3MvBYXxg6xoewgWM40tH3zj24i2mcnEYH9h6TfMKOzEqZa2uBezBMTzMxWF8YOscfscS1ne078M2LP6jr6cO4wNb1fASRqQsvqy1b8R5bMAz3M/JYXxg47l0K55jEEfxpNZ3A6fwQcpiVg7jAxvlcAQPMITr/qzfFCar68s5OowPXDaHA5jAzeqfLUpZnMVVbMIj7McdnMzRYXzgsjWcwEzti2+wo/r8AluwGZ+r9ywdxgd2reGYlK2f+Ibj+Crlb7T246Xq9RGHpb1hVg7jA7vWcB7D0j3uVq19N6al85jfNYS7OJGjw/jArmuax9I65l1H+5C0jyedyyxU1+9zdRgf2OqcZlDK5VlpztzVDw7jA1vt8c9JzyQ++fu5YLYO4wMb13AYp6X737Tmc2fPHcYHNp5LX2O7tFad7CeH8YGNcziDi9L+vq8cxgcWFRUVFRUV8Quek0XsTpCCZwAAAABJRU5ErkJggg=='></img>\" })\n",
       "      \"True: 4\")\n",
       "    (div { style=Dict(\"display\"=>\"flex\",\"flex-direction\"=>\"column\") }\n",
       "      (div { setInnerHtml=\"<img src='data:image/png;base64,iVBORw0KGgoAAAANSUhEUgAAAHAAAABwCAAAAADji6uXAAAABGdBTUEAALGPC/xhBQAAACBjSFJNAAB6JgAAgIQAAPoAAACA6AAAdTAAAOpgAAA6mAAAF3CculE8AAAAAmJLR0QA/4ePzL8AAAHWSURBVGje7dlPiE1hGMfxz0hISEhmYxKJyZ+pKTULO7GZWSqy1uxkQcpCU1LKKEa2s1QWWIqFnZUFiwnlT4hZTixmMxKLc25z6NzbOSn39fT+6tZ7n+ec++3X03Of856XrKysrKysrIE2Fw9jHKfxDC/K+A0sNfyNFf/aYXxg4xpO4hrW1eSO4EmqDuMDG9dwE15ia03uK07gcYoO4wNXNr1wAVOYxlp8wvYytxHH5Br2CdhqHsJzHMQc9lXiu/A+RYfxgY37sKMruIiRP+KrU3UYH9i6D2EbHmF/JXYPx1N0GB/Yug9P4YDf/0fhaaoO4wMb9+Ee3FfMvbrC53nYN2DjPtyLHT1uOIszKTqMD2xcwwe4gKtYU5MfTNVhfGCreTiDN4r9YOfmW9iQssP4wNbPNA8r6wHsxCXFXmMIH1NzGB/YuoZVrVLUD77jR4oO4wP/qoaXK+tZfE7RYXxg173FZkVd7uJOTX4QryzPwry36Buwax/exAR240v5eYvRMnbecv2uYz5Vh/GBXftwTHFGMVZ+/6A4ezqM9WXsJ17jEBZTdRgf2PM9zTTe4XaX/AK2pO4wPrDnM805xXlE5+x+BCfL9Tcc/R8cxgdmZWVlZWVl8QtzxjjaMNLTNQAAAABJRU5ErkJggg=='></img>\" })\n",
       "      \"True: 3\")\n",
       "    (div { style=Dict(\"display\"=>\"flex\",\"flex-direction\"=>\"column\") }\n",
       "      (div { setInnerHtml=\"<img src='data:image/png;base64,iVBORw0KGgoAAAANSUhEUgAAAHAAAABwCAAAAADji6uXAAAABGdBTUEAALGPC/xhBQAAACBjSFJNAAB6JgAAgIQAAPoAAACA6AAAdTAAAOpgAAA6mAAAF3CculE8AAAAAmJLR0QA/4ePzL8AAAF4SURBVGje7di/Sx1BFMXxT4KNKSKoTZpYpUwhKLGx8w8QU1lYCGlSGBQFEbXW0sIypbGwDLHwR51CQtIIFgqinY1NBEUQU8wKz+Ipq4+8fcP9wrLD3d05HA53dnYJgiAIgiAIgiB4Pi8aPWEP2jGKz0VtE+PF+OX/dpi/YFujJhrCiJRdB25rrg0002H+gs/uw694j/6a2l98wy+s46qZDvMXfHKGXVjCJ5zjGMvYxyVOq+Iwf8EnZ7iCCaxiHhdVdZi/YKkMX2EWY5gsHt5yf62snMP8BUvtaRakDDewrVx2TXOYv2CpPrwtjmF8bxWH+QuW6sM99EnvwEvstILD/AUf7cMP+INrdOILFqU9zAAOqu4wf8G6Gb7BD7zFFNaKejfOivEgflbdYf6CddfS33gt7WHWauqTxXlX+hasvMP8Bev24Zy0D22vqR3iHU7wUcq58g7zF3zwfTiDXulf6N3Ne5jGEW5awWH+gkEQBEEQBEEQBI3gH5UrNC4u67AHAAAAAElFTkSuQmCC'></img>\" })\n",
       "      \"True: 5\")\n",
       "    (div { style=Dict(\"display\"=>\"flex\",\"flex-direction\"=>\"column\") }\n",
       "      (div { setInnerHtml=\"<img src='data:image/png;base64,iVBORw0KGgoAAAANSUhEUgAAAHAAAABwCAAAAADji6uXAAAABGdBTUEAALGPC/xhBQAAACBjSFJNAAB6JgAAgIQAAPoAAACA6AAAdTAAAOpgAAA6mAAAF3CculE8AAAAAmJLR0QA/4ePzL8AAAIgSURBVGje7dlPiI1RHMbxzzUTKTeUGjZTY2MlSSxmYTEWVjPFAjWSFDsWkpS1jdVkPXtSyoSiEFkpf4oyMyILiZSFlD+5hsV5J+97m3vn3qbc43Seut1+p3Pep6dv73vO733JysrKysrKyvr/VSsXq7Af37ENdYzjHt41LfyAKTzq0nDZv06YvmGF4Xmc6mLxHF7gEi7iTYwJ0zesMHyFjaX6E541LZjFJqzB1tL4KG7EmDB9w/5ysVvgM1vUX/G+xcI6nmOwqMdkhj0yrDB8Xfw60ai//H5gMtaE6Rv2d7tgOS7gUGlsGE9jTZi+YVcMR3AQh4v6J05gOuaE6Rt2zHAHbqGvNPYbb/Er5oTpG3bMcJ8qP8Jz9brQI17DVeGcE1XC9A1rnU4cxllsx7oWc+YwIfSZH2NJmL5hxwznNSgwHMBeHFngIvexS2Da84TpG3bNsFnjOC7sl2WdEe7HnidM33DJDAmb6m3sLI1N4lgMCdM37Lo/XEgNPFZl+DKWhOkbLspwA45iBpdbzOnDllLdwMNYEqZv2JbhetzEZqxtMWcAJ4X+f17TeBBLwvQN2zKcEPjBkPAu/FtRr8RpgV+9GKvhi/DuJpqE6Ru2ZXhH6O3hifBO9HNRr1b99kTgt0foLaJJmL5h23PpEM7hwCIXaQj37BWt98GeJUzfcNHeYoVwb40IZ82xYnym+L8rPGPzd4ueGWZlZWVlLV1/AKJAT++xHHUNAAAAAElFTkSuQmCC'></img>\" })\n",
       "      \"True: 3\")\n",
       "    (div { style=Dict(\"display\"=>\"flex\",\"flex-direction\"=>\"column\") }\n",
       "      (div { setInnerHtml=\"<img src='data:image/png;base64,iVBORw0KGgoAAAANSUhEUgAAAHAAAABwCAAAAADji6uXAAAABGdBTUEAALGPC/xhBQAAACBjSFJNAAB6JgAAgIQAAPoAAACA6AAAdTAAAOpgAAA6mAAAF3CculE8AAAAAmJLR0QA/4ePzL8AAAIbSURBVGje7dg7iFNBGAXgz0ch4mPRwsZnYezWgIUKuyhYqeCCjTYWdjYiGC1st7JYUbARu0WslAVBRBBWfGAlWGhnIYqPZkVEVBBMLOYu9wp6k7hgJsMcCJmZ5Obk3MN/58xPRkbGoLFooT/QwF0swaYevr/4fytMn3DpQi6+jCNYg9uxKkyf8J/qcB1msAsdvMA+fIxRYfqEfddhA1PYWczP4ane/BuIwvQJ+/ZwLQ5U5m9xP2aF6RP25WED15UP4MO4FbvC9An78vAYNuIOTuDdMChMn7DnTPMETbzHfrwcFoXpE/ZUhxNChungBr4Pk8L0Cbt6OILxyvyTkGOqOIUNxfhMbArTJ+zq4U/sKP5ZGw8rn50WavOkskfTwnp/3yvTv6XxebhHqMM23ijPgU2M4VAx/yrU5zbcxFG8jkFh+oS1Hq7ElmL8AdeELNPAWWGfnMM9XMAqzGJ1TArTJ6z1cAwXi/FVTAp9tinhnP9FyDgtbMWVYm3Wn2twIArTJ6z1cLQynizeZ5R9tgk8wG48KtYuqc816d/SuDwcEQ6Q872YJjYXay3Bv2rvpiV4GJXC9Am7ZppO8ZpHu5iPChlnGV4JuedzjArTJ6zt01SfkePYjvNYUbl4DseF/luUCtMnrK3DH/iG5Xjs93qkzDS9+jcQhekTdu2XHhTO8nuVHk7jOZ4Je2LUCtMnzMjIyMjIyMjIyIgBvwC151YQSLFxqgAAAABJRU5ErkJggg=='></img>\" })\n",
       "      \"True: 6\")\n",
       "    (div { style=Dict(\"display\"=>\"flex\",\"flex-direction\"=>\"column\") }\n",
       "      (div { setInnerHtml=\"<img src='data:image/png;base64,iVBORw0KGgoAAAANSUhEUgAAAHAAAABwCAAAAADji6uXAAAABGdBTUEAALGPC/xhBQAAACBjSFJNAAB6JgAAgIQAAPoAAACA6AAAdTAAAOpgAAA6mAAAF3CculE8AAAAAmJLR0QA/4ePzL8AAAEUSURBVGje7dmhSkRBGEfxnyIrgtkgGGwiNqvBIsgG38onEINgF3waMRgEgyCIL6CwZQ13fYCZQZ35+E7ZDXc5HP7MTrgkSZIkSZKMz1rpw3eY4xBvFcL1vy6ML9woeXgLJ9jGOW5HKIwvLNrwE8/Yxc4ohfGFRRvCNU5xMEphfGHRfQh7eMUC+3jvvTC+sPgcMg0/wwVuei+ML6zacLn6nI1QmMIUpjCFv0/1fbis+eF/FMYXNt2HQxTGF1Zt+MPjCIXxhU0bvoxQmMIU9i9sOoebIxTGFzZtOMdV74XxhcUbfuDJ9P5wiML4wuINF/hafT+T57ADYdV/6QOOTe+Cuy+ML6za8BJHuB+hML4wSZIkaecbeyEXkGV2PBoAAAAASUVORK5CYII='></img>\" })\n",
       "      \"True: 1\")\n",
       "    (div { style=Dict(\"display\"=>\"flex\",\"flex-direction\"=>\"column\") }\n",
       "      (div { setInnerHtml=\"<img src='data:image/png;base64,iVBORw0KGgoAAAANSUhEUgAAAHAAAABwCAAAAADji6uXAAAABGdBTUEAALGPC/xhBQAAACBjSFJNAAB6JgAAgIQAAPoAAACA6AAAdTAAAOpgAAA6mAAAF3CculE8AAAAAmJLR0QA/4ePzL8AAAHmSURBVGje7dk9aBRRFMXxn6IpElQEGyU2NprERisrLfwACwtRFPyqxUY0oJWFCPZCsIiFVQjY2QgWFhYKFlai+AnGykILS0ETi/dgV5zd2U3AzFzeafbemTd79s/h7c7doaioqKioqKioqKioaOVas5KLpzGCCZzNx95iqs81a/83YXzDoTM8gN359XjFGyziIyabQhjfcF3dgq2Yx47cb8KYlN1L7K0gGGsSYXzDvhkewj1srzg3iW/Ygm24j/F87k2TCOMb9s3wmr/z+4nreIF3+dh3XNbJ7zPON4kwvmHPDI9gX1f/RcrmWcXa8a76obQ/G0MY37BnhtMYzfVz3PRvfptxFPu71j1qGmF8w54Zzkq/dT9wBl8r1lzErVy/xqke61aVML7hsufDY3iA9fiFq7jbRML4hsvO8DeWcn1J2reNJIxvWDsfVul2/qSLuX/aZML4hkNnOII9Un5L0lzxocmE8Q2HynAU53A49/OY09mPjSSMbzhwhhuk/2xO5v4KZgyX36oQxjcc+J5mAq9y/Qk720IY33CgfbhLmh3gvTTXt4YwvuFAGd7A6VzPYKFNhPENazOcwsZcz+JJ2wjjG9ZmeEH67lzAHZ3nFa0hjG9Ye09zEI9xQnom0TrC+IZF7dcfOdQ+4/dMdSIAAAAASUVORK5CYII='></img>\" })\n",
       "      \"True: 7\"))\n",
       "  (div { style=Dict(\"display\"=>\"flex\",\"flex-direction\"=>\"row\") }\n",
       "    (div { style=Dict(\"display\"=>\"flex\",\"flex-direction\"=>\"column\") }\n",
       "      (div { setInnerHtml=\"<img src='data:image/png;base64,iVBORw0KGgoAAAANSUhEUgAAAHAAAABwCAAAAADji6uXAAAABGdBTUEAALGPC/xhBQAAACBjSFJNAAB6JgAAgIQAAPoAAACA6AAAdTAAAOpgAAA6mAAAF3CculE8AAAAAmJLR0QA/4ePzL8AAAH8SURBVGje7dnPi05hFAfwD9HMUBZMVtQozGRDLCQLpbCQlRILZW3NzkJjJf/AlFGzFDaj1Ch78muSYpT8KCtFDIkQi3Pl9TbXfZlyH0/Pt27de8597/d++3bO+zznUlBQUFBQUFDw/2PBn9x8GHuwEcNV7Ab24W2Pz1j4rxXmT9iTh4MYF169wfUqvgNLMYMNqSrMn7AnD29jCGdxBq+r+AhuYglGqyM5hfkTNnq4C1O4gENz5EdxAs+xJkWF+RMuarphMR7jfE3+kvCwH8swm5rC/Akb67C/eqsPNflhPKzOj2IsNYX5EzbW4ceG/BM8EGuadSkqzJ+w0cMmfK6OZBXmTzhvD/tEv4V3KSrMn3DeHg75ud+f6ogPilnANlzEo7YU5k/41x72YRW2d8TGcAebsRyrRW2uxZG2FOZP2LguHcBKbMFW7OyId89mvuJFdT6BK3iFp20qzJ+wtg4HcFLM10a6crN4jy8dDxgXdXg3NYX5E9bW4VUxo/mEa6KWJqvrZ6LeZrBe7C82CV+TU5g/YW0d7ha+7cf0HD86Lf4PX+KA3vxrRWH+hLUefhPfKO53xfvFOnOvqMmDmvtnqwrzJ6ztpT/65ARW4J7omcfFXuKWmK1NN1K0rDB/wt+uS0/hWNdbXcY5v+4Fk1aYP2FBQUFBQUFBQQ74Dr4HTcm7N9jFAAAAAElFTkSuQmCC'></img>\" })\n",
       "      \"True: 2\")\n",
       "    (div { style=Dict(\"display\"=>\"flex\",\"flex-direction\"=>\"column\") }\n",
       "      (div { setInnerHtml=\"<img src='data:image/png;base64,iVBORw0KGgoAAAANSUhEUgAAAHAAAABwCAAAAADji6uXAAAABGdBTUEAALGPC/xhBQAAACBjSFJNAAB6JgAAgIQAAPoAAACA6AAAdTAAAOpgAAA6mAAAF3CculE8AAAAAmJLR0QA/4ePzL8AAAIGSURBVGje7dm7axVBFAbwX9SIksJGRW+hjQgKgmBhIYLhksoHov4DYidYCuILIwgWgvjEQsGAhY0gvkC00MpGRBvFLkHEIj7AQkx1LWYuRIh79xJJZof5YNmzh539+Pg4c2ZmKSgoKCgoKChoPgb+58eG8AItbMP4DO8smGuF+RMums3gFlbE+AeGsQUf8S0VhfkT9uXhJhzB2vi8HmtifB4bhcL+jMWpKMyfsC8Ph3Fo2vMU7qCNYzHXwW2lDucQtfvhGRzFEoxhEhfifTOeYjm+CnX6OxWF+RPWrsMhLMUETuBLzK/DcaEv/sKof/s3LwrzJ6xdh1txCxuE+fMwluEGdgprmnO4mJrC/Alr1+FbvBI8bGNE8Ku7phnFlRQV5k9Y28Mp/IzxatwTirgj1Of9VBXmT9jXunRihtwTYW3zKVWF+RPW9nAhtvu7gT7G7tQV5k9Y28O72CfMnV106g6eT4X5E/b0sIWD2C949gbvYm5lExTmT9jTwzbOxvgkrmKv4OH7JijMn7DSwx24HOM9eI5VOB1z401QmD9hpYcjwj7+JR5hELtibkA4V0teYf6ElR52pl2Dwhx6STiTuYnrTVCYP2Glh91/g5N4JuwtCL3wYVMU5k9Y6eGHeD8gzJ3fcU3oi41RmD9hpYdjwr/cU3iNB3qfaSenMH/CgoKCgoLZ4w9+lE1PRRbpxQAAAABJRU5ErkJggg=='></img>\" })\n",
       "      \"True: 8\")\n",
       "    (div { style=Dict(\"display\"=>\"flex\",\"flex-direction\"=>\"column\") }\n",
       "      (div { setInnerHtml=\"<img src='data:image/png;base64,iVBORw0KGgoAAAANSUhEUgAAAHAAAABwCAAAAADji6uXAAAABGdBTUEAALGPC/xhBQAAACBjSFJNAAB6JgAAgIQAAPoAAACA6AAAdTAAAOpgAAA6mAAAF3CculE8AAAAAmJLR0QA/4ePzL8AAAHGSURBVGje7dkxa9ZQGAXgp2q1gw7+A1G6KDi4KFJREKTaqY4q6Ci4qqAdFR3ERRDdHEqHQn+A4tg/IEitLtKhUERdLBUVUYc3QynaJv3A3u/lHgjhJjc5HA7nJiehoqKioqJXDPR6g/24j3EcxtsN5m/73wrzE+7o5eLjeI6PeIwPJSrMT7jpHI5hBk8xga+lKsxPuCkPh/EKsziHXyUrzE/Y2cMhsX4O4Qy+lK4wP2Hn5+EdHBVZ7OrflijMT9gph7uwINbRs/2iMD9hpxzexG7xDtM3CvMTdsrhLFYw2k8K8xO2zuEJHBM9fjVOiX44V6rC/IStPbyIebxvxlfwEHvxHddFzy9OYX7C1mvpD1wQvX4n3uEGXoiO+AznRe8oSmF+wlY5PNRM/NmMjwivZprxNEZwS/Ww1Byexkvh5Tz2iCx+XjXnIF5je2kK8xN26haLzX55nXPFKcxP2MrDARsH9qS/e7vlCvMTtvLwd7P9C4O4iskSFeYnbOXhGyzhEp6sOTfYHNuHyyUqzE/YysMl3BN9EKZwQPT92/gm/mF8KlFhfsJO39qu4YH49k08/x7hruiPRSrMT1hRUVFRUVFRkQF/AJxEP72fGtmtAAAAAElFTkSuQmCC'></img>\" })\n",
       "      \"True: 6\")\n",
       "    (div { style=Dict(\"display\"=>\"flex\",\"flex-direction\"=>\"column\") }\n",
       "      (div { setInnerHtml=\"<img src='data:image/png;base64,iVBORw0KGgoAAAANSUhEUgAAAHAAAABwCAAAAADji6uXAAAABGdBTUEAALGPC/xhBQAAACBjSFJNAAB6JgAAgIQAAPoAAACA6AAAdTAAAOpgAAA6mAAAF3CculE8AAAAAmJLR0QA/4ePzL8AAAG4SURBVGje7dg/SJVRHMbxj9GQQwjRVA1BNFiKg2EJbTW1RxIZRZtzEAStDUEtDQ3R5GL0h9yiJRdzMdClIZeGAiEjaEhq0IbzBhGk91yhe94f54HLhfPew/d+efjdw7nU1NTU1NTU1NTU1NTsPH3dbNqHC7iJA83aLdzuYO+u/20YH5jd4TjuYQybfz2bxtXSDOMDszrcj9cYxBpeYBaXcR4rGMHPkgzjA7M6nMdJvMK5P9aP4g324DSWSzKMD9yd8+H15n32H8+/SfNZlGF8YFaHfc3rqzRzR3AFo1jFRXwqzTA+MOu3dFU6ExebjaPN+gSelmoYH5g1h1+wFyekDjfxHe9KNowPzOrwOE7hEB43a8/VDnsM7OqOP4wlaQ6P4X3JhvGBWXP4O0PNN91og2F8YFcdrkv9zdn6Pl+EYXxgdoeDuIbPeIAPpRvGB2Z1OICXOIgbOr9P9NQwPjCrwztSfzO42xbD+MCOOzyLS9JZ+KRNhvGBHd0tDuOt9P/apHQnbI1hfOC2c9iP69JZ+MzO+uuJYXzgtnM4hftYwBn8aJthfOCWHY5Jc/cID/GxjYbxgTXtzy+taTuBUHHN0wAAAABJRU5ErkJggg=='></img>\" })\n",
       "      \"True: 9\")\n",
       "    (div { style=Dict(\"display\"=>\"flex\",\"flex-direction\"=>\"column\") }\n",
       "      (div { setInnerHtml=\"<img src='data:image/png;base64,iVBORw0KGgoAAAANSUhEUgAAAHAAAABwCAAAAADji6uXAAAABGdBTUEAALGPC/xhBQAAACBjSFJNAAB6JgAAgIQAAPoAAACA6AAAdTAAAOpgAAA6mAAAF3CculE8AAAAAmJLR0QA/4ePzL8AAAH1SURBVGje7dlPiE1RHAfwD15Wj0kpMtkI2VjMAlFsaBb2lCgl/9aiJJHSWMlOFqMpTdkpyRoLSWOhLFgMyoaNP6NYCYtzJ/dO974375nmnU7nW7fO79x3ft/7Pd/e/Z1zDxkZGRkZGRlLFiLJZtzCYXzs8tuli60wfcJWOViBNmbws4ck+7EHx3ENv2JSmD5h5X94FedxDjd6SLIbj4r2FkzHpDB9wlZd52W8w/15JlkTs8L0CWs9bGMCo3jRJUEbZ0rxQYzFpDB9woqH70vtlbiCI/jaIcEmbI9ZYfqElXq4DBeEd+ksTmO8Q4J1eIwNRZzr4WA9hCE8x8YifoV9+NyQYARTpTh7OPh6OIOn/nm4FetVPVyOU0X7QOwK0yesXdM8w9FSvBMvsau42rhYM+6NzrVzIArTJ2z8TjOJQx2e8nfDvZO4HZPC9AkbPZxb5+YO+tNwbwInYlKYPmGrn0HTgocPhfp5KWaF6RPO28Mv+IDruFvqH5E9HDBho4dvcUfY973GTWGf0Q2jWKV5bZP+lMbj4Xcc6yPhsLD3iEZh+oR91cMyvuET1pb6xoT9Y90ZVPpTGs+6tBfswD3V84sh/IhBYfqEC+IhbMMDrC7ivXgSg8L0Cf/7XTqLKeEM6qyw52g6s0p/ShedMCMjIyMjI4O/n2ZEjljqmL4AAAAASUVORK5CYII='></img>\" })\n",
       "      \"True: 4\")\n",
       "    (div { style=Dict(\"display\"=>\"flex\",\"flex-direction\"=>\"column\") }\n",
       "      (div { setInnerHtml=\"<img src='data:image/png;base64,iVBORw0KGgoAAAANSUhEUgAAAHAAAABwCAAAAADji6uXAAAABGdBTUEAALGPC/xhBQAAACBjSFJNAAB6JgAAgIQAAPoAAACA6AAAdTAAAOpgAAA6mAAAF3CculE8AAAAAmJLR0QA/4ePzL8AAAIXSURBVGje7dk7aFRBGAXgb1fRwkd8YCVYiaYQSZVSBcVKMIVlxG3USjstRNsIphFBLCzEdAEVrKxEgrFIp50LKlomYCFaRBC1mFnckN17N0bMOM6p5nFnzpw5/DP/vZeCgoKCgoKCxp+Y5AieohnLMxXPNv+2wvwJV+1hCxdwMK7+JaZwG99SUJg/4ao8bOE0DnWt/nss78WHFBTmT7h+pQO2YQT3sAsbY/vruPp9qSnMn3BFHo7hLI5bGnMwGdvupqYwf8KBPRzH/YqVNvq0r7nC/AkH8nAcN4W4W8Q8tmBH7F/EZ2y1NDaTUJg/Ya2HY0L8dbyZwzEhn+mcm1fwKLYlpzB/wkoPW0L8EWJtDhe7+l8J/t6J9QfCfTmaksL8CSs9vIZNsTyB6119s3ginKsdfMHX1BTmT9jXwxHhzmtiXY/+N33GNWpU5L+laXh4AA+xXX2O0o3N2FAzJv8tTcPDW9jzG5OdUn0XronC/Alr89LLA040jBux/F7IgZJQmD9hrYcfB5hkGI+xEwtCPM73eTb/LU3jm/czv75j0zunIdx/UzgZ6+9wAu2UFOZP2NPDo5jGUKzP4ocQa23hfG0I+cuocG5OCO/57Wq+/2BL0/AQDgu56ZDl37d1tc0IsTiVqsL8CSv/H+7GOVy13MMFPMd5fEpZYf6EA/0DPoNL2C/8J5zEW7z4FxTmT1hQUFBQUFDAT4dETtlq9h02AAAAAElFTkSuQmCC'></img>\" })\n",
       "      \"True: 0\")\n",
       "    (div { style=Dict(\"display\"=>\"flex\",\"flex-direction\"=>\"column\") }\n",
       "      (div { setInnerHtml=\"<img src='data:image/png;base64,iVBORw0KGgoAAAANSUhEUgAAAHAAAABwCAAAAADji6uXAAAABGdBTUEAALGPC/xhBQAAACBjSFJNAAB6JgAAgIQAAPoAAACA6AAAdTAAAOpgAAA6mAAAF3CculE8AAAAAmJLR0QA/4ePzL8AAAHTSURBVGje7djPi09RGMfx10zfpESZKBZMWShRJMpCKcosbK1mimZshiSys6DEQn4WU+wVFhb+AFnNbGYvmtnOlFlMiCKUxfmWrw3nfqfc4+l8Nrf71Ondp0/Pved5qKqqqqqqqqqqqmpfAys5PIwLOIMOnmL0L2cG/7XD+MC+M5zAXcxhCltwBTvxpiSH8YGNM1yFi7iMO7iJ99iLWWzFQkkO4wM7TQ+M4xrO435P/SiW/Dm/VhzGBzbqwyHpO/kKY/jerQ/jJdZgc2kO4wOz+7CDaanXTvuVHzzGNtwu0WF8YHaGx7Edh7HcUx/FAXzCrRIdxgdmZ3gSbzHTU9sk3U0HpX/juxIdxgdmZzgi3UW/dd/X4Tk24CFulOowPjArwyPd54vucwSPpDliHpfwsVSH8YFZGS7hC55hLTbiq3SpncKHkh3GB2bPFidwCot4ggfSjuaYlG+xDuMDG+9pBnAPkzgo7WaKdhgf2HhPcwhncV3z/FpxGB/YuA8X8QM7pJmweIfxgY36cJ80S5zTX36tOIwPzO7D1dJ8vx678Pl/cRgfmN2H49iNPfrPrxWH8YHZffhamgn3+33fXbzD+MDsPhzCVSvLrxWH8YFVVVXt6ych00L29U9E/wAAAABJRU5ErkJggg=='></img>\" })\n",
       "      \"True: 9\")\n",
       "    (div { style=Dict(\"display\"=>\"flex\",\"flex-direction\"=>\"column\") }\n",
       "      (div { setInnerHtml=\"<img src='data:image/png;base64,iVBORw0KGgoAAAANSUhEUgAAAHAAAABwCAAAAADji6uXAAAABGdBTUEAALGPC/xhBQAAACBjSFJNAAB6JgAAgIQAAPoAAACA6AAAdTAAAOpgAAA6mAAAF3CculE8AAAAAmJLR0QA/4ePzL8AAAGMSURBVGje7dmhS11hGMfxj2JyWFamQVgQBG+XFatNMM1gGxZZWdPFIRYHkwUNE/8DDTNYRLQtCgqOtVkGYltyyNBwDniT91zPRd/z8P7S88LlfM+XH8+5h3vJycnJycnJyWl++np1oY9YxRqWH/hc/1Mbxgf2pMMh/MIr3OA9tlMxjA8c6MUFFhX9wSV+pGQYH1h7D6dw3HaewX5KhvGBtfbwNb62nQ9xlJphfGCtPTzDRDn/xVscpGYYH1hrD1u4LedNnft7FsP4wEd3+EWxxLeKZ+hKqobxgY/qcAOziv5OMY/rVA3jA7vucFLR33B5/oarlA3jA7vu8B1GyvknvqduGB/Y1XvpB3xuu8tR/EndMD6w8h6OYqG8w//Y0n1/z2IYH1ipwzHsYbw8r2OpKYbxgZU6HHffH0WfjTGMD6zU4cu2+RjnTTKMD6z0TvNb8X0Ic9hpkmF8YMc9bOFFOX/CbtMM4wM7dvhG8R8v/HP/+2hjDOMDKz1LLzCIaZw0zTA+MCcnJyenfu4APw4t2kRtTgAAAAAASUVORK5CYII='></img>\" })\n",
       "      \"True: 1\"))\n",
       "  (div { style=Dict(\"display\"=>\"flex\",\"flex-direction\"=>\"row\") }\n",
       "    (div { style=Dict(\"display\"=>\"flex\",\"flex-direction\"=>\"column\") }\n",
       "      (div { setInnerHtml=\"<img src='data:image/png;base64,iVBORw0KGgoAAAANSUhEUgAAAHAAAABwCAAAAADji6uXAAAABGdBTUEAALGPC/xhBQAAACBjSFJNAAB6JgAAgIQAAPoAAACA6AAAdTAAAOpgAAA6mAAAF3CculE8AAAAAmJLR0QA/4ePzL8AAAGsSURBVGje7dmxS1VhGMfxj2EOGZRG5JAghDU4CEJQ/0ZDkltUNDr2BzQFlYGjSOCgIA0V1Ozi0CJERENB0JBRNBSBlKAO7wE1OHI9F+Q9D+8P7vDce16+/PhyX3g4lJSUlJR0m55uDi/iCm7gTYdnjh11w/jArhyu4io+YQybOTaMD2zscFhyd7ya+7GRY8P4wN6mB0/b9fccf3NtGB/YyGEv7u2Zl7CVa8P4wEYOH2OqLQ3jAw/t8A5utalhfOChHN7ELPqwhok2NIwPrHV4EuO4hMu4joHqt2m8xsc2NIwPrHU4jHlcrOZfmMNDfMb5tjSMD6x1+EH6H45W8298qXm2P+eG8YGNd/wzeIchaT+8lmvD+MDGO/5P6U4dwkrODeMDGzvcm/WcG8YHdu1wG99zbhgf2LHDUbu7xYZ0l87gAc5WnxO4j2d4mUvD+MADHfbhAm7jruQI/uEPBqt5GT+q50/hm+LwCFPr8ByeYPK/79el+/M93tacXcipYXxgrcMp+/29wiPpvW8n73qzaRgfWLsfjuAFvkp35dO2NowPLCkpKSkpKSmJkB2cezgZgNmgdgAAAABJRU5ErkJggg=='></img>\" })\n",
       "      \"True: 1\")\n",
       "    (div { style=Dict(\"display\"=>\"flex\",\"flex-direction\"=>\"column\") }\n",
       "      (div { setInnerHtml=\"<img src='data:image/png;base64,iVBORw0KGgoAAAANSUhEUgAAAHAAAABwCAAAAADji6uXAAAABGdBTUEAALGPC/xhBQAAACBjSFJNAAB6JgAAgIQAAPoAAACA6AAAdTAAAOpgAAA6mAAAF3CculE8AAAAAmJLR0QA/4ePzL8AAAIrSURBVGje7dlPiE5RGAbwH2YaYmNhQRPKKDaThY3FLNhYSEiUUDNZ2InVlwXjXzaalI2IkrLAgpVsGCFlY6PYTEMsTBI1M2omjSzO9/X9me+vxXz3O51nc89973vv03Of3nPfcy4JCQkJCQkJi1q9YT+WYitOYhS38RHvmrh/8UIrjJ+wKQ+XYRMuYgd6quR8wnPkMIm5rCiMn7Cuh/0YwE7sauGh5/EI77OgMH7CrnoXB3CtIvbF/BpbLcyvBQzjh+ThAqGrUcJj7MUEbuEKpityTuBqVhXGT1h3Ll0p1NwazOBzjbxteF1y/hvH8DALCuMnrFuHv/LHyRrXu3EZByriOdX9a4vC+AkbzqW1sB2nzO91xoV+JjMK4yf8Lw+HcANLKuIXhO/nRJYUxk/Ykof92IMzyv2bwRPcFdaJmVIYP2FTa/xu9Ak11pePzeFPfnwWI1lVGD9hU3WYE9btBbzCfVzvBIXxE9b1cLlQd4MlsVEcxbdOURg/YV0PB5Xv07zAPkx1ksL4CWt+DzfjKXrz589wBN+r5K4TavZSflzANE7jTTsVxk9YtQ634IGifzCGjYoenlPsTQ8r966AIeX+tUVh/IRVPRwT/iNtKIkdx0HFPZu1Gje1vVVi8b/S7MylPbgj+NYqhvFT+Dc8226F8RPW7GlmcQ+rhH21WviKQ/hQEpvC36wojJ+w4Rp/BXZjvdCzwE28zI/H8TbLCuMnTEhISEhISOAfDe9TlJxdm+cAAAAASUVORK5CYII='></img>\" })\n",
       "      \"True: 2\")\n",
       "    (div { style=Dict(\"display\"=>\"flex\",\"flex-direction\"=>\"column\") }\n",
       "      (div { setInnerHtml=\"<img src='data:image/png;base64,iVBORw0KGgoAAAANSUhEUgAAAHAAAABwCAAAAADji6uXAAAABGdBTUEAALGPC/xhBQAAACBjSFJNAAB6JgAAgIQAAPoAAACA6AAAdTAAAOpgAAA6mAAAF3CculE8AAAAAmJLR0QA/4ePzL8AAAGrSURBVGje7dm/S1ZRHMfxVz/IwukZGnJIeobWyCWkxkDQQcWhIfwDmp1cbAubHJsapC0K3BxqFRcFByfBoIagQRyC1AhquHd6eh483aJ7ni/ns1y433vvm8/9cM/3nHMpKioqKioqKioqal8X/sVDbmIbU9g/59qL/9thfODl1Atv4xSf+tRe4Du+5ugwPjApw3ms4ynWemqTeIhVfMzRYXxgUoaPseH3/GC2fsjbXB3GByZleB+vBtTG/FlTjf9K88twDFfxc0B9Ad9UvTJLh/GB52b4GccYxQjOeurXsIfDAfXWHcYHJo2lb7CE61jGh556F+/xDO9ycxgfmNTKOniJufqG16qxs4sHqnF2Sf85T+sO4wOTpyOX8EjV/27V5zoYV81NN/EjR4fxgX+1T7OoWjfewJdcHcYHJu/T9FN3GBzGBzb+DkewhSu4h5NcHcYHNv4OO7iL59Lza8VhfGDjDGfqY+oeW2sO4wMbZzhRH3dzdxgf2CjDO3ii6ofZO4wPbJRhR7Wu3xkGh/GBjTKcxhFWhsFhfGDjfngg7b996w7jA4uKitrXL92xMu+GFSrhAAAAAElFTkSuQmCC'></img>\" })\n",
       "      \"True: 4\")\n",
       "    (div { style=Dict(\"display\"=>\"flex\",\"flex-direction\"=>\"column\") }\n",
       "      (div { setInnerHtml=\"<img src='data:image/png;base64,iVBORw0KGgoAAAANSUhEUgAAAHAAAABwCAAAAADji6uXAAAABGdBTUEAALGPC/xhBQAAACBjSFJNAAB6JgAAgIQAAPoAAACA6AAAdTAAAOpgAAA6mAAAF3CculE8AAAAAmJLR0QA/4ePzL8AAAIISURBVGje7dk/bE1RHAfwD1pCm0oasXToQElYJMRgwmLoikVMRToZKEYRkwiJUSLRij/RgUmsQhgsDCQiFjZTNXmJ+FeG8yQ37/Xed5+X6OnJ+U7n97vnnG++93vP30tGRkZGRkZGxvLHiroV1+IAzmMHfheeTWCuWf6ANxX9rPzfCtMnLPVwK84V4nU4VKPDtziI97EoTJ+w1MNPGPnHThuYwckYFKZP2Ff24D5OFeJ5XMQJbOnQ6SD2YrswLpdUYfqElXPpj0L8UxiboziDq5htxsOLtJ8T5tQnS60wfcJSD4/gTofGm3Abu1vyX3EUD2NQmD5h7X0pDGCjMM/CEMZa6jQwiXuxKEyfsLaHA7iBwxV15nEMD2JSmD5hbQ9HhPWwChOYjk1h+oS1PRzGY+yqqPMZ43gVk8L0CbtaDzdjZyGeQX9LnSs4G5PC9Am78rAVa3ANxwu5X9iH57EoTJ+wr5fG33BX2Oesb+ZWqf4w0n+ly8tDwj6neBdwHS9jUpg+YU8ejgnjcEMh18D3mBSmT9jm4X5hjfuLSWG/STj/9Qv/ME4L/6JGY1eYPmGbh0PYVoifFsovhDFXduc9jWexKUyfsKu5dE9J/gsWcBnvYlOYPmGbhx9xU7jzXt2h8S3hLDEl+BilwvQJS48BU7i0SP4CXjfLjwQPo1aYPmFGRkZGRu/4Az3SRuouJzw/AAAAAElFTkSuQmCC'></img>\" })\n",
       "      \"True: 3\")\n",
       "    (div { style=Dict(\"display\"=>\"flex\",\"flex-direction\"=>\"column\") }\n",
       "      (div { setInnerHtml=\"<img src='data:image/png;base64,iVBORw0KGgoAAAANSUhEUgAAAHAAAABwCAAAAADji6uXAAAABGdBTUEAALGPC/xhBQAAACBjSFJNAAB6JgAAgIQAAPoAAACA6AAAdTAAAOpgAAA6mAAAF3CculE8AAAAAmJLR0QA/4ePzL8AAAIDSURBVGje7dlNqE5BHAbw33UvC1/J18LHRuwUi1tiZynJS5aKuimSlLIhKSlldXfKzUc2shAbKcnCQm/X0o6k2N2IcMUl12LOYnrfl/ervHOneTbn/P8zZ57zzNPMnJlDQUFBQUFBQcHcx1CrZA0nsLOqMBuV3cdDPMIKvMTXLgjn/W+F+RM2eVjDLSxq8+ArLMR7zFS5U3iWmsL8CUcaE6u09w82Vde1Ue4O9uN5SgrzJ2wahz/7fItfeIyD+JiCwvwJmzw8I/Q/1HGjuh/Fkep+I4bbNLwVL1JQmD/hUC8PHRPWQoLny1rUuYjzKSjMn7AnD2MsEdbPcezC4io/ie0pKMyfcKTfBr5gGk+wO8qPp6Iwf8K+xyFhLv0QxXXsw1QKCvMn7HscrsbNKP5dxVN/qZ9/l84dD4dxGGPYVuVmcBkTKSnMn7DnuXQMVxtyT4XzuaQU5k/Y9Tg8jeNYGeU+Ywt+pKgwf8KOPdyBk9iM9VG+Lsyfb1NVmD9hxx6uw4EonsYVXMKnlBXmT9ixhxca4gk8wPfUFeZP2NE3zXxhr7C0Rdk9fIvi68L8Oqv1+ph/l6bpYQ23saCLhidxVji/GajC/Ak73lscwlFhXVzzj3pvhPPwd9gg/I8cqML8CbveH44K+wjC+ejeqOwc7mI5XmMPrg1aYf6EBQUFBQX94w/NY0UX3LKr8AAAAABJRU5ErkJggg=='></img>\" })\n",
       "      \"True: 2\")\n",
       "    (div { style=Dict(\"display\"=>\"flex\",\"flex-direction\"=>\"column\") }\n",
       "      (div { setInnerHtml=\"<img src='data:image/png;base64,iVBORw0KGgoAAAANSUhEUgAAAHAAAABwCAAAAADji6uXAAAABGdBTUEAALGPC/xhBQAAACBjSFJNAAB6JgAAgIQAAPoAAACA6AAAdTAAAOpgAAA6mAAAF3CculE8AAAAAmJLR0QA/4ePzL8AAAGdSURBVGje7djPSxVRGMbxzzUTK2klrtSFG6PWLqVFGYo//gA3gruQlm5DIf8RQWghoW2CVrlpGQQtEkvFcOMqXFRCqIsz0F3dOyl4Zw7vF4bhzJyZh4eHd857hiAIgiAIgiAIgiCgcd0X3MJI0/gIZy3md920w/wFGzCHtyUfuI9nWEQPbmO86f5LvKqSw/wFG3AHv1tMGsAERvHYv8w+YRszGCuu/cHdKjnMX7Cb1vnBBzyQAr8ozm/wHCc4ljJsYL1qDvMX7C4z6ULK+TPW8AU/cI5lrBTz9rFaNYf5C5bqaSbxrTiamcNr9OIQT3BQNYf5C165L12W+pd7Uk0+xV4VHeYveKUMZ7Ep9aT7eIF3VXWYv2Cp9bCZaWxI+R1hSrn665jD/AX/qw6nsSXt679L+8R261/HHeYvWDrDWan++orxQ3ytg8P8BUt9S4ekfy990n5wCbt1cZi/YNs67Jf+xwxK698CdurkMH/BtnX4SMrvL+bxsW4O8xdsm+FP/MJ718+vIw7zFyzV0wxLWZ7W0WH+gkEQBEEQcAkyqDoVGQFlagAAAABJRU5ErkJggg=='></img>\" })\n",
       "      \"True: 7\")\n",
       "    (div { style=Dict(\"display\"=>\"flex\",\"flex-direction\"=>\"column\") }\n",
       "      (div { setInnerHtml=\"<img src='data:image/png;base64,iVBORw0KGgoAAAANSUhEUgAAAHAAAABwCAAAAADji6uXAAAABGdBTUEAALGPC/xhBQAAACBjSFJNAAB6JgAAgIQAAPoAAACA6AAAdTAAAOpgAAA6mAAAF3CculE8AAAAAmJLR0QA/4ePzL8AAAHASURBVGje7di7axVBGMbhJxpv0c4LQhAR0ihGNJUQIgS0EAQrG0EtRBCENAn+BRrURrRTC21EsLNOZ8AiiKSJigjeOrXTRrwkxU5wTzgxe44g4/D9YNmZb3f25d2X3Z1ZgiAIgiAIgiAI/p6edsWNWI9j2L/CBW7iTQeCq/61w/IFWzI8ieG0DTa8wGuM4GOuDssXbMlwHr/S9iHVpvEJL5YM3Iux1J7A9Vwdli/YW++8wjdcwsM/DNqBQ7X+u5wdli/Y0+mAXap8h1L/Ec7gS64OyxdsnGEfDuM2ttbq+zCXs8PyBRtneA3jberT+JraT3EPb3NyWL5gb9MTB5apj9TaR7FbNb/9mYvD8gUbP4d7sHlJbRtO4S524irW4glG8SMHh+ULdjynWWQYl3Ea71NtCLfSfhDPc3BYvmDjd2mdg7iCi37nB89wX5XhFPpzcFi+YFcZTmADXrY5NoPv2J6Lw/IFu8pwCw7gASbxONVP4DjW5OSwfMGuMpxVzUePqL6Ln1O9H6tT+2wuDssX7GpOsw43cG6Z43dwQfv1Rfm39P/IkGoNsQnnta45ZlT/4uZzcVi+YBAEQRAEQQksAP7COYaEI4fdAAAAAElFTkSuQmCC'></img>\" })\n",
       "      \"True: 3\")\n",
       "    (div { style=Dict(\"display\"=>\"flex\",\"flex-direction\"=>\"column\") }\n",
       "      (div { setInnerHtml=\"<img src='data:image/png;base64,iVBORw0KGgoAAAANSUhEUgAAAHAAAABwCAAAAADji6uXAAAABGdBTUEAALGPC/xhBQAAACBjSFJNAAB6JgAAgIQAAPoAAACA6AAAdTAAAOpgAAA6mAAAF3CculE8AAAAAmJLR0QA/4ePzL8AAAHmSURBVGje7dlBiE1hGMbxH83GbGQxlFA2MzWNKMpOQxZioSxkodhgo7Ci7JSNNNsJWVqaoRiNhbKxUgq72SjZjERJlGay+M50b7dzr+uecs95+57NOfd7+/rf5z59nfc9l6ysrKysrKys5mvdIJsmcRlbcQyP8aqo3cW3HnvX/2+H8YEDZTiDS11qX3Edd+riMD5woAw/SmcQ3uBTW+0QXuNgXRzGB45U2byEo1guPm+R8tuNs3iKz8N2GB9YKcMfWvltwjmt83kfD3Fy2A7jAytluB0H8B7PsK+ttopHdXAYH1j5eVimD7ilvK+J/5M26xx26h2O4At+18VhfOA/ZziBDR1rqziPeb1nw6E4jA/sO8MRaV64J/Uv8B2LuIm3dXUYH9jX83Cn1HNe7Vi/iNm6O4wP/Os53Is5bCupLTXBYXxgzwz3SPPBWg+6gic43iSH8YE9M3ygld8Cbku55gxrBeya4WmMS+/ODuOXNC9caJrD+MDSDCdwo/g2K1L/uaYTxXVZ6z1brR3GB5ZmuBFjxf1CcR3HmbYN8/qfJ4bqMD6wNMNpjBb3V7AfU9hRrL3EtaY4jA8snQ+n8Fz6L6lTP3FK6k8b4TA+sOuMv0vKcXPb2qLUm75oksP4wKysrKys6voD1xJDLrDjwQgAAAAASUVORK5CYII='></img>\" })\n",
       "      \"True: 8\")))"
      ]
     },
     "execution_count": 4,
     "metadata": {
      "application/vnd.webio.node+json": {
       "kernelId": null
      }
     },
     "output_type": "execute_result"
    }
   ],
   "source": [
    "vbox(hbox([vbox(Gray.(train_images[i]), \"True: $(train_labels[i])\") for i in 1:8]...),\n",
    "     hbox([vbox(Gray.(train_images[i]), \"True: $(train_labels[i])\") for i in 9:16]...),\n",
    "     hbox([vbox(Gray.(train_images[i]), \"True: $(train_labels[i])\") for i in 17:24]...),\n",
    "     hbox([vbox(Gray.(train_images[i]), \"True: $(train_labels[i])\") for i in 25:32]...))"
   ]
  },
  {
   "cell_type": "code",
   "execution_count": 5,
   "metadata": {},
   "outputs": [
    {
     "data": {
      "application/vnd.webio.node+json": {
       "children": [
        {
         "children": [
          {
           "children": [
            {
             "children": [],
             "instanceArgs": {
              "namespace": "html",
              "tag": "div"
             },
             "nodeType": "DOM",
             "props": {
              "setInnerHtml": "<img src='data:image/png;base64,iVBORw0KGgoAAAANSUhEUgAAAHAAAABwCAAAAADji6uXAAAABGdBTUEAALGPC/xhBQAAACBjSFJNAAB6JgAAgIQAAPoAAACA6AAAdTAAAOpgAAA6mAAAF3CculE8AAAAAmJLR0QA/4ePzL8AAAGrSURBVGje7dk/a9VQHIfxT711EFysKDhYOzl0KSKCoILiYtuhg30L10U7dnZ3dPAddBEEQRERKuigDl1E7T+8HVREEOqghaKFOiRDKVy9aUp78uN8l5z8IQ8PX06SQ8jJycnJycnJycnJyamfvm4nJtHGV6xjBt/wsSbwwF4bxgd27XAFQ9uO/cSH/9zwC+5gLhXD+MD+bifaGME8hnEGl3Een3Fyy7Ub+I4T5f4nucM9TF+Vi48oupzDuS3H17GMBQzgFu6lYhgfWKnDf+U67uM9rmA1FcP4wF3p8DjeldtJPEjJMD6wv/4tuIlj+IGl1AzjA2vPwwt4joOKb56XqRnGB9aeh2OK/mbxOkXD+MBaHR7CNfzGbfxJ0TA+sFaH04q1xlO8StUwPnDH78NxPMQaRvX2HN0Xw/jAHc3Do7iLFp7ovb99MYwPrDwPW3iDs+go3oedlA3jAyt3eBqL5XgCj1I3jA+s9Cw9hWfleBqPm2AYH1ipwxsYLMcvsNkEw/jAnju8hKkmGsYH9tzhRRwuxx38aophfGDltcVbXNX931JyhvGBOc3PX/q9Oc17OzXKAAAAAElFTkSuQmCC'></img>"
             },
             "type": "node"
            },
            "True: 7"
           ],
           "instanceArgs": {
            "namespace": "html",
            "tag": "div"
           },
           "nodeType": "DOM",
           "props": {
            "style": {
             "display": "flex",
             "flex-direction": "column"
            }
           },
           "type": "node"
          },
          {
           "children": [
            {
             "children": [],
             "instanceArgs": {
              "namespace": "html",
              "tag": "div"
             },
             "nodeType": "DOM",
             "props": {
              "setInnerHtml": "<img src='data:image/png;base64,iVBORw0KGgoAAAANSUhEUgAAAHAAAABwCAAAAADji6uXAAAABGdBTUEAALGPC/xhBQAAACBjSFJNAAB6JgAAgIQAAPoAAACA6AAAdTAAAOpgAAA6mAAAF3CculE8AAAAAmJLR0QA/4ePzL8AAAHhSURBVGje7dnPi01hHMfxF80oK5lZaMpKsqAojY212DBSin9DBiWy4l+ws8BGk2kiCztTCmWBmtgobEhSIik/snge3bm3cc85ppxzvz2fuvXt+5zuu8/99D33PM+hqKioqGi1WlP3wlmsx04czb3LeIBrDYBr/7fD+MBaGd7Qy21QL7EPb7rqMD6wMsPB/F7gLrbgUO6dx6WuOowPHBu2OI0juV7CDD7gC9bhIXZhossO4wOHZjglDeoSDuDtsrVZbM/1nS47jA8cmuFtbMVnfBxYO4bxUXAYHzhWdcHrFXqnsC3Xj/Knsw7jA2vvLf7oIOak/8P3OI7FLjuMD6ycw0FNS/mRnlmb5NeKw/jARhkuYH+ur+LcKDiMD6x9L53CU0xK+4u90v6+8w7jA2vP4U0pP7ju3/JrxWF8YK0MZ7A71/dwYZQcxgdWZjiJs3p7wSfSOc3IOIwPrMzwJPbkesHqZrAVh/GBlc803/RmcLP+87aRcBgf2GhvMYHvA71PuTeODbm3ESeWXfMTZ/C1DYfxgY0yfLZCb06azU3SGerf9A4X23AYH1h5L53H4QZf+AO/cn0Lj3N9X3rnH/8n7V6GcFr/O4od+mfuCl7leh7Pu+QwPrCoqKioqKioKIJ+AzhFQPcCumLaAAAAAElFTkSuQmCC'></img>"
             },
             "type": "node"
            },
            "True: 2"
           ],
           "instanceArgs": {
            "namespace": "html",
            "tag": "div"
           },
           "nodeType": "DOM",
           "props": {
            "style": {
             "display": "flex",
             "flex-direction": "column"
            }
           },
           "type": "node"
          },
          {
           "children": [
            {
             "children": [],
             "instanceArgs": {
              "namespace": "html",
              "tag": "div"
             },
             "nodeType": "DOM",
             "props": {
              "setInnerHtml": "<img src='data:image/png;base64,iVBORw0KGgoAAAANSUhEUgAAAHAAAABwCAAAAADji6uXAAAABGdBTUEAALGPC/xhBQAAACBjSFJNAAB6JgAAgIQAAPoAAACA6AAAdTAAAOpgAAA6mAAAF3CculE8AAAAAmJLR0QA/4ePzL8AAAFHSURBVGje7detSgRRGMbxn19lo+BH06QILipYRMRgEwSzyRsQ78PqHdiExbSg1WrRKCaLRcMmxeJHcC5gZwbcc17OU94Jw/z58/CemaGkpKSkpKRkrO0DlvCIU5wPcf/4fxvGB062fcAGvvGSqmF8YOsO1/GOq1QN4wNbddjFCS5SNowPbNXhMjq4TNkwPrDVN80dZrDq7zxN0jA+sPEeLmITT4bvbySG8YGNO9yt5lvqhvGBjTvsVvMsdcP4wEbvwy308YxtfKZsGB/YaA/3MI0b9fobiWF8YKMO1/CDXg6G8YG1z9J5PGCAlRwM4wNr7+ExZnGdi2F8YO0OF6o5yMUwPrB2hwfV7OdiGB9Yq8MdzOVmGB9Yq8NDTOAet7kYxgcO3WEH+9V1D1+5GMYHDv1vMeVv915xhI9cDOMDS0pKSkpKSvgFnPUiCkwgYfcAAAAASUVORK5CYII='></img>"
             },
             "type": "node"
            },
            "True: 1"
           ],
           "instanceArgs": {
            "namespace": "html",
            "tag": "div"
           },
           "nodeType": "DOM",
           "props": {
            "style": {
             "display": "flex",
             "flex-direction": "column"
            }
           },
           "type": "node"
          },
          {
           "children": [
            {
             "children": [],
             "instanceArgs": {
              "namespace": "html",
              "tag": "div"
             },
             "nodeType": "DOM",
             "props": {
              "setInnerHtml": "<img src='data:image/png;base64,iVBORw0KGgoAAAANSUhEUgAAAHAAAABwCAAAAADji6uXAAAABGdBTUEAALGPC/xhBQAAACBjSFJNAAB6JgAAgIQAAPoAAACA6AAAdTAAAOpgAAA6mAAAF3CculE8AAAAAmJLR0QA/4ePzL8AAAH0SURBVGje7dmxaxRBFAbwX6KdrVdYRRBR0lmoXQQrBQ9sRMEUYmEQMfYGlLQKVkpEG/8BG5EUNkIs0sTCJoIgeDYiaiFICIhisXvscNns7SKYcZivub3Hm/3m4+PNzrwhIyMjIyMjY6LrgD24izm8xjkMOoyf/NcK0yfs7OFBrAeznceDmBWmT7i7S3IPT/43hekTtvZwHmdxbCQ+U876DVZiVJg+Yeu19Bd+18x2GBvgvOIbGZXC9AlbebiM07Z6+A0/MBXEdsWmMH3CsWvpCRxS+Bd6+BAv8B0nsVDGr2IpJoXpEzbW4X6sYq9q3RzgKRaxUeZNlXk9bOIW7uNnDArTJ2z0cPQc8RIX8LUm9zruqbw+jPcxKEyfsPW+dA2X1fsHz3ARR2NTmD7hWA+HMzo+Jm+izB3mL2I2BoXpEzZ6OGfrXnQ79HFEtfe5HYvC9AkbPey3eEEP07gZxL6o38/siML0CTv12uqwgGvB/w+4hI+xKEyf8K88XFacHUO8xauYFKZP2Hi2eIcD5fOZ8vcx9gWzHf1e5j5NXHW4hDvl83OVX6Fvo72b6BSmT9hYh2H/pa7mJvFZsX5ewSdV7yYahekTju15zyjunG6o9zDfAe84Yeu7p1OKWusrejKPysHrtt+DRqEwfcKMjIyMjIwM/gC5j04wkka+LwAAAABJRU5ErkJggg=='></img>"
             },
             "type": "node"
            },
            "True: 0"
           ],
           "instanceArgs": {
            "namespace": "html",
            "tag": "div"
           },
           "nodeType": "DOM",
           "props": {
            "style": {
             "display": "flex",
             "flex-direction": "column"
            }
           },
           "type": "node"
          },
          {
           "children": [
            {
             "children": [],
             "instanceArgs": {
              "namespace": "html",
              "tag": "div"
             },
             "nodeType": "DOM",
             "props": {
              "setInnerHtml": "<img src='data:image/png;base64,iVBORw0KGgoAAAANSUhEUgAAAHAAAABwCAAAAADji6uXAAAABGdBTUEAALGPC/xhBQAAACBjSFJNAAB6JgAAgIQAAPoAAACA6AAAdTAAAOpgAAA6mAAAF3CculE8AAAAAmJLR0QA/4ePzL8AAAHWSURBVGje7dnPi05RHMfx12hqRFJPk5KFKSsyC2woJRtC2aCUFQt/gO2sJBsLdqztLGRnyyzsRlGUDTaWfqQQJR6LczVPuPfcujXP8e286+ncnufb99Pnfjr3nHseKpVKpVKpVP5/ZvoW7sU9LHTUHMELvOmoWbfWDuMLzvYtPIq5TM1JXMDZkhzGF+yV4SyO96h7jEvYiC+lOIwv2CvDwziAa5m6EXZhg5rhGpJdDxfxEO+xD587apdxEFvxthSH8QWz83BJejYe053fCIfwszSH8QU7MzwtrYMvsZJptCTlt4yPJTmML9iZ4RlpbbuVabKAc/iBq/heksP4gq0Zbsb+5vpmpslFzEvvhg9KcxhfsDXDOWzDnR5NdjTj8xIdxhdszfATnkr70hE+tNRtkdZNeFSiw/iCrRl+xSucwn1c/+P33dL8245x891Ynvi3tKz3w524jBP+Pmd7J2U2P9Fkk5R9UQ7jC/Y6895jdc37zd1mvC3tSel36BP/lpbzLJ3kSfP5F68nrhfxrDSH8QV7/2/RxozVyZzLbyoO4wsOznCs315mag7jCw7OcH0zfivVYXzBwRmel85Hr5TqML7g4AxXcEP+jG1qDuMLViqVSmU4vwBr3jsoVUdw/wAAAABJRU5ErkJggg=='></img>"
             },
             "type": "node"
            },
            "True: 4"
           ],
           "instanceArgs": {
            "namespace": "html",
            "tag": "div"
           },
           "nodeType": "DOM",
           "props": {
            "style": {
             "display": "flex",
             "flex-direction": "column"
            }
           },
           "type": "node"
          },
          {
           "children": [
            {
             "children": [],
             "instanceArgs": {
              "namespace": "html",
              "tag": "div"
             },
             "nodeType": "DOM",
             "props": {
              "setInnerHtml": "<img src='data:image/png;base64,iVBORw0KGgoAAAANSUhEUgAAAHAAAABwCAAAAADji6uXAAAABGdBTUEAALGPC/xhBQAAACBjSFJNAAB6JgAAgIQAAPoAAACA6AAAdTAAAOpgAAA6mAAAF3CculE8AAAAAmJLR0QA/4ePzL8AAAFfSURBVGje7ZgvSwRBGIcfxT/BeFGLYBNMXjnkos0g+DX8AuKXMClYBfNVLQaLCGIwGtQseCYP9TzDvuI2d2ZB5v3x/srMwu498/BjhtuFSCQSiUQiEf+ZavsDW8AA2AWOgPEf90//t6E+sFWHHeAWWLTrBeCtNEN94Eybh/v89ncKjEo01AdmdzgP7NWuT4BJiYb6wOyztAtc2fwTmCvVUB+YvQ+3a/Ozkg31gdkd9m18B/ZLNtQHZp2lPeDS5i9U/0+LNdQHZu3Dbm1+WLqhPjCrw3Ubh1Tv9UUb6gOTz9IN4MJW+ggsl26oD0zeh53aKs89GOoDkzvcsXEIHHsw1AcmnaVLwIOt8g5Y82CoD0zah73aCgdeDPWBSR3+vAc+AwdeDPWBSR1u2vgEvHox1Ac27nAWWLH5CPjwYqgPbNzhF3ANrAL3ngz1gY07HFN9254AN54M9YGRSCQSaZ9vTqsmkdnR/jAAAAAASUVORK5CYII='></img>"
             },
             "type": "node"
            },
            "True: 1"
           ],
           "instanceArgs": {
            "namespace": "html",
            "tag": "div"
           },
           "nodeType": "DOM",
           "props": {
            "style": {
             "display": "flex",
             "flex-direction": "column"
            }
           },
           "type": "node"
          },
          {
           "children": [
            {
             "children": [],
             "instanceArgs": {
              "namespace": "html",
              "tag": "div"
             },
             "nodeType": "DOM",
             "props": {
              "setInnerHtml": "<img src='data:image/png;base64,iVBORw0KGgoAAAANSUhEUgAAAHAAAABwCAAAAADji6uXAAAABGdBTUEAALGPC/xhBQAAACBjSFJNAAB6JgAAgIQAAPoAAACA6AAAdTAAAOpgAAA6mAAAF3CculE8AAAAAmJLR0QA/4ePzL8AAAHtSURBVGje7dlPiE5RHMbxD9lYTCIGS7ZSioXNYOVPlrIixIKUhYWUpGRtSylFbAw1KSJZWcxuNJKVP4kiJMqOeC3OnZrG3D/ulHOczrN5z33vuefb09O559zfoaioqKioqKjo/9e8Lp2GMYpxXMLrlv6LsAn38WPGvfn/2mH+wAVtHRbjmZDLB93ym8AybMDz2A7zBzZmuBQ3sAQXcKzDgKexCof9mV8Uh/kDG9+lW3Gvaq/Ap5bB1uApxnAA31JwmD+wdh4OY1fVPqRbfg+r9pjZ84viMH9gbYbnsVdY2252GGgEy3EF11NymD+wNsMBfuEdvjcMsBCncLR65mBqDvMHtu5Ld+IBvuLijHubsQUbq+tbKTrMH1i7p1mP21g5reNgloen/nuF7XiZmsP8gbXzcAJrsU7I5oSwr7k6rc81PKna49rzi+Iwf2CnOk2dVuMFJrFN+941isP8ga3rYZPOCO/Sk7rlF8Vh/sDeGe7GPuE78HPKDvMH9s5wR/V7B49Tdpg/sPd6+B5DwvlEyTAqsNc8PCLUZD76u/yiOMwf2DvDAe5W10PCGdWbFB3mD5zTvvQn9uC4cMa4P0WH+QN7rYeTwvf/VJ3mMs7hbYoO8wf2ynAEZ/FIqKF+0VwXj+owf2BRUVFR0dz1G5IZTY3KuGb8AAAAAElFTkSuQmCC'></img>"
             },
             "type": "node"
            },
            "True: 4"
           ],
           "instanceArgs": {
            "namespace": "html",
            "tag": "div"
           },
           "nodeType": "DOM",
           "props": {
            "style": {
             "display": "flex",
             "flex-direction": "column"
            }
           },
           "type": "node"
          },
          {
           "children": [
            {
             "children": [],
             "instanceArgs": {
              "namespace": "html",
              "tag": "div"
             },
             "nodeType": "DOM",
             "props": {
              "setInnerHtml": "<img src='data:image/png;base64,iVBORw0KGgoAAAANSUhEUgAAAHAAAABwCAAAAADji6uXAAAABGdBTUEAALGPC/xhBQAAACBjSFJNAAB6JgAAgIQAAPoAAACA6AAAdTAAAOpgAAA6mAAAF3CculE8AAAAAmJLR0QA/4ePzL8AAAHnSURBVGje7dhNiI9RFAbwn0mhGCFl4aN8LBRFycKCzX8jpdRgmGSrsLLARlFYWFCWyspHSqKsZCc1u8koC1EsFIqQEIu/xX3lL/G+M72ZO8d9Nu97T7eenvt0zrn3UFBQUFBQUFBQUDDxmDKWzf04jVXo4Ns4CPv+tcL4hFObbhzCSSyq1v14MxkUxidslIcLMYJ56FaxaziAt7krjE/YyMNzOFht7vbE30u5eR5fc1UYn7DWwyUYxUw8xCupF/7Aa6zFy1wVxies7YdrMAv3sAnTsRtHsQwLcAubNaur8Y80Pw+nSfXzbLX+gosYwNIq9kmppRNIWOvhruq7BTd74ut6/ofxMVeF8Qlr++EOXJV64SBWYxu24wPmSDV0Ix7lqDA+Ya2Hc/EEs/16L72L/biNFbiAfTkqjE/Y6G3RwXXJx670ljgs9cZTOILn1b6nuSmMT9h41taR7qPvcMzP/jcDV7AVl7A3N4XxCcc0L/0TBnEZL6S3yN/eGPGPdHJ62Cfl4E4cx4mcFMYnbMVDUv7dl2YAK/E4F4XxCVvzEA7hDG5gDz7noDA+YasezpdycbmUl6M5KIxP2KqHsBjPpLnAUA4K4xO27iHcwQas9/vsJv6R5jcvHQ8G8ECqqcXDgoKC/wDfAfoASMU830GuAAAAAElFTkSuQmCC'></img>"
             },
             "type": "node"
            },
            "True: 9"
           ],
           "instanceArgs": {
            "namespace": "html",
            "tag": "div"
           },
           "nodeType": "DOM",
           "props": {
            "style": {
             "display": "flex",
             "flex-direction": "column"
            }
           },
           "type": "node"
          }
         ],
         "instanceArgs": {
          "namespace": "html",
          "tag": "div"
         },
         "nodeType": "DOM",
         "props": {
          "style": {
           "display": "flex",
           "flex-direction": "row"
          }
         },
         "type": "node"
        },
        {
         "children": [
          {
           "children": [
            {
             "children": [],
             "instanceArgs": {
              "namespace": "html",
              "tag": "div"
             },
             "nodeType": "DOM",
             "props": {
              "setInnerHtml": "<img src='data:image/png;base64,iVBORw0KGgoAAAANSUhEUgAAAHAAAABwCAAAAADji6uXAAAABGdBTUEAALGPC/xhBQAAACBjSFJNAAB6JgAAgIQAAPoAAACA6AAAdTAAAOpgAAA6mAAAF3CculE8AAAAAmJLR0QA/4ePzL8AAAH4SURBVGje7dnPi09RGAbwzxg/GxvR2PhVZGNBpDSlpiyVshHFko2FHyt2FEn+ASUjiT9AKU2UopDFN0Vpshhig43FJDIzFueWS3dmvl+GOd+382xO95zu+9znPr3nvOccCgoKCgoKCnpmI8gyrKk9v8EJvMAIntfG5v1vhfEJ/8rD3diDQWyo9Y9gLRZVz71zqTA+YccersdRHMHiNgMUD/8p5nf6wiocm2b8FV7mpDA+4YwersBxPMJdfMNnjKEPw9K69xQtfKnGslEYn3DaqbAPD7EZe3G76l+HUamOeYeJnBXGJ5wyDxfiluTfBdyrjY1W7dtuUBifsDEPl+I0TuETNkrzZ1cqjE/Y6OFBXJfybKc0X3atwviEjXPpQNW2zK5/c6IwPmFjHn7AcnzFRamWaXWrwviEjR5O+rXWnMBlPJFq0dd+7gE34bH28zX+L83Dw0s42UGQj3iA/TkqjE/Y6GEvtuKmtGCubuPLJnEG53JTGJ+wsaYZxzNpTwG7sEDyaPsUgXqwLUeF8QnbOi+9X7VbJA+/4xquSHdMB3JWGJ+wozPvYZyvXjos3TcN1sbf56gwPmFHd09LMIR9v/WP4450NjA2Q4z4vzRvD2ElrkprX790dnpDWiuzVBif8I/v8Q9hB85KZwLZKoxPWFBQUFBQUMAPcuVJ1mUaeWkAAAAASUVORK5CYII='></img>"
             },
             "type": "node"
            },
            "True: 5"
           ],
           "instanceArgs": {
            "namespace": "html",
            "tag": "div"
           },
           "nodeType": "DOM",
           "props": {
            "style": {
             "display": "flex",
             "flex-direction": "column"
            }
           },
           "type": "node"
          },
          {
           "children": [
            {
             "children": [],
             "instanceArgs": {
              "namespace": "html",
              "tag": "div"
             },
             "nodeType": "DOM",
             "props": {
              "setInnerHtml": "<img src='data:image/png;base64,iVBORw0KGgoAAAANSUhEUgAAAHAAAABwCAAAAADji6uXAAAABGdBTUEAALGPC/xhBQAAACBjSFJNAAB6JgAAgIQAAPoAAACA6AAAdTAAAOpgAAA6mAAAF3CculE8AAAAAmJLR0QA/4ePzL8AAAIoSURBVGje7dk5aFVBFAbgL3mKCom4geLaWGjhUkgUbIJgoaCgCFpYpjAICgGDWAlJF0hrtBBRsLUTQdTCpRAsVATFQlA0xCgE3JdEixl54cEj9yXguxnmhwtz5s7h5+fnnJm5l4yMjIyMjIyMjIyMjJmjZTpJ67EMB9CJCQzhAV5Okdv6vxWmT9iQh5twHAcFD2vxGy9wDyfxswwK0yecU2TRZsG7w1gY597iLl6hF4/QgSXYi8dCbTZdYfqEU9bheaFn/qu7W3iKM/ge5+6gGxexFSNYixUYbbbC9Anr1uF8ob66BKNHcQ4D+FKzdikqOIsbWFcmhekT1vWwE6cE/94Je+DDmjUVrMFlXMfiON+CKxgrg8L0Cet6WMF4HP/CdhzChjj3DRvj8wHLJ+WOoD/mNV1h+oR198MFuIrdcdyKP/HduOBxLSZwDScwXBaF6RNOeaZZhNPYiY94jXnYIpxDJ2NIOOuMlUlh+oTTuuMT9sCjcfwJPbik2n9LozB9wkL3w1r04sikuFvou6VUmD5hw3XYhUG0xfgZtuFHWRWmT9iQhx24ifYYf8Ye3C+zwvQJG+ql+1T9+4r9GvOvKQrTJyxch+3CPXBujC/g2GxQmD5hIQ/b8BwrY/wEO1S/l5ZaYfqEhXrpLqxSveP3mJ5/TVGYPmEhD/tU/RvA7dmkMH3CQr30DVbjvfBvabhIUlkUpk9YqA4H49NnZv41RWH6hBmzH38BKKpUS7N47u4AAAAASUVORK5CYII='></img>"
             },
             "type": "node"
            },
            "True: 9"
           ],
           "instanceArgs": {
            "namespace": "html",
            "tag": "div"
           },
           "nodeType": "DOM",
           "props": {
            "style": {
             "display": "flex",
             "flex-direction": "column"
            }
           },
           "type": "node"
          },
          {
           "children": [
            {
             "children": [],
             "instanceArgs": {
              "namespace": "html",
              "tag": "div"
             },
             "nodeType": "DOM",
             "props": {
              "setInnerHtml": "<img src='data:image/png;base64,iVBORw0KGgoAAAANSUhEUgAAAHAAAABwCAAAAADji6uXAAAABGdBTUEAALGPC/xhBQAAACBjSFJNAAB6JgAAgIQAAPoAAACA6AAAdTAAAOpgAAA6mAAAF3CculE8AAAAAmJLR0QA/4ePzL8AAAHuSURBVGje7dlNiE5RHMfxD4ONl5Td7LCQSDGKjSaWSM1qLGSB8rKUlSRlw0ZZUcrY2GGhFBsveUsWisKCsqAUec9sNCzOLdP0PPfepzTO8+/8Nvc+zzmd3/32639O938pKioqKioqmtHL5A14gGXYii24Vo09xN0Wa8ycbsL4hq0yXICL2IRxzMG8KXPG8RP7cSknwviGrTI8g72Tfr/AB3yb9NSbq/vvUr0+zYUwvmFjhitwG4vwFjvxCl/wY9JTH8URDOAK9uBzDoTxDWc1TZgv5fcbJ6U8p2oCx6Q99hBGcN7fs/K/EsY3bKzDYdzCBexqseBrLMYYdudAGN+wsQ6PV9dHLRe8gX1YnwthfMPaDJdgEF/xrOWCN6UMsyGMb1ib4Q4px8vSe2FfEsY3rM1wu1SDp/uZML5h43n4Evf6mTC+YdcM52J2BML4hl0zHMVSfOxxwW3V9VcuhPENG/fSXjQk9cLhcC6E8Q3/WYZDOIiFuC+9J2ZBGN+wa4ZvpP51Gw1IPbZRvKvuy146barttT2X+qTDOp+Lq3AAa7C2+m8j7uREGN+wcS9djut432FsndQPJ2V8FY9zI4xvWFuHI9L3pNU1cybwCadwIkfC+IaN3y0GpTpc2WHsHJ7gbM6E8Q2LioqKioqK+AOpS0hF1w/OiAAAAABJRU5ErkJggg=='></img>"
             },
             "type": "node"
            },
            "True: 0"
           ],
           "instanceArgs": {
            "namespace": "html",
            "tag": "div"
           },
           "nodeType": "DOM",
           "props": {
            "style": {
             "display": "flex",
             "flex-direction": "column"
            }
           },
           "type": "node"
          },
          {
           "children": [
            {
             "children": [],
             "instanceArgs": {
              "namespace": "html",
              "tag": "div"
             },
             "nodeType": "DOM",
             "props": {
              "setInnerHtml": "<img src='data:image/png;base64,iVBORw0KGgoAAAANSUhEUgAAAHAAAABwCAAAAADji6uXAAAABGdBTUEAALGPC/xhBQAAACBjSFJNAAB6JgAAgIQAAPoAAACA6AAAdTAAAOpgAAA6mAAAF3CculE8AAAAAmJLR0QA/4ePzL8AAAItSURBVGje7dq7a1RBGAXwnyEQFAKx0izBKlhZmDQisRJBiCns/AN8BAsVK0GjhdpYqJ3iCwTBMkJEQZBYiTYKFuJjK/FVSBoFAwZZi5mFZZPdvRjI3h3mwGXundfhzGEe33DJyMjIyFgt1hWtOIDnGMND7P9Pwr61Vpg+YX+RSgO4iu2o4VUvKUyfsJCHx3EE8ziHl72kMH3CQh5ujulTq/OvKwrTJyzk4SCWBA97TmH6hB3PNBV8xgvs6kWF6RN2nIczBTvaiZH4/gYfy6IwfcKOHu6L6e0W5ddjnY1YH/N+CufYC2VQmD5h27V0A6r4iy0N+f0YxwPhvNOHH0L8OB7rfsUEPnVbYfqEbefhIWzCzYa8ihBn1NfYb7iHa/gS8+YwiWHZwzVAWw/HYlptyJvBtBDrz+Mk3ja1q7bpM/0hLZeHlabvrTgQ32/hBP60aPs6Pl1XmD5hWw8HhQ2zvmkewxDu42iHdktW9jf9IS2Xh7WGh7C/1WLaChUcxGxZFKZPWOiepo5p4aw5gdO4gYWmOrNYxOWyKEyfsKWHFcvn24IQO8zhPPZiCr9iOiOcgy5qfa+a/pCWKz58gj14LJxlfjeUTeGdsOedFdbPRVyycmzfNYXpE7b1cASPsE24L72C77FsEruxI3byAWeEuL9UCtMn7HjnPYxnGG1qVGv4votTlu+NpVCYPmGhfzGGhLV0FIeFu9O6h3fwvswK0yfMyMjIyMjIyEgB/wCNKVZFvCpwHQAAAABJRU5ErkJggg=='></img>"
             },
             "type": "node"
            },
            "True: 6"
           ],
           "instanceArgs": {
            "namespace": "html",
            "tag": "div"
           },
           "nodeType": "DOM",
           "props": {
            "style": {
             "display": "flex",
             "flex-direction": "column"
            }
           },
           "type": "node"
          },
          {
           "children": [
            {
             "children": [],
             "instanceArgs": {
              "namespace": "html",
              "tag": "div"
             },
             "nodeType": "DOM",
             "props": {
              "setInnerHtml": "<img src='data:image/png;base64,iVBORw0KGgoAAAANSUhEUgAAAHAAAABwCAAAAADji6uXAAAABGdBTUEAALGPC/xhBQAAACBjSFJNAAB6JgAAgIQAAPoAAACA6AAAdTAAAOpgAAA6mAAAF3CculE8AAAAAmJLR0QA/4ePzL8AAAHbSURBVGje7dmti1VBHMbxj4sbDIKgCyqIgnE1uBgMvqw2LQazK5hETJpEtrjRIoLJIigGsSgqi3CDTRDUshv0D7jBYvANwZcws9zrRTlnz4LO/TFPOTNnZvjy8DDM78yhqqqqqqqqqqqqqqpq7Vq32gX7sIDjmMAPPMAV9HEUPXz5y/qJf+0wPrB1hpM4gtvYOrT4Z27fxQ7M4kzuF+EwPnB924kzWMztPi7gc+7vzO0b+JbHi3EYH9gqw2k8yu0eLuPV0Ph2PMQmXMtzinEYH9gqw3lswRNcwruR8T3SOclgrxbjMD6w8Ty8hbP4hANYHhmfxDMcxnMcK81hfGDjPtwv1S0f/Tm/BRzKc66W6DA+sHVNM6pdOI+Lud/HmxIdxgc2ZriMvdiM10Pvp7DN4Nuihw8lOowPbDwPN+A+ThjktaKTmMMpHMSLEh3GB7b+xp+VzkbS3nyKmziHt1JN875Eh/GBq75rG9Z3aW/ek/ZjkQ7jA9dU05Dq1eslO4wP7JzhfH4+9vudTXEO4wM7ZTgt1TE038v8d4fxgZ0ynMFG6Sz8WrrD+MBOGU5J+S1J/w6Ldhgf2CnD0/l5Zxwcxgd2ynDl7mYsHMYHdspwEbvxchwcxgdWjb9+ASOVRSFBgZyBAAAAAElFTkSuQmCC'></img>"
             },
             "type": "node"
            },
            "True: 9"
           ],
           "instanceArgs": {
            "namespace": "html",
            "tag": "div"
           },
           "nodeType": "DOM",
           "props": {
            "style": {
             "display": "flex",
             "flex-direction": "column"
            }
           },
           "type": "node"
          },
          {
           "children": [
            {
             "children": [],
             "instanceArgs": {
              "namespace": "html",
              "tag": "div"
             },
             "nodeType": "DOM",
             "props": {
              "setInnerHtml": "<img src='data:image/png;base64,iVBORw0KGgoAAAANSUhEUgAAAHAAAABwCAAAAADji6uXAAAABGdBTUEAALGPC/xhBQAAACBjSFJNAAB6JgAAgIQAAPoAAACA6AAAdTAAAOpgAAA6mAAAF3CculE8AAAAAmJLR0QA/4ePzL8AAAIJSURBVGje7dpPiE5RGAbwn8lsbDTGwizUt2IxiPFnSdkgpWzEgoWF1ewkUqLZyGLCRmIjUzMLbERZSCEbC2WBlTQbomSjCH1jce40t4l7z4em43SezT333HPO03Of3vd033MpKCgoKCgoKPj/sajXCQPYgJ04hi5uYhrjeN8yv2+hFeZPGO1hP45iFCtqk2dqY67jcGoK8yeM9nAUF+b1PcLWeX2LU1OYP2GUh8N4gMFa3wlcxJiQU2dRPEzPw2GcxW4hb05jD14Je2G/sD/exnK8xLqUFOZP2BY2RgT/+vANl/Ci9vw7nuKasF+uxRUcSUVh/oStcTiJfdXA+9jRMPY51lTXkVQU5k/YGIeD2FK7n2hZbALnUlOYP2GjhxvRqdqPcTdy0QEM4V0KCvMnbPRwU619Gp8iF10p5NTi4YKg0cMl5jbMhz0o6KakMH/C1jiciVxoFt2WOfm/0rQ8/FN8xsdUFOZP+E89PFRdz+BZKgrzJ2z8PlyPe0L9Jaae/bZS0MHXVBTmT9j6jX9QqMF8Eerbv4uvq4LHN7A/JYX5E7bm0ieYwgFs82sPt2MvPgg18KQU5k8YdW7REc4tlgn10pNV/ypsxvnq2TiOp6Ywf8Lo88MhXBZi8U3VHjN3HnVHqHm/Tk1h/oQ9/YuxFKtxCruEuINbQo79kaLC/AkLCgoKCv4ePwGmEEqxUZD0FAAAAABJRU5ErkJggg=='></img>"
             },
             "type": "node"
            },
            "True: 0"
           ],
           "instanceArgs": {
            "namespace": "html",
            "tag": "div"
           },
           "nodeType": "DOM",
           "props": {
            "style": {
             "display": "flex",
             "flex-direction": "column"
            }
           },
           "type": "node"
          },
          {
           "children": [
            {
             "children": [],
             "instanceArgs": {
              "namespace": "html",
              "tag": "div"
             },
             "nodeType": "DOM",
             "props": {
              "setInnerHtml": "<img src='data:image/png;base64,iVBORw0KGgoAAAANSUhEUgAAAHAAAABwCAAAAADji6uXAAAABGdBTUEAALGPC/xhBQAAACBjSFJNAAB6JgAAgIQAAPoAAACA6AAAdTAAAOpgAAA6mAAAF3CculE8AAAAAmJLR0QA/4ePzL8AAADCSURBVGje7ZldCoMwEAanpfdqPJntyerN2hdB7EvZDTRhmQFRH9bhM2j+QERERC6ZogewAhuwBGuv/05YX3jLFN33c9uPbeaE9YWpNmxf19vMCesLU//Sd8cD6r9ShQrDdI1pAJ77/bQJ6wtT/eGaKRqVUKFChQoVKvyNcwuFChUqVKgw2R++ONZMneMrVNhNeJ2mcd63mD5hfWG4DXvW2YYkrC8MtWHj/A0uxPYOhySsL0yteUfHMUMT1heKiIgIfAAlcA9p9hj9FQAAAABJRU5ErkJggg=='></img>"
             },
             "type": "node"
            },
            "True: 1"
           ],
           "instanceArgs": {
            "namespace": "html",
            "tag": "div"
           },
           "nodeType": "DOM",
           "props": {
            "style": {
             "display": "flex",
             "flex-direction": "column"
            }
           },
           "type": "node"
          },
          {
           "children": [
            {
             "children": [],
             "instanceArgs": {
              "namespace": "html",
              "tag": "div"
             },
             "nodeType": "DOM",
             "props": {
              "setInnerHtml": "<img src='data:image/png;base64,iVBORw0KGgoAAAANSUhEUgAAAHAAAABwCAAAAADji6uXAAAABGdBTUEAALGPC/xhBQAAACBjSFJNAAB6JgAAgIQAAPoAAACA6AAAdTAAAOpgAAA6mAAAF3CculE8AAAAAmJLR0QA/4ePzL8AAAHSSURBVGje7dmtb1RBFAXw35I6JF3blW1t+XALkuBgkzqQVOD4GyBgaFINluBoNSgaUCRgtxrLw4IDxH1N29Dt201Kd/Zmjpls5u07OXNy5t25Q0VFRUVFRUVv1j9cxT2MsNq+4A++Yozn7TgJly5aYX7CTg+3sIZh+3tDeHbo3Svs4X2pCvMTdnr4W3j1S+TrIw7QYHcRFOYnXOp6YBd3hX/XF1FhfsLOHPbxGZdxDd8WTWF+ws4cfhffvCdYVj0skLDTQyKsPaw7GdwxfpauMD/h1HvpipP1aE/Uo2/MVtvkX9KyPOxjX5wDD89/n9q5h2JvHQhPb5gul/mXtCwPh/ggcrZ5yvwy7ou6dSg83FTP+BeMmfs0k7AlsjnAHXwpRWF+wnPzkMjlPq7gkdO/k/mXdLE9hJvYFnl8hp15K8xPeO4ecpTHVf8eXvIvaZnnw1nRiPp1rQSF+Qn/i4frjnqsc1eYn7DTw8ei3/Z6yhcO8FT0V2+VoDA/4ZkejvACL032sC/uhLXjhvD8gbijmrvC/IRn1jQjvBV3iD/EWaEnvnON2C+P997GeCfq0aYUhfkJO+vS28IrImd94VVzbNxr5w/UXtscCCsqKioqKir4C+MSTd6JU7siAAAAAElFTkSuQmCC'></img>"
             },
             "type": "node"
            },
            "True: 5"
           ],
           "instanceArgs": {
            "namespace": "html",
            "tag": "div"
           },
           "nodeType": "DOM",
           "props": {
            "style": {
             "display": "flex",
             "flex-direction": "column"
            }
           },
           "type": "node"
          }
         ],
         "instanceArgs": {
          "namespace": "html",
          "tag": "div"
         },
         "nodeType": "DOM",
         "props": {
          "style": {
           "display": "flex",
           "flex-direction": "row"
          }
         },
         "type": "node"
        },
        {
         "children": [
          {
           "children": [
            {
             "children": [],
             "instanceArgs": {
              "namespace": "html",
              "tag": "div"
             },
             "nodeType": "DOM",
             "props": {
              "setInnerHtml": "<img src='data:image/png;base64,iVBORw0KGgoAAAANSUhEUgAAAHAAAABwCAAAAADji6uXAAAABGdBTUEAALGPC/xhBQAAACBjSFJNAAB6JgAAgIQAAPoAAACA6AAAdTAAAOpgAAA6mAAAF3CculE8AAAAAmJLR0QA/4ePzL8AAAIGSURBVGje7dnPi05RGAfwDzOjiCQUGsLIwmISslOyYMXCO4qFlYV/wM4f4MfWXlMWiqgpKQsbUWNjorCwwCRL+VWTeUcsnjs14d73nXcx73E638197rnnnu/99u055zznUlBQUFBQUFBQUNB/LFtM58M4iRa24Blu4/Iixli+1ArzJ+zKw024i4PVCx8wg/VYh7O4marC/Ak7ergBD7AX0ziPp/iCrZjAO4zhFKbwBr9SUZg/YUcPr+ACPmIEs388H8EP4fFE1bZa5GkSCvMnbPTwNG7gM3bge02/PXiMtcLHlpKHS4jBpoej1Re9VO8fsT7O45t6//qiMH/CRg9HquvVDoMcw8oqvpWawvwJa+fSVWIOHcA+PK/pt0Lk6U6Rq6N4n5LC/Akb83Cgw8tDOCL8g+ua/euLwvwJaz2cEzXDdhz1dx5uFnXhpQVt4ykqzJ+wcV86jFeiVniIO2IPugaHRO3fFvvRaTHnfkpNYf6EHevDE7iIA9V9G2/xRJzN3BNr4jjOpagwf8KuztqGsL+KZ8U5KezG6yo+jvspKsyfcLCbTm1M/qN9eEE82c1A/VCYP2FXHtah9T8ozJ+wZw+34UwVP8LXVBXmT9izh7vEfpQ4I51LVWH+hD17uLG6zuBaygrzJ+zZw/m18AV+pqwwf8KePRwT/yemUleYP2FBQUH/8RtFRUunTf0LBAAAAABJRU5ErkJggg=='></img>"
             },
             "type": "node"
            },
            "True: 9"
           ],
           "instanceArgs": {
            "namespace": "html",
            "tag": "div"
           },
           "nodeType": "DOM",
           "props": {
            "style": {
             "display": "flex",
             "flex-direction": "column"
            }
           },
           "type": "node"
          },
          {
           "children": [
            {
             "children": [],
             "instanceArgs": {
              "namespace": "html",
              "tag": "div"
             },
             "nodeType": "DOM",
             "props": {
              "setInnerHtml": "<img src='data:image/png;base64,iVBORw0KGgoAAAANSUhEUgAAAHAAAABwCAAAAADji6uXAAAABGdBTUEAALGPC/xhBQAAACBjSFJNAAB6JgAAgIQAAPoAAACA6AAAdTAAAOpgAAA6mAAAF3CculE8AAAAAmJLR0QA/4ePzL8AAAHWSURBVGje7dnPi41RHMfx10ymSESxsphoKAsLUWo2SmwUNpJJMWVjbWWDjRU2FpSs7ZTyL7CxGCWRHzXMSFkoGflRI1mcZ7qX8eM+97l5znw7n81zOs89592nz/2cp3sfioqKioqKioqKioqKmmvo14n9uI2RrrkvuFONZ3AFu/AO92oCh/+3w/jARRmewrV/LJqXMv6O+7iFJ3iFZ7k5jA9clOEIjmMMs9XcChzs+sxWrP/NZl9xCedzchgfONTPom3YV40nsKPr3hxG8SEXh/GBfWXYreXYgDM4Wc1dwLlcHMYHNs5wQWN4jo/YjulcHMYHLhvURoeq6yocxsVcHMYHDqSHm/AQK6Xn4Ua8z8VhfOBAenhAyg9u+HN+rTiMD2zcw814IGX4GTvxNCeH8YGNerhO+j240MGz/p5fKw7jAxv18DJOV+NpbJH+u8nKYXxg3xkexc1qg08Yx6McHcYH9nWW7sZ1nS/ApN7ya8VhfGDtHq7Ba51n4FXpPJ3P1WF8YK0eDuOETn5T6uXXisP4wFo9HPfz+8Ij0nunrB3GB/ac4Wq8xNpq0V3swbfcHcYH9nyW7pXyI+U3oX5+rTiMD+w5w8d4ixc4hjdLxWF8YNHS1w8KeT20pDD28wAAAABJRU5ErkJggg=='></img>"
             },
             "type": "node"
            },
            "True: 7"
           ],
           "instanceArgs": {
            "namespace": "html",
            "tag": "div"
           },
           "nodeType": "DOM",
           "props": {
            "style": {
             "display": "flex",
             "flex-direction": "column"
            }
           },
           "type": "node"
          },
          {
           "children": [
            {
             "children": [],
             "instanceArgs": {
              "namespace": "html",
              "tag": "div"
             },
             "nodeType": "DOM",
             "props": {
              "setInnerHtml": "<img src='data:image/png;base64,iVBORw0KGgoAAAANSUhEUgAAAHAAAABwCAAAAADji6uXAAAABGdBTUEAALGPC/xhBQAAACBjSFJNAAB6JgAAgIQAAPoAAACA6AAAdTAAAOpgAAA6mAAAF3CculE8AAAAAmJLR0QA/4ePzL8AAAJMSURBVGje7dg/bE1RHAfwD+pPpJUQSUti0TDRiUgajdTkTxhFu/iTdmDpJAwWEqEmAxGEwdCGQRgklAFDDVQQjTCJCQmJSIigNZz70pfnPq9NxLs9Od/lvt+559zv+57v/Z37O4eEhISEhISEGdVuNGIZ9mXxJTz9B4Qz/7fC+AlzPWzEARwua/uFK+jDp+mkMH7CXA+P4VCVAe+wB0PTRWH8hA15jW+y6zjOYBSzcRQtuIF+nMTXoiuMnzA3D29iE66iq6y9A9ewKIsHsBc/iqwwfsJcD8cxhjYhB8vRjuNYn8WD2I2fRVUYP2Guh3ewEa0m1tVyrBNydWEWdwk5W0iF8RPmfg9fCh6W0INunCtrG8T+7PeKIiuMnzDXw8fZtQ3zcFqoaTZUeUgPXgn5+7loCuMnzF1LF2A7rqMZI2iaxMO+oVeoW6vVq/FPaTE8rMRW7BDq0S2T6P9CWHtHc+7FP6XF9LCEWSbysVmoXz9k8RFhnzE/i+/ioD/P5+Kf0mJ6uBgrMVyjXzvOYlUWD2FzvRXGT1jTw204haXYKXzr/oYmPMFyfMnG3KqnwvgJa3rYjYuYI6ydHXhYY8xaIWdn4gE666kwfsKGWh0GhBzsFwyfzD9sM/FyPK+3wvgJa3oI54Xz005cxn2cwOuKfn3CXrFV9QSPf0qLt5aW0IhnWIK5wnnqWEWfyhfikbAv+VhPhfETTmlvAbuEOmW14GcehnEbF/C+3grjJ5yyhyW0CDVoL+5hjbC2juAtvhdFYfyECQkJCQkJCfwGdW9W0wLt/nsAAAAASUVORK5CYII='></img>"
             },
             "type": "node"
            },
            "True: 3"
           ],
           "instanceArgs": {
            "namespace": "html",
            "tag": "div"
           },
           "nodeType": "DOM",
           "props": {
            "style": {
             "display": "flex",
             "flex-direction": "column"
            }
           },
           "type": "node"
          },
          {
           "children": [
            {
             "children": [],
             "instanceArgs": {
              "namespace": "html",
              "tag": "div"
             },
             "nodeType": "DOM",
             "props": {
              "setInnerHtml": "<img src='data:image/png;base64,iVBORw0KGgoAAAANSUhEUgAAAHAAAABwCAAAAADji6uXAAAABGdBTUEAALGPC/xhBQAAACBjSFJNAAB6JgAAgIQAAPoAAACA6AAAdTAAAOpgAAA6mAAAF3CculE8AAAAAmJLR0QA/4ePzL8AAAGeSURBVGje7dg/axRRFIbxn6IkKiEJiiixFCV2KQRRsUiaFOkt7RQC+Rqp8hFsDATEVsSAhaKdhaCCtirYWEQRg38Iq8WMkITdmYVZ5Hi4b3PZvYd99uFll7mXkpKSkpKSkpL/PwdG9UF3cR8bLXMH/7VhfuChUX3rebyJaJgfOJIO53AiqmF+4FAdnsMaVvC+Ye51RMP8wKE6vIQl3NG/w7P1+jGiYX7gUB3O1+ugjm7iC15ENMwPbO1wAgu4h+cDZg6jh52IhvmBrR1ewIyqv16f/SnM4lFUw/zA1g6v1uuTAfvXcRxPoxrmBzZ2OIZlbOE0buMUjuJaPfP3kuBIVMP8wMZ7mkl83vW6h7d4t+u9BYzjJ25hPZphfmBjh+N4iZNYVZ0tPu2b+YAz+KY6H16JZpgf2Phf+gMX66GtPvszmFb1fAPfIxrmB7Y+03xt2FvEMTzAq6iG+YGd7kun6/VxZMP8wJHcef+KbFiABRgf2Ol3eFn1YHsez6Ia5gd26nACv+09Q4YzzA/s1OEmtvEwsmF+YElJSUlJ9/wBQP0zQPmrB6QAAAAASUVORK5CYII='></img>"
             },
             "type": "node"
            },
            "True: 4"
           ],
           "instanceArgs": {
            "namespace": "html",
            "tag": "div"
           },
           "nodeType": "DOM",
           "props": {
            "style": {
             "display": "flex",
             "flex-direction": "column"
            }
           },
           "type": "node"
          },
          {
           "children": [
            {
             "children": [],
             "instanceArgs": {
              "namespace": "html",
              "tag": "div"
             },
             "nodeType": "DOM",
             "props": {
              "setInnerHtml": "<img src='data:image/png;base64,iVBORw0KGgoAAAANSUhEUgAAAHAAAABwCAAAAADji6uXAAAABGdBTUEAALGPC/xhBQAAACBjSFJNAAB6JgAAgIQAAPoAAACA6AAAdTAAAOpgAAA6mAAAF3CculE8AAAAAmJLR0QA/4ePzL8AAAH4SURBVGje7dnNq01RHMbxzz3IwEtSoqRbCikmQqg7IyUl/wATLwNvY6VEGZhgwEjexoZiYiIp3Ykk5W0gFAYi3BKum8FvD06n0z37HGWvs1rPaO211+7Z3572b+3f3hQVFRUVFRUVFRU1r5F/uXgUR7ABh/C0xjWt/02Yv+FAGa7EYezB/GruPXZiGd7gSSqE+Rv2lWELq3EXS7qc/455eIgxTKVAmL9h7QwXibp5om3uq8is866/YDEmUyDM33Bm3YVnsK8a/8YxvMZJbGpb9wm7dM+vEcL8DXtm2MJNkcuU2Of2YxsuYFXH+keiliZDmL9hzwyPYnc1foGzeIDZXda+wsHUCPM3nHY/nIW3Ym/r1GdcxFZsqeaOi4yTIszfcNoMZ+A+NlfHP/ATl3BO9BHj4pkcx3Z8S40wf8Oe76ULRN83icd4Xs3PxQ1RZyewHi9TJMzfcODvNHtxrRpfEe85SRLmbzhQhgtxD2vwDivwK1XC/A1r94ftuiXyg9Pq59cIYf6GfWe4HGur8W1cT50wf8O+aulS0RuOiho6JnqPpAnzN+zrOVwn8hvBVf3n1whh/oa1M9woegmiR7wzLIT5G9bKcA5OiV6R+C8xMSyE+RvWyvCA+AYDH7EDz4aFMH/DWhn+Ef8Kz+MyPgwTYf6GRUVFzesv8Z9JRjuIuiYAAAAASUVORK5CYII='></img>"
             },
             "type": "node"
            },
            "True: 9"
           ],
           "instanceArgs": {
            "namespace": "html",
            "tag": "div"
           },
           "nodeType": "DOM",
           "props": {
            "style": {
             "display": "flex",
             "flex-direction": "column"
            }
           },
           "type": "node"
          },
          {
           "children": [
            {
             "children": [],
             "instanceArgs": {
              "namespace": "html",
              "tag": "div"
             },
             "nodeType": "DOM",
             "props": {
              "setInnerHtml": "<img src='data:image/png;base64,iVBORw0KGgoAAAANSUhEUgAAAHAAAABwCAAAAADji6uXAAAABGdBTUEAALGPC/xhBQAAACBjSFJNAAB6JgAAgIQAAPoAAACA6AAAdTAAAOpgAAA6mAAAF3CculE8AAAAAmJLR0QA/4ePzL8AAAHbSURBVGje7do/qE9hHMfx172RweJP+bOwMFwZ3FsGCyXLXZSyKIyMNmWxWBSLSCZiEwN1i8JyU0wGiyy37sLgmn5FhJ/he25Xt9Rz3HKf37fns5xTz3l6n8/59H16/hyampqamlaqsb4dJnEJ0/iKg3jTo//4/3aYH9g7w6c40t0v4DlO1uwwP3BNn4cPY6q7v4rb2FS7w/zA4jrcjPfYgBkcx49RcJgfWFyHB0R+cNm/5bcqDvMDizM8JIr2EV6PksP8wKIMt4h56BC3Rs1hfmBRhqcxgQE+j5rD/MCiDCe665x+a8EqHOYHFmU43V1XOo6uisP8wKIMx7o3O4pd2CNyHccvzIu9m3v4WZvD/MCi9eEHbBVzmj/1ztI4CxdwpTaH+YG9Mhzglai3BcyK/dIzONY9ewIPanKYH1g0lt7FedzH2WVtz8R6cS92Y2dtDvMDizJcXE/s/0v7AC9FhtU5zA8syvBL92ZrsQ7flrVPivlOycCc/5PWmeFNUYOncB3nxNkh7MANsSc+xKfaHOYHFp9bbMRbbBdnTg+xXmS6DR9xBxdrc5gf2OsMeAqPRY6LnYd4IdYVJXs4+T9p3RnCPkv/YsziCa7he60O8wObmpqampqamjLoN9EBQkkJB/XYAAAAAElFTkSuQmCC'></img>"
             },
             "type": "node"
            },
            "True: 6"
           ],
           "instanceArgs": {
            "namespace": "html",
            "tag": "div"
           },
           "nodeType": "DOM",
           "props": {
            "style": {
             "display": "flex",
             "flex-direction": "column"
            }
           },
           "type": "node"
          },
          {
           "children": [
            {
             "children": [],
             "instanceArgs": {
              "namespace": "html",
              "tag": "div"
             },
             "nodeType": "DOM",
             "props": {
              "setInnerHtml": "<img src='data:image/png;base64,iVBORw0KGgoAAAANSUhEUgAAAHAAAABwCAAAAADji6uXAAAABGdBTUEAALGPC/xhBQAAACBjSFJNAAB6JgAAgIQAAPoAAACA6AAAdTAAAOpgAAA6mAAAF3CculE8AAAAAmJLR0QA/4ePzL8AAAGZSURBVGje7ZnhTcMwEIU/EGMQ1kCBNaCskTZrQJmjLXOQskbDIPw4WzGhiaMENc7pnlQ5cq99evd0yp0NBoPBYJiKqyFBG+ANeACqiYTXl1aon/BmSFCxZIX6CaMeZu5TMr0GZ1GonzDq4bNbv5eqUD9h1MMnt/5HDc6iUD9hb0+TASegBu6WqlA/YW8dFm499MTkiNcA98AH/TWrP6Vpeei9+er4Pgd2QRzIHNI3g+hPaVoexrCm8c/3rTuaWTIJhfoJR3uY0/SsL8DePR+D/SQU6icc7eHaraF/IVYd+/pTmpaHtVtvW/sZUmsV531KSqF+wkGzRTtwj3hYAtvWbz4Rz7tmEf0pTa8OK+Tdt+GvX+2zm5WLLVNSqJ8wem+xQnpNkDnxHak1kFqrg7hX9/wY7M+uUD/h4Lungt9zIEg/A3Ie53vR2P2U/pSm6SGIfwXi5zlUiKd15H/0pzRdD0OcaGpyi5zjDO1P9ac0rZ6mCweaevT3i77/SU6hfsJRHvq+078Djwy/X9Sf0osTGgwGg8FgMGjAD/QCN9U4nfzGAAAAAElFTkSuQmCC'></img>"
             },
             "type": "node"
            },
            "True: 6"
           ],
           "instanceArgs": {
            "namespace": "html",
            "tag": "div"
           },
           "nodeType": "DOM",
           "props": {
            "style": {
             "display": "flex",
             "flex-direction": "column"
            }
           },
           "type": "node"
          },
          {
           "children": [
            {
             "children": [],
             "instanceArgs": {
              "namespace": "html",
              "tag": "div"
             },
             "nodeType": "DOM",
             "props": {
              "setInnerHtml": "<img src='data:image/png;base64,iVBORw0KGgoAAAANSUhEUgAAAHAAAABwCAAAAADji6uXAAAABGdBTUEAALGPC/xhBQAAACBjSFJNAAB6JgAAgIQAAPoAAACA6AAAdTAAAOpgAAA6mAAAF3CculE8AAAAAmJLR0QA/4ePzL8AAAHxSURBVGje7dlNqE1RFAfwn4+erhADgzfwUXoGQjIyM/LKVynJXAbCCEN5AwZ6iWL85spEScnYKzz1UgY+npJSZCQDn2GwjjrFfffce+Puu9v/yT27s+/591//1jp7rUNBQUFBQUFBwfBjQb8P2IWDOIRVtYf+xA/swKPa/oX/W2H+hIt7+dNh7MdurBSezWEKD/AEp3FU+Fs8/KfoysNJnMQS4dtz3MUVzOJbbe9DjOHsoBXmT9hVLX2H1biBS3iMr232bsAbfB60wvwJu8rDaRzAbcx02PsyFYX5EzbOw42iXr7FNnwcFoX5EzbOw2No4Y7e/RuIwvwJG3vYqn5fDJvC/Akb19LXoo/YilfDpDB/wkZ5uAwr8Ky63ly7N+fPs2dSCvMnbJSH4+I9+DfM4iJuaeZl/iFN08MxXMMHkXewBtuxqVpfxxGdfcw/pGl62A4t4eE5MXubwPnUFOZP2NO89Dc+iX5xfbV+n6LC/An7ysOduIotuIe9OveO+Yc07TwcEfPRpaJunqiu7+OUZr1//iFNMw+XY4+YY49iH9bhiziTXtZ8dpN/SNPycJH4DngBT8XMdER8253BcdFbJK0wf8J5PZzEmdr6u/BsQvt+MTmF+RPO+z6cFn3gWnF2uSnq51ApzJ+woKCgoKB//AIEpErJGccL9wAAAABJRU5ErkJggg=='></img>"
             },
             "type": "node"
            },
            "True: 5"
           ],
           "instanceArgs": {
            "namespace": "html",
            "tag": "div"
           },
           "nodeType": "DOM",
           "props": {
            "style": {
             "display": "flex",
             "flex-direction": "column"
            }
           },
           "type": "node"
          }
         ],
         "instanceArgs": {
          "namespace": "html",
          "tag": "div"
         },
         "nodeType": "DOM",
         "props": {
          "style": {
           "display": "flex",
           "flex-direction": "row"
          }
         },
         "type": "node"
        },
        {
         "children": [
          {
           "children": [
            {
             "children": [],
             "instanceArgs": {
              "namespace": "html",
              "tag": "div"
             },
             "nodeType": "DOM",
             "props": {
              "setInnerHtml": "<img src='data:image/png;base64,iVBORw0KGgoAAAANSUhEUgAAAHAAAABwCAAAAADji6uXAAAABGdBTUEAALGPC/xhBQAAACBjSFJNAAB6JgAAgIQAAPoAAACA6AAAdTAAAOpgAAA6mAAAF3CculE8AAAAAmJLR0QA/4ePzL8AAAHISURBVGje7dm/S1ZRHMfxV2oQgtCSBIVYELUoKNTS1tqggtTc0uA/0BK0RUMQLYGuYlPRVNAUQTWpf4BiQ0EN/SAhIlGq4TyDPHl97sONnuOX81nu5Zxzed8Pn3vOPT8oKioqKioqKjr4OtRN49e4gVcNgH3/22F84EDdhpMYx9eD5jA+sFaGfbiDLXxqq7uNFTzO1WF8YK0Mr+CE1A/bM9zGVSXDHgJrZXgOi/iwR90apnN2GB/YMcNRzEljZpVOYQTvcnQYH9gxw1l8x1JF/VTrrU8qGfYIuG+GI7iJu/7+D5LG2Cncx5tcHcYHVmbYj2vSAvJBRZuP+IKdnB3GB1ZmOIRbeKp6TbiJF7k7jA+szHALL3FBWhtu4Ak+t7VbxnXM7yp7j1+5OIwP3Hev7QhmcBaXcBw/dz34G0el+Qys4hHuSd9AFg7jA7vaLx3EYQzjfKtsDmOYkPrfdm4O4wNr75fCj9Z1E+ut+8s4I/0zO+XXE4fxgV1lWKWH+Jarw/jAxhk+k9Yg2TqMD/wn/XAMp/E2R4fxgY0zfI5j0rlGybAnwK7mpXtpQDo/HJTmNtk5jA9s3A93sICLuTqMDywqKioqaq4/Kwg+/KK0454AAAAASUVORK5CYII='></img>"
             },
             "type": "node"
            },
            "True: 4"
           ],
           "instanceArgs": {
            "namespace": "html",
            "tag": "div"
           },
           "nodeType": "DOM",
           "props": {
            "style": {
             "display": "flex",
             "flex-direction": "column"
            }
           },
           "type": "node"
          },
          {
           "children": [
            {
             "children": [],
             "instanceArgs": {
              "namespace": "html",
              "tag": "div"
             },
             "nodeType": "DOM",
             "props": {
              "setInnerHtml": "<img src='data:image/png;base64,iVBORw0KGgoAAAANSUhEUgAAAHAAAABwCAAAAADji6uXAAAABGdBTUEAALGPC/xhBQAAACBjSFJNAAB6JgAAgIQAAPoAAACA6AAAdTAAAOpgAAA6mAAAF3CculE8AAAAAmJLR0QA/4ePzL8AAAIvSURBVGje7dnNi05RHAfwzyA1jTI2YmnhJUPJy0JSrFhQVt4GCyxESmQ95Q9Q2CgLwmIkJLGZvCwUiYUiKbFAzWYW3lLGzFicq56Zzr3zzIjnOp3v6p5z7vl9+z7ffr/n3N8hIyMjIyMjo20ym6ZiM47hNAYb1u7hc8XeKf9aYfqEk/KwHV9L1s7hQJ0Upk/YlIcdWIEfeKzaw2EhDzfhUR0Upk84rZmXTuCI4Nte3MRl7CpR0CnU21ooTJ+w0sMOwb9DxXgG1uEaerEMXeLJfBZL6qAwfcLKWnoGB8fMPUE33hbjC9iNU1iJNcX8d+zArVYrTJ8w6mE7enBUvCZuRF/xPBPz8RyzcV3wEs5jf6sVpk8YraUbcLxkwwt8aBh/wtPi+aOQo6+L8SLMw7tWKkyfMOrh9JKXB7AdryoCNu5djaWyh38ZUQ97MRKZ71PtH1ypm8L0CZv6toAbOPw/KkyfMHqmGTY6D19iOX6WBFks5OgsoZb+DnpRONMMtVJh+oRN5eGIuH/7BG/XYs6YtW+Ch0Nj5tP/SevhYZvRediOVQ3jHuH7vrNYi6Eb9+ugMH3CaC29hJ1/EPSh0Id7XweF6RNGPdwi9NMmigHh3LoN/XVRmD5htJa+Ec4xXRMI1I89uFs3hekTlvZLFwj3uXPHCTCIL9gq/v/XcoXpE1b2vBfiqvJ8fIDbOFlnhekTjnsH3IX1wr0E3BHu6uGZ0COttcL0CTMyMjIyMjL4BX3VVcS5xfToAAAAAElFTkSuQmCC'></img>"
             },
             "type": "node"
            },
            "True: 0"
           ],
           "instanceArgs": {
            "namespace": "html",
            "tag": "div"
           },
           "nodeType": "DOM",
           "props": {
            "style": {
             "display": "flex",
             "flex-direction": "column"
            }
           },
           "type": "node"
          },
          {
           "children": [
            {
             "children": [],
             "instanceArgs": {
              "namespace": "html",
              "tag": "div"
             },
             "nodeType": "DOM",
             "props": {
              "setInnerHtml": "<img src='data:image/png;base64,iVBORw0KGgoAAAANSUhEUgAAAHAAAABwCAAAAADji6uXAAAABGdBTUEAALGPC/xhBQAAACBjSFJNAAB6JgAAgIQAAPoAAACA6AAAdTAAAOpgAAA6mAAAF3CculE8AAAAAmJLR0QA/4ePzL8AAAGMSURBVGje7Zk9SwNBEIafhFSx1MMurV5ragX/QZJaO3vBTsHOj/9gqmAfe0tJZZE21rZqqXbGYhY8iEfO7OEOw7ywJOHu9snLy8ztsuByuVwul8vlcrlcLhc0yi5kwEvh9xrQD6MXHpwXPveBhwrA5n87tA9slV04BU6QLPvAMbAFvAE3wGu47wzJsIdnmAj4ax3eAu/h+x6wDkyBOyS/oi6QvJtAN9ynyqF94EKGA2AEtJH6ugaGwHPJBG3gEciBK+Bcm0P7wIVemgNPSG5jfnpmmT6Az/DPNzQ6tA9cyPAyjL9oBuxodWgf2IqfAibAgVaH9oG1ZAjy7lTp0D6wlgx3kcXRRKND+8BaMtxG6nCm0aF9YG29dMryvWESh/aB0RlmyJ5iqNWhfWB0hl2gw/J9ZDKH9oHRGY6oviZN4tA+sBE7wRdyvrGp1aF9YFQd5kgNjjU7tA+MynCAFHLV9UwSh/aBK2eYAUdIH626nkni0D5w5Qw7YdxTfi6lwqF9YFQvnQOH2h3aB34D1XM0kuGMyWYAAAAASUVORK5CYII='></img>"
             },
             "type": "node"
            },
            "True: 7"
           ],
           "instanceArgs": {
            "namespace": "html",
            "tag": "div"
           },
           "nodeType": "DOM",
           "props": {
            "style": {
             "display": "flex",
             "flex-direction": "column"
            }
           },
           "type": "node"
          },
          {
           "children": [
            {
             "children": [],
             "instanceArgs": {
              "namespace": "html",
              "tag": "div"
             },
             "nodeType": "DOM",
             "props": {
              "setInnerHtml": "<img src='data:image/png;base64,iVBORw0KGgoAAAANSUhEUgAAAHAAAABwCAAAAADji6uXAAAABGdBTUEAALGPC/xhBQAAACBjSFJNAAB6JgAAgIQAAPoAAACA6AAAdTAAAOpgAAA6mAAAF3CculE8AAAAAmJLR0QA/4ePzL8AAAHESURBVGje7dixThZBFAXgD2MiDRoSEbUSeQKhpcLaEAOtHRQ+gBY+g7bWRDqj0YLGaK0V0YpCI8bGmBBCaYnFTAKSf91/2cQdb+Ykm7kzc3fPnj3Z3ZlLRUVFRUVFRcX/j4muJ3zFUzw5I+G5f60wPuH5LsmLmMvHaVzBJ2ziUUkK4xN28vBBbr813PksFkpTGJ9wbA8XsZzjvRHzt0tVGJ9wLA+n8ByX8QyvRuQsSD/XD6UpjE84locbuIEjvGjIWc7zey3Xiv9Iy/PwEh7m+D62W/Lb5uM/0vI83MUMdvCyIeem47XqYWkK4xM2engBW7iW++s4aMidwsVSFcYnbPRwGqs5PsI7vMHjPLaPHzlezTlFKoxP2FinmcF3TPrTn4nc38d76Tt6NedvY6U0hfEJ/1prW8Mdad8wmcfmjfb0F+7ibWkK4xN2rpfew60cf5Q8XsNPXC9RYXzCTrU20jpn60R/SXoP29ajgymMT9jZw9OYzm3bvnAwhfEJe3vYVuMeXGF8wl4eLjle47TVSQdTGJ+wl4dzkn/j1EkHUxifsJeHu7n9jC+lKoxP2MvDHal+81raHxapMD5hRUVFRUV//AaDfjuzrf9WlQAAAABJRU5ErkJggg=='></img>"
             },
             "type": "node"
            },
            "True: 4"
           ],
           "instanceArgs": {
            "namespace": "html",
            "tag": "div"
           },
           "nodeType": "DOM",
           "props": {
            "style": {
             "display": "flex",
             "flex-direction": "column"
            }
           },
           "type": "node"
          },
          {
           "children": [
            {
             "children": [],
             "instanceArgs": {
              "namespace": "html",
              "tag": "div"
             },
             "nodeType": "DOM",
             "props": {
              "setInnerHtml": "<img src='data:image/png;base64,iVBORw0KGgoAAAANSUhEUgAAAHAAAABwCAAAAADji6uXAAAABGdBTUEAALGPC/xhBQAAACBjSFJNAAB6JgAAgIQAAPoAAACA6AAAdTAAAOpgAAA6mAAAF3CculE8AAAAAmJLR0QA/4ePzL8AAAH/SURBVGje7dpNqIxRHMfxj9tcdq63EmNBkkiytGCDhVgoZau7UBYosvK6JgsLJYkUNhayJm8bGxsbKRbeSiSKnXK71+I805073XmeI2XOnM53c57znP/069evZ+Y8/zMUCoVCoVAoDD9zYopW4h2mqg9Mda3dwCe8wp2etdkY+d8O8xdsxRZOVmNvRuNd10twuas2CYf5C0Y9h/NxHEcw1lC7Ch9Tcpi/YFSGHTbjGX7jHnZgUU/NIVxJyWH+gtEZjuIuduM+dqEtZHYMc6u6N0LWP1NxmL9gVIajOINT+ICtwj6mwwNs75q38SUVh/kLRu1p2kJ+cM3M/OA8tmBeNd8r7G2ScJi/YFSG+6rxufAu0csj4XdyWzVfn5LD/AUbM9yIw/iF0/jcp+666QyTcpi/YGOGB7ECD4Xnbegc5i9Ym+EY9lTXt4fVYf6CrabFZcPuMH/B6F7b3/A6JYf5C0ZnuC6y7i1upeQwf8HoDMdxFe/7rG+oxif4kZLD/AVr+zSL8bVr/g0XcU7otS2v7h/AJqGHs1M4p0rGYf6CtRmOCO99+7vuTeA7FprukXY4ikupOcxfsPa7dBJPzcywhaWz1J7Qv782UIf5Czb2vEewFi9rak7igvqz34E5zF8w6txiAVZjDc7iBR7jZrU+ofk/GANzmL9goVAoFP6dP3soRZfIGosGAAAAAElFTkSuQmCC'></img>"
             },
             "type": "node"
            },
            "True: 0"
           ],
           "instanceArgs": {
            "namespace": "html",
            "tag": "div"
           },
           "nodeType": "DOM",
           "props": {
            "style": {
             "display": "flex",
             "flex-direction": "column"
            }
           },
           "type": "node"
          },
          {
           "children": [
            {
             "children": [],
             "instanceArgs": {
              "namespace": "html",
              "tag": "div"
             },
             "nodeType": "DOM",
             "props": {
              "setInnerHtml": "<img src='data:image/png;base64,iVBORw0KGgoAAAANSUhEUgAAAHAAAABwCAAAAADji6uXAAAABGdBTUEAALGPC/xhBQAAACBjSFJNAAB6JgAAgIQAAPoAAACA6AAAdTAAAOpgAAA6mAAAF3CculE8AAAAAmJLR0QA/4ePzL8AAAEgSURBVGje7dmvSgVBGIbxn3/AJpgscoJmTRrsilEMtpOMeg0mr0I4wWASQW/BooLNaFbwAjRrOAtG+Tbo7Mf3wDITZnl4eZlh2aEoiqIoipnI4hesYRGfPYWzf50wv3A+svirew5wOZSE+YWhffiIzW4eKv8/E+YXhjrcxyk2MML7EBLmF4Y6ZNrjFSY4GULC/MLwkTjCHMaqw0aE4Q6PhpYwvzDc4Q3Wh5QwvzDc4erQEuYXhr9p3rDcvXiM89YT5heGO9zCGfZwjcPWE+YXhs/SJ9xhF9tDSFjCEpawhCUs4e/0+nU97sYFrOC15YT5hb06/OjGJezgouWE+YW9Orz1cwfVfMISlrB9Ya99+IB703vE59YT5hcWRVEURcE3pQsZsV8xG4wAAAAASUVORK5CYII='></img>"
             },
             "type": "node"
            },
            "True: 1"
           ],
           "instanceArgs": {
            "namespace": "html",
            "tag": "div"
           },
           "nodeType": "DOM",
           "props": {
            "style": {
             "display": "flex",
             "flex-direction": "column"
            }
           },
           "type": "node"
          },
          {
           "children": [
            {
             "children": [],
             "instanceArgs": {
              "namespace": "html",
              "tag": "div"
             },
             "nodeType": "DOM",
             "props": {
              "setInnerHtml": "<img src='data:image/png;base64,iVBORw0KGgoAAAANSUhEUgAAAHAAAABwCAAAAADji6uXAAAABGdBTUEAALGPC/xhBQAAACBjSFJNAAB6JgAAgIQAAPoAAACA6AAAdTAAAOpgAAA6mAAAF3CculE8AAAAAmJLR0QA/4ePzL8AAAHQSURBVGje7dkvbBRBFMfxz5GqnoSzIEmDg1QREhQJioIkBAWiqkE2dRWg8OTqIMFBJQFbFAJLPQ7wdV3E20v/EG53j4SbvMzPzOXmNr/93Tcz894uVVVVVVVVVVVVVcvXaN7kBI+wgVto2gtm43u8bce+uvC/E+Y3nMvwA+74k93p8QjrOCw1YX7DlXmTl9o7+oGv2MfTdu4KLmKMLWyWmjC/4VyGz8U63BMMYYo1vMLN9ru+a3ApCfMbjoZeMMYXwbERbNdLTpjfcGXIj3fwEFcFv0as1aIT5jfszfAGdp2taab4XHrC/Ia999JVZ/fQEX6KunRPnIl9eoz8f2m5DGfawRNRl57vNe7iY2kJ8xsOZkj0HJdxHw/E+TjCAW6XljC/4UIMT2uCl+J5TiP6xGlJCfMbDqpL/6bZGdngW2kJ8xv+M8MtXBcL+rHYT4tKmN9wYYYTbAuGDX7p5reUhPkNF2K4hndOaplDXCs1YX7DwQzfiHdRq2L97Ys9tNiE+Q0769IxXrefN9o7PMZ3PBMMi06Y37BzHW7jnpNe/lg8j9kUZ2DxCfMbdjKcCH5Hom94Ydh7+6UnzG/YyfBA1C6fDH9HUUTC/IZVVVXL12+230lhUH79EwAAAABJRU5ErkJggg=='></img>"
             },
             "type": "node"
            },
            "True: 3"
           ],
           "instanceArgs": {
            "namespace": "html",
            "tag": "div"
           },
           "nodeType": "DOM",
           "props": {
            "style": {
             "display": "flex",
             "flex-direction": "column"
            }
           },
           "type": "node"
          },
          {
           "children": [
            {
             "children": [],
             "instanceArgs": {
              "namespace": "html",
              "tag": "div"
             },
             "nodeType": "DOM",
             "props": {
              "setInnerHtml": "<img src='data:image/png;base64,iVBORw0KGgoAAAANSUhEUgAAAHAAAABwCAAAAADji6uXAAAABGdBTUEAALGPC/xhBQAAACBjSFJNAAB6JgAAgIQAAPoAAACA6AAAdTAAAOpgAAA6mAAAF3CculE8AAAAAmJLR0QA/4ePzL8AAAE1SURBVGje7dg9TgMxEMXxX4AqtNwB0iKlA64AFRWUHIOWM0TiDogzQKog0SF6DhEqPgqTA6xXIvZoXm/99/l5PJ4llUqlUqlUqn9Nhi54wRrX+KgA7vy3w/jAvZpFJ7jBbQ8O4wMHZ3iPBQ56cRgfWFWHPz05jA8c3A9neFNy3O3BYXzg4AzhS8nwEg+tO4wPrMpwobxpXjFv3WF8YFU/pL4nxt/SPjJcKnW4j6kyLzbrMD6w6i6dYqW8b+bKndqsw/jAqjpc41M5AGcywy0Dq/vhO45x2LrD+MDqDJe46sFhfGB1hpS36ax1h/GBozKc4LR1h/GBo+tw6JwYf0v7yfD572u/W3cYH1g1H260+W865CDE39J+6hAecaHMiE+tOowPHJXhHc5xJDPcIjCVSqVS4/ULUT4jfl2cXhgAAAAASUVORK5CYII='></img>"
             },
             "type": "node"
            },
            "True: 1"
           ],
           "instanceArgs": {
            "namespace": "html",
            "tag": "div"
           },
           "nodeType": "DOM",
           "props": {
            "style": {
             "display": "flex",
             "flex-direction": "column"
            }
           },
           "type": "node"
          }
         ],
         "instanceArgs": {
          "namespace": "html",
          "tag": "div"
         },
         "nodeType": "DOM",
         "props": {
          "style": {
           "display": "flex",
           "flex-direction": "row"
          }
         },
         "type": "node"
        }
       ],
       "instanceArgs": {
        "namespace": "html",
        "tag": "div"
       },
       "nodeType": "DOM",
       "props": {
        "style": {
         "display": "flex",
         "flex-direction": "column"
        }
       },
       "type": "node"
      },
      "text/html": [
       "<div\n",
       "    class=\"webio-mountpoint\"\n",
       "    data-webio-mountpoint=\"13908438831363777606\"\n",
       ">\n",
       "    <script>\n",
       "    if (window.require && require.defined && require.defined(\"nbextensions/webio/main\")) {\n",
       "        console.log(\"Jupyter WebIO extension detected, not mounting.\");\n",
       "    } else if (window.WebIO) {\n",
       "        WebIO.mount(\n",
       "            document.querySelector('[data-webio-mountpoint=\"13908438831363777606\"]'),\n",
       "            {\"props\":{\"style\":{\"display\":\"flex\",\"flex-direction\":\"column\"}},\"nodeType\":\"DOM\",\"type\":\"node\",\"instanceArgs\":{\"namespace\":\"html\",\"tag\":\"div\"},\"children\":[{\"props\":{\"style\":{\"display\":\"flex\",\"flex-direction\":\"row\"}},\"nodeType\":\"DOM\",\"type\":\"node\",\"instanceArgs\":{\"namespace\":\"html\",\"tag\":\"div\"},\"children\":[{\"props\":{\"style\":{\"display\":\"flex\",\"flex-direction\":\"column\"}},\"nodeType\":\"DOM\",\"type\":\"node\",\"instanceArgs\":{\"namespace\":\"html\",\"tag\":\"div\"},\"children\":[{\"props\":{\"setInnerHtml\":\"<img src='data:image\\/png;base64,iVBORw0KGgoAAAANSUhEUgAAAHAAAABwCAAAAADji6uXAAAABGdBTUEAALGPC\\/xhBQAAACBjSFJNAAB6JgAAgIQAAPoAAACA6AAAdTAAAOpgAAA6mAAAF3CculE8AAAAAmJLR0QA\\/4ePzL8AAAGrSURBVGje7dk\\/a9VQHIfxT711EFysKDhYOzl0KSKCoILiYtuhg30L10U7dnZ3dPAddBEEQRERKuigDl1E7T+8HVREEOqghaKFOiRDKVy9aUp78uN8l5z8IQ8PX06SQ8jJycnJycnJycnJyamfvm4nJtHGV6xjBt\\/wsSbwwF4bxgd27XAFQ9uO\\/cSH\\/9zwC+5gLhXD+MD+bifaGME8hnEGl3Een3Fyy7Ub+I4T5f4nucM9TF+Vi48oupzDuS3H17GMBQzgFu6lYhgfWKnDf+U67uM9rmA1FcP4wF3p8DjeldtJPEjJMD6wv\\/4tuIlj+IGl1AzjA2vPwwt4joOKb56XqRnGB9aeh2OK\\/mbxOkXD+MBaHR7CNfzGbfxJ0TA+sFaH04q1xlO8StUwPnDH78NxPMQaRvX2HN0Xw\\/jAHc3Do7iLFp7ovb99MYwPrDwPW3iDs+go3oedlA3jAyt3eBqL5XgCj1I3jA+s9Cw9hWfleBqPm2AYH1ipwxsYLMcvsNkEw\\/jAnju8hKkmGsYH9tzhRRwuxx38aophfGDltcVbXNX931JyhvGBOc3PX\\/q9Oc17OzXKAAAAAElFTkSuQmCC'><\\/img>\"},\"nodeType\":\"DOM\",\"type\":\"node\",\"instanceArgs\":{\"namespace\":\"html\",\"tag\":\"div\"},\"children\":[]},\"True: 7\"]},{\"props\":{\"style\":{\"display\":\"flex\",\"flex-direction\":\"column\"}},\"nodeType\":\"DOM\",\"type\":\"node\",\"instanceArgs\":{\"namespace\":\"html\",\"tag\":\"div\"},\"children\":[{\"props\":{\"setInnerHtml\":\"<img src='data:image\\/png;base64,iVBORw0KGgoAAAANSUhEUgAAAHAAAABwCAAAAADji6uXAAAABGdBTUEAALGPC\\/xhBQAAACBjSFJNAAB6JgAAgIQAAPoAAACA6AAAdTAAAOpgAAA6mAAAF3CculE8AAAAAmJLR0QA\\/4ePzL8AAAHhSURBVGje7dnPi01hHMfxF80oK5lZaMpKsqAojY212DBSin9DBiWy4l+ws8BGk2kiCztTCmWBmtgobEhSIik\\/snge3bm3cc85ppxzvz2fuvXt+5zuu8\\/99D33PM+hqKioqGi1WlP3wlmsx04czb3LeIBrDYBr\\/7fD+MBaGd7Qy21QL7EPb7rqMD6wMsPB\\/F7gLrbgUO6dx6WuOowPHBu2OI0juV7CDD7gC9bhIXZhossO4wOHZjglDeoSDuDtsrVZbM\\/1nS47jA8cmuFtbMVnfBxYO4bxUXAYHzhWdcHrFXqnsC3Xj\\/Knsw7jA2vvLf7oIOak\\/8P3OI7FLjuMD6ycw0FNS\\/mRnlmb5NeKw\\/jARhkuYH+ur+LcKDiMD6x9L53CU0xK+4u90v6+8w7jA2vP4U0pP7ju3\\/JrxWF8YK0MZ7A71\\/dwYZQcxgdWZjiJs3p7wSfSOc3IOIwPrMzwJPbkesHqZrAVh\\/GBlc803\\/RmcLP+87aRcBgf2GhvMYHvA71PuTeODbm3ESeWXfMTZ\\/C1DYfxgY0yfLZCb06azU3SGerf9A4X23AYH1h5L53H4QZf+AO\\/cn0Lj3N9X3rnH\\/8n7V6GcFr\\/O4od+mfuCl7leh7Pu+QwPrCoqKioqKioKIJ+AzhFQPcCumLaAAAAAElFTkSuQmCC'><\\/img>\"},\"nodeType\":\"DOM\",\"type\":\"node\",\"instanceArgs\":{\"namespace\":\"html\",\"tag\":\"div\"},\"children\":[]},\"True: 2\"]},{\"props\":{\"style\":{\"display\":\"flex\",\"flex-direction\":\"column\"}},\"nodeType\":\"DOM\",\"type\":\"node\",\"instanceArgs\":{\"namespace\":\"html\",\"tag\":\"div\"},\"children\":[{\"props\":{\"setInnerHtml\":\"<img src='data:image\\/png;base64,iVBORw0KGgoAAAANSUhEUgAAAHAAAABwCAAAAADji6uXAAAABGdBTUEAALGPC\\/xhBQAAACBjSFJNAAB6JgAAgIQAAPoAAACA6AAAdTAAAOpgAAA6mAAAF3CculE8AAAAAmJLR0QA\\/4ePzL8AAAFHSURBVGje7detSgRRGMbxn19lo+BH06QILipYRMRgEwSzyRsQ78PqHdiExbSg1WrRKCaLRcMmxeJHcC5gZwbcc17OU94Jw\\/z58\\/CemaGkpKSkpKRkrO0DlvCIU5wPcf\\/4fxvGB062fcAGvvGSqmF8YOsO1\\/GOq1QN4wNbddjFCS5SNowPbNXhMjq4TNkwPrDVN80dZrDq7zxN0jA+sPEeLmITT4bvbySG8YGNO9yt5lvqhvGBjTvsVvMsdcP4wEbvwy308YxtfKZsGB\\/YaA\\/3MI0b9fobiWF8YKMO1\\/CDXg6G8YG1z9J5PGCAlRwM4wNr7+ExZnGdi2F8YO0OF6o5yMUwPrB2hwfV7OdiGB9Yq8MdzOVmGB9Yq8NDTOAet7kYxgcO3WEH+9V1D1+5GMYHDv1vMeVv915xhI9cDOMDS0pKSkpKSvgFnPUiCkwgYfcAAAAASUVORK5CYII='><\\/img>\"},\"nodeType\":\"DOM\",\"type\":\"node\",\"instanceArgs\":{\"namespace\":\"html\",\"tag\":\"div\"},\"children\":[]},\"True: 1\"]},{\"props\":{\"style\":{\"display\":\"flex\",\"flex-direction\":\"column\"}},\"nodeType\":\"DOM\",\"type\":\"node\",\"instanceArgs\":{\"namespace\":\"html\",\"tag\":\"div\"},\"children\":[{\"props\":{\"setInnerHtml\":\"<img src='data:image\\/png;base64,iVBORw0KGgoAAAANSUhEUgAAAHAAAABwCAAAAADji6uXAAAABGdBTUEAALGPC\\/xhBQAAACBjSFJNAAB6JgAAgIQAAPoAAACA6AAAdTAAAOpgAAA6mAAAF3CculE8AAAAAmJLR0QA\\/4ePzL8AAAH0SURBVGje7dmxaxRBFAbwX6KdrVdYRRBR0lmoXQQrBQ9sRMEUYmEQMfYGlLQKVkpEG\\/8BG5EUNkIs0sTCJoIgeDYiaiFICIhisXvscNns7SKYcZivub3Hm\\/3m4+PNzrwhIyMjIyMjY6LrgD24izm8xjkMOoyf\\/NcK0yfs7OFBrAeznceDmBWmT7i7S3IPT\\/43hekTtvZwHmdxbCQ+U876DVZiVJg+Yeu19Bd+18x2GBvgvOIbGZXC9AlbebiM07Z6+A0\\/MBXEdsWmMH3CsWvpCRxS+Bd6+BAv8B0nsVDGr2IpJoXpEzbW4X6sYq9q3RzgKRaxUeZNlXk9bOIW7uNnDArTJ2z0cPQc8RIX8LUm9zruqbw+jPcxKEyfsPW+dA2X1fsHz3ARR2NTmD7hWA+HMzo+Jm+izB3mL2I2BoXpEzZ6OGfrXnQ79HFEtfe5HYvC9AkbPey3eEEP07gZxL6o38\\/siML0CTv12uqwgGvB\\/w+4hI+xKEyf8K88XFacHUO8xauYFKZP2Hi2eIcD5fOZ8vcx9gWzHf1e5j5NXHW4hDvl83OVX6Fvo72b6BSmT9hYh2H\\/pa7mJvFZsX5ewSdV7yYahekTju15zyjunG6o9zDfAe84Yeu7p1OKWusrejKPysHrtt+DRqEwfcKMjIyMjIwM\\/gC5j04wkka+LwAAAABJRU5ErkJggg=='><\\/img>\"},\"nodeType\":\"DOM\",\"type\":\"node\",\"instanceArgs\":{\"namespace\":\"html\",\"tag\":\"div\"},\"children\":[]},\"True: 0\"]},{\"props\":{\"style\":{\"display\":\"flex\",\"flex-direction\":\"column\"}},\"nodeType\":\"DOM\",\"type\":\"node\",\"instanceArgs\":{\"namespace\":\"html\",\"tag\":\"div\"},\"children\":[{\"props\":{\"setInnerHtml\":\"<img src='data:image\\/png;base64,iVBORw0KGgoAAAANSUhEUgAAAHAAAABwCAAAAADji6uXAAAABGdBTUEAALGPC\\/xhBQAAACBjSFJNAAB6JgAAgIQAAPoAAACA6AAAdTAAAOpgAAA6mAAAF3CculE8AAAAAmJLR0QA\\/4ePzL8AAAHWSURBVGje7dnPi05RHMfx12hqRFJPk5KFKSsyC2woJRtC2aCUFQt\\/gO2sJBsLdqztLGRnyyzsRlGUDTaWfqQQJR6LczVPuPfcujXP8e286+ncnufb99Pnfjr3nHseKpVKpVKpVP5\\/ZvoW7sU9LHTUHMELvOmoWbfWDuMLzvYtPIq5TM1JXMDZkhzGF+yV4SyO96h7jEvYiC+lOIwv2CvDwziAa5m6EXZhg5rhGpJdDxfxEO+xD587apdxEFvxthSH8QWz83BJejYe053fCIfwszSH8QU7MzwtrYMvsZJptCTlt4yPJTmML9iZ4RlpbbuVabKAc\\/iBq\\/heksP4gq0Zbsb+5vpmpslFzEvvhg9KcxhfsDXDOWzDnR5NdjTj8xIdxhdszfATnkr70hE+tNRtkdZNeFSiw\\/iCrRl+xSucwn1c\\/+P33dL8245x891Ynvi3tKz3w524jBP+Pmd7J2U2P9Fkk5R9UQ7jC\\/Y6895jdc37zd1mvC3tSel36BP\\/lpbzLJ3kSfP5F68nrhfxrDSH8QV7\\/2\\/RxozVyZzLbyoO4wsOznCs315mag7jCw7OcH0zfivVYXzBwRmel85Hr5TqML7g4AxXcEP+jG1qDuMLViqVSmU4vwBr3jsoVUdw\\/wAAAABJRU5ErkJggg=='><\\/img>\"},\"nodeType\":\"DOM\",\"type\":\"node\",\"instanceArgs\":{\"namespace\":\"html\",\"tag\":\"div\"},\"children\":[]},\"True: 4\"]},{\"props\":{\"style\":{\"display\":\"flex\",\"flex-direction\":\"column\"}},\"nodeType\":\"DOM\",\"type\":\"node\",\"instanceArgs\":{\"namespace\":\"html\",\"tag\":\"div\"},\"children\":[{\"props\":{\"setInnerHtml\":\"<img src='data:image\\/png;base64,iVBORw0KGgoAAAANSUhEUgAAAHAAAABwCAAAAADji6uXAAAABGdBTUEAALGPC\\/xhBQAAACBjSFJNAAB6JgAAgIQAAPoAAACA6AAAdTAAAOpgAAA6mAAAF3CculE8AAAAAmJLR0QA\\/4ePzL8AAAFfSURBVGje7ZgvSwRBGIcfxT\\/BeFGLYBNMXjnkos0g+DX8AuKXMClYBfNVLQaLCGIwGtQseCYP9TzDvuI2d2ZB5v3x\\/srMwu498\\/BjhtuFSCQSiUQiEf+ZavsDW8AA2AWOgPEf90\\/\\/t6E+sFWHHeAWWLTrBeCtNEN94Eybh\\/v89ncKjEo01AdmdzgP7NWuT4BJiYb6wOyztAtc2fwTmCvVUB+YvQ+3a\\/Ozkg31gdkd9m18B\\/ZLNtQHZp2lPeDS5i9U\\/0+LNdQHZu3Dbm1+WLqhPjCrw3Ubh1Tv9UUb6gOTz9IN4MJW+ggsl26oD0zeh53aKs89GOoDkzvcsXEIHHsw1AcmnaVLwIOt8g5Y82CoD0zah73aCgdeDPWBSR3+vAc+AwdeDPWBSR1u2vgEvHox1Ac27nAWWLH5CPjwYqgPbNzhF3ANrAL3ngz1gY07HFN9254AN54M9YGRSCQSaZ9vTqsmkdnR\\/jAAAAAASUVORK5CYII='><\\/img>\"},\"nodeType\":\"DOM\",\"type\":\"node\",\"instanceArgs\":{\"namespace\":\"html\",\"tag\":\"div\"},\"children\":[]},\"True: 1\"]},{\"props\":{\"style\":{\"display\":\"flex\",\"flex-direction\":\"column\"}},\"nodeType\":\"DOM\",\"type\":\"node\",\"instanceArgs\":{\"namespace\":\"html\",\"tag\":\"div\"},\"children\":[{\"props\":{\"setInnerHtml\":\"<img src='data:image\\/png;base64,iVBORw0KGgoAAAANSUhEUgAAAHAAAABwCAAAAADji6uXAAAABGdBTUEAALGPC\\/xhBQAAACBjSFJNAAB6JgAAgIQAAPoAAACA6AAAdTAAAOpgAAA6mAAAF3CculE8AAAAAmJLR0QA\\/4ePzL8AAAHtSURBVGje7dlPiE5RHMbxD9lYTCIGS7ZSioXNYOVPlrIixIKUhYWUpGRtSylFbAw1KSJZWcxuNJKVP4kiJMqOeC3OnZrG3D\\/ulHOczrN5z33vuefb09O559zfoaioqKioqKjo\\/9e8Lp2GMYpxXMLrlv6LsAn38WPGvfn\\/2mH+wAVtHRbjmZDLB93ym8AybMDz2A7zBzZmuBQ3sAQXcKzDgKexCof9mV8Uh\\/kDG9+lW3Gvaq\\/Ap5bB1uApxnAA31JwmD+wdh4OY1fVPqRbfg+r9pjZ84viMH9gbYbnsVdY2252GGgEy3EF11NymD+wNsMBfuEdvjcMsBCncLR65mBqDvMHtu5Ld+IBvuLijHubsQUbq+tbKTrMH1i7p1mP21g5reNgloen\\/nuF7XiZmsP8gbXzcAJrsU7I5oSwr7k6rc81PKna49rzi+Iwf2CnOk2dVuMFJrFN+941isP8ga3rYZPOCO\\/Sk7rlF8Vh\\/sDeGe7GPuE78HPKDvMH9s5wR\\/V7B49Tdpg\\/sPd6+B5DwvlEyTAqsNc8PCLUZD76u\\/yiOMwf2DvDAe5W10PCGdWbFB3mD5zTvvQn9uC4cMa4P0WH+QN7rYeTwvf\\/VJ3mMs7hbYoO8wf2ynAEZ\\/FIqKF+0VwXj+owf2BRUVFR0dz1G5IZTY3KuGb8AAAAAElFTkSuQmCC'><\\/img>\"},\"nodeType\":\"DOM\",\"type\":\"node\",\"instanceArgs\":{\"namespace\":\"html\",\"tag\":\"div\"},\"children\":[]},\"True: 4\"]},{\"props\":{\"style\":{\"display\":\"flex\",\"flex-direction\":\"column\"}},\"nodeType\":\"DOM\",\"type\":\"node\",\"instanceArgs\":{\"namespace\":\"html\",\"tag\":\"div\"},\"children\":[{\"props\":{\"setInnerHtml\":\"<img src='data:image\\/png;base64,iVBORw0KGgoAAAANSUhEUgAAAHAAAABwCAAAAADji6uXAAAABGdBTUEAALGPC\\/xhBQAAACBjSFJNAAB6JgAAgIQAAPoAAACA6AAAdTAAAOpgAAA6mAAAF3CculE8AAAAAmJLR0QA\\/4ePzL8AAAHnSURBVGje7dhNiI9RFAbwn0mhGCFl4aN8LBRFycKCzX8jpdRgmGSrsLLARlFYWFCWyspHSqKsZCc1u8koC1EsFIqQEIu\\/xX3lL\\/G+M72ZO8d9Nu97T7eenvt0zrn3UFBQUFBQUFBQUDDxmDKWzf04jVXo4Ns4CPv+tcL4hFObbhzCSSyq1v14MxkUxidslIcLMYJ56FaxaziAt7krjE\\/YyMNzOFht7vbE30u5eR5fc1UYn7DWwyUYxUw8xCupF\\/7Aa6zFy1wVxies7YdrMAv3sAnTsRtHsQwLcAubNaur8Y80Pw+nSfXzbLX+gosYwNIq9kmppRNIWOvhruq7BTd74ut6\\/ofxMVeF8Qlr++EOXJV64SBWYxu24wPmSDV0Ix7lqDA+Ya2Hc\\/EEs\\/16L72L\\/biNFbiAfTkqjE\\/Y6G3RwXXJx670ljgs9cZTOILn1b6nuSmMT9h41taR7qPvcMzP\\/jcDV7AVl7A3N4XxCcc0L\\/0TBnEZL6S3yN\\/eGPGPdHJ62Cfl4E4cx4mcFMYnbMVDUv7dl2YAK\\/E4F4XxCVvzEA7hDG5gDz7noDA+YasezpdycbmUl6M5KIxP2KqHsBjPpLnAUA4K4xO27iHcwQas9\\/vsJv6R5jcvHQ8G8ECqqcXDgoKC\\/wDfAfoASMU830GuAAAAAElFTkSuQmCC'><\\/img>\"},\"nodeType\":\"DOM\",\"type\":\"node\",\"instanceArgs\":{\"namespace\":\"html\",\"tag\":\"div\"},\"children\":[]},\"True: 9\"]}]},{\"props\":{\"style\":{\"display\":\"flex\",\"flex-direction\":\"row\"}},\"nodeType\":\"DOM\",\"type\":\"node\",\"instanceArgs\":{\"namespace\":\"html\",\"tag\":\"div\"},\"children\":[{\"props\":{\"style\":{\"display\":\"flex\",\"flex-direction\":\"column\"}},\"nodeType\":\"DOM\",\"type\":\"node\",\"instanceArgs\":{\"namespace\":\"html\",\"tag\":\"div\"},\"children\":[{\"props\":{\"setInnerHtml\":\"<img src='data:image\\/png;base64,iVBORw0KGgoAAAANSUhEUgAAAHAAAABwCAAAAADji6uXAAAABGdBTUEAALGPC\\/xhBQAAACBjSFJNAAB6JgAAgIQAAPoAAACA6AAAdTAAAOpgAAA6mAAAF3CculE8AAAAAmJLR0QA\\/4ePzL8AAAH4SURBVGje7dnPi09RGAbwzxg\\/GxvR2PhVZGNBpDSlpiyVshHFko2FHyt2FEn+ASUjiT9AKU2UopDFN0Vpshhig43FJDIzFueWS3dmvl+GOd+382xO95zu+9znPr3nvOccCgoKCgoKCnpmI8gyrKk9v8EJvMAIntfG5v1vhfEJ\\/8rD3diDQWyo9Y9gLRZVz71zqTA+YccersdRHMHiNgMUD\\/8p5nf6wiocm2b8FV7mpDA+4YwersBxPMJdfMNnjKEPw9K69xQtfKnGslEYn3DaqbAPD7EZe3G76l+HUamOeYeJnBXGJ5wyDxfiluTfBdyrjY1W7dtuUBifsDEPl+I0TuETNkrzZ1cqjE\\/Y6OFBXJfybKc0X3atwviEjXPpQNW2zK5\\/c6IwPmFjHn7AcnzFRamWaXWrwviEjR5O+rXWnMBlPJFq0dd+7gE34bH28zX+L83Dw0s42UGQj3iA\\/TkqjE\\/Y6GEvtuKmtGCubuPLJnEG53JTGJ+wsaYZxzNpTwG7sEDyaPsUgXqwLUeF8QnbOi+9X7VbJA+\\/4xquSHdMB3JWGJ+wozPvYZyvXjos3TcN1sbf56gwPmFHd09LMIR9v\\/WP4450NjA2Q4z4vzRvD2ElrkprX790dnpDWiuzVBif8I\\/v8Q9hB85KZwLZKoxPWFBQUFBQUMAPcuVJ1mUaeWkAAAAASUVORK5CYII='><\\/img>\"},\"nodeType\":\"DOM\",\"type\":\"node\",\"instanceArgs\":{\"namespace\":\"html\",\"tag\":\"div\"},\"children\":[]},\"True: 5\"]},{\"props\":{\"style\":{\"display\":\"flex\",\"flex-direction\":\"column\"}},\"nodeType\":\"DOM\",\"type\":\"node\",\"instanceArgs\":{\"namespace\":\"html\",\"tag\":\"div\"},\"children\":[{\"props\":{\"setInnerHtml\":\"<img src='data:image\\/png;base64,iVBORw0KGgoAAAANSUhEUgAAAHAAAABwCAAAAADji6uXAAAABGdBTUEAALGPC\\/xhBQAAACBjSFJNAAB6JgAAgIQAAPoAAACA6AAAdTAAAOpgAAA6mAAAF3CculE8AAAAAmJLR0QA\\/4ePzL8AAAIoSURBVGje7dk5aFVBFAbgL3mKCom4geLaWGjhUkgUbIJgoaCgCFpYpjAICgGDWAlJF0hrtBBRsLUTQdTCpRAsVATFQlA0xCgE3JdEixl54cEj9yXguxnmhwtz5s7h5+fnnJm5l4yMjIyMjIyMjIyMjJmjZTpJ67EMB9CJCQzhAV5Okdv6vxWmT9iQh5twHAcFD2vxGy9wDyfxswwK0yecU2TRZsG7w1gY597iLl6hF4\\/QgSXYi8dCbTZdYfqEU9bheaFn\\/qu7W3iKM\\/ge5+6gGxexFSNYixUYbbbC9Anr1uF8ob66BKNHcQ4D+FKzdikqOIsbWFcmhekT1vWwE6cE\\/94Je+DDmjUVrMFlXMfiON+CKxgrg8L0Cet6WMF4HP\\/CdhzChjj3DRvj8wHLJ+WOoD\\/mNV1h+oR198MFuIrdcdyKP\\/HduOBxLSZwDScwXBaF6RNOeaZZhNPYiY94jXnYIpxDJ2NIOOuMlUlh+oTTuuMT9sCjcfwJPbik2n9LozB9wkL3w1r04sikuFvou6VUmD5hw3XYhUG0xfgZtuFHWRWmT9iQhx24ifYYf8Ye3C+zwvQJG+ql+1T9+4r9GvOvKQrTJyxch+3CPXBujC\\/g2GxQmD5hIQ\\/b8BwrY\\/wEO1S\\/l5ZaYfqEhXrpLqxSveP3mJ5\\/TVGYPmEhD\\/tU\\/RvA7dmkMH3CQr30DVbjvfBvabhIUlkUpk9YqA4H49NnZv41RWH6hBmzH38BKKpUS7N47u4AAAAASUVORK5CYII='><\\/img>\"},\"nodeType\":\"DOM\",\"type\":\"node\",\"instanceArgs\":{\"namespace\":\"html\",\"tag\":\"div\"},\"children\":[]},\"True: 9\"]},{\"props\":{\"style\":{\"display\":\"flex\",\"flex-direction\":\"column\"}},\"nodeType\":\"DOM\",\"type\":\"node\",\"instanceArgs\":{\"namespace\":\"html\",\"tag\":\"div\"},\"children\":[{\"props\":{\"setInnerHtml\":\"<img src='data:image\\/png;base64,iVBORw0KGgoAAAANSUhEUgAAAHAAAABwCAAAAADji6uXAAAABGdBTUEAALGPC\\/xhBQAAACBjSFJNAAB6JgAAgIQAAPoAAACA6AAAdTAAAOpgAAA6mAAAF3CculE8AAAAAmJLR0QA\\/4ePzL8AAAHuSURBVGje7dlNiE5RHMfxD4ONl5Td7LCQSDGKjSaWSM1qLGSB8rKUlSRlw0ZZUcrY2GGhFBsveUsWisKCsqAUec9sNCzOLdP0PPfepzTO8+\\/8Nvc+zzmd3\\/32639O938pKioqKioqmtHL5A14gGXYii24Vo09xN0Wa8ycbsL4hq0yXICL2IRxzMG8KXPG8RP7cSknwviGrTI8g72Tfr\\/AB3yb9NSbq\\/vvUr0+zYUwvmFjhitwG4vwFjvxCl\\/wY9JTH8URDOAK9uBzDoTxDWc1TZgv5fcbJ6U8p2oCx6Q99hBGcN7fs\\/K\\/EsY3bKzDYdzCBexqseBrLMYYdudAGN+wsQ6PV9dHLRe8gX1YnwthfMPaDJdgEF\\/xrOWCN6UMsyGMb1ib4Q4px8vSe2FfEsY3rM1wu1SDp\\/uZML5h43n4Evf6mTC+YdcM52J2BML4hl0zHMVSfOxxwW3V9VcuhPENG\\/fSXjQk9cLhcC6E8Q3\\/WYZDOIiFuC+9J2ZBGN+wa4ZvpP51Gw1IPbZRvKvuy146barttT2X+qTDOp+Lq3AAa7C2+m8j7uREGN+wcS9djut432FsndQPJ2V8FY9zI4xvWFuHI9L3pNU1cybwCadwIkfC+IaN3y0GpTpc2WHsHJ7gbM6E8Q2LioqKioqK+AOpS0hF1w\\/OiAAAAABJRU5ErkJggg=='><\\/img>\"},\"nodeType\":\"DOM\",\"type\":\"node\",\"instanceArgs\":{\"namespace\":\"html\",\"tag\":\"div\"},\"children\":[]},\"True: 0\"]},{\"props\":{\"style\":{\"display\":\"flex\",\"flex-direction\":\"column\"}},\"nodeType\":\"DOM\",\"type\":\"node\",\"instanceArgs\":{\"namespace\":\"html\",\"tag\":\"div\"},\"children\":[{\"props\":{\"setInnerHtml\":\"<img src='data:image\\/png;base64,iVBORw0KGgoAAAANSUhEUgAAAHAAAABwCAAAAADji6uXAAAABGdBTUEAALGPC\\/xhBQAAACBjSFJNAAB6JgAAgIQAAPoAAACA6AAAdTAAAOpgAAA6mAAAF3CculE8AAAAAmJLR0QA\\/4ePzL8AAAItSURBVGje7dq7a1RBGAXwnyEQFAKx0izBKlhZmDQisRJBiCns\\/AN8BAsVK0GjhdpYqJ3iCwTBMkJEQZBYiTYKFuJjK\\/FVSBoFAwZZi5mFZZPdvRjI3h3mwGXundfhzGEe33DJyMjIyFgt1hWtOIDnGMND7P9Pwr61Vpg+YX+RSgO4iu2o4VUvKUyfsJCHx3EE8ziHl72kMH3CQh5ujulTq\\/OvKwrTJyzk4SCWBA97TmH6hB3PNBV8xgvs6kWF6RN2nIczBTvaiZH4\\/gYfy6IwfcKOHu6L6e0W5ddjnY1YH\\/N+CufYC2VQmD5h27V0A6r4iy0N+f0YxwPhvNOHH0L8OB7rfsUEPnVbYfqEbefhIWzCzYa8ihBn1NfYb7iHa\\/gS8+YwiWHZwzVAWw\\/HYlptyJvBtBDrz+Mk3ja1q7bpM\\/0hLZeHlabvrTgQ32\\/hBP60aPs6Pl1XmD5hWw8HhQ2zvmkewxDu42iHdktW9jf9IS2Xh7WGh7C\\/1WLaChUcxGxZFKZPWOiepo5p4aw5gdO4gYWmOrNYxOWyKEyfsKWHFcvn24IQO8zhPPZiCr9iOiOcgy5qfa+a\\/pCWKz58gj14LJxlfjeUTeGdsOedFdbPRVyycmzfNYXpE7b1cASPsE24L72C77FsEruxI3byAWeEuL9UCtMn7HjnPYxnGG1qVGv4votTlu+NpVCYPmGhfzGGhLV0FIeFu9O6h3fwvswK0yfMyMjIyMjIyEgB\\/wCNKVZFvCpwHQAAAABJRU5ErkJggg=='><\\/img>\"},\"nodeType\":\"DOM\",\"type\":\"node\",\"instanceArgs\":{\"namespace\":\"html\",\"tag\":\"div\"},\"children\":[]},\"True: 6\"]},{\"props\":{\"style\":{\"display\":\"flex\",\"flex-direction\":\"column\"}},\"nodeType\":\"DOM\",\"type\":\"node\",\"instanceArgs\":{\"namespace\":\"html\",\"tag\":\"div\"},\"children\":[{\"props\":{\"setInnerHtml\":\"<img src='data:image\\/png;base64,iVBORw0KGgoAAAANSUhEUgAAAHAAAABwCAAAAADji6uXAAAABGdBTUEAALGPC\\/xhBQAAACBjSFJNAAB6JgAAgIQAAPoAAACA6AAAdTAAAOpgAAA6mAAAF3CculE8AAAAAmJLR0QA\\/4ePzL8AAAHbSURBVGje7dmti1VBHMbxj4sbDIKgCyqIgnE1uBgMvqw2LQazK5hETJpEtrjRIoLJIigGsSgqi3CDTRDUshv0D7jBYvANwZcws9zrRTlnz4LO\\/TFPOTNnZvjy8DDM78yhqqqqqqqqqqqqqqpq7Vq32gX7sIDjmMAPPMAV9HEUPXz5y\\/qJf+0wPrB1hpM4gtvYOrT4Z27fxQ7M4kzuF+EwPnB924kzWMztPi7gc+7vzO0b+JbHi3EYH9gqw2k8yu0eLuPV0Ph2PMQmXMtzinEYH9gqw3lswRNcwruR8T3SOclgrxbjMD6w8Ty8hbP4hANYHhmfxDMcxnMcK81hfGDjPtwv1S0f\\/Tm\\/BRzKc66W6DA+sHVNM6pdOI+Lud\\/HmxIdxgc2ZriMvdiM10Pvp7DN4Nuihw8lOowPbDwPN+A+ThjktaKTmMMpHMSLEh3GB7b+xp+VzkbS3nyKmziHt1JN875Eh\\/GBq75rG9Z3aW\\/ek\\/ZjkQ7jA9dU05Dq1eslO4wP7JzhfH4+9vudTXEO4wM7ZTgt1TE038v8d4fxgZ0ynMFG6Sz8WrrD+MBOGU5J+S1J\\/w6Ldhgf2CnD0\\/l5Zxwcxgd2ynDl7mYsHMYHdspwEbvxchwcxgdWjb9+ASOVRSFBgZyBAAAAAElFTkSuQmCC'><\\/img>\"},\"nodeType\":\"DOM\",\"type\":\"node\",\"instanceArgs\":{\"namespace\":\"html\",\"tag\":\"div\"},\"children\":[]},\"True: 9\"]},{\"props\":{\"style\":{\"display\":\"flex\",\"flex-direction\":\"column\"}},\"nodeType\":\"DOM\",\"type\":\"node\",\"instanceArgs\":{\"namespace\":\"html\",\"tag\":\"div\"},\"children\":[{\"props\":{\"setInnerHtml\":\"<img src='data:image\\/png;base64,iVBORw0KGgoAAAANSUhEUgAAAHAAAABwCAAAAADji6uXAAAABGdBTUEAALGPC\\/xhBQAAACBjSFJNAAB6JgAAgIQAAPoAAACA6AAAdTAAAOpgAAA6mAAAF3CculE8AAAAAmJLR0QA\\/4ePzL8AAAIJSURBVGje7dpPiE5RGAbwn8lsbDTGwizUt2IxiPFnSdkgpWzEgoWF1ewkUqLZyGLCRmIjUzMLbERZSCEbC2WBlTQbomSjCH1jce40t4l7z4em43SezT333HPO03Of3vd033MpKCgoKCgoKPj\\/sajXCQPYgJ04hi5uYhrjeN8yv2+hFeZPGO1hP45iFCtqk2dqY67jcGoK8yeM9nAUF+b1PcLWeX2LU1OYP2GUh8N4gMFa3wlcxJiQU2dRPEzPw2GcxW4hb05jD14Je2G\\/sD\\/exnK8xLqUFOZP2BY2RgT\\/+vANl\\/Ci9vw7nuKasF+uxRUcSUVh\\/oStcTiJfdXA+9jRMPY51lTXkVQU5k\\/YGIeD2FK7n2hZbALnUlOYP2GjhxvRqdqPcTdy0QEM4V0KCvMnbPRwU619Gp8iF10p5NTi4YKg0cMl5jbMhz0o6KakMH\\/C1jiciVxoFt2WOfm\\/0rQ8\\/FN8xsdUFOZP+E89PFRdz+BZKgrzJ2z8PlyPe0L9Jaae\\/bZS0MHXVBTmT9j6jX9QqMF8Eerbv4uvq4LHN7A\\/JYX5E7bm0ieYwgFs82sPt2MvPgg18KQU5k8YdW7REc4tlgn10pNV\\/ypsxvnq2TiOp6Ywf8Lo88MhXBZi8U3VHjN3HnVHqHm\\/Tk1h\\/oQ9\\/YuxFKtxCruEuINbQo79kaLC\\/AkLCgoKCv4ePwGmEEqxUZD0FAAAAABJRU5ErkJggg=='><\\/img>\"},\"nodeType\":\"DOM\",\"type\":\"node\",\"instanceArgs\":{\"namespace\":\"html\",\"tag\":\"div\"},\"children\":[]},\"True: 0\"]},{\"props\":{\"style\":{\"display\":\"flex\",\"flex-direction\":\"column\"}},\"nodeType\":\"DOM\",\"type\":\"node\",\"instanceArgs\":{\"namespace\":\"html\",\"tag\":\"div\"},\"children\":[{\"props\":{\"setInnerHtml\":\"<img src='data:image\\/png;base64,iVBORw0KGgoAAAANSUhEUgAAAHAAAABwCAAAAADji6uXAAAABGdBTUEAALGPC\\/xhBQAAACBjSFJNAAB6JgAAgIQAAPoAAACA6AAAdTAAAOpgAAA6mAAAF3CculE8AAAAAmJLR0QA\\/4ePzL8AAADCSURBVGje7ZldCoMwEAanpfdqPJntyerN2hdB7EvZDTRhmQFRH9bhM2j+QERERC6ZogewAhuwBGuv\\/05YX3jLFN33c9uPbeaE9YWpNmxf19vMCesLU\\/\\/Sd8cD6r9ShQrDdI1pAJ77\\/bQJ6wtT\\/eGaKRqVUKFChQoVKvyNcwuFChUqVKgw2R++ONZMneMrVNhNeJ2mcd63mD5hfWG4DXvW2YYkrC8MtWHj\\/A0uxPYOhySsL0yteUfHMUMT1heKiIgIfAAlcA9p9hj9FQAAAABJRU5ErkJggg=='><\\/img>\"},\"nodeType\":\"DOM\",\"type\":\"node\",\"instanceArgs\":{\"namespace\":\"html\",\"tag\":\"div\"},\"children\":[]},\"True: 1\"]},{\"props\":{\"style\":{\"display\":\"flex\",\"flex-direction\":\"column\"}},\"nodeType\":\"DOM\",\"type\":\"node\",\"instanceArgs\":{\"namespace\":\"html\",\"tag\":\"div\"},\"children\":[{\"props\":{\"setInnerHtml\":\"<img src='data:image\\/png;base64,iVBORw0KGgoAAAANSUhEUgAAAHAAAABwCAAAAADji6uXAAAABGdBTUEAALGPC\\/xhBQAAACBjSFJNAAB6JgAAgIQAAPoAAACA6AAAdTAAAOpgAAA6mAAAF3CculE8AAAAAmJLR0QA\\/4ePzL8AAAHSSURBVGje7dmtb1RBFAXw35I6JF3blW1t+XALkuBgkzqQVOD4GyBgaFINluBoNSgaUCRgtxrLw4IDxH1N29Dt201Kd\\/Zmjpls5u07OXNy5t25Q0VFRUVFRUVv1j9cxT2MsNq+4A++Yozn7TgJly5aYX7CTg+3sIZh+3tDeHbo3Svs4X2pCvMTdnr4W3j1S+TrIw7QYHcRFOYnXOp6YBd3hX\\/XF1FhfsLOHPbxGZdxDd8WTWF+ws4cfhffvCdYVj0skLDTQyKsPaw7GdwxfpauMD\\/h1HvpipP1aE\\/Uo2\\/MVtvkX9KyPOxjX5wDD89\\/n9q5h2JvHQhPb5gul\\/mXtCwPh\\/ggcrZ5yvwy7ou6dSg83FTP+BeMmfs0k7AlsjnAHXwpRWF+wnPzkMjlPq7gkdO\\/k\\/mXdLE9hJvYFnl8hp15K8xPeO4ecpTHVf8eXvIvaZnnw1nRiPp1rQSF+Qn\\/i4frjnqsc1eYn7DTw8ei3\\/Z6yhcO8FT0V2+VoDA\\/4ZkejvACL032sC\\/uhLXjhvD8gbijmrvC\\/IRn1jQjvBV3iD\\/EWaEnvnON2C+P997GeCfq0aYUhfkJO+vS28IrImd94VVzbNxr5w\\/UXtscCCsqKioqKir4C+MSTd6JU7siAAAAAElFTkSuQmCC'><\\/img>\"},\"nodeType\":\"DOM\",\"type\":\"node\",\"instanceArgs\":{\"namespace\":\"html\",\"tag\":\"div\"},\"children\":[]},\"True: 5\"]}]},{\"props\":{\"style\":{\"display\":\"flex\",\"flex-direction\":\"row\"}},\"nodeType\":\"DOM\",\"type\":\"node\",\"instanceArgs\":{\"namespace\":\"html\",\"tag\":\"div\"},\"children\":[{\"props\":{\"style\":{\"display\":\"flex\",\"flex-direction\":\"column\"}},\"nodeType\":\"DOM\",\"type\":\"node\",\"instanceArgs\":{\"namespace\":\"html\",\"tag\":\"div\"},\"children\":[{\"props\":{\"setInnerHtml\":\"<img src='data:image\\/png;base64,iVBORw0KGgoAAAANSUhEUgAAAHAAAABwCAAAAADji6uXAAAABGdBTUEAALGPC\\/xhBQAAACBjSFJNAAB6JgAAgIQAAPoAAACA6AAAdTAAAOpgAAA6mAAAF3CculE8AAAAAmJLR0QA\\/4ePzL8AAAIGSURBVGje7dnPi05RGAfwDzOjiCQUGsLIwmISslOyYMXCO4qFlYV\\/wM4f4MfWXlMWiqgpKQsbUWNjorCwwCRL+VWTeUcsnjs14d73nXcx73E638197rnnnu\\/99u055zznUlBQUFBQUFBQUNB\\/LFtM58M4iRa24Blu4\\/Iixli+1ArzJ+zKw024i4PVCx8wg\\/VYh7O4marC\\/Ak7ergBD7AX0ziPp\\/iCrZjAO4zhFKbwBr9SUZg\\/YUcPr+ACPmIEs388H8EP4fFE1bZa5GkSCvMnbPTwNG7gM3bge02\\/PXiMtcLHlpKHS4jBpoej1Re9VO8fsT7O45t6\\/\\/qiMH\\/CRg9HquvVDoMcw8oqvpWawvwJa+fSVWIOHcA+PK\\/pt0Lk6U6Rq6N4n5LC\\/Akb83Cgw8tDOCL8g+ua\\/euLwvwJaz2cEzXDdhz1dx5uFnXhpQVt4ykqzJ+wcV86jFeiVniIO2IPugaHRO3fFvvRaTHnfkpNYf6EHevDE7iIA9V9G2\\/xRJzN3BNr4jjOpagwf8KuztqGsL+KZ8U5KezG6yo+jvspKsyfcLCbTm1M\\/qN9eEE82c1A\\/VCYP2FXHtah9T8ozJ+wZw+34UwVP8LXVBXmT9izh7vEfpQ4I51LVWH+hD17uLG6zuBaygrzJ+zZw\\/m18AV+pqwwf8KePRwT\\/yemUleYP2FBQUH\\/8RtFRUunTf0LBAAAAABJRU5ErkJggg=='><\\/img>\"},\"nodeType\":\"DOM\",\"type\":\"node\",\"instanceArgs\":{\"namespace\":\"html\",\"tag\":\"div\"},\"children\":[]},\"True: 9\"]},{\"props\":{\"style\":{\"display\":\"flex\",\"flex-direction\":\"column\"}},\"nodeType\":\"DOM\",\"type\":\"node\",\"instanceArgs\":{\"namespace\":\"html\",\"tag\":\"div\"},\"children\":[{\"props\":{\"setInnerHtml\":\"<img src='data:image\\/png;base64,iVBORw0KGgoAAAANSUhEUgAAAHAAAABwCAAAAADji6uXAAAABGdBTUEAALGPC\\/xhBQAAACBjSFJNAAB6JgAAgIQAAPoAAACA6AAAdTAAAOpgAAA6mAAAF3CculE8AAAAAmJLR0QA\\/4ePzL8AAAHWSURBVGje7dnPi41RHMfx10ymSESxsphoKAsLUWo2SmwUNpJJMWVjbWWDjRU2FpSs7ZTyL7CxGCWRHzXMSFkoGflRI1mcZ7qX8eM+97l5znw7n81zOs89592nz\\/2cp3sfioqKioqKioqKioqKmmvo14n9uI2RrrkvuFONZ3AFu\\/AO92oCh\\/+3w\\/jARRmewrV\\/LJqXMv6O+7iFJ3iFZ7k5jA9clOEIjmMMs9XcChzs+sxWrP\\/NZl9xCedzchgfONTPom3YV40nsKPr3hxG8SEXh\\/GBfWXYreXYgDM4Wc1dwLlcHMYHNs5wQWN4jo\\/YjulcHMYHLhvURoeq6yocxsVcHMYHDqSHm\\/AQK6Xn4Ua8z8VhfOBAenhAyg9u+HN+rTiMD2zcw814IGX4GTvxNCeH8YGNerhO+j240MGz\\/p5fKw7jAxv18DJOV+NpbJH+u8nKYXxg3xkexc1qg08Yx6McHcYH9nWW7sZ1nS\\/ApN7ya8VhfGDtHq7Ba51n4FXpPJ3P1WF8YK0eDuOETn5T6uXXisP4wFo9HPfz+8Ij0nunrB3GB\\/ac4Wq8xNpq0V3swbfcHcYH9nyW7pXyI+U3oX5+rTiMD+w5w8d4ixc4hjdLxWF8YNHS1w8KeT20pDD28wAAAABJRU5ErkJggg=='><\\/img>\"},\"nodeType\":\"DOM\",\"type\":\"node\",\"instanceArgs\":{\"namespace\":\"html\",\"tag\":\"div\"},\"children\":[]},\"True: 7\"]},{\"props\":{\"style\":{\"display\":\"flex\",\"flex-direction\":\"column\"}},\"nodeType\":\"DOM\",\"type\":\"node\",\"instanceArgs\":{\"namespace\":\"html\",\"tag\":\"div\"},\"children\":[{\"props\":{\"setInnerHtml\":\"<img src='data:image\\/png;base64,iVBORw0KGgoAAAANSUhEUgAAAHAAAABwCAAAAADji6uXAAAABGdBTUEAALGPC\\/xhBQAAACBjSFJNAAB6JgAAgIQAAPoAAACA6AAAdTAAAOpgAAA6mAAAF3CculE8AAAAAmJLR0QA\\/4ePzL8AAAJMSURBVGje7dg\\/bE1RHAfwD+pPpJUQSUti0TDRiUgajdTkTxhFu\\/iTdmDpJAwWEqEmAxGEwdCGQRgklAFDDVQQjTCJCQmJSIigNZz70pfnPq9NxLs9Od\\/lvt+559zv+57v\\/Z37O4eEhISEhISEGdVuNGIZ9mXxJTz9B4Qz\\/7fC+AlzPWzEARwua\\/uFK+jDp+mkMH7CXA+P4VCVAe+wB0PTRWH8hA15jW+y6zjOYBSzcRQtuIF+nMTXoiuMnzA3D29iE66iq6y9A9ewKIsHsBc\\/iqwwfsJcD8cxhjYhB8vRjuNYn8WD2I2fRVUYP2Guh3ewEa0m1tVyrBNydWEWdwk5W0iF8RPmfg9fCh6W0INunCtrG8T+7PeKIiuMnzDXw8fZtQ3zcFqoaTZUeUgPXgn5+7loCuMnzF1LF2A7rqMZI2iaxMO+oVeoW6vVq\\/FPaTE8rMRW7BDq0S2T6P9CWHtHc+7FP6XF9LCEWSbysVmoXz9k8RFhnzE\\/i+\\/ioD\\/P5+Kf0mJ6uBgrMVyjXzvOYlUWD2FzvRXGT1jTw204haXYKXzr\\/oYmPMFyfMnG3KqnwvgJa3rYjYuYI6ydHXhYY8xaIWdn4gE666kwfsKGWh0GhBzsFwyfzD9sM\\/FyPK+3wvgJa3oI54Xz005cxn2cwOuKfn3CXrFV9QSPf0qLt5aW0IhnWIK5wnnqWEWfyhfikbAv+VhPhfETTmlvAbuEOmW14GcehnEbF\\/C+3grjJ5yyhyW0CDVoL+5hjbC2juAtvhdFYfyECQkJCQkJCfwGdW9W0wLt\\/nsAAAAASUVORK5CYII='><\\/img>\"},\"nodeType\":\"DOM\",\"type\":\"node\",\"instanceArgs\":{\"namespace\":\"html\",\"tag\":\"div\"},\"children\":[]},\"True: 3\"]},{\"props\":{\"style\":{\"display\":\"flex\",\"flex-direction\":\"column\"}},\"nodeType\":\"DOM\",\"type\":\"node\",\"instanceArgs\":{\"namespace\":\"html\",\"tag\":\"div\"},\"children\":[{\"props\":{\"setInnerHtml\":\"<img src='data:image\\/png;base64,iVBORw0KGgoAAAANSUhEUgAAAHAAAABwCAAAAADji6uXAAAABGdBTUEAALGPC\\/xhBQAAACBjSFJNAAB6JgAAgIQAAPoAAACA6AAAdTAAAOpgAAA6mAAAF3CculE8AAAAAmJLR0QA\\/4ePzL8AAAGeSURBVGje7dg\\/axRRFIbxn6IkKiEJiiixFCV2KQRRsUiaFOkt7RQC+Rqp8hFsDATEVsSAhaKdhaCCtirYWEQRg38Iq8WMkITdmYVZ5Hi4b3PZvYd99uFll7mXkpKSkpKSkpL\\/PwdG9UF3cR8bLXMH\\/7VhfuChUX3rebyJaJgfOJIO53AiqmF+4FAdnsMaVvC+Ye51RMP8wKE6vIQl3NG\\/w7P1+jGiYX7gUB3O1+ugjm7iC15ENMwPbO1wAgu4h+cDZg6jh52IhvmBrR1ewIyqv16f\\/SnM4lFUw\\/zA1g6v1uuTAfvXcRxPoxrmBzZ2OIZlbOE0buMUjuJaPfP3kuBIVMP8wMZ7mkl83vW6h7d4t+u9BYzjJ25hPZphfmBjh+N4iZNYVZ0tPu2b+YAz+KY6H16JZpgf2Phf+gMX66GtPvszmFb1fAPfIxrmB7Y+03xt2FvEMTzAq6iG+YGd7kun6\\/VxZMP8wJHcef+KbFiABRgf2Ol3eFn1YHsez6Ia5gd26nACv+09Q4YzzA\\/s1OEmtvEwsmF+YElJSUlJ9\\/wBQP0zQPmrB6QAAAAASUVORK5CYII='><\\/img>\"},\"nodeType\":\"DOM\",\"type\":\"node\",\"instanceArgs\":{\"namespace\":\"html\",\"tag\":\"div\"},\"children\":[]},\"True: 4\"]},{\"props\":{\"style\":{\"display\":\"flex\",\"flex-direction\":\"column\"}},\"nodeType\":\"DOM\",\"type\":\"node\",\"instanceArgs\":{\"namespace\":\"html\",\"tag\":\"div\"},\"children\":[{\"props\":{\"setInnerHtml\":\"<img src='data:image\\/png;base64,iVBORw0KGgoAAAANSUhEUgAAAHAAAABwCAAAAADji6uXAAAABGdBTUEAALGPC\\/xhBQAAACBjSFJNAAB6JgAAgIQAAPoAAACA6AAAdTAAAOpgAAA6mAAAF3CculE8AAAAAmJLR0QA\\/4ePzL8AAAH4SURBVGje7dnNq01RHMbxzz3IwEtSoqRbCikmQqg7IyUl\\/wATLwNvY6VEGZhgwEjexoZiYiIp3Ykk5W0gFAYi3BKum8FvD06n0z37HGWvs1rPaO211+7Z3572b+3f3hQVFRUVFRUVFRU1r5F\\/uXgUR7ABh\\/C0xjWt\\/02Yv+FAGa7EYezB\\/GruPXZiGd7gSSqE+Rv2lWELq3EXS7qc\\/455eIgxTKVAmL9h7QwXibp5om3uq8is866\\/YDEmUyDM33Bm3YVnsK8a\\/8YxvMZJbGpb9wm7dM+vEcL8DXtm2MJNkcuU2Of2YxsuYFXH+keiliZDmL9hzwyPYnc1foGzeIDZXda+wsHUCPM3nHY\\/nIW3Ym\\/r1GdcxFZsqeaOi4yTIszfcNoMZ+A+NlfHP\\/ATl3BO9BHj4pkcx3Z8S40wf8Oe76ULRN83icd4Xs3PxQ1RZyewHi9TJMzfcODvNHtxrRpfEe85SRLmbzhQhgtxD2vwDivwK1XC\\/A1r94ftuiXyg9Pq59cIYf6GfWe4HGur8W1cT50wf8O+aulS0RuOiho6JnqPpAnzN+zrOVwn8hvBVf3n1whh\\/oa1M9woegmiR7wzLIT5G9bKcA5OiV6R+C8xMSyE+RvWyvCA+AYDH7EDz4aFMH\\/DWhn+Ef8Kz+MyPgwTYf6GRUVFzesv8Z9JRjuIuiYAAAAASUVORK5CYII='><\\/img>\"},\"nodeType\":\"DOM\",\"type\":\"node\",\"instanceArgs\":{\"namespace\":\"html\",\"tag\":\"div\"},\"children\":[]},\"True: 9\"]},{\"props\":{\"style\":{\"display\":\"flex\",\"flex-direction\":\"column\"}},\"nodeType\":\"DOM\",\"type\":\"node\",\"instanceArgs\":{\"namespace\":\"html\",\"tag\":\"div\"},\"children\":[{\"props\":{\"setInnerHtml\":\"<img src='data:image\\/png;base64,iVBORw0KGgoAAAANSUhEUgAAAHAAAABwCAAAAADji6uXAAAABGdBTUEAALGPC\\/xhBQAAACBjSFJNAAB6JgAAgIQAAPoAAACA6AAAdTAAAOpgAAA6mAAAF3CculE8AAAAAmJLR0QA\\/4ePzL8AAAHbSURBVGje7do\\/qE9hHMfx172RweJP+bOwMFwZ3FsGCyXLXZSyKIyMNmWxWBSLSCZiEwN1i8JyU0wGiyy37sLgmn5FhJ\\/he25Xt9Rz3HKf37fns5xTz3l6n8\\/59H16\\/hyampqamlaqsb4dJnEJ0\\/iKg3jTo\\/\\/4\\/3aYH9g7w6c40t0v4DlO1uwwP3BNn4cPY6q7v4rb2FS7w\\/zA4jrcjPfYgBkcx49RcJgfWFyHB0R+cNm\\/5bcqDvMDizM8JIr2EV6PksP8wKIMt4h56BC3Rs1hfmBRhqcxgQE+j5rD\\/MCiDCe665x+a8EqHOYHFmU43V1XOo6uisP8wKIMx7o3O4pd2CNyHccvzIu9m3v4WZvD\\/MCi9eEHbBVzmj\\/1ztI4CxdwpTaH+YG9Mhzglai3BcyK\\/dIzONY9ewIPanKYH1g0lt7FedzH2WVtz8R6cS92Y2dtDvMDizJcXE\\/s\\/0v7AC9FhtU5zA8syvBL92ZrsQ7flrVPivlOycCc\\/5PWmeFNUYOncB3nxNkh7MANsSc+xKfaHOYHFp9bbMRbbBdnTg+xXmS6DR9xBxdrc5gf2OsMeAqPRY6LnYd4IdYVJXs4+T9p3RnCPkv\\/YsziCa7he60O8wObmpqampqamjLoN9EBQkkJB\\/XYAAAAAElFTkSuQmCC'><\\/img>\"},\"nodeType\":\"DOM\",\"type\":\"node\",\"instanceArgs\":{\"namespace\":\"html\",\"tag\":\"div\"},\"children\":[]},\"True: 6\"]},{\"props\":{\"style\":{\"display\":\"flex\",\"flex-direction\":\"column\"}},\"nodeType\":\"DOM\",\"type\":\"node\",\"instanceArgs\":{\"namespace\":\"html\",\"tag\":\"div\"},\"children\":[{\"props\":{\"setInnerHtml\":\"<img src='data:image\\/png;base64,iVBORw0KGgoAAAANSUhEUgAAAHAAAABwCAAAAADji6uXAAAABGdBTUEAALGPC\\/xhBQAAACBjSFJNAAB6JgAAgIQAAPoAAACA6AAAdTAAAOpgAAA6mAAAF3CculE8AAAAAmJLR0QA\\/4ePzL8AAAGZSURBVGje7ZnhTcMwEIU\\/EGMQ1kCBNaCskTZrQJmjLXOQskbDIPw4WzGhiaMENc7pnlQ5cq99evd0yp0NBoPBYJiKqyFBG+ANeACqiYTXl1aon\\/BmSFCxZIX6CaMeZu5TMr0GZ1GonzDq4bNbv5eqUD9h1MMnt\\/5HDc6iUD9hb0+TASegBu6WqlA\\/YW8dFm499MTkiNcA98AH\\/TWrP6Vpeei9+er4Pgd2QRzIHNI3g+hPaVoexrCm8c\\/3rTuaWTIJhfoJR3uY0\\/SsL8DePR+D\\/SQU6icc7eHaraF\\/IVYd+\\/pTmpaHtVtvW\\/sZUmsV531KSqF+wkGzRTtwj3hYAtvWbz4Rz7tmEf0pTa8OK+Tdt+GvX+2zm5WLLVNSqJ8wem+xQnpNkDnxHak1kFqrg7hX9\\/wY7M+uUD\\/h4Lungt9zIEg\\/A3Ie53vR2P2U\\/pSm6SGIfwXi5zlUiKd15H\\/0pzRdD0OcaGpyi5zjDO1P9ac0rZ6mCweaevT3i77\\/SU6hfsJRHvq+078Djwy\\/X9Sf0osTGgwGg8FgMGjAD\\/QCN9U4nfzGAAAAAElFTkSuQmCC'><\\/img>\"},\"nodeType\":\"DOM\",\"type\":\"node\",\"instanceArgs\":{\"namespace\":\"html\",\"tag\":\"div\"},\"children\":[]},\"True: 6\"]},{\"props\":{\"style\":{\"display\":\"flex\",\"flex-direction\":\"column\"}},\"nodeType\":\"DOM\",\"type\":\"node\",\"instanceArgs\":{\"namespace\":\"html\",\"tag\":\"div\"},\"children\":[{\"props\":{\"setInnerHtml\":\"<img src='data:image\\/png;base64,iVBORw0KGgoAAAANSUhEUgAAAHAAAABwCAAAAADji6uXAAAABGdBTUEAALGPC\\/xhBQAAACBjSFJNAAB6JgAAgIQAAPoAAACA6AAAdTAAAOpgAAA6mAAAF3CculE8AAAAAmJLR0QA\\/4ePzL8AAAHxSURBVGje7dlNqE1RFAfwn4+erhADgzfwUXoGQjIyM\\/LKVynJXAbCCEN5AwZ6iWL85spEScnYKzz1UgY+npJSZCQDn2GwjjrFfffce+Puu9v\\/yT27s+\\/591\\/\\/1jp7rUNBQUFBQUFBwfBjQb8P2IWDOIRVtYf+xA\\/swKPa\\/oX\\/W2H+hIt7+dNh7MdurBSezWEKD\\/AEp3FU+Fs8\\/KfoysNJnMQS4dtz3MUVzOJbbe9DjOHsoBXmT9hVLX2H1biBS3iMr232bsAbfB60wvwJu8rDaRzAbcx02PsyFYX5EzbOw42iXr7FNnwcFoX5EzbOw2No4Y7e\\/RuIwvwJG3vYqn5fDJvC\\/Akb19LXoo\\/YilfDpDB\\/wkZ5uAwr8Ky63ly7N+fPs2dSCvMnbJSH4+I9+DfM4iJuaeZl\\/iFN08MxXMMHkXewBtuxqVpfxxGdfcw\\/pGl62A4t4eE5MXubwPnUFOZP2NO89Dc+iX5xfbV+n6LC\\/An7ysOduIotuIe9OveO+Yc07TwcEfPRpaJunqiu7+OUZr1\\/\\/iFNMw+XY4+YY49iH9bhiziTXtZ8dpN\\/SNPycJH4DngBT8XMdER8253BcdFbJK0wf8J5PZzEmdr6u\\/BsQvt+MTmF+RPO+z6cFn3gWnF2uSnq51ApzJ+woKCgoKB\\/\\/AIEpErJGccL9wAAAABJRU5ErkJggg=='><\\/img>\"},\"nodeType\":\"DOM\",\"type\":\"node\",\"instanceArgs\":{\"namespace\":\"html\",\"tag\":\"div\"},\"children\":[]},\"True: 5\"]}]},{\"props\":{\"style\":{\"display\":\"flex\",\"flex-direction\":\"row\"}},\"nodeType\":\"DOM\",\"type\":\"node\",\"instanceArgs\":{\"namespace\":\"html\",\"tag\":\"div\"},\"children\":[{\"props\":{\"style\":{\"display\":\"flex\",\"flex-direction\":\"column\"}},\"nodeType\":\"DOM\",\"type\":\"node\",\"instanceArgs\":{\"namespace\":\"html\",\"tag\":\"div\"},\"children\":[{\"props\":{\"setInnerHtml\":\"<img src='data:image\\/png;base64,iVBORw0KGgoAAAANSUhEUgAAAHAAAABwCAAAAADji6uXAAAABGdBTUEAALGPC\\/xhBQAAACBjSFJNAAB6JgAAgIQAAPoAAACA6AAAdTAAAOpgAAA6mAAAF3CculE8AAAAAmJLR0QA\\/4ePzL8AAAHISURBVGje7dm\\/S1ZRHMfxV2oQgtCSBIVYELUoKNTS1tqggtTc0uA\\/0BK0RUMQLYGuYlPRVNAUQTWpf4BiQ0EN\\/SAhIlGq4TyDPHl97sONnuOX81nu5Zxzed8Pn3vOPT8oKioqKioqKjr4OtRN49e4gVcNgH3\\/22F84EDdhpMYx9eD5jA+sFaGfbiDLXxqq7uNFTzO1WF8YK0Mr+CE1A\\/bM9zGVSXDHgJrZXgOi\\/iwR90apnN2GB\\/YMcNRzEljZpVOYQTvcnQYH9gxw1l8x1JF\\/VTrrU8qGfYIuG+GI7iJu\\/7+D5LG2Cncx5tcHcYHVmbYj2vSAvJBRZuP+IKdnB3GB1ZmOIRbeKp6TbiJF7k7jA+szHALL3FBWhtu4Ak+t7VbxnXM7yp7j1+5OIwP3Hev7QhmcBaXcBw\\/dz34G0el+Qys4hHuSd9AFg7jA7vaLx3EYQzjfKtsDmOYkPrfdm4O4wNr75fCj9Z1E+ut+8s4I\\/0zO+XXE4fxgV1lWKWH+Jarw\\/jAxhk+k9Yg2TqMD\\/wn\\/XAMp\\/E2R4fxgY0zfI5j0rlGybAnwK7mpXtpQDo\\/HJTmNtk5jA9s3A93sICLuTqMDywqKioqaq4\\/Kwg+\\/KK0454AAAAASUVORK5CYII='><\\/img>\"},\"nodeType\":\"DOM\",\"type\":\"node\",\"instanceArgs\":{\"namespace\":\"html\",\"tag\":\"div\"},\"children\":[]},\"True: 4\"]},{\"props\":{\"style\":{\"display\":\"flex\",\"flex-direction\":\"column\"}},\"nodeType\":\"DOM\",\"type\":\"node\",\"instanceArgs\":{\"namespace\":\"html\",\"tag\":\"div\"},\"children\":[{\"props\":{\"setInnerHtml\":\"<img src='data:image\\/png;base64,iVBORw0KGgoAAAANSUhEUgAAAHAAAABwCAAAAADji6uXAAAABGdBTUEAALGPC\\/xhBQAAACBjSFJNAAB6JgAAgIQAAPoAAACA6AAAdTAAAOpgAAA6mAAAF3CculE8AAAAAmJLR0QA\\/4ePzL8AAAIvSURBVGje7dnNi05RHAfwzyA1jTI2YmnhJUPJy0JSrFhQVt4GCyxESmQ95Q9Q2CgLwmIkJLGZvCwUiYUiKbFAzWYW3lLGzFicq56Zzr3zzIjnOp3v6p5z7vl9+z7ffr\\/n3N8hIyMjIyMjo20ym6ZiM47hNAYb1u7hc8XeKf9aYfqEk\\/KwHV9L1s7hQJ0Upk\\/YlIcdWIEfeKzaw2EhDzfhUR0Upk84rZmXTuCI4Nte3MRl7CpR0CnU21ooTJ+w0sMOwb9DxXgG1uEaerEMXeLJfBZL6qAwfcLKWnoGB8fMPUE33hbjC9iNU1iJNcX8d+zArVYrTJ8w6mE7enBUvCZuRF\\/xPBPz8RyzcV3wEs5jf6sVpk8YraUbcLxkwwt8aBh\\/wtPi+aOQo6+L8SLMw7tWKkyfMOrh9JKXB7AdryoCNu5djaWyh38ZUQ97MRKZ71PtH1ypm8L0CZv6toAbOPw\\/KkyfMHqmGTY6D19iOX6WBFks5OgsoZb+DnpRONMMtVJh+oRN5eGIuH\\/7BG\\/XYs6YtW+Ch0Nj5tP\\/SevhYZvRediOVQ3jHuH7vrNYi6Eb9+ugMH3CaC29hJ1\\/EPSh0Id7XweF6RNGPdwi9NMmigHh3LoN\\/XVRmD5htJa+Ec4xXRMI1I89uFs3hekTlvZLFwj3uXPHCTCIL9gq\\/v\\/XcoXpE1b2vBfiqvJ8fIDbOFlnhekTjnsH3IX1wr0E3BHu6uGZ0COttcL0CTMyMjIyMjL4BX3VVcS5xfToAAAAAElFTkSuQmCC'><\\/img>\"},\"nodeType\":\"DOM\",\"type\":\"node\",\"instanceArgs\":{\"namespace\":\"html\",\"tag\":\"div\"},\"children\":[]},\"True: 0\"]},{\"props\":{\"style\":{\"display\":\"flex\",\"flex-direction\":\"column\"}},\"nodeType\":\"DOM\",\"type\":\"node\",\"instanceArgs\":{\"namespace\":\"html\",\"tag\":\"div\"},\"children\":[{\"props\":{\"setInnerHtml\":\"<img src='data:image\\/png;base64,iVBORw0KGgoAAAANSUhEUgAAAHAAAABwCAAAAADji6uXAAAABGdBTUEAALGPC\\/xhBQAAACBjSFJNAAB6JgAAgIQAAPoAAACA6AAAdTAAAOpgAAA6mAAAF3CculE8AAAAAmJLR0QA\\/4ePzL8AAAGMSURBVGje7Zk9SwNBEIafhFSx1MMurV5ragX\\/QZJaO3vBTsHOj\\/9gqmAfe0tJZZE21rZqqXbGYhY8iEfO7OEOw7ywJOHu9snLy8ztsuByuVwul8vlcrlcLhc0yi5kwEvh9xrQD6MXHpwXPveBhwrA5n87tA9slV04BU6QLPvAMbAFvAE3wGu47wzJsIdnmAj4ax3eAu\\/h+x6wDkyBOyS\\/oi6QvJtAN9ynyqF94EKGA2AEtJH6ugaGwHPJBG3gEciBK+Bcm0P7wIVemgNPSG5jfnpmmT6Az\\/DPNzQ6tA9cyPAyjL9oBuxodWgf2IqfAibAgVaH9oG1ZAjy7lTp0D6wlgx3kcXRRKND+8BaMtxG6nCm0aF9YG29dMryvWESh\\/aB0RlmyJ5iqNWhfWB0hl2gw\\/J9ZDKH9oHRGY6oviZN4tA+sBE7wRdyvrGp1aF9YFQd5kgNjjU7tA+MynCAFHLV9UwSh\\/aBK2eYAUdIH626nkni0D5w5Qw7YdxTfi6lwqF9YFQvnQOH2h3aB34D1XM0kuGMyWYAAAAASUVORK5CYII='><\\/img>\"},\"nodeType\":\"DOM\",\"type\":\"node\",\"instanceArgs\":{\"namespace\":\"html\",\"tag\":\"div\"},\"children\":[]},\"True: 7\"]},{\"props\":{\"style\":{\"display\":\"flex\",\"flex-direction\":\"column\"}},\"nodeType\":\"DOM\",\"type\":\"node\",\"instanceArgs\":{\"namespace\":\"html\",\"tag\":\"div\"},\"children\":[{\"props\":{\"setInnerHtml\":\"<img src='data:image\\/png;base64,iVBORw0KGgoAAAANSUhEUgAAAHAAAABwCAAAAADji6uXAAAABGdBTUEAALGPC\\/xhBQAAACBjSFJNAAB6JgAAgIQAAPoAAACA6AAAdTAAAOpgAAA6mAAAF3CculE8AAAAAmJLR0QA\\/4ePzL8AAAHESURBVGje7dixThZBFAXgD2MiDRoSEbUSeQKhpcLaEAOtHRQ+gBY+g7bWRDqj0YLGaK0V0YpCI8bGmBBCaYnFTAKSf91\\/2cQdb+Ykm7kzc3fPnj3Z3ZlLRUVFRUVFRcX\\/j4muJ3zFUzw5I+G5f60wPuH5LsmLmMvHaVzBJ2ziUUkK4xN28vBBbr813PksFkpTGJ9wbA8XsZzjvRHzt0tVGJ9wLA+n8ByX8QyvRuQsSD\\/XD6UpjE84locbuIEjvGjIWc7zey3Xiv9Iy\\/PwEh7m+D62W\\/Lb5uM\\/0vI83MUMdvCyIeem47XqYWkK4xM2engBW7iW++s4aMidwsVSFcYnbPRwGqs5PsI7vMHjPLaPHzlezTlFKoxP2FinmcF3TPrTn4nc38d76Tt6NedvY6U0hfEJ\\/1prW8Mdad8wmcfmjfb0F+7ibWkK4xN2rpfew60cf5Q8XsNPXC9RYXzCTrU20jpn60R\\/SXoP29ajgymMT9jZw9OYzm3bvnAwhfEJe3vYVuMeXGF8wl4eLjle47TVSQdTGJ+wl4dzkn\\/j1EkHUxifsJeHu7n9jC+lKoxP2MvDHal+81raHxapMD5hRUVFRUV\\/\\/AaDfjuzrf9WlQAAAABJRU5ErkJggg=='><\\/img>\"},\"nodeType\":\"DOM\",\"type\":\"node\",\"instanceArgs\":{\"namespace\":\"html\",\"tag\":\"div\"},\"children\":[]},\"True: 4\"]},{\"props\":{\"style\":{\"display\":\"flex\",\"flex-direction\":\"column\"}},\"nodeType\":\"DOM\",\"type\":\"node\",\"instanceArgs\":{\"namespace\":\"html\",\"tag\":\"div\"},\"children\":[{\"props\":{\"setInnerHtml\":\"<img src='data:image\\/png;base64,iVBORw0KGgoAAAANSUhEUgAAAHAAAABwCAAAAADji6uXAAAABGdBTUEAALGPC\\/xhBQAAACBjSFJNAAB6JgAAgIQAAPoAAACA6AAAdTAAAOpgAAA6mAAAF3CculE8AAAAAmJLR0QA\\/4ePzL8AAAH\\/SURBVGje7dpNqIxRHMfxj9tcdq63EmNBkkiytGCDhVgoZau7UBYosvK6JgsLJYkUNhayJm8bGxsbKRbeSiSKnXK71+I805073XmeI2XOnM53c57znP\\/069evZ+Y8\\/zMUCoVCoVAoDD9zYopW4h2mqg9Mda3dwCe8wp2etdkY+d8O8xdsxRZOVmNvRuNd10twuas2CYf5C0Y9h\\/NxHEcw1lC7Ch9Tcpi\\/YFSGHTbjGX7jHnZgUU\\/NIVxJyWH+gtEZjuIuduM+dqEtZHYMc6u6N0LWP1NxmL9gVIajOINT+ICtwj6mwwNs75q38SUVh\\/kLRu1p2kJ+cM3M\\/OA8tmBeNd8r7G2ScJi\\/YFSG+6rxufAu0csj4XdyWzVfn5LD\\/AUbM9yIw\\/iF0\\/jcp+666QyTcpi\\/YGOGB7ECD4Xnbegc5i9Ym+EY9lTXt4fVYf6CrabFZcPuMH\\/B6F7b3\\/A6JYf5C0ZnuC6y7i1upeQwf8HoDMdxFe\\/7rG+oxif4kZLD\\/AVr+zSL8bVr\\/g0XcU7otS2v7h\\/AJqGHs1M4p0rGYf6CtRmOCO99+7vuTeA7FprukXY4ikupOcxfsPa7dBJPzcywhaWz1J7Qv782UIf5Czb2vEewFi9rak7igvqz34E5zF8w6txiAVZjDc7iBR7jZrU+ofk\\/GANzmL9goVAoFP6dP3soRZfIGosGAAAAAElFTkSuQmCC'><\\/img>\"},\"nodeType\":\"DOM\",\"type\":\"node\",\"instanceArgs\":{\"namespace\":\"html\",\"tag\":\"div\"},\"children\":[]},\"True: 0\"]},{\"props\":{\"style\":{\"display\":\"flex\",\"flex-direction\":\"column\"}},\"nodeType\":\"DOM\",\"type\":\"node\",\"instanceArgs\":{\"namespace\":\"html\",\"tag\":\"div\"},\"children\":[{\"props\":{\"setInnerHtml\":\"<img src='data:image\\/png;base64,iVBORw0KGgoAAAANSUhEUgAAAHAAAABwCAAAAADji6uXAAAABGdBTUEAALGPC\\/xhBQAAACBjSFJNAAB6JgAAgIQAAPoAAACA6AAAdTAAAOpgAAA6mAAAF3CculE8AAAAAmJLR0QA\\/4ePzL8AAAEgSURBVGje7dmvSgVBGIbxn3\\/AJpgscoJmTRrsilEMtpOMeg0mr0I4wWASQW\\/BooLNaFbwAjRrOAtG+Tbo7Mf3wDITZnl4eZlh2aEoiqIoipnI4hesYRGfPYWzf50wv3A+svirew5wOZSE+YWhffiIzW4eKv8\\/E+YXhjrcxyk2MML7EBLmF4Y6ZNrjFSY4GULC\\/MLwkTjCHMaqw0aE4Q6PhpYwvzDc4Q3Wh5QwvzDc4erQEuYXhr9p3rDcvXiM89YT5heGO9zCGfZwjcPWE+YXhs\\/SJ9xhF9tDSFjCEpawhCUs4e\\/0+nU97sYFrOC15YT5hb06\\/OjGJezgouWE+YW9Orz1cwfVfMISlrB9Ya99+IB703vE59YT5hcWRVEURcE3pQsZsV8xG4wAAAAASUVORK5CYII='><\\/img>\"},\"nodeType\":\"DOM\",\"type\":\"node\",\"instanceArgs\":{\"namespace\":\"html\",\"tag\":\"div\"},\"children\":[]},\"True: 1\"]},{\"props\":{\"style\":{\"display\":\"flex\",\"flex-direction\":\"column\"}},\"nodeType\":\"DOM\",\"type\":\"node\",\"instanceArgs\":{\"namespace\":\"html\",\"tag\":\"div\"},\"children\":[{\"props\":{\"setInnerHtml\":\"<img src='data:image\\/png;base64,iVBORw0KGgoAAAANSUhEUgAAAHAAAABwCAAAAADji6uXAAAABGdBTUEAALGPC\\/xhBQAAACBjSFJNAAB6JgAAgIQAAPoAAACA6AAAdTAAAOpgAAA6mAAAF3CculE8AAAAAmJLR0QA\\/4ePzL8AAAHQSURBVGje7dkvbBRBFMfxz5GqnoSzIEmDg1QREhQJioIkBAWiqkE2dRWg8OTqIMFBJQFbFAJLPQ7wdV3E20v\\/EG53j4SbvMzPzOXmNr\\/93Tcz894uVVVVVVVVVVVVVcvXaN7kBI+wgVto2gtm43u8bce+uvC\\/E+Y3nMvwA+74k93p8QjrOCw1YX7DlXmTl9o7+oGv2MfTdu4KLmKMLWyWmjC\\/4VyGz8U63BMMYYo1vMLN9ru+a3ApCfMbjoZeMMYXwbERbNdLTpjfcGXIj3fwEFcFv0as1aIT5jfszfAGdp2taab4XHrC\\/Ia999JVZ\\/fQEX6KunRPnIl9eoz8f2m5DGfawRNRl57vNe7iY2kJ8xsOZkj0HJdxHw\\/E+TjCAW6XljC\\/4UIMT2uCl+J5TiP6xGlJCfMbDqpL\\/6bZGdngW2kJ8xv+M8MtXBcL+rHYT4tKmN9wYYYTbAuGDX7p5reUhPkNF2K4hndOaplDXCs1YX7DwQzfiHdRq2L97Ys9tNiE+Q0769IxXrefN9o7PMZ3PBMMi06Y37BzHW7jnpNe\\/lg8j9kUZ2DxCfMbdjKcCH5Hom94Ydh7+6UnzG\\/YyfBA1C6fDH9HUUTC\\/IZVVVXL12+230lhUH79EwAAAABJRU5ErkJggg=='><\\/img>\"},\"nodeType\":\"DOM\",\"type\":\"node\",\"instanceArgs\":{\"namespace\":\"html\",\"tag\":\"div\"},\"children\":[]},\"True: 3\"]},{\"props\":{\"style\":{\"display\":\"flex\",\"flex-direction\":\"column\"}},\"nodeType\":\"DOM\",\"type\":\"node\",\"instanceArgs\":{\"namespace\":\"html\",\"tag\":\"div\"},\"children\":[{\"props\":{\"setInnerHtml\":\"<img src='data:image\\/png;base64,iVBORw0KGgoAAAANSUhEUgAAAHAAAABwCAAAAADji6uXAAAABGdBTUEAALGPC\\/xhBQAAACBjSFJNAAB6JgAAgIQAAPoAAACA6AAAdTAAAOpgAAA6mAAAF3CculE8AAAAAmJLR0QA\\/4ePzL8AAAE1SURBVGje7dg9TgMxEMXxX4AqtNwB0iKlA64AFRWUHIOWM0TiDogzQKog0SF6DhEqPgqTA6xXIvZoXm\\/99\\/l5PJ4llUqlUqlUqn9Nhi54wRrX+KgA7vy3w\\/jAvZpFJ7jBbQ8O4wMHZ3iPBQ56cRgfWFWHPz05jA8c3A9neFNy3O3BYXzg4AzhS8nwEg+tO4wPrMpwobxpXjFv3WF8YFU\\/pL4nxt\\/SPjJcKnW4j6kyLzbrMD6w6i6dYqW8b+bKndqsw\\/jAqjpc41M5AGcywy0Dq\\/vhO45x2LrD+MDqDJe46sFhfGB1hpS36ax1h\\/GBozKc4LR1h\\/GBo+tw6JwYf0v7yfD572u\\/W3cYH1g1H260+W865CDE39J+6hAecaHMiE+tOowPHJXhHc5xJDPcIjCVSqVS4\\/ULUT4jfl2cXhgAAAAASUVORK5CYII='><\\/img>\"},\"nodeType\":\"DOM\",\"type\":\"node\",\"instanceArgs\":{\"namespace\":\"html\",\"tag\":\"div\"},\"children\":[]},\"True: 1\"]}]}]},\n",
       "            window,\n",
       "        );\n",
       "    } else {\n",
       "        document\n",
       "            .querySelector('[data-webio-mountpoint=\"13908438831363777606\"]')\n",
       "            .innerHTML = '<strong>WebIO not detected.</strong>';\n",
       "    }\n",
       "    </script>\n",
       "</div>\n"
      ],
      "text/plain": [
       "(div { style=Dict(\"display\"=>\"flex\",\"flex-direction\"=>\"column\") }\n",
       "  (div { style=Dict(\"display\"=>\"flex\",\"flex-direction\"=>\"row\") }\n",
       "    (div { style=Dict(\"display\"=>\"flex\",\"flex-direction\"=>\"column\") }\n",
       "      (div { setInnerHtml=\"<img src='data:image/png;base64,iVBORw0KGgoAAAANSUhEUgAAAHAAAABwCAAAAADji6uXAAAABGdBTUEAALGPC/xhBQAAACBjSFJNAAB6JgAAgIQAAPoAAACA6AAAdTAAAOpgAAA6mAAAF3CculE8AAAAAmJLR0QA/4ePzL8AAAGrSURBVGje7dk/a9VQHIfxT711EFysKDhYOzl0KSKCoILiYtuhg30L10U7dnZ3dPAddBEEQRERKuigDl1E7T+8HVREEOqghaKFOiRDKVy9aUp78uN8l5z8IQ8PX06SQ8jJycnJycnJycnJyamfvm4nJtHGV6xjBt/wsSbwwF4bxgd27XAFQ9uO/cSH/9zwC+5gLhXD+MD+bifaGME8hnEGl3Een3Fyy7Ub+I4T5f4nucM9TF+Vi48oupzDuS3H17GMBQzgFu6lYhgfWKnDf+U67uM9rmA1FcP4wF3p8DjeldtJPEjJMD6wv/4tuIlj+IGl1AzjA2vPwwt4joOKb56XqRnGB9aeh2OK/mbxOkXD+MBaHR7CNfzGbfxJ0TA+sFaH04q1xlO8StUwPnDH78NxPMQaRvX2HN0Xw/jAHc3Do7iLFp7ovb99MYwPrDwPW3iDs+go3oedlA3jAyt3eBqL5XgCj1I3jA+s9Cw9hWfleBqPm2AYH1ipwxsYLMcvsNkEw/jAnju8hKkmGsYH9tzhRRwuxx38aophfGDltcVbXNX931JyhvGBOc3PX/q9Oc17OzXKAAAAAElFTkSuQmCC'></img>\" })\n",
       "      \"True: 7\")\n",
       "    (div { style=Dict(\"display\"=>\"flex\",\"flex-direction\"=>\"column\") }\n",
       "      (div { setInnerHtml=\"<img src='data:image/png;base64,iVBORw0KGgoAAAANSUhEUgAAAHAAAABwCAAAAADji6uXAAAABGdBTUEAALGPC/xhBQAAACBjSFJNAAB6JgAAgIQAAPoAAACA6AAAdTAAAOpgAAA6mAAAF3CculE8AAAAAmJLR0QA/4ePzL8AAAHhSURBVGje7dnPi01hHMfxF80oK5lZaMpKsqAojY212DBSin9DBiWy4l+ws8BGk2kiCztTCmWBmtgobEhSIik/snge3bm3cc85ppxzvz2fuvXt+5zuu8/99D33PM+hqKioqGi1WlP3wlmsx04czb3LeIBrDYBr/7fD+MBaGd7Qy21QL7EPb7rqMD6wMsPB/F7gLrbgUO6dx6WuOowPHBu2OI0juV7CDD7gC9bhIXZhossO4wOHZjglDeoSDuDtsrVZbM/1nS47jA8cmuFtbMVnfBxYO4bxUXAYHzhWdcHrFXqnsC3Xj/Knsw7jA2vvLf7oIOak/8P3OI7FLjuMD6ycw0FNS/mRnlmb5NeKw/jARhkuYH+ur+LcKDiMD6x9L53CU0xK+4u90v6+8w7jA2vP4U0pP7ju3/JrxWF8YK0MZ7A71/dwYZQcxgdWZjiJs3p7wSfSOc3IOIwPrMzwJPbkesHqZrAVh/GBlc803/RmcLP+87aRcBgf2GhvMYHvA71PuTeODbm3ESeWXfMTZ/C1DYfxgY0yfLZCb06azU3SGerf9A4X23AYH1h5L53H4QZf+AO/cn0Lj3N9X3rnH/8n7V6GcFr/O4od+mfuCl7leh7Pu+QwPrCoqKioqKioKIJ+AzhFQPcCumLaAAAAAElFTkSuQmCC'></img>\" })\n",
       "      \"True: 2\")\n",
       "    (div { style=Dict(\"display\"=>\"flex\",\"flex-direction\"=>\"column\") }\n",
       "      (div { setInnerHtml=\"<img src='data:image/png;base64,iVBORw0KGgoAAAANSUhEUgAAAHAAAABwCAAAAADji6uXAAAABGdBTUEAALGPC/xhBQAAACBjSFJNAAB6JgAAgIQAAPoAAACA6AAAdTAAAOpgAAA6mAAAF3CculE8AAAAAmJLR0QA/4ePzL8AAAFHSURBVGje7detSgRRGMbxn19lo+BH06QILipYRMRgEwSzyRsQ78PqHdiExbSg1WrRKCaLRcMmxeJHcC5gZwbcc17OU94Jw/z58/CemaGkpKSkpKRkrO0DlvCIU5wPcf/4fxvGB062fcAGvvGSqmF8YOsO1/GOq1QN4wNbddjFCS5SNowPbNXhMjq4TNkwPrDVN80dZrDq7zxN0jA+sPEeLmITT4bvbySG8YGNO9yt5lvqhvGBjTvsVvMsdcP4wEbvwy308YxtfKZsGB/YaA/3MI0b9fobiWF8YKMO1/CDXg6G8YG1z9J5PGCAlRwM4wNr7+ExZnGdi2F8YO0OF6o5yMUwPrB2hwfV7OdiGB9Yq8MdzOVmGB9Yq8NDTOAet7kYxgcO3WEH+9V1D1+5GMYHDv1vMeVv915xhI9cDOMDS0pKSkpKSvgFnPUiCkwgYfcAAAAASUVORK5CYII='></img>\" })\n",
       "      \"True: 1\")\n",
       "    (div { style=Dict(\"display\"=>\"flex\",\"flex-direction\"=>\"column\") }\n",
       "      (div { setInnerHtml=\"<img src='data:image/png;base64,iVBORw0KGgoAAAANSUhEUgAAAHAAAABwCAAAAADji6uXAAAABGdBTUEAALGPC/xhBQAAACBjSFJNAAB6JgAAgIQAAPoAAACA6AAAdTAAAOpgAAA6mAAAF3CculE8AAAAAmJLR0QA/4ePzL8AAAH0SURBVGje7dmxaxRBFAbwX6KdrVdYRRBR0lmoXQQrBQ9sRMEUYmEQMfYGlLQKVkpEG/8BG5EUNkIs0sTCJoIgeDYiaiFICIhisXvscNns7SKYcZivub3Hm/3m4+PNzrwhIyMjIyMjY6LrgD24izm8xjkMOoyf/NcK0yfs7OFBrAeznceDmBWmT7i7S3IPT/43hekTtvZwHmdxbCQ+U876DVZiVJg+Yeu19Bd+18x2GBvgvOIbGZXC9AlbebiM07Z6+A0/MBXEdsWmMH3CsWvpCRxS+Bd6+BAv8B0nsVDGr2IpJoXpEzbW4X6sYq9q3RzgKRaxUeZNlXk9bOIW7uNnDArTJ2z0cPQc8RIX8LUm9zruqbw+jPcxKEyfsPW+dA2X1fsHz3ARR2NTmD7hWA+HMzo+Jm+izB3mL2I2BoXpEzZ6OGfrXnQ79HFEtfe5HYvC9AkbPey3eEEP07gZxL6o38/siML0CTv12uqwgGvB/w+4hI+xKEyf8K88XFacHUO8xauYFKZP2Hi2eIcD5fOZ8vcx9gWzHf1e5j5NXHW4hDvl83OVX6Fvo72b6BSmT9hYh2H/pa7mJvFZsX5ewSdV7yYahekTju15zyjunG6o9zDfAe84Yeu7p1OKWusrejKPysHrtt+DRqEwfcKMjIyMjIwM/gC5j04wkka+LwAAAABJRU5ErkJggg=='></img>\" })\n",
       "      \"True: 0\")\n",
       "    (div { style=Dict(\"display\"=>\"flex\",\"flex-direction\"=>\"column\") }\n",
       "      (div { setInnerHtml=\"<img src='data:image/png;base64,iVBORw0KGgoAAAANSUhEUgAAAHAAAABwCAAAAADji6uXAAAABGdBTUEAALGPC/xhBQAAACBjSFJNAAB6JgAAgIQAAPoAAACA6AAAdTAAAOpgAAA6mAAAF3CculE8AAAAAmJLR0QA/4ePzL8AAAHWSURBVGje7dnPi05RHMfx12hqRFJPk5KFKSsyC2woJRtC2aCUFQt/gO2sJBsLdqztLGRnyyzsRlGUDTaWfqQQJR6LczVPuPfcujXP8e286+ncnufb99Pnfjr3nHseKpVKpVKpVP5/ZvoW7sU9LHTUHMELvOmoWbfWDuMLzvYtPIq5TM1JXMDZkhzGF+yV4SyO96h7jEvYiC+lOIwv2CvDwziAa5m6EXZhg5rhGpJdDxfxEO+xD587apdxEFvxthSH8QWz83BJejYe053fCIfwszSH8QU7MzwtrYMvsZJptCTlt4yPJTmML9iZ4RlpbbuVabKAc/iBq/heksP4gq0Zbsb+5vpmpslFzEvvhg9KcxhfsDXDOWzDnR5NdjTj8xIdxhdszfATnkr70hE+tNRtkdZNeFSiw/iCrRl+xSucwn1c/+P33dL8245x891Ynvi3tKz3w524jBP+Pmd7J2U2P9Fkk5R9UQ7jC/Y6895jdc37zd1mvC3tSel36BP/lpbzLJ3kSfP5F68nrhfxrDSH8QV7/2/RxozVyZzLbyoO4wsOznCs315mag7jCw7OcH0zfivVYXzBwRmel85Hr5TqML7g4AxXcEP+jG1qDuMLViqVSmU4vwBr3jsoVUdw/wAAAABJRU5ErkJggg=='></img>\" })\n",
       "      \"True: 4\")\n",
       "    (div { style=Dict(\"display\"=>\"flex\",\"flex-direction\"=>\"column\") }\n",
       "      (div { setInnerHtml=\"<img src='data:image/png;base64,iVBORw0KGgoAAAANSUhEUgAAAHAAAABwCAAAAADji6uXAAAABGdBTUEAALGPC/xhBQAAACBjSFJNAAB6JgAAgIQAAPoAAACA6AAAdTAAAOpgAAA6mAAAF3CculE8AAAAAmJLR0QA/4ePzL8AAAFfSURBVGje7ZgvSwRBGIcfxT/BeFGLYBNMXjnkos0g+DX8AuKXMClYBfNVLQaLCGIwGtQseCYP9TzDvuI2d2ZB5v3x/srMwu498/BjhtuFSCQSiUQiEf+ZavsDW8AA2AWOgPEf90//t6E+sFWHHeAWWLTrBeCtNEN94Eybh/v89ncKjEo01AdmdzgP7NWuT4BJiYb6wOyztAtc2fwTmCvVUB+YvQ+3a/Ozkg31gdkd9m18B/ZLNtQHZp2lPeDS5i9U/0+LNdQHZu3Dbm1+WLqhPjCrw3Ubh1Tv9UUb6gOTz9IN4MJW+ggsl26oD0zeh53aKs89GOoDkzvcsXEIHHsw1AcmnaVLwIOt8g5Y82CoD0zah73aCgdeDPWBSR3+vAc+AwdeDPWBSR1u2vgEvHox1Ac27nAWWLH5CPjwYqgPbNzhF3ANrAL3ngz1gY07HFN9254AN54M9YGRSCQSaZ9vTqsmkdnR/jAAAAAASUVORK5CYII='></img>\" })\n",
       "      \"True: 1\")\n",
       "    (div { style=Dict(\"display\"=>\"flex\",\"flex-direction\"=>\"column\") }\n",
       "      (div { setInnerHtml=\"<img src='data:image/png;base64,iVBORw0KGgoAAAANSUhEUgAAAHAAAABwCAAAAADji6uXAAAABGdBTUEAALGPC/xhBQAAACBjSFJNAAB6JgAAgIQAAPoAAACA6AAAdTAAAOpgAAA6mAAAF3CculE8AAAAAmJLR0QA/4ePzL8AAAHtSURBVGje7dlPiE5RHMbxD9lYTCIGS7ZSioXNYOVPlrIixIKUhYWUpGRtSylFbAw1KSJZWcxuNJKVP4kiJMqOeC3OnZrG3D/ulHOczrN5z33vuefb09O559zfoaioqKioqKjo/9e8Lp2GMYpxXMLrlv6LsAn38WPGvfn/2mH+wAVtHRbjmZDLB93ym8AybMDz2A7zBzZmuBQ3sAQXcKzDgKexCof9mV8Uh/kDG9+lW3Gvaq/Ap5bB1uApxnAA31JwmD+wdh4OY1fVPqRbfg+r9pjZ84viMH9gbYbnsVdY2252GGgEy3EF11NymD+wNsMBfuEdvjcMsBCncLR65mBqDvMHtu5Ld+IBvuLijHubsQUbq+tbKTrMH1i7p1mP21g5reNgloen/nuF7XiZmsP8gbXzcAJrsU7I5oSwr7k6rc81PKna49rzi+Iwf2CnOk2dVuMFJrFN+941isP8ga3rYZPOCO/Sk7rlF8Vh/sDeGe7GPuE78HPKDvMH9s5wR/V7B49Tdpg/sPd6+B5DwvlEyTAqsNc8PCLUZD76u/yiOMwf2DvDAe5W10PCGdWbFB3mD5zTvvQn9uC4cMa4P0WH+QN7rYeTwvf/VJ3mMs7hbYoO8wf2ynAEZ/FIqKF+0VwXj+owf2BRUVFR0dz1G5IZTY3KuGb8AAAAAElFTkSuQmCC'></img>\" })\n",
       "      \"True: 4\")\n",
       "    (div { style=Dict(\"display\"=>\"flex\",\"flex-direction\"=>\"column\") }\n",
       "      (div { setInnerHtml=\"<img src='data:image/png;base64,iVBORw0KGgoAAAANSUhEUgAAAHAAAABwCAAAAADji6uXAAAABGdBTUEAALGPC/xhBQAAACBjSFJNAAB6JgAAgIQAAPoAAACA6AAAdTAAAOpgAAA6mAAAF3CculE8AAAAAmJLR0QA/4ePzL8AAAHnSURBVGje7dhNiI9RFAbwn0mhGCFl4aN8LBRFycKCzX8jpdRgmGSrsLLARlFYWFCWyspHSqKsZCc1u8koC1EsFIqQEIu/xX3lL/G+M72ZO8d9Nu97T7eenvt0zrn3UFBQUFBQUFBQUDDxmDKWzf04jVXo4Ns4CPv+tcL4hFObbhzCSSyq1v14MxkUxidslIcLMYJ56FaxaziAt7krjE/YyMNzOFht7vbE30u5eR5fc1UYn7DWwyUYxUw8xCupF/7Aa6zFy1wVxies7YdrMAv3sAnTsRtHsQwLcAubNaur8Y80Pw+nSfXzbLX+gosYwNIq9kmppRNIWOvhruq7BTd74ut6/ofxMVeF8Qlr++EOXJV64SBWYxu24wPmSDV0Ix7lqDA+Ya2Hc/EEs/16L72L/biNFbiAfTkqjE/Y6G3RwXXJx670ljgs9cZTOILn1b6nuSmMT9h41taR7qPvcMzP/jcDV7AVl7A3N4XxCcc0L/0TBnEZL6S3yN/eGPGPdHJ62Cfl4E4cx4mcFMYnbMVDUv7dl2YAK/E4F4XxCVvzEA7hDG5gDz7noDA+YasezpdycbmUl6M5KIxP2KqHsBjPpLnAUA4K4xO27iHcwQas9/vsJv6R5jcvHQ8G8ECqqcXDgoKC/wDfAfoASMU830GuAAAAAElFTkSuQmCC'></img>\" })\n",
       "      \"True: 9\"))\n",
       "  (div { style=Dict(\"display\"=>\"flex\",\"flex-direction\"=>\"row\") }\n",
       "    (div { style=Dict(\"display\"=>\"flex\",\"flex-direction\"=>\"column\") }\n",
       "      (div { setInnerHtml=\"<img src='data:image/png;base64,iVBORw0KGgoAAAANSUhEUgAAAHAAAABwCAAAAADji6uXAAAABGdBTUEAALGPC/xhBQAAACBjSFJNAAB6JgAAgIQAAPoAAACA6AAAdTAAAOpgAAA6mAAAF3CculE8AAAAAmJLR0QA/4ePzL8AAAH4SURBVGje7dnPi09RGAbwzxg/GxvR2PhVZGNBpDSlpiyVshHFko2FHyt2FEn+ASUjiT9AKU2UopDFN0Vpshhig43FJDIzFueWS3dmvl+GOd+382xO95zu+9znPr3nvOccCgoKCgoKCnpmI8gyrKk9v8EJvMAIntfG5v1vhfEJ/8rD3diDQWyo9Y9gLRZVz71zqTA+YccersdRHMHiNgMUD/8p5nf6wiocm2b8FV7mpDA+4YwersBxPMJdfMNnjKEPw9K69xQtfKnGslEYn3DaqbAPD7EZe3G76l+HUamOeYeJnBXGJ5wyDxfiluTfBdyrjY1W7dtuUBifsDEPl+I0TuETNkrzZ1cqjE/Y6OFBXJfybKc0X3atwviEjXPpQNW2zK5/c6IwPmFjHn7AcnzFRamWaXWrwviEjR5O+rXWnMBlPJFq0dd+7gE34bH28zX+L83Dw0s42UGQj3iA/TkqjE/Y6GEvtuKmtGCubuPLJnEG53JTGJ+wsaYZxzNpTwG7sEDyaPsUgXqwLUeF8QnbOi+9X7VbJA+/4xquSHdMB3JWGJ+wozPvYZyvXjos3TcN1sbf56gwPmFHd09LMIR9v/WP4450NjA2Q4z4vzRvD2ElrkprX790dnpDWiuzVBif8I/v8Q9hB85KZwLZKoxPWFBQUFBQUMAPcuVJ1mUaeWkAAAAASUVORK5CYII='></img>\" })\n",
       "      \"True: 5\")\n",
       "    (div { style=Dict(\"display\"=>\"flex\",\"flex-direction\"=>\"column\") }\n",
       "      (div { setInnerHtml=\"<img src='data:image/png;base64,iVBORw0KGgoAAAANSUhEUgAAAHAAAABwCAAAAADji6uXAAAABGdBTUEAALGPC/xhBQAAACBjSFJNAAB6JgAAgIQAAPoAAACA6AAAdTAAAOpgAAA6mAAAF3CculE8AAAAAmJLR0QA/4ePzL8AAAIoSURBVGje7dk5aFVBFAbgL3mKCom4geLaWGjhUkgUbIJgoaCgCFpYpjAICgGDWAlJF0hrtBBRsLUTQdTCpRAsVATFQlA0xCgE3JdEixl54cEj9yXguxnmhwtz5s7h5+fnnJm5l4yMjIyMjIyMjIyMjJmjZTpJ67EMB9CJCQzhAV5Okdv6vxWmT9iQh5twHAcFD2vxGy9wDyfxswwK0yecU2TRZsG7w1gY597iLl6hF4/QgSXYi8dCbTZdYfqEU9bheaFn/qu7W3iKM/ge5+6gGxexFSNYixUYbbbC9Anr1uF8ob66BKNHcQ4D+FKzdikqOIsbWFcmhekT1vWwE6cE/94Je+DDmjUVrMFlXMfiON+CKxgrg8L0Cet6WMF4HP/CdhzChjj3DRvj8wHLJ+WOoD/mNV1h+oR198MFuIrdcdyKP/HduOBxLSZwDScwXBaF6RNOeaZZhNPYiY94jXnYIpxDJ2NIOOuMlUlh+oTTuuMT9sCjcfwJPbik2n9LozB9wkL3w1r04sikuFvou6VUmD5hw3XYhUG0xfgZtuFHWRWmT9iQhx24ifYYf8Ye3C+zwvQJG+ql+1T9+4r9GvOvKQrTJyxch+3CPXBujC/g2GxQmD5hIQ/b8BwrY/wEO1S/l5ZaYfqEhXrpLqxSveP3mJ5/TVGYPmEhD/tU/RvA7dmkMH3CQr30DVbjvfBvabhIUlkUpk9YqA4H49NnZv41RWH6hBmzH38BKKpUS7N47u4AAAAASUVORK5CYII='></img>\" })\n",
       "      \"True: 9\")\n",
       "    (div { style=Dict(\"display\"=>\"flex\",\"flex-direction\"=>\"column\") }\n",
       "      (div { setInnerHtml=\"<img src='data:image/png;base64,iVBORw0KGgoAAAANSUhEUgAAAHAAAABwCAAAAADji6uXAAAABGdBTUEAALGPC/xhBQAAACBjSFJNAAB6JgAAgIQAAPoAAACA6AAAdTAAAOpgAAA6mAAAF3CculE8AAAAAmJLR0QA/4ePzL8AAAHuSURBVGje7dlNiE5RHMfxD4ONl5Td7LCQSDGKjSaWSM1qLGSB8rKUlSRlw0ZZUcrY2GGhFBsveUsWisKCsqAUec9sNCzOLdP0PPfepzTO8+/8Nvc+zzmd3/32639O938pKioqKioqmtHL5A14gGXYii24Vo09xN0Wa8ycbsL4hq0yXICL2IRxzMG8KXPG8RP7cSknwviGrTI8g72Tfr/AB3yb9NSbq/vvUr0+zYUwvmFjhitwG4vwFjvxCl/wY9JTH8URDOAK9uBzDoTxDWc1TZgv5fcbJ6U8p2oCx6Q99hBGcN7fs/K/EsY3bKzDYdzCBexqseBrLMYYdudAGN+wsQ6PV9dHLRe8gX1YnwthfMPaDJdgEF/xrOWCN6UMsyGMb1ib4Q4px8vSe2FfEsY3rM1wu1SDp/uZML5h43n4Evf6mTC+YdcM52J2BML4hl0zHMVSfOxxwW3V9VcuhPENG/fSXjQk9cLhcC6E8Q3/WYZDOIiFuC+9J2ZBGN+wa4ZvpP51Gw1IPbZRvKvuy146barttT2X+qTDOp+Lq3AAa7C2+m8j7uREGN+wcS9djut432FsndQPJ2V8FY9zI4xvWFuHI9L3pNU1cybwCadwIkfC+IaN3y0GpTpc2WHsHJ7gbM6E8Q2LioqKioqK+AOpS0hF1w/OiAAAAABJRU5ErkJggg=='></img>\" })\n",
       "      \"True: 0\")\n",
       "    (div { style=Dict(\"display\"=>\"flex\",\"flex-direction\"=>\"column\") }\n",
       "      (div { setInnerHtml=\"<img src='data:image/png;base64,iVBORw0KGgoAAAANSUhEUgAAAHAAAABwCAAAAADji6uXAAAABGdBTUEAALGPC/xhBQAAACBjSFJNAAB6JgAAgIQAAPoAAACA6AAAdTAAAOpgAAA6mAAAF3CculE8AAAAAmJLR0QA/4ePzL8AAAItSURBVGje7dq7a1RBGAXwnyEQFAKx0izBKlhZmDQisRJBiCns/AN8BAsVK0GjhdpYqJ3iCwTBMkJEQZBYiTYKFuJjK/FVSBoFAwZZi5mFZZPdvRjI3h3mwGXundfhzGEe33DJyMjIyFgt1hWtOIDnGMND7P9Pwr61Vpg+YX+RSgO4iu2o4VUvKUyfsJCHx3EE8ziHl72kMH3CQh5ujulTq/OvKwrTJyzk4SCWBA97TmH6hB3PNBV8xgvs6kWF6RN2nIczBTvaiZH4/gYfy6IwfcKOHu6L6e0W5ddjnY1YH/N+CufYC2VQmD5h27V0A6r4iy0N+f0YxwPhvNOHH0L8OB7rfsUEPnVbYfqEbefhIWzCzYa8ihBn1NfYb7iHa/gS8+YwiWHZwzVAWw/HYlptyJvBtBDrz+Mk3ja1q7bpM/0hLZeHlabvrTgQ32/hBP60aPs6Pl1XmD5hWw8HhQ2zvmkewxDu42iHdktW9jf9IS2Xh7WGh7C/1WLaChUcxGxZFKZPWOiepo5p4aw5gdO4gYWmOrNYxOWyKEyfsKWHFcvn24IQO8zhPPZiCr9iOiOcgy5qfa+a/pCWKz58gj14LJxlfjeUTeGdsOedFdbPRVyycmzfNYXpE7b1cASPsE24L72C77FsEruxI3byAWeEuL9UCtMn7HjnPYxnGG1qVGv4votTlu+NpVCYPmGhfzGGhLV0FIeFu9O6h3fwvswK0yfMyMjIyMjIyEgB/wCNKVZFvCpwHQAAAABJRU5ErkJggg=='></img>\" })\n",
       "      \"True: 6\")\n",
       "    (div { style=Dict(\"display\"=>\"flex\",\"flex-direction\"=>\"column\") }\n",
       "      (div { setInnerHtml=\"<img src='data:image/png;base64,iVBORw0KGgoAAAANSUhEUgAAAHAAAABwCAAAAADji6uXAAAABGdBTUEAALGPC/xhBQAAACBjSFJNAAB6JgAAgIQAAPoAAACA6AAAdTAAAOpgAAA6mAAAF3CculE8AAAAAmJLR0QA/4ePzL8AAAHbSURBVGje7dmti1VBHMbxj4sbDIKgCyqIgnE1uBgMvqw2LQazK5hETJpEtrjRIoLJIigGsSgqi3CDTRDUshv0D7jBYvANwZcws9zrRTlnz4LO/TFPOTNnZvjy8DDM78yhqqqqqqqqqqqqqqpq7Vq32gX7sIDjmMAPPMAV9HEUPXz5y/qJf+0wPrB1hpM4gtvYOrT4Z27fxQ7M4kzuF+EwPnB924kzWMztPi7gc+7vzO0b+JbHi3EYH9gqw2k8yu0eLuPV0Ph2PMQmXMtzinEYH9gqw3lswRNcwruR8T3SOclgrxbjMD6w8Ty8hbP4hANYHhmfxDMcxnMcK81hfGDjPtwv1S0f/Tm/BRzKc66W6DA+sHVNM6pdOI+Lud/HmxIdxgc2ZriMvdiM10Pvp7DN4Nuihw8lOowPbDwPN+A+ThjktaKTmMMpHMSLEh3GB7b+xp+VzkbS3nyKmziHt1JN875Eh/GBq75rG9Z3aW/ek/ZjkQ7jA9dU05Dq1eslO4wP7JzhfH4+9vudTXEO4wM7ZTgt1TE038v8d4fxgZ0ynMFG6Sz8WrrD+MBOGU5J+S1J/w6Ldhgf2CnD0/l5Zxwcxgd2ynDl7mYsHMYHdspwEbvxchwcxgdWjb9+ASOVRSFBgZyBAAAAAElFTkSuQmCC'></img>\" })\n",
       "      \"True: 9\")\n",
       "    (div { style=Dict(\"display\"=>\"flex\",\"flex-direction\"=>\"column\") }\n",
       "      (div { setInnerHtml=\"<img src='data:image/png;base64,iVBORw0KGgoAAAANSUhEUgAAAHAAAABwCAAAAADji6uXAAAABGdBTUEAALGPC/xhBQAAACBjSFJNAAB6JgAAgIQAAPoAAACA6AAAdTAAAOpgAAA6mAAAF3CculE8AAAAAmJLR0QA/4ePzL8AAAIJSURBVGje7dpPiE5RGAbwn8lsbDTGwizUt2IxiPFnSdkgpWzEgoWF1ewkUqLZyGLCRmIjUzMLbERZSCEbC2WBlTQbomSjCH1jce40t4l7z4em43SezT333HPO03Of3vd033MpKCgoKCgoKPj/sajXCQPYgJ04hi5uYhrjeN8yv2+hFeZPGO1hP45iFCtqk2dqY67jcGoK8yeM9nAUF+b1PcLWeX2LU1OYP2GUh8N4gMFa3wlcxJiQU2dRPEzPw2GcxW4hb05jD14Je2G/sD/exnK8xLqUFOZP2BY2RgT/+vANl/Ci9vw7nuKasF+uxRUcSUVh/oStcTiJfdXA+9jRMPY51lTXkVQU5k/YGIeD2FK7n2hZbALnUlOYP2GjhxvRqdqPcTdy0QEM4V0KCvMnbPRwU619Gp8iF10p5NTi4YKg0cMl5jbMhz0o6KakMH/C1jiciVxoFt2WOfm/0rQ8/FN8xsdUFOZP+E89PFRdz+BZKgrzJ2z8PlyPe0L9Jaae/bZS0MHXVBTmT9j6jX9QqMF8Eerbv4uvq4LHN7A/JYX5E7bm0ieYwgFs82sPt2MvPgg18KQU5k8YdW7REc4tlgn10pNV/ypsxvnq2TiOp6Ywf8Lo88MhXBZi8U3VHjN3HnVHqHm/Tk1h/oQ9/YuxFKtxCruEuINbQo79kaLC/AkLCgoKCv4ePwGmEEqxUZD0FAAAAABJRU5ErkJggg=='></img>\" })\n",
       "      \"True: 0\")\n",
       "    (div { style=Dict(\"display\"=>\"flex\",\"flex-direction\"=>\"column\") }\n",
       "      (div { setInnerHtml=\"<img src='data:image/png;base64,iVBORw0KGgoAAAANSUhEUgAAAHAAAABwCAAAAADji6uXAAAABGdBTUEAALGPC/xhBQAAACBjSFJNAAB6JgAAgIQAAPoAAACA6AAAdTAAAOpgAAA6mAAAF3CculE8AAAAAmJLR0QA/4ePzL8AAADCSURBVGje7ZldCoMwEAanpfdqPJntyerN2hdB7EvZDTRhmQFRH9bhM2j+QERERC6ZogewAhuwBGuv/05YX3jLFN33c9uPbeaE9YWpNmxf19vMCesLU//Sd8cD6r9ShQrDdI1pAJ77/bQJ6wtT/eGaKRqVUKFChQoVKvyNcwuFChUqVKgw2R++ONZMneMrVNhNeJ2mcd63mD5hfWG4DXvW2YYkrC8MtWHj/A0uxPYOhySsL0yteUfHMUMT1heKiIgIfAAlcA9p9hj9FQAAAABJRU5ErkJggg=='></img>\" })\n",
       "      \"True: 1\")\n",
       "    (div { style=Dict(\"display\"=>\"flex\",\"flex-direction\"=>\"column\") }\n",
       "      (div { setInnerHtml=\"<img src='data:image/png;base64,iVBORw0KGgoAAAANSUhEUgAAAHAAAABwCAAAAADji6uXAAAABGdBTUEAALGPC/xhBQAAACBjSFJNAAB6JgAAgIQAAPoAAACA6AAAdTAAAOpgAAA6mAAAF3CculE8AAAAAmJLR0QA/4ePzL8AAAHSSURBVGje7dmtb1RBFAXw35I6JF3blW1t+XALkuBgkzqQVOD4GyBgaFINluBoNSgaUCRgtxrLw4IDxH1N29Dt201Kd/Zmjpls5u07OXNy5t25Q0VFRUVFRUVv1j9cxT2MsNq+4A++Yozn7TgJly5aYX7CTg+3sIZh+3tDeHbo3Svs4X2pCvMTdnr4W3j1S+TrIw7QYHcRFOYnXOp6YBd3hX/XF1FhfsLOHPbxGZdxDd8WTWF+ws4cfhffvCdYVj0skLDTQyKsPaw7GdwxfpauMD/h1HvpipP1aE/Uo2/MVtvkX9KyPOxjX5wDD89/n9q5h2JvHQhPb5gul/mXtCwPh/ggcrZ5yvwy7ou6dSg83FTP+BeMmfs0k7AlsjnAHXwpRWF+wnPzkMjlPq7gkdO/k/mXdLE9hJvYFnl8hp15K8xPeO4ecpTHVf8eXvIvaZnnw1nRiPp1rQSF+Qn/i4frjnqsc1eYn7DTw8ei3/Z6yhcO8FT0V2+VoDA/4ZkejvACL032sC/uhLXjhvD8gbijmrvC/IRn1jQjvBV3iD/EWaEnvnON2C+P997GeCfq0aYUhfkJO+vS28IrImd94VVzbNxr5w/UXtscCCsqKioqKir4C+MSTd6JU7siAAAAAElFTkSuQmCC'></img>\" })\n",
       "      \"True: 5\"))\n",
       "  (div { style=Dict(\"display\"=>\"flex\",\"flex-direction\"=>\"row\") }\n",
       "    (div { style=Dict(\"display\"=>\"flex\",\"flex-direction\"=>\"column\") }\n",
       "      (div { setInnerHtml=\"<img src='data:image/png;base64,iVBORw0KGgoAAAANSUhEUgAAAHAAAABwCAAAAADji6uXAAAABGdBTUEAALGPC/xhBQAAACBjSFJNAAB6JgAAgIQAAPoAAACA6AAAdTAAAOpgAAA6mAAAF3CculE8AAAAAmJLR0QA/4ePzL8AAAIGSURBVGje7dnPi05RGAfwDzOjiCQUGsLIwmISslOyYMXCO4qFlYV/wM4f4MfWXlMWiqgpKQsbUWNjorCwwCRL+VWTeUcsnjs14d73nXcx73E638197rnnnu/99u055zznUlBQUFBQUFBQUNB/LFtM58M4iRa24Blu4/Iixli+1ArzJ+zKw024i4PVCx8wg/VYh7O4marC/Ak7ergBD7AX0ziPp/iCrZjAO4zhFKbwBr9SUZg/YUcPr+ACPmIEs388H8EP4fFE1bZa5GkSCvMnbPTwNG7gM3bge02/PXiMtcLHlpKHS4jBpoej1Re9VO8fsT7O45t6//qiMH/CRg9HquvVDoMcw8oqvpWawvwJa+fSVWIOHcA+PK/pt0Lk6U6Rq6N4n5LC/Akb83Cgw8tDOCL8g+ua/euLwvwJaz2cEzXDdhz1dx5uFnXhpQVt4ykqzJ+wcV86jFeiVniIO2IPugaHRO3fFvvRaTHnfkpNYf6EHevDE7iIA9V9G2/xRJzN3BNr4jjOpagwf8KuztqGsL+KZ8U5KezG6yo+jvspKsyfcLCbTm1M/qN9eEE82c1A/VCYP2FXHtah9T8ozJ+wZw+34UwVP8LXVBXmT9izh7vEfpQ4I51LVWH+hD17uLG6zuBaygrzJ+zZw/m18AV+pqwwf8KePRwT/yemUleYP2FBQUH/8RtFRUunTf0LBAAAAABJRU5ErkJggg=='></img>\" })\n",
       "      \"True: 9\")\n",
       "    (div { style=Dict(\"display\"=>\"flex\",\"flex-direction\"=>\"column\") }\n",
       "      (div { setInnerHtml=\"<img src='data:image/png;base64,iVBORw0KGgoAAAANSUhEUgAAAHAAAABwCAAAAADji6uXAAAABGdBTUEAALGPC/xhBQAAACBjSFJNAAB6JgAAgIQAAPoAAACA6AAAdTAAAOpgAAA6mAAAF3CculE8AAAAAmJLR0QA/4ePzL8AAAHWSURBVGje7dnPi41RHMfx10ymSESxsphoKAsLUWo2SmwUNpJJMWVjbWWDjRU2FpSs7ZTyL7CxGCWRHzXMSFkoGflRI1mcZ7qX8eM+97l5znw7n81zOs89592nz/2cp3sfioqKioqKioqKioqKmmvo14n9uI2RrrkvuFONZ3AFu/AO92oCh/+3w/jARRmewrV/LJqXMv6O+7iFJ3iFZ7k5jA9clOEIjmMMs9XcChzs+sxWrP/NZl9xCedzchgfONTPom3YV40nsKPr3hxG8SEXh/GBfWXYreXYgDM4Wc1dwLlcHMYHNs5wQWN4jo/YjulcHMYHLhvURoeq6yocxsVcHMYHDqSHm/AQK6Xn4Ua8z8VhfOBAenhAyg9u+HN+rTiMD2zcw814IGX4GTvxNCeH8YGNerhO+j240MGz/p5fKw7jAxv18DJOV+NpbJH+u8nKYXxg3xkexc1qg08Yx6McHcYH9nWW7sZ1nS/ApN7ya8VhfGDtHq7Ba51n4FXpPJ3P1WF8YK0eDuOETn5T6uXXisP4wFo9HPfz+8Ij0nunrB3GB/ac4Wq8xNpq0V3swbfcHcYH9nyW7pXyI+U3oX5+rTiMD+w5w8d4ixc4hjdLxWF8YNHS1w8KeT20pDD28wAAAABJRU5ErkJggg=='></img>\" })\n",
       "      \"True: 7\")\n",
       "    (div { style=Dict(\"display\"=>\"flex\",\"flex-direction\"=>\"column\") }\n",
       "      (div { setInnerHtml=\"<img src='data:image/png;base64,iVBORw0KGgoAAAANSUhEUgAAAHAAAABwCAAAAADji6uXAAAABGdBTUEAALGPC/xhBQAAACBjSFJNAAB6JgAAgIQAAPoAAACA6AAAdTAAAOpgAAA6mAAAF3CculE8AAAAAmJLR0QA/4ePzL8AAAJMSURBVGje7dg/bE1RHAfwD+pPpJUQSUti0TDRiUgajdTkTxhFu/iTdmDpJAwWEqEmAxGEwdCGQRgklAFDDVQQjTCJCQmJSIigNZz70pfnPq9NxLs9Od/lvt+559zv+57v/Z37O4eEhISEhISEGdVuNGIZ9mXxJTz9B4Qz/7fC+AlzPWzEARwua/uFK+jDp+mkMH7CXA+P4VCVAe+wB0PTRWH8hA15jW+y6zjOYBSzcRQtuIF+nMTXoiuMnzA3D29iE66iq6y9A9ewKIsHsBc/iqwwfsJcD8cxhjYhB8vRjuNYn8WD2I2fRVUYP2Guh3ewEa0m1tVyrBNydWEWdwk5W0iF8RPmfg9fCh6W0INunCtrG8T+7PeKIiuMnzDXw8fZtQ3zcFqoaTZUeUgPXgn5+7loCuMnzF1LF2A7rqMZI2iaxMO+oVeoW6vVq/FPaTE8rMRW7BDq0S2T6P9CWHtHc+7FP6XF9LCEWSbysVmoXz9k8RFhnzE/i+/ioD/P5+Kf0mJ6uBgrMVyjXzvOYlUWD2FzvRXGT1jTw204haXYKXzr/oYmPMFyfMnG3KqnwvgJa3rYjYuYI6ydHXhYY8xaIWdn4gE666kwfsKGWh0GhBzsFwyfzD9sM/FyPK+3wvgJa3oI54Xz005cxn2cwOuKfn3CXrFV9QSPf0qLt5aW0IhnWIK5wnnqWEWfyhfikbAv+VhPhfETTmlvAbuEOmW14GcehnEbF/C+3grjJ5yyhyW0CDVoL+5hjbC2juAtvhdFYfyECQkJCQkJCfwGdW9W0wLt/nsAAAAASUVORK5CYII='></img>\" })\n",
       "      \"True: 3\")\n",
       "    (div { style=Dict(\"display\"=>\"flex\",\"flex-direction\"=>\"column\") }\n",
       "      (div { setInnerHtml=\"<img src='data:image/png;base64,iVBORw0KGgoAAAANSUhEUgAAAHAAAABwCAAAAADji6uXAAAABGdBTUEAALGPC/xhBQAAACBjSFJNAAB6JgAAgIQAAPoAAACA6AAAdTAAAOpgAAA6mAAAF3CculE8AAAAAmJLR0QA/4ePzL8AAAGeSURBVGje7dg/axRRFIbxn6IkKiEJiiixFCV2KQRRsUiaFOkt7RQC+Rqp8hFsDATEVsSAhaKdhaCCtirYWEQRg38Iq8WMkITdmYVZ5Hi4b3PZvYd99uFll7mXkpKSkpKSkpL/PwdG9UF3cR8bLXMH/7VhfuChUX3rebyJaJgfOJIO53AiqmF+4FAdnsMaVvC+Ye51RMP8wKE6vIQl3NG/w7P1+jGiYX7gUB3O1+ugjm7iC15ENMwPbO1wAgu4h+cDZg6jh52IhvmBrR1ewIyqv16f/SnM4lFUw/zA1g6v1uuTAfvXcRxPoxrmBzZ2OIZlbOE0buMUjuJaPfP3kuBIVMP8wMZ7mkl83vW6h7d4t+u9BYzjJ25hPZphfmBjh+N4iZNYVZ0tPu2b+YAz+KY6H16JZpgf2Phf+gMX66GtPvszmFb1fAPfIxrmB7Y+03xt2FvEMTzAq6iG+YGd7kun6/VxZMP8wJHcef+KbFiABRgf2Ol3eFn1YHsez6Ia5gd26nACv+09Q4YzzA/s1OEmtvEwsmF+YElJSUlJ9/wBQP0zQPmrB6QAAAAASUVORK5CYII='></img>\" })\n",
       "      \"True: 4\")\n",
       "    (div { style=Dict(\"display\"=>\"flex\",\"flex-direction\"=>\"column\") }\n",
       "      (div { setInnerHtml=\"<img src='data:image/png;base64,iVBORw0KGgoAAAANSUhEUgAAAHAAAABwCAAAAADji6uXAAAABGdBTUEAALGPC/xhBQAAACBjSFJNAAB6JgAAgIQAAPoAAACA6AAAdTAAAOpgAAA6mAAAF3CculE8AAAAAmJLR0QA/4ePzL8AAAH4SURBVGje7dnNq01RHMbxzz3IwEtSoqRbCikmQqg7IyUl/wATLwNvY6VEGZhgwEjexoZiYiIp3Ykk5W0gFAYi3BKum8FvD06n0z37HGWvs1rPaO211+7Z3572b+3f3hQVFRUVFRUVFRU1r5F/uXgUR7ABh/C0xjWt/02Yv+FAGa7EYezB/GruPXZiGd7gSSqE+Rv2lWELq3EXS7qc/455eIgxTKVAmL9h7QwXibp5om3uq8is866/YDEmUyDM33Bm3YVnsK8a/8YxvMZJbGpb9wm7dM+vEcL8DXtm2MJNkcuU2Of2YxsuYFXH+keiliZDmL9hzwyPYnc1foGzeIDZXda+wsHUCPM3nHY/nIW3Ym/r1GdcxFZsqeaOi4yTIszfcNoMZ+A+NlfHP/ATl3BO9BHj4pkcx3Z8S40wf8Oe76ULRN83icd4Xs3PxQ1RZyewHi9TJMzfcODvNHtxrRpfEe85SRLmbzhQhgtxD2vwDivwK1XC/A1r94ftuiXyg9Pq59cIYf6GfWe4HGur8W1cT50wf8O+aulS0RuOiho6JnqPpAnzN+zrOVwn8hvBVf3n1whh/oa1M9woegmiR7wzLIT5G9bKcA5OiV6R+C8xMSyE+RvWyvCA+AYDH7EDz4aFMH/DWhn+Ef8Kz+MyPgwTYf6GRUVFzesv8Z9JRjuIuiYAAAAASUVORK5CYII='></img>\" })\n",
       "      \"True: 9\")\n",
       "    (div { style=Dict(\"display\"=>\"flex\",\"flex-direction\"=>\"column\") }\n",
       "      (div { setInnerHtml=\"<img src='data:image/png;base64,iVBORw0KGgoAAAANSUhEUgAAAHAAAABwCAAAAADji6uXAAAABGdBTUEAALGPC/xhBQAAACBjSFJNAAB6JgAAgIQAAPoAAACA6AAAdTAAAOpgAAA6mAAAF3CculE8AAAAAmJLR0QA/4ePzL8AAAHbSURBVGje7do/qE9hHMfx172RweJP+bOwMFwZ3FsGCyXLXZSyKIyMNmWxWBSLSCZiEwN1i8JyU0wGiyy37sLgmn5FhJ/he25Xt9Rz3HKf37fns5xTz3l6n8/59H16/hyampqamlaqsb4dJnEJ0/iKg3jTo//4/3aYH9g7w6c40t0v4DlO1uwwP3BNn4cPY6q7v4rb2FS7w/zA4jrcjPfYgBkcx49RcJgfWFyHB0R+cNm/5bcqDvMDizM8JIr2EV6PksP8wKIMt4h56BC3Rs1hfmBRhqcxgQE+j5rD/MCiDCe665x+a8EqHOYHFmU43V1XOo6uisP8wKIMx7o3O4pd2CNyHccvzIu9m3v4WZvD/MCi9eEHbBVzmj/1ztI4CxdwpTaH+YG9Mhzglai3BcyK/dIzONY9ewIPanKYH1g0lt7FedzH2WVtz8R6cS92Y2dtDvMDizJcXE/s/0v7AC9FhtU5zA8syvBL92ZrsQ7flrVPivlOycCc/5PWmeFNUYOncB3nxNkh7MANsSc+xKfaHOYHFp9bbMRbbBdnTg+xXmS6DR9xBxdrc5gf2OsMeAqPRY6LnYd4IdYVJXs4+T9p3RnCPkv/YsziCa7he60O8wObmpqampqamjLoN9EBQkkJB/XYAAAAAElFTkSuQmCC'></img>\" })\n",
       "      \"True: 6\")\n",
       "    (div { style=Dict(\"display\"=>\"flex\",\"flex-direction\"=>\"column\") }\n",
       "      (div { setInnerHtml=\"<img src='data:image/png;base64,iVBORw0KGgoAAAANSUhEUgAAAHAAAABwCAAAAADji6uXAAAABGdBTUEAALGPC/xhBQAAACBjSFJNAAB6JgAAgIQAAPoAAACA6AAAdTAAAOpgAAA6mAAAF3CculE8AAAAAmJLR0QA/4ePzL8AAAGZSURBVGje7ZnhTcMwEIU/EGMQ1kCBNaCskTZrQJmjLXOQskbDIPw4WzGhiaMENc7pnlQ5cq99evd0yp0NBoPBYJiKqyFBG+ANeACqiYTXl1aon/BmSFCxZIX6CaMeZu5TMr0GZ1GonzDq4bNbv5eqUD9h1MMnt/5HDc6iUD9hb0+TASegBu6WqlA/YW8dFm499MTkiNcA98AH/TWrP6Vpeei9+er4Pgd2QRzIHNI3g+hPaVoexrCm8c/3rTuaWTIJhfoJR3uY0/SsL8DePR+D/SQU6icc7eHaraF/IVYd+/pTmpaHtVtvW/sZUmsV531KSqF+wkGzRTtwj3hYAtvWbz4Rz7tmEf0pTa8OK+Tdt+GvX+2zm5WLLVNSqJ8wem+xQnpNkDnxHak1kFqrg7hX9/wY7M+uUD/h4Lungt9zIEg/A3Ie53vR2P2U/pSm6SGIfwXi5zlUiKd15H/0pzRdD0OcaGpyi5zjDO1P9ac0rZ6mCweaevT3i77/SU6hfsJRHvq+078Djwy/X9Sf0osTGgwGg8FgMGjAD/QCN9U4nfzGAAAAAElFTkSuQmCC'></img>\" })\n",
       "      \"True: 6\")\n",
       "    (div { style=Dict(\"display\"=>\"flex\",\"flex-direction\"=>\"column\") }\n",
       "      (div { setInnerHtml=\"<img src='data:image/png;base64,iVBORw0KGgoAAAANSUhEUgAAAHAAAABwCAAAAADji6uXAAAABGdBTUEAALGPC/xhBQAAACBjSFJNAAB6JgAAgIQAAPoAAACA6AAAdTAAAOpgAAA6mAAAF3CculE8AAAAAmJLR0QA/4ePzL8AAAHxSURBVGje7dlNqE1RFAfwn4+erhADgzfwUXoGQjIyM/LKVynJXAbCCEN5AwZ6iWL85spEScnYKzz1UgY+npJSZCQDn2GwjjrFfffce+Puu9v/yT27s+/591//1jp7rUNBQUFBQUFBwfBjQb8P2IWDOIRVtYf+xA/swKPa/oX/W2H+hIt7+dNh7MdurBSezWEKD/AEp3FU+Fs8/KfoysNJnMQS4dtz3MUVzOJbbe9DjOHsoBXmT9hVLX2H1biBS3iMr232bsAbfB60wvwJu8rDaRzAbcx02PsyFYX5EzbOw42iXr7FNnwcFoX5EzbOw2No4Y7e/RuIwvwJG3vYqn5fDJvC/Akb19LXoo/YilfDpDB/wkZ5uAwr8Ky63ly7N+fPs2dSCvMnbJSH4+I9+DfM4iJuaeZl/iFN08MxXMMHkXewBtuxqVpfxxGdfcw/pGl62A4t4eE5MXubwPnUFOZP2NO89Dc+iX5xfbV+n6LC/An7ysOduIotuIe9OveO+Yc07TwcEfPRpaJunqiu7+OUZr1//iFNMw+XY4+YY49iH9bhiziTXtZ8dpN/SNPycJH4DngBT8XMdER8253BcdFbJK0wf8J5PZzEmdr6u/BsQvt+MTmF+RPO+z6cFn3gWnF2uSnq51ApzJ+woKCgoKB//AIEpErJGccL9wAAAABJRU5ErkJggg=='></img>\" })\n",
       "      \"True: 5\"))\n",
       "  (div { style=Dict(\"display\"=>\"flex\",\"flex-direction\"=>\"row\") }\n",
       "    (div { style=Dict(\"display\"=>\"flex\",\"flex-direction\"=>\"column\") }\n",
       "      (div { setInnerHtml=\"<img src='data:image/png;base64,iVBORw0KGgoAAAANSUhEUgAAAHAAAABwCAAAAADji6uXAAAABGdBTUEAALGPC/xhBQAAACBjSFJNAAB6JgAAgIQAAPoAAACA6AAAdTAAAOpgAAA6mAAAF3CculE8AAAAAmJLR0QA/4ePzL8AAAHISURBVGje7dm/S1ZRHMfxV2oQgtCSBIVYELUoKNTS1tqggtTc0uA/0BK0RUMQLYGuYlPRVNAUQTWpf4BiQ0EN/SAhIlGq4TyDPHl97sONnuOX81nu5Zxzed8Pn3vOPT8oKioqKioqKjr4OtRN49e4gVcNgH3/22F84EDdhpMYx9eD5jA+sFaGfbiDLXxqq7uNFTzO1WF8YK0Mr+CE1A/bM9zGVSXDHgJrZXgOi/iwR90apnN2GB/YMcNRzEljZpVOYQTvcnQYH9gxw1l8x1JF/VTrrU8qGfYIuG+GI7iJu/7+D5LG2Cncx5tcHcYHVmbYj2vSAvJBRZuP+IKdnB3GB1ZmOIRbeKp6TbiJF7k7jA+szHALL3FBWhtu4Ak+t7VbxnXM7yp7j1+5OIwP3Hev7QhmcBaXcBw/dz34G0el+Qys4hHuSd9AFg7jA7vaLx3EYQzjfKtsDmOYkPrfdm4O4wNr75fCj9Z1E+ut+8s4I/0zO+XXE4fxgV1lWKWH+Jarw/jAxhk+k9Yg2TqMD/wn/XAMp/E2R4fxgY0zfI5j0rlGybAnwK7mpXtpQDo/HJTmNtk5jA9s3A93sICLuTqMDywqKioqaq4/Kwg+/KK0454AAAAASUVORK5CYII='></img>\" })\n",
       "      \"True: 4\")\n",
       "    (div { style=Dict(\"display\"=>\"flex\",\"flex-direction\"=>\"column\") }\n",
       "      (div { setInnerHtml=\"<img src='data:image/png;base64,iVBORw0KGgoAAAANSUhEUgAAAHAAAABwCAAAAADji6uXAAAABGdBTUEAALGPC/xhBQAAACBjSFJNAAB6JgAAgIQAAPoAAACA6AAAdTAAAOpgAAA6mAAAF3CculE8AAAAAmJLR0QA/4ePzL8AAAIvSURBVGje7dnNi05RHAfwzyA1jTI2YmnhJUPJy0JSrFhQVt4GCyxESmQ95Q9Q2CgLwmIkJLGZvCwUiYUiKbFAzWYW3lLGzFicq56Zzr3zzIjnOp3v6p5z7vl9+z7ffr/n3N8hIyMjIyMjo20ym6ZiM47hNAYb1u7hc8XeKf9aYfqEk/KwHV9L1s7hQJ0Upk/YlIcdWIEfeKzaw2EhDzfhUR0Upk84rZmXTuCI4Nte3MRl7CpR0CnU21ooTJ+w0sMOwb9DxXgG1uEaerEMXeLJfBZL6qAwfcLKWnoGB8fMPUE33hbjC9iNU1iJNcX8d+zArVYrTJ8w6mE7enBUvCZuRF/xPBPz8RyzcV3wEs5jf6sVpk8YraUbcLxkwwt8aBh/wtPi+aOQo6+L8SLMw7tWKkyfMOrh9JKXB7AdryoCNu5djaWyh38ZUQ97MRKZ71PtH1ypm8L0CZv6toAbOPw/KkyfMHqmGTY6D19iOX6WBFks5OgsoZb+DnpRONMMtVJh+oRN5eGIuH/7BG/XYs6YtW+Ch0Nj5tP/SevhYZvRediOVQ3jHuH7vrNYi6Eb9+ugMH3CaC29hJ1/EPSh0Id7XweF6RNGPdwi9NMmigHh3LoN/XVRmD5htJa+Ec4xXRMI1I89uFs3hekTlvZLFwj3uXPHCTCIL9gq/v/XcoXpE1b2vBfiqvJ8fIDbOFlnhekTjnsH3IX1wr0E3BHu6uGZ0COttcL0CTMyMjIyMjL4BX3VVcS5xfToAAAAAElFTkSuQmCC'></img>\" })\n",
       "      \"True: 0\")\n",
       "    (div { style=Dict(\"display\"=>\"flex\",\"flex-direction\"=>\"column\") }\n",
       "      (div { setInnerHtml=\"<img src='data:image/png;base64,iVBORw0KGgoAAAANSUhEUgAAAHAAAABwCAAAAADji6uXAAAABGdBTUEAALGPC/xhBQAAACBjSFJNAAB6JgAAgIQAAPoAAACA6AAAdTAAAOpgAAA6mAAAF3CculE8AAAAAmJLR0QA/4ePzL8AAAGMSURBVGje7Zk9SwNBEIafhFSx1MMurV5ragX/QZJaO3vBTsHOj/9gqmAfe0tJZZE21rZqqXbGYhY8iEfO7OEOw7ywJOHu9snLy8ztsuByuVwul8vlcrlcLhc0yi5kwEvh9xrQD6MXHpwXPveBhwrA5n87tA9slV04BU6QLPvAMbAFvAE3wGu47wzJsIdnmAj4ax3eAu/h+x6wDkyBOyS/oi6QvJtAN9ynyqF94EKGA2AEtJH6ugaGwHPJBG3gEciBK+Bcm0P7wIVemgNPSG5jfnpmmT6Az/DPNzQ6tA9cyPAyjL9oBuxodWgf2IqfAibAgVaH9oG1ZAjy7lTp0D6wlgx3kcXRRKND+8BaMtxG6nCm0aF9YG29dMryvWESh/aB0RlmyJ5iqNWhfWB0hl2gw/J9ZDKH9oHRGY6oviZN4tA+sBE7wRdyvrGp1aF9YFQd5kgNjjU7tA+MynCAFHLV9UwSh/aBK2eYAUdIH626nkni0D5w5Qw7YdxTfi6lwqF9YFQvnQOH2h3aB34D1XM0kuGMyWYAAAAASUVORK5CYII='></img>\" })\n",
       "      \"True: 7\")\n",
       "    (div { style=Dict(\"display\"=>\"flex\",\"flex-direction\"=>\"column\") }\n",
       "      (div { setInnerHtml=\"<img src='data:image/png;base64,iVBORw0KGgoAAAANSUhEUgAAAHAAAABwCAAAAADji6uXAAAABGdBTUEAALGPC/xhBQAAACBjSFJNAAB6JgAAgIQAAPoAAACA6AAAdTAAAOpgAAA6mAAAF3CculE8AAAAAmJLR0QA/4ePzL8AAAHESURBVGje7dixThZBFAXgD2MiDRoSEbUSeQKhpcLaEAOtHRQ+gBY+g7bWRDqj0YLGaK0V0YpCI8bGmBBCaYnFTAKSf91/2cQdb+Ykm7kzc3fPnj3Z3ZlLRUVFRUVFRcX/j4muJ3zFUzw5I+G5f60wPuH5LsmLmMvHaVzBJ2ziUUkK4xN28vBBbr813PksFkpTGJ9wbA8XsZzjvRHzt0tVGJ9wLA+n8ByX8QyvRuQsSD/XD6UpjE84locbuIEjvGjIWc7zey3Xiv9Iy/PwEh7m+D62W/Lb5uM/0vI83MUMdvCyIeem47XqYWkK4xM2engBW7iW++s4aMidwsVSFcYnbPRwGqs5PsI7vMHjPLaPHzlezTlFKoxP2FinmcF3TPrTn4nc38d76Tt6NedvY6U0hfEJ/1prW8Mdad8wmcfmjfb0F+7ibWkK4xN2rpfew60cf5Q8XsNPXC9RYXzCTrU20jpn60R/SXoP29ajgymMT9jZw9OYzm3bvnAwhfEJe3vYVuMeXGF8wl4eLjle47TVSQdTGJ+wl4dzkn/j1EkHUxifsJeHu7n9jC+lKoxP2MvDHal+81raHxapMD5hRUVFRUV//AaDfjuzrf9WlQAAAABJRU5ErkJggg=='></img>\" })\n",
       "      \"True: 4\")\n",
       "    (div { style=Dict(\"display\"=>\"flex\",\"flex-direction\"=>\"column\") }\n",
       "      (div { setInnerHtml=\"<img src='data:image/png;base64,iVBORw0KGgoAAAANSUhEUgAAAHAAAABwCAAAAADji6uXAAAABGdBTUEAALGPC/xhBQAAACBjSFJNAAB6JgAAgIQAAPoAAACA6AAAdTAAAOpgAAA6mAAAF3CculE8AAAAAmJLR0QA/4ePzL8AAAH/SURBVGje7dpNqIxRHMfxj9tcdq63EmNBkkiytGCDhVgoZau7UBYosvK6JgsLJYkUNhayJm8bGxsbKRbeSiSKnXK71+I805073XmeI2XOnM53c57znP/069evZ+Y8/zMUCoVCoVAoDD9zYopW4h2mqg9Mda3dwCe8wp2etdkY+d8O8xdsxRZOVmNvRuNd10twuas2CYf5C0Y9h/NxHEcw1lC7Ch9Tcpi/YFSGHTbjGX7jHnZgUU/NIVxJyWH+gtEZjuIuduM+dqEtZHYMc6u6N0LWP1NxmL9gVIajOINT+ICtwj6mwwNs75q38SUVh/kLRu1p2kJ+cM3M/OA8tmBeNd8r7G2ScJi/YFSG+6rxufAu0csj4XdyWzVfn5LD/AUbM9yIw/iF0/jcp+666QyTcpi/YGOGB7ECD4Xnbegc5i9Ym+EY9lTXt4fVYf6CrabFZcPuMH/B6F7b3/A6JYf5C0ZnuC6y7i1upeQwf8HoDMdxFe/7rG+oxif4kZLD/AVr+zSL8bVr/g0XcU7otS2v7h/AJqGHs1M4p0rGYf6CtRmOCO99+7vuTeA7FprukXY4ikupOcxfsPa7dBJPzcywhaWz1J7Qv782UIf5Czb2vEewFi9rak7igvqz34E5zF8w6txiAVZjDc7iBR7jZrU+ofk/GANzmL9goVAoFP6dP3soRZfIGosGAAAAAElFTkSuQmCC'></img>\" })\n",
       "      \"True: 0\")\n",
       "    (div { style=Dict(\"display\"=>\"flex\",\"flex-direction\"=>\"column\") }\n",
       "      (div { setInnerHtml=\"<img src='data:image/png;base64,iVBORw0KGgoAAAANSUhEUgAAAHAAAABwCAAAAADji6uXAAAABGdBTUEAALGPC/xhBQAAACBjSFJNAAB6JgAAgIQAAPoAAACA6AAAdTAAAOpgAAA6mAAAF3CculE8AAAAAmJLR0QA/4ePzL8AAAEgSURBVGje7dmvSgVBGIbxn3/AJpgscoJmTRrsilEMtpOMeg0mr0I4wWASQW/BooLNaFbwAjRrOAtG+Tbo7Mf3wDITZnl4eZlh2aEoiqIoipnI4hesYRGfPYWzf50wv3A+svirew5wOZSE+YWhffiIzW4eKv8/E+YXhjrcxyk2MML7EBLmF4Y6ZNrjFSY4GULC/MLwkTjCHMaqw0aE4Q6PhpYwvzDc4Q3Wh5QwvzDc4erQEuYXhr9p3rDcvXiM89YT5heGO9zCGfZwjcPWE+YXhs/SJ9xhF9tDSFjCEpawhCUs4e/0+nU97sYFrOC15YT5hb06/OjGJezgouWE+YW9Orz1cwfVfMISlrB9Ya99+IB703vE59YT5hcWRVEURcE3pQsZsV8xG4wAAAAASUVORK5CYII='></img>\" })\n",
       "      \"True: 1\")\n",
       "    (div { style=Dict(\"display\"=>\"flex\",\"flex-direction\"=>\"column\") }\n",
       "      (div { setInnerHtml=\"<img src='data:image/png;base64,iVBORw0KGgoAAAANSUhEUgAAAHAAAABwCAAAAADji6uXAAAABGdBTUEAALGPC/xhBQAAACBjSFJNAAB6JgAAgIQAAPoAAACA6AAAdTAAAOpgAAA6mAAAF3CculE8AAAAAmJLR0QA/4ePzL8AAAHQSURBVGje7dkvbBRBFMfxz5GqnoSzIEmDg1QREhQJioIkBAWiqkE2dRWg8OTqIMFBJQFbFAJLPQ7wdV3E20v/EG53j4SbvMzPzOXmNr/93Tcz894uVVVVVVVVVVVVVcvXaN7kBI+wgVto2gtm43u8bce+uvC/E+Y3nMvwA+74k93p8QjrOCw1YX7DlXmTl9o7+oGv2MfTdu4KLmKMLWyWmjC/4VyGz8U63BMMYYo1vMLN9ru+a3ApCfMbjoZeMMYXwbERbNdLTpjfcGXIj3fwEFcFv0as1aIT5jfszfAGdp2taab4XHrC/Ia999JVZ/fQEX6KunRPnIl9eoz8f2m5DGfawRNRl57vNe7iY2kJ8xsOZkj0HJdxHw/E+TjCAW6XljC/4UIMT2uCl+J5TiP6xGlJCfMbDqpL/6bZGdngW2kJ8xv+M8MtXBcL+rHYT4tKmN9wYYYTbAuGDX7p5reUhPkNF2K4hndOaplDXCs1YX7DwQzfiHdRq2L97Ys9tNiE+Q0769IxXrefN9o7PMZ3PBMMi06Y37BzHW7jnpNe/lg8j9kUZ2DxCfMbdjKcCH5Hom94Ydh7+6UnzG/YyfBA1C6fDH9HUUTC/IZVVVXL12+230lhUH79EwAAAABJRU5ErkJggg=='></img>\" })\n",
       "      \"True: 3\")\n",
       "    (div { style=Dict(\"display\"=>\"flex\",\"flex-direction\"=>\"column\") }\n",
       "      (div { setInnerHtml=\"<img src='data:image/png;base64,iVBORw0KGgoAAAANSUhEUgAAAHAAAABwCAAAAADji6uXAAAABGdBTUEAALGPC/xhBQAAACBjSFJNAAB6JgAAgIQAAPoAAACA6AAAdTAAAOpgAAA6mAAAF3CculE8AAAAAmJLR0QA/4ePzL8AAAE1SURBVGje7dg9TgMxEMXxX4AqtNwB0iKlA64AFRWUHIOWM0TiDogzQKog0SF6DhEqPgqTA6xXIvZoXm/99/l5PJ4llUqlUqlUqn9Nhi54wRrX+KgA7vy3w/jAvZpFJ7jBbQ8O4wMHZ3iPBQ56cRgfWFWHPz05jA8c3A9neFNy3O3BYXzg4AzhS8nwEg+tO4wPrMpwobxpXjFv3WF8YFU/pL4nxt/SPjJcKnW4j6kyLzbrMD6w6i6dYqW8b+bKndqsw/jAqjpc41M5AGcywy0Dq/vhO45x2LrD+MDqDJe46sFhfGB1hpS36ax1h/GBozKc4LR1h/GBo+tw6JwYf0v7yfD572u/W3cYH1g1H260+W865CDE39J+6hAecaHMiE+tOowPHJXhHc5xJDPcIjCVSqVS4/ULUT4jfl2cXhgAAAAASUVORK5CYII='></img>\" })\n",
       "      \"True: 1\")))"
      ]
     },
     "execution_count": 5,
     "metadata": {
      "application/vnd.webio.node+json": {
       "kernelId": null
      }
     },
     "output_type": "execute_result"
    }
   ],
   "source": [
    "vbox(hbox([vbox(Gray.(test_images[i]), \"True: $(test_labels[i])\") for i in 1:8]...),\n",
    "     hbox([vbox(Gray.(test_images[i]), \"True: $(test_labels[i])\") for i in 9:16]...),\n",
    "     hbox([vbox(Gray.(test_images[i]), \"True: $(test_labels[i])\") for i in 17:24]...),\n",
    "     hbox([vbox(Gray.(test_images[i]), \"True: $(test_labels[i])\") for i in 25:32]...))"
   ]
  },
  {
   "cell_type": "markdown",
   "metadata": {},
   "source": [
    "### 1 nearest neightbor"
   ]
  },
  {
   "cell_type": "code",
   "execution_count": 6,
   "metadata": {},
   "outputs": [],
   "source": [
    "using Distances, Statistics"
   ]
  },
  {
   "cell_type": "code",
   "execution_count": 7,
   "metadata": {},
   "outputs": [
    {
     "name": "stdout",
     "output_type": "stream",
     "text": [
      "286.479449 seconds (1.07 M allocations: 4.523 GiB, 0.07% gc time)\n"
     ]
    }
   ],
   "source": [
    "@time prediction = [train_labels[argmin(euclidean.(Ref(img), train_images))] for img in test_images];"
   ]
  },
  {
   "cell_type": "code",
   "execution_count": 8,
   "metadata": {},
   "outputs": [
    {
     "data": {
      "text/plain": [
       "0.9691"
      ]
     },
     "execution_count": 8,
     "metadata": {},
     "output_type": "execute_result"
    }
   ],
   "source": [
    "mean(prediction .== test_labels)"
   ]
  },
  {
   "cell_type": "code",
   "execution_count": 9,
   "metadata": {},
   "outputs": [],
   "source": [
    "using FreqTables"
   ]
  },
  {
   "cell_type": "code",
   "execution_count": 10,
   "metadata": {},
   "outputs": [
    {
     "data": {
      "text/plain": [
       "10×10 Named Array{Int64,2}\n",
       "Dim1 ╲ Dim2 │    0     1     2     3     4     5     6     7     8     9\n",
       "────────────┼───────────────────────────────────────────────────────────\n",
       "0           │  973     1     1     0     0     1     3     1     0     0\n",
       "1           │    0  1129     3     0     1     1     1     0     0     0\n",
       "2           │    7     6   992     5     1     0     2    16     3     0\n",
       "3           │    0     1     2   970     1    19     0     7     7     3\n",
       "4           │    0     7     0     0   944     0     3     5     1    22\n",
       "5           │    1     1     0    12     2   860     5     1     6     4\n",
       "6           │    4     2     0     0     3     5   944     0     0     0\n",
       "7           │    0    14     6     2     4     0     0   992     0    10\n",
       "8           │    6     1     3    14     5    13     3     4   920     5\n",
       "9           │    2     5     1     6    10     5     1    11     1   967"
      ]
     },
     "execution_count": 10,
     "metadata": {},
     "output_type": "execute_result"
    }
   ],
   "source": [
    "freqtable(test_labels, prediction)"
   ]
  },
  {
   "cell_type": "code",
   "execution_count": 11,
   "metadata": {},
   "outputs": [
    {
     "data": {
      "application/vnd.webio.node+json": {
       "children": [
        {
         "children": [
          {
           "children": [
            {
             "children": [],
             "instanceArgs": {
              "namespace": "html",
              "tag": "div"
             },
             "nodeType": "DOM",
             "props": {
              "setInnerHtml": "<img src='data:image/png;base64,iVBORw0KGgoAAAANSUhEUgAAAHAAAABwCAAAAADji6uXAAAABGdBTUEAALGPC/xhBQAAACBjSFJNAAB6JgAAgIQAAPoAAACA6AAAdTAAAOpgAAA6mAAAF3CculE8AAAAAmJLR0QA/4ePzL8AAAGrSURBVGje7dk/a9VQHIfxT711EFysKDhYOzl0KSKCoILiYtuhg30L10U7dnZ3dPAddBEEQRERKuigDl1E7T+8HVREEOqghaKFOiRDKVy9aUp78uN8l5z8IQ8PX06SQ8jJycnJycnJycnJyamfvm4nJtHGV6xjBt/wsSbwwF4bxgd27XAFQ9uO/cSH/9zwC+5gLhXD+MD+bifaGME8hnEGl3Een3Fyy7Ub+I4T5f4nucM9TF+Vi48oupzDuS3H17GMBQzgFu6lYhgfWKnDf+U67uM9rmA1FcP4wF3p8DjeldtJPEjJMD6wv/4tuIlj+IGl1AzjA2vPwwt4joOKb56XqRnGB9aeh2OK/mbxOkXD+MBaHR7CNfzGbfxJ0TA+sFaH04q1xlO8StUwPnDH78NxPMQaRvX2HN0Xw/jAHc3Do7iLFp7ovb99MYwPrDwPW3iDs+go3oedlA3jAyt3eBqL5XgCj1I3jA+s9Cw9hWfleBqPm2AYH1ipwxsYLMcvsNkEw/jAnju8hKkmGsYH9tzhRRwuxx38aophfGDltcVbXNX931JyhvGBOc3PX/q9Oc17OzXKAAAAAElFTkSuQmCC'></img>"
             },
             "type": "node"
            },
            "True: 7, pred: 7"
           ],
           "instanceArgs": {
            "namespace": "html",
            "tag": "div"
           },
           "nodeType": "DOM",
           "props": {
            "style": {
             "display": "flex",
             "flex-direction": "column"
            }
           },
           "type": "node"
          },
          {
           "children": [
            {
             "children": [],
             "instanceArgs": {
              "namespace": "html",
              "tag": "div"
             },
             "nodeType": "DOM",
             "props": {
              "setInnerHtml": "<img src='data:image/png;base64,iVBORw0KGgoAAAANSUhEUgAAAHAAAABwCAAAAADji6uXAAAABGdBTUEAALGPC/xhBQAAACBjSFJNAAB6JgAAgIQAAPoAAACA6AAAdTAAAOpgAAA6mAAAF3CculE8AAAAAmJLR0QA/4ePzL8AAAHhSURBVGje7dnPi01hHMfxF80oK5lZaMpKsqAojY212DBSin9DBiWy4l+ws8BGk2kiCztTCmWBmtgobEhSIik/snge3bm3cc85ppxzvz2fuvXt+5zuu8/99D33PM+hqKioqGi1WlP3wlmsx04czb3LeIBrDYBr/7fD+MBaGd7Qy21QL7EPb7rqMD6wMsPB/F7gLrbgUO6dx6WuOowPHBu2OI0juV7CDD7gC9bhIXZhossO4wOHZjglDeoSDuDtsrVZbM/1nS47jA8cmuFtbMVnfBxYO4bxUXAYHzhWdcHrFXqnsC3Xj/Knsw7jA2vvLf7oIOak/8P3OI7FLjuMD6ycw0FNS/mRnlmb5NeKw/jARhkuYH+ur+LcKDiMD6x9L53CU0xK+4u90v6+8w7jA2vP4U0pP7ju3/JrxWF8YK0MZ7A71/dwYZQcxgdWZjiJs3p7wSfSOc3IOIwPrMzwJPbkesHqZrAVh/GBlc803/RmcLP+87aRcBgf2GhvMYHvA71PuTeODbm3ESeWXfMTZ/C1DYfxgY0yfLZCb06azU3SGerf9A4X23AYH1h5L53H4QZf+AO/cn0Lj3N9X3rnH/8n7V6GcFr/O4od+mfuCl7leh7Pu+QwPrCoqKioqKioKIJ+AzhFQPcCumLaAAAAAElFTkSuQmCC'></img>"
             },
             "type": "node"
            },
            "True: 2, pred: 2"
           ],
           "instanceArgs": {
            "namespace": "html",
            "tag": "div"
           },
           "nodeType": "DOM",
           "props": {
            "style": {
             "display": "flex",
             "flex-direction": "column"
            }
           },
           "type": "node"
          },
          {
           "children": [
            {
             "children": [],
             "instanceArgs": {
              "namespace": "html",
              "tag": "div"
             },
             "nodeType": "DOM",
             "props": {
              "setInnerHtml": "<img src='data:image/png;base64,iVBORw0KGgoAAAANSUhEUgAAAHAAAABwCAAAAADji6uXAAAABGdBTUEAALGPC/xhBQAAACBjSFJNAAB6JgAAgIQAAPoAAACA6AAAdTAAAOpgAAA6mAAAF3CculE8AAAAAmJLR0QA/4ePzL8AAAFHSURBVGje7detSgRRGMbxn19lo+BH06QILipYRMRgEwSzyRsQ78PqHdiExbSg1WrRKCaLRcMmxeJHcC5gZwbcc17OU94Jw/z58/CemaGkpKSkpKRkrO0DlvCIU5wPcf/4fxvGB062fcAGvvGSqmF8YOsO1/GOq1QN4wNbddjFCS5SNowPbNXhMjq4TNkwPrDVN80dZrDq7zxN0jA+sPEeLmITT4bvbySG8YGNO9yt5lvqhvGBjTvsVvMsdcP4wEbvwy308YxtfKZsGB/YaA/3MI0b9fobiWF8YKMO1/CDXg6G8YG1z9J5PGCAlRwM4wNr7+ExZnGdi2F8YO0OF6o5yMUwPrB2hwfV7OdiGB9Yq8MdzOVmGB9Yq8NDTOAet7kYxgcO3WEH+9V1D1+5GMYHDv1vMeVv915xhI9cDOMDS0pKSkpKSvgFnPUiCkwgYfcAAAAASUVORK5CYII='></img>"
             },
             "type": "node"
            },
            "True: 1, pred: 1"
           ],
           "instanceArgs": {
            "namespace": "html",
            "tag": "div"
           },
           "nodeType": "DOM",
           "props": {
            "style": {
             "display": "flex",
             "flex-direction": "column"
            }
           },
           "type": "node"
          },
          {
           "children": [
            {
             "children": [],
             "instanceArgs": {
              "namespace": "html",
              "tag": "div"
             },
             "nodeType": "DOM",
             "props": {
              "setInnerHtml": "<img src='data:image/png;base64,iVBORw0KGgoAAAANSUhEUgAAAHAAAABwCAAAAADji6uXAAAABGdBTUEAALGPC/xhBQAAACBjSFJNAAB6JgAAgIQAAPoAAACA6AAAdTAAAOpgAAA6mAAAF3CculE8AAAAAmJLR0QA/4ePzL8AAAH0SURBVGje7dmxaxRBFAbwX6KdrVdYRRBR0lmoXQQrBQ9sRMEUYmEQMfYGlLQKVkpEG/8BG5EUNkIs0sTCJoIgeDYiaiFICIhisXvscNns7SKYcZivub3Hm/3m4+PNzrwhIyMjIyMjY6LrgD24izm8xjkMOoyf/NcK0yfs7OFBrAeznceDmBWmT7i7S3IPT/43hekTtvZwHmdxbCQ+U876DVZiVJg+Yeu19Bd+18x2GBvgvOIbGZXC9AlbebiM07Z6+A0/MBXEdsWmMH3CsWvpCRxS+Bd6+BAv8B0nsVDGr2IpJoXpEzbW4X6sYq9q3RzgKRaxUeZNlXk9bOIW7uNnDArTJ2z0cPQc8RIX8LUm9zruqbw+jPcxKEyfsPW+dA2X1fsHz3ARR2NTmD7hWA+HMzo+Jm+izB3mL2I2BoXpEzZ6OGfrXnQ79HFEtfe5HYvC9AkbPey3eEEP07gZxL6o38/siML0CTv12uqwgGvB/w+4hI+xKEyf8K88XFacHUO8xauYFKZP2Hi2eIcD5fOZ8vcx9gWzHf1e5j5NXHW4hDvl83OVX6Fvo72b6BSmT9hYh2H/pa7mJvFZsX5ewSdV7yYahekTju15zyjunG6o9zDfAe84Yeu7p1OKWusrejKPysHrtt+DRqEwfcKMjIyMjIwM/gC5j04wkka+LwAAAABJRU5ErkJggg=='></img>"
             },
             "type": "node"
            },
            "True: 0, pred: 0"
           ],
           "instanceArgs": {
            "namespace": "html",
            "tag": "div"
           },
           "nodeType": "DOM",
           "props": {
            "style": {
             "display": "flex",
             "flex-direction": "column"
            }
           },
           "type": "node"
          },
          {
           "children": [
            {
             "children": [],
             "instanceArgs": {
              "namespace": "html",
              "tag": "div"
             },
             "nodeType": "DOM",
             "props": {
              "setInnerHtml": "<img src='data:image/png;base64,iVBORw0KGgoAAAANSUhEUgAAAHAAAABwCAAAAADji6uXAAAABGdBTUEAALGPC/xhBQAAACBjSFJNAAB6JgAAgIQAAPoAAACA6AAAdTAAAOpgAAA6mAAAF3CculE8AAAAAmJLR0QA/4ePzL8AAAHWSURBVGje7dnPi05RHMfx12hqRFJPk5KFKSsyC2woJRtC2aCUFQt/gO2sJBsLdqztLGRnyyzsRlGUDTaWfqQQJR6LczVPuPfcujXP8e286+ncnufb99Pnfjr3nHseKpVKpVKpVP5/ZvoW7sU9LHTUHMELvOmoWbfWDuMLzvYtPIq5TM1JXMDZkhzGF+yV4SyO96h7jEvYiC+lOIwv2CvDwziAa5m6EXZhg5rhGpJdDxfxEO+xD587apdxEFvxthSH8QWz83BJejYe053fCIfwszSH8QU7MzwtrYMvsZJptCTlt4yPJTmML9iZ4RlpbbuVabKAc/iBq/heksP4gq0Zbsb+5vpmpslFzEvvhg9KcxhfsDXDOWzDnR5NdjTj8xIdxhdszfATnkr70hE+tNRtkdZNeFSiw/iCrRl+xSucwn1c/+P33dL8245x891Ynvi3tKz3w524jBP+Pmd7J2U2P9Fkk5R9UQ7jC/Y6895jdc37zd1mvC3tSel36BP/lpbzLJ3kSfP5F68nrhfxrDSH8QV7/2/RxozVyZzLbyoO4wsOznCs315mag7jCw7OcH0zfivVYXzBwRmel85Hr5TqML7g4AxXcEP+jG1qDuMLViqVSmU4vwBr3jsoVUdw/wAAAABJRU5ErkJggg=='></img>"
             },
             "type": "node"
            },
            "True: 4, pred: 4"
           ],
           "instanceArgs": {
            "namespace": "html",
            "tag": "div"
           },
           "nodeType": "DOM",
           "props": {
            "style": {
             "display": "flex",
             "flex-direction": "column"
            }
           },
           "type": "node"
          },
          {
           "children": [
            {
             "children": [],
             "instanceArgs": {
              "namespace": "html",
              "tag": "div"
             },
             "nodeType": "DOM",
             "props": {
              "setInnerHtml": "<img src='data:image/png;base64,iVBORw0KGgoAAAANSUhEUgAAAHAAAABwCAAAAADji6uXAAAABGdBTUEAALGPC/xhBQAAACBjSFJNAAB6JgAAgIQAAPoAAACA6AAAdTAAAOpgAAA6mAAAF3CculE8AAAAAmJLR0QA/4ePzL8AAAFfSURBVGje7ZgvSwRBGIcfxT/BeFGLYBNMXjnkos0g+DX8AuKXMClYBfNVLQaLCGIwGtQseCYP9TzDvuI2d2ZB5v3x/srMwu498/BjhtuFSCQSiUQiEf+ZavsDW8AA2AWOgPEf90//t6E+sFWHHeAWWLTrBeCtNEN94Eybh/v89ncKjEo01AdmdzgP7NWuT4BJiYb6wOyztAtc2fwTmCvVUB+YvQ+3a/Ozkg31gdkd9m18B/ZLNtQHZp2lPeDS5i9U/0+LNdQHZu3Dbm1+WLqhPjCrw3Ubh1Tv9UUb6gOTz9IN4MJW+ggsl26oD0zeh53aKs89GOoDkzvcsXEIHHsw1AcmnaVLwIOt8g5Y82CoD0zah73aCgdeDPWBSR3+vAc+AwdeDPWBSR1u2vgEvHox1Ac27nAWWLH5CPjwYqgPbNzhF3ANrAL3ngz1gY07HFN9254AN54M9YGRSCQSaZ9vTqsmkdnR/jAAAAAASUVORK5CYII='></img>"
             },
             "type": "node"
            },
            "True: 1, pred: 1"
           ],
           "instanceArgs": {
            "namespace": "html",
            "tag": "div"
           },
           "nodeType": "DOM",
           "props": {
            "style": {
             "display": "flex",
             "flex-direction": "column"
            }
           },
           "type": "node"
          },
          {
           "children": [
            {
             "children": [],
             "instanceArgs": {
              "namespace": "html",
              "tag": "div"
             },
             "nodeType": "DOM",
             "props": {
              "setInnerHtml": "<img src='data:image/png;base64,iVBORw0KGgoAAAANSUhEUgAAAHAAAABwCAAAAADji6uXAAAABGdBTUEAALGPC/xhBQAAACBjSFJNAAB6JgAAgIQAAPoAAACA6AAAdTAAAOpgAAA6mAAAF3CculE8AAAAAmJLR0QA/4ePzL8AAAHtSURBVGje7dlPiE5RHMbxD9lYTCIGS7ZSioXNYOVPlrIixIKUhYWUpGRtSylFbAw1KSJZWcxuNJKVP4kiJMqOeC3OnZrG3D/ulHOczrN5z33vuefb09O559zfoaioqKioqKjo/9e8Lp2GMYpxXMLrlv6LsAn38WPGvfn/2mH+wAVtHRbjmZDLB93ym8AybMDz2A7zBzZmuBQ3sAQXcKzDgKexCof9mV8Uh/kDG9+lW3Gvaq/Ap5bB1uApxnAA31JwmD+wdh4OY1fVPqRbfg+r9pjZ84viMH9gbYbnsVdY2252GGgEy3EF11NymD+wNsMBfuEdvjcMsBCncLR65mBqDvMHtu5Ld+IBvuLijHubsQUbq+tbKTrMH1i7p1mP21g5reNgloen/nuF7XiZmsP8gbXzcAJrsU7I5oSwr7k6rc81PKna49rzi+Iwf2CnOk2dVuMFJrFN+941isP8ga3rYZPOCO/Sk7rlF8Vh/sDeGe7GPuE78HPKDvMH9s5wR/V7B49Tdpg/sPd6+B5DwvlEyTAqsNc8PCLUZD76u/yiOMwf2DvDAe5W10PCGdWbFB3mD5zTvvQn9uC4cMa4P0WH+QN7rYeTwvf/VJ3mMs7hbYoO8wf2ynAEZ/FIqKF+0VwXj+owf2BRUVFR0dz1G5IZTY3KuGb8AAAAAElFTkSuQmCC'></img>"
             },
             "type": "node"
            },
            "True: 4, pred: 4"
           ],
           "instanceArgs": {
            "namespace": "html",
            "tag": "div"
           },
           "nodeType": "DOM",
           "props": {
            "style": {
             "display": "flex",
             "flex-direction": "column"
            }
           },
           "type": "node"
          },
          {
           "children": [
            {
             "children": [],
             "instanceArgs": {
              "namespace": "html",
              "tag": "div"
             },
             "nodeType": "DOM",
             "props": {
              "setInnerHtml": "<img src='data:image/png;base64,iVBORw0KGgoAAAANSUhEUgAAAHAAAABwCAAAAADji6uXAAAABGdBTUEAALGPC/xhBQAAACBjSFJNAAB6JgAAgIQAAPoAAACA6AAAdTAAAOpgAAA6mAAAF3CculE8AAAAAmJLR0QA/4ePzL8AAAHnSURBVGje7dhNiI9RFAbwn0mhGCFl4aN8LBRFycKCzX8jpdRgmGSrsLLARlFYWFCWyspHSqKsZCc1u8koC1EsFIqQEIu/xX3lL/G+M72ZO8d9Nu97T7eenvt0zrn3UFBQUFBQUFBQUDDxmDKWzf04jVXo4Ns4CPv+tcL4hFObbhzCSSyq1v14MxkUxidslIcLMYJ56FaxaziAt7krjE/YyMNzOFht7vbE30u5eR5fc1UYn7DWwyUYxUw8xCupF/7Aa6zFy1wVxies7YdrMAv3sAnTsRtHsQwLcAubNaur8Y80Pw+nSfXzbLX+gosYwNIq9kmppRNIWOvhruq7BTd74ut6/ofxMVeF8Qlr++EOXJV64SBWYxu24wPmSDV0Ix7lqDA+Ya2Hc/EEs/16L72L/biNFbiAfTkqjE/Y6G3RwXXJx670ljgs9cZTOILn1b6nuSmMT9h41taR7qPvcMzP/jcDV7AVl7A3N4XxCcc0L/0TBnEZL6S3yN/eGPGPdHJ62Cfl4E4cx4mcFMYnbMVDUv7dl2YAK/E4F4XxCVvzEA7hDG5gDz7noDA+YasezpdycbmUl6M5KIxP2KqHsBjPpLnAUA4K4xO27iHcwQas9/vsJv6R5jcvHQ8G8ECqqcXDgoKC/wDfAfoASMU830GuAAAAAElFTkSuQmCC'></img>"
             },
             "type": "node"
            },
            "True: 9, pred: 9"
           ],
           "instanceArgs": {
            "namespace": "html",
            "tag": "div"
           },
           "nodeType": "DOM",
           "props": {
            "style": {
             "display": "flex",
             "flex-direction": "column"
            }
           },
           "type": "node"
          }
         ],
         "instanceArgs": {
          "namespace": "html",
          "tag": "div"
         },
         "nodeType": "DOM",
         "props": {
          "style": {
           "display": "flex",
           "flex-direction": "row"
          }
         },
         "type": "node"
        },
        {
         "children": [
          {
           "children": [
            {
             "children": [],
             "instanceArgs": {
              "namespace": "html",
              "tag": "div"
             },
             "nodeType": "DOM",
             "props": {
              "setInnerHtml": "<img src='data:image/png;base64,iVBORw0KGgoAAAANSUhEUgAAAHAAAABwCAAAAADji6uXAAAABGdBTUEAALGPC/xhBQAAACBjSFJNAAB6JgAAgIQAAPoAAACA6AAAdTAAAOpgAAA6mAAAF3CculE8AAAAAmJLR0QA/4ePzL8AAAH4SURBVGje7dnPi09RGAbwzxg/GxvR2PhVZGNBpDSlpiyVshHFko2FHyt2FEn+ASUjiT9AKU2UopDFN0Vpshhig43FJDIzFueWS3dmvl+GOd+382xO95zu+9znPr3nvOccCgoKCgoKCnpmI8gyrKk9v8EJvMAIntfG5v1vhfEJ/8rD3diDQWyo9Y9gLRZVz71zqTA+YccersdRHMHiNgMUD/8p5nf6wiocm2b8FV7mpDA+4YwersBxPMJdfMNnjKEPw9K69xQtfKnGslEYn3DaqbAPD7EZe3G76l+HUamOeYeJnBXGJ5wyDxfiluTfBdyrjY1W7dtuUBifsDEPl+I0TuETNkrzZ1cqjE/Y6OFBXJfybKc0X3atwviEjXPpQNW2zK5/c6IwPmFjHn7AcnzFRamWaXWrwviEjR5O+rXWnMBlPJFq0dd+7gE34bH28zX+L83Dw0s42UGQj3iA/TkqjE/Y6GEvtuKmtGCubuPLJnEG53JTGJ+wsaYZxzNpTwG7sEDyaPsUgXqwLUeF8QnbOi+9X7VbJA+/4xquSHdMB3JWGJ+wozPvYZyvXjos3TcN1sbf56gwPmFHd09LMIR9v/WP4450NjA2Q4z4vzRvD2ElrkprX790dnpDWiuzVBif8I/v8Q9hB85KZwLZKoxPWFBQUFBQUMAPcuVJ1mUaeWkAAAAASUVORK5CYII='></img>"
             },
             "type": "node"
            },
            "True: 5, pred: 5"
           ],
           "instanceArgs": {
            "namespace": "html",
            "tag": "div"
           },
           "nodeType": "DOM",
           "props": {
            "style": {
             "display": "flex",
             "flex-direction": "column"
            }
           },
           "type": "node"
          },
          {
           "children": [
            {
             "children": [],
             "instanceArgs": {
              "namespace": "html",
              "tag": "div"
             },
             "nodeType": "DOM",
             "props": {
              "setInnerHtml": "<img src='data:image/png;base64,iVBORw0KGgoAAAANSUhEUgAAAHAAAABwCAAAAADji6uXAAAABGdBTUEAALGPC/xhBQAAACBjSFJNAAB6JgAAgIQAAPoAAACA6AAAdTAAAOpgAAA6mAAAF3CculE8AAAAAmJLR0QA/4ePzL8AAAIoSURBVGje7dk5aFVBFAbgL3mKCom4geLaWGjhUkgUbIJgoaCgCFpYpjAICgGDWAlJF0hrtBBRsLUTQdTCpRAsVATFQlA0xCgE3JdEixl54cEj9yXguxnmhwtz5s7h5+fnnJm5l4yMjIyMjIyMjIyMjJmjZTpJ67EMB9CJCQzhAV5Okdv6vxWmT9iQh5twHAcFD2vxGy9wDyfxswwK0yecU2TRZsG7w1gY597iLl6hF4/QgSXYi8dCbTZdYfqEU9bheaFn/qu7W3iKM/ge5+6gGxexFSNYixUYbbbC9Anr1uF8ob66BKNHcQ4D+FKzdikqOIsbWFcmhekT1vWwE6cE/94Je+DDmjUVrMFlXMfiON+CKxgrg8L0Cet6WMF4HP/CdhzChjj3DRvj8wHLJ+WOoD/mNV1h+oR198MFuIrdcdyKP/HduOBxLSZwDScwXBaF6RNOeaZZhNPYiY94jXnYIpxDJ2NIOOuMlUlh+oTTuuMT9sCjcfwJPbik2n9LozB9wkL3w1r04sikuFvou6VUmD5hw3XYhUG0xfgZtuFHWRWmT9iQhx24ifYYf8Ye3C+zwvQJG+ql+1T9+4r9GvOvKQrTJyxch+3CPXBujC/g2GxQmD5hIQ/b8BwrY/wEO1S/l5ZaYfqEhXrpLqxSveP3mJ5/TVGYPmEhD/tU/RvA7dmkMH3CQr30DVbjvfBvabhIUlkUpk9YqA4H49NnZv41RWH6hBmzH38BKKpUS7N47u4AAAAASUVORK5CYII='></img>"
             },
             "type": "node"
            },
            "True: 9, pred: 9"
           ],
           "instanceArgs": {
            "namespace": "html",
            "tag": "div"
           },
           "nodeType": "DOM",
           "props": {
            "style": {
             "display": "flex",
             "flex-direction": "column"
            }
           },
           "type": "node"
          },
          {
           "children": [
            {
             "children": [],
             "instanceArgs": {
              "namespace": "html",
              "tag": "div"
             },
             "nodeType": "DOM",
             "props": {
              "setInnerHtml": "<img src='data:image/png;base64,iVBORw0KGgoAAAANSUhEUgAAAHAAAABwCAAAAADji6uXAAAABGdBTUEAALGPC/xhBQAAACBjSFJNAAB6JgAAgIQAAPoAAACA6AAAdTAAAOpgAAA6mAAAF3CculE8AAAAAmJLR0QA/4ePzL8AAAHuSURBVGje7dlNiE5RHMfxD4ONl5Td7LCQSDGKjSaWSM1qLGSB8rKUlSRlw0ZZUcrY2GGhFBsveUsWisKCsqAUec9sNCzOLdP0PPfepzTO8+/8Nvc+zzmd3/32639O938pKioqKioqmtHL5A14gGXYii24Vo09xN0Wa8ycbsL4hq0yXICL2IRxzMG8KXPG8RP7cSknwviGrTI8g72Tfr/AB3yb9NSbq/vvUr0+zYUwvmFjhitwG4vwFjvxCl/wY9JTH8URDOAK9uBzDoTxDWc1TZgv5fcbJ6U8p2oCx6Q99hBGcN7fs/K/EsY3bKzDYdzCBexqseBrLMYYdudAGN+wsQ6PV9dHLRe8gX1YnwthfMPaDJdgEF/xrOWCN6UMsyGMb1ib4Q4px8vSe2FfEsY3rM1wu1SDp/uZML5h43n4Evf6mTC+YdcM52J2BML4hl0zHMVSfOxxwW3V9VcuhPENG/fSXjQk9cLhcC6E8Q3/WYZDOIiFuC+9J2ZBGN+wa4ZvpP51Gw1IPbZRvKvuy146barttT2X+qTDOp+Lq3AAa7C2+m8j7uREGN+wcS9djut432FsndQPJ2V8FY9zI4xvWFuHI9L3pNU1cybwCadwIkfC+IaN3y0GpTpc2WHsHJ7gbM6E8Q2LioqKioqK+AOpS0hF1w/OiAAAAABJRU5ErkJggg=='></img>"
             },
             "type": "node"
            },
            "True: 0, pred: 0"
           ],
           "instanceArgs": {
            "namespace": "html",
            "tag": "div"
           },
           "nodeType": "DOM",
           "props": {
            "style": {
             "display": "flex",
             "flex-direction": "column"
            }
           },
           "type": "node"
          },
          {
           "children": [
            {
             "children": [],
             "instanceArgs": {
              "namespace": "html",
              "tag": "div"
             },
             "nodeType": "DOM",
             "props": {
              "setInnerHtml": "<img src='data:image/png;base64,iVBORw0KGgoAAAANSUhEUgAAAHAAAABwCAAAAADji6uXAAAABGdBTUEAALGPC/xhBQAAACBjSFJNAAB6JgAAgIQAAPoAAACA6AAAdTAAAOpgAAA6mAAAF3CculE8AAAAAmJLR0QA/4ePzL8AAAItSURBVGje7dq7a1RBGAXwnyEQFAKx0izBKlhZmDQisRJBiCns/AN8BAsVK0GjhdpYqJ3iCwTBMkJEQZBYiTYKFuJjK/FVSBoFAwZZi5mFZZPdvRjI3h3mwGXundfhzGEe33DJyMjIyFgt1hWtOIDnGMND7P9Pwr61Vpg+YX+RSgO4iu2o4VUvKUyfsJCHx3EE8ziHl72kMH3CQh5ujulTq/OvKwrTJyzk4SCWBA97TmH6hB3PNBV8xgvs6kWF6RN2nIczBTvaiZH4/gYfy6IwfcKOHu6L6e0W5ddjnY1YH/N+CufYC2VQmD5h27V0A6r4iy0N+f0YxwPhvNOHH0L8OB7rfsUEPnVbYfqEbefhIWzCzYa8ihBn1NfYb7iHa/gS8+YwiWHZwzVAWw/HYlptyJvBtBDrz+Mk3ja1q7bpM/0hLZeHlabvrTgQ32/hBP60aPs6Pl1XmD5hWw8HhQ2zvmkewxDu42iHdktW9jf9IS2Xh7WGh7C/1WLaChUcxGxZFKZPWOiepo5p4aw5gdO4gYWmOrNYxOWyKEyfsKWHFcvn24IQO8zhPPZiCr9iOiOcgy5qfa+a/pCWKz58gj14LJxlfjeUTeGdsOedFdbPRVyycmzfNYXpE7b1cASPsE24L72C77FsEruxI3byAWeEuL9UCtMn7HjnPYxnGG1qVGv4votTlu+NpVCYPmGhfzGGhLV0FIeFu9O6h3fwvswK0yfMyMjIyMjIyEgB/wCNKVZFvCpwHQAAAABJRU5ErkJggg=='></img>"
             },
             "type": "node"
            },
            "True: 6, pred: 6"
           ],
           "instanceArgs": {
            "namespace": "html",
            "tag": "div"
           },
           "nodeType": "DOM",
           "props": {
            "style": {
             "display": "flex",
             "flex-direction": "column"
            }
           },
           "type": "node"
          },
          {
           "children": [
            {
             "children": [],
             "instanceArgs": {
              "namespace": "html",
              "tag": "div"
             },
             "nodeType": "DOM",
             "props": {
              "setInnerHtml": "<img src='data:image/png;base64,iVBORw0KGgoAAAANSUhEUgAAAHAAAABwCAAAAADji6uXAAAABGdBTUEAALGPC/xhBQAAACBjSFJNAAB6JgAAgIQAAPoAAACA6AAAdTAAAOpgAAA6mAAAF3CculE8AAAAAmJLR0QA/4ePzL8AAAHbSURBVGje7dmti1VBHMbxj4sbDIKgCyqIgnE1uBgMvqw2LQazK5hETJpEtrjRIoLJIigGsSgqi3CDTRDUshv0D7jBYvANwZcws9zrRTlnz4LO/TFPOTNnZvjy8DDM78yhqqqqqqqqqqqqqqpq7Vq32gX7sIDjmMAPPMAV9HEUPXz5y/qJf+0wPrB1hpM4gtvYOrT4Z27fxQ7M4kzuF+EwPnB924kzWMztPi7gc+7vzO0b+JbHi3EYH9gqw2k8yu0eLuPV0Ph2PMQmXMtzinEYH9gqw3lswRNcwruR8T3SOclgrxbjMD6w8Ty8hbP4hANYHhmfxDMcxnMcK81hfGDjPtwv1S0f/Tm/BRzKc66W6DA+sHVNM6pdOI+Lud/HmxIdxgc2ZriMvdiM10Pvp7DN4Nuihw8lOowPbDwPN+A+ThjktaKTmMMpHMSLEh3GB7b+xp+VzkbS3nyKmziHt1JN875Eh/GBq75rG9Z3aW/ek/ZjkQ7jA9dU05Dq1eslO4wP7JzhfH4+9vudTXEO4wM7ZTgt1TE038v8d4fxgZ0ynMFG6Sz8WrrD+MBOGU5J+S1J/w6Ldhgf2CnD0/l5Zxwcxgd2ynDl7mYsHMYHdspwEbvxchwcxgdWjb9+ASOVRSFBgZyBAAAAAElFTkSuQmCC'></img>"
             },
             "type": "node"
            },
            "True: 9, pred: 9"
           ],
           "instanceArgs": {
            "namespace": "html",
            "tag": "div"
           },
           "nodeType": "DOM",
           "props": {
            "style": {
             "display": "flex",
             "flex-direction": "column"
            }
           },
           "type": "node"
          },
          {
           "children": [
            {
             "children": [],
             "instanceArgs": {
              "namespace": "html",
              "tag": "div"
             },
             "nodeType": "DOM",
             "props": {
              "setInnerHtml": "<img src='data:image/png;base64,iVBORw0KGgoAAAANSUhEUgAAAHAAAABwCAAAAADji6uXAAAABGdBTUEAALGPC/xhBQAAACBjSFJNAAB6JgAAgIQAAPoAAACA6AAAdTAAAOpgAAA6mAAAF3CculE8AAAAAmJLR0QA/4ePzL8AAAIJSURBVGje7dpPiE5RGAbwn8lsbDTGwizUt2IxiPFnSdkgpWzEgoWF1ewkUqLZyGLCRmIjUzMLbERZSCEbC2WBlTQbomSjCH1jce40t4l7z4em43SezT333HPO03Of3vd033MpKCgoKCgoKPj/sajXCQPYgJ04hi5uYhrjeN8yv2+hFeZPGO1hP45iFCtqk2dqY67jcGoK8yeM9nAUF+b1PcLWeX2LU1OYP2GUh8N4gMFa3wlcxJiQU2dRPEzPw2GcxW4hb05jD14Je2G/sD/exnK8xLqUFOZP2BY2RgT/+vANl/Ci9vw7nuKasF+uxRUcSUVh/oStcTiJfdXA+9jRMPY51lTXkVQU5k/YGIeD2FK7n2hZbALnUlOYP2GjhxvRqdqPcTdy0QEM4V0KCvMnbPRwU619Gp8iF10p5NTi4YKg0cMl5jbMhz0o6KakMH/C1jiciVxoFt2WOfm/0rQ8/FN8xsdUFOZP+E89PFRdz+BZKgrzJ2z8PlyPe0L9Jaae/bZS0MHXVBTmT9j6jX9QqMF8Eerbv4uvq4LHN7A/JYX5E7bm0ieYwgFs82sPt2MvPgg18KQU5k8YdW7REc4tlgn10pNV/ypsxvnq2TiOp6Ywf8Lo88MhXBZi8U3VHjN3HnVHqHm/Tk1h/oQ9/YuxFKtxCruEuINbQo79kaLC/AkLCgoKCv4ePwGmEEqxUZD0FAAAAABJRU5ErkJggg=='></img>"
             },
             "type": "node"
            },
            "True: 0, pred: 0"
           ],
           "instanceArgs": {
            "namespace": "html",
            "tag": "div"
           },
           "nodeType": "DOM",
           "props": {
            "style": {
             "display": "flex",
             "flex-direction": "column"
            }
           },
           "type": "node"
          },
          {
           "children": [
            {
             "children": [],
             "instanceArgs": {
              "namespace": "html",
              "tag": "div"
             },
             "nodeType": "DOM",
             "props": {
              "setInnerHtml": "<img src='data:image/png;base64,iVBORw0KGgoAAAANSUhEUgAAAHAAAABwCAAAAADji6uXAAAABGdBTUEAALGPC/xhBQAAACBjSFJNAAB6JgAAgIQAAPoAAACA6AAAdTAAAOpgAAA6mAAAF3CculE8AAAAAmJLR0QA/4ePzL8AAADCSURBVGje7ZldCoMwEAanpfdqPJntyerN2hdB7EvZDTRhmQFRH9bhM2j+QERERC6ZogewAhuwBGuv/05YX3jLFN33c9uPbeaE9YWpNmxf19vMCesLU//Sd8cD6r9ShQrDdI1pAJ77/bQJ6wtT/eGaKRqVUKFChQoVKvyNcwuFChUqVKgw2R++ONZMneMrVNhNeJ2mcd63mD5hfWG4DXvW2YYkrC8MtWHj/A0uxPYOhySsL0yteUfHMUMT1heKiIgIfAAlcA9p9hj9FQAAAABJRU5ErkJggg=='></img>"
             },
             "type": "node"
            },
            "True: 1, pred: 1"
           ],
           "instanceArgs": {
            "namespace": "html",
            "tag": "div"
           },
           "nodeType": "DOM",
           "props": {
            "style": {
             "display": "flex",
             "flex-direction": "column"
            }
           },
           "type": "node"
          },
          {
           "children": [
            {
             "children": [],
             "instanceArgs": {
              "namespace": "html",
              "tag": "div"
             },
             "nodeType": "DOM",
             "props": {
              "setInnerHtml": "<img src='data:image/png;base64,iVBORw0KGgoAAAANSUhEUgAAAHAAAABwCAAAAADji6uXAAAABGdBTUEAALGPC/xhBQAAACBjSFJNAAB6JgAAgIQAAPoAAACA6AAAdTAAAOpgAAA6mAAAF3CculE8AAAAAmJLR0QA/4ePzL8AAAHSSURBVGje7dmtb1RBFAXw35I6JF3blW1t+XALkuBgkzqQVOD4GyBgaFINluBoNSgaUCRgtxrLw4IDxH1N29Dt201Kd/Zmjpls5u07OXNy5t25Q0VFRUVFRUVv1j9cxT2MsNq+4A++Yozn7TgJly5aYX7CTg+3sIZh+3tDeHbo3Svs4X2pCvMTdnr4W3j1S+TrIw7QYHcRFOYnXOp6YBd3hX/XF1FhfsLOHPbxGZdxDd8WTWF+ws4cfhffvCdYVj0skLDTQyKsPaw7GdwxfpauMD/h1HvpipP1aE/Uo2/MVtvkX9KyPOxjX5wDD89/n9q5h2JvHQhPb5gul/mXtCwPh/ggcrZ5yvwy7ou6dSg83FTP+BeMmfs0k7AlsjnAHXwpRWF+wnPzkMjlPq7gkdO/k/mXdLE9hJvYFnl8hp15K8xPeO4ecpTHVf8eXvIvaZnnw1nRiPp1rQSF+Qn/i4frjnqsc1eYn7DTw8ei3/Z6yhcO8FT0V2+VoDA/4ZkejvACL032sC/uhLXjhvD8gbijmrvC/IRn1jQjvBV3iD/EWaEnvnON2C+P997GeCfq0aYUhfkJO+vS28IrImd94VVzbNxr5w/UXtscCCsqKioqKir4C+MSTd6JU7siAAAAAElFTkSuQmCC'></img>"
             },
             "type": "node"
            },
            "True: 5, pred: 5"
           ],
           "instanceArgs": {
            "namespace": "html",
            "tag": "div"
           },
           "nodeType": "DOM",
           "props": {
            "style": {
             "display": "flex",
             "flex-direction": "column"
            }
           },
           "type": "node"
          }
         ],
         "instanceArgs": {
          "namespace": "html",
          "tag": "div"
         },
         "nodeType": "DOM",
         "props": {
          "style": {
           "display": "flex",
           "flex-direction": "row"
          }
         },
         "type": "node"
        },
        {
         "children": [
          {
           "children": [
            {
             "children": [],
             "instanceArgs": {
              "namespace": "html",
              "tag": "div"
             },
             "nodeType": "DOM",
             "props": {
              "setInnerHtml": "<img src='data:image/png;base64,iVBORw0KGgoAAAANSUhEUgAAAHAAAABwCAAAAADji6uXAAAABGdBTUEAALGPC/xhBQAAACBjSFJNAAB6JgAAgIQAAPoAAACA6AAAdTAAAOpgAAA6mAAAF3CculE8AAAAAmJLR0QA/4ePzL8AAAIGSURBVGje7dnPi05RGAfwDzOjiCQUGsLIwmISslOyYMXCO4qFlYV/wM4f4MfWXlMWiqgpKQsbUWNjorCwwCRL+VWTeUcsnjs14d73nXcx73E638197rnnnu/99u055zznUlBQUFBQUFBQUNB/LFtM58M4iRa24Blu4/Iixli+1ArzJ+zKw024i4PVCx8wg/VYh7O4marC/Ak7ergBD7AX0ziPp/iCrZjAO4zhFKbwBr9SUZg/YUcPr+ACPmIEs388H8EP4fFE1bZa5GkSCvMnbPTwNG7gM3bge02/PXiMtcLHlpKHS4jBpoej1Re9VO8fsT7O45t6//qiMH/CRg9HquvVDoMcw8oqvpWawvwJa+fSVWIOHcA+PK/pt0Lk6U6Rq6N4n5LC/Akb83Cgw8tDOCL8g+ua/euLwvwJaz2cEzXDdhz1dx5uFnXhpQVt4ykqzJ+wcV86jFeiVniIO2IPugaHRO3fFvvRaTHnfkpNYf6EHevDE7iIA9V9G2/xRJzN3BNr4jjOpagwf8KuztqGsL+KZ8U5KezG6yo+jvspKsyfcLCbTm1M/qN9eEE82c1A/VCYP2FXHtah9T8ozJ+wZw+34UwVP8LXVBXmT9izh7vEfpQ4I51LVWH+hD17uLG6zuBaygrzJ+zZw/m18AV+pqwwf8KePRwT/yemUleYP2FBQUH/8RtFRUunTf0LBAAAAABJRU5ErkJggg=='></img>"
             },
             "type": "node"
            },
            "True: 9, pred: 9"
           ],
           "instanceArgs": {
            "namespace": "html",
            "tag": "div"
           },
           "nodeType": "DOM",
           "props": {
            "style": {
             "display": "flex",
             "flex-direction": "column"
            }
           },
           "type": "node"
          },
          {
           "children": [
            {
             "children": [],
             "instanceArgs": {
              "namespace": "html",
              "tag": "div"
             },
             "nodeType": "DOM",
             "props": {
              "setInnerHtml": "<img src='data:image/png;base64,iVBORw0KGgoAAAANSUhEUgAAAHAAAABwCAAAAADji6uXAAAABGdBTUEAALGPC/xhBQAAACBjSFJNAAB6JgAAgIQAAPoAAACA6AAAdTAAAOpgAAA6mAAAF3CculE8AAAAAmJLR0QA/4ePzL8AAAHWSURBVGje7dnPi41RHMfx10ymSESxsphoKAsLUWo2SmwUNpJJMWVjbWWDjRU2FpSs7ZTyL7CxGCWRHzXMSFkoGflRI1mcZ7qX8eM+97l5znw7n81zOs89592nz/2cp3sfioqKioqKioqKioqKmmvo14n9uI2RrrkvuFONZ3AFu/AO92oCh/+3w/jARRmewrV/LJqXMv6O+7iFJ3iFZ7k5jA9clOEIjmMMs9XcChzs+sxWrP/NZl9xCedzchgfONTPom3YV40nsKPr3hxG8SEXh/GBfWXYreXYgDM4Wc1dwLlcHMYHNs5wQWN4jo/YjulcHMYHLhvURoeq6yocxsVcHMYHDqSHm/AQK6Xn4Ua8z8VhfOBAenhAyg9u+HN+rTiMD2zcw814IGX4GTvxNCeH8YGNerhO+j240MGz/p5fKw7jAxv18DJOV+NpbJH+u8nKYXxg3xkexc1qg08Yx6McHcYH9nWW7sZ1nS/ApN7ya8VhfGDtHq7Ba51n4FXpPJ3P1WF8YK0eDuOETn5T6uXXisP4wFo9HPfz+8Ij0nunrB3GB/ac4Wq8xNpq0V3swbfcHcYH9nyW7pXyI+U3oX5+rTiMD+w5w8d4ixc4hjdLxWF8YNHS1w8KeT20pDD28wAAAABJRU5ErkJggg=='></img>"
             },
             "type": "node"
            },
            "True: 7, pred: 7"
           ],
           "instanceArgs": {
            "namespace": "html",
            "tag": "div"
           },
           "nodeType": "DOM",
           "props": {
            "style": {
             "display": "flex",
             "flex-direction": "column"
            }
           },
           "type": "node"
          },
          {
           "children": [
            {
             "children": [],
             "instanceArgs": {
              "namespace": "html",
              "tag": "div"
             },
             "nodeType": "DOM",
             "props": {
              "setInnerHtml": "<img src='data:image/png;base64,iVBORw0KGgoAAAANSUhEUgAAAHAAAABwCAAAAADji6uXAAAABGdBTUEAALGPC/xhBQAAACBjSFJNAAB6JgAAgIQAAPoAAACA6AAAdTAAAOpgAAA6mAAAF3CculE8AAAAAmJLR0QA/4ePzL8AAAJMSURBVGje7dg/bE1RHAfwD+pPpJUQSUti0TDRiUgajdTkTxhFu/iTdmDpJAwWEqEmAxGEwdCGQRgklAFDDVQQjTCJCQmJSIigNZz70pfnPq9NxLs9Od/lvt+559zv+57v/Z37O4eEhISEhISEGdVuNGIZ9mXxJTz9B4Qz/7fC+AlzPWzEARwua/uFK+jDp+mkMH7CXA+P4VCVAe+wB0PTRWH8hA15jW+y6zjOYBSzcRQtuIF+nMTXoiuMnzA3D29iE66iq6y9A9ewKIsHsBc/iqwwfsJcD8cxhjYhB8vRjuNYn8WD2I2fRVUYP2Guh3ewEa0m1tVyrBNydWEWdwk5W0iF8RPmfg9fCh6W0INunCtrG8T+7PeKIiuMnzDXw8fZtQ3zcFqoaTZUeUgPXgn5+7loCuMnzF1LF2A7rqMZI2iaxMO+oVeoW6vVq/FPaTE8rMRW7BDq0S2T6P9CWHtHc+7FP6XF9LCEWSbysVmoXz9k8RFhnzE/i+/ioD/P5+Kf0mJ6uBgrMVyjXzvOYlUWD2FzvRXGT1jTw204haXYKXzr/oYmPMFyfMnG3KqnwvgJa3rYjYuYI6ydHXhYY8xaIWdn4gE666kwfsKGWh0GhBzsFwyfzD9sM/FyPK+3wvgJa3oI54Xz005cxn2cwOuKfn3CXrFV9QSPf0qLt5aW0IhnWIK5wnnqWEWfyhfikbAv+VhPhfETTmlvAbuEOmW14GcehnEbF/C+3grjJ5yyhyW0CDVoL+5hjbC2juAtvhdFYfyECQkJCQkJCfwGdW9W0wLt/nsAAAAASUVORK5CYII='></img>"
             },
             "type": "node"
            },
            "True: 3, pred: 3"
           ],
           "instanceArgs": {
            "namespace": "html",
            "tag": "div"
           },
           "nodeType": "DOM",
           "props": {
            "style": {
             "display": "flex",
             "flex-direction": "column"
            }
           },
           "type": "node"
          },
          {
           "children": [
            {
             "children": [],
             "instanceArgs": {
              "namespace": "html",
              "tag": "div"
             },
             "nodeType": "DOM",
             "props": {
              "setInnerHtml": "<img src='data:image/png;base64,iVBORw0KGgoAAAANSUhEUgAAAHAAAABwCAAAAADji6uXAAAABGdBTUEAALGPC/xhBQAAACBjSFJNAAB6JgAAgIQAAPoAAACA6AAAdTAAAOpgAAA6mAAAF3CculE8AAAAAmJLR0QA/4ePzL8AAAGeSURBVGje7dg/axRRFIbxn6IkKiEJiiixFCV2KQRRsUiaFOkt7RQC+Rqp8hFsDATEVsSAhaKdhaCCtirYWEQRg38Iq8WMkITdmYVZ5Hi4b3PZvYd99uFll7mXkpKSkpKSkpL/PwdG9UF3cR8bLXMH/7VhfuChUX3rebyJaJgfOJIO53AiqmF+4FAdnsMaVvC+Ye51RMP8wKE6vIQl3NG/w7P1+jGiYX7gUB3O1+ugjm7iC15ENMwPbO1wAgu4h+cDZg6jh52IhvmBrR1ewIyqv16f/SnM4lFUw/zA1g6v1uuTAfvXcRxPoxrmBzZ2OIZlbOE0buMUjuJaPfP3kuBIVMP8wMZ7mkl83vW6h7d4t+u9BYzjJ25hPZphfmBjh+N4iZNYVZ0tPu2b+YAz+KY6H16JZpgf2Phf+gMX66GtPvszmFb1fAPfIxrmB7Y+03xt2FvEMTzAq6iG+YGd7kun6/VxZMP8wJHcef+KbFiABRgf2Ol3eFn1YHsez6Ia5gd26nACv+09Q4YzzA/s1OEmtvEwsmF+YElJSUlJ9/wBQP0zQPmrB6QAAAAASUVORK5CYII='></img>"
             },
             "type": "node"
            },
            "True: 4, pred: 4"
           ],
           "instanceArgs": {
            "namespace": "html",
            "tag": "div"
           },
           "nodeType": "DOM",
           "props": {
            "style": {
             "display": "flex",
             "flex-direction": "column"
            }
           },
           "type": "node"
          },
          {
           "children": [
            {
             "children": [],
             "instanceArgs": {
              "namespace": "html",
              "tag": "div"
             },
             "nodeType": "DOM",
             "props": {
              "setInnerHtml": "<img src='data:image/png;base64,iVBORw0KGgoAAAANSUhEUgAAAHAAAABwCAAAAADji6uXAAAABGdBTUEAALGPC/xhBQAAACBjSFJNAAB6JgAAgIQAAPoAAACA6AAAdTAAAOpgAAA6mAAAF3CculE8AAAAAmJLR0QA/4ePzL8AAAH4SURBVGje7dnNq01RHMbxzz3IwEtSoqRbCikmQqg7IyUl/wATLwNvY6VEGZhgwEjexoZiYiIp3Ykk5W0gFAYi3BKum8FvD06n0z37HGWvs1rPaO211+7Z3572b+3f3hQVFRUVFRUVFRU1r5F/uXgUR7ABh/C0xjWt/02Yv+FAGa7EYezB/GruPXZiGd7gSSqE+Rv2lWELq3EXS7qc/455eIgxTKVAmL9h7QwXibp5om3uq8is866/YDEmUyDM33Bm3YVnsK8a/8YxvMZJbGpb9wm7dM+vEcL8DXtm2MJNkcuU2Of2YxsuYFXH+keiliZDmL9hzwyPYnc1foGzeIDZXda+wsHUCPM3nHY/nIW3Ym/r1GdcxFZsqeaOi4yTIszfcNoMZ+A+NlfHP/ATl3BO9BHj4pkcx3Z8S40wf8Oe76ULRN83icd4Xs3PxQ1RZyewHi9TJMzfcODvNHtxrRpfEe85SRLmbzhQhgtxD2vwDivwK1XC/A1r94ftuiXyg9Pq59cIYf6GfWe4HGur8W1cT50wf8O+aulS0RuOiho6JnqPpAnzN+zrOVwn8hvBVf3n1whh/oa1M9woegmiR7wzLIT5G9bKcA5OiV6R+C8xMSyE+RvWyvCA+AYDH7EDz4aFMH/DWhn+Ef8Kz+MyPgwTYf6GRUVFzesv8Z9JRjuIuiYAAAAASUVORK5CYII='></img>"
             },
             "type": "node"
            },
            "True: 9, pred: 9"
           ],
           "instanceArgs": {
            "namespace": "html",
            "tag": "div"
           },
           "nodeType": "DOM",
           "props": {
            "style": {
             "display": "flex",
             "flex-direction": "column"
            }
           },
           "type": "node"
          },
          {
           "children": [
            {
             "children": [],
             "instanceArgs": {
              "namespace": "html",
              "tag": "div"
             },
             "nodeType": "DOM",
             "props": {
              "setInnerHtml": "<img src='data:image/png;base64,iVBORw0KGgoAAAANSUhEUgAAAHAAAABwCAAAAADji6uXAAAABGdBTUEAALGPC/xhBQAAACBjSFJNAAB6JgAAgIQAAPoAAACA6AAAdTAAAOpgAAA6mAAAF3CculE8AAAAAmJLR0QA/4ePzL8AAAHbSURBVGje7do/qE9hHMfx172RweJP+bOwMFwZ3FsGCyXLXZSyKIyMNmWxWBSLSCZiEwN1i8JyU0wGiyy37sLgmn5FhJ/he25Xt9Rz3HKf37fns5xTz3l6n8/59H16/hyampqamlaqsb4dJnEJ0/iKg3jTo//4/3aYH9g7w6c40t0v4DlO1uwwP3BNn4cPY6q7v4rb2FS7w/zA4jrcjPfYgBkcx49RcJgfWFyHB0R+cNm/5bcqDvMDizM8JIr2EV6PksP8wKIMt4h56BC3Rs1hfmBRhqcxgQE+j5rD/MCiDCe665x+a8EqHOYHFmU43V1XOo6uisP8wKIMx7o3O4pd2CNyHccvzIu9m3v4WZvD/MCi9eEHbBVzmj/1ztI4CxdwpTaH+YG9Mhzglai3BcyK/dIzONY9ewIPanKYH1g0lt7FedzH2WVtz8R6cS92Y2dtDvMDizJcXE/s/0v7AC9FhtU5zA8syvBL92ZrsQ7flrVPivlOycCc/5PWmeFNUYOncB3nxNkh7MANsSc+xKfaHOYHFp9bbMRbbBdnTg+xXmS6DR9xBxdrc5gf2OsMeAqPRY6LnYd4IdYVJXs4+T9p3RnCPkv/YsziCa7he60O8wObmpqampqamjLoN9EBQkkJB/XYAAAAAElFTkSuQmCC'></img>"
             },
             "type": "node"
            },
            "True: 6, pred: 6"
           ],
           "instanceArgs": {
            "namespace": "html",
            "tag": "div"
           },
           "nodeType": "DOM",
           "props": {
            "style": {
             "display": "flex",
             "flex-direction": "column"
            }
           },
           "type": "node"
          },
          {
           "children": [
            {
             "children": [],
             "instanceArgs": {
              "namespace": "html",
              "tag": "div"
             },
             "nodeType": "DOM",
             "props": {
              "setInnerHtml": "<img src='data:image/png;base64,iVBORw0KGgoAAAANSUhEUgAAAHAAAABwCAAAAADji6uXAAAABGdBTUEAALGPC/xhBQAAACBjSFJNAAB6JgAAgIQAAPoAAACA6AAAdTAAAOpgAAA6mAAAF3CculE8AAAAAmJLR0QA/4ePzL8AAAGZSURBVGje7ZnhTcMwEIU/EGMQ1kCBNaCskTZrQJmjLXOQskbDIPw4WzGhiaMENc7pnlQ5cq99evd0yp0NBoPBYJiKqyFBG+ANeACqiYTXl1aon/BmSFCxZIX6CaMeZu5TMr0GZ1GonzDq4bNbv5eqUD9h1MMnt/5HDc6iUD9hb0+TASegBu6WqlA/YW8dFm499MTkiNcA98AH/TWrP6Vpeei9+er4Pgd2QRzIHNI3g+hPaVoexrCm8c/3rTuaWTIJhfoJR3uY0/SsL8DePR+D/SQU6icc7eHaraF/IVYd+/pTmpaHtVtvW/sZUmsV531KSqF+wkGzRTtwj3hYAtvWbz4Rz7tmEf0pTa8OK+Tdt+GvX+2zm5WLLVNSqJ8wem+xQnpNkDnxHak1kFqrg7hX9/wY7M+uUD/h4Lungt9zIEg/A3Ie53vR2P2U/pSm6SGIfwXi5zlUiKd15H/0pzRdD0OcaGpyi5zjDO1P9ac0rZ6mCweaevT3i77/SU6hfsJRHvq+078Djwy/X9Sf0osTGgwGg8FgMGjAD/QCN9U4nfzGAAAAAElFTkSuQmCC'></img>"
             },
             "type": "node"
            },
            "True: 6, pred: 6"
           ],
           "instanceArgs": {
            "namespace": "html",
            "tag": "div"
           },
           "nodeType": "DOM",
           "props": {
            "style": {
             "display": "flex",
             "flex-direction": "column"
            }
           },
           "type": "node"
          },
          {
           "children": [
            {
             "children": [],
             "instanceArgs": {
              "namespace": "html",
              "tag": "div"
             },
             "nodeType": "DOM",
             "props": {
              "setInnerHtml": "<img src='data:image/png;base64,iVBORw0KGgoAAAANSUhEUgAAAHAAAABwCAAAAADji6uXAAAABGdBTUEAALGPC/xhBQAAACBjSFJNAAB6JgAAgIQAAPoAAACA6AAAdTAAAOpgAAA6mAAAF3CculE8AAAAAmJLR0QA/4ePzL8AAAHxSURBVGje7dlNqE1RFAfwn4+erhADgzfwUXoGQjIyM/LKVynJXAbCCEN5AwZ6iWL85spEScnYKzz1UgY+npJSZCQDn2GwjjrFfffce+Puu9v/yT27s+/591//1jp7rUNBQUFBQUFBwfBjQb8P2IWDOIRVtYf+xA/swKPa/oX/W2H+hIt7+dNh7MdurBSezWEKD/AEp3FU+Fs8/KfoysNJnMQS4dtz3MUVzOJbbe9DjOHsoBXmT9hVLX2H1biBS3iMr232bsAbfB60wvwJu8rDaRzAbcx02PsyFYX5EzbOw42iXr7FNnwcFoX5EzbOw2No4Y7e/RuIwvwJG3vYqn5fDJvC/Akb19LXoo/YilfDpDB/wkZ5uAwr8Ky63ly7N+fPs2dSCvMnbJSH4+I9+DfM4iJuaeZl/iFN08MxXMMHkXewBtuxqVpfxxGdfcw/pGl62A4t4eE5MXubwPnUFOZP2NO89Dc+iX5xfbV+n6LC/An7ysOduIotuIe9OveO+Yc07TwcEfPRpaJunqiu7+OUZr1//iFNMw+XY4+YY49iH9bhiziTXtZ8dpN/SNPycJH4DngBT8XMdER8253BcdFbJK0wf8J5PZzEmdr6u/BsQvt+MTmF+RPO+z6cFn3gWnF2uSnq51ApzJ+woKCgoKB//AIEpErJGccL9wAAAABJRU5ErkJggg=='></img>"
             },
             "type": "node"
            },
            "True: 5, pred: 5"
           ],
           "instanceArgs": {
            "namespace": "html",
            "tag": "div"
           },
           "nodeType": "DOM",
           "props": {
            "style": {
             "display": "flex",
             "flex-direction": "column"
            }
           },
           "type": "node"
          }
         ],
         "instanceArgs": {
          "namespace": "html",
          "tag": "div"
         },
         "nodeType": "DOM",
         "props": {
          "style": {
           "display": "flex",
           "flex-direction": "row"
          }
         },
         "type": "node"
        },
        {
         "children": [
          {
           "children": [
            {
             "children": [],
             "instanceArgs": {
              "namespace": "html",
              "tag": "div"
             },
             "nodeType": "DOM",
             "props": {
              "setInnerHtml": "<img src='data:image/png;base64,iVBORw0KGgoAAAANSUhEUgAAAHAAAABwCAAAAADji6uXAAAABGdBTUEAALGPC/xhBQAAACBjSFJNAAB6JgAAgIQAAPoAAACA6AAAdTAAAOpgAAA6mAAAF3CculE8AAAAAmJLR0QA/4ePzL8AAAHISURBVGje7dm/S1ZRHMfxV2oQgtCSBIVYELUoKNTS1tqggtTc0uA/0BK0RUMQLYGuYlPRVNAUQTWpf4BiQ0EN/SAhIlGq4TyDPHl97sONnuOX81nu5Zxzed8Pn3vOPT8oKioqKioqKjr4OtRN49e4gVcNgH3/22F84EDdhpMYx9eD5jA+sFaGfbiDLXxqq7uNFTzO1WF8YK0Mr+CE1A/bM9zGVSXDHgJrZXgOi/iwR90apnN2GB/YMcNRzEljZpVOYQTvcnQYH9gxw1l8x1JF/VTrrU8qGfYIuG+GI7iJu/7+D5LG2Cncx5tcHcYHVmbYj2vSAvJBRZuP+IKdnB3GB1ZmOIRbeKp6TbiJF7k7jA+szHALL3FBWhtu4Ak+t7VbxnXM7yp7j1+5OIwP3Hev7QhmcBaXcBw/dz34G0el+Qys4hHuSd9AFg7jA7vaLx3EYQzjfKtsDmOYkPrfdm4O4wNr75fCj9Z1E+ut+8s4I/0zO+XXE4fxgV1lWKWH+Jarw/jAxhk+k9Yg2TqMD/wn/XAMp/E2R4fxgY0zfI5j0rlGybAnwK7mpXtpQDo/HJTmNtk5jA9s3A93sICLuTqMDywqKioqaq4/Kwg+/KK0454AAAAASUVORK5CYII='></img>"
             },
             "type": "node"
            },
            "True: 4, pred: 4"
           ],
           "instanceArgs": {
            "namespace": "html",
            "tag": "div"
           },
           "nodeType": "DOM",
           "props": {
            "style": {
             "display": "flex",
             "flex-direction": "column"
            }
           },
           "type": "node"
          },
          {
           "children": [
            {
             "children": [],
             "instanceArgs": {
              "namespace": "html",
              "tag": "div"
             },
             "nodeType": "DOM",
             "props": {
              "setInnerHtml": "<img src='data:image/png;base64,iVBORw0KGgoAAAANSUhEUgAAAHAAAABwCAAAAADji6uXAAAABGdBTUEAALGPC/xhBQAAACBjSFJNAAB6JgAAgIQAAPoAAACA6AAAdTAAAOpgAAA6mAAAF3CculE8AAAAAmJLR0QA/4ePzL8AAAIvSURBVGje7dnNi05RHAfwzyA1jTI2YmnhJUPJy0JSrFhQVt4GCyxESmQ95Q9Q2CgLwmIkJLGZvCwUiYUiKbFAzWYW3lLGzFicq56Zzr3zzIjnOp3v6p5z7vl9+z7ffr/n3N8hIyMjIyMjo20ym6ZiM47hNAYb1u7hc8XeKf9aYfqEk/KwHV9L1s7hQJ0Upk/YlIcdWIEfeKzaw2EhDzfhUR0Upk84rZmXTuCI4Nte3MRl7CpR0CnU21ooTJ+w0sMOwb9DxXgG1uEaerEMXeLJfBZL6qAwfcLKWnoGB8fMPUE33hbjC9iNU1iJNcX8d+zArVYrTJ8w6mE7enBUvCZuRF/xPBPz8RyzcV3wEs5jf6sVpk8YraUbcLxkwwt8aBh/wtPi+aOQo6+L8SLMw7tWKkyfMOrh9JKXB7AdryoCNu5djaWyh38ZUQ97MRKZ71PtH1ypm8L0CZv6toAbOPw/KkyfMHqmGTY6D19iOX6WBFks5OgsoZb+DnpRONMMtVJh+oRN5eGIuH/7BG/XYs6YtW+Ch0Nj5tP/SevhYZvRediOVQ3jHuH7vrNYi6Eb9+ugMH3CaC29hJ1/EPSh0Id7XweF6RNGPdwi9NMmigHh3LoN/XVRmD5htJa+Ec4xXRMI1I89uFs3hekTlvZLFwj3uXPHCTCIL9gq/v/XcoXpE1b2vBfiqvJ8fIDbOFlnhekTjnsH3IX1wr0E3BHu6uGZ0COttcL0CTMyMjIyMjL4BX3VVcS5xfToAAAAAElFTkSuQmCC'></img>"
             },
             "type": "node"
            },
            "True: 0, pred: 0"
           ],
           "instanceArgs": {
            "namespace": "html",
            "tag": "div"
           },
           "nodeType": "DOM",
           "props": {
            "style": {
             "display": "flex",
             "flex-direction": "column"
            }
           },
           "type": "node"
          },
          {
           "children": [
            {
             "children": [],
             "instanceArgs": {
              "namespace": "html",
              "tag": "div"
             },
             "nodeType": "DOM",
             "props": {
              "setInnerHtml": "<img src='data:image/png;base64,iVBORw0KGgoAAAANSUhEUgAAAHAAAABwCAAAAADji6uXAAAABGdBTUEAALGPC/xhBQAAACBjSFJNAAB6JgAAgIQAAPoAAACA6AAAdTAAAOpgAAA6mAAAF3CculE8AAAAAmJLR0QA/4ePzL8AAAGMSURBVGje7Zk9SwNBEIafhFSx1MMurV5ragX/QZJaO3vBTsHOj/9gqmAfe0tJZZE21rZqqXbGYhY8iEfO7OEOw7ywJOHu9snLy8ztsuByuVwul8vlcrlcLhc0yi5kwEvh9xrQD6MXHpwXPveBhwrA5n87tA9slV04BU6QLPvAMbAFvAE3wGu47wzJsIdnmAj4ax3eAu/h+x6wDkyBOyS/oi6QvJtAN9ynyqF94EKGA2AEtJH6ugaGwHPJBG3gEciBK+Bcm0P7wIVemgNPSG5jfnpmmT6Az/DPNzQ6tA9cyPAyjL9oBuxodWgf2IqfAibAgVaH9oG1ZAjy7lTp0D6wlgx3kcXRRKND+8BaMtxG6nCm0aF9YG29dMryvWESh/aB0RlmyJ5iqNWhfWB0hl2gw/J9ZDKH9oHRGY6oviZN4tA+sBE7wRdyvrGp1aF9YFQd5kgNjjU7tA+MynCAFHLV9UwSh/aBK2eYAUdIH626nkni0D5w5Qw7YdxTfi6lwqF9YFQvnQOH2h3aB34D1XM0kuGMyWYAAAAASUVORK5CYII='></img>"
             },
             "type": "node"
            },
            "True: 7, pred: 7"
           ],
           "instanceArgs": {
            "namespace": "html",
            "tag": "div"
           },
           "nodeType": "DOM",
           "props": {
            "style": {
             "display": "flex",
             "flex-direction": "column"
            }
           },
           "type": "node"
          },
          {
           "children": [
            {
             "children": [],
             "instanceArgs": {
              "namespace": "html",
              "tag": "div"
             },
             "nodeType": "DOM",
             "props": {
              "setInnerHtml": "<img src='data:image/png;base64,iVBORw0KGgoAAAANSUhEUgAAAHAAAABwCAAAAADji6uXAAAABGdBTUEAALGPC/xhBQAAACBjSFJNAAB6JgAAgIQAAPoAAACA6AAAdTAAAOpgAAA6mAAAF3CculE8AAAAAmJLR0QA/4ePzL8AAAHESURBVGje7dixThZBFAXgD2MiDRoSEbUSeQKhpcLaEAOtHRQ+gBY+g7bWRDqj0YLGaK0V0YpCI8bGmBBCaYnFTAKSf91/2cQdb+Ykm7kzc3fPnj3Z3ZlLRUVFRUVFRcX/j4muJ3zFUzw5I+G5f60wPuH5LsmLmMvHaVzBJ2ziUUkK4xN28vBBbr813PksFkpTGJ9wbA8XsZzjvRHzt0tVGJ9wLA+n8ByX8QyvRuQsSD/XD6UpjE84locbuIEjvGjIWc7zey3Xiv9Iy/PwEh7m+D62W/Lb5uM/0vI83MUMdvCyIeem47XqYWkK4xM2engBW7iW++s4aMidwsVSFcYnbPRwGqs5PsI7vMHjPLaPHzlezTlFKoxP2FinmcF3TPrTn4nc38d76Tt6NedvY6U0hfEJ/1prW8Mdad8wmcfmjfb0F+7ibWkK4xN2rpfew60cf5Q8XsNPXC9RYXzCTrU20jpn60R/SXoP29ajgymMT9jZw9OYzm3bvnAwhfEJe3vYVuMeXGF8wl4eLjle47TVSQdTGJ+wl4dzkn/j1EkHUxifsJeHu7n9jC+lKoxP2MvDHal+81raHxapMD5hRUVFRUV//AaDfjuzrf9WlQAAAABJRU5ErkJggg=='></img>"
             },
             "type": "node"
            },
            "True: 4, pred: 4"
           ],
           "instanceArgs": {
            "namespace": "html",
            "tag": "div"
           },
           "nodeType": "DOM",
           "props": {
            "style": {
             "display": "flex",
             "flex-direction": "column"
            }
           },
           "type": "node"
          },
          {
           "children": [
            {
             "children": [],
             "instanceArgs": {
              "namespace": "html",
              "tag": "div"
             },
             "nodeType": "DOM",
             "props": {
              "setInnerHtml": "<img src='data:image/png;base64,iVBORw0KGgoAAAANSUhEUgAAAHAAAABwCAAAAADji6uXAAAABGdBTUEAALGPC/xhBQAAACBjSFJNAAB6JgAAgIQAAPoAAACA6AAAdTAAAOpgAAA6mAAAF3CculE8AAAAAmJLR0QA/4ePzL8AAAH/SURBVGje7dpNqIxRHMfxj9tcdq63EmNBkkiytGCDhVgoZau7UBYosvK6JgsLJYkUNhayJm8bGxsbKRbeSiSKnXK71+I805073XmeI2XOnM53c57znP/069evZ+Y8/zMUCoVCoVAoDD9zYopW4h2mqg9Mda3dwCe8wp2etdkY+d8O8xdsxRZOVmNvRuNd10twuas2CYf5C0Y9h/NxHEcw1lC7Ch9Tcpi/YFSGHTbjGX7jHnZgUU/NIVxJyWH+gtEZjuIuduM+dqEtZHYMc6u6N0LWP1NxmL9gVIajOINT+ICtwj6mwwNs75q38SUVh/kLRu1p2kJ+cM3M/OA8tmBeNd8r7G2ScJi/YFSG+6rxufAu0csj4XdyWzVfn5LD/AUbM9yIw/iF0/jcp+666QyTcpi/YGOGB7ECD4Xnbegc5i9Ym+EY9lTXt4fVYf6CrabFZcPuMH/B6F7b3/A6JYf5C0ZnuC6y7i1upeQwf8HoDMdxFe/7rG+oxif4kZLD/AVr+zSL8bVr/g0XcU7otS2v7h/AJqGHs1M4p0rGYf6CtRmOCO99+7vuTeA7FprukXY4ikupOcxfsPa7dBJPzcywhaWz1J7Qv782UIf5Czb2vEewFi9rak7igvqz34E5zF8w6txiAVZjDc7iBR7jZrU+ofk/GANzmL9goVAoFP6dP3soRZfIGosGAAAAAElFTkSuQmCC'></img>"
             },
             "type": "node"
            },
            "True: 0, pred: 0"
           ],
           "instanceArgs": {
            "namespace": "html",
            "tag": "div"
           },
           "nodeType": "DOM",
           "props": {
            "style": {
             "display": "flex",
             "flex-direction": "column"
            }
           },
           "type": "node"
          },
          {
           "children": [
            {
             "children": [],
             "instanceArgs": {
              "namespace": "html",
              "tag": "div"
             },
             "nodeType": "DOM",
             "props": {
              "setInnerHtml": "<img src='data:image/png;base64,iVBORw0KGgoAAAANSUhEUgAAAHAAAABwCAAAAADji6uXAAAABGdBTUEAALGPC/xhBQAAACBjSFJNAAB6JgAAgIQAAPoAAACA6AAAdTAAAOpgAAA6mAAAF3CculE8AAAAAmJLR0QA/4ePzL8AAAEgSURBVGje7dmvSgVBGIbxn3/AJpgscoJmTRrsilEMtpOMeg0mr0I4wWASQW/BooLNaFbwAjRrOAtG+Tbo7Mf3wDITZnl4eZlh2aEoiqIoipnI4hesYRGfPYWzf50wv3A+svirew5wOZSE+YWhffiIzW4eKv8/E+YXhjrcxyk2MML7EBLmF4Y6ZNrjFSY4GULC/MLwkTjCHMaqw0aE4Q6PhpYwvzDc4Q3Wh5QwvzDc4erQEuYXhr9p3rDcvXiM89YT5heGO9zCGfZwjcPWE+YXhs/SJ9xhF9tDSFjCEpawhCUs4e/0+nU97sYFrOC15YT5hb06/OjGJezgouWE+YW9Orz1cwfVfMISlrB9Ya99+IB703vE59YT5hcWRVEURcE3pQsZsV8xG4wAAAAASUVORK5CYII='></img>"
             },
             "type": "node"
            },
            "True: 1, pred: 1"
           ],
           "instanceArgs": {
            "namespace": "html",
            "tag": "div"
           },
           "nodeType": "DOM",
           "props": {
            "style": {
             "display": "flex",
             "flex-direction": "column"
            }
           },
           "type": "node"
          },
          {
           "children": [
            {
             "children": [],
             "instanceArgs": {
              "namespace": "html",
              "tag": "div"
             },
             "nodeType": "DOM",
             "props": {
              "setInnerHtml": "<img src='data:image/png;base64,iVBORw0KGgoAAAANSUhEUgAAAHAAAABwCAAAAADji6uXAAAABGdBTUEAALGPC/xhBQAAACBjSFJNAAB6JgAAgIQAAPoAAACA6AAAdTAAAOpgAAA6mAAAF3CculE8AAAAAmJLR0QA/4ePzL8AAAHQSURBVGje7dkvbBRBFMfxz5GqnoSzIEmDg1QREhQJioIkBAWiqkE2dRWg8OTqIMFBJQFbFAJLPQ7wdV3E20v/EG53j4SbvMzPzOXmNr/93Tcz894uVVVVVVVVVVVVVcvXaN7kBI+wgVto2gtm43u8bce+uvC/E+Y3nMvwA+74k93p8QjrOCw1YX7DlXmTl9o7+oGv2MfTdu4KLmKMLWyWmjC/4VyGz8U63BMMYYo1vMLN9ru+a3ApCfMbjoZeMMYXwbERbNdLTpjfcGXIj3fwEFcFv0as1aIT5jfszfAGdp2taab4XHrC/Ia999JVZ/fQEX6KunRPnIl9eoz8f2m5DGfawRNRl57vNe7iY2kJ8xsOZkj0HJdxHw/E+TjCAW6XljC/4UIMT2uCl+J5TiP6xGlJCfMbDqpL/6bZGdngW2kJ8xv+M8MtXBcL+rHYT4tKmN9wYYYTbAuGDX7p5reUhPkNF2K4hndOaplDXCs1YX7DwQzfiHdRq2L97Ys9tNiE+Q0769IxXrefN9o7PMZ3PBMMi06Y37BzHW7jnpNe/lg8j9kUZ2DxCfMbdjKcCH5Hom94Ydh7+6UnzG/YyfBA1C6fDH9HUUTC/IZVVVXL12+230lhUH79EwAAAABJRU5ErkJggg=='></img>"
             },
             "type": "node"
            },
            "True: 3, pred: 3"
           ],
           "instanceArgs": {
            "namespace": "html",
            "tag": "div"
           },
           "nodeType": "DOM",
           "props": {
            "style": {
             "display": "flex",
             "flex-direction": "column"
            }
           },
           "type": "node"
          },
          {
           "children": [
            {
             "children": [],
             "instanceArgs": {
              "namespace": "html",
              "tag": "div"
             },
             "nodeType": "DOM",
             "props": {
              "setInnerHtml": "<img src='data:image/png;base64,iVBORw0KGgoAAAANSUhEUgAAAHAAAABwCAAAAADji6uXAAAABGdBTUEAALGPC/xhBQAAACBjSFJNAAB6JgAAgIQAAPoAAACA6AAAdTAAAOpgAAA6mAAAF3CculE8AAAAAmJLR0QA/4ePzL8AAAE1SURBVGje7dg9TgMxEMXxX4AqtNwB0iKlA64AFRWUHIOWM0TiDogzQKog0SF6DhEqPgqTA6xXIvZoXm/99/l5PJ4llUqlUqlUqn9Nhi54wRrX+KgA7vy3w/jAvZpFJ7jBbQ8O4wMHZ3iPBQ56cRgfWFWHPz05jA8c3A9neFNy3O3BYXzg4AzhS8nwEg+tO4wPrMpwobxpXjFv3WF8YFU/pL4nxt/SPjJcKnW4j6kyLzbrMD6w6i6dYqW8b+bKndqsw/jAqjpc41M5AGcywy0Dq/vhO45x2LrD+MDqDJe46sFhfGB1hpS36ax1h/GBozKc4LR1h/GBo+tw6JwYf0v7yfD572u/W3cYH1g1H260+W865CDE39J+6hAecaHMiE+tOowPHJXhHc5xJDPcIjCVSqVS4/ULUT4jfl2cXhgAAAAASUVORK5CYII='></img>"
             },
             "type": "node"
            },
            "True: 1, pred: 1"
           ],
           "instanceArgs": {
            "namespace": "html",
            "tag": "div"
           },
           "nodeType": "DOM",
           "props": {
            "style": {
             "display": "flex",
             "flex-direction": "column"
            }
           },
           "type": "node"
          }
         ],
         "instanceArgs": {
          "namespace": "html",
          "tag": "div"
         },
         "nodeType": "DOM",
         "props": {
          "style": {
           "display": "flex",
           "flex-direction": "row"
          }
         },
         "type": "node"
        }
       ],
       "instanceArgs": {
        "namespace": "html",
        "tag": "div"
       },
       "nodeType": "DOM",
       "props": {
        "style": {
         "display": "flex",
         "flex-direction": "column"
        }
       },
       "type": "node"
      },
      "text/html": [
       "<div\n",
       "    class=\"webio-mountpoint\"\n",
       "    data-webio-mountpoint=\"12832281628894097171\"\n",
       ">\n",
       "    <script>\n",
       "    if (window.require && require.defined && require.defined(\"nbextensions/webio/main\")) {\n",
       "        console.log(\"Jupyter WebIO extension detected, not mounting.\");\n",
       "    } else if (window.WebIO) {\n",
       "        WebIO.mount(\n",
       "            document.querySelector('[data-webio-mountpoint=\"12832281628894097171\"]'),\n",
       "            {\"props\":{\"style\":{\"display\":\"flex\",\"flex-direction\":\"column\"}},\"nodeType\":\"DOM\",\"type\":\"node\",\"instanceArgs\":{\"namespace\":\"html\",\"tag\":\"div\"},\"children\":[{\"props\":{\"style\":{\"display\":\"flex\",\"flex-direction\":\"row\"}},\"nodeType\":\"DOM\",\"type\":\"node\",\"instanceArgs\":{\"namespace\":\"html\",\"tag\":\"div\"},\"children\":[{\"props\":{\"style\":{\"display\":\"flex\",\"flex-direction\":\"column\"}},\"nodeType\":\"DOM\",\"type\":\"node\",\"instanceArgs\":{\"namespace\":\"html\",\"tag\":\"div\"},\"children\":[{\"props\":{\"setInnerHtml\":\"<img src='data:image\\/png;base64,iVBORw0KGgoAAAANSUhEUgAAAHAAAABwCAAAAADji6uXAAAABGdBTUEAALGPC\\/xhBQAAACBjSFJNAAB6JgAAgIQAAPoAAACA6AAAdTAAAOpgAAA6mAAAF3CculE8AAAAAmJLR0QA\\/4ePzL8AAAGrSURBVGje7dk\\/a9VQHIfxT711EFysKDhYOzl0KSKCoILiYtuhg30L10U7dnZ3dPAddBEEQRERKuigDl1E7T+8HVREEOqghaKFOiRDKVy9aUp78uN8l5z8IQ8PX06SQ8jJycnJycnJycnJyamfvm4nJtHGV6xjBt\\/wsSbwwF4bxgd27XAFQ9uO\\/cSH\\/9zwC+5gLhXD+MD+bifaGME8hnEGl3Een3Fyy7Ub+I4T5f4nucM9TF+Vi48oupzDuS3H17GMBQzgFu6lYhgfWKnDf+U67uM9rmA1FcP4wF3p8DjeldtJPEjJMD6wv\\/4tuIlj+IGl1AzjA2vPwwt4joOKb56XqRnGB9aeh2OK\\/mbxOkXD+MBaHR7CNfzGbfxJ0TA+sFaH04q1xlO8StUwPnDH78NxPMQaRvX2HN0Xw\\/jAHc3Do7iLFp7ovb99MYwPrDwPW3iDs+go3oedlA3jAyt3eBqL5XgCj1I3jA+s9Cw9hWfleBqPm2AYH1ipwxsYLMcvsNkEw\\/jAnju8hKkmGsYH9tzhRRwuxx38aophfGDltcVbXNX931JyhvGBOc3PX\\/q9Oc17OzXKAAAAAElFTkSuQmCC'><\\/img>\"},\"nodeType\":\"DOM\",\"type\":\"node\",\"instanceArgs\":{\"namespace\":\"html\",\"tag\":\"div\"},\"children\":[]},\"True: 7, pred: 7\"]},{\"props\":{\"style\":{\"display\":\"flex\",\"flex-direction\":\"column\"}},\"nodeType\":\"DOM\",\"type\":\"node\",\"instanceArgs\":{\"namespace\":\"html\",\"tag\":\"div\"},\"children\":[{\"props\":{\"setInnerHtml\":\"<img src='data:image\\/png;base64,iVBORw0KGgoAAAANSUhEUgAAAHAAAABwCAAAAADji6uXAAAABGdBTUEAALGPC\\/xhBQAAACBjSFJNAAB6JgAAgIQAAPoAAACA6AAAdTAAAOpgAAA6mAAAF3CculE8AAAAAmJLR0QA\\/4ePzL8AAAHhSURBVGje7dnPi01hHMfxF80oK5lZaMpKsqAojY212DBSin9DBiWy4l+ws8BGk2kiCztTCmWBmtgobEhSIik\\/snge3bm3cc85ppxzvz2fuvXt+5zuu8\\/99D33PM+hqKioqGi1WlP3wlmsx04czb3LeIBrDYBr\\/7fD+MBaGd7Qy21QL7EPb7rqMD6wMsPB\\/F7gLrbgUO6dx6WuOowPHBu2OI0juV7CDD7gC9bhIXZhossO4wOHZjglDeoSDuDtsrVZbM\\/1nS47jA8cmuFtbMVnfBxYO4bxUXAYHzhWdcHrFXqnsC3Xj\\/Knsw7jA2vvLf7oIOak\\/8P3OI7FLjuMD6ycw0FNS\\/mRnlmb5NeKw\\/jARhkuYH+ur+LcKDiMD6x9L53CU0xK+4u90v6+8w7jA2vP4U0pP7ju3\\/JrxWF8YK0MZ7A71\\/dwYZQcxgdWZjiJs3p7wSfSOc3IOIwPrMzwJPbkesHqZrAVh\\/GBlc803\\/RmcLP+87aRcBgf2GhvMYHvA71PuTeODbm3ESeWXfMTZ\\/C1DYfxgY0yfLZCb06azU3SGerf9A4X23AYH1h5L53H4QZf+AO\\/cn0Lj3N9X3rnH\\/8n7V6GcFr\\/O4od+mfuCl7leh7Pu+QwPrCoqKioqKioKIJ+AzhFQPcCumLaAAAAAElFTkSuQmCC'><\\/img>\"},\"nodeType\":\"DOM\",\"type\":\"node\",\"instanceArgs\":{\"namespace\":\"html\",\"tag\":\"div\"},\"children\":[]},\"True: 2, pred: 2\"]},{\"props\":{\"style\":{\"display\":\"flex\",\"flex-direction\":\"column\"}},\"nodeType\":\"DOM\",\"type\":\"node\",\"instanceArgs\":{\"namespace\":\"html\",\"tag\":\"div\"},\"children\":[{\"props\":{\"setInnerHtml\":\"<img src='data:image\\/png;base64,iVBORw0KGgoAAAANSUhEUgAAAHAAAABwCAAAAADji6uXAAAABGdBTUEAALGPC\\/xhBQAAACBjSFJNAAB6JgAAgIQAAPoAAACA6AAAdTAAAOpgAAA6mAAAF3CculE8AAAAAmJLR0QA\\/4ePzL8AAAFHSURBVGje7detSgRRGMbxn19lo+BH06QILipYRMRgEwSzyRsQ78PqHdiExbSg1WrRKCaLRcMmxeJHcC5gZwbcc17OU94Jw\\/z58\\/CemaGkpKSkpKRkrO0DlvCIU5wPcf\\/4fxvGB062fcAGvvGSqmF8YOsO1\\/GOq1QN4wNbddjFCS5SNowPbNXhMjq4TNkwPrDVN80dZrDq7zxN0jA+sPEeLmITT4bvbySG8YGNO9yt5lvqhvGBjTvsVvMsdcP4wEbvwy308YxtfKZsGB\\/YaA\\/3MI0b9fobiWF8YKMO1\\/CDXg6G8YG1z9J5PGCAlRwM4wNr7+ExZnGdi2F8YO0OF6o5yMUwPrB2hwfV7OdiGB9Yq8MdzOVmGB9Yq8NDTOAet7kYxgcO3WEH+9V1D1+5GMYHDv1vMeVv915xhI9cDOMDS0pKSkpKSvgFnPUiCkwgYfcAAAAASUVORK5CYII='><\\/img>\"},\"nodeType\":\"DOM\",\"type\":\"node\",\"instanceArgs\":{\"namespace\":\"html\",\"tag\":\"div\"},\"children\":[]},\"True: 1, pred: 1\"]},{\"props\":{\"style\":{\"display\":\"flex\",\"flex-direction\":\"column\"}},\"nodeType\":\"DOM\",\"type\":\"node\",\"instanceArgs\":{\"namespace\":\"html\",\"tag\":\"div\"},\"children\":[{\"props\":{\"setInnerHtml\":\"<img src='data:image\\/png;base64,iVBORw0KGgoAAAANSUhEUgAAAHAAAABwCAAAAADji6uXAAAABGdBTUEAALGPC\\/xhBQAAACBjSFJNAAB6JgAAgIQAAPoAAACA6AAAdTAAAOpgAAA6mAAAF3CculE8AAAAAmJLR0QA\\/4ePzL8AAAH0SURBVGje7dmxaxRBFAbwX6KdrVdYRRBR0lmoXQQrBQ9sRMEUYmEQMfYGlLQKVkpEG\\/8BG5EUNkIs0sTCJoIgeDYiaiFICIhisXvscNns7SKYcZivub3Hm\\/3m4+PNzrwhIyMjIyMjY6LrgD24izm8xjkMOoyf\\/NcK0yfs7OFBrAeznceDmBWmT7i7S3IPT\\/43hekTtvZwHmdxbCQ+U876DVZiVJg+Yeu19Bd+18x2GBvgvOIbGZXC9AlbebiM07Z6+A0\\/MBXEdsWmMH3CsWvpCRxS+Bd6+BAv8B0nsVDGr2IpJoXpEzbW4X6sYq9q3RzgKRaxUeZNlXk9bOIW7uNnDArTJ2z0cPQc8RIX8LUm9zruqbw+jPcxKEyfsPW+dA2X1fsHz3ARR2NTmD7hWA+HMzo+Jm+izB3mL2I2BoXpEzZ6OGfrXnQ79HFEtfe5HYvC9AkbPey3eEEP07gZxL6o38\\/siML0CTv12uqwgGvB\\/w+4hI+xKEyf8K88XFacHUO8xauYFKZP2Hi2eIcD5fOZ8vcx9gWzHf1e5j5NXHW4hDvl83OVX6Fvo72b6BSmT9hYh2H\\/pa7mJvFZsX5ewSdV7yYahekTju15zyjunG6o9zDfAe84Yeu7p1OKWusrejKPysHrtt+DRqEwfcKMjIyMjIwM\\/gC5j04wkka+LwAAAABJRU5ErkJggg=='><\\/img>\"},\"nodeType\":\"DOM\",\"type\":\"node\",\"instanceArgs\":{\"namespace\":\"html\",\"tag\":\"div\"},\"children\":[]},\"True: 0, pred: 0\"]},{\"props\":{\"style\":{\"display\":\"flex\",\"flex-direction\":\"column\"}},\"nodeType\":\"DOM\",\"type\":\"node\",\"instanceArgs\":{\"namespace\":\"html\",\"tag\":\"div\"},\"children\":[{\"props\":{\"setInnerHtml\":\"<img src='data:image\\/png;base64,iVBORw0KGgoAAAANSUhEUgAAAHAAAABwCAAAAADji6uXAAAABGdBTUEAALGPC\\/xhBQAAACBjSFJNAAB6JgAAgIQAAPoAAACA6AAAdTAAAOpgAAA6mAAAF3CculE8AAAAAmJLR0QA\\/4ePzL8AAAHWSURBVGje7dnPi05RHMfx12hqRFJPk5KFKSsyC2woJRtC2aCUFQt\\/gO2sJBsLdqztLGRnyyzsRlGUDTaWfqQQJR6LczVPuPfcujXP8e286+ncnufb99Pnfjr3nHseKpVKpVKpVP5\\/ZvoW7sU9LHTUHMELvOmoWbfWDuMLzvYtPIq5TM1JXMDZkhzGF+yV4SyO96h7jEvYiC+lOIwv2CvDwziAa5m6EXZhg5rhGpJdDxfxEO+xD587apdxEFvxthSH8QWz83BJejYe053fCIfwszSH8QU7MzwtrYMvsZJptCTlt4yPJTmML9iZ4RlpbbuVabKAc\\/iBq\\/heksP4gq0Zbsb+5vpmpslFzEvvhg9KcxhfsDXDOWzDnR5NdjTj8xIdxhdszfATnkr70hE+tNRtkdZNeFSiw\\/iCrRl+xSucwn1c\\/+P33dL8245x891Ynvi3tKz3w524jBP+Pmd7J2U2P9Fkk5R9UQ7jC\\/Y6895jdc37zd1mvC3tSel36BP\\/lpbzLJ3kSfP5F68nrhfxrDSH8QV7\\/2\\/RxozVyZzLbyoO4wsOznCs315mag7jCw7OcH0zfivVYXzBwRmel85Hr5TqML7g4AxXcEP+jG1qDuMLViqVSmU4vwBr3jsoVUdw\\/wAAAABJRU5ErkJggg=='><\\/img>\"},\"nodeType\":\"DOM\",\"type\":\"node\",\"instanceArgs\":{\"namespace\":\"html\",\"tag\":\"div\"},\"children\":[]},\"True: 4, pred: 4\"]},{\"props\":{\"style\":{\"display\":\"flex\",\"flex-direction\":\"column\"}},\"nodeType\":\"DOM\",\"type\":\"node\",\"instanceArgs\":{\"namespace\":\"html\",\"tag\":\"div\"},\"children\":[{\"props\":{\"setInnerHtml\":\"<img src='data:image\\/png;base64,iVBORw0KGgoAAAANSUhEUgAAAHAAAABwCAAAAADji6uXAAAABGdBTUEAALGPC\\/xhBQAAACBjSFJNAAB6JgAAgIQAAPoAAACA6AAAdTAAAOpgAAA6mAAAF3CculE8AAAAAmJLR0QA\\/4ePzL8AAAFfSURBVGje7ZgvSwRBGIcfxT\\/BeFGLYBNMXjnkos0g+DX8AuKXMClYBfNVLQaLCGIwGtQseCYP9TzDvuI2d2ZB5v3x\\/srMwu498\\/BjhtuFSCQSiUQiEf+ZavsDW8AA2AWOgPEf90\\/\\/t6E+sFWHHeAWWLTrBeCtNEN94Eybh\\/v89ncKjEo01AdmdzgP7NWuT4BJiYb6wOyztAtc2fwTmCvVUB+YvQ+3a\\/Ozkg31gdkd9m18B\\/ZLNtQHZp2lPeDS5i9U\\/0+LNdQHZu3Dbm1+WLqhPjCrw3Ubh1Tv9UUb6gOTz9IN4MJW+ggsl26oD0zeh53aKs89GOoDkzvcsXEIHHsw1AcmnaVLwIOt8g5Y82CoD0zah73aCgdeDPWBSR3+vAc+AwdeDPWBSR1u2vgEvHox1Ac27nAWWLH5CPjwYqgPbNzhF3ANrAL3ngz1gY07HFN9254AN54M9YGRSCQSaZ9vTqsmkdnR\\/jAAAAAASUVORK5CYII='><\\/img>\"},\"nodeType\":\"DOM\",\"type\":\"node\",\"instanceArgs\":{\"namespace\":\"html\",\"tag\":\"div\"},\"children\":[]},\"True: 1, pred: 1\"]},{\"props\":{\"style\":{\"display\":\"flex\",\"flex-direction\":\"column\"}},\"nodeType\":\"DOM\",\"type\":\"node\",\"instanceArgs\":{\"namespace\":\"html\",\"tag\":\"div\"},\"children\":[{\"props\":{\"setInnerHtml\":\"<img src='data:image\\/png;base64,iVBORw0KGgoAAAANSUhEUgAAAHAAAABwCAAAAADji6uXAAAABGdBTUEAALGPC\\/xhBQAAACBjSFJNAAB6JgAAgIQAAPoAAACA6AAAdTAAAOpgAAA6mAAAF3CculE8AAAAAmJLR0QA\\/4ePzL8AAAHtSURBVGje7dlPiE5RHMbxD9lYTCIGS7ZSioXNYOVPlrIixIKUhYWUpGRtSylFbAw1KSJZWcxuNJKVP4kiJMqOeC3OnZrG3D\\/ulHOczrN5z33vuefb09O559zfoaioqKioqKjo\\/9e8Lp2GMYpxXMLrlv6LsAn38WPGvfn\\/2mH+wAVtHRbjmZDLB93ym8AybMDz2A7zBzZmuBQ3sAQXcKzDgKexCof9mV8Uh\\/kDG9+lW3Gvaq\\/Ap5bB1uApxnAA31JwmD+wdh4OY1fVPqRbfg+r9pjZ84viMH9gbYbnsVdY2252GGgEy3EF11NymD+wNsMBfuEdvjcMsBCncLR65mBqDvMHtu5Ld+IBvuLijHubsQUbq+tbKTrMH1i7p1mP21g5reNgloen\\/nuF7XiZmsP8gbXzcAJrsU7I5oSwr7k6rc81PKna49rzi+Iwf2CnOk2dVuMFJrFN+941isP8ga3rYZPOCO\\/Sk7rlF8Vh\\/sDeGe7GPuE78HPKDvMH9s5wR\\/V7B49Tdpg\\/sPd6+B5DwvlEyTAqsNc8PCLUZD76u\\/yiOMwf2DvDAe5W10PCGdWbFB3mD5zTvvQn9uC4cMa4P0WH+QN7rYeTwvf\\/VJ3mMs7hbYoO8wf2ynAEZ\\/FIqKF+0VwXj+owf2BRUVFR0dz1G5IZTY3KuGb8AAAAAElFTkSuQmCC'><\\/img>\"},\"nodeType\":\"DOM\",\"type\":\"node\",\"instanceArgs\":{\"namespace\":\"html\",\"tag\":\"div\"},\"children\":[]},\"True: 4, pred: 4\"]},{\"props\":{\"style\":{\"display\":\"flex\",\"flex-direction\":\"column\"}},\"nodeType\":\"DOM\",\"type\":\"node\",\"instanceArgs\":{\"namespace\":\"html\",\"tag\":\"div\"},\"children\":[{\"props\":{\"setInnerHtml\":\"<img src='data:image\\/png;base64,iVBORw0KGgoAAAANSUhEUgAAAHAAAABwCAAAAADji6uXAAAABGdBTUEAALGPC\\/xhBQAAACBjSFJNAAB6JgAAgIQAAPoAAACA6AAAdTAAAOpgAAA6mAAAF3CculE8AAAAAmJLR0QA\\/4ePzL8AAAHnSURBVGje7dhNiI9RFAbwn0mhGCFl4aN8LBRFycKCzX8jpdRgmGSrsLLARlFYWFCWyspHSqKsZCc1u8koC1EsFIqQEIu\\/xX3lL\\/G+M72ZO8d9Nu97T7eenvt0zrn3UFBQUFBQUFBQUDDxmDKWzf04jVXo4Ns4CPv+tcL4hFObbhzCSSyq1v14MxkUxidslIcLMYJ56FaxaziAt7krjE\\/YyMNzOFht7vbE30u5eR5fc1UYn7DWwyUYxUw8xCupF\\/7Aa6zFy1wVxies7YdrMAv3sAnTsRtHsQwLcAubNaur8Y80Pw+nSfXzbLX+gosYwNIq9kmppRNIWOvhruq7BTd74ut6\\/ofxMVeF8Qlr++EOXJV64SBWYxu24wPmSDV0Ix7lqDA+Ya2Hc\\/EEs\\/16L72L\\/biNFbiAfTkqjE\\/Y6G3RwXXJx670ljgs9cZTOILn1b6nuSmMT9h41taR7qPvcMzP\\/jcDV7AVl7A3N4XxCcc0L\\/0TBnEZL6S3yN\\/eGPGPdHJ62Cfl4E4cx4mcFMYnbMVDUv7dl2YAK\\/E4F4XxCVvzEA7hDG5gDz7noDA+YasezpdycbmUl6M5KIxP2KqHsBjPpLnAUA4K4xO27iHcwQas9\\/vsJv6R5jcvHQ8G8ECqqcXDgoKC\\/wDfAfoASMU830GuAAAAAElFTkSuQmCC'><\\/img>\"},\"nodeType\":\"DOM\",\"type\":\"node\",\"instanceArgs\":{\"namespace\":\"html\",\"tag\":\"div\"},\"children\":[]},\"True: 9, pred: 9\"]}]},{\"props\":{\"style\":{\"display\":\"flex\",\"flex-direction\":\"row\"}},\"nodeType\":\"DOM\",\"type\":\"node\",\"instanceArgs\":{\"namespace\":\"html\",\"tag\":\"div\"},\"children\":[{\"props\":{\"style\":{\"display\":\"flex\",\"flex-direction\":\"column\"}},\"nodeType\":\"DOM\",\"type\":\"node\",\"instanceArgs\":{\"namespace\":\"html\",\"tag\":\"div\"},\"children\":[{\"props\":{\"setInnerHtml\":\"<img src='data:image\\/png;base64,iVBORw0KGgoAAAANSUhEUgAAAHAAAABwCAAAAADji6uXAAAABGdBTUEAALGPC\\/xhBQAAACBjSFJNAAB6JgAAgIQAAPoAAACA6AAAdTAAAOpgAAA6mAAAF3CculE8AAAAAmJLR0QA\\/4ePzL8AAAH4SURBVGje7dnPi09RGAbwzxg\\/GxvR2PhVZGNBpDSlpiyVshHFko2FHyt2FEn+ASUjiT9AKU2UopDFN0Vpshhig43FJDIzFueWS3dmvl+GOd+382xO95zu+9znPr3nvOccCgoKCgoKCnpmI8gyrKk9v8EJvMAIntfG5v1vhfEJ\\/8rD3diDQWyo9Y9gLRZVz71zqTA+YccersdRHMHiNgMUD\\/8p5nf6wiocm2b8FV7mpDA+4YwersBxPMJdfMNnjKEPw9K69xQtfKnGslEYn3DaqbAPD7EZe3G76l+HUamOeYeJnBXGJ5wyDxfiluTfBdyrjY1W7dtuUBifsDEPl+I0TuETNkrzZ1cqjE\\/Y6OFBXJfybKc0X3atwviEjXPpQNW2zK5\\/c6IwPmFjHn7AcnzFRamWaXWrwviEjR5O+rXWnMBlPJFq0dd+7gE34bH28zX+L83Dw0s42UGQj3iA\\/TkqjE\\/Y6GEvtuKmtGCubuPLJnEG53JTGJ+wsaYZxzNpTwG7sEDyaPsUgXqwLUeF8QnbOi+9X7VbJA+\\/4xquSHdMB3JWGJ+wozPvYZyvXjos3TcN1sbf56gwPmFHd09LMIR9v\\/WP4450NjA2Q4z4vzRvD2ElrkprX790dnpDWiuzVBif8I\\/v8Q9hB85KZwLZKoxPWFBQUFBQUMAPcuVJ1mUaeWkAAAAASUVORK5CYII='><\\/img>\"},\"nodeType\":\"DOM\",\"type\":\"node\",\"instanceArgs\":{\"namespace\":\"html\",\"tag\":\"div\"},\"children\":[]},\"True: 5, pred: 5\"]},{\"props\":{\"style\":{\"display\":\"flex\",\"flex-direction\":\"column\"}},\"nodeType\":\"DOM\",\"type\":\"node\",\"instanceArgs\":{\"namespace\":\"html\",\"tag\":\"div\"},\"children\":[{\"props\":{\"setInnerHtml\":\"<img src='data:image\\/png;base64,iVBORw0KGgoAAAANSUhEUgAAAHAAAABwCAAAAADji6uXAAAABGdBTUEAALGPC\\/xhBQAAACBjSFJNAAB6JgAAgIQAAPoAAACA6AAAdTAAAOpgAAA6mAAAF3CculE8AAAAAmJLR0QA\\/4ePzL8AAAIoSURBVGje7dk5aFVBFAbgL3mKCom4geLaWGjhUkgUbIJgoaCgCFpYpjAICgGDWAlJF0hrtBBRsLUTQdTCpRAsVATFQlA0xCgE3JdEixl54cEj9yXguxnmhwtz5s7h5+fnnJm5l4yMjIyMjIyMjIyMjJmjZTpJ67EMB9CJCQzhAV5Okdv6vxWmT9iQh5twHAcFD2vxGy9wDyfxswwK0yecU2TRZsG7w1gY597iLl6hF4\\/QgSXYi8dCbTZdYfqEU9bheaFn\\/qu7W3iKM\\/ge5+6gGxexFSNYixUYbbbC9Anr1uF8ob66BKNHcQ4D+FKzdikqOIsbWFcmhekT1vWwE6cE\\/94Je+DDmjUVrMFlXMfiON+CKxgrg8L0Cet6WMF4HP\\/CdhzChjj3DRvj8wHLJ+WOoD\\/mNV1h+oR198MFuIrdcdyKP\\/HduOBxLSZwDScwXBaF6RNOeaZZhNPYiY94jXnYIpxDJ2NIOOuMlUlh+oTTuuMT9sCjcfwJPbik2n9LozB9wkL3w1r04sikuFvou6VUmD5hw3XYhUG0xfgZtuFHWRWmT9iQhx24ifYYf8Ye3C+zwvQJG+ql+1T9+4r9GvOvKQrTJyxch+3CPXBujC\\/g2GxQmD5hIQ\\/b8BwrY\\/wEO1S\\/l5ZaYfqEhXrpLqxSveP3mJ5\\/TVGYPmEhD\\/tU\\/RvA7dmkMH3CQr30DVbjvfBvabhIUlkUpk9YqA4H49NnZv41RWH6hBmzH38BKKpUS7N47u4AAAAASUVORK5CYII='><\\/img>\"},\"nodeType\":\"DOM\",\"type\":\"node\",\"instanceArgs\":{\"namespace\":\"html\",\"tag\":\"div\"},\"children\":[]},\"True: 9, pred: 9\"]},{\"props\":{\"style\":{\"display\":\"flex\",\"flex-direction\":\"column\"}},\"nodeType\":\"DOM\",\"type\":\"node\",\"instanceArgs\":{\"namespace\":\"html\",\"tag\":\"div\"},\"children\":[{\"props\":{\"setInnerHtml\":\"<img src='data:image\\/png;base64,iVBORw0KGgoAAAANSUhEUgAAAHAAAABwCAAAAADji6uXAAAABGdBTUEAALGPC\\/xhBQAAACBjSFJNAAB6JgAAgIQAAPoAAACA6AAAdTAAAOpgAAA6mAAAF3CculE8AAAAAmJLR0QA\\/4ePzL8AAAHuSURBVGje7dlNiE5RHMfxD4ONl5Td7LCQSDGKjSaWSM1qLGSB8rKUlSRlw0ZZUcrY2GGhFBsveUsWisKCsqAUec9sNCzOLdP0PPfepzTO8+\\/8Nvc+zzmd3\\/32639O938pKioqKioqmtHL5A14gGXYii24Vo09xN0Wa8ycbsL4hq0yXICL2IRxzMG8KXPG8RP7cSknwviGrTI8g72Tfr\\/AB3yb9NSbq\\/vvUr0+zYUwvmFjhitwG4vwFjvxCl\\/wY9JTH8URDOAK9uBzDoTxDWc1TZgv5fcbJ6U8p2oCx6Q99hBGcN7fs\\/K\\/EsY3bKzDYdzCBexqseBrLMYYdudAGN+wsQ6PV9dHLRe8gX1YnwthfMPaDJdgEF\\/xrOWCN6UMsyGMb1ib4Q4px8vSe2FfEsY3rM1wu1SDp\\/uZML5h43n4Evf6mTC+YdcM52J2BML4hl0zHMVSfOxxwW3V9VcuhPENG\\/fSXjQk9cLhcC6E8Q3\\/WYZDOIiFuC+9J2ZBGN+wa4ZvpP51Gw1IPbZRvKvuy146barttT2X+qTDOp+Lq3AAa7C2+m8j7uREGN+wcS9djut432FsndQPJ2V8FY9zI4xvWFuHI9L3pNU1cybwCadwIkfC+IaN3y0GpTpc2WHsHJ7gbM6E8Q2LioqKioqK+AOpS0hF1w\\/OiAAAAABJRU5ErkJggg=='><\\/img>\"},\"nodeType\":\"DOM\",\"type\":\"node\",\"instanceArgs\":{\"namespace\":\"html\",\"tag\":\"div\"},\"children\":[]},\"True: 0, pred: 0\"]},{\"props\":{\"style\":{\"display\":\"flex\",\"flex-direction\":\"column\"}},\"nodeType\":\"DOM\",\"type\":\"node\",\"instanceArgs\":{\"namespace\":\"html\",\"tag\":\"div\"},\"children\":[{\"props\":{\"setInnerHtml\":\"<img src='data:image\\/png;base64,iVBORw0KGgoAAAANSUhEUgAAAHAAAABwCAAAAADji6uXAAAABGdBTUEAALGPC\\/xhBQAAACBjSFJNAAB6JgAAgIQAAPoAAACA6AAAdTAAAOpgAAA6mAAAF3CculE8AAAAAmJLR0QA\\/4ePzL8AAAItSURBVGje7dq7a1RBGAXwnyEQFAKx0izBKlhZmDQisRJBiCns\\/AN8BAsVK0GjhdpYqJ3iCwTBMkJEQZBYiTYKFuJjK\\/FVSBoFAwZZi5mFZZPdvRjI3h3mwGXundfhzGEe33DJyMjIyFgt1hWtOIDnGMND7P9Pwr61Vpg+YX+RSgO4iu2o4VUvKUyfsJCHx3EE8ziHl72kMH3CQh5ujulTq\\/OvKwrTJyzk4SCWBA97TmH6hB3PNBV8xgvs6kWF6RN2nIczBTvaiZH4\\/gYfy6IwfcKOHu6L6e0W5ddjnY1YH\\/N+CufYC2VQmD5h27V0A6r4iy0N+f0YxwPhvNOHH0L8OB7rfsUEPnVbYfqEbefhIWzCzYa8ihBn1NfYb7iHa\\/gS8+YwiWHZwzVAWw\\/HYlptyJvBtBDrz+Mk3ja1q7bpM\\/0hLZeHlabvrTgQ32\\/hBP60aPs6Pl1XmD5hWw8HhQ2zvmkewxDu42iHdktW9jf9IS2Xh7WGh7C\\/1WLaChUcxGxZFKZPWOiepo5p4aw5gdO4gYWmOrNYxOWyKEyfsKWHFcvn24IQO8zhPPZiCr9iOiOcgy5qfa+a\\/pCWKz58gj14LJxlfjeUTeGdsOedFdbPRVyycmzfNYXpE7b1cASPsE24L72C77FsEruxI3byAWeEuL9UCtMn7HjnPYxnGG1qVGv4votTlu+NpVCYPmGhfzGGhLV0FIeFu9O6h3fwvswK0yfMyMjIyMjIyEgB\\/wCNKVZFvCpwHQAAAABJRU5ErkJggg=='><\\/img>\"},\"nodeType\":\"DOM\",\"type\":\"node\",\"instanceArgs\":{\"namespace\":\"html\",\"tag\":\"div\"},\"children\":[]},\"True: 6, pred: 6\"]},{\"props\":{\"style\":{\"display\":\"flex\",\"flex-direction\":\"column\"}},\"nodeType\":\"DOM\",\"type\":\"node\",\"instanceArgs\":{\"namespace\":\"html\",\"tag\":\"div\"},\"children\":[{\"props\":{\"setInnerHtml\":\"<img src='data:image\\/png;base64,iVBORw0KGgoAAAANSUhEUgAAAHAAAABwCAAAAADji6uXAAAABGdBTUEAALGPC\\/xhBQAAACBjSFJNAAB6JgAAgIQAAPoAAACA6AAAdTAAAOpgAAA6mAAAF3CculE8AAAAAmJLR0QA\\/4ePzL8AAAHbSURBVGje7dmti1VBHMbxj4sbDIKgCyqIgnE1uBgMvqw2LQazK5hETJpEtrjRIoLJIigGsSgqi3CDTRDUshv0D7jBYvANwZcws9zrRTlnz4LO\\/TFPOTNnZvjy8DDM78yhqqqqqqqqqqqqqqpq7Vq32gX7sIDjmMAPPMAV9HEUPXz5y\\/qJf+0wPrB1hpM4gtvYOrT4Z27fxQ7M4kzuF+EwPnB924kzWMztPi7gc+7vzO0b+JbHi3EYH9gqw2k8yu0eLuPV0Ph2PMQmXMtzinEYH9gqw3lswRNcwruR8T3SOclgrxbjMD6w8Ty8hbP4hANYHhmfxDMcxnMcK81hfGDjPtwv1S0f\\/Tm\\/BRzKc66W6DA+sHVNM6pdOI+Lud\\/HmxIdxgc2ZriMvdiM10Pvp7DN4Nuihw8lOowPbDwPN+A+ThjktaKTmMMpHMSLEh3GB7b+xp+VzkbS3nyKmziHt1JN875Eh\\/GBq75rG9Z3aW\\/ek\\/ZjkQ7jA9dU05Dq1eslO4wP7JzhfH4+9vudTXEO4wM7ZTgt1TE038v8d4fxgZ0ynMFG6Sz8WrrD+MBOGU5J+S1J\\/w6Ldhgf2CnD0\\/l5Zxwcxgd2ynDl7mYsHMYHdspwEbvxchwcxgdWjb9+ASOVRSFBgZyBAAAAAElFTkSuQmCC'><\\/img>\"},\"nodeType\":\"DOM\",\"type\":\"node\",\"instanceArgs\":{\"namespace\":\"html\",\"tag\":\"div\"},\"children\":[]},\"True: 9, pred: 9\"]},{\"props\":{\"style\":{\"display\":\"flex\",\"flex-direction\":\"column\"}},\"nodeType\":\"DOM\",\"type\":\"node\",\"instanceArgs\":{\"namespace\":\"html\",\"tag\":\"div\"},\"children\":[{\"props\":{\"setInnerHtml\":\"<img src='data:image\\/png;base64,iVBORw0KGgoAAAANSUhEUgAAAHAAAABwCAAAAADji6uXAAAABGdBTUEAALGPC\\/xhBQAAACBjSFJNAAB6JgAAgIQAAPoAAACA6AAAdTAAAOpgAAA6mAAAF3CculE8AAAAAmJLR0QA\\/4ePzL8AAAIJSURBVGje7dpPiE5RGAbwn8lsbDTGwizUt2IxiPFnSdkgpWzEgoWF1ewkUqLZyGLCRmIjUzMLbERZSCEbC2WBlTQbomSjCH1jce40t4l7z4em43SezT333HPO03Of3vd033MpKCgoKCgoKPj\\/sajXCQPYgJ04hi5uYhrjeN8yv2+hFeZPGO1hP45iFCtqk2dqY67jcGoK8yeM9nAUF+b1PcLWeX2LU1OYP2GUh8N4gMFa3wlcxJiQU2dRPEzPw2GcxW4hb05jD14Je2G\\/sD\\/exnK8xLqUFOZP2BY2RgT\\/+vANl\\/Ci9vw7nuKasF+uxRUcSUVh\\/oStcTiJfdXA+9jRMPY51lTXkVQU5k\\/YGIeD2FK7n2hZbALnUlOYP2GjhxvRqdqPcTdy0QEM4V0KCvMnbPRwU619Gp8iF10p5NTi4YKg0cMl5jbMhz0o6KakMH\\/C1jiciVxoFt2WOfm\\/0rQ8\\/FN8xsdUFOZP+E89PFRdz+BZKgrzJ2z8PlyPe0L9Jaae\\/bZS0MHXVBTmT9j6jX9QqMF8Eerbv4uvq4LHN7A\\/JYX5E7bm0ieYwgFs82sPt2MvPgg18KQU5k8YdW7REc4tlgn10pNV\\/ypsxvnq2TiOp6Ywf8Lo88MhXBZi8U3VHjN3HnVHqHm\\/Tk1h\\/oQ9\\/YuxFKtxCruEuINbQo79kaLC\\/AkLCgoKCv4ePwGmEEqxUZD0FAAAAABJRU5ErkJggg=='><\\/img>\"},\"nodeType\":\"DOM\",\"type\":\"node\",\"instanceArgs\":{\"namespace\":\"html\",\"tag\":\"div\"},\"children\":[]},\"True: 0, pred: 0\"]},{\"props\":{\"style\":{\"display\":\"flex\",\"flex-direction\":\"column\"}},\"nodeType\":\"DOM\",\"type\":\"node\",\"instanceArgs\":{\"namespace\":\"html\",\"tag\":\"div\"},\"children\":[{\"props\":{\"setInnerHtml\":\"<img src='data:image\\/png;base64,iVBORw0KGgoAAAANSUhEUgAAAHAAAABwCAAAAADji6uXAAAABGdBTUEAALGPC\\/xhBQAAACBjSFJNAAB6JgAAgIQAAPoAAACA6AAAdTAAAOpgAAA6mAAAF3CculE8AAAAAmJLR0QA\\/4ePzL8AAADCSURBVGje7ZldCoMwEAanpfdqPJntyerN2hdB7EvZDTRhmQFRH9bhM2j+QERERC6ZogewAhuwBGuv\\/05YX3jLFN33c9uPbeaE9YWpNmxf19vMCesLU\\/\\/Sd8cD6r9ShQrDdI1pAJ77\\/bQJ6wtT\\/eGaKRqVUKFChQoVKvyNcwuFChUqVKgw2R++ONZMneMrVNhNeJ2mcd63mD5hfWG4DXvW2YYkrC8MtWHj\\/A0uxPYOhySsL0yteUfHMUMT1heKiIgIfAAlcA9p9hj9FQAAAABJRU5ErkJggg=='><\\/img>\"},\"nodeType\":\"DOM\",\"type\":\"node\",\"instanceArgs\":{\"namespace\":\"html\",\"tag\":\"div\"},\"children\":[]},\"True: 1, pred: 1\"]},{\"props\":{\"style\":{\"display\":\"flex\",\"flex-direction\":\"column\"}},\"nodeType\":\"DOM\",\"type\":\"node\",\"instanceArgs\":{\"namespace\":\"html\",\"tag\":\"div\"},\"children\":[{\"props\":{\"setInnerHtml\":\"<img src='data:image\\/png;base64,iVBORw0KGgoAAAANSUhEUgAAAHAAAABwCAAAAADji6uXAAAABGdBTUEAALGPC\\/xhBQAAACBjSFJNAAB6JgAAgIQAAPoAAACA6AAAdTAAAOpgAAA6mAAAF3CculE8AAAAAmJLR0QA\\/4ePzL8AAAHSSURBVGje7dmtb1RBFAXw35I6JF3blW1t+XALkuBgkzqQVOD4GyBgaFINluBoNSgaUCRgtxrLw4IDxH1N29Dt201Kd\\/Zmjpls5u07OXNy5t25Q0VFRUVFRUVv1j9cxT2MsNq+4A++Yozn7TgJly5aYX7CTg+3sIZh+3tDeHbo3Svs4X2pCvMTdnr4W3j1S+TrIw7QYHcRFOYnXOp6YBd3hX\\/XF1FhfsLOHPbxGZdxDd8WTWF+ws4cfhffvCdYVj0skLDTQyKsPaw7GdwxfpauMD\\/h1HvpipP1aE\\/Uo2\\/MVtvkX9KyPOxjX5wDD89\\/n9q5h2JvHQhPb5gul\\/mXtCwPh\\/ggcrZ5yvwy7ou6dSg83FTP+BeMmfs0k7AlsjnAHXwpRWF+wnPzkMjlPq7gkdO\\/k\\/mXdLE9hJvYFnl8hp15K8xPeO4ecpTHVf8eXvIvaZnnw1nRiPp1rQSF+Qn\\/i4frjnqsc1eYn7DTw8ei3\\/Z6yhcO8FT0V2+VoDA\\/4ZkejvACL032sC\\/uhLXjhvD8gbijmrvC\\/IRn1jQjvBV3iD\\/EWaEnvnON2C+P997GeCfq0aYUhfkJO+vS28IrImd94VVzbNxr5w\\/UXtscCCsqKioqKir4C+MSTd6JU7siAAAAAElFTkSuQmCC'><\\/img>\"},\"nodeType\":\"DOM\",\"type\":\"node\",\"instanceArgs\":{\"namespace\":\"html\",\"tag\":\"div\"},\"children\":[]},\"True: 5, pred: 5\"]}]},{\"props\":{\"style\":{\"display\":\"flex\",\"flex-direction\":\"row\"}},\"nodeType\":\"DOM\",\"type\":\"node\",\"instanceArgs\":{\"namespace\":\"html\",\"tag\":\"div\"},\"children\":[{\"props\":{\"style\":{\"display\":\"flex\",\"flex-direction\":\"column\"}},\"nodeType\":\"DOM\",\"type\":\"node\",\"instanceArgs\":{\"namespace\":\"html\",\"tag\":\"div\"},\"children\":[{\"props\":{\"setInnerHtml\":\"<img src='data:image\\/png;base64,iVBORw0KGgoAAAANSUhEUgAAAHAAAABwCAAAAADji6uXAAAABGdBTUEAALGPC\\/xhBQAAACBjSFJNAAB6JgAAgIQAAPoAAACA6AAAdTAAAOpgAAA6mAAAF3CculE8AAAAAmJLR0QA\\/4ePzL8AAAIGSURBVGje7dnPi05RGAfwDzOjiCQUGsLIwmISslOyYMXCO4qFlYV\\/wM4f4MfWXlMWiqgpKQsbUWNjorCwwCRL+VWTeUcsnjs14d73nXcx73E638197rnnnu\\/99u055zznUlBQUFBQUFBQUNB\\/LFtM58M4iRa24Blu4\\/Iixli+1ArzJ+zKw024i4PVCx8wg\\/VYh7O4marC\\/Ak7ergBD7AX0ziPp\\/iCrZjAO4zhFKbwBr9SUZg\\/YUcPr+ACPmIEs388H8EP4fFE1bZa5GkSCvMnbPTwNG7gM3bge02\\/PXiMtcLHlpKHS4jBpoej1Re9VO8fsT7O45t6\\/\\/qiMH\\/CRg9HquvVDoMcw8oqvpWawvwJa+fSVWIOHcA+PK\\/pt0Lk6U6Rq6N4n5LC\\/Akb83Cgw8tDOCL8g+ua\\/euLwvwJaz2cEzXDdhz1dx5uFnXhpQVt4ykqzJ+wcV86jFeiVniIO2IPugaHRO3fFvvRaTHnfkpNYf6EHevDE7iIA9V9G2\\/xRJzN3BNr4jjOpagwf8KuztqGsL+KZ8U5KezG6yo+jvspKsyfcLCbTm1M\\/qN9eEE82c1A\\/VCYP2FXHtah9T8ozJ+wZw+34UwVP8LXVBXmT9izh7vEfpQ4I51LVWH+hD17uLG6zuBaygrzJ+zZw\\/m18AV+pqwwf8KePRwT\\/yemUleYP2FBQUH\\/8RtFRUunTf0LBAAAAABJRU5ErkJggg=='><\\/img>\"},\"nodeType\":\"DOM\",\"type\":\"node\",\"instanceArgs\":{\"namespace\":\"html\",\"tag\":\"div\"},\"children\":[]},\"True: 9, pred: 9\"]},{\"props\":{\"style\":{\"display\":\"flex\",\"flex-direction\":\"column\"}},\"nodeType\":\"DOM\",\"type\":\"node\",\"instanceArgs\":{\"namespace\":\"html\",\"tag\":\"div\"},\"children\":[{\"props\":{\"setInnerHtml\":\"<img src='data:image\\/png;base64,iVBORw0KGgoAAAANSUhEUgAAAHAAAABwCAAAAADji6uXAAAABGdBTUEAALGPC\\/xhBQAAACBjSFJNAAB6JgAAgIQAAPoAAACA6AAAdTAAAOpgAAA6mAAAF3CculE8AAAAAmJLR0QA\\/4ePzL8AAAHWSURBVGje7dnPi41RHMfx10ymSESxsphoKAsLUWo2SmwUNpJJMWVjbWWDjRU2FpSs7ZTyL7CxGCWRHzXMSFkoGflRI1mcZ7qX8eM+97l5znw7n81zOs89592nz\\/2cp3sfioqKioqKioqKioqKmmvo14n9uI2RrrkvuFONZ3AFu\\/AO92oCh\\/+3w\\/jARRmewrV\\/LJqXMv6O+7iFJ3iFZ7k5jA9clOEIjmMMs9XcChzs+sxWrP\\/NZl9xCedzchgfONTPom3YV40nsKPr3hxG8SEXh\\/GBfWXYreXYgDM4Wc1dwLlcHMYHNs5wQWN4jo\\/YjulcHMYHLhvURoeq6yocxsVcHMYHDqSHm\\/AQK6Xn4Ua8z8VhfOBAenhAyg9u+HN+rTiMD2zcw814IGX4GTvxNCeH8YGNerhO+j240MGz\\/p5fKw7jAxv18DJOV+NpbJH+u8nKYXxg3xkexc1qg08Yx6McHcYH9nWW7sZ1nS\\/ApN7ya8VhfGDtHq7Ba51n4FXpPJ3P1WF8YK0eDuOETn5T6uXXisP4wFo9HPfz+8Ij0nunrB3GB\\/ac4Wq8xNpq0V3swbfcHcYH9nyW7pXyI+U3oX5+rTiMD+w5w8d4ixc4hjdLxWF8YNHS1w8KeT20pDD28wAAAABJRU5ErkJggg=='><\\/img>\"},\"nodeType\":\"DOM\",\"type\":\"node\",\"instanceArgs\":{\"namespace\":\"html\",\"tag\":\"div\"},\"children\":[]},\"True: 7, pred: 7\"]},{\"props\":{\"style\":{\"display\":\"flex\",\"flex-direction\":\"column\"}},\"nodeType\":\"DOM\",\"type\":\"node\",\"instanceArgs\":{\"namespace\":\"html\",\"tag\":\"div\"},\"children\":[{\"props\":{\"setInnerHtml\":\"<img src='data:image\\/png;base64,iVBORw0KGgoAAAANSUhEUgAAAHAAAABwCAAAAADji6uXAAAABGdBTUEAALGPC\\/xhBQAAACBjSFJNAAB6JgAAgIQAAPoAAACA6AAAdTAAAOpgAAA6mAAAF3CculE8AAAAAmJLR0QA\\/4ePzL8AAAJMSURBVGje7dg\\/bE1RHAfwD+pPpJUQSUti0TDRiUgajdTkTxhFu\\/iTdmDpJAwWEqEmAxGEwdCGQRgklAFDDVQQjTCJCQmJSIigNZz70pfnPq9NxLs9Od\\/lvt+559zv+57v\\/Z37O4eEhISEhISEGdVuNGIZ9mXxJTz9B4Qz\\/7fC+AlzPWzEARwua\\/uFK+jDp+mkMH7CXA+P4VCVAe+wB0PTRWH8hA15jW+y6zjOYBSzcRQtuIF+nMTXoiuMnzA3D29iE66iq6y9A9ewKIsHsBc\\/iqwwfsJcD8cxhjYhB8vRjuNYn8WD2I2fRVUYP2Guh3ewEa0m1tVyrBNydWEWdwk5W0iF8RPmfg9fCh6W0INunCtrG8T+7PeKIiuMnzDXw8fZtQ3zcFqoaTZUeUgPXgn5+7loCuMnzF1LF2A7rqMZI2iaxMO+oVeoW6vVq\\/FPaTE8rMRW7BDq0S2T6P9CWHtHc+7FP6XF9LCEWSbysVmoXz9k8RFhnzE\\/i+\\/ioD\\/P5+Kf0mJ6uBgrMVyjXzvOYlUWD2FzvRXGT1jTw204haXYKXzr\\/oYmPMFyfMnG3KqnwvgJa3rYjYuYI6ydHXhYY8xaIWdn4gE666kwfsKGWh0GhBzsFwyfzD9sM\\/FyPK+3wvgJa3oI54Xz005cxn2cwOuKfn3CXrFV9QSPf0qLt5aW0IhnWIK5wnnqWEWfyhfikbAv+VhPhfETTmlvAbuEOmW14GcehnEbF\\/C+3grjJ5yyhyW0CDVoL+5hjbC2juAtvhdFYfyECQkJCQkJCfwGdW9W0wLt\\/nsAAAAASUVORK5CYII='><\\/img>\"},\"nodeType\":\"DOM\",\"type\":\"node\",\"instanceArgs\":{\"namespace\":\"html\",\"tag\":\"div\"},\"children\":[]},\"True: 3, pred: 3\"]},{\"props\":{\"style\":{\"display\":\"flex\",\"flex-direction\":\"column\"}},\"nodeType\":\"DOM\",\"type\":\"node\",\"instanceArgs\":{\"namespace\":\"html\",\"tag\":\"div\"},\"children\":[{\"props\":{\"setInnerHtml\":\"<img src='data:image\\/png;base64,iVBORw0KGgoAAAANSUhEUgAAAHAAAABwCAAAAADji6uXAAAABGdBTUEAALGPC\\/xhBQAAACBjSFJNAAB6JgAAgIQAAPoAAACA6AAAdTAAAOpgAAA6mAAAF3CculE8AAAAAmJLR0QA\\/4ePzL8AAAGeSURBVGje7dg\\/axRRFIbxn6IkKiEJiiixFCV2KQRRsUiaFOkt7RQC+Rqp8hFsDATEVsSAhaKdhaCCtirYWEQRg38Iq8WMkITdmYVZ5Hi4b3PZvYd99uFll7mXkpKSkpKSkpL\\/PwdG9UF3cR8bLXMH\\/7VhfuChUX3rebyJaJgfOJIO53AiqmF+4FAdnsMaVvC+Ye51RMP8wKE6vIQl3NG\\/w7P1+jGiYX7gUB3O1+ugjm7iC15ENMwPbO1wAgu4h+cDZg6jh52IhvmBrR1ewIyqv16f\\/SnM4lFUw\\/zA1g6v1uuTAfvXcRxPoxrmBzZ2OIZlbOE0buMUjuJaPfP3kuBIVMP8wMZ7mkl83vW6h7d4t+u9BYzjJ25hPZphfmBjh+N4iZNYVZ0tPu2b+YAz+KY6H16JZpgf2Phf+gMX66GtPvszmFb1fAPfIxrmB7Y+03xt2FvEMTzAq6iG+YGd7kun6\\/VxZMP8wJHcef+KbFiABRgf2Ol3eFn1YHsez6Ia5gd26nACv+09Q4YzzA\\/s1OEmtvEwsmF+YElJSUlJ9\\/wBQP0zQPmrB6QAAAAASUVORK5CYII='><\\/img>\"},\"nodeType\":\"DOM\",\"type\":\"node\",\"instanceArgs\":{\"namespace\":\"html\",\"tag\":\"div\"},\"children\":[]},\"True: 4, pred: 4\"]},{\"props\":{\"style\":{\"display\":\"flex\",\"flex-direction\":\"column\"}},\"nodeType\":\"DOM\",\"type\":\"node\",\"instanceArgs\":{\"namespace\":\"html\",\"tag\":\"div\"},\"children\":[{\"props\":{\"setInnerHtml\":\"<img src='data:image\\/png;base64,iVBORw0KGgoAAAANSUhEUgAAAHAAAABwCAAAAADji6uXAAAABGdBTUEAALGPC\\/xhBQAAACBjSFJNAAB6JgAAgIQAAPoAAACA6AAAdTAAAOpgAAA6mAAAF3CculE8AAAAAmJLR0QA\\/4ePzL8AAAH4SURBVGje7dnNq01RHMbxzz3IwEtSoqRbCikmQqg7IyUl\\/wATLwNvY6VEGZhgwEjexoZiYiIp3Ykk5W0gFAYi3BKum8FvD06n0z37HGWvs1rPaO211+7Z3572b+3f3hQVFRUVFRUVFRU1r5F\\/uXgUR7ABh\\/C0xjWt\\/02Yv+FAGa7EYezB\\/GruPXZiGd7gSSqE+Rv2lWELq3EXS7qc\\/455eIgxTKVAmL9h7QwXibp5om3uq8is866\\/YDEmUyDM33Bm3YVnsK8a\\/8YxvMZJbGpb9wm7dM+vEcL8DXtm2MJNkcuU2Of2YxsuYFXH+keiliZDmL9hzwyPYnc1foGzeIDZXda+wsHUCPM3nHY\\/nIW3Ym\\/r1GdcxFZsqeaOi4yTIszfcNoMZ+A+NlfHP\\/ATl3BO9BHj4pkcx3Z8S40wf8Oe76ULRN83icd4Xs3PxQ1RZyewHi9TJMzfcODvNHtxrRpfEe85SRLmbzhQhgtxD2vwDivwK1XC\\/A1r94ftuiXyg9Pq59cIYf6GfWe4HGur8W1cT50wf8O+aulS0RuOiho6JnqPpAnzN+zrOVwn8hvBVf3n1whh\\/oa1M9woegmiR7wzLIT5G9bKcA5OiV6R+C8xMSyE+RvWyvCA+AYDH7EDz4aFMH\\/DWhn+Ef8Kz+MyPgwTYf6GRUVFzesv8Z9JRjuIuiYAAAAASUVORK5CYII='><\\/img>\"},\"nodeType\":\"DOM\",\"type\":\"node\",\"instanceArgs\":{\"namespace\":\"html\",\"tag\":\"div\"},\"children\":[]},\"True: 9, pred: 9\"]},{\"props\":{\"style\":{\"display\":\"flex\",\"flex-direction\":\"column\"}},\"nodeType\":\"DOM\",\"type\":\"node\",\"instanceArgs\":{\"namespace\":\"html\",\"tag\":\"div\"},\"children\":[{\"props\":{\"setInnerHtml\":\"<img src='data:image\\/png;base64,iVBORw0KGgoAAAANSUhEUgAAAHAAAABwCAAAAADji6uXAAAABGdBTUEAALGPC\\/xhBQAAACBjSFJNAAB6JgAAgIQAAPoAAACA6AAAdTAAAOpgAAA6mAAAF3CculE8AAAAAmJLR0QA\\/4ePzL8AAAHbSURBVGje7do\\/qE9hHMfx172RweJP+bOwMFwZ3FsGCyXLXZSyKIyMNmWxWBSLSCZiEwN1i8JyU0wGiyy37sLgmn5FhJ\\/he25Xt9Rz3HKf37fns5xTz3l6n8\\/59H16\\/hyampqamlaqsb4dJnEJ0\\/iKg3jTo\\/\\/4\\/3aYH9g7w6c40t0v4DlO1uwwP3BNn4cPY6q7v4rb2FS7w\\/zA4jrcjPfYgBkcx49RcJgfWFyHB0R+cNm\\/5bcqDvMDizM8JIr2EV6PksP8wKIMt4h56BC3Rs1hfmBRhqcxgQE+j5rD\\/MCiDCe665x+a8EqHOYHFmU43V1XOo6uisP8wKIMx7o3O4pd2CNyHccvzIu9m3v4WZvD\\/MCi9eEHbBVzmj\\/1ztI4CxdwpTaH+YG9Mhzglai3BcyK\\/dIzONY9ewIPanKYH1g0lt7FedzH2WVtz8R6cS92Y2dtDvMDizJcXE\\/s\\/0v7AC9FhtU5zA8syvBL92ZrsQ7flrVPivlOycCc\\/5PWmeFNUYOncB3nxNkh7MANsSc+xKfaHOYHFp9bbMRbbBdnTg+xXmS6DR9xBxdrc5gf2OsMeAqPRY6LnYd4IdYVJXs4+T9p3RnCPkv\\/YsziCa7he60O8wObmpqampqamjLoN9EBQkkJB\\/XYAAAAAElFTkSuQmCC'><\\/img>\"},\"nodeType\":\"DOM\",\"type\":\"node\",\"instanceArgs\":{\"namespace\":\"html\",\"tag\":\"div\"},\"children\":[]},\"True: 6, pred: 6\"]},{\"props\":{\"style\":{\"display\":\"flex\",\"flex-direction\":\"column\"}},\"nodeType\":\"DOM\",\"type\":\"node\",\"instanceArgs\":{\"namespace\":\"html\",\"tag\":\"div\"},\"children\":[{\"props\":{\"setInnerHtml\":\"<img src='data:image\\/png;base64,iVBORw0KGgoAAAANSUhEUgAAAHAAAABwCAAAAADji6uXAAAABGdBTUEAALGPC\\/xhBQAAACBjSFJNAAB6JgAAgIQAAPoAAACA6AAAdTAAAOpgAAA6mAAAF3CculE8AAAAAmJLR0QA\\/4ePzL8AAAGZSURBVGje7ZnhTcMwEIU\\/EGMQ1kCBNaCskTZrQJmjLXOQskbDIPw4WzGhiaMENc7pnlQ5cq99evd0yp0NBoPBYJiKqyFBG+ANeACqiYTXl1aon\\/BmSFCxZIX6CaMeZu5TMr0GZ1GonzDq4bNbv5eqUD9h1MMnt\\/5HDc6iUD9hb0+TASegBu6WqlA\\/YW8dFm499MTkiNcA98AH\\/TWrP6Vpeei9+er4Pgd2QRzIHNI3g+hPaVoexrCm8c\\/3rTuaWTIJhfoJR3uY0\\/SsL8DePR+D\\/SQU6icc7eHaraF\\/IVYd+\\/pTmpaHtVtvW\\/sZUmsV531KSqF+wkGzRTtwj3hYAtvWbz4Rz7tmEf0pTa8OK+Tdt+GvX+2zm5WLLVNSqJ8wem+xQnpNkDnxHak1kFqrg7hX9\\/wY7M+uUD\\/h4Lungt9zIEg\\/A3Ie53vR2P2U\\/pSm6SGIfwXi5zlUiKd15H\\/0pzRdD0OcaGpyi5zjDO1P9ac0rZ6mCweaevT3i77\\/SU6hfsJRHvq+078Djwy\\/X9Sf0osTGgwGg8FgMGjAD\\/QCN9U4nfzGAAAAAElFTkSuQmCC'><\\/img>\"},\"nodeType\":\"DOM\",\"type\":\"node\",\"instanceArgs\":{\"namespace\":\"html\",\"tag\":\"div\"},\"children\":[]},\"True: 6, pred: 6\"]},{\"props\":{\"style\":{\"display\":\"flex\",\"flex-direction\":\"column\"}},\"nodeType\":\"DOM\",\"type\":\"node\",\"instanceArgs\":{\"namespace\":\"html\",\"tag\":\"div\"},\"children\":[{\"props\":{\"setInnerHtml\":\"<img src='data:image\\/png;base64,iVBORw0KGgoAAAANSUhEUgAAAHAAAABwCAAAAADji6uXAAAABGdBTUEAALGPC\\/xhBQAAACBjSFJNAAB6JgAAgIQAAPoAAACA6AAAdTAAAOpgAAA6mAAAF3CculE8AAAAAmJLR0QA\\/4ePzL8AAAHxSURBVGje7dlNqE1RFAfwn4+erhADgzfwUXoGQjIyM\\/LKVynJXAbCCEN5AwZ6iWL85spEScnYKzz1UgY+npJSZCQDn2GwjjrFfffce+Puu9v\\/yT27s+\\/591\\/\\/1jp7rUNBQUFBQUFBwfBjQb8P2IWDOIRVtYf+xA\\/swKPa\\/oX\\/W2H+hIt7+dNh7MdurBSezWEKD\\/AEp3FU+Fs8\\/KfoysNJnMQS4dtz3MUVzOJbbe9DjOHsoBXmT9hVLX2H1biBS3iMr232bsAbfB60wvwJu8rDaRzAbcx02PsyFYX5EzbOw42iXr7FNnwcFoX5EzbOw2No4Y7e\\/RuIwvwJG3vYqn5fDJvC\\/Akb19LXoo\\/YilfDpDB\\/wkZ5uAwr8Ky63ly7N+fPs2dSCvMnbJSH4+I9+DfM4iJuaeZl\\/iFN08MxXMMHkXewBtuxqVpfxxGdfcw\\/pGl62A4t4eE5MXubwPnUFOZP2NO89Dc+iX5xfbV+n6LC\\/An7ysOduIotuIe9OveO+Yc07TwcEfPRpaJunqiu7+OUZr1\\/\\/iFNMw+XY4+YY49iH9bhiziTXtZ8dpN\\/SNPycJH4DngBT8XMdER8253BcdFbJK0wf8J5PZzEmdr6u\\/BsQvt+MTmF+RPO+z6cFn3gWnF2uSnq51ApzJ+woKCgoKB\\/\\/AIEpErJGccL9wAAAABJRU5ErkJggg=='><\\/img>\"},\"nodeType\":\"DOM\",\"type\":\"node\",\"instanceArgs\":{\"namespace\":\"html\",\"tag\":\"div\"},\"children\":[]},\"True: 5, pred: 5\"]}]},{\"props\":{\"style\":{\"display\":\"flex\",\"flex-direction\":\"row\"}},\"nodeType\":\"DOM\",\"type\":\"node\",\"instanceArgs\":{\"namespace\":\"html\",\"tag\":\"div\"},\"children\":[{\"props\":{\"style\":{\"display\":\"flex\",\"flex-direction\":\"column\"}},\"nodeType\":\"DOM\",\"type\":\"node\",\"instanceArgs\":{\"namespace\":\"html\",\"tag\":\"div\"},\"children\":[{\"props\":{\"setInnerHtml\":\"<img src='data:image\\/png;base64,iVBORw0KGgoAAAANSUhEUgAAAHAAAABwCAAAAADji6uXAAAABGdBTUEAALGPC\\/xhBQAAACBjSFJNAAB6JgAAgIQAAPoAAACA6AAAdTAAAOpgAAA6mAAAF3CculE8AAAAAmJLR0QA\\/4ePzL8AAAHISURBVGje7dm\\/S1ZRHMfxV2oQgtCSBIVYELUoKNTS1tqggtTc0uA\\/0BK0RUMQLYGuYlPRVNAUQTWpf4BiQ0EN\\/SAhIlGq4TyDPHl97sONnuOX81nu5Zxzed8Pn3vOPT8oKioqKioqKjr4OtRN49e4gVcNgH3\\/22F84EDdhpMYx9eD5jA+sFaGfbiDLXxqq7uNFTzO1WF8YK0Mr+CE1A\\/bM9zGVSXDHgJrZXgOi\\/iwR90apnN2GB\\/YMcNRzEljZpVOYQTvcnQYH9gxw1l8x1JF\\/VTrrU8qGfYIuG+GI7iJu\\/7+D5LG2Cncx5tcHcYHVmbYj2vSAvJBRZuP+IKdnB3GB1ZmOIRbeKp6TbiJF7k7jA+szHALL3FBWhtu4Ak+t7VbxnXM7yp7j1+5OIwP3Hev7QhmcBaXcBw\\/dz34G0el+Qys4hHuSd9AFg7jA7vaLx3EYQzjfKtsDmOYkPrfdm4O4wNr75fCj9Z1E+ut+8s4I\\/0zO+XXE4fxgV1lWKWH+Jarw\\/jAxhk+k9Yg2TqMD\\/wn\\/XAMp\\/E2R4fxgY0zfI5j0rlGybAnwK7mpXtpQDo\\/HJTmNtk5jA9s3A93sICLuTqMDywqKioqaq4\\/Kwg+\\/KK0454AAAAASUVORK5CYII='><\\/img>\"},\"nodeType\":\"DOM\",\"type\":\"node\",\"instanceArgs\":{\"namespace\":\"html\",\"tag\":\"div\"},\"children\":[]},\"True: 4, pred: 4\"]},{\"props\":{\"style\":{\"display\":\"flex\",\"flex-direction\":\"column\"}},\"nodeType\":\"DOM\",\"type\":\"node\",\"instanceArgs\":{\"namespace\":\"html\",\"tag\":\"div\"},\"children\":[{\"props\":{\"setInnerHtml\":\"<img src='data:image\\/png;base64,iVBORw0KGgoAAAANSUhEUgAAAHAAAABwCAAAAADji6uXAAAABGdBTUEAALGPC\\/xhBQAAACBjSFJNAAB6JgAAgIQAAPoAAACA6AAAdTAAAOpgAAA6mAAAF3CculE8AAAAAmJLR0QA\\/4ePzL8AAAIvSURBVGje7dnNi05RHAfwzyA1jTI2YmnhJUPJy0JSrFhQVt4GCyxESmQ95Q9Q2CgLwmIkJLGZvCwUiYUiKbFAzWYW3lLGzFicq56Zzr3zzIjnOp3v6p5z7vl9+z7ffr\\/n3N8hIyMjIyMjo20ym6ZiM47hNAYb1u7hc8XeKf9aYfqEk\\/KwHV9L1s7hQJ0Upk\\/YlIcdWIEfeKzaw2EhDzfhUR0Upk84rZmXTuCI4Nte3MRl7CpR0CnU21ooTJ+w0sMOwb9DxXgG1uEaerEMXeLJfBZL6qAwfcLKWnoGB8fMPUE33hbjC9iNU1iJNcX8d+zArVYrTJ8w6mE7enBUvCZuRF\\/xPBPz8RyzcV3wEs5jf6sVpk8YraUbcLxkwwt8aBh\\/wtPi+aOQo6+L8SLMw7tWKkyfMOrh9JKXB7AdryoCNu5djaWyh38ZUQ97MRKZ71PtH1ypm8L0CZv6toAbOPw\\/KkyfMHqmGTY6D19iOX6WBFks5OgsoZb+DnpRONMMtVJh+oRN5eGIuH\\/7BG\\/XYs6YtW+Ch0Nj5tP\\/SevhYZvRediOVQ3jHuH7vrNYi6Eb9+ugMH3CaC29hJ1\\/EPSh0Id7XweF6RNGPdwi9NMmigHh3LoN\\/XVRmD5htJa+Ec4xXRMI1I89uFs3hekTlvZLFwj3uXPHCTCIL9gq\\/v\\/XcoXpE1b2vBfiqvJ8fIDbOFlnhekTjnsH3IX1wr0E3BHu6uGZ0COttcL0CTMyMjIyMjL4BX3VVcS5xfToAAAAAElFTkSuQmCC'><\\/img>\"},\"nodeType\":\"DOM\",\"type\":\"node\",\"instanceArgs\":{\"namespace\":\"html\",\"tag\":\"div\"},\"children\":[]},\"True: 0, pred: 0\"]},{\"props\":{\"style\":{\"display\":\"flex\",\"flex-direction\":\"column\"}},\"nodeType\":\"DOM\",\"type\":\"node\",\"instanceArgs\":{\"namespace\":\"html\",\"tag\":\"div\"},\"children\":[{\"props\":{\"setInnerHtml\":\"<img src='data:image\\/png;base64,iVBORw0KGgoAAAANSUhEUgAAAHAAAABwCAAAAADji6uXAAAABGdBTUEAALGPC\\/xhBQAAACBjSFJNAAB6JgAAgIQAAPoAAACA6AAAdTAAAOpgAAA6mAAAF3CculE8AAAAAmJLR0QA\\/4ePzL8AAAGMSURBVGje7Zk9SwNBEIafhFSx1MMurV5ragX\\/QZJaO3vBTsHOj\\/9gqmAfe0tJZZE21rZqqXbGYhY8iEfO7OEOw7ywJOHu9snLy8ztsuByuVwul8vlcrlcLhc0yi5kwEvh9xrQD6MXHpwXPveBhwrA5n87tA9slV04BU6QLPvAMbAFvAE3wGu47wzJsIdnmAj4ax3eAu\\/h+x6wDkyBOyS\\/oi6QvJtAN9ynyqF94EKGA2AEtJH6ugaGwHPJBG3gEciBK+Bcm0P7wIVemgNPSG5jfnpmmT6Az\\/DPNzQ6tA9cyPAyjL9oBuxodWgf2IqfAibAgVaH9oG1ZAjy7lTp0D6wlgx3kcXRRKND+8BaMtxG6nCm0aF9YG29dMryvWESh\\/aB0RlmyJ5iqNWhfWB0hl2gw\\/J9ZDKH9oHRGY6oviZN4tA+sBE7wRdyvrGp1aF9YFQd5kgNjjU7tA+MynCAFHLV9UwSh\\/aBK2eYAUdIH626nkni0D5w5Qw7YdxTfi6lwqF9YFQvnQOH2h3aB34D1XM0kuGMyWYAAAAASUVORK5CYII='><\\/img>\"},\"nodeType\":\"DOM\",\"type\":\"node\",\"instanceArgs\":{\"namespace\":\"html\",\"tag\":\"div\"},\"children\":[]},\"True: 7, pred: 7\"]},{\"props\":{\"style\":{\"display\":\"flex\",\"flex-direction\":\"column\"}},\"nodeType\":\"DOM\",\"type\":\"node\",\"instanceArgs\":{\"namespace\":\"html\",\"tag\":\"div\"},\"children\":[{\"props\":{\"setInnerHtml\":\"<img src='data:image\\/png;base64,iVBORw0KGgoAAAANSUhEUgAAAHAAAABwCAAAAADji6uXAAAABGdBTUEAALGPC\\/xhBQAAACBjSFJNAAB6JgAAgIQAAPoAAACA6AAAdTAAAOpgAAA6mAAAF3CculE8AAAAAmJLR0QA\\/4ePzL8AAAHESURBVGje7dixThZBFAXgD2MiDRoSEbUSeQKhpcLaEAOtHRQ+gBY+g7bWRDqj0YLGaK0V0YpCI8bGmBBCaYnFTAKSf91\\/2cQdb+Ykm7kzc3fPnj3Z3ZlLRUVFRUVFRcX\\/j4muJ3zFUzw5I+G5f60wPuH5LsmLmMvHaVzBJ2ziUUkK4xN28vBBbr813PksFkpTGJ9wbA8XsZzjvRHzt0tVGJ9wLA+n8ByX8QyvRuQsSD\\/XD6UpjE84locbuIEjvGjIWc7zey3Xiv9Iy\\/PwEh7m+D62W\\/Lb5uM\\/0vI83MUMdvCyIeem47XqYWkK4xM2engBW7iW++s4aMidwsVSFcYnbPRwGqs5PsI7vMHjPLaPHzlezTlFKoxP2FinmcF3TPrTn4nc38d76Tt6NedvY6U0hfEJ\\/1prW8Mdad8wmcfmjfb0F+7ibWkK4xN2rpfew60cf5Q8XsNPXC9RYXzCTrU20jpn60R\\/SXoP29ajgymMT9jZw9OYzm3bvnAwhfEJe3vYVuMeXGF8wl4eLjle47TVSQdTGJ+wl4dzkn\\/j1EkHUxifsJeHu7n9jC+lKoxP2MvDHal+81raHxapMD5hRUVFRUV\\/\\/AaDfjuzrf9WlQAAAABJRU5ErkJggg=='><\\/img>\"},\"nodeType\":\"DOM\",\"type\":\"node\",\"instanceArgs\":{\"namespace\":\"html\",\"tag\":\"div\"},\"children\":[]},\"True: 4, pred: 4\"]},{\"props\":{\"style\":{\"display\":\"flex\",\"flex-direction\":\"column\"}},\"nodeType\":\"DOM\",\"type\":\"node\",\"instanceArgs\":{\"namespace\":\"html\",\"tag\":\"div\"},\"children\":[{\"props\":{\"setInnerHtml\":\"<img src='data:image\\/png;base64,iVBORw0KGgoAAAANSUhEUgAAAHAAAABwCAAAAADji6uXAAAABGdBTUEAALGPC\\/xhBQAAACBjSFJNAAB6JgAAgIQAAPoAAACA6AAAdTAAAOpgAAA6mAAAF3CculE8AAAAAmJLR0QA\\/4ePzL8AAAH\\/SURBVGje7dpNqIxRHMfxj9tcdq63EmNBkkiytGCDhVgoZau7UBYosvK6JgsLJYkUNhayJm8bGxsbKRbeSiSKnXK71+I805073XmeI2XOnM53c57znP\\/069evZ+Y8\\/zMUCoVCoVAoDD9zYopW4h2mqg9Mda3dwCe8wp2etdkY+d8O8xdsxRZOVmNvRuNd10twuas2CYf5C0Y9h\\/NxHEcw1lC7Ch9Tcpi\\/YFSGHTbjGX7jHnZgUU\\/NIVxJyWH+gtEZjuIuduM+dqEtZHYMc6u6N0LWP1NxmL9gVIajOINT+ICtwj6mwwNs75q38SUVh\\/kLRu1p2kJ+cM3M\\/OA8tmBeNd8r7G2ScJi\\/YFSG+6rxufAu0csj4XdyWzVfn5LD\\/AUbM9yIw\\/iF0\\/jcp+666QyTcpi\\/YGOGB7ECD4Xnbegc5i9Ym+EY9lTXt4fVYf6CrabFZcPuMH\\/B6F7b3\\/A6JYf5C0ZnuC6y7i1upeQwf8HoDMdxFe\\/7rG+oxif4kZLD\\/AVr+zSL8bVr\\/g0XcU7otS2v7h\\/AJqGHs1M4p0rGYf6CtRmOCO99+7vuTeA7FprukXY4ikupOcxfsPa7dBJPzcywhaWz1J7Qv782UIf5Czb2vEewFi9rak7igvqz34E5zF8w6txiAVZjDc7iBR7jZrU+ofk\\/GANzmL9goVAoFP6dP3soRZfIGosGAAAAAElFTkSuQmCC'><\\/img>\"},\"nodeType\":\"DOM\",\"type\":\"node\",\"instanceArgs\":{\"namespace\":\"html\",\"tag\":\"div\"},\"children\":[]},\"True: 0, pred: 0\"]},{\"props\":{\"style\":{\"display\":\"flex\",\"flex-direction\":\"column\"}},\"nodeType\":\"DOM\",\"type\":\"node\",\"instanceArgs\":{\"namespace\":\"html\",\"tag\":\"div\"},\"children\":[{\"props\":{\"setInnerHtml\":\"<img src='data:image\\/png;base64,iVBORw0KGgoAAAANSUhEUgAAAHAAAABwCAAAAADji6uXAAAABGdBTUEAALGPC\\/xhBQAAACBjSFJNAAB6JgAAgIQAAPoAAACA6AAAdTAAAOpgAAA6mAAAF3CculE8AAAAAmJLR0QA\\/4ePzL8AAAEgSURBVGje7dmvSgVBGIbxn3\\/AJpgscoJmTRrsilEMtpOMeg0mr0I4wWASQW\\/BooLNaFbwAjRrOAtG+Tbo7Mf3wDITZnl4eZlh2aEoiqIoipnI4hesYRGfPYWzf50wv3A+svirew5wOZSE+YWhffiIzW4eKv8\\/E+YXhjrcxyk2MML7EBLmF4Y6ZNrjFSY4GULC\\/MLwkTjCHMaqw0aE4Q6PhpYwvzDc4Q3Wh5QwvzDc4erQEuYXhr9p3rDcvXiM89YT5heGO9zCGfZwjcPWE+YXhs\\/SJ9xhF9tDSFjCEpawhCUs4e\\/0+nU97sYFrOC15YT5hb06\\/OjGJezgouWE+YW9Orz1cwfVfMISlrB9Ya99+IB703vE59YT5hcWRVEURcE3pQsZsV8xG4wAAAAASUVORK5CYII='><\\/img>\"},\"nodeType\":\"DOM\",\"type\":\"node\",\"instanceArgs\":{\"namespace\":\"html\",\"tag\":\"div\"},\"children\":[]},\"True: 1, pred: 1\"]},{\"props\":{\"style\":{\"display\":\"flex\",\"flex-direction\":\"column\"}},\"nodeType\":\"DOM\",\"type\":\"node\",\"instanceArgs\":{\"namespace\":\"html\",\"tag\":\"div\"},\"children\":[{\"props\":{\"setInnerHtml\":\"<img src='data:image\\/png;base64,iVBORw0KGgoAAAANSUhEUgAAAHAAAABwCAAAAADji6uXAAAABGdBTUEAALGPC\\/xhBQAAACBjSFJNAAB6JgAAgIQAAPoAAACA6AAAdTAAAOpgAAA6mAAAF3CculE8AAAAAmJLR0QA\\/4ePzL8AAAHQSURBVGje7dkvbBRBFMfxz5GqnoSzIEmDg1QREhQJioIkBAWiqkE2dRWg8OTqIMFBJQFbFAJLPQ7wdV3E20v\\/EG53j4SbvMzPzOXmNr\\/93Tcz894uVVVVVVVVVVVVVcvXaN7kBI+wgVto2gtm43u8bce+uvC\\/E+Y3nMvwA+74k93p8QjrOCw1YX7DlXmTl9o7+oGv2MfTdu4KLmKMLWyWmjC\\/4VyGz8U63BMMYYo1vMLN9ru+a3ApCfMbjoZeMMYXwbERbNdLTpjfcGXIj3fwEFcFv0as1aIT5jfszfAGdp2taab4XHrC\\/Ia999JVZ\\/fQEX6KunRPnIl9eoz8f2m5DGfawRNRl57vNe7iY2kJ8xsOZkj0HJdxHw\\/E+TjCAW6XljC\\/4UIMT2uCl+J5TiP6xGlJCfMbDqpL\\/6bZGdngW2kJ8xv+M8MtXBcL+rHYT4tKmN9wYYYTbAuGDX7p5reUhPkNF2K4hndOaplDXCs1YX7DwQzfiHdRq2L97Ys9tNiE+Q0769IxXrefN9o7PMZ3PBMMi06Y37BzHW7jnpNe\\/lg8j9kUZ2DxCfMbdjKcCH5Hom94Ydh7+6UnzG\\/YyfBA1C6fDH9HUUTC\\/IZVVVXL12+230lhUH79EwAAAABJRU5ErkJggg=='><\\/img>\"},\"nodeType\":\"DOM\",\"type\":\"node\",\"instanceArgs\":{\"namespace\":\"html\",\"tag\":\"div\"},\"children\":[]},\"True: 3, pred: 3\"]},{\"props\":{\"style\":{\"display\":\"flex\",\"flex-direction\":\"column\"}},\"nodeType\":\"DOM\",\"type\":\"node\",\"instanceArgs\":{\"namespace\":\"html\",\"tag\":\"div\"},\"children\":[{\"props\":{\"setInnerHtml\":\"<img src='data:image\\/png;base64,iVBORw0KGgoAAAANSUhEUgAAAHAAAABwCAAAAADji6uXAAAABGdBTUEAALGPC\\/xhBQAAACBjSFJNAAB6JgAAgIQAAPoAAACA6AAAdTAAAOpgAAA6mAAAF3CculE8AAAAAmJLR0QA\\/4ePzL8AAAE1SURBVGje7dg9TgMxEMXxX4AqtNwB0iKlA64AFRWUHIOWM0TiDogzQKog0SF6DhEqPgqTA6xXIvZoXm\\/99\\/l5PJ4llUqlUqlUqn9Nhi54wRrX+KgA7vy3w\\/jAvZpFJ7jBbQ8O4wMHZ3iPBQ56cRgfWFWHPz05jA8c3A9neFNy3O3BYXzg4AzhS8nwEg+tO4wPrMpwobxpXjFv3WF8YFU\\/pL4nxt\\/SPjJcKnW4j6kyLzbrMD6w6i6dYqW8b+bKndqsw\\/jAqjpc41M5AGcywy0Dq\\/vhO45x2LrD+MDqDJe46sFhfGB1hpS36ax1h\\/GBozKc4LR1h\\/GBo+tw6JwYf0v7yfD572u\\/W3cYH1g1H260+W865CDE39J+6hAecaHMiE+tOowPHJXhHc5xJDPcIjCVSqVS4\\/ULUT4jfl2cXhgAAAAASUVORK5CYII='><\\/img>\"},\"nodeType\":\"DOM\",\"type\":\"node\",\"instanceArgs\":{\"namespace\":\"html\",\"tag\":\"div\"},\"children\":[]},\"True: 1, pred: 1\"]}]}]},\n",
       "            window,\n",
       "        );\n",
       "    } else {\n",
       "        document\n",
       "            .querySelector('[data-webio-mountpoint=\"12832281628894097171\"]')\n",
       "            .innerHTML = '<strong>WebIO not detected.</strong>';\n",
       "    }\n",
       "    </script>\n",
       "</div>\n"
      ],
      "text/plain": [
       "(div { style=Dict(\"display\"=>\"flex\",\"flex-direction\"=>\"column\") }\n",
       "  (div { style=Dict(\"display\"=>\"flex\",\"flex-direction\"=>\"row\") }\n",
       "    (div { style=Dict(\"display\"=>\"flex\",\"flex-direction\"=>\"column\") }\n",
       "      (div { setInnerHtml=\"<img src='data:image/png;base64,iVBORw0KGgoAAAANSUhEUgAAAHAAAABwCAAAAADji6uXAAAABGdBTUEAALGPC/xhBQAAACBjSFJNAAB6JgAAgIQAAPoAAACA6AAAdTAAAOpgAAA6mAAAF3CculE8AAAAAmJLR0QA/4ePzL8AAAGrSURBVGje7dk/a9VQHIfxT711EFysKDhYOzl0KSKCoILiYtuhg30L10U7dnZ3dPAddBEEQRERKuigDl1E7T+8HVREEOqghaKFOiRDKVy9aUp78uN8l5z8IQ8PX06SQ8jJycnJycnJycnJyamfvm4nJtHGV6xjBt/wsSbwwF4bxgd27XAFQ9uO/cSH/9zwC+5gLhXD+MD+bifaGME8hnEGl3Een3Fyy7Ub+I4T5f4nucM9TF+Vi48oupzDuS3H17GMBQzgFu6lYhgfWKnDf+U67uM9rmA1FcP4wF3p8DjeldtJPEjJMD6wv/4tuIlj+IGl1AzjA2vPwwt4joOKb56XqRnGB9aeh2OK/mbxOkXD+MBaHR7CNfzGbfxJ0TA+sFaH04q1xlO8StUwPnDH78NxPMQaRvX2HN0Xw/jAHc3Do7iLFp7ovb99MYwPrDwPW3iDs+go3oedlA3jAyt3eBqL5XgCj1I3jA+s9Cw9hWfleBqPm2AYH1ipwxsYLMcvsNkEw/jAnju8hKkmGsYH9tzhRRwuxx38aophfGDltcVbXNX931JyhvGBOc3PX/q9Oc17OzXKAAAAAElFTkSuQmCC'></img>\" })\n",
       "      \"True: 7, pred: 7\")\n",
       "    (div { style=Dict(\"display\"=>\"flex\",\"flex-direction\"=>\"column\") }\n",
       "      (div { setInnerHtml=\"<img src='data:image/png;base64,iVBORw0KGgoAAAANSUhEUgAAAHAAAABwCAAAAADji6uXAAAABGdBTUEAALGPC/xhBQAAACBjSFJNAAB6JgAAgIQAAPoAAACA6AAAdTAAAOpgAAA6mAAAF3CculE8AAAAAmJLR0QA/4ePzL8AAAHhSURBVGje7dnPi01hHMfxF80oK5lZaMpKsqAojY212DBSin9DBiWy4l+ws8BGk2kiCztTCmWBmtgobEhSIik/snge3bm3cc85ppxzvz2fuvXt+5zuu8/99D33PM+hqKioqGi1WlP3wlmsx04czb3LeIBrDYBr/7fD+MBaGd7Qy21QL7EPb7rqMD6wMsPB/F7gLrbgUO6dx6WuOowPHBu2OI0juV7CDD7gC9bhIXZhossO4wOHZjglDeoSDuDtsrVZbM/1nS47jA8cmuFtbMVnfBxYO4bxUXAYHzhWdcHrFXqnsC3Xj/Knsw7jA2vvLf7oIOak/8P3OI7FLjuMD6ycw0FNS/mRnlmb5NeKw/jARhkuYH+ur+LcKDiMD6x9L53CU0xK+4u90v6+8w7jA2vP4U0pP7ju3/JrxWF8YK0MZ7A71/dwYZQcxgdWZjiJs3p7wSfSOc3IOIwPrMzwJPbkesHqZrAVh/GBlc803/RmcLP+87aRcBgf2GhvMYHvA71PuTeODbm3ESeWXfMTZ/C1DYfxgY0yfLZCb06azU3SGerf9A4X23AYH1h5L53H4QZf+AO/cn0Lj3N9X3rnH/8n7V6GcFr/O4od+mfuCl7leh7Pu+QwPrCoqKioqKioKIJ+AzhFQPcCumLaAAAAAElFTkSuQmCC'></img>\" })\n",
       "      \"True: 2, pred: 2\")\n",
       "    (div { style=Dict(\"display\"=>\"flex\",\"flex-direction\"=>\"column\") }\n",
       "      (div { setInnerHtml=\"<img src='data:image/png;base64,iVBORw0KGgoAAAANSUhEUgAAAHAAAABwCAAAAADji6uXAAAABGdBTUEAALGPC/xhBQAAACBjSFJNAAB6JgAAgIQAAPoAAACA6AAAdTAAAOpgAAA6mAAAF3CculE8AAAAAmJLR0QA/4ePzL8AAAFHSURBVGje7detSgRRGMbxn19lo+BH06QILipYRMRgEwSzyRsQ78PqHdiExbSg1WrRKCaLRcMmxeJHcC5gZwbcc17OU94Jw/z58/CemaGkpKSkpKRkrO0DlvCIU5wPcf/4fxvGB062fcAGvvGSqmF8YOsO1/GOq1QN4wNbddjFCS5SNowPbNXhMjq4TNkwPrDVN80dZrDq7zxN0jA+sPEeLmITT4bvbySG8YGNO9yt5lvqhvGBjTvsVvMsdcP4wEbvwy308YxtfKZsGB/YaA/3MI0b9fobiWF8YKMO1/CDXg6G8YG1z9J5PGCAlRwM4wNr7+ExZnGdi2F8YO0OF6o5yMUwPrB2hwfV7OdiGB9Yq8MdzOVmGB9Yq8NDTOAet7kYxgcO3WEH+9V1D1+5GMYHDv1vMeVv915xhI9cDOMDS0pKSkpKSvgFnPUiCkwgYfcAAAAASUVORK5CYII='></img>\" })\n",
       "      \"True: 1, pred: 1\")\n",
       "    (div { style=Dict(\"display\"=>\"flex\",\"flex-direction\"=>\"column\") }\n",
       "      (div { setInnerHtml=\"<img src='data:image/png;base64,iVBORw0KGgoAAAANSUhEUgAAAHAAAABwCAAAAADji6uXAAAABGdBTUEAALGPC/xhBQAAACBjSFJNAAB6JgAAgIQAAPoAAACA6AAAdTAAAOpgAAA6mAAAF3CculE8AAAAAmJLR0QA/4ePzL8AAAH0SURBVGje7dmxaxRBFAbwX6KdrVdYRRBR0lmoXQQrBQ9sRMEUYmEQMfYGlLQKVkpEG/8BG5EUNkIs0sTCJoIgeDYiaiFICIhisXvscNns7SKYcZivub3Hm/3m4+PNzrwhIyMjIyMjY6LrgD24izm8xjkMOoyf/NcK0yfs7OFBrAeznceDmBWmT7i7S3IPT/43hekTtvZwHmdxbCQ+U876DVZiVJg+Yeu19Bd+18x2GBvgvOIbGZXC9AlbebiM07Z6+A0/MBXEdsWmMH3CsWvpCRxS+Bd6+BAv8B0nsVDGr2IpJoXpEzbW4X6sYq9q3RzgKRaxUeZNlXk9bOIW7uNnDArTJ2z0cPQc8RIX8LUm9zruqbw+jPcxKEyfsPW+dA2X1fsHz3ARR2NTmD7hWA+HMzo+Jm+izB3mL2I2BoXpEzZ6OGfrXnQ79HFEtfe5HYvC9AkbPey3eEEP07gZxL6o38/siML0CTv12uqwgGvB/w+4hI+xKEyf8K88XFacHUO8xauYFKZP2Hi2eIcD5fOZ8vcx9gWzHf1e5j5NXHW4hDvl83OVX6Fvo72b6BSmT9hYh2H/pa7mJvFZsX5ewSdV7yYahekTju15zyjunG6o9zDfAe84Yeu7p1OKWusrejKPysHrtt+DRqEwfcKMjIyMjIwM/gC5j04wkka+LwAAAABJRU5ErkJggg=='></img>\" })\n",
       "      \"True: 0, pred: 0\")\n",
       "    (div { style=Dict(\"display\"=>\"flex\",\"flex-direction\"=>\"column\") }\n",
       "      (div { setInnerHtml=\"<img src='data:image/png;base64,iVBORw0KGgoAAAANSUhEUgAAAHAAAABwCAAAAADji6uXAAAABGdBTUEAALGPC/xhBQAAACBjSFJNAAB6JgAAgIQAAPoAAACA6AAAdTAAAOpgAAA6mAAAF3CculE8AAAAAmJLR0QA/4ePzL8AAAHWSURBVGje7dnPi05RHMfx12hqRFJPk5KFKSsyC2woJRtC2aCUFQt/gO2sJBsLdqztLGRnyyzsRlGUDTaWfqQQJR6LczVPuPfcujXP8e286+ncnufb99Pnfjr3nHseKpVKpVKpVP5/ZvoW7sU9LHTUHMELvOmoWbfWDuMLzvYtPIq5TM1JXMDZkhzGF+yV4SyO96h7jEvYiC+lOIwv2CvDwziAa5m6EXZhg5rhGpJdDxfxEO+xD587apdxEFvxthSH8QWz83BJejYe053fCIfwszSH8QU7MzwtrYMvsZJptCTlt4yPJTmML9iZ4RlpbbuVabKAc/iBq/heksP4gq0Zbsb+5vpmpslFzEvvhg9KcxhfsDXDOWzDnR5NdjTj8xIdxhdszfATnkr70hE+tNRtkdZNeFSiw/iCrRl+xSucwn1c/+P33dL8245x891Ynvi3tKz3w524jBP+Pmd7J2U2P9Fkk5R9UQ7jC/Y6895jdc37zd1mvC3tSel36BP/lpbzLJ3kSfP5F68nrhfxrDSH8QV7/2/RxozVyZzLbyoO4wsOznCs315mag7jCw7OcH0zfivVYXzBwRmel85Hr5TqML7g4AxXcEP+jG1qDuMLViqVSmU4vwBr3jsoVUdw/wAAAABJRU5ErkJggg=='></img>\" })\n",
       "      \"True: 4, pred: 4\")\n",
       "    (div { style=Dict(\"display\"=>\"flex\",\"flex-direction\"=>\"column\") }\n",
       "      (div { setInnerHtml=\"<img src='data:image/png;base64,iVBORw0KGgoAAAANSUhEUgAAAHAAAABwCAAAAADji6uXAAAABGdBTUEAALGPC/xhBQAAACBjSFJNAAB6JgAAgIQAAPoAAACA6AAAdTAAAOpgAAA6mAAAF3CculE8AAAAAmJLR0QA/4ePzL8AAAFfSURBVGje7ZgvSwRBGIcfxT/BeFGLYBNMXjnkos0g+DX8AuKXMClYBfNVLQaLCGIwGtQseCYP9TzDvuI2d2ZB5v3x/srMwu498/BjhtuFSCQSiUQiEf+ZavsDW8AA2AWOgPEf90//t6E+sFWHHeAWWLTrBeCtNEN94Eybh/v89ncKjEo01AdmdzgP7NWuT4BJiYb6wOyztAtc2fwTmCvVUB+YvQ+3a/Ozkg31gdkd9m18B/ZLNtQHZp2lPeDS5i9U/0+LNdQHZu3Dbm1+WLqhPjCrw3Ubh1Tv9UUb6gOTz9IN4MJW+ggsl26oD0zeh53aKs89GOoDkzvcsXEIHHsw1AcmnaVLwIOt8g5Y82CoD0zah73aCgdeDPWBSR3+vAc+AwdeDPWBSR1u2vgEvHox1Ac27nAWWLH5CPjwYqgPbNzhF3ANrAL3ngz1gY07HFN9254AN54M9YGRSCQSaZ9vTqsmkdnR/jAAAAAASUVORK5CYII='></img>\" })\n",
       "      \"True: 1, pred: 1\")\n",
       "    (div { style=Dict(\"display\"=>\"flex\",\"flex-direction\"=>\"column\") }\n",
       "      (div { setInnerHtml=\"<img src='data:image/png;base64,iVBORw0KGgoAAAANSUhEUgAAAHAAAABwCAAAAADji6uXAAAABGdBTUEAALGPC/xhBQAAACBjSFJNAAB6JgAAgIQAAPoAAACA6AAAdTAAAOpgAAA6mAAAF3CculE8AAAAAmJLR0QA/4ePzL8AAAHtSURBVGje7dlPiE5RHMbxD9lYTCIGS7ZSioXNYOVPlrIixIKUhYWUpGRtSylFbAw1KSJZWcxuNJKVP4kiJMqOeC3OnZrG3D/ulHOczrN5z33vuefb09O559zfoaioqKioqKjo/9e8Lp2GMYpxXMLrlv6LsAn38WPGvfn/2mH+wAVtHRbjmZDLB93ym8AybMDz2A7zBzZmuBQ3sAQXcKzDgKexCof9mV8Uh/kDG9+lW3Gvaq/Ap5bB1uApxnAA31JwmD+wdh4OY1fVPqRbfg+r9pjZ84viMH9gbYbnsVdY2252GGgEy3EF11NymD+wNsMBfuEdvjcMsBCncLR65mBqDvMHtu5Ld+IBvuLijHubsQUbq+tbKTrMH1i7p1mP21g5reNgloen/nuF7XiZmsP8gbXzcAJrsU7I5oSwr7k6rc81PKna49rzi+Iwf2CnOk2dVuMFJrFN+941isP8ga3rYZPOCO/Sk7rlF8Vh/sDeGe7GPuE78HPKDvMH9s5wR/V7B49Tdpg/sPd6+B5DwvlEyTAqsNc8PCLUZD76u/yiOMwf2DvDAe5W10PCGdWbFB3mD5zTvvQn9uC4cMa4P0WH+QN7rYeTwvf/VJ3mMs7hbYoO8wf2ynAEZ/FIqKF+0VwXj+owf2BRUVFR0dz1G5IZTY3KuGb8AAAAAElFTkSuQmCC'></img>\" })\n",
       "      \"True: 4, pred: 4\")\n",
       "    (div { style=Dict(\"display\"=>\"flex\",\"flex-direction\"=>\"column\") }\n",
       "      (div { setInnerHtml=\"<img src='data:image/png;base64,iVBORw0KGgoAAAANSUhEUgAAAHAAAABwCAAAAADji6uXAAAABGdBTUEAALGPC/xhBQAAACBjSFJNAAB6JgAAgIQAAPoAAACA6AAAdTAAAOpgAAA6mAAAF3CculE8AAAAAmJLR0QA/4ePzL8AAAHnSURBVGje7dhNiI9RFAbwn0mhGCFl4aN8LBRFycKCzX8jpdRgmGSrsLLARlFYWFCWyspHSqKsZCc1u8koC1EsFIqQEIu/xX3lL/G+M72ZO8d9Nu97T7eenvt0zrn3UFBQUFBQUFBQUDDxmDKWzf04jVXo4Ns4CPv+tcL4hFObbhzCSSyq1v14MxkUxidslIcLMYJ56FaxaziAt7krjE/YyMNzOFht7vbE30u5eR5fc1UYn7DWwyUYxUw8xCupF/7Aa6zFy1wVxies7YdrMAv3sAnTsRtHsQwLcAubNaur8Y80Pw+nSfXzbLX+gosYwNIq9kmppRNIWOvhruq7BTd74ut6/ofxMVeF8Qlr++EOXJV64SBWYxu24wPmSDV0Ix7lqDA+Ya2Hc/EEs/16L72L/biNFbiAfTkqjE/Y6G3RwXXJx670ljgs9cZTOILn1b6nuSmMT9h41taR7qPvcMzP/jcDV7AVl7A3N4XxCcc0L/0TBnEZL6S3yN/eGPGPdHJ62Cfl4E4cx4mcFMYnbMVDUv7dl2YAK/E4F4XxCVvzEA7hDG5gDz7noDA+YasezpdycbmUl6M5KIxP2KqHsBjPpLnAUA4K4xO27iHcwQas9/vsJv6R5jcvHQ8G8ECqqcXDgoKC/wDfAfoASMU830GuAAAAAElFTkSuQmCC'></img>\" })\n",
       "      \"True: 9, pred: 9\"))\n",
       "  (div { style=Dict(\"display\"=>\"flex\",\"flex-direction\"=>\"row\") }\n",
       "    (div { style=Dict(\"display\"=>\"flex\",\"flex-direction\"=>\"column\") }\n",
       "      (div { setInnerHtml=\"<img src='data:image/png;base64,iVBORw0KGgoAAAANSUhEUgAAAHAAAABwCAAAAADji6uXAAAABGdBTUEAALGPC/xhBQAAACBjSFJNAAB6JgAAgIQAAPoAAACA6AAAdTAAAOpgAAA6mAAAF3CculE8AAAAAmJLR0QA/4ePzL8AAAH4SURBVGje7dnPi09RGAbwzxg/GxvR2PhVZGNBpDSlpiyVshHFko2FHyt2FEn+ASUjiT9AKU2UopDFN0Vpshhig43FJDIzFueWS3dmvl+GOd+382xO95zu+9znPr3nvOccCgoKCgoKCnpmI8gyrKk9v8EJvMAIntfG5v1vhfEJ/8rD3diDQWyo9Y9gLRZVz71zqTA+YccersdRHMHiNgMUD/8p5nf6wiocm2b8FV7mpDA+4YwersBxPMJdfMNnjKEPw9K69xQtfKnGslEYn3DaqbAPD7EZe3G76l+HUamOeYeJnBXGJ5wyDxfiluTfBdyrjY1W7dtuUBifsDEPl+I0TuETNkrzZ1cqjE/Y6OFBXJfybKc0X3atwviEjXPpQNW2zK5/c6IwPmFjHn7AcnzFRamWaXWrwviEjR5O+rXWnMBlPJFq0dd+7gE34bH28zX+L83Dw0s42UGQj3iA/TkqjE/Y6GEvtuKmtGCubuPLJnEG53JTGJ+wsaYZxzNpTwG7sEDyaPsUgXqwLUeF8QnbOi+9X7VbJA+/4xquSHdMB3JWGJ+wozPvYZyvXjos3TcN1sbf56gwPmFHd09LMIR9v/WP4450NjA2Q4z4vzRvD2ElrkprX790dnpDWiuzVBif8I/v8Q9hB85KZwLZKoxPWFBQUFBQUMAPcuVJ1mUaeWkAAAAASUVORK5CYII='></img>\" })\n",
       "      \"True: 5, pred: 5\")\n",
       "    (div { style=Dict(\"display\"=>\"flex\",\"flex-direction\"=>\"column\") }\n",
       "      (div { setInnerHtml=\"<img src='data:image/png;base64,iVBORw0KGgoAAAANSUhEUgAAAHAAAABwCAAAAADji6uXAAAABGdBTUEAALGPC/xhBQAAACBjSFJNAAB6JgAAgIQAAPoAAACA6AAAdTAAAOpgAAA6mAAAF3CculE8AAAAAmJLR0QA/4ePzL8AAAIoSURBVGje7dk5aFVBFAbgL3mKCom4geLaWGjhUkgUbIJgoaCgCFpYpjAICgGDWAlJF0hrtBBRsLUTQdTCpRAsVATFQlA0xCgE3JdEixl54cEj9yXguxnmhwtz5s7h5+fnnJm5l4yMjIyMjIyMjIyMjJmjZTpJ67EMB9CJCQzhAV5Okdv6vxWmT9iQh5twHAcFD2vxGy9wDyfxswwK0yecU2TRZsG7w1gY597iLl6hF4/QgSXYi8dCbTZdYfqEU9bheaFn/qu7W3iKM/ge5+6gGxexFSNYixUYbbbC9Anr1uF8ob66BKNHcQ4D+FKzdikqOIsbWFcmhekT1vWwE6cE/94Je+DDmjUVrMFlXMfiON+CKxgrg8L0Cet6WMF4HP/CdhzChjj3DRvj8wHLJ+WOoD/mNV1h+oR198MFuIrdcdyKP/HduOBxLSZwDScwXBaF6RNOeaZZhNPYiY94jXnYIpxDJ2NIOOuMlUlh+oTTuuMT9sCjcfwJPbik2n9LozB9wkL3w1r04sikuFvou6VUmD5hw3XYhUG0xfgZtuFHWRWmT9iQhx24ifYYf8Ye3C+zwvQJG+ql+1T9+4r9GvOvKQrTJyxch+3CPXBujC/g2GxQmD5hIQ/b8BwrY/wEO1S/l5ZaYfqEhXrpLqxSveP3mJ5/TVGYPmEhD/tU/RvA7dmkMH3CQr30DVbjvfBvabhIUlkUpk9YqA4H49NnZv41RWH6hBmzH38BKKpUS7N47u4AAAAASUVORK5CYII='></img>\" })\n",
       "      \"True: 9, pred: 9\")\n",
       "    (div { style=Dict(\"display\"=>\"flex\",\"flex-direction\"=>\"column\") }\n",
       "      (div { setInnerHtml=\"<img src='data:image/png;base64,iVBORw0KGgoAAAANSUhEUgAAAHAAAABwCAAAAADji6uXAAAABGdBTUEAALGPC/xhBQAAACBjSFJNAAB6JgAAgIQAAPoAAACA6AAAdTAAAOpgAAA6mAAAF3CculE8AAAAAmJLR0QA/4ePzL8AAAHuSURBVGje7dlNiE5RHMfxD4ONl5Td7LCQSDGKjSaWSM1qLGSB8rKUlSRlw0ZZUcrY2GGhFBsveUsWisKCsqAUec9sNCzOLdP0PPfepzTO8+/8Nvc+zzmd3/32639O938pKioqKioqmtHL5A14gGXYii24Vo09xN0Wa8ycbsL4hq0yXICL2IRxzMG8KXPG8RP7cSknwviGrTI8g72Tfr/AB3yb9NSbq/vvUr0+zYUwvmFjhitwG4vwFjvxCl/wY9JTH8URDOAK9uBzDoTxDWc1TZgv5fcbJ6U8p2oCx6Q99hBGcN7fs/K/EsY3bKzDYdzCBexqseBrLMYYdudAGN+wsQ6PV9dHLRe8gX1YnwthfMPaDJdgEF/xrOWCN6UMsyGMb1ib4Q4px8vSe2FfEsY3rM1wu1SDp/uZML5h43n4Evf6mTC+YdcM52J2BML4hl0zHMVSfOxxwW3V9VcuhPENG/fSXjQk9cLhcC6E8Q3/WYZDOIiFuC+9J2ZBGN+wa4ZvpP51Gw1IPbZRvKvuy146barttT2X+qTDOp+Lq3AAa7C2+m8j7uREGN+wcS9djut432FsndQPJ2V8FY9zI4xvWFuHI9L3pNU1cybwCadwIkfC+IaN3y0GpTpc2WHsHJ7gbM6E8Q2LioqKioqK+AOpS0hF1w/OiAAAAABJRU5ErkJggg=='></img>\" })\n",
       "      \"True: 0, pred: 0\")\n",
       "    (div { style=Dict(\"display\"=>\"flex\",\"flex-direction\"=>\"column\") }\n",
       "      (div { setInnerHtml=\"<img src='data:image/png;base64,iVBORw0KGgoAAAANSUhEUgAAAHAAAABwCAAAAADji6uXAAAABGdBTUEAALGPC/xhBQAAACBjSFJNAAB6JgAAgIQAAPoAAACA6AAAdTAAAOpgAAA6mAAAF3CculE8AAAAAmJLR0QA/4ePzL8AAAItSURBVGje7dq7a1RBGAXwnyEQFAKx0izBKlhZmDQisRJBiCns/AN8BAsVK0GjhdpYqJ3iCwTBMkJEQZBYiTYKFuJjK/FVSBoFAwZZi5mFZZPdvRjI3h3mwGXundfhzGEe33DJyMjIyFgt1hWtOIDnGMND7P9Pwr61Vpg+YX+RSgO4iu2o4VUvKUyfsJCHx3EE8ziHl72kMH3CQh5ujulTq/OvKwrTJyzk4SCWBA97TmH6hB3PNBV8xgvs6kWF6RN2nIczBTvaiZH4/gYfy6IwfcKOHu6L6e0W5ddjnY1YH/N+CufYC2VQmD5h27V0A6r4iy0N+f0YxwPhvNOHH0L8OB7rfsUEPnVbYfqEbefhIWzCzYa8ihBn1NfYb7iHa/gS8+YwiWHZwzVAWw/HYlptyJvBtBDrz+Mk3ja1q7bpM/0hLZeHlabvrTgQ32/hBP60aPs6Pl1XmD5hWw8HhQ2zvmkewxDu42iHdktW9jf9IS2Xh7WGh7C/1WLaChUcxGxZFKZPWOiepo5p4aw5gdO4gYWmOrNYxOWyKEyfsKWHFcvn24IQO8zhPPZiCr9iOiOcgy5qfa+a/pCWKz58gj14LJxlfjeUTeGdsOedFdbPRVyycmzfNYXpE7b1cASPsE24L72C77FsEruxI3byAWeEuL9UCtMn7HjnPYxnGG1qVGv4votTlu+NpVCYPmGhfzGGhLV0FIeFu9O6h3fwvswK0yfMyMjIyMjIyEgB/wCNKVZFvCpwHQAAAABJRU5ErkJggg=='></img>\" })\n",
       "      \"True: 6, pred: 6\")\n",
       "    (div { style=Dict(\"display\"=>\"flex\",\"flex-direction\"=>\"column\") }\n",
       "      (div { setInnerHtml=\"<img src='data:image/png;base64,iVBORw0KGgoAAAANSUhEUgAAAHAAAABwCAAAAADji6uXAAAABGdBTUEAALGPC/xhBQAAACBjSFJNAAB6JgAAgIQAAPoAAACA6AAAdTAAAOpgAAA6mAAAF3CculE8AAAAAmJLR0QA/4ePzL8AAAHbSURBVGje7dmti1VBHMbxj4sbDIKgCyqIgnE1uBgMvqw2LQazK5hETJpEtrjRIoLJIigGsSgqi3CDTRDUshv0D7jBYvANwZcws9zrRTlnz4LO/TFPOTNnZvjy8DDM78yhqqqqqqqqqqqqqqpq7Vq32gX7sIDjmMAPPMAV9HEUPXz5y/qJf+0wPrB1hpM4gtvYOrT4Z27fxQ7M4kzuF+EwPnB924kzWMztPi7gc+7vzO0b+JbHi3EYH9gqw2k8yu0eLuPV0Ph2PMQmXMtzinEYH9gqw3lswRNcwruR8T3SOclgrxbjMD6w8Ty8hbP4hANYHhmfxDMcxnMcK81hfGDjPtwv1S0f/Tm/BRzKc66W6DA+sHVNM6pdOI+Lud/HmxIdxgc2ZriMvdiM10Pvp7DN4Nuihw8lOowPbDwPN+A+ThjktaKTmMMpHMSLEh3GB7b+xp+VzkbS3nyKmziHt1JN875Eh/GBq75rG9Z3aW/ek/ZjkQ7jA9dU05Dq1eslO4wP7JzhfH4+9vudTXEO4wM7ZTgt1TE038v8d4fxgZ0ynMFG6Sz8WrrD+MBOGU5J+S1J/w6Ldhgf2CnD0/l5Zxwcxgd2ynDl7mYsHMYHdspwEbvxchwcxgdWjb9+ASOVRSFBgZyBAAAAAElFTkSuQmCC'></img>\" })\n",
       "      \"True: 9, pred: 9\")\n",
       "    (div { style=Dict(\"display\"=>\"flex\",\"flex-direction\"=>\"column\") }\n",
       "      (div { setInnerHtml=\"<img src='data:image/png;base64,iVBORw0KGgoAAAANSUhEUgAAAHAAAABwCAAAAADji6uXAAAABGdBTUEAALGPC/xhBQAAACBjSFJNAAB6JgAAgIQAAPoAAACA6AAAdTAAAOpgAAA6mAAAF3CculE8AAAAAmJLR0QA/4ePzL8AAAIJSURBVGje7dpPiE5RGAbwn8lsbDTGwizUt2IxiPFnSdkgpWzEgoWF1ewkUqLZyGLCRmIjUzMLbERZSCEbC2WBlTQbomSjCH1jce40t4l7z4em43SezT333HPO03Of3vd033MpKCgoKCgoKPj/sajXCQPYgJ04hi5uYhrjeN8yv2+hFeZPGO1hP45iFCtqk2dqY67jcGoK8yeM9nAUF+b1PcLWeX2LU1OYP2GUh8N4gMFa3wlcxJiQU2dRPEzPw2GcxW4hb05jD14Je2G/sD/exnK8xLqUFOZP2BY2RgT/+vANl/Ci9vw7nuKasF+uxRUcSUVh/oStcTiJfdXA+9jRMPY51lTXkVQU5k/YGIeD2FK7n2hZbALnUlOYP2GjhxvRqdqPcTdy0QEM4V0KCvMnbPRwU619Gp8iF10p5NTi4YKg0cMl5jbMhz0o6KakMH/C1jiciVxoFt2WOfm/0rQ8/FN8xsdUFOZP+E89PFRdz+BZKgrzJ2z8PlyPe0L9Jaae/bZS0MHXVBTmT9j6jX9QqMF8Eerbv4uvq4LHN7A/JYX5E7bm0ieYwgFs82sPt2MvPgg18KQU5k8YdW7REc4tlgn10pNV/ypsxvnq2TiOp6Ywf8Lo88MhXBZi8U3VHjN3HnVHqHm/Tk1h/oQ9/YuxFKtxCruEuINbQo79kaLC/AkLCgoKCv4ePwGmEEqxUZD0FAAAAABJRU5ErkJggg=='></img>\" })\n",
       "      \"True: 0, pred: 0\")\n",
       "    (div { style=Dict(\"display\"=>\"flex\",\"flex-direction\"=>\"column\") }\n",
       "      (div { setInnerHtml=\"<img src='data:image/png;base64,iVBORw0KGgoAAAANSUhEUgAAAHAAAABwCAAAAADji6uXAAAABGdBTUEAALGPC/xhBQAAACBjSFJNAAB6JgAAgIQAAPoAAACA6AAAdTAAAOpgAAA6mAAAF3CculE8AAAAAmJLR0QA/4ePzL8AAADCSURBVGje7ZldCoMwEAanpfdqPJntyerN2hdB7EvZDTRhmQFRH9bhM2j+QERERC6ZogewAhuwBGuv/05YX3jLFN33c9uPbeaE9YWpNmxf19vMCesLU//Sd8cD6r9ShQrDdI1pAJ77/bQJ6wtT/eGaKRqVUKFChQoVKvyNcwuFChUqVKgw2R++ONZMneMrVNhNeJ2mcd63mD5hfWG4DXvW2YYkrC8MtWHj/A0uxPYOhySsL0yteUfHMUMT1heKiIgIfAAlcA9p9hj9FQAAAABJRU5ErkJggg=='></img>\" })\n",
       "      \"True: 1, pred: 1\")\n",
       "    (div { style=Dict(\"display\"=>\"flex\",\"flex-direction\"=>\"column\") }\n",
       "      (div { setInnerHtml=\"<img src='data:image/png;base64,iVBORw0KGgoAAAANSUhEUgAAAHAAAABwCAAAAADji6uXAAAABGdBTUEAALGPC/xhBQAAACBjSFJNAAB6JgAAgIQAAPoAAACA6AAAdTAAAOpgAAA6mAAAF3CculE8AAAAAmJLR0QA/4ePzL8AAAHSSURBVGje7dmtb1RBFAXw35I6JF3blW1t+XALkuBgkzqQVOD4GyBgaFINluBoNSgaUCRgtxrLw4IDxH1N29Dt201Kd/Zmjpls5u07OXNy5t25Q0VFRUVFRUVv1j9cxT2MsNq+4A++Yozn7TgJly5aYX7CTg+3sIZh+3tDeHbo3Svs4X2pCvMTdnr4W3j1S+TrIw7QYHcRFOYnXOp6YBd3hX/XF1FhfsLOHPbxGZdxDd8WTWF+ws4cfhffvCdYVj0skLDTQyKsPaw7GdwxfpauMD/h1HvpipP1aE/Uo2/MVtvkX9KyPOxjX5wDD89/n9q5h2JvHQhPb5gul/mXtCwPh/ggcrZ5yvwy7ou6dSg83FTP+BeMmfs0k7AlsjnAHXwpRWF+wnPzkMjlPq7gkdO/k/mXdLE9hJvYFnl8hp15K8xPeO4ecpTHVf8eXvIvaZnnw1nRiPp1rQSF+Qn/i4frjnqsc1eYn7DTw8ei3/Z6yhcO8FT0V2+VoDA/4ZkejvACL032sC/uhLXjhvD8gbijmrvC/IRn1jQjvBV3iD/EWaEnvnON2C+P997GeCfq0aYUhfkJO+vS28IrImd94VVzbNxr5w/UXtscCCsqKioqKir4C+MSTd6JU7siAAAAAElFTkSuQmCC'></img>\" })\n",
       "      \"True: 5, pred: 5\"))\n",
       "  (div { style=Dict(\"display\"=>\"flex\",\"flex-direction\"=>\"row\") }\n",
       "    (div { style=Dict(\"display\"=>\"flex\",\"flex-direction\"=>\"column\") }\n",
       "      (div { setInnerHtml=\"<img src='data:image/png;base64,iVBORw0KGgoAAAANSUhEUgAAAHAAAABwCAAAAADji6uXAAAABGdBTUEAALGPC/xhBQAAACBjSFJNAAB6JgAAgIQAAPoAAACA6AAAdTAAAOpgAAA6mAAAF3CculE8AAAAAmJLR0QA/4ePzL8AAAIGSURBVGje7dnPi05RGAfwDzOjiCQUGsLIwmISslOyYMXCO4qFlYV/wM4f4MfWXlMWiqgpKQsbUWNjorCwwCRL+VWTeUcsnjs14d73nXcx73E638197rnnnu/99u055zznUlBQUFBQUFBQUNB/LFtM58M4iRa24Blu4/Iixli+1ArzJ+zKw024i4PVCx8wg/VYh7O4marC/Ak7ergBD7AX0ziPp/iCrZjAO4zhFKbwBr9SUZg/YUcPr+ACPmIEs388H8EP4fFE1bZa5GkSCvMnbPTwNG7gM3bge02/PXiMtcLHlpKHS4jBpoej1Re9VO8fsT7O45t6//qiMH/CRg9HquvVDoMcw8oqvpWawvwJa+fSVWIOHcA+PK/pt0Lk6U6Rq6N4n5LC/Akb83Cgw8tDOCL8g+ua/euLwvwJaz2cEzXDdhz1dx5uFnXhpQVt4ykqzJ+wcV86jFeiVniIO2IPugaHRO3fFvvRaTHnfkpNYf6EHevDE7iIA9V9G2/xRJzN3BNr4jjOpagwf8KuztqGsL+KZ8U5KezG6yo+jvspKsyfcLCbTm1M/qN9eEE82c1A/VCYP2FXHtah9T8ozJ+wZw+34UwVP8LXVBXmT9izh7vEfpQ4I51LVWH+hD17uLG6zuBaygrzJ+zZw/m18AV+pqwwf8KePRwT/yemUleYP2FBQUH/8RtFRUunTf0LBAAAAABJRU5ErkJggg=='></img>\" })\n",
       "      \"True: 9, pred: 9\")\n",
       "    (div { style=Dict(\"display\"=>\"flex\",\"flex-direction\"=>\"column\") }\n",
       "      (div { setInnerHtml=\"<img src='data:image/png;base64,iVBORw0KGgoAAAANSUhEUgAAAHAAAABwCAAAAADji6uXAAAABGdBTUEAALGPC/xhBQAAACBjSFJNAAB6JgAAgIQAAPoAAACA6AAAdTAAAOpgAAA6mAAAF3CculE8AAAAAmJLR0QA/4ePzL8AAAHWSURBVGje7dnPi41RHMfx10ymSESxsphoKAsLUWo2SmwUNpJJMWVjbWWDjRU2FpSs7ZTyL7CxGCWRHzXMSFkoGflRI1mcZ7qX8eM+97l5znw7n81zOs89592nz/2cp3sfioqKioqKioqKioqKmmvo14n9uI2RrrkvuFONZ3AFu/AO92oCh/+3w/jARRmewrV/LJqXMv6O+7iFJ3iFZ7k5jA9clOEIjmMMs9XcChzs+sxWrP/NZl9xCedzchgfONTPom3YV40nsKPr3hxG8SEXh/GBfWXYreXYgDM4Wc1dwLlcHMYHNs5wQWN4jo/YjulcHMYHLhvURoeq6yocxsVcHMYHDqSHm/AQK6Xn4Ua8z8VhfOBAenhAyg9u+HN+rTiMD2zcw814IGX4GTvxNCeH8YGNerhO+j240MGz/p5fKw7jAxv18DJOV+NpbJH+u8nKYXxg3xkexc1qg08Yx6McHcYH9nWW7sZ1nS/ApN7ya8VhfGDtHq7Ba51n4FXpPJ3P1WF8YK0eDuOETn5T6uXXisP4wFo9HPfz+8Ij0nunrB3GB/ac4Wq8xNpq0V3swbfcHcYH9nyW7pXyI+U3oX5+rTiMD+w5w8d4ixc4hjdLxWF8YNHS1w8KeT20pDD28wAAAABJRU5ErkJggg=='></img>\" })\n",
       "      \"True: 7, pred: 7\")\n",
       "    (div { style=Dict(\"display\"=>\"flex\",\"flex-direction\"=>\"column\") }\n",
       "      (div { setInnerHtml=\"<img src='data:image/png;base64,iVBORw0KGgoAAAANSUhEUgAAAHAAAABwCAAAAADji6uXAAAABGdBTUEAALGPC/xhBQAAACBjSFJNAAB6JgAAgIQAAPoAAACA6AAAdTAAAOpgAAA6mAAAF3CculE8AAAAAmJLR0QA/4ePzL8AAAJMSURBVGje7dg/bE1RHAfwD+pPpJUQSUti0TDRiUgajdTkTxhFu/iTdmDpJAwWEqEmAxGEwdCGQRgklAFDDVQQjTCJCQmJSIigNZz70pfnPq9NxLs9Od/lvt+559zv+57v/Z37O4eEhISEhISEGdVuNGIZ9mXxJTz9B4Qz/7fC+AlzPWzEARwua/uFK+jDp+mkMH7CXA+P4VCVAe+wB0PTRWH8hA15jW+y6zjOYBSzcRQtuIF+nMTXoiuMnzA3D29iE66iq6y9A9ewKIsHsBc/iqwwfsJcD8cxhjYhB8vRjuNYn8WD2I2fRVUYP2Guh3ewEa0m1tVyrBNydWEWdwk5W0iF8RPmfg9fCh6W0INunCtrG8T+7PeKIiuMnzDXw8fZtQ3zcFqoaTZUeUgPXgn5+7loCuMnzF1LF2A7rqMZI2iaxMO+oVeoW6vVq/FPaTE8rMRW7BDq0S2T6P9CWHtHc+7FP6XF9LCEWSbysVmoXz9k8RFhnzE/i+/ioD/P5+Kf0mJ6uBgrMVyjXzvOYlUWD2FzvRXGT1jTw204haXYKXzr/oYmPMFyfMnG3KqnwvgJa3rYjYuYI6ydHXhYY8xaIWdn4gE666kwfsKGWh0GhBzsFwyfzD9sM/FyPK+3wvgJa3oI54Xz005cxn2cwOuKfn3CXrFV9QSPf0qLt5aW0IhnWIK5wnnqWEWfyhfikbAv+VhPhfETTmlvAbuEOmW14GcehnEbF/C+3grjJ5yyhyW0CDVoL+5hjbC2juAtvhdFYfyECQkJCQkJCfwGdW9W0wLt/nsAAAAASUVORK5CYII='></img>\" })\n",
       "      \"True: 3, pred: 3\")\n",
       "    (div { style=Dict(\"display\"=>\"flex\",\"flex-direction\"=>\"column\") }\n",
       "      (div { setInnerHtml=\"<img src='data:image/png;base64,iVBORw0KGgoAAAANSUhEUgAAAHAAAABwCAAAAADji6uXAAAABGdBTUEAALGPC/xhBQAAACBjSFJNAAB6JgAAgIQAAPoAAACA6AAAdTAAAOpgAAA6mAAAF3CculE8AAAAAmJLR0QA/4ePzL8AAAGeSURBVGje7dg/axRRFIbxn6IkKiEJiiixFCV2KQRRsUiaFOkt7RQC+Rqp8hFsDATEVsSAhaKdhaCCtirYWEQRg38Iq8WMkITdmYVZ5Hi4b3PZvYd99uFll7mXkpKSkpKSkpL/PwdG9UF3cR8bLXMH/7VhfuChUX3rebyJaJgfOJIO53AiqmF+4FAdnsMaVvC+Ye51RMP8wKE6vIQl3NG/w7P1+jGiYX7gUB3O1+ugjm7iC15ENMwPbO1wAgu4h+cDZg6jh52IhvmBrR1ewIyqv16f/SnM4lFUw/zA1g6v1uuTAfvXcRxPoxrmBzZ2OIZlbOE0buMUjuJaPfP3kuBIVMP8wMZ7mkl83vW6h7d4t+u9BYzjJ25hPZphfmBjh+N4iZNYVZ0tPu2b+YAz+KY6H16JZpgf2Phf+gMX66GtPvszmFb1fAPfIxrmB7Y+03xt2FvEMTzAq6iG+YGd7kun6/VxZMP8wJHcef+KbFiABRgf2Ol3eFn1YHsez6Ia5gd26nACv+09Q4YzzA/s1OEmtvEwsmF+YElJSUlJ9/wBQP0zQPmrB6QAAAAASUVORK5CYII='></img>\" })\n",
       "      \"True: 4, pred: 4\")\n",
       "    (div { style=Dict(\"display\"=>\"flex\",\"flex-direction\"=>\"column\") }\n",
       "      (div { setInnerHtml=\"<img src='data:image/png;base64,iVBORw0KGgoAAAANSUhEUgAAAHAAAABwCAAAAADji6uXAAAABGdBTUEAALGPC/xhBQAAACBjSFJNAAB6JgAAgIQAAPoAAACA6AAAdTAAAOpgAAA6mAAAF3CculE8AAAAAmJLR0QA/4ePzL8AAAH4SURBVGje7dnNq01RHMbxzz3IwEtSoqRbCikmQqg7IyUl/wATLwNvY6VEGZhgwEjexoZiYiIp3Ykk5W0gFAYi3BKum8FvD06n0z37HGWvs1rPaO211+7Z3572b+3f3hQVFRUVFRUVFRU1r5F/uXgUR7ABh/C0xjWt/02Yv+FAGa7EYezB/GruPXZiGd7gSSqE+Rv2lWELq3EXS7qc/455eIgxTKVAmL9h7QwXibp5om3uq8is866/YDEmUyDM33Bm3YVnsK8a/8YxvMZJbGpb9wm7dM+vEcL8DXtm2MJNkcuU2Of2YxsuYFXH+keiliZDmL9hzwyPYnc1foGzeIDZXda+wsHUCPM3nHY/nIW3Ym/r1GdcxFZsqeaOi4yTIszfcNoMZ+A+NlfHP/ATl3BO9BHj4pkcx3Z8S40wf8Oe76ULRN83icd4Xs3PxQ1RZyewHi9TJMzfcODvNHtxrRpfEe85SRLmbzhQhgtxD2vwDivwK1XC/A1r94ftuiXyg9Pq59cIYf6GfWe4HGur8W1cT50wf8O+aulS0RuOiho6JnqPpAnzN+zrOVwn8hvBVf3n1whh/oa1M9woegmiR7wzLIT5G9bKcA5OiV6R+C8xMSyE+RvWyvCA+AYDH7EDz4aFMH/DWhn+Ef8Kz+MyPgwTYf6GRUVFzesv8Z9JRjuIuiYAAAAASUVORK5CYII='></img>\" })\n",
       "      \"True: 9, pred: 9\")\n",
       "    (div { style=Dict(\"display\"=>\"flex\",\"flex-direction\"=>\"column\") }\n",
       "      (div { setInnerHtml=\"<img src='data:image/png;base64,iVBORw0KGgoAAAANSUhEUgAAAHAAAABwCAAAAADji6uXAAAABGdBTUEAALGPC/xhBQAAACBjSFJNAAB6JgAAgIQAAPoAAACA6AAAdTAAAOpgAAA6mAAAF3CculE8AAAAAmJLR0QA/4ePzL8AAAHbSURBVGje7do/qE9hHMfx172RweJP+bOwMFwZ3FsGCyXLXZSyKIyMNmWxWBSLSCZiEwN1i8JyU0wGiyy37sLgmn5FhJ/he25Xt9Rz3HKf37fns5xTz3l6n8/59H16/hyampqamlaqsb4dJnEJ0/iKg3jTo//4/3aYH9g7w6c40t0v4DlO1uwwP3BNn4cPY6q7v4rb2FS7w/zA4jrcjPfYgBkcx49RcJgfWFyHB0R+cNm/5bcqDvMDizM8JIr2EV6PksP8wKIMt4h56BC3Rs1hfmBRhqcxgQE+j5rD/MCiDCe665x+a8EqHOYHFmU43V1XOo6uisP8wKIMx7o3O4pd2CNyHccvzIu9m3v4WZvD/MCi9eEHbBVzmj/1ztI4CxdwpTaH+YG9Mhzglai3BcyK/dIzONY9ewIPanKYH1g0lt7FedzH2WVtz8R6cS92Y2dtDvMDizJcXE/s/0v7AC9FhtU5zA8syvBL92ZrsQ7flrVPivlOycCc/5PWmeFNUYOncB3nxNkh7MANsSc+xKfaHOYHFp9bbMRbbBdnTg+xXmS6DR9xBxdrc5gf2OsMeAqPRY6LnYd4IdYVJXs4+T9p3RnCPkv/YsziCa7he60O8wObmpqampqamjLoN9EBQkkJB/XYAAAAAElFTkSuQmCC'></img>\" })\n",
       "      \"True: 6, pred: 6\")\n",
       "    (div { style=Dict(\"display\"=>\"flex\",\"flex-direction\"=>\"column\") }\n",
       "      (div { setInnerHtml=\"<img src='data:image/png;base64,iVBORw0KGgoAAAANSUhEUgAAAHAAAABwCAAAAADji6uXAAAABGdBTUEAALGPC/xhBQAAACBjSFJNAAB6JgAAgIQAAPoAAACA6AAAdTAAAOpgAAA6mAAAF3CculE8AAAAAmJLR0QA/4ePzL8AAAGZSURBVGje7ZnhTcMwEIU/EGMQ1kCBNaCskTZrQJmjLXOQskbDIPw4WzGhiaMENc7pnlQ5cq99evd0yp0NBoPBYJiKqyFBG+ANeACqiYTXl1aon/BmSFCxZIX6CaMeZu5TMr0GZ1GonzDq4bNbv5eqUD9h1MMnt/5HDc6iUD9hb0+TASegBu6WqlA/YW8dFm499MTkiNcA98AH/TWrP6Vpeei9+er4Pgd2QRzIHNI3g+hPaVoexrCm8c/3rTuaWTIJhfoJR3uY0/SsL8DePR+D/SQU6icc7eHaraF/IVYd+/pTmpaHtVtvW/sZUmsV531KSqF+wkGzRTtwj3hYAtvWbz4Rz7tmEf0pTa8OK+Tdt+GvX+2zm5WLLVNSqJ8wem+xQnpNkDnxHak1kFqrg7hX9/wY7M+uUD/h4Lungt9zIEg/A3Ie53vR2P2U/pSm6SGIfwXi5zlUiKd15H/0pzRdD0OcaGpyi5zjDO1P9ac0rZ6mCweaevT3i77/SU6hfsJRHvq+078Djwy/X9Sf0osTGgwGg8FgMGjAD/QCN9U4nfzGAAAAAElFTkSuQmCC'></img>\" })\n",
       "      \"True: 6, pred: 6\")\n",
       "    (div { style=Dict(\"display\"=>\"flex\",\"flex-direction\"=>\"column\") }\n",
       "      (div { setInnerHtml=\"<img src='data:image/png;base64,iVBORw0KGgoAAAANSUhEUgAAAHAAAABwCAAAAADji6uXAAAABGdBTUEAALGPC/xhBQAAACBjSFJNAAB6JgAAgIQAAPoAAACA6AAAdTAAAOpgAAA6mAAAF3CculE8AAAAAmJLR0QA/4ePzL8AAAHxSURBVGje7dlNqE1RFAfwn4+erhADgzfwUXoGQjIyM/LKVynJXAbCCEN5AwZ6iWL85spEScnYKzz1UgY+npJSZCQDn2GwjjrFfffce+Puu9v/yT27s+/591//1jp7rUNBQUFBQUFBwfBjQb8P2IWDOIRVtYf+xA/swKPa/oX/W2H+hIt7+dNh7MdurBSezWEKD/AEp3FU+Fs8/KfoysNJnMQS4dtz3MUVzOJbbe9DjOHsoBXmT9hVLX2H1biBS3iMr232bsAbfB60wvwJu8rDaRzAbcx02PsyFYX5EzbOw42iXr7FNnwcFoX5EzbOw2No4Y7e/RuIwvwJG3vYqn5fDJvC/Akb19LXoo/YilfDpDB/wkZ5uAwr8Ky63ly7N+fPs2dSCvMnbJSH4+I9+DfM4iJuaeZl/iFN08MxXMMHkXewBtuxqVpfxxGdfcw/pGl62A4t4eE5MXubwPnUFOZP2NO89Dc+iX5xfbV+n6LC/An7ysOduIotuIe9OveO+Yc07TwcEfPRpaJunqiu7+OUZr1//iFNMw+XY4+YY49iH9bhiziTXtZ8dpN/SNPycJH4DngBT8XMdER8253BcdFbJK0wf8J5PZzEmdr6u/BsQvt+MTmF+RPO+z6cFn3gWnF2uSnq51ApzJ+woKCgoKB//AIEpErJGccL9wAAAABJRU5ErkJggg=='></img>\" })\n",
       "      \"True: 5, pred: 5\"))\n",
       "  (div { style=Dict(\"display\"=>\"flex\",\"flex-direction\"=>\"row\") }\n",
       "    (div { style=Dict(\"display\"=>\"flex\",\"flex-direction\"=>\"column\") }\n",
       "      (div { setInnerHtml=\"<img src='data:image/png;base64,iVBORw0KGgoAAAANSUhEUgAAAHAAAABwCAAAAADji6uXAAAABGdBTUEAALGPC/xhBQAAACBjSFJNAAB6JgAAgIQAAPoAAACA6AAAdTAAAOpgAAA6mAAAF3CculE8AAAAAmJLR0QA/4ePzL8AAAHISURBVGje7dm/S1ZRHMfxV2oQgtCSBIVYELUoKNTS1tqggtTc0uA/0BK0RUMQLYGuYlPRVNAUQTWpf4BiQ0EN/SAhIlGq4TyDPHl97sONnuOX81nu5Zxzed8Pn3vOPT8oKioqKioqKjr4OtRN49e4gVcNgH3/22F84EDdhpMYx9eD5jA+sFaGfbiDLXxqq7uNFTzO1WF8YK0Mr+CE1A/bM9zGVSXDHgJrZXgOi/iwR90apnN2GB/YMcNRzEljZpVOYQTvcnQYH9gxw1l8x1JF/VTrrU8qGfYIuG+GI7iJu/7+D5LG2Cncx5tcHcYHVmbYj2vSAvJBRZuP+IKdnB3GB1ZmOIRbeKp6TbiJF7k7jA+szHALL3FBWhtu4Ak+t7VbxnXM7yp7j1+5OIwP3Hev7QhmcBaXcBw/dz34G0el+Qys4hHuSd9AFg7jA7vaLx3EYQzjfKtsDmOYkPrfdm4O4wNr75fCj9Z1E+ut+8s4I/0zO+XXE4fxgV1lWKWH+Jarw/jAxhk+k9Yg2TqMD/wn/XAMp/E2R4fxgY0zfI5j0rlGybAnwK7mpXtpQDo/HJTmNtk5jA9s3A93sICLuTqMDywqKioqaq4/Kwg+/KK0454AAAAASUVORK5CYII='></img>\" })\n",
       "      \"True: 4, pred: 4\")\n",
       "    (div { style=Dict(\"display\"=>\"flex\",\"flex-direction\"=>\"column\") }\n",
       "      (div { setInnerHtml=\"<img src='data:image/png;base64,iVBORw0KGgoAAAANSUhEUgAAAHAAAABwCAAAAADji6uXAAAABGdBTUEAALGPC/xhBQAAACBjSFJNAAB6JgAAgIQAAPoAAACA6AAAdTAAAOpgAAA6mAAAF3CculE8AAAAAmJLR0QA/4ePzL8AAAIvSURBVGje7dnNi05RHAfwzyA1jTI2YmnhJUPJy0JSrFhQVt4GCyxESmQ95Q9Q2CgLwmIkJLGZvCwUiYUiKbFAzWYW3lLGzFicq56Zzr3zzIjnOp3v6p5z7vl9+z7ffr/n3N8hIyMjIyMjo20ym6ZiM47hNAYb1u7hc8XeKf9aYfqEk/KwHV9L1s7hQJ0Upk/YlIcdWIEfeKzaw2EhDzfhUR0Upk84rZmXTuCI4Nte3MRl7CpR0CnU21ooTJ+w0sMOwb9DxXgG1uEaerEMXeLJfBZL6qAwfcLKWnoGB8fMPUE33hbjC9iNU1iJNcX8d+zArVYrTJ8w6mE7enBUvCZuRF/xPBPz8RyzcV3wEs5jf6sVpk8YraUbcLxkwwt8aBh/wtPi+aOQo6+L8SLMw7tWKkyfMOrh9JKXB7AdryoCNu5djaWyh38ZUQ97MRKZ71PtH1ypm8L0CZv6toAbOPw/KkyfMHqmGTY6D19iOX6WBFks5OgsoZb+DnpRONMMtVJh+oRN5eGIuH/7BG/XYs6YtW+Ch0Nj5tP/SevhYZvRediOVQ3jHuH7vrNYi6Eb9+ugMH3CaC29hJ1/EPSh0Id7XweF6RNGPdwi9NMmigHh3LoN/XVRmD5htJa+Ec4xXRMI1I89uFs3hekTlvZLFwj3uXPHCTCIL9gq/v/XcoXpE1b2vBfiqvJ8fIDbOFlnhekTjnsH3IX1wr0E3BHu6uGZ0COttcL0CTMyMjIyMjL4BX3VVcS5xfToAAAAAElFTkSuQmCC'></img>\" })\n",
       "      \"True: 0, pred: 0\")\n",
       "    (div { style=Dict(\"display\"=>\"flex\",\"flex-direction\"=>\"column\") }\n",
       "      (div { setInnerHtml=\"<img src='data:image/png;base64,iVBORw0KGgoAAAANSUhEUgAAAHAAAABwCAAAAADji6uXAAAABGdBTUEAALGPC/xhBQAAACBjSFJNAAB6JgAAgIQAAPoAAACA6AAAdTAAAOpgAAA6mAAAF3CculE8AAAAAmJLR0QA/4ePzL8AAAGMSURBVGje7Zk9SwNBEIafhFSx1MMurV5ragX/QZJaO3vBTsHOj/9gqmAfe0tJZZE21rZqqXbGYhY8iEfO7OEOw7ywJOHu9snLy8ztsuByuVwul8vlcrlcLhc0yi5kwEvh9xrQD6MXHpwXPveBhwrA5n87tA9slV04BU6QLPvAMbAFvAE3wGu47wzJsIdnmAj4ax3eAu/h+x6wDkyBOyS/oi6QvJtAN9ynyqF94EKGA2AEtJH6ugaGwHPJBG3gEciBK+Bcm0P7wIVemgNPSG5jfnpmmT6Az/DPNzQ6tA9cyPAyjL9oBuxodWgf2IqfAibAgVaH9oG1ZAjy7lTp0D6wlgx3kcXRRKND+8BaMtxG6nCm0aF9YG29dMryvWESh/aB0RlmyJ5iqNWhfWB0hl2gw/J9ZDKH9oHRGY6oviZN4tA+sBE7wRdyvrGp1aF9YFQd5kgNjjU7tA+MynCAFHLV9UwSh/aBK2eYAUdIH626nkni0D5w5Qw7YdxTfi6lwqF9YFQvnQOH2h3aB34D1XM0kuGMyWYAAAAASUVORK5CYII='></img>\" })\n",
       "      \"True: 7, pred: 7\")\n",
       "    (div { style=Dict(\"display\"=>\"flex\",\"flex-direction\"=>\"column\") }\n",
       "      (div { setInnerHtml=\"<img src='data:image/png;base64,iVBORw0KGgoAAAANSUhEUgAAAHAAAABwCAAAAADji6uXAAAABGdBTUEAALGPC/xhBQAAACBjSFJNAAB6JgAAgIQAAPoAAACA6AAAdTAAAOpgAAA6mAAAF3CculE8AAAAAmJLR0QA/4ePzL8AAAHESURBVGje7dixThZBFAXgD2MiDRoSEbUSeQKhpcLaEAOtHRQ+gBY+g7bWRDqj0YLGaK0V0YpCI8bGmBBCaYnFTAKSf91/2cQdb+Ykm7kzc3fPnj3Z3ZlLRUVFRUVFRcX/j4muJ3zFUzw5I+G5f60wPuH5LsmLmMvHaVzBJ2ziUUkK4xN28vBBbr813PksFkpTGJ9wbA8XsZzjvRHzt0tVGJ9wLA+n8ByX8QyvRuQsSD/XD6UpjE84locbuIEjvGjIWc7zey3Xiv9Iy/PwEh7m+D62W/Lb5uM/0vI83MUMdvCyIeem47XqYWkK4xM2engBW7iW++s4aMidwsVSFcYnbPRwGqs5PsI7vMHjPLaPHzlezTlFKoxP2FinmcF3TPrTn4nc38d76Tt6NedvY6U0hfEJ/1prW8Mdad8wmcfmjfb0F+7ibWkK4xN2rpfew60cf5Q8XsNPXC9RYXzCTrU20jpn60R/SXoP29ajgymMT9jZw9OYzm3bvnAwhfEJe3vYVuMeXGF8wl4eLjle47TVSQdTGJ+wl4dzkn/j1EkHUxifsJeHu7n9jC+lKoxP2MvDHal+81raHxapMD5hRUVFRUV//AaDfjuzrf9WlQAAAABJRU5ErkJggg=='></img>\" })\n",
       "      \"True: 4, pred: 4\")\n",
       "    (div { style=Dict(\"display\"=>\"flex\",\"flex-direction\"=>\"column\") }\n",
       "      (div { setInnerHtml=\"<img src='data:image/png;base64,iVBORw0KGgoAAAANSUhEUgAAAHAAAABwCAAAAADji6uXAAAABGdBTUEAALGPC/xhBQAAACBjSFJNAAB6JgAAgIQAAPoAAACA6AAAdTAAAOpgAAA6mAAAF3CculE8AAAAAmJLR0QA/4ePzL8AAAH/SURBVGje7dpNqIxRHMfxj9tcdq63EmNBkkiytGCDhVgoZau7UBYosvK6JgsLJYkUNhayJm8bGxsbKRbeSiSKnXK71+I805073XmeI2XOnM53c57znP/069evZ+Y8/zMUCoVCoVAoDD9zYopW4h2mqg9Mda3dwCe8wp2etdkY+d8O8xdsxRZOVmNvRuNd10twuas2CYf5C0Y9h/NxHEcw1lC7Ch9Tcpi/YFSGHTbjGX7jHnZgUU/NIVxJyWH+gtEZjuIuduM+dqEtZHYMc6u6N0LWP1NxmL9gVIajOINT+ICtwj6mwwNs75q38SUVh/kLRu1p2kJ+cM3M/OA8tmBeNd8r7G2ScJi/YFSG+6rxufAu0csj4XdyWzVfn5LD/AUbM9yIw/iF0/jcp+666QyTcpi/YGOGB7ECD4Xnbegc5i9Ym+EY9lTXt4fVYf6CrabFZcPuMH/B6F7b3/A6JYf5C0ZnuC6y7i1upeQwf8HoDMdxFe/7rG+oxif4kZLD/AVr+zSL8bVr/g0XcU7otS2v7h/AJqGHs1M4p0rGYf6CtRmOCO99+7vuTeA7FprukXY4ikupOcxfsPa7dBJPzcywhaWz1J7Qv782UIf5Czb2vEewFi9rak7igvqz34E5zF8w6txiAVZjDc7iBR7jZrU+ofk/GANzmL9goVAoFP6dP3soRZfIGosGAAAAAElFTkSuQmCC'></img>\" })\n",
       "      \"True: 0, pred: 0\")\n",
       "    (div { style=Dict(\"display\"=>\"flex\",\"flex-direction\"=>\"column\") }\n",
       "      (div { setInnerHtml=\"<img src='data:image/png;base64,iVBORw0KGgoAAAANSUhEUgAAAHAAAABwCAAAAADji6uXAAAABGdBTUEAALGPC/xhBQAAACBjSFJNAAB6JgAAgIQAAPoAAACA6AAAdTAAAOpgAAA6mAAAF3CculE8AAAAAmJLR0QA/4ePzL8AAAEgSURBVGje7dmvSgVBGIbxn3/AJpgscoJmTRrsilEMtpOMeg0mr0I4wWASQW/BooLNaFbwAjRrOAtG+Tbo7Mf3wDITZnl4eZlh2aEoiqIoipnI4hesYRGfPYWzf50wv3A+svirew5wOZSE+YWhffiIzW4eKv8/E+YXhjrcxyk2MML7EBLmF4Y6ZNrjFSY4GULC/MLwkTjCHMaqw0aE4Q6PhpYwvzDc4Q3Wh5QwvzDc4erQEuYXhr9p3rDcvXiM89YT5heGO9zCGfZwjcPWE+YXhs/SJ9xhF9tDSFjCEpawhCUs4e/0+nU97sYFrOC15YT5hb06/OjGJezgouWE+YW9Orz1cwfVfMISlrB9Ya99+IB703vE59YT5hcWRVEURcE3pQsZsV8xG4wAAAAASUVORK5CYII='></img>\" })\n",
       "      \"True: 1, pred: 1\")\n",
       "    (div { style=Dict(\"display\"=>\"flex\",\"flex-direction\"=>\"column\") }\n",
       "      (div { setInnerHtml=\"<img src='data:image/png;base64,iVBORw0KGgoAAAANSUhEUgAAAHAAAABwCAAAAADji6uXAAAABGdBTUEAALGPC/xhBQAAACBjSFJNAAB6JgAAgIQAAPoAAACA6AAAdTAAAOpgAAA6mAAAF3CculE8AAAAAmJLR0QA/4ePzL8AAAHQSURBVGje7dkvbBRBFMfxz5GqnoSzIEmDg1QREhQJioIkBAWiqkE2dRWg8OTqIMFBJQFbFAJLPQ7wdV3E20v/EG53j4SbvMzPzOXmNr/93Tcz894uVVVVVVVVVVVVVcvXaN7kBI+wgVto2gtm43u8bce+uvC/E+Y3nMvwA+74k93p8QjrOCw1YX7DlXmTl9o7+oGv2MfTdu4KLmKMLWyWmjC/4VyGz8U63BMMYYo1vMLN9ru+a3ApCfMbjoZeMMYXwbERbNdLTpjfcGXIj3fwEFcFv0as1aIT5jfszfAGdp2taab4XHrC/Ia999JVZ/fQEX6KunRPnIl9eoz8f2m5DGfawRNRl57vNe7iY2kJ8xsOZkj0HJdxHw/E+TjCAW6XljC/4UIMT2uCl+J5TiP6xGlJCfMbDqpL/6bZGdngW2kJ8xv+M8MtXBcL+rHYT4tKmN9wYYYTbAuGDX7p5reUhPkNF2K4hndOaplDXCs1YX7DwQzfiHdRq2L97Ys9tNiE+Q0769IxXrefN9o7PMZ3PBMMi06Y37BzHW7jnpNe/lg8j9kUZ2DxCfMbdjKcCH5Hom94Ydh7+6UnzG/YyfBA1C6fDH9HUUTC/IZVVVXL12+230lhUH79EwAAAABJRU5ErkJggg=='></img>\" })\n",
       "      \"True: 3, pred: 3\")\n",
       "    (div { style=Dict(\"display\"=>\"flex\",\"flex-direction\"=>\"column\") }\n",
       "      (div { setInnerHtml=\"<img src='data:image/png;base64,iVBORw0KGgoAAAANSUhEUgAAAHAAAABwCAAAAADji6uXAAAABGdBTUEAALGPC/xhBQAAACBjSFJNAAB6JgAAgIQAAPoAAACA6AAAdTAAAOpgAAA6mAAAF3CculE8AAAAAmJLR0QA/4ePzL8AAAE1SURBVGje7dg9TgMxEMXxX4AqtNwB0iKlA64AFRWUHIOWM0TiDogzQKog0SF6DhEqPgqTA6xXIvZoXm/99/l5PJ4llUqlUqlUqn9Nhi54wRrX+KgA7vy3w/jAvZpFJ7jBbQ8O4wMHZ3iPBQ56cRgfWFWHPz05jA8c3A9neFNy3O3BYXzg4AzhS8nwEg+tO4wPrMpwobxpXjFv3WF8YFU/pL4nxt/SPjJcKnW4j6kyLzbrMD6w6i6dYqW8b+bKndqsw/jAqjpc41M5AGcywy0Dq/vhO45x2LrD+MDqDJe46sFhfGB1hpS36ax1h/GBozKc4LR1h/GBo+tw6JwYf0v7yfD572u/W3cYH1g1H260+W865CDE39J+6hAecaHMiE+tOowPHJXhHc5xJDPcIjCVSqVS4/ULUT4jfl2cXhgAAAAASUVORK5CYII='></img>\" })\n",
       "      \"True: 1, pred: 1\")))"
      ]
     },
     "execution_count": 11,
     "metadata": {
      "application/vnd.webio.node+json": {
       "kernelId": null
      }
     },
     "output_type": "execute_result"
    }
   ],
   "source": [
    "vbox(hbox([vbox(Gray.(test_images[i]), \"True: $(test_labels[i]), pred: $(prediction[i])\") for i in 1:8]...),\n",
    "     hbox([vbox(Gray.(test_images[i]), \"True: $(test_labels[i]), pred: $(prediction[i])\") for i in 9:16]...),\n",
    "     hbox([vbox(Gray.(test_images[i]), \"True: $(test_labels[i]), pred: $(prediction[i])\") for i in 17:24]...),\n",
    "     hbox([vbox(Gray.(test_images[i]), \"True: $(test_labels[i]), pred: $(prediction[i])\") for i in 25:32]...))"
   ]
  },
  {
   "cell_type": "markdown",
   "metadata": {},
   "source": [
    "### k-Nearest Neighbors"
   ]
  },
  {
   "cell_type": "code",
   "execution_count": 12,
   "metadata": {},
   "outputs": [
    {
     "name": "stdout",
     "output_type": "stream",
     "text": [
      "245.634262 seconds (321.55 k allocations: 4.486 GiB, 0.02% gc time)\n"
     ]
    },
    {
     "data": {
      "text/plain": [
       "10000×60000 Array{Float64,2}:\n",
       "  9.39528  10.3946    9.44042  10.0259   …   9.46746   9.53389   9.22311\n",
       " 11.183    11.451    11.6569   10.8474      11.2601   10.4641   10.5935 \n",
       "  9.22377  10.0763    9.15318   6.55863      9.25642   8.44278   8.39121\n",
       " 10.0315    7.76739  11.8538   12.1505      11.2078    9.50017  11.2098 \n",
       " 10.5929   10.9646    7.72983   9.96961      9.66197   9.68456   9.80975\n",
       "  9.40301  10.4702    9.84622   6.18662  …   9.40481   9.05856   8.65329\n",
       " 10.3916   11.7394    9.56838  10.2894       9.58143  10.0626   10.1717 \n",
       " 10.0075   11.2429    9.63265   9.4587       9.34646   9.8305    9.60811\n",
       "  9.86691  10.8617   10.7315   10.5921      10.0591   10.4342   11.2359 \n",
       " 10.5258   10.2459   10.6323   10.113       10.1628   10.1033    8.97737\n",
       " 10.7736    8.22291  11.2177   11.0906   …  11.2151   10.2634   11.0159 \n",
       " 11.1916   10.2309   10.6979    9.725       11.488    10.0241   10.7961 \n",
       " 10.076    10.1308    9.48247  10.1044       8.77734   9.11332   8.34175\n",
       "  ⋮                                      ⋱                              \n",
       "  9.02679   9.90832  11.2987   10.3405       9.21301  10.1294    9.05008\n",
       " 10.1562    9.572    11.5541   11.0214      11.1977    8.07971   9.94951\n",
       "  8.96229  11.0523   11.5284    9.19858  …   9.71448  10.246     9.89087\n",
       " 10.6242   11.7675   12.4676   11.3176      10.6779   12.5462   11.5678 \n",
       " 10.6713    9.72529   9.28549  10.9431       9.30425   9.66776   9.15837\n",
       " 12.5455    9.48092  14.0012   12.6086      12.7643   11.826    11.9749 \n",
       "  9.46276  10.4645   10.3735    6.36239     10.001     9.13204   8.81521\n",
       " 10.0872   11.9711   12.6765   10.4113   …  12.6238   11.8012   11.3535 \n",
       "  9.25254  10.6521   11.6587   11.5197      11.2034   10.7627   11.5368 \n",
       " 10.3042   11.4846   10.5052    9.03269      9.98686  10.3112    9.69829\n",
       " 10.5626   10.4352   11.0122    9.67718     10.4065    9.08665   9.24438\n",
       " 11.5456    9.85351  12.5573   12.4644      12.1219    8.08995  11.6446 "
      ]
     },
     "execution_count": 12,
     "metadata": {},
     "output_type": "execute_result"
    }
   ],
   "source": [
    "@time all_distances = euclidean.(test_images, permutedims(train_images))"
   ]
  },
  {
   "cell_type": "code",
   "execution_count": 13,
   "metadata": {},
   "outputs": [
    {
     "name": "stdout",
     "output_type": "stream",
     "text": [
      " 74.437100 seconds (805.40 k allocations: 4.509 GiB, 1.19% gc time)\n"
     ]
    },
    {
     "data": {
      "text/plain": [
       "10000-element Array{SubArray{Int64,1,Array{Int64,1},Tuple{UnitRange{Int64}},true},1}:\n",
       " [53844, 38621, 16187, 27060, 47004, 14564, 44567, 15261, 40369, 36396, 30503, 14771, 17229, 35920, 27167, 21519, 52011, 38764, 14506, 48109]\n",
       " [28883, 49161, 24613, 31635, 16903, 17758, 31957, 24011, 21013, 53456, 52143, 58477, 27536, 57443, 23469, 26358, 1610, 21953, 50899, 12845] \n",
       " [58742, 46513, 15225, 47334, 44039, 42532, 39365, 53362, 12579, 27685, 16652, 16363, 11836, 19675, 56911, 40363, 49339, 19881, 16692, 42103]\n",
       " [29045, 59245, 34524, 32709, 1878, 48808, 2328, 11792, 54352, 28428, 59250, 4357, 51291, 26140, 6358, 33844, 34274, 29707, 452, 46773]      \n",
       " [52921, 40095, 50610, 25761, 32720, 53520, 24735, 23307, 40601, 30277, 1733, 915, 15515, 26574, 7865, 24121, 19597, 31693, 11957, 41931]    \n",
       " [30810, 51901, 3469, 52628, 52269, 9816, 9313, 49973, 14155, 20053, 14981, 32475, 17102, 42838, 19881, 16547, 2871, 25765, 18782, 43706]    \n",
       " [18280, 27037, 18718, 49677, 11146, 55, 19479, 12071, 51781, 39721, 19523, 56123, 16720, 19883, 2828, 22998, 18122, 32459, 11379, 38293]    \n",
       " [41983, 56598, 25447, 14816, 48819, 34963, 33863, 11689, 56682, 3187, 4545, 56528, 4159, 56704, 56608, 21725, 30453, 40029, 22247, 38049]   \n",
       " [52897, 35629, 53310, 54881, 54203, 33289, 24498, 37227, 58520, 45012, 17002, 14234, 56596, 33957, 42412, 14075, 17084, 2886, 9949, 14190]  \n",
       " [5045, 17168, 32492, 49548, 13360, 3971, 22926, 9470, 33256, 2454, 35441, 13916, 13324, 22876, 15655, 16974, 17212, 41856, 55010, 5646]     \n",
       " [49940, 13217, 47125, 14093, 1531, 50629, 19773, 34178, 2865, 1770, 32515, 48439, 10255, 21267, 34657, 18893, 53537, 14111, 9036, 58744]    \n",
       " [36037, 58260, 33273, 19003, 43721, 17797, 14249, 21935, 30388, 56023, 41637, 17485, 30200, 51508, 15449, 47451, 22759, 33521, 1415, 29777] \n",
       " [55478, 55442, 2042, 12172, 1744, 58642, 30894, 58697, 21092, 47875, 21278, 1734, 54308, 38088, 17940, 50974, 21268, 6887, 38004, 13764]    \n",
       " ⋮                                                                                                                                           \n",
       " [19776, 10547, 56667, 31079, 48114, 43398, 11056, 11266, 36362, 12382, 37818, 28058, 27942, 34562, 54840, 32507, 5563, 35030, 12685, 36425] \n",
       " [11986, 50094, 19625, 830, 43698, 38556, 5420, 5100, 53154, 43486, 12148, 1324, 22810, 24287, 43162, 39222, 1328, 5122, 12412, 12424]       \n",
       " [56750, 6624, 50985, 16206, 50921, 49414, 56896, 25526, 48036, 34208, 34224, 44611, 26685, 1301, 32175, 25349, 29949, 27562, 16134, 6598]   \n",
       " [10863, 57213, 16115, 33547, 13955, 37256, 12044, 57833, 25121, 8372, 28000, 47649, 3644, 54646, 23194, 11837, 2599, 31293, 7587, 50786]    \n",
       " [46264, 27008, 5502, 42904, 33697, 42070, 764, 31552, 28666, 34753, 12316, 31354, 11416, 53438, 57247, 5670, 26998, 17312, 6380, 28690]     \n",
       " [8534, 19566, 5374, 37190, 5354, 37060, 27894, 20511, 36690, 2010, 43196, 32490, 27912, 5506, 29422, 23068, 16164, 37288, 8682, 37304]      \n",
       " [9316, 4954, 7537, 36354, 40072, 28154, 33866, 55962, 54694, 2375, 10934, 28584, 26176, 49718, 24144, 44512, 47064, 20444, 44530, 35820]    \n",
       " [16391, 23083, 31355, 24837, 29065, 31463, 59318, 9055, 22370, 16109, 28060, 9777, 49783, 10085, 44542, 57839, 52401, 19927, 6115, 47103]   \n",
       " [57807, 42628, 27988, 28076, 331, 39100, 47511, 39567, 15588, 25173, 32791, 14675, 5468, 40819, 28038, 15541, 6544, 50886, 6428, 24443]     \n",
       " [3262, 58995, 35363, 14412, 9363, 22356, 8678, 50285, 2004, 8221, 54568, 6950, 41982, 33286, 44922, 45034, 56085, 8944, 47806, 20461]       \n",
       " [36408, 1312, 6012, 6472, 29158, 36988, 9952, 17218, 33322, 43509, 47040, 5992, 39226, 11777, 58457, 4696, 33078, 33014, 922, 36684]        \n",
       " [22425, 5180, 5330, 2524, 7642, 24454, 56016, 52442, 10768, 49406, 37346, 53008, 5274, 53312, 10730, 12960, 5072, 52599, 21332, 44650]      "
      ]
     },
     "execution_count": 13,
     "metadata": {},
     "output_type": "execute_result"
    }
   ],
   "source": [
    "@time nearest_neighbors = partialsortperm.(eachrow(all_distances), Ref(1:20))"
   ]
  },
  {
   "cell_type": "code",
   "execution_count": 14,
   "metadata": {},
   "outputs": [
    {
     "data": {
      "text/plain": [
       "10000-element Array{Array{Int64,1},1}:\n",
       " [7, 7, 7, 7, 7, 7, 7, 7, 7, 7, 7, 7, 7, 7, 7, 7, 7, 7, 7, 7]\n",
       " [2, 2, 2, 2, 2, 2, 2, 2, 2, 2, 2, 2, 2, 2, 2, 2, 2, 2, 2, 2]\n",
       " [1, 1, 1, 1, 1, 1, 1, 1, 1, 1, 1, 1, 1, 1, 1, 1, 1, 1, 1, 1]\n",
       " [0, 0, 0, 0, 0, 0, 0, 0, 0, 0, 0, 0, 0, 0, 0, 0, 0, 0, 0, 0]\n",
       " [4, 4, 4, 4, 4, 4, 4, 4, 4, 4, 9, 4, 4, 4, 4, 4, 9, 4, 4, 4]\n",
       " [1, 1, 1, 1, 1, 1, 1, 1, 1, 1, 1, 1, 1, 1, 1, 1, 1, 1, 1, 1]\n",
       " [4, 4, 4, 4, 4, 9, 4, 4, 4, 4, 4, 4, 4, 4, 4, 4, 4, 4, 4, 9]\n",
       " [9, 9, 9, 9, 9, 9, 9, 9, 9, 9, 9, 9, 9, 9, 9, 9, 9, 9, 9, 9]\n",
       " [5, 5, 5, 5, 5, 5, 9, 5, 9, 5, 6, 5, 4, 8, 4, 5, 6, 5, 8, 8]\n",
       " [9, 9, 9, 9, 9, 9, 9, 9, 9, 9, 9, 7, 9, 9, 9, 9, 9, 9, 9, 9]\n",
       " [0, 0, 0, 0, 0, 0, 0, 0, 0, 0, 0, 0, 0, 0, 0, 0, 0, 0, 0, 0]\n",
       " [6, 6, 6, 6, 6, 6, 6, 6, 6, 6, 6, 6, 6, 6, 6, 6, 6, 6, 6, 6]\n",
       " [9, 9, 9, 9, 9, 9, 9, 9, 9, 9, 9, 9, 9, 9, 9, 9, 9, 9, 9, 9]\n",
       " ⋮                                                           \n",
       " [5, 5, 5, 5, 5, 5, 5, 5, 5, 5, 5, 5, 5, 5, 5, 5, 3, 5, 5, 5]\n",
       " [6, 6, 6, 6, 6, 6, 6, 6, 6, 6, 6, 6, 6, 6, 6, 6, 6, 6, 6, 6]\n",
       " [7, 7, 7, 7, 7, 7, 7, 7, 7, 7, 7, 7, 7, 7, 7, 7, 7, 7, 7, 7]\n",
       " [8, 8, 8, 8, 8, 8, 8, 8, 8, 8, 8, 8, 8, 8, 8, 8, 8, 8, 8, 8]\n",
       " [9, 9, 9, 9, 9, 9, 9, 9, 9, 4, 9, 9, 9, 9, 9, 9, 9, 9, 9, 9]\n",
       " [0, 0, 0, 0, 0, 0, 0, 0, 0, 0, 0, 0, 0, 0, 0, 0, 0, 0, 0, 0]\n",
       " [1, 1, 1, 1, 1, 1, 1, 1, 1, 1, 1, 1, 1, 1, 1, 1, 1, 1, 1, 1]\n",
       " [2, 2, 2, 2, 2, 2, 2, 2, 2, 2, 2, 2, 2, 2, 2, 2, 2, 2, 2, 2]\n",
       " [3, 3, 3, 3, 3, 3, 3, 3, 3, 3, 3, 3, 3, 3, 3, 3, 3, 3, 3, 3]\n",
       " [4, 4, 4, 4, 4, 4, 4, 4, 4, 9, 4, 4, 4, 4, 4, 4, 4, 4, 4, 4]\n",
       " [5, 5, 5, 5, 5, 5, 5, 5, 5, 5, 5, 5, 5, 5, 5, 5, 5, 5, 5, 5]\n",
       " [6, 6, 6, 6, 6, 6, 6, 6, 6, 6, 6, 6, 6, 6, 6, 6, 6, 6, 6, 6]"
      ]
     },
     "execution_count": 14,
     "metadata": {},
     "output_type": "execute_result"
    }
   ],
   "source": [
    "nearest_labels = [train_labels[n] for n in nearest_neighbors]"
   ]
  },
  {
   "cell_type": "code",
   "execution_count": 15,
   "metadata": {},
   "outputs": [
    {
     "data": {
      "text/plain": [
       "10000-element Array{Array{Int64,1},1}:\n",
       " [7, 7, 7, 7, 7, 7, 7, 7, 7, 7, 7, 7, 7, 7, 7, 7, 7, 7, 7, 7]\n",
       " [2, 2, 2, 2, 2, 2, 2, 2, 2, 2, 2, 2, 2, 2, 2, 2, 2, 2, 2, 2]\n",
       " [1, 1, 1, 1, 1, 1, 1, 1, 1, 1, 1, 1, 1, 1, 1, 1, 1, 1, 1, 1]\n",
       " [0, 0, 0, 0, 0, 0, 0, 0, 0, 0, 0, 0, 0, 0, 0, 0, 0, 0, 0, 0]\n",
       " [4, 4, 4, 4, 4, 4, 4, 4, 4, 4, 9, 4, 4, 4, 4, 4, 9, 4, 4, 4]\n",
       " [1, 1, 1, 1, 1, 1, 1, 1, 1, 1, 1, 1, 1, 1, 1, 1, 1, 1, 1, 1]\n",
       " [4, 4, 4, 4, 4, 9, 4, 4, 4, 4, 4, 4, 4, 4, 4, 4, 4, 4, 4, 9]\n",
       " [9, 9, 9, 9, 9, 9, 9, 9, 9, 9, 9, 9, 9, 9, 9, 9, 9, 9, 9, 9]\n",
       " [5, 5, 5, 5, 5, 5, 9, 5, 9, 5, 6, 5, 4, 8, 4, 5, 6, 5, 8, 8]\n",
       " [9, 9, 9, 9, 9, 9, 9, 9, 9, 9, 9, 7, 9, 9, 9, 9, 9, 9, 9, 9]\n",
       " [0, 0, 0, 0, 0, 0, 0, 0, 0, 0, 0, 0, 0, 0, 0, 0, 0, 0, 0, 0]\n",
       " [6, 6, 6, 6, 6, 6, 6, 6, 6, 6, 6, 6, 6, 6, 6, 6, 6, 6, 6, 6]\n",
       " [9, 9, 9, 9, 9, 9, 9, 9, 9, 9, 9, 9, 9, 9, 9, 9, 9, 9, 9, 9]\n",
       " ⋮                                                           \n",
       " [5, 5, 5, 5, 5, 5, 5, 5, 5, 5, 5, 5, 5, 5, 5, 5, 3, 5, 5, 5]\n",
       " [6, 6, 6, 6, 6, 6, 6, 6, 6, 6, 6, 6, 6, 6, 6, 6, 6, 6, 6, 6]\n",
       " [7, 7, 7, 7, 7, 7, 7, 7, 7, 7, 7, 7, 7, 7, 7, 7, 7, 7, 7, 7]\n",
       " [8, 8, 8, 8, 8, 8, 8, 8, 8, 8, 8, 8, 8, 8, 8, 8, 8, 8, 8, 8]\n",
       " [9, 9, 9, 9, 9, 9, 9, 9, 9, 4, 9, 9, 9, 9, 9, 9, 9, 9, 9, 9]\n",
       " [0, 0, 0, 0, 0, 0, 0, 0, 0, 0, 0, 0, 0, 0, 0, 0, 0, 0, 0, 0]\n",
       " [1, 1, 1, 1, 1, 1, 1, 1, 1, 1, 1, 1, 1, 1, 1, 1, 1, 1, 1, 1]\n",
       " [2, 2, 2, 2, 2, 2, 2, 2, 2, 2, 2, 2, 2, 2, 2, 2, 2, 2, 2, 2]\n",
       " [3, 3, 3, 3, 3, 3, 3, 3, 3, 3, 3, 3, 3, 3, 3, 3, 3, 3, 3, 3]\n",
       " [4, 4, 4, 4, 4, 4, 4, 4, 4, 9, 4, 4, 4, 4, 4, 4, 4, 4, 4, 4]\n",
       " [5, 5, 5, 5, 5, 5, 5, 5, 5, 5, 5, 5, 5, 5, 5, 5, 5, 5, 5, 5]\n",
       " [6, 6, 6, 6, 6, 6, 6, 6, 6, 6, 6, 6, 6, 6, 6, 6, 6, 6, 6, 6]"
      ]
     },
     "execution_count": 15,
     "metadata": {},
     "output_type": "execute_result"
    }
   ],
   "source": [
    "# the same - just to show how broadcasting can be used\n",
    "getindex.(Ref(train_labels), nearest_neighbors)"
   ]
  },
  {
   "cell_type": "code",
   "execution_count": 16,
   "metadata": {},
   "outputs": [
    {
     "data": {
      "text/plain": [
       "knn_predict (generic function with 1 method)"
      ]
     },
     "execution_count": 16,
     "metadata": {},
     "output_type": "execute_result"
    }
   ],
   "source": [
    "function knn_predict(nearest_labels, k)\n",
    "    prediction = Int[]\n",
    "    for ls in nearest_labels\n",
    "        n = [Int[] for _ in 1:10]\n",
    "        for i in 1:k\n",
    "            push!(n[mod1(ls[i], 10)], i) # mod1 transformation recodes 0 to 10\n",
    "        end\n",
    "        best_len = maximum(length.(n))\n",
    "        tmp = [length(x) == best_len ? x[1] : 21 for x in n]\n",
    "        push!(prediction, mod(argmin(tmp), 10)) # now we transform 10 to 0\n",
    "    end\n",
    "    prediction\n",
    "end"
   ]
  },
  {
   "cell_type": "code",
   "execution_count": 17,
   "metadata": {},
   "outputs": [
    {
     "data": {
      "text/plain": [
       "20-element Array{Float64,1}:\n",
       " 0.9691\n",
       " 0.9691\n",
       " 0.9717\n",
       " 0.9716\n",
       " 0.9693\n",
       " 0.9709\n",
       " 0.9699\n",
       " 0.97  \n",
       " 0.9669\n",
       " 0.9683\n",
       " 0.9673\n",
       " 0.9677\n",
       " 0.9662\n",
       " 0.9649\n",
       " 0.9643\n",
       " 0.9646\n",
       " 0.9635\n",
       " 0.9644\n",
       " 0.9635\n",
       " 0.9631"
      ]
     },
     "execution_count": 17,
     "metadata": {},
     "output_type": "execute_result"
    }
   ],
   "source": [
    "preds = [mean(knn_predict(nearest_labels, k) .== test_labels) for k in 1:20]"
   ]
  },
  {
   "cell_type": "code",
   "execution_count": 18,
   "metadata": {},
   "outputs": [],
   "source": [
    "using PyPlot"
   ]
  },
  {
   "cell_type": "code",
   "execution_count": 19,
   "metadata": {},
   "outputs": [
    {
     "data": {
      "image/png": "[encoded data removed]",
      "text/plain": [
       "Figure(PyObject <Figure size 640x480 with 1 Axes>)"
      ]
     },
     "metadata": {},
     "output_type": "display_data"
    },
    {
     "data": {
      "text/plain": [
       "1-element Array{PyCall.PyObject,1}:\n",
       " PyObject <matplotlib.lines.Line2D object at 0x000000006B214128>"
      ]
     },
     "execution_count": 19,
     "metadata": {},
     "output_type": "execute_result"
    }
   ],
   "source": [
    "plot(1:20, preds)"
   ]
  },
  {
   "cell_type": "code",
   "execution_count": 20,
   "metadata": {},
   "outputs": [
    {
     "data": {
      "text/plain": [
       "10000-element Array{Int64,1}:\n",
       " 7\n",
       " 2\n",
       " 1\n",
       " 0\n",
       " 4\n",
       " 1\n",
       " 4\n",
       " 9\n",
       " 5\n",
       " 9\n",
       " 0\n",
       " 6\n",
       " 9\n",
       " ⋮\n",
       " 5\n",
       " 6\n",
       " 7\n",
       " 8\n",
       " 9\n",
       " 0\n",
       " 1\n",
       " 2\n",
       " 3\n",
       " 4\n",
       " 5\n",
       " 6"
      ]
     },
     "execution_count": 20,
     "metadata": {},
     "output_type": "execute_result"
    }
   ],
   "source": [
    "predictions3 = knn_predict(nearest_labels, 3)"
   ]
  },
  {
   "cell_type": "code",
   "execution_count": 21,
   "metadata": {},
   "outputs": [
    {
     "data": {
      "text/plain": [
       "10×10 Named Array{Int64,2}\n",
       "Dim1 ╲ Dim2 │    0     1     2     3     4     5     6     7     8     9\n",
       "────────────┼───────────────────────────────────────────────────────────\n",
       "0           │  974     1     1     0     0     1     2     1     0     0\n",
       "1           │    0  1133     2     0     0     0     0     0     0     0\n",
       "2           │    9     7   997     2     0     0     1    14     2     0\n",
       "3           │    0     1     4   975     1    13     1     7     4     4\n",
       "4           │    0     5     0     0   948     0     5     4     1    19\n",
       "5           │    4     1     0    12     2   860     5     1     3     4\n",
       "6           │    4     3     0     0     4     3   944     0     0     0\n",
       "7           │    0    18     4     0     2     0     0   994     0    10\n",
       "8           │    7     0     3    13     5    11     3     4   923     5\n",
       "9           │    3     4     2     7     9     4     1     8     2   969"
      ]
     },
     "execution_count": 21,
     "metadata": {},
     "output_type": "execute_result"
    }
   ],
   "source": [
    "freqtable(test_labels, predictions3)"
   ]
  },
  {
   "cell_type": "code",
   "execution_count": 22,
   "metadata": {},
   "outputs": [
    {
     "data": {
      "text/plain": [
       "10×10 Named Array{Int64,2}\n",
       "Dim1 ╲ Dim2 │    0     1     2     3     4     5     6     7     8     9\n",
       "────────────┼───────────────────────────────────────────────────────────\n",
       "0           │  973     1     1     0     0     1     3     1     0     0\n",
       "1           │    0  1129     3     0     1     1     1     0     0     0\n",
       "2           │    7     6   992     5     1     0     2    16     3     0\n",
       "3           │    0     1     2   970     1    19     0     7     7     3\n",
       "4           │    0     7     0     0   944     0     3     5     1    22\n",
       "5           │    1     1     0    12     2   860     5     1     6     4\n",
       "6           │    4     2     0     0     3     5   944     0     0     0\n",
       "7           │    0    14     6     2     4     0     0   992     0    10\n",
       "8           │    6     1     3    14     5    13     3     4   920     5\n",
       "9           │    2     5     1     6    10     5     1    11     1   967"
      ]
     },
     "execution_count": 22,
     "metadata": {},
     "output_type": "execute_result"
    }
   ],
   "source": [
    "freqtable(test_labels, prediction)"
   ]
  },
  {
   "cell_type": "code",
   "execution_count": 23,
   "metadata": {},
   "outputs": [
    {
     "data": {
      "text/plain": [
       "10×10 Named Array{Int64,2}\n",
       "Dim1 ╲ Dim2 │  0   1   2   3   4   5   6   7   8   9\n",
       "────────────┼───────────────────────────────────────\n",
       "0           │  1   0   0   0   0   0  -1   0   0   0\n",
       "1           │  0   4  -1   0  -1  -1  -1   0   0   0\n",
       "2           │  2   1   5  -3  -1   0  -1  -2  -1   0\n",
       "3           │  0   0   2   5   0  -6   1   0  -3   1\n",
       "4           │  0  -2   0   0   4   0   2  -1   0  -3\n",
       "5           │  3   0   0   0   0   0   0   0  -3   0\n",
       "6           │  0   1   0   0   1  -2   0   0   0   0\n",
       "7           │  0   4  -2  -2  -2   0   0   2   0   0\n",
       "8           │  1  -1   0  -1   0  -2   0   0   3   0\n",
       "9           │  1  -1   1   1  -1  -1   0  -3   1   2"
      ]
     },
     "execution_count": 23,
     "metadata": {},
     "output_type": "execute_result"
    }
   ],
   "source": [
    "freqtable(test_labels, predictions3) - freqtable(test_labels, prediction)"
   ]
  },
  {
   "cell_type": "code",
   "execution_count": 24,
   "metadata": {},
   "outputs": [
    {
     "data": {
      "text/plain": [
       "283-element Array{Int64,1}:\n",
       "   66\n",
       "  116\n",
       "  196\n",
       "  242\n",
       "  248\n",
       "  301\n",
       "  321\n",
       "  322\n",
       "  342\n",
       "  359\n",
       "  382\n",
       "  413\n",
       "  446\n",
       "    ⋮\n",
       " 9771\n",
       " 9780\n",
       " 9809\n",
       " 9812\n",
       " 9840\n",
       " 9868\n",
       " 9876\n",
       " 9880\n",
       " 9884\n",
       " 9905\n",
       " 9945\n",
       " 9983"
      ]
     },
     "execution_count": 24,
     "metadata": {},
     "output_type": "execute_result"
    }
   ],
   "source": [
    "wrong_predictions = findall(predictions3 .!= test_labels)"
   ]
  },
  {
   "cell_type": "code",
   "execution_count": 25,
   "metadata": {},
   "outputs": [
    {
     "data": {
      "application/vnd.webio.node+json": {
       "children": [
        {
         "children": [
          {
           "children": [
            {
             "children": [],
             "instanceArgs": {
              "namespace": "html",
              "tag": "div"
             },
             "nodeType": "DOM",
             "props": {
              "setInnerHtml": "<img src='data:image/png;base64,iVBORw0KGgoAAAANSUhEUgAAAHAAAABwCAAAAADji6uXAAAABGdBTUEAALGPC/xhBQAAACBjSFJNAAB6JgAAgIQAAPoAAACA6AAAdTAAAOpgAAA6mAAAF3CculE8AAAAAmJLR0QA/4ePzL8AAAFISURBVGje7dmvSwRBGMbxjz8Qi8VrGjSZ/Q/UJGbBP8FiMZmsdtHgXyFWTcYrgs1iEBG0HFi0nZzhRjwEYZcBnRvep8zOy858efbhhd1ZQqFQKBQKhcZfE7kb3OMAFw3vn/xrh/UDp3M3GGBNZPiPwFYZdrCLE7yPi8P6ga0ynMcRbnE5Lg4DGMDyga36cCONiyO1lx/z4hzWD2yV4UoaeyO1a+yV7LB+YOMMZ7GND7yOk8P6gY0zPMQS+tjCaqrv4Kpkh/UDG3/j9wzfS0cXDtL1CfZLdVg/sHEffoXdxTGe0/xcu8Oe+h9puRne4NTwu7CfasuY8d2PRTqsH9g4w81fFk+V7rB+YNZ5aQdzpTsMYADLB2b14UIauyU7rB+YleF6Gh9KdhjAAJYPzP4H/IS7kh3WD8zK8BFneCvZYf3AUCgUCuXrE2dRIn9uBsfWAAAAAElFTkSuQmCC'></img>"
             },
             "type": "node"
            },
            "True: 4, pred: 9"
           ],
           "instanceArgs": {
            "namespace": "html",
            "tag": "div"
           },
           "nodeType": "DOM",
           "props": {
            "style": {
             "display": "flex",
             "flex-direction": "column"
            }
           },
           "type": "node"
          },
          {
           "children": [
            {
             "children": [],
             "instanceArgs": {
              "namespace": "html",
              "tag": "div"
             },
             "nodeType": "DOM",
             "props": {
              "setInnerHtml": "<img src='data:image/png;base64,iVBORw0KGgoAAAANSUhEUgAAAHAAAABwCAAAAADji6uXAAAABGdBTUEAALGPC/xhBQAAACBjSFJNAAB6JgAAgIQAAPoAAACA6AAAdTAAAOpgAAA6mAAAF3CculE8AAAAAmJLR0QA/4ePzL8AAAHESURBVGje7dm/a1RBFMXxjxq1cP8BhaiFNjGFjY1lIGWKgKKFCHbBKqDBgJ0IYqGBFFapEyGoIFhoFWwEUbARLLUykCagEVH8UcwrNkbYNyu4s5c5zQy8N5z9crj3zcxSVVVVVVVVtetfFs/gHs7gYcs1u/83YXzDkX4XXsYifuFTyYTxDfuqw9NYw3dcxIOSCeMbZtfhGFaa+by8/AZCGN8wqw6P4jkO4orUS4snjG/Yug5HcAeHsGB7fnvwU/o2FkcY37B1hrOYxn3M/fGLV/AMSyUSxjds1UuPSD10E+fwruvZYbzHW5zC19II4xu2qsNrGMVd2/Pbi5vNfF3v/AZCGN+wZ4bHcAlP7NzDjOJCM39cKmF8w54ZTmG/vzfds13z1VIJ4xv2/B6O4Y0U9iPcwiscx2t0pL3MjLQ3LY4wvmGrPc113Ghe3sRL6a6mgx9ST10vlTC+Yesz/nnclvLq1homSiaMb5h1T7NPOs+fkGpxC+P4UDJhfMOs+9Jvzdhpxo/y8hsIYXzDvv57utqMT4eBML5hdoYnMTlMhPENszM8IN3PfMbyMBDGN8zOcANfpLPhi2EgjG9YVVVVVVVVxW9aRjx8x3/aoAAAAABJRU5ErkJggg=='></img>"
             },
             "type": "node"
            },
            "True: 4, pred: 9"
           ],
           "instanceArgs": {
            "namespace": "html",
            "tag": "div"
           },
           "nodeType": "DOM",
           "props": {
            "style": {
             "display": "flex",
             "flex-direction": "column"
            }
           },
           "type": "node"
          },
          {
           "children": [
            {
             "children": [],
             "instanceArgs": {
              "namespace": "html",
              "tag": "div"
             },
             "nodeType": "DOM",
             "props": {
              "setInnerHtml": "<img src='data:image/png;base64,iVBORw0KGgoAAAANSUhEUgAAAHAAAABwCAAAAADji6uXAAAABGdBTUEAALGPC/xhBQAAACBjSFJNAAB6JgAAgIQAAPoAAACA6AAAdTAAAOpgAAA6mAAAF3CculE8AAAAAmJLR0QA/4ePzL8AAAGaSURBVGje7dkxaxRBHIbxn3JJSNJYCIJypJAIEUxlIdgFIV2KNNdo6QcQIYlYBGzUfAWx9zOkEFMZsBBsQgpFIU2aw0CI2kiKueIK986VxZv9M29z3MwsD8+97O7NLiUlJSUlJSUlJSWTz4VxCx6jh9uDxZ/wCG//EXjxfxvGB3aqJqbwCqt4jXXcwQs8UDrMCFh5Hs7hFEs4HBrfks7DK20xjA+s7HAGX3AL/aHxLr5hBe/aYBgfWHkt/YV7OKuYX2iLYXxgZ9TkwR/GZtpmGB/YqXtAb/D5tS2G8YG1O7yM99hri2F8YK0Ob+A+nrfJMD5w7B5/OLvS/5yP+I4T7GA/Z8P4wFodnuEYnwcHzkr7/iPclPaT2RnGB9bq8JrU08ng+xSuYgN38RAfcjOMD6zV4ag8lbpclp4BZGMYH9hYh6T75C42czKMD2y0wyfYxiX8zMUwPrDRDhel5+Pz+JGLYXxg7T3+qPT/Yk38n7TdHa7laBgf2FiH09I7/5fSO49sDOMDG+mwi2e4jjf4nZNhfGBJScnkcw4CdzEHbgJ9zgAAAABJRU5ErkJggg=='></img>"
             },
             "type": "node"
            },
            "True: 3, pred: 5"
           ],
           "instanceArgs": {
            "namespace": "html",
            "tag": "div"
           },
           "nodeType": "DOM",
           "props": {
            "style": {
             "display": "flex",
             "flex-direction": "column"
            }
           },
           "type": "node"
          },
          {
           "children": [
            {
             "children": [],
             "instanceArgs": {
              "namespace": "html",
              "tag": "div"
             },
             "nodeType": "DOM",
             "props": {
              "setInnerHtml": "<img src='data:image/png;base64,iVBORw0KGgoAAAANSUhEUgAAAHAAAABwCAAAAADji6uXAAAABGdBTUEAALGPC/xhBQAAACBjSFJNAAB6JgAAgIQAAPoAAACA6AAAdTAAAOpgAAA6mAAAF3CculE8AAAAAmJLR0QA/4ePzL8AAAIESURBVGje7dnNi45RHMbxj/FEFiz1GHmZTGaMbCzszEY2bJQUUtjM8C9MISllw0LGRqbYURMbZSOxs/faeMliMkkppbxMWZzz1ERzP0dqnDmdq57Oc9+/X+fq6tt9d59+VFVVVVVVVVUtfi1JbezFCRzCpnhvAg9wCz8S9+lZ6ITlG3Zl2IPDGMPAPD0vsBvTOSYs37ArwxFcjf+/4AZex+t+jGKp8CwewWxuCcs3bGR4EKcwiFfYg7e/9RzAJaxBH97nlrB8w1ZTcafAbwZ7/ckPbuO0wDDLhOUbtlKabuLNYk1YvmESw5ku9UkMYb/wXs0qYfmGSQxHcLGhvjWuW3JMWL5hEsNeDOPRPPWBlE3+V8LyDRsZTmAf2riMK3gZa33CuRE2xLWNZfieU8LyDbueD8dw7i82XIsPOSUs37Arw+XYhZPCmX4KO2LtCa5hG87Ge5VhXu9S+IZ78dcW+PTH2lRcV8zpH1QZLrCSvmk66rCZaugZwsOcEpZv2MhwNR7jLsbxLmHDydwSlm/YyPATruM8VuKCNI5ZJSzfsJHhrPDNckw45w8L54tp3JnTtz2uz/E1t4TlGybNgNfjPjbH65/CHKqjVcL8aVRgnlXC8g2T5/jrhPPD0XnqT4Xn9HNuCcs3TGbYaW4Js96NOC7MM57hDD7mmLB8w6qqqqqqf9cvbGBJ9wNT5ZMAAAAASUVORK5CYII='></img>"
             },
             "type": "node"
            },
            "True: 9, pred: 8"
           ],
           "instanceArgs": {
            "namespace": "html",
            "tag": "div"
           },
           "nodeType": "DOM",
           "props": {
            "style": {
             "display": "flex",
             "flex-direction": "column"
            }
           },
           "type": "node"
          },
          {
           "children": [
            {
             "children": [],
             "instanceArgs": {
              "namespace": "html",
              "tag": "div"
             },
             "nodeType": "DOM",
             "props": {
              "setInnerHtml": "<img src='data:image/png;base64,iVBORw0KGgoAAAANSUhEUgAAAHAAAABwCAAAAADji6uXAAAABGdBTUEAALGPC/xhBQAAACBjSFJNAAB6JgAAgIQAAPoAAACA6AAAdTAAAOpgAAA6mAAAF3CculE8AAAAAmJLR0QA/4ePzL8AAAHVSURBVGje7djNi81RHMfxF5k8LS6GMR53Y2UhzR+APMtalIVI2VFSFv4BSaTGzobFKGWjRknKWgYrK5LkYUHRJCMPi3PKVfdy595pHN/OZ/U9v98933efPn075/6oqqr615rVy+YFGMUzHO9wz+yZdhgf2FOG6/AUn7EaH0p0GB84ZzqavMNkqQ7jA6clwzFMlOowPrCnDI9J83ehZIfxgV2fh2vxCD/QX7LD+MCu53ArFuF06Q7jA7uawwHcRwMb8LZkh/GBXc3hLul/xQ0pv/m50acSHcYHTjnDhTiY67O5wSiWYzfel+YwPnDKGZ7AFtzDA2zH3vxujZph6Rmux9FcX8FSXMrr13hTosP4wI4y7MNOXMbK/OwmdmAor7/lZnPxpSSH8YF/vZc2pLw2ddjwJY7gTikO4wP/OIcNnPMrv4m8/oj9GG6x5ys2qhnOoNrOYR9GcLjp2Umcxzy8wmLpO80T3MUtPJQyLsZhfGDbORzye37XcDHX+7BEyu829pTsMD6wbYanmurnOCPdW2CZlN9VHCrdYXxgywz7sTnXkziAF03vV0l3z+v4XrrD+MCW5+EgHkvztk0665q1Iv9m/H9wGB9YVVVVVVVVVVVVVYJ+ArloQ6c+E04CAAAAAElFTkSuQmCC'></img>"
             },
             "type": "node"
            },
            "True: 4, pred: 6"
           ],
           "instanceArgs": {
            "namespace": "html",
            "tag": "div"
           },
           "nodeType": "DOM",
           "props": {
            "style": {
             "display": "flex",
             "flex-direction": "column"
            }
           },
           "type": "node"
          },
          {
           "children": [
            {
             "children": [],
             "instanceArgs": {
              "namespace": "html",
              "tag": "div"
             },
             "nodeType": "DOM",
             "props": {
              "setInnerHtml": "<img src='data:image/png;base64,iVBORw0KGgoAAAANSUhEUgAAAHAAAABwCAAAAADji6uXAAAABGdBTUEAALGPC/xhBQAAACBjSFJNAAB6JgAAgIQAAPoAAACA6AAAdTAAAOpgAAA6mAAAF3CculE8AAAAAmJLR0QA/4ePzL8AAAGsSURBVGje7dkxaxRBHIbxX0RBiRoECyFGgoohVppPIJiksrAIVjYBsRO/QBoRtLEMgrWFhVYStBMC2gmGNIGU9iGF2KhHLGbAFCG3uwFv9s+8cOwwt8PDy8MM7C41NTU1NTU1Nf3P2FEWr2MPt1qsOfa/G8YHHu+68ApuYqf0hvGBnR3O4ozqsABgJ4fjeCmdo2ulN4wP7OTwES7m8bvSG8YHtnI4hgd4tm+unqUjB7ZyOINXefwdl/rQMD6wscMb+JrHs/jSl4bxgY0cXsd7DDCHbelc3cq/ohvGBw51OImPOIf72MRdTOC55PWgLOAEPoy6YXzgUIfLmMITvM1zK/iNNwfcfw9XcRuvS2gYHzjU4cl8fYjFPJ7DD2lf/pT23Pn83zXs4oV/zkfaMD5w6PvSs5K7O9Lemszzf/bdsy09969Lrn+V1DA+sNU771PSvlvDksNdFdMwPrDV8+HjfF3Vzd9IGsYHtnI4n6+f+tQwPrCxw9O4LD1nDJouKqFhfGBjh+OYxlPpe0VvGsYHtjpLB/jWt4bxgY0dXsBnbPStYXxgTU1NTc3R8xeQYTS0fp8k3AAAAABJRU5ErkJggg=='></img>"
             },
             "type": "node"
            },
            "True: 4, pred: 1"
           ],
           "instanceArgs": {
            "namespace": "html",
            "tag": "div"
           },
           "nodeType": "DOM",
           "props": {
            "style": {
             "display": "flex",
             "flex-direction": "column"
            }
           },
           "type": "node"
          },
          {
           "children": [
            {
             "children": [],
             "instanceArgs": {
              "namespace": "html",
              "tag": "div"
             },
             "nodeType": "DOM",
             "props": {
              "setInnerHtml": "<img src='data:image/png;base64,iVBORw0KGgoAAAANSUhEUgAAAHAAAABwCAAAAADji6uXAAAABGdBTUEAALGPC/xhBQAAACBjSFJNAAB6JgAAgIQAAPoAAACA6AAAdTAAAOpgAAA6mAAAF3CculE8AAAAAmJLR0QA/4ePzL8AAAF7SURBVGje7dmxSxthHMbxT9RJHURRdBA6dZaKq5tjHLJ1l4COri7d/CeaUXAoLYUunSsigv+BsyDi4FIwauvwnrg45G4w7/14v0uS4y7fPHn4Xe7eUCgUCoVCoVAojJ9OnZ030MdHXOI7znFT4z0m3jthfOHIHa7gDKt4wmS1/QL7+JNrwvjCqVF3/IdZ3OEz5nCIdWwrHY5ROHKH1zhBF484rl7vYg+n+JFjwvjCkTuEI6nDAb5I8/cJM5jONWF8Ya0O/+K/9Js4qLbdY0fqN8uE8YW1rkuhhzUcVAefYDPnhPGFtTt8YSgNcR9fc04YX1jrXPoWD7knjC9s1OGC1wG+zT1hfGGjDrvSPf4Qv3JPGF/YqMPl6nHQ4Nj4X2n+HS5I1zHwrQ0J4wtrd7iED9XzuzYkjC9sdC7tSPf6rUgYX9iow6b9jSVhfGGZw/YLyxy2X1h7rW0ev6X/De+l9dKtnBPGFzZaL13EVfVpe/iZc8L4wkKhMH6eAZcsLt4BbLtrAAAAAElFTkSuQmCC'></img>"
             },
             "type": "node"
            },
            "True: 9, pred: 7"
           ],
           "instanceArgs": {
            "namespace": "html",
            "tag": "div"
           },
           "nodeType": "DOM",
           "props": {
            "style": {
             "display": "flex",
             "flex-direction": "column"
            }
           },
           "type": "node"
          },
          {
           "children": [
            {
             "children": [],
             "instanceArgs": {
              "namespace": "html",
              "tag": "div"
             },
             "nodeType": "DOM",
             "props": {
              "setInnerHtml": "<img src='data:image/png;base64,iVBORw0KGgoAAAANSUhEUgAAAHAAAABwCAAAAADji6uXAAAABGdBTUEAALGPC/xhBQAAACBjSFJNAAB6JgAAgIQAAPoAAACA6AAAdTAAAOpgAAA6mAAAF3CculE8AAAAAmJLR0QA/4ePzL8AAAHISURBVGje7dgvaFZRHMbxz+ZQ54oIom3JKZoEDVoMgsUlF4QJQzDMpMEgiqDC1qz+AYMaDJYVLYIgCgZxYZoMlm1FBBGLYnoN54SXF9zO3uDO++M85Zx77+/e7314+N17z6Wpqampqampqalp8zVUWrgT+zCdty+j03X8K45jeZ3rDP9vh/GBIyVF53Ad+7v2dfARW3EAe7BXy7DGDKfxAKP4gQUpu7dSXiNYxfZc+742h/GBaz5Ld+A5tmAO7/C7p2YU3/J4ItdU5TA+cM0+/IWT61zgipTfF3yu0WF8YNH78F86iqt5fh/fa3QYH9h3hsM4JfXgT7yu1WF8YN8ZXsDtPL+GT7U6jA/sO8PJPK7gSc0O4wP7yvCwlGEHd/CnZofxgRvOcAy38p2+wr3aHcYHbjjD8zgtrTseDYLD+MDi/6Wk/6WLUi/O4+YgOIwPLO7DIen7cyxvvxgUh/GBxRlOYSbPH+PDoDiMDyzOcKJrPt9z7Cye1eowPrA4wyN5nJPWhNtwBjdwqWaH8YHFGR7L4y4cxFOMSz35pmaH8YHF36V3Mdtz4kNcrN1hfGBxhrulNf0hLEn991JaJ1btMD6wqalp8/UXWic59rph5xUAAAAASUVORK5CYII='></img>"
             },
             "type": "node"
            },
            "True: 2, pred: 7"
           ],
           "instanceArgs": {
            "namespace": "html",
            "tag": "div"
           },
           "nodeType": "DOM",
           "props": {
            "style": {
             "display": "flex",
             "flex-direction": "column"
            }
           },
           "type": "node"
          }
         ],
         "instanceArgs": {
          "namespace": "html",
          "tag": "div"
         },
         "nodeType": "DOM",
         "props": {
          "style": {
           "display": "flex",
           "flex-direction": "row"
          }
         },
         "type": "node"
        },
        {
         "children": [
          {
           "children": [
            {
             "children": [],
             "instanceArgs": {
              "namespace": "html",
              "tag": "div"
             },
             "nodeType": "DOM",
             "props": {
              "setInnerHtml": "<img src='data:image/png;base64,iVBORw0KGgoAAAANSUhEUgAAAHAAAABwCAAAAADji6uXAAAABGdBTUEAALGPC/xhBQAAACBjSFJNAAB6JgAAgIQAAPoAAACA6AAAdTAAAOpgAAA6mAAAF3CculE8AAAAAmJLR0QA/4ePzL8AAAGnSURBVGje7dkxS5ZRGIfxn2EuWZDgEM0Nbo5uEhQugpNRQ9GaQ0QfwhKEhqIP0CJiDQ6CSDQ0RDRIEUW6CJFDQUGmglHUcBrEnt7zilHnPdzX9MB94OLPzXMO9zkEQRAEB6Urt2AS1zCKR39BeOhfJ6xf2LKHvVjDVcx0asL6hd2tiofRg6VOTli/sDu34Cs+dnLCEIYwhCEMYQjzZM/DHJdwHjfxuMSE9QtbzhbHsYr+P9QH8BQb+IYhvC8tYf3CA/2HY3iDcbzGZUyVlrB+YcsebuAlBvG8oT6OF3iLBzgrelhaD79L9zO3cLqhfkz6D0n9PlliwvqF2b10HjdwFF/21D51QsL6hdkebuIzLuLuntocJnACFzTvt/89Yf3CbA+3cQV3/N7De9j59f2q1IT1C7NvT3BEuvdekN6imrgtzRpnSktYv7Ct2WIL56RZ8CGeNawZw3SJCesXtj0frktn3qz0Jjy/q3ZKugd4UmLC+oVt7aW7GcEilnEfH3Bdep8axo/SEtYv3HcPu6Q7uGlp3ujDO+mcXCkxYf3CIAiCIAiCGvgJGi8+EZ2gQUAAAAAASUVORK5CYII='></img>"
             },
             "type": "node"
            },
            "True: 6, pred: 4"
           ],
           "instanceArgs": {
            "namespace": "html",
            "tag": "div"
           },
           "nodeType": "DOM",
           "props": {
            "style": {
             "display": "flex",
             "flex-direction": "column"
            }
           },
           "type": "node"
          },
          {
           "children": [
            {
             "children": [],
             "instanceArgs": {
              "namespace": "html",
              "tag": "div"
             },
             "nodeType": "DOM",
             "props": {
              "setInnerHtml": "<img src='data:image/png;base64,iVBORw0KGgoAAAANSUhEUgAAAHAAAABwCAAAAADji6uXAAAABGdBTUEAALGPC/xhBQAAACBjSFJNAAB6JgAAgIQAAPoAAACA6AAAdTAAAOpgAAA6mAAAF3CculE8AAAAAmJLR0QA/4ePzL8AAAGLSURBVGje7dkxSJRhHMfxT2IJhlKrtgpGSJOKNOkgCG6NUSC0FQ3SJLS3NweCi0MNgoEIIrg4SIuDUFMQXIFDCMaJN+TwXsPJRQePeo8P/x8cx8HzvN/78uM5/ve+RCKRSCQSiUQi3c+N1AvM4g3eY7mD9T1XbVg+sDf1277EIxyIDrsEbOlwCsP40OHmB5jP3bB8YEuHD7GIn/iM+n82P26+n2AzV8PygS0drmIaO/iGBnbxBVv4jpt4gjt41dy3jo+5GpYPbDvTPMVrjHV4kSW8zdWwfGDbmWZFdSZ7MYI+jJ9bs4dneJG7YfnAf86ljeZrv/l5r82aietgGMAABjCAl5+k//hreIdbORuWD0y619aPY3zFaK6G5QOTzmFddRbv52xYPjCpwz84zd2wfGBSh39zG3fxK0fD8oHJHR7hHiaxkaNh+cDk54dz+ISaqscj1ZyTjWH5wOQOh1TPDgewjQXVvfFsDMsHJv+W1nCIQczkaFg+8EJmmueqM/gDv3MzLB8YiUS6nzPMyTPreVlz6gAAAABJRU5ErkJggg=='></img>"
             },
             "type": "node"
            },
            "True: 7, pred: 4"
           ],
           "instanceArgs": {
            "namespace": "html",
            "tag": "div"
           },
           "nodeType": "DOM",
           "props": {
            "style": {
             "display": "flex",
             "flex-direction": "column"
            }
           },
           "type": "node"
          },
          {
           "children": [
            {
             "children": [],
             "instanceArgs": {
              "namespace": "html",
              "tag": "div"
             },
             "nodeType": "DOM",
             "props": {
              "setInnerHtml": "<img src='data:image/png;base64,iVBORw0KGgoAAAANSUhEUgAAAHAAAABwCAAAAADji6uXAAAABGdBTUEAALGPC/xhBQAAACBjSFJNAAB6JgAAgIQAAPoAAACA6AAAdTAAAOpgAAA6mAAAF3CculE8AAAAAmJLR0QA/4ePzL8AAAHFSURBVGje7dhBaI9xHMfx17QtmcVIaouU2ziSXR3ksINobUUhFwdHri7iwNGNg+TgJBdSyMEFpawls9PkQFtorSTk4PD77R9Fbc9T/Pr1fddTT7+eb5/n06fv9/d7HoIgCIIgCIIgCNrT9afFTbiAEbzG5fzgLN63FFz1rx3WL9jJcBQXsRXdWI15bMaP/Gbf8/1t3Mx1z7FQssP6BTsZPpH67pXUa1N4iB4po17swf78/C704xMu4Q5mSnRYv2Anw2FcxzSOL6NwADswhmN4h1N4XJrD+gV/2w8H8A1fllnci23SDD6A+3iAG1J/FuGwfsGupoWjuIL1WJPXFrBOmrePSnFYv2B308LBfMFLDOEsFv09v//isH7Bxn3Yg2vSfngIk5gr0WH9go0zhI04J83VFziKz6U5rF+wVYakYbwPt/AMZ6SeLMZh/YKtM1xiWPpGnMJJfCjFYf2Cjc80v9InffNvwEHsxpZSHNYv2CrDQRyW+m57XvuKeyU5rF+w0SwdwQROSP/blljEaem8WozD+gVXlOER7MU41ua1aTzFG1zFx9Ic1i+4ogz7cR47pf/bd/FWyrFYh/ULBkEQBEEQ1MBPcr1CZ2OlhH4AAAAASUVORK5CYII='></img>"
             },
             "type": "node"
            },
            "True: 3, pred: 7"
           ],
           "instanceArgs": {
            "namespace": "html",
            "tag": "div"
           },
           "nodeType": "DOM",
           "props": {
            "style": {
             "display": "flex",
             "flex-direction": "column"
            }
           },
           "type": "node"
          },
          {
           "children": [
            {
             "children": [],
             "instanceArgs": {
              "namespace": "html",
              "tag": "div"
             },
             "nodeType": "DOM",
             "props": {
              "setInnerHtml": "<img src='data:image/png;base64,iVBORw0KGgoAAAANSUhEUgAAAHAAAABwCAAAAADji6uXAAAABGdBTUEAALGPC/xhBQAAACBjSFJNAAB6JgAAgIQAAPoAAACA6AAAdTAAAOpgAAA6mAAAF3CculE8AAAAAmJLR0QA/4ePzL8AAAIHSURBVGje7dk/rA1BGAXw3+UpqEiehsJLFPIqJGqFREh0T01oRCL+VBoKIbQKr3iRSEhe6U9Cg1JNQ0FCiBKv0RJ3FbM3d+/ae3cLeTuZzGnu7H4zc+7JyXzfzgwZGRkZGRkZGRkZ/WMwK7gVT3CwfP6Bm7iDBRTl796yXZ20wFN8rc25Yb0Vpk841cPtuI8jDbHP2Fy2twheN3l4DC/6Vpg+4dy0wAHN/sFuk57V8QnX8SYGhekTTl2Hu3AaV6cMalp3o1y7HJPC9AkHbR2O45xxTRwNqnq4jEuxKkyfcK6twyPsMOlhHSeFungmRoXpE7auwwHeYrH2rp5Lvwu593lsCtMn7OTh74Z3TfXwo0mvo1CYPmGrh3ABtyvP77Ai5NmX2IdhGbsof9OsM1rrITzAfszjMZ5hrYwdxjez9xq9KkyfsJOHP4Va14S1LhP0qTB9wk65tA1/jNfhKxyKSWH6hP/Fw8K4HsLGmBSmT9iaSwc4WrZfC2cxdQzletgjYauHZ4V7CjiF1UpsJ07U+q/EpjB9wlYP91TaV0x6eNe/5+IfYlOYPmGnXDoqmttwXjh3W6r96yHumb037EVh+oStHhbGtW5e2OvXz2m+4CGuxagwfcLW79JFYV+/gE2VQQV+Cff0S3gfq8L0CTvvLW7hcmXQDeGud7XrBH0pTJ8wIyOjf/wFiVpQ2QfE0QQAAAAASUVORK5CYII='></img>"
             },
             "type": "node"
            },
            "True: 5, pred: 3"
           ],
           "instanceArgs": {
            "namespace": "html",
            "tag": "div"
           },
           "nodeType": "DOM",
           "props": {
            "style": {
             "display": "flex",
             "flex-direction": "column"
            }
           },
           "type": "node"
          },
          {
           "children": [
            {
             "children": [],
             "instanceArgs": {
              "namespace": "html",
              "tag": "div"
             },
             "nodeType": "DOM",
             "props": {
              "setInnerHtml": "<img src='data:image/png;base64,iVBORw0KGgoAAAANSUhEUgAAAHAAAABwCAAAAADji6uXAAAABGdBTUEAALGPC/xhBQAAACBjSFJNAAB6JgAAgIQAAPoAAACA6AAAdTAAAOpgAAA6mAAAF3CculE8AAAAAmJLR0QA/4ePzL8AAAH9SURBVGje7dlPiE1hHMbxz/UnC5ksRqMpU5M/SxaGUTYmycZyLDRlIUUWFhZIwkrKhilkoxBrEVEsKE2RUHakKH9Cs5qyMIbFe3Rv0z33HinnnLf3uzqd93fep+c8ved9f/eSSCQSiUQiUX8af1O8H+P/KDjnfzuMX7BQhgtxCoPYVjeH8QvOK1I0iH0YrqPD+AULZXgGr/C9jg7jF+ya4ZasaE3O+HIsxjOMYGPL2EvcKtth/IJdM9yKmVn3+nEju+7BAnxAL1a21H3DO6wv02H8gh0z7BfW324M4T2+4JKQXQMrstrLmIsjLc/34knZDuMX7JjhVWzCRQxgTMhwCtuFDPuy2kdYhlHhDDQf97CrbIfxC+ZmOIx1eI7DOIDJbGw055k3wnfznJD3R3wt22H8grkZ7hH6wmvCeWWs4IR9XWrjf6XV6PGP4SgmsBnTBSc7gUO4IOyLP/GjbIfxC7bNcAa/hD1upOBEJ4U+5LawD05UxWH8gm2/pQ0hw0VYis8dJhjCXuzEJ1zB2yo5jF+w4zqE+9iheZ75w2rhbHoQd/AUD/G4ag7jF2yb4WssEdYhPBB+Lz2t2Q/2CP9h3BXW36RixP9Kq5EhoY+fwgasnTU2jbO4jhdVdxi/YG6Gq4R9bQA3NXt5OI7zdXEYv2AikUgkEolEIlEFfgN/VUz0fYBEXgAAAABJRU5ErkJggg=='></img>"
             },
             "type": "node"
            },
            "True: 6, pred: 0"
           ],
           "instanceArgs": {
            "namespace": "html",
            "tag": "div"
           },
           "nodeType": "DOM",
           "props": {
            "style": {
             "display": "flex",
             "flex-direction": "column"
            }
           },
           "type": "node"
          },
          {
           "children": [
            {
             "children": [],
             "instanceArgs": {
              "namespace": "html",
              "tag": "div"
             },
             "nodeType": "DOM",
             "props": {
              "setInnerHtml": "<img src='data:image/png;base64,iVBORw0KGgoAAAANSUhEUgAAAHAAAABwCAAAAADji6uXAAAABGdBTUEAALGPC/xhBQAAACBjSFJNAAB6JgAAgIQAAPoAAACA6AAAdTAAAOpgAAA6mAAAF3CculE8AAAAAmJLR0QA/4ePzL8AAAIvSURBVGje7dlNiI1RHAbwH00ZFpKPlBhfNYU0WYiasBgiTT42NlYKs5CdlawpykJWviJsUGIp1mMhGTIZNU1GEbKwkMn4Wpxzm2nGnfveWcx953Seur3nnPd/znOf+3T/57z/l4yMjIyMjIyMjIzGY0atgGYsie0DOIzbuIH5eBdj3hcknDnVCtMnnNDDk9iJ9jHjA3HiQ+zDIjyJ9+7hVpkUpk/4Xw+X4abgXTWTe7AUC2L/S7xeQZ/qPqb/k5bDQ3iKNejHXQzjDg6OiWvDK3wXcu0vzEEr1gu5tqEK0yes6uFqzEJvgUUW4yVeoGPU+BZ0N1ph+oRN1W7017HIKSGndowZb5M9nAI0FQ1sxzNsjP2+2D6HVXFsKCoYxnlcLoPC9AlrPltU8BGfsS72e7E2ti9gP/bgD16XSWH6hIU9vI6taBk18S8G0Ymv+FRGhekTFvYQzghn1c44cRC7hLxaWoXpE9blYQUb8BxH8MDIs2EpFaZPOCkP4beQS6+iq8wK0ycsfC6tYDlOTCeF6RPW5eFcbMJR/BBq3d31LNAIhekTFvZwBR4Jvg3hA37iftkVpk9Y08OFOIZDQo17QNgLW4V98FvZFaZPWPNMsxmPhdppJbgLp7ENb8quMH3CcR7ujtcezBNqnm3Yi9m4JtTRWkxcjymNwvQJx+XSHTiOS8I7+8o3OouLwj7I5PxriML0Ccf9D1fGz4DwXrAZb7HdiH/TSmH6hBkZGY3HP+JiU6pONMnFAAAAAElFTkSuQmCC'></img>"
             },
             "type": "node"
            },
            "True: 3, pred: 7"
           ],
           "instanceArgs": {
            "namespace": "html",
            "tag": "div"
           },
           "nodeType": "DOM",
           "props": {
            "style": {
             "display": "flex",
             "flex-direction": "column"
            }
           },
           "type": "node"
          },
          {
           "children": [
            {
             "children": [],
             "instanceArgs": {
              "namespace": "html",
              "tag": "div"
             },
             "nodeType": "DOM",
             "props": {
              "setInnerHtml": "<img src='data:image/png;base64,iVBORw0KGgoAAAANSUhEUgAAAHAAAABwCAAAAADji6uXAAAABGdBTUEAALGPC/xhBQAAACBjSFJNAAB6JgAAgIQAAPoAAACA6AAAdTAAAOpgAAA6mAAAF3CculE8AAAAAmJLR0QA/4ePzL8AAAH9SURBVGje7dlNiM5BHAfwDz2oJ+VAROv9wIHaHJSSUspBFHmJg5ObI22Rw8penDg4KA4O20aS8lJIuUhyEFJelpPiIEVbWC+1h5nDk579P/+n1RrTfC/zn/nN/L99+9Y03xkKCgoKCgoKCv5/TKkzaR5OY0/LopcYwDWMdEE4dbIV5k/Y0cN1OINevMfjON4Tx25jL76kqjB/wkoP5+ABluMpNuNjrM3ELpzHKRzBzxQV5k9Y6eEqwbub2NamPhcf4vcSvEtRYf6Ejari9tg+r/GjfTiZosL8CSs9XNBh8Sdcx9aUFeZP2JjI4t/4nrrC/AkrPXwT2504Os6cZ8LZZoeyl/4jwsozTQO3sFHIF/1ChpiG6TiEPswQzjbL8CM1hfkTdsyHiwQfV8T+FSzGUrzAOZyI8w7ibGoK8yesdU8zH2uwO/bv4pWQ938J2XAA97ApNYX5E9bysBN68RD3FQ9TO9PUxRPcEHJ+E19TUpg/4V/xEIaFO4EtuJySwvwJu/KwiVEhF46HtYqHk4zaHm7AYezH5zb1ntheSE1h/oS1PGziKu5o799KIec/wtvUFOZPWMvDbxgU8t9C4d23db88JuT+1bE+nJLC/AlrZ4tZwjvheuE98U+M4gCGUlOYP2HX+XC2cPd2qWXsIo7jdYoK8ycsKCgoKJg4xgDgPUprkYY2eQAAAABJRU5ErkJggg=='></img>"
             },
             "type": "node"
            },
            "True: 9, pred: 3"
           ],
           "instanceArgs": {
            "namespace": "html",
            "tag": "div"
           },
           "nodeType": "DOM",
           "props": {
            "style": {
             "display": "flex",
             "flex-direction": "column"
            }
           },
           "type": "node"
          },
          {
           "children": [
            {
             "children": [],
             "instanceArgs": {
              "namespace": "html",
              "tag": "div"
             },
             "nodeType": "DOM",
             "props": {
              "setInnerHtml": "<img src='data:image/png;base64,iVBORw0KGgoAAAANSUhEUgAAAHAAAABwCAAAAADji6uXAAAABGdBTUEAALGPC/xhBQAAACBjSFJNAAB6JgAAgIQAAPoAAACA6AAAdTAAAOpgAAA6mAAAF3CculE8AAAAAmJLR0QA/4ePzL8AAAIWSURBVGje7dhPiI1RGAbwH2Mld8hKKCt2N//WNlZKUmwoqYkSCStjRRILIiyIQpRkaWMjf8piajZINlgSVtRMI8pci3Nv39zP/Wa+a0rH6Ty7+97z3ud77vO973nPISMjIyNjtpgzm+T1eIRv2IS3NXLm/muF6RP+lYfzcQ2bMdiOvcHqGBWmTziv34QmbmKt8AK02vFnsSpMn7AvD5fisOBfGUMYxd3YFKZP2FcvvYwDpeRWac0lvMKdWBSmT1jbw878srD0tJM9FNzHjlgUpk9Yu5ceFOaXTt29xFZhjjmCje34pDDrDOFWDArTJ6zt4W6Ff6PYjk/4iK8KD2ECX2JRmD5h33Mp3MB3NLAIe0rfP8HDWBSmT1h7P/ylqMMxvMc4NvT4wV24F4vC9Alr1eF53fPLINbpPdNsw4OYFKZPOGMdXsVOoW+2eiSXYzO9FOn/pXF52MRjLFb4NYZhrMAxf3p4DifwMxaF6RNOWzb7Bf86GMFxPG1/bmAfBqasOSr4fCYWhekTVnq4BltKsSsK/+CQcEZcVlrXjElh+oSVHq4S7kc7eKE4LzSwFxf0vqd5HpPC9AkrPWzp3utW4pRQdwNYIvhX3g+X43NMCtMnrH3GX6D7vruMHzgp3NtEpTB9wkoPR/BOqL8qfFD00us4G6PC9AmnPVsM4/SUhZ2+eRuvcfF/UJg+YUZGRkZGRkZGCvgNbipUXTFMqz0AAAAASUVORK5CYII='></img>"
             },
             "type": "node"
            },
            "True: 8, pred: 0"
           ],
           "instanceArgs": {
            "namespace": "html",
            "tag": "div"
           },
           "nodeType": "DOM",
           "props": {
            "style": {
             "display": "flex",
             "flex-direction": "column"
            }
           },
           "type": "node"
          }
         ],
         "instanceArgs": {
          "namespace": "html",
          "tag": "div"
         },
         "nodeType": "DOM",
         "props": {
          "style": {
           "display": "flex",
           "flex-direction": "row"
          }
         },
         "type": "node"
        },
        {
         "children": [
          {
           "children": [
            {
             "children": [],
             "instanceArgs": {
              "namespace": "html",
              "tag": "div"
             },
             "nodeType": "DOM",
             "props": {
              "setInnerHtml": "<img src='data:image/png;base64,iVBORw0KGgoAAAANSUhEUgAAAHAAAABwCAAAAADji6uXAAAABGdBTUEAALGPC/xhBQAAACBjSFJNAAB6JgAAgIQAAPoAAACA6AAAdTAAAOpgAAA6mAAAF3CculE8AAAAAmJLR0QA/4ePzL8AAAGiSURBVGje7dm/S1VhHMfxlz9IJwUX5xY3hyBxCodWcTDCIRxCcCghWpzFOXJzSmjJrX+gf6Ch1kLbdClwEtQKIR2ecyAuxOmcC/rcL88bHu7h3nN487kfnsPznEOhUCgUCoXC4DPUdMIa3uAn9rGHj30Ih286YXzhaNMJv3Ailf0UT/ABK9Vv2SeML2ychzV3sI4lPJR6fIyz3BPGF/53hzVTeI8FrOJd7gnjC1t3WPMHXzCbe8L4ws4d/sAEnuEljqT7bHYJ4wsb1zT/4gj38RqT0rzMMmF8YecO53Al9Qefc00YX9i5w15Oc00YX9jY4Uw1jrEs7St62cV2rgnjCxs7fCA9p7nq+b5eDG3iVc4J4wsb16VzeCR1OINvGMcLnGMeX3NOGF/YOA8/VeNvtqrPC+36u5WE8YWt1zRjWKyO2z6juZWE8YWtO7yLe9Xx70FIGF/YaW8xVI23g5AwvrBTh/UadRaHuSeML+xrjz/Z4Zr4f2l+e4teRrCDDWldeiC9hzrPNWF8Yaf3FtP4Lt1T9/Acl7kmjC8sFAqFQv9cA27hNJuH4MmbAAAAAElFTkSuQmCC'></img>"
             },
             "type": "node"
            },
            "True: 7, pred: 1"
           ],
           "instanceArgs": {
            "namespace": "html",
            "tag": "div"
           },
           "nodeType": "DOM",
           "props": {
            "style": {
             "display": "flex",
             "flex-direction": "column"
            }
           },
           "type": "node"
          },
          {
           "children": [
            {
             "children": [],
             "instanceArgs": {
              "namespace": "html",
              "tag": "div"
             },
             "nodeType": "DOM",
             "props": {
              "setInnerHtml": "<img src='data:image/png;base64,iVBORw0KGgoAAAANSUhEUgAAAHAAAABwCAAAAADji6uXAAAABGdBTUEAALGPC/xhBQAAACBjSFJNAAB6JgAAgIQAAPoAAACA6AAAdTAAAOpgAAA6mAAAF3CculE8AAAAAmJLR0QA/4ePzL8AAAG+SURBVGje7dmtb1VBEAXwXwEFEmopkgeOgCIEJDhagQIHtU3A0DYooPwLBEf4UFAkGnAVSKhsQFFedRWviLk3ISS8d98laTeTPWbFvbsnZ09mZneWioqKioqKipm+E0dYbxb4ggcd5x3ab4X5CXt7+At7zQJ7uCE8LU5hfsLeHi424yMcx2dcKFFhfsIjfSc+a8ZzuF2ywvyEvT38EzP4VKrC/IT/7eG8qIfvSlWYn7B3PWzxFHdwuFSF+Ql7x+EslkUcfi1ZYX7CqT2cw0/cxBJ2cblkhfkJp/ZwA3dxX9TBNWyWrDA/4VT1cAFvRO4cNOPZ0hXmJ+wUhwPhXxt7b3EG17GKxyUrzE840cM50YuZx0ecwmscE3H4EFt4VarC/IQTc+kHXMQOruEbhjjafD+NFeFr7ZceCOFYD2fxQ8TflQkLbeOq6JsWpTA/4dhcOk0P5paokdXDsjwcihy6iO/+nSsXxDlnhJelKcxPONbDdZwU7xLPRe1b++ufVXFeHel2Ps2/pWXVwxYDvMd5EZstXghfT+CeeqY5IMLOd/xL4i7RejgQPZsn4i1x2HGd/Fu674QVFRUVFRUV/AY6rUWs0ATO6wAAAABJRU5ErkJggg=='></img>"
             },
             "type": "node"
            },
            "True: 8, pred: 3"
           ],
           "instanceArgs": {
            "namespace": "html",
            "tag": "div"
           },
           "nodeType": "DOM",
           "props": {
            "style": {
             "display": "flex",
             "flex-direction": "column"
            }
           },
           "type": "node"
          },
          {
           "children": [
            {
             "children": [],
             "instanceArgs": {
              "namespace": "html",
              "tag": "div"
             },
             "nodeType": "DOM",
             "props": {
              "setInnerHtml": "<img src='data:image/png;base64,iVBORw0KGgoAAAANSUhEUgAAAHAAAABwCAAAAADji6uXAAAABGdBTUEAALGPC/xhBQAAACBjSFJNAAB6JgAAgIQAAPoAAACA6AAAdTAAAOpgAAA6mAAAF3CculE8AAAAAmJLR0QA/4ePzL8AAAH2SURBVGje7dkvbFNRFAbwH2RqSChBgRy1DE2Q4NZqkCQgQTLJMhRL5kgql+AoDs8fhcGxYYtks0yxIs4ljwKPtmvCe725n2nv7X3ve1+/nHvuOY+CgoKCgoKCguXHmVkXnsNV3EvjDjYwSOMXeDvDfc7+b4X5E071cFN4tYq1dMH4L58fcRuHbVOYP+FK3Q938AwXcZKe7BNGeJXWDIWHH7COy4qHbfLwAs7jeRoPcIBvv63rprXjtirMn3DmfFiHdRGHR7gu4rRVCvMnXFn0Bj0RgyUOGyNc2MOuCOaRyRi8IvbYEb42qTB/woX30u8iBnfxOc31cE3k0y94pDoH5f+XLpeHm3jiz1pjH8fiHPs0jRtTmD/hqffSPVE3/syF74RXdefXxhTmTzhXHPaxZbLWP8Zd1V7ZOoX5E84Uh32R4zZEv2aY5sbp+6z+NaIwf8J/etgR+a4n+qVDVX47SWvet11h/oS1HnbxWvTP9nFfFW9dVR4ctl1h/oS1Hr4U/j0QPv3aB30s8uG26f3RxhXmT1jr4ZqIs0OTPvVV59F58mBjCvMnrD2X3hBe3VL5NcBOmt8VtXvrFeZPOLW2WBXvfvdE36UjPL1k/n20EYX5E85VH+7gId7g5rIozJ9wrj7NgagpTpMHG1OYP2FBQUFBweL4AfEPW8iSHd5MAAAAAElFTkSuQmCC'></img>"
             },
             "type": "node"
            },
            "True: 2, pred: 7"
           ],
           "instanceArgs": {
            "namespace": "html",
            "tag": "div"
           },
           "nodeType": "DOM",
           "props": {
            "style": {
             "display": "flex",
             "flex-direction": "column"
            }
           },
           "type": "node"
          },
          {
           "children": [
            {
             "children": [],
             "instanceArgs": {
              "namespace": "html",
              "tag": "div"
             },
             "nodeType": "DOM",
             "props": {
              "setInnerHtml": "<img src='data:image/png;base64,iVBORw0KGgoAAAANSUhEUgAAAHAAAABwCAAAAADji6uXAAAABGdBTUEAALGPC/xhBQAAACBjSFJNAAB6JgAAgIQAAPoAAACA6AAAdTAAAOpgAAA6mAAAF3CculE8AAAAAmJLR0QA/4ePzL8AAAINSURBVGje7dlNiEhRGMbxH82ESaIpamrKEjVKLJRiMdJsqaGwUGZnYTMS+UhZWtjLlMaCkmQxxUKMsrAwC6UsfBVlUjL5LmHx3slgdO/djNPpPKtzzz3dp6d/5+u9FBUVFRUVFc1rM7gTPRjCXozjJJ63+Mb8uU6Yv2EjhguxAmPorfruYhteYAtepZowf8OOugGDOCY4nsZo1d+JO9iI5QrD/2hYy3ASZwS7IZzAORwS/JJPmL9hq/1wF0aw6I/+9ZhINWH+hrXzcKYuC34jM/o+4mvKCfM3bMUQ7uMDFlfPt/Eo5YT5G7ZaS6ELN7Cpep6s2k9TTZi/Yet5uFUwe4+XWI0jOIhPKSbM37AVwzUYrtrDuIqL2I83OJpiwvwNW62ll7ATU+jHA3TjHpaKu+R4agnzN2zMsF+cSzuwD9dmvBvEeXzBWrxOKWH+ho0Y9uAhlom5t2GWMVewAwO4mVLC/A0b7YfrBL8pUaeZTdMMD4ta6udUEuZvWMuwS9TViJr3WM34XixQGM6hahkex+aqff0fY1b6NT/P4l1KCfM3rGW4RGyaT/zNcLvYKw9gFR6Ls2tSCfM3bLQf/hBzbUDcI3ZjjziDTn9gVPyjeptawvwNa8+l3biFPlHb/u73/xajomZ6oXqXXML8DRvdLTrEutkn7oITOIVn+KYZu/+WMH/DoqKioqKiIn4CFHhRv0uxxioAAAAASUVORK5CYII='></img>"
             },
             "type": "node"
            },
            "True: 8, pred: 3"
           ],
           "instanceArgs": {
            "namespace": "html",
            "tag": "div"
           },
           "nodeType": "DOM",
           "props": {
            "style": {
             "display": "flex",
             "flex-direction": "column"
            }
           },
           "type": "node"
          },
          {
           "children": [
            {
             "children": [],
             "instanceArgs": {
              "namespace": "html",
              "tag": "div"
             },
             "nodeType": "DOM",
             "props": {
              "setInnerHtml": "<img src='data:image/png;base64,iVBORw0KGgoAAAANSUhEUgAAAHAAAABwCAAAAADji6uXAAAABGdBTUEAALGPC/xhBQAAACBjSFJNAAB6JgAAgIQAAPoAAACA6AAAdTAAAOpgAAA6mAAAF3CculE8AAAAAmJLR0QA/4ePzL8AAAHiSURBVGje7dm5ixRBGMbhZ3XWYzVTwWNAxEzFzCMQTURMDFRQMRAxEPwPBNfIAzZSUERQMTExMPACjURQzI0EDdRgE0ETL/AMqhZWmemd3RGp+agfDN1TXcU777xU19fVVCqVSqVSqVQqlUr/DPXSaSmOYCWO5rbPOI1beIWfPQrO+t8O4ws2ZrgMF7ERyxv6ncTZUh3GFxzq1ngA57AE3/ASd3Al95kvZbcfP7ALD0t0GF+w1alxB27gNc7gQpfBl6QMZ2OkVIfxBTtmOBdXcRwfugxcg635/CvGS3UYX7CnmmZy5xHswxgW5fY9uF2qw/iCrak6rMMw9kp16cFJ1z7hFO6X7DC+YOM83IYHmNPh2heM4nzpDuMLNs7Dd/mz4K8BC6W6dAyrcAIfS3UYX3Ba6yEsxk4cw+bc9gS78b5Eh/EFp53hBMM4jMv5+01/rpXFOIwvOOMMSffVDXiUf/l6vCjNYXzBKevSJr7jGd5iNdpqhoM2Dyc4hOt4jO2a97/j/6WDmWEbb/L5PGl/tRiH8QX7updOsCIfx/GrNIfxBf9JhqP5eFdaI4tyGF+w7ww3Se854GmJDuML9pXhWun5sIV70vvF4hzGF5xxTXNNqkHb0t73Fjwv0WF8wcrg8xvr4T1nBj1kIAAAAABJRU5ErkJggg=='></img>"
             },
             "type": "node"
            },
            "True: 3, pred: 9"
           ],
           "instanceArgs": {
            "namespace": "html",
            "tag": "div"
           },
           "nodeType": "DOM",
           "props": {
            "style": {
             "display": "flex",
             "flex-direction": "column"
            }
           },
           "type": "node"
          },
          {
           "children": [
            {
             "children": [],
             "instanceArgs": {
              "namespace": "html",
              "tag": "div"
             },
             "nodeType": "DOM",
             "props": {
              "setInnerHtml": "<img src='data:image/png;base64,iVBORw0KGgoAAAANSUhEUgAAAHAAAABwCAAAAADji6uXAAAABGdBTUEAALGPC/xhBQAAACBjSFJNAAB6JgAAgIQAAPoAAACA6AAAdTAAAOpgAAA6mAAAF3CculE8AAAAAmJLR0QA/4ePzL8AAAFUSURBVGje7dktSwRRGMXxny8YtZlEi8VgMWrUYlMEu5gWrAa/gsHkSxB8+QRaRItJDCajoF1EQRCDYFDDjrBq2J1ZcHYuz4GBexke/hwOz5175xIKhUKhdtVVpGgPSzjGfM7a7v92mD6wt0jRR/Z8VsFhAAMYwAAGMIABDGAAqwDMvS8dwXCVHKYPzJ3hDKaxjqsqOEwfWOh8CPu4rYLD9IG5MlzELpYVy68Uh+kDc2W4pdi/mVIdBjCAnQ9suQ+H0POrcLRhvoML1LL5Cx7U97DP6MNqGQ7TB7ac4SYGsvEU+rHR8P4JdzjK5pc4xBrOMIiJMhymD2zp7mkW2/6eC6/Vv5HwiJNOdJg+sKU+HPczv1cs4Ab3ne4wfWDTDOcwlo1P8a7ee+dVcZg+sOla+n3Xe4AVvFXNYfrApn1Yw6T6nrLd/EpxmD4wFAqFQqFQKAV9AXVzKhL/dVZXAAAAAElFTkSuQmCC'></img>"
             },
             "type": "node"
            },
            "True: 2, pred: 6"
           ],
           "instanceArgs": {
            "namespace": "html",
            "tag": "div"
           },
           "nodeType": "DOM",
           "props": {
            "style": {
             "display": "flex",
             "flex-direction": "column"
            }
           },
           "type": "node"
          },
          {
           "children": [
            {
             "children": [],
             "instanceArgs": {
              "namespace": "html",
              "tag": "div"
             },
             "nodeType": "DOM",
             "props": {
              "setInnerHtml": "<img src='data:image/png;base64,iVBORw0KGgoAAAANSUhEUgAAAHAAAABwCAAAAADji6uXAAAABGdBTUEAALGPC/xhBQAAACBjSFJNAAB6JgAAgIQAAPoAAACA6AAAdTAAAOpgAAA6mAAAF3CculE8AAAAAmJLR0QA/4ePzL8AAAHSSURBVGje7dnPi05RHMfx10iTQkmUjbJVkyxmZWHE7JQFJcVGfiz4B+wUf4Al5cd6rOzsNMqCwt7GBlmY4jGUpIbFOU/upNx7H+U599v5bO7tPOfcz/k8785zvuc+VFVVVVVVVVUNXzOTDlzCSVzF9R7jNvzvhPENN/bpvBvncAeb8BOX8BAvS00Y37Azw/1YxlbM40Nu34mjKsMpGnZmeF7iB09wZigJ4xt2ZjiXr59w03qGc10fMo2E8Q07MbyMg9L+t4JVqRgaF0TvS04Y37ATw2MSv7c4ntseYG9uny85YXzDVoaLOJTvl/Eq348afUZSzfNNWqcfS0oY37D1fHgfJ3LHw3iKA7iLPdI6bOoLruFGKQnjG/6V4Xa8lurRGTzCDuxrDG4yXMr9b+NdKQnjG7auw1u44E9e49muYZf0G1pkwviGrfvhFYnTImbxTDrXL+T2x9bvjcUljG/YynAkvU/bkme3KtU4C/nzFfwoOWF8w85n/K/5OovTQ0oY37DXO2/YhrNDShjfsDdDfhdCk8w2/lc6DIbj+nRtCAnjG07EsKkXpSeMb9ib4WfcwylsxvPSE8Y37M3wOy7iDY7o95/FVBLGN6yqqqqq+nf9AgJcQtX4ClbGAAAAAElFTkSuQmCC'></img>"
             },
             "type": "node"
            },
            "True: 4, pred: 9"
           ],
           "instanceArgs": {
            "namespace": "html",
            "tag": "div"
           },
           "nodeType": "DOM",
           "props": {
            "style": {
             "display": "flex",
             "flex-direction": "column"
            }
           },
           "type": "node"
          },
          {
           "children": [
            {
             "children": [],
             "instanceArgs": {
              "namespace": "html",
              "tag": "div"
             },
             "nodeType": "DOM",
             "props": {
              "setInnerHtml": "<img src='data:image/png;base64,iVBORw0KGgoAAAANSUhEUgAAAHAAAABwCAAAAADji6uXAAAABGdBTUEAALGPC/xhBQAAACBjSFJNAAB6JgAAgIQAAPoAAACA6AAAdTAAAOpgAAA6mAAAF3CculE8AAAAAmJLR0QA/4ePzL8AAAG/SURBVGje7djPiw9xHMfxB0uyreLix+aAg4skSvkD7N63FKGUIlHiyEmScpLDcpPsYXPZIo6c5OZm24SL8iuKUohaDp/ZjO078/2uHzvj0/tZU5/5zHvm1WtevZvPfAiCIAiCIAiCIPhzFnQr2IWTuIntGMQxPMPH3xBcON8O8xdc1K1gFXYUxwwPcQhX/weH+Qt27cMVuIsts+ZfYQO+tt1h/oK1fdiP01jZ4doa7Df3Xsz/lbanD1fjGoZqbv6Ctzgo9eP9NjrMX7Ayw324Xozf4VSHmit+NvIn3MBZPG+Tw/wFKzO8iOPS+nMEkx1qluCEtHbdVsx9wzSeSHneKuYac5i/YGWG36UsRqUs61iHrcX4PDaWrt3GJdxrymH+gpUZTks59pJhmUGcwW4MlOb7mnKYv2Blhuekb+AL7MGDOTx0GR5hbWkuMvxnVP5bTEjZrZf2aC7gDcYq6gdwpBgP+zW/O006zF+w9h9/M8al791SfMbjitrF2FQ6fyqtZQ5jCu+bcpi/YNd9GjiAvdjZQ+0oXuMyPrTBYf6CPWUIy4tjNkelvGZ4qX7/Lf9XOu+CQRAEQRAEQRAEf4MfIcVA6D0Y9fcAAAAASUVORK5CYII='></img>"
             },
             "type": "node"
            },
            "True: 0, pred: 6"
           ],
           "instanceArgs": {
            "namespace": "html",
            "tag": "div"
           },
           "nodeType": "DOM",
           "props": {
            "style": {
             "display": "flex",
             "flex-direction": "column"
            }
           },
           "type": "node"
          }
         ],
         "instanceArgs": {
          "namespace": "html",
          "tag": "div"
         },
         "nodeType": "DOM",
         "props": {
          "style": {
           "display": "flex",
           "flex-direction": "row"
          }
         },
         "type": "node"
        },
        {
         "children": [
          {
           "children": [
            {
             "children": [],
             "instanceArgs": {
              "namespace": "html",
              "tag": "div"
             },
             "nodeType": "DOM",
             "props": {
              "setInnerHtml": "<img src='data:image/png;base64,iVBORw0KGgoAAAANSUhEUgAAAHAAAABwCAAAAADji6uXAAAABGdBTUEAALGPC/xhBQAAACBjSFJNAAB6JgAAgIQAAPoAAACA6AAAdTAAAOpgAAA6mAAAF3CculE8AAAAAmJLR0QA/4ePzL8AAAGsSURBVGje7dg9i1NBFMbxn2JhI5pKxMoUFi4KvmBYhW22sd/azs4vIPgpFCwsBEEQEUEUi4Vt1WyTRWTdQjCdWElKC4VYzEiixd0kF8zsYZ5qmNzJP899OCf3XKqqqqqqqqqqqqqWr0OLHDqON3n9GI/mOHv4fzuMD5wrw2NYxwd8yYd/4iL2SnUYH3hk1gtX8BqncRXbWM1fcEHNcInAmTLs4CnOSDX4Ea+kDGEDz0p1GB+4by89iwdSD91FDz/QlfrpGH1cL9VhfGBjHfZwH1ekrF7iV/5smPfGOC9l/blEh/GBjXX4XOqT0xe/zftPMJIyhBvYKtFhfGBjHV6aWg/xHidwD3cOisP4wMYM16T/wT0MpvYvYzOv5x0w49/Ssnppkzr4rvbSAoAzz4f/aoRPOFe6w/jAhTOEHZMMu6U6jA9slWEfN/P6Gh6W6DA+sFWG76R5/6hUk0U6jA9sleEpKT/Se7giHcYHtspwID3bdPw9SxblMD5w4dnij77h5By/Pv4tPVh1yOSdabEO4wNbZ/gCt0t2GB/YOsO7+IpbpTqMD6yqqlq+fgPhfDqnayzqiAAAAABJRU5ErkJggg=='></img>"
             },
             "type": "node"
            },
            "True: 4, pred: 9"
           ],
           "instanceArgs": {
            "namespace": "html",
            "tag": "div"
           },
           "nodeType": "DOM",
           "props": {
            "style": {
             "display": "flex",
             "flex-direction": "column"
            }
           },
           "type": "node"
          },
          {
           "children": [
            {
             "children": [],
             "instanceArgs": {
              "namespace": "html",
              "tag": "div"
             },
             "nodeType": "DOM",
             "props": {
              "setInnerHtml": "<img src='data:image/png;base64,iVBORw0KGgoAAAANSUhEUgAAAHAAAABwCAAAAADji6uXAAAABGdBTUEAALGPC/xhBQAAACBjSFJNAAB6JgAAgIQAAPoAAACA6AAAdTAAAOpgAAA6mAAAF3CculE8AAAAAmJLR0QA/4ePzL8AAAHESURBVGje7dg9a1RBFMbxX2KI0WAnYkhjZaGFBDSfQAQLhVSxiS+lpZ8gjagfwCKNkCogQgiCYGEhgiJImqCFkEiCJIGgCCGFim/FnRBY2LsLu7izh3mqc+8M85+Hw5k791BUVFRUVFRUVFTUew10usA4juMWhnEeFzCf3jVq8H87jA8camfSNA5jEXtpl5M4jXsYa5i/hZ+5OIwPrK3Dq6o6e5iev+NviodxKMWb2MEClvEWP3JxGB/YNIeX8KyNHV3GO3zL1WF8YNOz9GTazQ08r1ngq4PazNJhfGDL7+EDPMVuvzqMD2yaw/07yZjq29e3DuMDa+80eziCCaz0q8P4wNqz9DFuYgrv8adhp0M4k8Z+5eowPrC2Dq9gKcUv8DnFT3A7jcMnXMRGjg7jA2tzOII5zLSx0Cau4U1uDuMDW/baBnEM11V3m0mcxUt8xAfcV/XY1lT/les5OYwP7LhfCiewilHcxWxODuMD2+qXttIOfufqsAALMH9gV+pwxMGhvJybw/jAruRwSnXv+YLXuTmMD+xKDvcXeaXqgWflMD6w4xwexZ0UP8rRYXxgxzk8hXPY1voc7YnD+MCioqLe6x+LoTqsSKDwFAAAAABJRU5ErkJggg=='></img>"
             },
             "type": "node"
            },
            "True: 5, pred: 9"
           ],
           "instanceArgs": {
            "namespace": "html",
            "tag": "div"
           },
           "nodeType": "DOM",
           "props": {
            "style": {
             "display": "flex",
             "flex-direction": "column"
            }
           },
           "type": "node"
          },
          {
           "children": [
            {
             "children": [],
             "instanceArgs": {
              "namespace": "html",
              "tag": "div"
             },
             "nodeType": "DOM",
             "props": {
              "setInnerHtml": "<img src='data:image/png;base64,iVBORw0KGgoAAAANSUhEUgAAAHAAAABwCAAAAADji6uXAAAABGdBTUEAALGPC/xhBQAAACBjSFJNAAB6JgAAgIQAAPoAAACA6AAAdTAAAOpgAAA6mAAAF3CculE8AAAAAmJLR0QA/4ePzL8AAAILSURBVGje7dk9aFRBFAXgb6M2ahEwNhYa0CYWpkgjiAoWsfAH1E4UUTAINvYiKMHCyh8sgmXAykKwUgvB9BYKYm1jo0W0sFESi/uWfVl4+ydkh2FONXfezDt79jBz78yjoKCgoKCgoPW/L3iB87X4BN73GD+x2QrzJxzZw2m8wQGs1/p/4SJep6Iwf8Kto07cg/21+Bs+4CxuKh5uIkbysIXbXX3L2JmiwvwJh/ZwVuyhU1X8EfM4glspKsyfcCgPD+ItdtX65vEDCziaosL8CYfycEGsv3oNs1zFc1W8iqcpKcyfcOSapo2TNnp6DispKcyfcCAPp3FG5MIJrHX94jW8wkO9/RuLwvwJB/LwAh5U7TUb1107XtLfv7EozJ+w1e/hNbG+tuN71TfVNWZdnAcviXyYlML8Cft6+KdqL+FZ1VevP4/p3LWtiLu2pBTmT9jXw7/4ilP40jDuDq5iH7akpjB/wsZ8uAOPxD75WbN/sIjD2JuiwvwJGz28J9YWkQebMCn20zmDIf+/NB0PZ2rt+z1ecFnUPMkqzJ+w0cOWTrJ8jNNdzyeFf0/E+WJVnO+TU5g/YWNNcwgvRZ3yG3fF2jwucuQ2kf/aZ4sreJ6iwvwJe9alM3iH3V0T6mf8n+K7/YK4+05OYf6Efb/jz+I6btQmLOr49clg9zNjU5g/YUFBQUFBQQH/AK+pSuOV3EwlAAAAAElFTkSuQmCC'></img>"
             },
             "type": "node"
            },
            "True: 8, pred: 3"
           ],
           "instanceArgs": {
            "namespace": "html",
            "tag": "div"
           },
           "nodeType": "DOM",
           "props": {
            "style": {
             "display": "flex",
             "flex-direction": "column"
            }
           },
           "type": "node"
          },
          {
           "children": [
            {
             "children": [],
             "instanceArgs": {
              "namespace": "html",
              "tag": "div"
             },
             "nodeType": "DOM",
             "props": {
              "setInnerHtml": "<img src='data:image/png;base64,iVBORw0KGgoAAAANSUhEUgAAAHAAAABwCAAAAADji6uXAAAABGdBTUEAALGPC/xhBQAAACBjSFJNAAB6JgAAgIQAAPoAAACA6AAAdTAAAOpgAAA6mAAAF3CculE8AAAAAmJLR0QA/4ePzL8AAAIHSURBVGje7dhPiE5RGMfxz6u3BpNJETakWYgaJiOxsrDAZmz8LSmysLGwYSMLShLJzmKysPGnmLJQlD87WVgoJqaUpZmihI1QFs9dSO/M685o3jOn89uc7u3e++3Xr+fc5zwUFRUVFRUVFc1+Ndo9sAJbsQV92IgxLMBKfKwJnDPTDvMHTprhPpzHEoziLm7iGw7hFR6k7jB/YMsMu3EVBzCCE3g4Wx3mD2y2utnAhmq94f/l1xGH+QMn3EuP4Aq68BjDuI0v//DRLvzErxQc5g+c9H/YJ/bRg9X1W5zBZxPXZlPkfRifUnCYP7BtX9rAXJHjOmxDL77jOs6KPhWW4jmO4X4qDvMHts3wb/WgH4PYgcW4hjs4ha9iH07GYf7A2hn+qWU4iePV9SjWpOYwf2BzOi+P4XXqDvMHTqsOV4veZlzssQuxHh9Scpg/cMp1OB+P8B47xUxgr5i/lQxnVFPKcB6eivwGxZmxB+/wIjWH+QOnlOGQ6E03i7PigOhRR/AjNYf5A2tnuAl7RI4vq3u7qvVCig7zB9bqabrxDIvEPHUcq8S++gbbtZ6vddRh/sBaddiPtWJuOl69fElkeln7/DriMH9grTq8J3qYATGPeYLlOI1zqTrMH1irDnurdT92i/yGcDFlh/kDa9XhUXEOJGpyGLe070U76jB/YFFRUVHR9PUbRRdNtFEXXBgAAAAASUVORK5CYII='></img>"
             },
             "type": "node"
            },
            "True: 8, pred: 3"
           ],
           "instanceArgs": {
            "namespace": "html",
            "tag": "div"
           },
           "nodeType": "DOM",
           "props": {
            "style": {
             "display": "flex",
             "flex-direction": "column"
            }
           },
           "type": "node"
          },
          {
           "children": [
            {
             "children": [],
             "instanceArgs": {
              "namespace": "html",
              "tag": "div"
             },
             "nodeType": "DOM",
             "props": {
              "setInnerHtml": "<img src='data:image/png;base64,iVBORw0KGgoAAAANSUhEUgAAAHAAAABwCAAAAADji6uXAAAABGdBTUEAALGPC/xhBQAAACBjSFJNAAB6JgAAgIQAAPoAAACA6AAAdTAAAOpgAAA6mAAAF3CculE8AAAAAmJLR0QA/4ePzL8AAAGtSURBVGje7di/SxdxHMfxxzcMiYZIMBrEtpbSyaFB6A+IpojQQaS1vSWCCHQTUZpqiILa2voxRNBSNOjg4CjS0Bb0YwhFzIa7L6XQ3TdPuo9vPk/4wufuPtyTFy/u8737kMlkMplMJpPJtE+n6uJ5vMZpfMJQeX4IY+V4Bev/IDzyvxPGF/ZVXZzGKfwsf13G8aQcf8AlfE01YXxhX9MbXMAxucMWhY07hOuYSTVhfOG+OnyOF4o1FC7LHbYorOzwjeI/8eSe82cwfFgSxhdWdvgKXxQdDuIOHuAiRg5LwvjCTt2ERdyomfMRV7GcYsL4wtoOzym6OVoz7zZmU0wYX1j7TrOKCdzHQMW8EZzAt9QSxhfWPoddruFpOX6Pe3hk9/M5qug8qYTxhT132EF/Od7GFt4pvvG75A5bEfb8fbiDjT3n7uJl6gnjCxvt07zFY0ylnDC+sFGHm/jxx/EkbqWWML7wQPZLu0xgHp9TShhf2PM7zd+4goc4Xh7P4WZKCeMLGz+Hz7Dgd4fJJYwvPNC19DuWUksYX9h4LaXYT13EGs6mljC+MJPJtM8v0wIz+4wCKC8AAAAASUVORK5CYII='></img>"
             },
             "type": "node"
            },
            "True: 4, pred: 9"
           ],
           "instanceArgs": {
            "namespace": "html",
            "tag": "div"
           },
           "nodeType": "DOM",
           "props": {
            "style": {
             "display": "flex",
             "flex-direction": "column"
            }
           },
           "type": "node"
          },
          {
           "children": [
            {
             "children": [],
             "instanceArgs": {
              "namespace": "html",
              "tag": "div"
             },
             "nodeType": "DOM",
             "props": {
              "setInnerHtml": "<img src='data:image/png;base64,iVBORw0KGgoAAAANSUhEUgAAAHAAAABwCAAAAADji6uXAAAABGdBTUEAALGPC/xhBQAAACBjSFJNAAB6JgAAgIQAAPoAAACA6AAAdTAAAOpgAAA6mAAAF3CculE8AAAAAmJLR0QA/4ePzL8AAAIxSURBVGje7dlNiE5RGAfwHzObqTHGAlPGhhQLUljIR0oishBhaWVlKJGQEpOlLH2FHUbysZFi5yMUZWF8RCkfCwuTzzAZi3OmeV+ad9551cyZ0/3X7dzn3p7zv//77zm3+xwKFChQoECBAgUKFBh+jKolaTI2lcTr8AoPY3wTd/rJHT3UCvMnrMrDRViNbSVJ9XHside+4DTa8BvXsSoFhfkT/uPhXCzEbnRiCiaiLj5dB97jHV7gRszrwTe04G0FNfm/0iEnrC8NOoTaaYjx+DieRReO4il+9TNZA07E8/upKMyfsMzDqfr8g3Nox3N0VzHZYqwUPF6WisL8Ccs8XIrmkviN6ryD5bgQzx/hcyoK8ycs87ArHoNFI3bFsRuHUlKYP2H9/04wBiexBD+xBVdTUpg/YU3/h72Yg51Yjx+4go2pKcyfsGYPm3AN82N8APtTVJg/YU1r6UycEurwO/bifKoK8yccdB024Rg2xPgZZpTcr8MEoQ+QhML8CQdVh9OENbPXv3tCDRJ6qK3Yg4s4k4rC/AmrrsN5Qg+0WVg/24UewCRsxWxcwl1cTklh/oRV1WErdgj+3cZBPI7XtuMDjmNfigrzJxywDltwS+h9wxrMwmahF/4Ea/EyVYX5E1b0cIHw/9D4V0IPPuGw8H1MWmH+hBXX0unK/YOvwt7EEbweCQrzJ6zo4QN8xDhhX7cTK/TtD44IhfkTDvg9bMNYYf+pYyQqzJ+wQIECw48/+cFX/IxA6noAAAAASUVORK5CYII='></img>"
             },
             "type": "node"
            },
            "True: 2, pred: 7"
           ],
           "instanceArgs": {
            "namespace": "html",
            "tag": "div"
           },
           "nodeType": "DOM",
           "props": {
            "style": {
             "display": "flex",
             "flex-direction": "column"
            }
           },
           "type": "node"
          },
          {
           "children": [
            {
             "children": [],
             "instanceArgs": {
              "namespace": "html",
              "tag": "div"
             },
             "nodeType": "DOM",
             "props": {
              "setInnerHtml": "<img src='data:image/png;base64,iVBORw0KGgoAAAANSUhEUgAAAHAAAABwCAAAAADji6uXAAAABGdBTUEAALGPC/xhBQAAACBjSFJNAAB6JgAAgIQAAPoAAACA6AAAdTAAAOpgAAA6mAAAF3CculE8AAAAAmJLR0QA/4ePzL8AAAIxSURBVGje7dlLiEhRGAfw32gmo0YyeU1qNh7ZWLA0MyujlLKwUsOCYutRXrGwEk1SFKVsMEpC5LVQyiysLEgps5FSKBZSRIzFd6cmM+bOo8xxOv+63XPv/c759+/fPef7zqGgoKCgoKCg4P9Hw2Q6dVT3bhzAQ9zEI7yu6TvjXyvMn7DWwybMwTfsxWaswOAoA53AodQU5k/YWBdwDtvwBu2jfO9HV8oK8ycc08NT2C7+uXYMiLlzoHq3E6ur2Gd4kKLC/AnH9PD9sHY/evC2ej6KLWjFK6z/Iz4ZhfkT1q6Hg9V1Fs1YLubOQbzENeFnsgrzJ6z1sAs3xP82hF5cFx5+SV1h/oS1OU0/nmLdsHdzMc/E/ZsWhfkTjqs+nIWN2IROtOGnyGOO4y6+pqowf8IJ1/gLsQYXRN1IzKsXcSdFhfkTTmqfZgjdon5cUg10GMdSU5g/4ZQ8hPnYiiNoET6exK9UFOZPOGUPh9CBx1V7AT6mojB/whEeNoo6cKI5ZxNeYCn24HQqCvMnHFFb9GCfWNeuTGCgHyJXhZkpKcyfcISHt7Afl8UZRa+oEeuwTNQcDfiQksL8CUddD1twFWvxScyN9/H5L4M043YV/x2Lq35JKMyfcMycphOXxJnFO+zAvWHf28T+zS6sEnuoZ7A7JYX5E9bmpS3Cy/NYhD4xV64Utf7sKu45Doqz/O8pKcyfcNy1Ras4vye82lC1+8Se+BPl7GmaCAsKCgoKpo7f0+RXWkyT8hEAAAAASUVORK5CYII='></img>"
             },
             "type": "node"
            },
            "True: 3, pred: 5"
           ],
           "instanceArgs": {
            "namespace": "html",
            "tag": "div"
           },
           "nodeType": "DOM",
           "props": {
            "style": {
             "display": "flex",
             "flex-direction": "column"
            }
           },
           "type": "node"
          },
          {
           "children": [
            {
             "children": [],
             "instanceArgs": {
              "namespace": "html",
              "tag": "div"
             },
             "nodeType": "DOM",
             "props": {
              "setInnerHtml": "<img src='data:image/png;base64,iVBORw0KGgoAAAANSUhEUgAAAHAAAABwCAAAAADji6uXAAAABGdBTUEAALGPC/xhBQAAACBjSFJNAAB6JgAAgIQAAPoAAACA6AAAdTAAAOpgAAA6mAAAF3CculE8AAAAAmJLR0QA/4ePzL8AAAIBSURBVGje7dlPiI5BAMfxDzab2Cism3JAiTiII3vgKEeSUg7sTSiFi8Me/C1chIuTFOLgb/bkYlMuEkXSbim3daC9sA7zbB6P1z7P+yrmneZ7eZ5n5pn59evXzPPMDJlMJpPJZDLdz4xOGu3BWhzAJIZxGo8btJ35rx2mL9hWhpexHQswq1I3gWc4gwcxOUxfsDbDubiIjVhZaTCBJ1he1MErbMGnWBymLzhthqtwSJg7y7zEBSGvESzFNSHnXmzDvVgcpi/Y86eK9biPhaWy9xjCHYyXykcxgHdYVmnz3x2mL9hyHM4Wvn27i+dxHMVVfJums1PCuH2N1bE4TF+w5Tjc5Wd+13EOLxp0NhKjw/QFe+peuK1ZftE6TF+wZYY3sAb9GOt2h+kLtszwKw520NmKGB2mL1g7l7bD3uL6MSaH6Qt2lOESDApr+zL9xfV8TA7TF2wrw14cwz4s6haH6Qs2znAAj/y+T1plVFjrR+MwfcFGe95bcVdY+8NNnMRbbCrqptiMpzE5TF+wdhzOE/5Rp/IbwxF8wBzsL737EM9jc5i+YG2G8/26b7YDn7ETh7GuKD+LK8JZRlQO0xdsNJeewPHifhh92FA8T+KNcGbxJUaH6Qs2yrBP+PYtrpR/F/bBB2N2mL5gW+f4t4RzfMI6fgiXYneYvmAmk8lk/p4fUFlH3qnLN6kAAAAASUVORK5CYII='></img>"
             },
             "type": "node"
            },
            "True: 2, pred: 0"
           ],
           "instanceArgs": {
            "namespace": "html",
            "tag": "div"
           },
           "nodeType": "DOM",
           "props": {
            "style": {
             "display": "flex",
             "flex-direction": "column"
            }
           },
           "type": "node"
          }
         ],
         "instanceArgs": {
          "namespace": "html",
          "tag": "div"
         },
         "nodeType": "DOM",
         "props": {
          "style": {
           "display": "flex",
           "flex-direction": "row"
          }
         },
         "type": "node"
        }
       ],
       "instanceArgs": {
        "namespace": "html",
        "tag": "div"
       },
       "nodeType": "DOM",
       "props": {
        "style": {
         "display": "flex",
         "flex-direction": "column"
        }
       },
       "type": "node"
      },
      "text/html": [
       "<div\n",
       "    class=\"webio-mountpoint\"\n",
       "    data-webio-mountpoint=\"4616019585510055052\"\n",
       ">\n",
       "    <script>\n",
       "    if (window.require && require.defined && require.defined(\"nbextensions/webio/main\")) {\n",
       "        console.log(\"Jupyter WebIO extension detected, not mounting.\");\n",
       "    } else if (window.WebIO) {\n",
       "        WebIO.mount(\n",
       "            document.querySelector('[data-webio-mountpoint=\"4616019585510055052\"]'),\n",
       "            {\"props\":{\"style\":{\"display\":\"flex\",\"flex-direction\":\"column\"}},\"nodeType\":\"DOM\",\"type\":\"node\",\"instanceArgs\":{\"namespace\":\"html\",\"tag\":\"div\"},\"children\":[{\"props\":{\"style\":{\"display\":\"flex\",\"flex-direction\":\"row\"}},\"nodeType\":\"DOM\",\"type\":\"node\",\"instanceArgs\":{\"namespace\":\"html\",\"tag\":\"div\"},\"children\":[{\"props\":{\"style\":{\"display\":\"flex\",\"flex-direction\":\"column\"}},\"nodeType\":\"DOM\",\"type\":\"node\",\"instanceArgs\":{\"namespace\":\"html\",\"tag\":\"div\"},\"children\":[{\"props\":{\"setInnerHtml\":\"<img src='data:image\\/png;base64,iVBORw0KGgoAAAANSUhEUgAAAHAAAABwCAAAAADji6uXAAAABGdBTUEAALGPC\\/xhBQAAACBjSFJNAAB6JgAAgIQAAPoAAACA6AAAdTAAAOpgAAA6mAAAF3CculE8AAAAAmJLR0QA\\/4ePzL8AAAFISURBVGje7dmvSwRBGMbxjz8Qi8VrGjSZ\\/Q\\/UJGbBP8FiMZmsdtHgXyFWTcYrgs1iEBG0HFi0nZzhRjwEYZcBnRvep8zOy858efbhhd1ZQqFQKBQKhcZfE7kb3OMAFw3vn\\/xrh\\/UDp3M3GGBNZPiPwFYZdrCLE7yPi8P6ga0ynMcRbnE5Lg4DGMDyga36cCONiyO1lx\\/z4hzWD2yV4UoaeyO1a+yV7LB+YOMMZ7GND7yOk8P6gY0zPMQS+tjCaqrv4Kpkh\\/UDG3\\/j9wzfS0cXDtL1CfZLdVg\\/sHEffoXdxTGe0\\/xcu8Oe+h9puRne4NTwu7CfasuY8d2PRTqsH9g4w81fFk+V7rB+YNZ5aQdzpTsMYADLB2b14UIauyU7rB+YleF6Gh9KdhjAAJYPzP4H\\/IS7kh3WD8zK8BFneCvZYf3AUCgUCuXrE2dRIn9uBsfWAAAAAElFTkSuQmCC'><\\/img>\"},\"nodeType\":\"DOM\",\"type\":\"node\",\"instanceArgs\":{\"namespace\":\"html\",\"tag\":\"div\"},\"children\":[]},\"True: 4, pred: 9\"]},{\"props\":{\"style\":{\"display\":\"flex\",\"flex-direction\":\"column\"}},\"nodeType\":\"DOM\",\"type\":\"node\",\"instanceArgs\":{\"namespace\":\"html\",\"tag\":\"div\"},\"children\":[{\"props\":{\"setInnerHtml\":\"<img src='data:image\\/png;base64,iVBORw0KGgoAAAANSUhEUgAAAHAAAABwCAAAAADji6uXAAAABGdBTUEAALGPC\\/xhBQAAACBjSFJNAAB6JgAAgIQAAPoAAACA6AAAdTAAAOpgAAA6mAAAF3CculE8AAAAAmJLR0QA\\/4ePzL8AAAHESURBVGje7dm\\/a1RBFMXxjxq1cP8BhaiFNjGFjY1lIGWKgKKFCHbBKqDBgJ0IYqGBFFapEyGoIFhoFWwEUbARLLUykCagEVH8UcwrNkbYNyu4s5c5zQy8N5z9crj3zcxSVVVVVVVVtetfFs\\/gHs7gYcs1u\\/83YXzDkX4XXsYifuFTyYTxDfuqw9NYw3dcxIOSCeMbZtfhGFaa+by8\\/AZCGN8wqw6P4jkO4orUS4snjG\\/Yug5HcAeHsGB7fnvwU\\/o2FkcY37B1hrOYxn3M\\/fGLV\\/AMSyUSxjds1UuPSD10E+fwruvZYbzHW5zC19II4xu2qsNrGMVd2\\/Pbi5vNfF3v\\/AZCGN+wZ4bHcAlP7NzDjOJCM39cKmF8w54ZTmG\\/vzfds13z1VIJ4xv2\\/B6O4Y0U9iPcwiscx2t0pL3MjLQ3LY4wvmGrPc113Ghe3sRL6a6mgx9ST10vlTC+Yesz\\/nnclvLq1homSiaMb5h1T7NPOs+fkGpxC+P4UDJhfMOs+9Jvzdhpxo\\/y8hsIYXzDvv57utqMT4eBML5hdoYnMTlMhPENszM8IN3PfMbyMBDGN8zOcANfpLPhi2EgjG9YVVVVVVVVxW9aRjx8x3\\/aoAAAAABJRU5ErkJggg=='><\\/img>\"},\"nodeType\":\"DOM\",\"type\":\"node\",\"instanceArgs\":{\"namespace\":\"html\",\"tag\":\"div\"},\"children\":[]},\"True: 4, pred: 9\"]},{\"props\":{\"style\":{\"display\":\"flex\",\"flex-direction\":\"column\"}},\"nodeType\":\"DOM\",\"type\":\"node\",\"instanceArgs\":{\"namespace\":\"html\",\"tag\":\"div\"},\"children\":[{\"props\":{\"setInnerHtml\":\"<img src='data:image\\/png;base64,iVBORw0KGgoAAAANSUhEUgAAAHAAAABwCAAAAADji6uXAAAABGdBTUEAALGPC\\/xhBQAAACBjSFJNAAB6JgAAgIQAAPoAAACA6AAAdTAAAOpgAAA6mAAAF3CculE8AAAAAmJLR0QA\\/4ePzL8AAAGaSURBVGje7dkxaxRBHIbxn3JJSNJYCIJypJAIEUxlIdgFIV2KNNdo6QcQIYlYBGzUfAWx9zOkEFMZsBBsQgpFIU2aw0CI2kiKueIK986VxZv9M29z3MwsD8+97O7NLiUlJSUlJSUlJSWTz4VxCx6jh9uDxZ\\/wCG\\/\\/EXjxfxvGB3aqJqbwCqt4jXXcwQs8UDrMCFh5Hs7hFEs4HBrfks7DK20xjA+s7HAGX3AL\\/aHxLr5hBe\\/aYBgfWHkt\\/YV7OKuYX2iLYXxgZ9TkwR\\/GZtpmGB\\/YqXtAb\\/D5tS2G8YG1O7yM99hri2F8YK0Ob+A+nrfJMD5w7B5\\/OLvS\\/5yP+I4T7GA\\/Z8P4wFodnuEYnwcHzkr7\\/iPclPaT2RnGB9bq8JrU08ng+xSuYgN38RAfcjOMD6zV4ag8lbpclp4BZGMYH9hYh6T75C42czKMD2y0wyfYxiX8zMUwPrDRDhel5+Pz+JGLYXxg7T3+qPT\\/Yk38n7TdHa7laBgf2FiH09I7\\/5fSO49sDOMDG+mwi2e4jjf4nZNhfGBJScnkcw4CdzEHbgJ9zgAAAABJRU5ErkJggg=='><\\/img>\"},\"nodeType\":\"DOM\",\"type\":\"node\",\"instanceArgs\":{\"namespace\":\"html\",\"tag\":\"div\"},\"children\":[]},\"True: 3, pred: 5\"]},{\"props\":{\"style\":{\"display\":\"flex\",\"flex-direction\":\"column\"}},\"nodeType\":\"DOM\",\"type\":\"node\",\"instanceArgs\":{\"namespace\":\"html\",\"tag\":\"div\"},\"children\":[{\"props\":{\"setInnerHtml\":\"<img src='data:image\\/png;base64,iVBORw0KGgoAAAANSUhEUgAAAHAAAABwCAAAAADji6uXAAAABGdBTUEAALGPC\\/xhBQAAACBjSFJNAAB6JgAAgIQAAPoAAACA6AAAdTAAAOpgAAA6mAAAF3CculE8AAAAAmJLR0QA\\/4ePzL8AAAIESURBVGje7dnNi45RHMbxj\\/FEFiz1GHmZTGaMbCzszEY2bJQUUtjM8C9MISllw0LGRqbYURMbZSOxs\\/faeMliMkkppbxMWZzz1ERzP0dqnDmdq57Oc9+\\/X+fq6tt9d59+VFVVVVVVVVUtfi1JbezFCRzCpnhvAg9wCz8S9+lZ6ITlG3Zl2IPDGMPAPD0vsBvTOSYs37ArwxFcjf+\\/4AZex+t+jGKp8CwewWxuCcs3bGR4EKcwiFfYg7e\\/9RzAJaxBH97nlrB8w1ZTcafAbwZ7\\/ckPbuO0wDDLhOUbtlKabuLNYk1YvmESw5ku9UkMYb\\/wXs0qYfmGSQxHcLGhvjWuW3JMWL5hEsNeDOPRPPWBlE3+V8LyDRsZTmAf2riMK3gZa33CuRE2xLWNZfieU8LyDbueD8dw7i82XIsPOSUs37Arw+XYhZPCmX4KO2LtCa5hG87Ge5VhXu9S+IZ78dcW+PTH2lRcV8zpH1QZLrCSvmk66rCZaugZwsOcEpZv2MhwNR7jLsbxLmHDydwSlm\\/YyPATruM8VuKCNI5ZJSzfsJHhrPDNckw45w8L54tp3JnTtz2uz\\/E1t4TlGybNgNfjPjbH65\\/CHKqjVcL8aVRgnlXC8g2T5\\/jrhPPD0XnqT4Xn9HNuCcs3TGbYaW4Js96NOC7MM57hDD7mmLB8w6qqqqqqf9cvbGBJ9wNT5ZMAAAAASUVORK5CYII='><\\/img>\"},\"nodeType\":\"DOM\",\"type\":\"node\",\"instanceArgs\":{\"namespace\":\"html\",\"tag\":\"div\"},\"children\":[]},\"True: 9, pred: 8\"]},{\"props\":{\"style\":{\"display\":\"flex\",\"flex-direction\":\"column\"}},\"nodeType\":\"DOM\",\"type\":\"node\",\"instanceArgs\":{\"namespace\":\"html\",\"tag\":\"div\"},\"children\":[{\"props\":{\"setInnerHtml\":\"<img src='data:image\\/png;base64,iVBORw0KGgoAAAANSUhEUgAAAHAAAABwCAAAAADji6uXAAAABGdBTUEAALGPC\\/xhBQAAACBjSFJNAAB6JgAAgIQAAPoAAACA6AAAdTAAAOpgAAA6mAAAF3CculE8AAAAAmJLR0QA\\/4ePzL8AAAHVSURBVGje7djNi81RHMfxF5k8LS6GMR53Y2UhzR+APMtalIVI2VFSFv4BSaTGzobFKGWjRknKWgYrK5LkYUHRJCMPi3PKVfdy595pHN\\/OZ\\/U9v98933efPn075\\/6oqqr615rVy+YFGMUzHO9wz+yZdhgf2FOG6\\/AUn7EaH0p0GB84ZzqavMNkqQ7jA6clwzFMlOowPrCnDI9J83ehZIfxgV2fh2vxCD\\/QX7LD+MCu53ArFuF06Q7jA7uawwHcRwMb8LZkh\\/GBXc3hLul\\/xQ0pv\\/m50acSHcYHTjnDhTiY67O5wSiWYzfel+YwPnDKGZ7AFtzDA2zH3vxujZph6Rmux9FcX8FSXMrr13hTosP4wI4y7MNOXMbK\\/OwmdmAor7\\/lZnPxpSSH8YF\\/vZc2pLw2ddjwJY7gTikO4wP\\/OIcNnPMrv4m8\\/oj9GG6x5ys2qhnOoNrOYR9GcLjp2Umcxzy8wmLpO80T3MUtPJQyLsZhfGDbORzye37XcDHX+7BEyu829pTsMD6wbYanmurnOCPdW2CZlN9VHCrdYXxgywz7sTnXkziAF03vV0l3z+v4XrrD+MCW5+EgHkvztk0665q1Iv9m\\/H9wGB9YVVVVVVVVVVVVVYJ+ArloQ6c+E04CAAAAAElFTkSuQmCC'><\\/img>\"},\"nodeType\":\"DOM\",\"type\":\"node\",\"instanceArgs\":{\"namespace\":\"html\",\"tag\":\"div\"},\"children\":[]},\"True: 4, pred: 6\"]},{\"props\":{\"style\":{\"display\":\"flex\",\"flex-direction\":\"column\"}},\"nodeType\":\"DOM\",\"type\":\"node\",\"instanceArgs\":{\"namespace\":\"html\",\"tag\":\"div\"},\"children\":[{\"props\":{\"setInnerHtml\":\"<img src='data:image\\/png;base64,iVBORw0KGgoAAAANSUhEUgAAAHAAAABwCAAAAADji6uXAAAABGdBTUEAALGPC\\/xhBQAAACBjSFJNAAB6JgAAgIQAAPoAAACA6AAAdTAAAOpgAAA6mAAAF3CculE8AAAAAmJLR0QA\\/4ePzL8AAAGsSURBVGje7dkxaxRBHIbxX0RBiRoECyFGgoohVppPIJiksrAIVjYBsRO\\/QBoRtLEMgrWFhVYStBMC2gmGNIGU9iGF2KhHLGbAFCG3uwFv9s+8cOwwt8PDy8MM7C41NTU1NTU1Nf3P2FEWr2MPt1qsOfa\\/G8YHHu+68ApuYqf0hvGBnR3O4ozqsABgJ4fjeCmdo2ulN4wP7OTwES7m8bvSG8YHtnI4hgd4tm+unqUjB7ZyOINXefwdl\\/rQMD6wscMb+JrHs\\/jSl4bxgY0cXsd7DDCHbelc3cq\\/ohvGBw51OImPOIf72MRdTOC55PWgLOAEPoy6YXzgUIfLmMITvM1zK\\/iNNwfcfw9XcRuvS2gYHzjU4cl8fYjFPJ7DD2lf\\/pT23Pn83zXs4oV\\/zkfaMD5w6PvSs5K7O9Lemszzf\\/bdsy09969Lrn+V1DA+sNU771PSvlvDksNdFdMwPrDV8+HjfF3Vzd9IGsYHtnI4n6+f+tQwPrCxw9O4LD1nDJouKqFhfGBjh+OYxlPpe0VvGsYHtjpLB\\/jWt4bxgY0dXsBnbPStYXxgTU1NTc3R8xeQYTS0fp8k3AAAAABJRU5ErkJggg=='><\\/img>\"},\"nodeType\":\"DOM\",\"type\":\"node\",\"instanceArgs\":{\"namespace\":\"html\",\"tag\":\"div\"},\"children\":[]},\"True: 4, pred: 1\"]},{\"props\":{\"style\":{\"display\":\"flex\",\"flex-direction\":\"column\"}},\"nodeType\":\"DOM\",\"type\":\"node\",\"instanceArgs\":{\"namespace\":\"html\",\"tag\":\"div\"},\"children\":[{\"props\":{\"setInnerHtml\":\"<img src='data:image\\/png;base64,iVBORw0KGgoAAAANSUhEUgAAAHAAAABwCAAAAADji6uXAAAABGdBTUEAALGPC\\/xhBQAAACBjSFJNAAB6JgAAgIQAAPoAAACA6AAAdTAAAOpgAAA6mAAAF3CculE8AAAAAmJLR0QA\\/4ePzL8AAAF7SURBVGje7dmxSxthHMbxT9RJHURRdBA6dZaKq5tjHLJ1l4COri7d\\/CeaUXAoLYUunSsigv+BsyDi4FIwauvwnrg45G4w7\\/14v0uS4y7fPHn4Xe7eUCgUCoVCoVAojJ9OnZ030MdHXOI7znFT4z0m3jthfOHIHa7gDKt4wmS1\\/QL7+JNrwvjCqVF3\\/IdZ3OEz5nCIdWwrHY5ROHKH1zhBF484rl7vYg+n+JFjwvjCkTuEI6nDAb5I8\\/cJM5jONWF8Ya0O\\/+K\\/9Js4qLbdY0fqN8uE8YW1rkuhhzUcVAefYDPnhPGFtTt8YSgNcR9fc04YX1jrXPoWD7knjC9s1OGC1wG+zT1hfGGjDrvSPf4Qv3JPGF\\/YqMPl6nHQ4Nj4X2n+HS5I1zHwrQ0J4wtrd7iED9XzuzYkjC9sdC7tSPf6rUgYX9iow6b9jSVhfGGZw\\/YLyxy2X1h7rW0ev6X\\/De+l9dKtnBPGFzZaL13EVfVpe\\/iZc8L4wkKhMH6eAZcsLt4BbLtrAAAAAElFTkSuQmCC'><\\/img>\"},\"nodeType\":\"DOM\",\"type\":\"node\",\"instanceArgs\":{\"namespace\":\"html\",\"tag\":\"div\"},\"children\":[]},\"True: 9, pred: 7\"]},{\"props\":{\"style\":{\"display\":\"flex\",\"flex-direction\":\"column\"}},\"nodeType\":\"DOM\",\"type\":\"node\",\"instanceArgs\":{\"namespace\":\"html\",\"tag\":\"div\"},\"children\":[{\"props\":{\"setInnerHtml\":\"<img src='data:image\\/png;base64,iVBORw0KGgoAAAANSUhEUgAAAHAAAABwCAAAAADji6uXAAAABGdBTUEAALGPC\\/xhBQAAACBjSFJNAAB6JgAAgIQAAPoAAACA6AAAdTAAAOpgAAA6mAAAF3CculE8AAAAAmJLR0QA\\/4ePzL8AAAHISURBVGje7dgvaFZRHMbxz+ZQ54oIom3JKZoEDVoMgsUlF4QJQzDMpMEgiqDC1qz+AYMaDJYVLYIgCgZxYZoMlm1FBBGLYnoN54SXF9zO3uDO++M85Zx77+\\/e7314+N17z6Wpqampqampqalp8zVUWrgT+zCdty+j03X8K45jeZ3rDP9vh\\/GBIyVF53Ad+7v2dfARW3EAe7BXy7DGDKfxAKP4gQUpu7dSXiNYxfZc+742h\\/GBaz5Ld+A5tmAO7\\/C7p2YU3\\/J4ItdU5TA+cM0+\\/IWT61zgipTfF3yu0WF8YNH78F86iqt5fh\\/fa3QYH9h3hsM4JfXgT7yu1WF8YN8ZXsDtPL+GT7U6jA\\/sO8PJPK7gSc0O4wP7yvCwlGEHd\\/CnZofxgRvOcAy38p2+wr3aHcYHbjjD8zgtrTseDYLD+MDi\\/6Wk\\/6WLUi\\/O4+YgOIwPLO7DIen7cyxvvxgUh\\/GBxRlOYSbPH+PDoDiMDyzOcKJrPt9z7Cye1eowPrA4wyN5nJPWhNtwBjdwqWaH8YHFGR7L4y4cxFOMSz35pmaH8YHF36V3Mdtz4kNcrN1hfGBxhrulNf0hLEn991JaJ1btMD6wqalp8\\/UXWic59rph5xUAAAAASUVORK5CYII='><\\/img>\"},\"nodeType\":\"DOM\",\"type\":\"node\",\"instanceArgs\":{\"namespace\":\"html\",\"tag\":\"div\"},\"children\":[]},\"True: 2, pred: 7\"]}]},{\"props\":{\"style\":{\"display\":\"flex\",\"flex-direction\":\"row\"}},\"nodeType\":\"DOM\",\"type\":\"node\",\"instanceArgs\":{\"namespace\":\"html\",\"tag\":\"div\"},\"children\":[{\"props\":{\"style\":{\"display\":\"flex\",\"flex-direction\":\"column\"}},\"nodeType\":\"DOM\",\"type\":\"node\",\"instanceArgs\":{\"namespace\":\"html\",\"tag\":\"div\"},\"children\":[{\"props\":{\"setInnerHtml\":\"<img src='data:image\\/png;base64,iVBORw0KGgoAAAANSUhEUgAAAHAAAABwCAAAAADji6uXAAAABGdBTUEAALGPC\\/xhBQAAACBjSFJNAAB6JgAAgIQAAPoAAACA6AAAdTAAAOpgAAA6mAAAF3CculE8AAAAAmJLR0QA\\/4ePzL8AAAGnSURBVGje7dkxS5ZRGIfxn2EuWZDgEM0Nbo5uEhQugpNRQ9GaQ0QfwhKEhqIP0CJiDQ6CSDQ0RDRIEUW6CJFDQUGmglHUcBrEnt7zilHnPdzX9MB94OLPzXMO9zkEQRAEB6Urt2AS1zCKR39BeOhfJ6xf2LKHvVjDVcx0asL6hd2tiofRg6VOTli\\/sDu34Cs+dnLCEIYwhCEMYQjzZM\\/DHJdwHjfxuMSE9QtbzhbHsYr+P9QH8BQb+IYhvC8tYf3CA\\/2HY3iDcbzGZUyVlrB+YcsebuAlBvG8oT6OF3iLBzgrelhaD79L9zO3cLqhfkz6D0n9PlliwvqF2b10HjdwFF\\/21D51QsL6hdkebuIzLuLuntocJnACFzTvt\\/89Yf3CbA+3cQV3\\/N7De9j59f2q1IT1C7NvT3BEuvdekN6imrgtzRpnSktYv7Ct2WIL56RZ8CGeNawZw3SJCesXtj0frktn3qz0Jjy\\/q3ZKugd4UmLC+oVt7aW7GcEilnEfH3Bdep8axo\\/SEtYv3HcPu6Q7uGlp3ujDO+mcXCkxYf3CIAiCIAiCGvgJGi8+EZ2gQUAAAAAASUVORK5CYII='><\\/img>\"},\"nodeType\":\"DOM\",\"type\":\"node\",\"instanceArgs\":{\"namespace\":\"html\",\"tag\":\"div\"},\"children\":[]},\"True: 6, pred: 4\"]},{\"props\":{\"style\":{\"display\":\"flex\",\"flex-direction\":\"column\"}},\"nodeType\":\"DOM\",\"type\":\"node\",\"instanceArgs\":{\"namespace\":\"html\",\"tag\":\"div\"},\"children\":[{\"props\":{\"setInnerHtml\":\"<img src='data:image\\/png;base64,iVBORw0KGgoAAAANSUhEUgAAAHAAAABwCAAAAADji6uXAAAABGdBTUEAALGPC\\/xhBQAAACBjSFJNAAB6JgAAgIQAAPoAAACA6AAAdTAAAOpgAAA6mAAAF3CculE8AAAAAmJLR0QA\\/4ePzL8AAAGLSURBVGje7dkxSJRhHMfxT2IJhlKrtgpGSJOKNOkgCG6NUSC0FQ3SJLS3NweCi0MNgoEIIrg4SIuDUFMQXIFDCMaJN+TwXsPJRQePeo8P\\/x8cx8HzvN\\/78uM5\\/ve+RCKRSCQSiUQi3c+N1AvM4g3eY7mD9T1XbVg+sDf1277EIxyIDrsEbOlwCsP40OHmB5jP3bB8YEuHD7GIn\\/iM+n82P26+n2AzV8PygS0drmIaO\\/iGBnbxBVv4jpt4gjt41dy3jo+5GpYPbDvTPMVrjHV4kSW8zdWwfGDbmWZFdSZ7MYI+jJ9bs4dneJG7YfnAf86ljeZrv\\/l5r82aietgGMAABjCAl5+k\\/\\/hreIdbORuWD0y619aPY3zFaK6G5QOTzmFddRbv52xYPjCpwz84zd2wfGBSh39zG3fxK0fD8oHJHR7hHiaxkaNh+cDk54dz+ISaqscj1ZyTjWH5wOQOh1TPDgewjQXVvfFsDMsHJv+W1nCIQczkaFg+8EJmmueqM\\/gDv3MzLB8YiUS6nzPMyTPreVlz6gAAAABJRU5ErkJggg=='><\\/img>\"},\"nodeType\":\"DOM\",\"type\":\"node\",\"instanceArgs\":{\"namespace\":\"html\",\"tag\":\"div\"},\"children\":[]},\"True: 7, pred: 4\"]},{\"props\":{\"style\":{\"display\":\"flex\",\"flex-direction\":\"column\"}},\"nodeType\":\"DOM\",\"type\":\"node\",\"instanceArgs\":{\"namespace\":\"html\",\"tag\":\"div\"},\"children\":[{\"props\":{\"setInnerHtml\":\"<img src='data:image\\/png;base64,iVBORw0KGgoAAAANSUhEUgAAAHAAAABwCAAAAADji6uXAAAABGdBTUEAALGPC\\/xhBQAAACBjSFJNAAB6JgAAgIQAAPoAAACA6AAAdTAAAOpgAAA6mAAAF3CculE8AAAAAmJLR0QA\\/4ePzL8AAAHFSURBVGje7dhBaI9xHMfx17QtmcVIaouU2ziSXR3ksINobUUhFwdHri7iwNGNg+TgJBdSyMEFpawls9PkQFtorSTk4PD77R9Fbc9T\\/Pr1fddTT7+eb5\\/n06fv9\\/d7HoIgCIIgCIIgCNrT9afFTbiAEbzG5fzgLN63FFz1rx3WL9jJcBQXsRXdWI15bMaP\\/Gbf8\\/1t3Mx1z7FQssP6BTsZPpH67pXUa1N4iB4po17swf78\\/C704xMu4Q5mSnRYv2Anw2FcxzSOL6NwADswhmN4h1N4XJrD+gV\\/2w8H8A1fllnci23SDD6A+3iAG1J\\/FuGwfsGupoWjuIL1WJPXFrBOmrePSnFYv2B308LBfMFLDOEsFv09v\\/\\/isH7Bxn3Yg2vSfngIk5gr0WH9go0zhI04J83VFziKz6U5rF+wVYakYbwPt\\/AMZ6SeLMZh\\/YKtM1xiWPpGnMJJfCjFYf2Cjc80v9InffNvwEHsxpZSHNYv2CrDQRyW+m57XvuKeyU5rF+w0SwdwQROSP\\/blljEaem8WozD+gVXlOER7MU41ua1aTzFG1zFx9Ic1i+4ogz7cR47pf\\/bd\\/FWyrFYh\\/ULBkEQBEEQ1MBPcr1CZ2OlhH4AAAAASUVORK5CYII='><\\/img>\"},\"nodeType\":\"DOM\",\"type\":\"node\",\"instanceArgs\":{\"namespace\":\"html\",\"tag\":\"div\"},\"children\":[]},\"True: 3, pred: 7\"]},{\"props\":{\"style\":{\"display\":\"flex\",\"flex-direction\":\"column\"}},\"nodeType\":\"DOM\",\"type\":\"node\",\"instanceArgs\":{\"namespace\":\"html\",\"tag\":\"div\"},\"children\":[{\"props\":{\"setInnerHtml\":\"<img src='data:image\\/png;base64,iVBORw0KGgoAAAANSUhEUgAAAHAAAABwCAAAAADji6uXAAAABGdBTUEAALGPC\\/xhBQAAACBjSFJNAAB6JgAAgIQAAPoAAACA6AAAdTAAAOpgAAA6mAAAF3CculE8AAAAAmJLR0QA\\/4ePzL8AAAIHSURBVGje7dk\\/rA1BGAXw3+UpqEiehsJLFPIqJGqFREh0T01oRCL+VBoKIbQKr3iRSEhe6U9Cg1JNQ0FCiBKv0RJ3FbM3d+\\/ae3cLeTuZzGnu7H4zc+7JyXzfzgwZGRkZGRkZGRkZ\\/WMwK7gVT3CwfP6Bm7iDBRTl796yXZ20wFN8rc25Yb0Vpk841cPtuI8jDbHP2Fy2twheN3l4DC\\/6Vpg+4dy0wAHN\\/sFuk57V8QnX8SYGhekTTl2Hu3AaV6cMalp3o1y7HJPC9AkHbR2O45xxTRwNqnq4jEuxKkyfcK6twyPsMOlhHSeFungmRoXpE7auwwHeYrH2rp5Lvwu593lsCtMn7OTh74Z3TfXwo0mvo1CYPmGrh3ABtyvP77Ai5NmX2IdhGbsof9OsM1rrITzAfszjMZ5hrYwdxjez9xq9KkyfsJOHP4Va14S1LhP0qTB9wk65tA1\\/jNfhKxyKSWH6hP\\/Fw8K4HsLGmBSmT9iaSwc4WrZfC2cxdQzletgjYauHZ4V7CjiF1UpsJ07U+q\\/EpjB9wlYP91TaV0x6eNe\\/5+IfYlOYPmGnXDoqmttwXjh3W6r96yHumb037EVh+oStHhbGtW5e2OvXz2m+4CGuxagwfcLW79JFYV+\\/gE2VQQV+Cff0S3gfq8L0CTvvLW7hcmXQDeGud7XrBH0pTJ8wIyOjf\\/wFiVpQ2QfE0QQAAAAASUVORK5CYII='><\\/img>\"},\"nodeType\":\"DOM\",\"type\":\"node\",\"instanceArgs\":{\"namespace\":\"html\",\"tag\":\"div\"},\"children\":[]},\"True: 5, pred: 3\"]},{\"props\":{\"style\":{\"display\":\"flex\",\"flex-direction\":\"column\"}},\"nodeType\":\"DOM\",\"type\":\"node\",\"instanceArgs\":{\"namespace\":\"html\",\"tag\":\"div\"},\"children\":[{\"props\":{\"setInnerHtml\":\"<img src='data:image\\/png;base64,iVBORw0KGgoAAAANSUhEUgAAAHAAAABwCAAAAADji6uXAAAABGdBTUEAALGPC\\/xhBQAAACBjSFJNAAB6JgAAgIQAAPoAAACA6AAAdTAAAOpgAAA6mAAAF3CculE8AAAAAmJLR0QA\\/4ePzL8AAAH9SURBVGje7dlPiE1hHMbxz\\/UnC5ksRqMpU5M\\/SxaGUTYmycZyLDRlIUUWFhZIwkrKhilkoxBrEVEsKE2RUHakKH9Cs5qyMIbFe3Rv0z33HinnnLf3uzqd93fep+c8ved9f\\/eSSCQSiUQiUX8af1O8H+P\\/KDjnfzuMX7BQhgtxCoPYVjeH8QvOK1I0iH0YrqPD+AULZXgGr\\/C9jg7jF+ya4ZasaE3O+HIsxjOMYGPL2EvcKtth\\/IJdM9yKmVn3+nEju+7BAnxAL1a21H3DO6wv02H8gh0z7BfW324M4T2+4JKQXQMrstrLmIsjLc\\/34knZDuMX7JjhVWzCRQxgTMhwCtuFDPuy2kdYhlHhDDQf97CrbIfxC+ZmOIx1eI7DOIDJbGw055k3wnfznJD3R3wt22H8grkZ7hH6wmvCeWWs4IR9XWrjf6XV6PGP4SgmsBnTBSc7gUO4IOyLP\\/GjbIfxC7bNcAa\\/hD1upOBEJ4U+5LawD05UxWH8gm2\\/pQ0hw0VYis8dJhjCXuzEJ1zB2yo5jF+w4zqE+9iheZ75w2rhbHoQd\\/AUD\\/G4ag7jF2yb4WssEdYhPBB+Lz2t2Q\\/2CP9h3BXW36RixP9Kq5EhoY+fwgasnTU2jbO4jhdVdxi\\/YG6Gq4R9bQA3NXt5OI7zdXEYv2AikUgkEolEIlEFfgN\\/VUz0fYBEXgAAAABJRU5ErkJggg=='><\\/img>\"},\"nodeType\":\"DOM\",\"type\":\"node\",\"instanceArgs\":{\"namespace\":\"html\",\"tag\":\"div\"},\"children\":[]},\"True: 6, pred: 0\"]},{\"props\":{\"style\":{\"display\":\"flex\",\"flex-direction\":\"column\"}},\"nodeType\":\"DOM\",\"type\":\"node\",\"instanceArgs\":{\"namespace\":\"html\",\"tag\":\"div\"},\"children\":[{\"props\":{\"setInnerHtml\":\"<img src='data:image\\/png;base64,iVBORw0KGgoAAAANSUhEUgAAAHAAAABwCAAAAADji6uXAAAABGdBTUEAALGPC\\/xhBQAAACBjSFJNAAB6JgAAgIQAAPoAAACA6AAAdTAAAOpgAAA6mAAAF3CculE8AAAAAmJLR0QA\\/4ePzL8AAAIvSURBVGje7dlNiI1RHAbwH00ZFpKPlBhfNYU0WYiasBgiTT42NlYKs5CdlawpykJWviJsUGIp1mMhGTIZNU1GEbKwkMn4Wpxzm2nGnfveWcx953Seur3nnPd\\/znOf+3T\\/57z\\/l4yMjIyMjIyMjIzGY0atgGYsie0DOIzbuIH5eBdj3hcknDnVCtMnnNDDk9iJ9jHjA3HiQ+zDIjyJ9+7hVpkUpk\\/4Xw+X4abgXTWTe7AUC2L\\/S7xeQZ\\/qPqb\\/k5bDQ3iKNejHXQzjDg6OiWvDK3wXcu0vzEEr1gu5tqEK0yes6uFqzEJvgUUW4yVeoGPU+BZ0N1ph+oRN1W7017HIKSGndowZb5M9nAI0FQ1sxzNsjP2+2D6HVXFsKCoYxnlcLoPC9AlrPltU8BGfsS72e7E2ti9gP\\/bgD16XSWH6hIU9vI6taBk18S8G0Ymv+FRGhekTFvYQzghn1c44cRC7hLxaWoXpE9blYQUb8BxH8MDIs2EpFaZPOCkP4beQS6+iq8wK0ycsfC6tYDlOTCeF6RPW5eFcbMJR\\/BBq3d31LNAIhekTFvZwBR4Jvg3hA37iftkVpk9Y08OFOIZDQo17QNgLW4V98FvZFaZPWPNMsxmPhdppJbgLp7ENb8quMH3CcR7ujtcezBNqnm3Yi9m4JtTRWkxcjymNwvQJx+XSHTiOS8I7+8o3OouLwj7I5PxriML0Ccf9D1fGz4DwXrAZb7HdiH\\/TSmH6hBkZGY3HP+JiU6pONMnFAAAAAElFTkSuQmCC'><\\/img>\"},\"nodeType\":\"DOM\",\"type\":\"node\",\"instanceArgs\":{\"namespace\":\"html\",\"tag\":\"div\"},\"children\":[]},\"True: 3, pred: 7\"]},{\"props\":{\"style\":{\"display\":\"flex\",\"flex-direction\":\"column\"}},\"nodeType\":\"DOM\",\"type\":\"node\",\"instanceArgs\":{\"namespace\":\"html\",\"tag\":\"div\"},\"children\":[{\"props\":{\"setInnerHtml\":\"<img src='data:image\\/png;base64,iVBORw0KGgoAAAANSUhEUgAAAHAAAABwCAAAAADji6uXAAAABGdBTUEAALGPC\\/xhBQAAACBjSFJNAAB6JgAAgIQAAPoAAACA6AAAdTAAAOpgAAA6mAAAF3CculE8AAAAAmJLR0QA\\/4ePzL8AAAH9SURBVGje7dlNiM5BHAfwDz2oJ+VAROv9wIHaHJSSUspBFHmJg5ObI22Rw8penDg4KA4O20aS8lJIuUhyEFJelpPiIEVbWC+1h5nDk579P\\/+n1RrTfC\\/zn\\/nN\\/L99+9Y03xkKCgoKCgoKCv5\\/TKkzaR5OY0\\/LopcYwDWMdEE4dbIV5k\\/Y0cN1OINevMfjON4Tx25jL76kqjB\\/wkoP5+ABluMpNuNjrM3ELpzHKRzBzxQV5k9Y6eEqwbub2NamPhcf4vcSvEtRYf6Ejari9tg+r\\/GjfTiZosL8CSs9XNBh8Sdcx9aUFeZP2JjI4t\\/4nrrC\\/AkrPXwT2504Os6cZ8LZZoeyl\\/4jwsozTQO3sFHIF\\/1ChpiG6TiEPswQzjbL8CM1hfkTdsyHiwQfV8T+FSzGUrzAOZyI8w7ibGoK8yesdU8zH2uwO\\/bv4pWQ938J2XAA97ApNYX5E9bysBN68RD3FQ9TO9PUxRPcEHJ+E19TUpg\\/4V\\/xEIaFO4EtuJySwvwJu\\/KwiVEhF46HtYqHk4zaHm7AYezH5zb1ntheSE1h\\/oS1PGziKu5o799KIec\\/wtvUFOZPWMvDbxgU8t9C4d23db88JuT+1bE+nJLC\\/AlrZ4tZwjvheuE98U+M4gCGUlOYP2HX+XC2cPd2qWXsIo7jdYoK8ycsKCgoKJg4xgDgPUprkYY2eQAAAABJRU5ErkJggg=='><\\/img>\"},\"nodeType\":\"DOM\",\"type\":\"node\",\"instanceArgs\":{\"namespace\":\"html\",\"tag\":\"div\"},\"children\":[]},\"True: 9, pred: 3\"]},{\"props\":{\"style\":{\"display\":\"flex\",\"flex-direction\":\"column\"}},\"nodeType\":\"DOM\",\"type\":\"node\",\"instanceArgs\":{\"namespace\":\"html\",\"tag\":\"div\"},\"children\":[{\"props\":{\"setInnerHtml\":\"<img src='data:image\\/png;base64,iVBORw0KGgoAAAANSUhEUgAAAHAAAABwCAAAAADji6uXAAAABGdBTUEAALGPC\\/xhBQAAACBjSFJNAAB6JgAAgIQAAPoAAACA6AAAdTAAAOpgAAA6mAAAF3CculE8AAAAAmJLR0QA\\/4ePzL8AAAIWSURBVGje7dhPiI1RGAbwH2Mld8hKKCt2N\\/\\/WNlZKUmwoqYkSCStjRRILIiyIQpRkaWMjf8piajZINlgSVtRMI8pci3Nv39zP\\/Wa+a0rH6Ty7+97z3ud77vO973nPISMjIyNjtpgzm+T1eIRv2IS3NXLm\\/muF6RP+lYfzcQ2bMdiOvcHqGBWmTziv34QmbmKt8AK02vFnsSpMn7AvD5fisOBfGUMYxd3YFKZP2FcvvYwDpeRWac0lvMKdWBSmT1jbw878srD0tJM9FNzHjlgUpk9Yu5ceFOaXTt29xFZhjjmCje34pDDrDOFWDArTJ6zt4W6Ff6PYjk\\/4iK8KD2ECX2JRmD5h33Mp3MB3NLAIe0rfP8HDWBSmT1h7P\\/ylqMMxvMc4NvT4wV24F4vC9Alr1eF53fPLINbpPdNsw4OYFKZPOGMdXsVOoW+2eiSXYzO9FOn\\/pXF52MRjLFb4NYZhrMAxf3p4DifwMxaF6RNOWzb7Bf86GMFxPG1\\/bmAfBqasOSr4fCYWhekTVnq4BltKsSsK\\/+CQcEZcVlrXjElh+oSVHq4S7kc7eKE4LzSwFxf0vqd5HpPC9AkrPWzp3utW4pRQdwNYIvhX3g+X43NMCtMnrH3GX6D7vruMHzgp3NtEpTB9wkoPR\\/BOqL8qfFD00us4G6PC9AmnPVsM4\\/SUhZ2+eRuvcfF\\/UJg+YUZGRkZGRkZGCvgNbipUXTFMqz0AAAAASUVORK5CYII='><\\/img>\"},\"nodeType\":\"DOM\",\"type\":\"node\",\"instanceArgs\":{\"namespace\":\"html\",\"tag\":\"div\"},\"children\":[]},\"True: 8, pred: 0\"]}]},{\"props\":{\"style\":{\"display\":\"flex\",\"flex-direction\":\"row\"}},\"nodeType\":\"DOM\",\"type\":\"node\",\"instanceArgs\":{\"namespace\":\"html\",\"tag\":\"div\"},\"children\":[{\"props\":{\"style\":{\"display\":\"flex\",\"flex-direction\":\"column\"}},\"nodeType\":\"DOM\",\"type\":\"node\",\"instanceArgs\":{\"namespace\":\"html\",\"tag\":\"div\"},\"children\":[{\"props\":{\"setInnerHtml\":\"<img src='data:image\\/png;base64,iVBORw0KGgoAAAANSUhEUgAAAHAAAABwCAAAAADji6uXAAAABGdBTUEAALGPC\\/xhBQAAACBjSFJNAAB6JgAAgIQAAPoAAACA6AAAdTAAAOpgAAA6mAAAF3CculE8AAAAAmJLR0QA\\/4ePzL8AAAGiSURBVGje7dm\\/S1VhHMfxlz9IJwUX5xY3hyBxCodWcTDCIRxCcCghWpzFOXJzSmjJrX+gf6Ch1kLbdClwEtQKIR2ecyAuxOmcC\\/rcL88bHu7h3nN487kfnsPznEOhUCgUCoXC4DPUdMIa3uAn9rGHj30Ih286YXzhaNMJv3Ailf0UT\\/ABK9Vv2SeML2ychzV3sI4lPJR6fIyz3BPGF\\/53hzVTeI8FrOJd7gnjC1t3WPMHXzCbe8L4ws4d\\/sAEnuEljqT7bHYJ4wsb1zT\\/4gj38RqT0rzMMmF8YecO53Al9Qefc00YX9i5w15Oc00YX9jY4Uw1jrEs7St62cV2rgnjCxs7fCA9p7nq+b5eDG3iVc4J4wsb16VzeCR1OINvGMcLnGMeX3NOGF\\/YOA8\\/VeNvtqrPC+36u5WE8YWt1zRjWKyO2z6juZWE8YWtO7yLe9Xx70FIGF\\/YaW8xVI23g5AwvrBTh\\/UadRaHuSeML+xrjz\\/Z4Zr4f2l+e4teRrCDDWldeiC9hzrPNWF8Yaf3FtP4Lt1T9\\/Acl7kmjC8sFAqFQv9cA27hNJuH4MmbAAAAAElFTkSuQmCC'><\\/img>\"},\"nodeType\":\"DOM\",\"type\":\"node\",\"instanceArgs\":{\"namespace\":\"html\",\"tag\":\"div\"},\"children\":[]},\"True: 7, pred: 1\"]},{\"props\":{\"style\":{\"display\":\"flex\",\"flex-direction\":\"column\"}},\"nodeType\":\"DOM\",\"type\":\"node\",\"instanceArgs\":{\"namespace\":\"html\",\"tag\":\"div\"},\"children\":[{\"props\":{\"setInnerHtml\":\"<img src='data:image\\/png;base64,iVBORw0KGgoAAAANSUhEUgAAAHAAAABwCAAAAADji6uXAAAABGdBTUEAALGPC\\/xhBQAAACBjSFJNAAB6JgAAgIQAAPoAAACA6AAAdTAAAOpgAAA6mAAAF3CculE8AAAAAmJLR0QA\\/4ePzL8AAAG+SURBVGje7dmtb1VBEAXwXwEFEmopkgeOgCIEJDhagQIHtU3A0DYooPwLBEf4UFAkGnAVSKhsQFFedRWviLk3ISS8d98laTeTPWbFvbsnZ09mZneWioqKioqKipm+E0dYbxb4ggcd5x3ab4X5CXt7+At7zQJ7uCE8LU5hfsLeHi424yMcx2dcKFFhfsIjfSc+a8ZzuF2ywvyEvT38EzP4VKrC\\/IT\\/7eG8qIfvSlWYn7B3PWzxFHdwuFSF+Ql7x+EslkUcfi1ZYX7CqT2cw0\\/cxBJ2cblkhfkJp\\/ZwA3dxX9TBNWyWrDA\\/4VT1cAFvRO4cNOPZ0hXmJ+wUhwPhXxt7b3EG17GKxyUrzE840cM50YuZx0ecwmscE3H4EFt4VarC\\/IQTc+kHXMQOruEbhjjafD+NFeFr7ZceCOFYD2fxQ8TflQkLbeOq6JsWpTA\\/4dhcOk0P5paokdXDsjwcihy6iO\\/+nSsXxDlnhJelKcxPONbDdZwU7xLPRe1b++ufVXFeHel2Ps2\\/pWXVwxYDvMd5EZstXghfT+CeeqY5IMLOd\\/xL4i7RejgQPZsn4i1x2HGd\\/Fu674QVFRUVFRUV\\/AY6rUWs0ATO6wAAAABJRU5ErkJggg=='><\\/img>\"},\"nodeType\":\"DOM\",\"type\":\"node\",\"instanceArgs\":{\"namespace\":\"html\",\"tag\":\"div\"},\"children\":[]},\"True: 8, pred: 3\"]},{\"props\":{\"style\":{\"display\":\"flex\",\"flex-direction\":\"column\"}},\"nodeType\":\"DOM\",\"type\":\"node\",\"instanceArgs\":{\"namespace\":\"html\",\"tag\":\"div\"},\"children\":[{\"props\":{\"setInnerHtml\":\"<img src='data:image\\/png;base64,iVBORw0KGgoAAAANSUhEUgAAAHAAAABwCAAAAADji6uXAAAABGdBTUEAALGPC\\/xhBQAAACBjSFJNAAB6JgAAgIQAAPoAAACA6AAAdTAAAOpgAAA6mAAAF3CculE8AAAAAmJLR0QA\\/4ePzL8AAAH2SURBVGje7dkvbFNRFAbwH2RqSChBgRy1DE2Q4NZqkCQgQTLJMhRL5kgql+AoDs8fhcGxYYtks0yxIs4ljwKPtmvCe725n2nv7X3ve1+\\/nHvuOY+CgoKCgoKCguXHmVkXnsNV3EvjDjYwSOMXeDvDfc7+b4X5E071cFN4tYq1dMH4L58fcRuHbVOYP+FK3Q938AwXcZKe7BNGeJXWDIWHH7COy4qHbfLwAs7jeRoPcIBvv63rprXjtirMn3DmfFiHdRGHR7gu4rRVCvMnXFn0Bj0RgyUOGyNc2MOuCOaRyRi8IvbYEb42qTB\\/woX30u8iBnfxOc31cE3k0y94pDoH5f+XLpeHm3jiz1pjH8fiHPs0jRtTmD\\/hqffSPVE3\\/syF74RXdefXxhTmTzhXHPaxZbLWP8Zd1V7ZOoX5E84Uh32R4zZEv2aY5sbp+6z+NaIwf8J\\/etgR+a4n+qVDVX47SWvet11h\\/oS1HnbxWvTP9nFfFW9dVR4ctl1h\\/oS1Hr4U\\/j0QPv3aB30s8uG26f3RxhXmT1jr4ZqIs0OTPvVV59F58mBjCvMnrD2X3hBe3VL5NcBOmt8VtXvrFeZPOLW2WBXvfvdE36UjPL1k\\/n20EYX5E85VH+7gId7g5rIozJ9wrj7NgagpTpMHG1OYP2FBQUFBweL4AfEPW8iSHd5MAAAAAElFTkSuQmCC'><\\/img>\"},\"nodeType\":\"DOM\",\"type\":\"node\",\"instanceArgs\":{\"namespace\":\"html\",\"tag\":\"div\"},\"children\":[]},\"True: 2, pred: 7\"]},{\"props\":{\"style\":{\"display\":\"flex\",\"flex-direction\":\"column\"}},\"nodeType\":\"DOM\",\"type\":\"node\",\"instanceArgs\":{\"namespace\":\"html\",\"tag\":\"div\"},\"children\":[{\"props\":{\"setInnerHtml\":\"<img src='data:image\\/png;base64,iVBORw0KGgoAAAANSUhEUgAAAHAAAABwCAAAAADji6uXAAAABGdBTUEAALGPC\\/xhBQAAACBjSFJNAAB6JgAAgIQAAPoAAACA6AAAdTAAAOpgAAA6mAAAF3CculE8AAAAAmJLR0QA\\/4ePzL8AAAINSURBVGje7dlNiEhRGMbxH82ESaIpamrKEjVKLJRiMdJsqaGwUGZnYTMS+UhZWtjLlMaCkmQxxUKMsrAwC6UsfBVlUjL5LmHx3slgdO\\/djNPpPKtzzz3dp6d\\/5+u9FBUVFRUVFc1rM7gTPRjCXozjJJ63+Mb8uU6Yv2EjhguxAmPorfruYhteYAtepZowf8OOugGDOCY4nsZo1d+JO9iI5QrD\\/2hYy3ASZwS7IZzAORwS\\/JJPmL9hq\\/1wF0aw6I\\/+9ZhINWH+hrXzcKYuC34jM\\/o+4mvKCfM3bMUQ7uMDFlfPt\\/Eo5YT5G7ZaS6ELN7Cpep6s2k9TTZi\\/Yet5uFUwe4+XWI0jOIhPKSbM37AVwzUYrtrDuIqL2I83OJpiwvwNW62ll7ATU+jHA3TjHpaKu+R4agnzN2zMsF+cSzuwD9dmvBvEeXzBWrxOKWH+ho0Y9uAhlom5t2GWMVewAwO4mVLC\\/A0b7YfrBL8pUaeZTdMMD4ta6udUEuZvWMuwS9TViJr3WM34XixQGM6hahkex+aqff0fY1b6NT\\/P4l1KCfM3rGW4RGyaT\\/zNcLvYKw9gFR6Ls2tSCfM3bLQf\\/hBzbUDcI3ZjjziDTn9gVPyjeptawvwNa8+l3biFPlHb\\/u73\\/xajomZ6oXqXXML8DRvdLTrEutkn7oITOIVn+KYZu\\/+WMH\\/DoqKioqKiIn4CFHhRv0uxxioAAAAASUVORK5CYII='><\\/img>\"},\"nodeType\":\"DOM\",\"type\":\"node\",\"instanceArgs\":{\"namespace\":\"html\",\"tag\":\"div\"},\"children\":[]},\"True: 8, pred: 3\"]},{\"props\":{\"style\":{\"display\":\"flex\",\"flex-direction\":\"column\"}},\"nodeType\":\"DOM\",\"type\":\"node\",\"instanceArgs\":{\"namespace\":\"html\",\"tag\":\"div\"},\"children\":[{\"props\":{\"setInnerHtml\":\"<img src='data:image\\/png;base64,iVBORw0KGgoAAAANSUhEUgAAAHAAAABwCAAAAADji6uXAAAABGdBTUEAALGPC\\/xhBQAAACBjSFJNAAB6JgAAgIQAAPoAAACA6AAAdTAAAOpgAAA6mAAAF3CculE8AAAAAmJLR0QA\\/4ePzL8AAAHiSURBVGje7dm5ixRBGMbhZ3XWYzVTwWNAxEzFzCMQTURMDFRQMRAxEPwPBNfIAzZSUERQMTExMPACjURQzI0EDdRgE0ETL\\/AMqhZWmemd3RGp+agfDN1TXcU777xU19fVVCqVSqVSqVQqlUr\\/DPXSaSmOYCWO5rbPOI1beIWfPQrO+t8O4ws2ZrgMF7ERyxv6ncTZUh3GFxzq1ngA57AE3\\/ASd3Al95kvZbcfP7ALD0t0GF+w1alxB27gNc7gQpfBl6QMZ2OkVIfxBTtmOBdXcRwfugxcg635\\/CvGS3UYX7CnmmZy5xHswxgW5fY9uF2qw\\/iCrak6rMMw9kp16cFJ1z7hFO6X7DC+YOM83IYHmNPh2heM4nzpDuMLNs7Dd\\/mz4K8BC6W6dAyrcAIfS3UYX3Ba6yEsxk4cw+bc9gS78b5Eh\\/EFp53hBMM4jMv5+01\\/rpXFOIwvOOMMSffVDXiUf\\/l6vCjNYXzBKevSJr7jGd5iNdpqhoM2Dyc4hOt4jO2a97\\/j\\/6WDmWEbb\\/L5PGl\\/tRiH8QX7updOsCIfx\\/GrNIfxBf9JhqP5eFdaI4tyGF+w7ww3Se854GmJDuML9pXhWun5sIV70vvF4hzGF5xxTXNNqkHb0t73Fjwv0WF8wcrg8xvr4T1nBj1kIAAAAABJRU5ErkJggg=='><\\/img>\"},\"nodeType\":\"DOM\",\"type\":\"node\",\"instanceArgs\":{\"namespace\":\"html\",\"tag\":\"div\"},\"children\":[]},\"True: 3, pred: 9\"]},{\"props\":{\"style\":{\"display\":\"flex\",\"flex-direction\":\"column\"}},\"nodeType\":\"DOM\",\"type\":\"node\",\"instanceArgs\":{\"namespace\":\"html\",\"tag\":\"div\"},\"children\":[{\"props\":{\"setInnerHtml\":\"<img src='data:image\\/png;base64,iVBORw0KGgoAAAANSUhEUgAAAHAAAABwCAAAAADji6uXAAAABGdBTUEAALGPC\\/xhBQAAACBjSFJNAAB6JgAAgIQAAPoAAACA6AAAdTAAAOpgAAA6mAAAF3CculE8AAAAAmJLR0QA\\/4ePzL8AAAFUSURBVGje7dktSwRRGMXxny8YtZlEi8VgMWrUYlMEu5gWrAa\\/gsHkSxB8+QRaRItJDCajoF1EQRCDYFDDjrBq2J1ZcHYuz4GBexke\\/hwOz5175xIKhUKhdtVVpGgPSzjGfM7a7v92mD6wt0jRR\\/Z8VsFhAAMYwAAGMIABDGAAqwDMvS8dwXCVHKYPzJ3hDKaxjqsqOEwfWOh8CPu4rYLD9IG5MlzELpYVy68Uh+kDc2W4pdi\\/mVIdBjCAnQ9suQ+H0POrcLRhvoML1LL5Cx7U97DP6MNqGQ7TB7ac4SYGsvEU+rHR8P4JdzjK5pc4xBrOMIiJMhymD2zp7mkW2\\/6eC6\\/Vv5HwiJNOdJg+sKU+HPczv1cs4Ab3ne4wfWDTDOcwlo1P8a7ee+dVcZg+sOla+n3Xe4AVvFXNYfrApn1Yw6T6nrLd\\/EpxmD4wFAqFQqFQKAV9AXVzKhL\\/dVZXAAAAAElFTkSuQmCC'><\\/img>\"},\"nodeType\":\"DOM\",\"type\":\"node\",\"instanceArgs\":{\"namespace\":\"html\",\"tag\":\"div\"},\"children\":[]},\"True: 2, pred: 6\"]},{\"props\":{\"style\":{\"display\":\"flex\",\"flex-direction\":\"column\"}},\"nodeType\":\"DOM\",\"type\":\"node\",\"instanceArgs\":{\"namespace\":\"html\",\"tag\":\"div\"},\"children\":[{\"props\":{\"setInnerHtml\":\"<img src='data:image\\/png;base64,iVBORw0KGgoAAAANSUhEUgAAAHAAAABwCAAAAADji6uXAAAABGdBTUEAALGPC\\/xhBQAAACBjSFJNAAB6JgAAgIQAAPoAAACA6AAAdTAAAOpgAAA6mAAAF3CculE8AAAAAmJLR0QA\\/4ePzL8AAAHSSURBVGje7dnPi05RHMfx10iTQkmUjbJVkyxmZWHE7JQFJcVGfiz4B+wUf4Al5cd6rOzsNMqCwt7GBlmY4jGUpIbFOU\\/upNx7H+U599v5bO7tPOfcz\\/k8785zvuc+VFVVVVVVVVUNXzOTDlzCSVzF9R7jNvzvhPENN\\/bpvBvncAeb8BOX8BAvS00Y37Azw\\/1YxlbM40Nu34mjKsMpGnZmeF7iB09wZigJ4xt2ZjiXr59w03qGc10fMo2E8Q07MbyMg9L+t4JVqRgaF0TvS04Y37ATw2MSv7c4ntseYG9uny85YXzDVoaLOJTvl\\/Eq348afUZSzfNNWqcfS0oY37D1fHgfJ3LHw3iKA7iLPdI6bOoLruFGKQnjG\\/6V4Xa8lurRGTzCDuxrDG4yXMr9b+NdKQnjG7auw1u44E9e49muYZf0G1pkwviGrfvhFYnTImbxTDrXL+T2x9bvjcUljG\\/YynAkvU\\/bkme3KtU4C\\/nzFfwoOWF8w85n\\/K\\/5OovTQ0oY37DXO2\\/YhrNDShjfsDdDfhdCk8w2\\/lc6DIbj+nRtCAnjG07EsKkXpSeMb9ib4WfcwylsxvPSE8Y37M3wOy7iDY7o95\\/FVBLGN6yqqqqq+nf9AgJcQtX4ClbGAAAAAElFTkSuQmCC'><\\/img>\"},\"nodeType\":\"DOM\",\"type\":\"node\",\"instanceArgs\":{\"namespace\":\"html\",\"tag\":\"div\"},\"children\":[]},\"True: 4, pred: 9\"]},{\"props\":{\"style\":{\"display\":\"flex\",\"flex-direction\":\"column\"}},\"nodeType\":\"DOM\",\"type\":\"node\",\"instanceArgs\":{\"namespace\":\"html\",\"tag\":\"div\"},\"children\":[{\"props\":{\"setInnerHtml\":\"<img src='data:image\\/png;base64,iVBORw0KGgoAAAANSUhEUgAAAHAAAABwCAAAAADji6uXAAAABGdBTUEAALGPC\\/xhBQAAACBjSFJNAAB6JgAAgIQAAPoAAACA6AAAdTAAAOpgAAA6mAAAF3CculE8AAAAAmJLR0QA\\/4ePzL8AAAG\\/SURBVGje7djPiw9xHMfxB0uyreLix+aAg4skSvkD7N63FKGUIlHiyEmScpLDcpPsYXPZIo6c5OZm24SL8iuKUohaDp\\/ZjO078\\/2uHzvj0\\/tZU5\\/5zHvm1WtevZvPfAiCIAiCIAiCIPhzFnQr2IWTuIntGMQxPMPH3xBcON8O8xdc1K1gFXYUxwwPcQhX\\/weH+Qt27cMVuIsts+ZfYQO+tt1h\\/oK1fdiP01jZ4doa7Df3Xsz\\/lbanD1fjGoZqbv6Ctzgo9eP9NjrMX7Ayw324Xozf4VSHmit+NvIn3MBZPG+Tw\\/wFKzO8iOPS+nMEkx1qluCEtHbdVsx9wzSeSHneKuYac5i\\/YGWG36UsRqUs61iHrcX4PDaWrt3GJdxrymH+gpUZTks59pJhmUGcwW4MlOb7mnKYv2Blhuekb+AL7MGDOTx0GR5hbWkuMvxnVP5bTEjZrZf2aC7gDcYq6gdwpBgP+zW\\/O006zF+w9h9\\/M8al791SfMbjitrF2FQ6fyqtZQ5jCu+bcpi\\/YNd9GjiAvdjZQ+0oXuMyPrTBYf6CPWUIy4tjNkelvGZ4qX7\\/Lf9XOu+CQRAEQRAEQRAEf4MfIcVA6D0Y9fcAAAAASUVORK5CYII='><\\/img>\"},\"nodeType\":\"DOM\",\"type\":\"node\",\"instanceArgs\":{\"namespace\":\"html\",\"tag\":\"div\"},\"children\":[]},\"True: 0, pred: 6\"]}]},{\"props\":{\"style\":{\"display\":\"flex\",\"flex-direction\":\"row\"}},\"nodeType\":\"DOM\",\"type\":\"node\",\"instanceArgs\":{\"namespace\":\"html\",\"tag\":\"div\"},\"children\":[{\"props\":{\"style\":{\"display\":\"flex\",\"flex-direction\":\"column\"}},\"nodeType\":\"DOM\",\"type\":\"node\",\"instanceArgs\":{\"namespace\":\"html\",\"tag\":\"div\"},\"children\":[{\"props\":{\"setInnerHtml\":\"<img src='data:image\\/png;base64,iVBORw0KGgoAAAANSUhEUgAAAHAAAABwCAAAAADji6uXAAAABGdBTUEAALGPC\\/xhBQAAACBjSFJNAAB6JgAAgIQAAPoAAACA6AAAdTAAAOpgAAA6mAAAF3CculE8AAAAAmJLR0QA\\/4ePzL8AAAGsSURBVGje7dg9i1NBFMbxn2JhI5pKxMoUFi4KvmBYhW22sd\\/azs4vIPgpFCwsBEEQEUEUi4Vt1WyTRWTdQjCdWElKC4VYzEiixd0kF8zsYZ5qmNzJP899OCf3XKqqqqqqqqqqqqqWr0OLHDqON3n9GI\\/mOHv4fzuMD5wrw2NYxwd8yYd\\/4iL2SnUYH3hk1gtX8BqncRXbWM1fcEHNcInAmTLs4CnOSDX4Ea+kDGEDz0p1GB+4by89iwdSD91FDz\\/QlfrpGH1cL9VhfGBjHfZwH1ekrF7iV\\/5smPfGOC9l\\/blEh\\/GBjXX4XOqT0xe\\/zftPMJIyhBvYKtFhfGBjHV6aWg\\/xHidwD3cOisP4wMYM16T\\/wT0MpvYvYzOv5x0w49\\/Ssnppkzr4rvbSAoAzz4f\\/aoRPOFe6w\\/jAhTOEHZMMu6U6jA9slWEfN\\/P6Gh6W6DA+sFWG76R5\\/6hUk0U6jA9sleEpKT\\/Se7giHcYHtspwID3bdPw9SxblMD5w4dnij77h5By\\/Pv4tPVh1yOSdabEO4wNbZ\\/gCt0t2GB\\/YOsO7+IpbpTqMD6yqqlq+fgPhfDqnayzqiAAAAABJRU5ErkJggg=='><\\/img>\"},\"nodeType\":\"DOM\",\"type\":\"node\",\"instanceArgs\":{\"namespace\":\"html\",\"tag\":\"div\"},\"children\":[]},\"True: 4, pred: 9\"]},{\"props\":{\"style\":{\"display\":\"flex\",\"flex-direction\":\"column\"}},\"nodeType\":\"DOM\",\"type\":\"node\",\"instanceArgs\":{\"namespace\":\"html\",\"tag\":\"div\"},\"children\":[{\"props\":{\"setInnerHtml\":\"<img src='data:image\\/png;base64,iVBORw0KGgoAAAANSUhEUgAAAHAAAABwCAAAAADji6uXAAAABGdBTUEAALGPC\\/xhBQAAACBjSFJNAAB6JgAAgIQAAPoAAACA6AAAdTAAAOpgAAA6mAAAF3CculE8AAAAAmJLR0QA\\/4ePzL8AAAHESURBVGje7dg9a1RBFMbxX2KI0WAnYkhjZaGFBDSfQAQLhVSxiS+lpZ8gjagfwCKNkCogQgiCYGEhgiJImqCFkEiCJIGgCCGFim\\/FnRBY2LsLu7izh3mqc+8M85+Hw5k791BUVFRUVFRUVFTUew10usA4juMWhnEeFzCf3jVq8H87jA8camfSNA5jEXtpl5M4jXsYa5i\\/hZ+5OIwPrK3Dq6o6e5iev+NviodxKMWb2MEClvEWP3JxGB\\/YNIeX8KyNHV3GO3zL1WF8YNOz9GTazQ08r1ngq4PazNJhfGDL7+EDPMVuvzqMD2yaw\\/07yZjq29e3DuMDa+80eziCCaz0q8P4wNqz9DFuYgrv8adhp0M4k8Z+5eowPrC2Dq9gKcUv8DnFT3A7jcMnXMRGjg7jA2tzOII5zLSx0Cau4U1uDuMDW\\/baBnEM11V3m0mcxUt8xAfcV\\/XY1lT\\/les5OYwP7LhfCiewilHcxWxODuMD2+qXttIOfufqsAALMH9gV+pwxMGhvJybw\\/jAruRwSnXv+YLXuTmMD+xKDvcXeaXqgWflMD6w4xwexZ0UP8rRYXxgxzk8hXPY1voc7YnD+MCioqLe6x+LoTqsSKDwFAAAAABJRU5ErkJggg=='><\\/img>\"},\"nodeType\":\"DOM\",\"type\":\"node\",\"instanceArgs\":{\"namespace\":\"html\",\"tag\":\"div\"},\"children\":[]},\"True: 5, pred: 9\"]},{\"props\":{\"style\":{\"display\":\"flex\",\"flex-direction\":\"column\"}},\"nodeType\":\"DOM\",\"type\":\"node\",\"instanceArgs\":{\"namespace\":\"html\",\"tag\":\"div\"},\"children\":[{\"props\":{\"setInnerHtml\":\"<img src='data:image\\/png;base64,iVBORw0KGgoAAAANSUhEUgAAAHAAAABwCAAAAADji6uXAAAABGdBTUEAALGPC\\/xhBQAAACBjSFJNAAB6JgAAgIQAAPoAAACA6AAAdTAAAOpgAAA6mAAAF3CculE8AAAAAmJLR0QA\\/4ePzL8AAAILSURBVGje7dk9aFRBFAXgb6M2ahEwNhYa0CYWpkgjiAoWsfAH1E4UUTAINvYiKMHCyh8sgmXAykKwUgvB9BYKYm1jo0W0sFESi\\/uWfVl4+ydkh2FONXfezDt79jBz78yjoKCgoKCgoPW\\/L3iB87X4BN73GD+x2QrzJxzZw2m8wQGs1\\/p\\/4SJep6Iwf8Kto07cg\\/21+Bs+4CxuKh5uIkbysIXbXX3L2JmiwvwJh\\/ZwVuyhU1X8EfM4glspKsyfcCgPD+ItdtX65vEDCziaosL8CYfycEGsv3oNs1zFc1W8iqcpKcyfcOSapo2TNnp6DispKcyfcCAPp3FG5MIJrHX94jW8wkO9\\/RuLwvwJB\\/LwAh5U7TUb1107XtLfv7EozJ+w1e\\/hNbG+tuN71TfVNWZdnAcviXyYlML8Cft6+KdqL+FZ1VevP4\\/p3LWtiLu2pBTmT9jXw7\\/4ilP40jDuDq5iH7akpjB\\/wsZ8uAOPxD75WbN\\/sIjD2JuiwvwJGz28J9YWkQebMCn20zmDIf+\\/NB0PZ2rt+z1ecFnUPMkqzJ+w0cOWTrJ8jNNdzyeFf0\\/E+WJVnO+TU5g\\/YWNNcwgvRZ3yG3fF2jwucuQ2kf\\/aZ4sreJ6iwvwJe9alM3iH3V0T6mf8n+K7\\/YK4+05OYf6Efb\\/jz+I6btQmLOr49clg9zNjU5g\\/YUFBQUFBQQH\\/AK+pSuOV3EwlAAAAAElFTkSuQmCC'><\\/img>\"},\"nodeType\":\"DOM\",\"type\":\"node\",\"instanceArgs\":{\"namespace\":\"html\",\"tag\":\"div\"},\"children\":[]},\"True: 8, pred: 3\"]},{\"props\":{\"style\":{\"display\":\"flex\",\"flex-direction\":\"column\"}},\"nodeType\":\"DOM\",\"type\":\"node\",\"instanceArgs\":{\"namespace\":\"html\",\"tag\":\"div\"},\"children\":[{\"props\":{\"setInnerHtml\":\"<img src='data:image\\/png;base64,iVBORw0KGgoAAAANSUhEUgAAAHAAAABwCAAAAADji6uXAAAABGdBTUEAALGPC\\/xhBQAAACBjSFJNAAB6JgAAgIQAAPoAAACA6AAAdTAAAOpgAAA6mAAAF3CculE8AAAAAmJLR0QA\\/4ePzL8AAAIHSURBVGje7dhPiE5RGMfxz6u3BpNJETakWYgaJiOxsrDAZmz8LSmysLGwYSMLShLJzmKysPGnmLJQlD87WVgoJqaUpZmihI1QFs9dSO\\/M685o3jOn89uc7u3e++3Xr+fc5zwUFRUVFRUVFc1+Ndo9sAJbsQV92IgxLMBKfKwJnDPTDvMHTprhPpzHEoziLm7iGw7hFR6k7jB\\/YMsMu3EVBzCCE3g4Wx3mD2y2utnAhmq94f\\/l1xGH+QMn3EuP4Aq68BjDuI0v\\/\\/DRLvzErxQc5g+c9H\\/YJ\\/bRg9X1W5zBZxPXZlPkfRifUnCYP7BtX9rAXJHjOmxDL77jOs6KPhWW4jmO4X4qDvMHts3wb\\/WgH4PYgcW4hjs4ha9iH07GYf7A2hn+qWU4iePV9SjWpOYwf2BzOi+P4XXqDvMHTqsOV4veZlzssQuxHh9Scpg\\/cMp1OB+P8B47xUxgr5i\\/lQxnVFPKcB6eivwGxZmxB+\\/wIjWH+QOnlOGQ6E03i7PigOhRR\\/AjNYf5A2tnuAl7RI4vq3u7qvVCig7zB9bqabrxDIvEPHUcq8S++gbbtZ6vddRh\\/sBaddiPtWJuOl69fElkeln7\\/DriMH9grTq8J3qYATGPeYLlOI1zqTrMH1irDnurdT92i\\/yGcDFlh\\/kDa9XhUXEOJGpyGLe070U76jB\\/YFFRUVHR9PUbRRdNtFEXXBgAAAAASUVORK5CYII='><\\/img>\"},\"nodeType\":\"DOM\",\"type\":\"node\",\"instanceArgs\":{\"namespace\":\"html\",\"tag\":\"div\"},\"children\":[]},\"True: 8, pred: 3\"]},{\"props\":{\"style\":{\"display\":\"flex\",\"flex-direction\":\"column\"}},\"nodeType\":\"DOM\",\"type\":\"node\",\"instanceArgs\":{\"namespace\":\"html\",\"tag\":\"div\"},\"children\":[{\"props\":{\"setInnerHtml\":\"<img src='data:image\\/png;base64,iVBORw0KGgoAAAANSUhEUgAAAHAAAABwCAAAAADji6uXAAAABGdBTUEAALGPC\\/xhBQAAACBjSFJNAAB6JgAAgIQAAPoAAACA6AAAdTAAAOpgAAA6mAAAF3CculE8AAAAAmJLR0QA\\/4ePzL8AAAGtSURBVGje7di\\/SxdxHMfxxzcMiYZIMBrEtpbSyaFB6A+IpojQQaS1vSWCCHQTUZpqiILa2voxRNBSNOjg4CjS0Bb0YwhFzIa7L6XQ3TdPuo9vPk\\/4wufuPtyTFy\\/u8737kMlkMplMJpPJtE+n6uJ5vMZpfMJQeX4IY+V4Bev\\/IDzyvxPGF\\/ZVXZzGKfwsf13G8aQcf8AlfE01YXxhX9MbXMAxucMWhY07hOuYSTVhfOG+OnyOF4o1FC7LHbYorOzwjeI\\/8eSe82cwfFgSxhdWdvgKXxQdDuIOHuAiRg5LwvjCTt2ERdyomfMRV7GcYsL4wtoOzym6OVoz7zZmU0wYX1j7TrOKCdzHQMW8EZzAt9QSxhfWPoddruFpOX6Pe3hk9\\/M5qug8qYTxhT132EF\\/Od7GFt4pvvG75A5bEfb8fbiDjT3n7uJl6gnjCxvt07zFY0ylnDC+sFGHm\\/jxx\\/EkbqWWML7wQPZLu0xgHp9TShhf2PM7zd+4goc4Xh7P4WZKCeMLGz+Hz7Dgd4fJJYwvPNC19DuWUksYX9h4LaXYT13EGs6mljC+MJPJtM8v0wIz+4wCKC8AAAAASUVORK5CYII='><\\/img>\"},\"nodeType\":\"DOM\",\"type\":\"node\",\"instanceArgs\":{\"namespace\":\"html\",\"tag\":\"div\"},\"children\":[]},\"True: 4, pred: 9\"]},{\"props\":{\"style\":{\"display\":\"flex\",\"flex-direction\":\"column\"}},\"nodeType\":\"DOM\",\"type\":\"node\",\"instanceArgs\":{\"namespace\":\"html\",\"tag\":\"div\"},\"children\":[{\"props\":{\"setInnerHtml\":\"<img src='data:image\\/png;base64,iVBORw0KGgoAAAANSUhEUgAAAHAAAABwCAAAAADji6uXAAAABGdBTUEAALGPC\\/xhBQAAACBjSFJNAAB6JgAAgIQAAPoAAACA6AAAdTAAAOpgAAA6mAAAF3CculE8AAAAAmJLR0QA\\/4ePzL8AAAIxSURBVGje7dlNiE5RGAfwHzObqTHGAlPGhhQLUljIR0oishBhaWVlKJGQEpOlLH2FHUbysZFi5yMUZWF8RCkfCwuTzzAZi3OmeV+ad9551cyZ0\\/3X7dzn3p7zv\\/\\/77zm3+xwKFChQoECBAgUKFBh+jKolaTI2lcTr8AoPY3wTd\\/rJHT3UCvMnrMrDRViNbSVJ9XHside+4DTa8BvXsSoFhfkT\\/uPhXCzEbnRiCiaiLj5dB97jHV7gRszrwTe04G0FNfm\\/0iEnrC8NOoTaaYjx+DieRReO4il+9TNZA07E8\\/upKMyfsMzDqfr8g3Nox3N0VzHZYqwUPF6WisL8Ccs8XIrmkviN6ryD5bgQzx\\/hcyoK8ycs87ArHoNFI3bFsRuHUlKYP2H9\\/04wBiexBD+xBVdTUpg\\/YU3\\/h72Yg51Yjx+4go2pKcyfsGYPm3AN82N8APtTVJg\\/YU1r6UycEurwO\\/bifKoK8yccdB024Rg2xPgZZpTcr8MEoQ+QhML8CQdVh9OENbPXv3tCDRJ6qK3Yg4s4k4rC\\/AmrrsN5Qg+0WVg\\/24UewCRsxWxcwl1cTklh\\/oRV1WErdgj+3cZBPI7XtuMDjmNfigrzJxywDltwS+h9wxrMwmahF\\/4Ea\\/EyVYX5E1b0cIHw\\/9D4V0IPPuGw8H1MWmH+hBXX0unK\\/YOvwt7EEbweCQrzJ6zo4QN8xDhhX7cTK\\/TtD44IhfkTDvg9bMNYYf+pYyQqzJ+wQIECw48\\/+cFX\\/IxA6noAAAAASUVORK5CYII='><\\/img>\"},\"nodeType\":\"DOM\",\"type\":\"node\",\"instanceArgs\":{\"namespace\":\"html\",\"tag\":\"div\"},\"children\":[]},\"True: 2, pred: 7\"]},{\"props\":{\"style\":{\"display\":\"flex\",\"flex-direction\":\"column\"}},\"nodeType\":\"DOM\",\"type\":\"node\",\"instanceArgs\":{\"namespace\":\"html\",\"tag\":\"div\"},\"children\":[{\"props\":{\"setInnerHtml\":\"<img src='data:image\\/png;base64,iVBORw0KGgoAAAANSUhEUgAAAHAAAABwCAAAAADji6uXAAAABGdBTUEAALGPC\\/xhBQAAACBjSFJNAAB6JgAAgIQAAPoAAACA6AAAdTAAAOpgAAA6mAAAF3CculE8AAAAAmJLR0QA\\/4ePzL8AAAIxSURBVGje7dlLiEhRGAfw32gmo0YyeU1qNh7ZWLA0MyujlLKwUsOCYutRXrGwEk1SFKVsMEpC5LVQyiysLEgps5FSKBZSRIzFd6cmM+bOo8xxOv+63XPv\\/c759+\\/fPef7zqGgoKCgoKCg4P9Hw2Q6dVT3bhzAQ9zEI7yu6TvjXyvMn7DWwybMwTfsxWaswOAoA53AodQU5k\\/YWBdwDtvwBu2jfO9HV8oK8ycc08NT2C7+uXYMiLlzoHq3E6ur2Gd4kKLC\\/AnH9PD9sHY\\/evC2ej6KLWjFK6z\\/Iz4ZhfkT1q6Hg9V1Fs1YLubOQbzENeFnsgrzJ6z1sAs3xP82hF5cFx5+SV1h\\/oS1OU0\\/nmLdsHdzMc\\/E\\/ZsWhfkTjqs+nIWN2IROtOGnyGOO4y6+pqowf8IJ1\\/gLsQYXRN1IzKsXcSdFhfkTTmqfZgjdon5cUg10GMdSU5g\\/4ZQ8hPnYiiNoET6exK9UFOZPOGUPh9CBx1V7AT6mojB\\/whEeNoo6cKI5ZxNeYCn24HQqCvMnHFFb9GCfWNeuTGCgHyJXhZkpKcyfcISHt7Afl8UZRa+oEeuwTNQcDfiQksL8CUddD1twFWvxScyN9\\/H5L4M043YV\\/x2Lq35JKMyfcMycphOXxJnFO+zAvWHf28T+zS6sEnuoZ7A7JYX5E9bmpS3Cy\\/NYhD4xV64Utf7sKu45Doqz\\/O8pKcyfcNy1Ras4vye82lC1+8Se+BPl7GmaCAsKCgoKpo7f0+RXWkyT8hEAAAAASUVORK5CYII='><\\/img>\"},\"nodeType\":\"DOM\",\"type\":\"node\",\"instanceArgs\":{\"namespace\":\"html\",\"tag\":\"div\"},\"children\":[]},\"True: 3, pred: 5\"]},{\"props\":{\"style\":{\"display\":\"flex\",\"flex-direction\":\"column\"}},\"nodeType\":\"DOM\",\"type\":\"node\",\"instanceArgs\":{\"namespace\":\"html\",\"tag\":\"div\"},\"children\":[{\"props\":{\"setInnerHtml\":\"<img src='data:image\\/png;base64,iVBORw0KGgoAAAANSUhEUgAAAHAAAABwCAAAAADji6uXAAAABGdBTUEAALGPC\\/xhBQAAACBjSFJNAAB6JgAAgIQAAPoAAACA6AAAdTAAAOpgAAA6mAAAF3CculE8AAAAAmJLR0QA\\/4ePzL8AAAIBSURBVGje7dlPiI5BAMfxDzab2Cism3JAiTiII3vgKEeSUg7sTSiFi8Me\\/C1chIuTFOLgb\\/bkYlMuEkXSbim3daC9sA7zbB6P1z7P+yrmneZ7eZ5n5pn59evXzPPMDJlMJpPJZDLdz4xOGu3BWhzAJIZxGo8btJ35rx2mL9hWhpexHQswq1I3gWc4gwcxOUxfsDbDubiIjVhZaTCBJ1he1MErbMGnWBymLzhthqtwSJg7y7zEBSGvESzFNSHnXmzDvVgcpi\\/Y86eK9biPhaWy9xjCHYyXykcxgHdYVmnz3x2mL9hyHM4Wvn27i+dxHMVVfJums1PCuH2N1bE4TF+w5Tjc5Wd+13EOLxp0NhKjw\\/QFe+peuK1ZftE6TF+wZYY3sAb9GOt2h+kLtszwKw520NmKGB2mL1g7l7bD3uL6MSaH6Qt2lOESDApr+zL9xfV8TA7TF2wrw14cwz4s6haH6Qs2znAAj\\/y+T1plVFjrR+MwfcFGe95bcVdY+8NNnMRbbCrqptiMpzE5TF+wdhzOE\\/5Rp\\/IbwxF8wBzsL737EM9jc5i+YG2G8\\/26b7YDn7ETh7GuKD+LK8JZRlQO0xdsNJeewPHifhh92FA8T+KNcGbxJUaH6Qs2yrBP+PYtrpR\\/F\\/bBB2N2mL5gW+f4t4RzfMI6fgiXYneYvmAmk8lk\\/p4fUFlH3qnLN6kAAAAASUVORK5CYII='><\\/img>\"},\"nodeType\":\"DOM\",\"type\":\"node\",\"instanceArgs\":{\"namespace\":\"html\",\"tag\":\"div\"},\"children\":[]},\"True: 2, pred: 0\"]}]}]},\n",
       "            window,\n",
       "        );\n",
       "    } else {\n",
       "        document\n",
       "            .querySelector('[data-webio-mountpoint=\"4616019585510055052\"]')\n",
       "            .innerHTML = '<strong>WebIO not detected.</strong>';\n",
       "    }\n",
       "    </script>\n",
       "</div>\n"
      ],
      "text/plain": [
       "(div { style=Dict(\"display\"=>\"flex\",\"flex-direction\"=>\"column\") }\n",
       "  (div { style=Dict(\"display\"=>\"flex\",\"flex-direction\"=>\"row\") }\n",
       "    (div { style=Dict(\"display\"=>\"flex\",\"flex-direction\"=>\"column\") }\n",
       "      (div { setInnerHtml=\"<img src='data:image/png;base64,iVBORw0KGgoAAAANSUhEUgAAAHAAAABwCAAAAADji6uXAAAABGdBTUEAALGPC/xhBQAAACBjSFJNAAB6JgAAgIQAAPoAAACA6AAAdTAAAOpgAAA6mAAAF3CculE8AAAAAmJLR0QA/4ePzL8AAAFISURBVGje7dmvSwRBGMbxjz8Qi8VrGjSZ/Q/UJGbBP8FiMZmsdtHgXyFWTcYrgs1iEBG0HFi0nZzhRjwEYZcBnRvep8zOy858efbhhd1ZQqFQKBQKhcZfE7kb3OMAFw3vn/xrh/UDp3M3GGBNZPiPwFYZdrCLE7yPi8P6ga0ynMcRbnE5Lg4DGMDyga36cCONiyO1lx/z4hzWD2yV4UoaeyO1a+yV7LB+YOMMZ7GND7yOk8P6gY0zPMQS+tjCaqrv4Kpkh/UDG3/j9wzfS0cXDtL1CfZLdVg/sHEffoXdxTGe0/xcu8Oe+h9puRne4NTwu7CfasuY8d2PRTqsH9g4w81fFk+V7rB+YNZ5aQdzpTsMYADLB2b14UIauyU7rB+YleF6Gh9KdhjAAJYPzP4H/IS7kh3WD8zK8BFneCvZYf3AUCgUCuXrE2dRIn9uBsfWAAAAAElFTkSuQmCC'></img>\" })\n",
       "      \"True: 4, pred: 9\")\n",
       "    (div { style=Dict(\"display\"=>\"flex\",\"flex-direction\"=>\"column\") }\n",
       "      (div { setInnerHtml=\"<img src='data:image/png;base64,iVBORw0KGgoAAAANSUhEUgAAAHAAAABwCAAAAADji6uXAAAABGdBTUEAALGPC/xhBQAAACBjSFJNAAB6JgAAgIQAAPoAAACA6AAAdTAAAOpgAAA6mAAAF3CculE8AAAAAmJLR0QA/4ePzL8AAAHESURBVGje7dm/a1RBFMXxjxq1cP8BhaiFNjGFjY1lIGWKgKKFCHbBKqDBgJ0IYqGBFFapEyGoIFhoFWwEUbARLLUykCagEVH8UcwrNkbYNyu4s5c5zQy8N5z9crj3zcxSVVVVVVVVtetfFs/gHs7gYcs1u/83YXzDkX4XXsYifuFTyYTxDfuqw9NYw3dcxIOSCeMbZtfhGFaa+by8/AZCGN8wqw6P4jkO4orUS4snjG/Yug5HcAeHsGB7fnvwU/o2FkcY37B1hrOYxn3M/fGLV/AMSyUSxjds1UuPSD10E+fwruvZYbzHW5zC19II4xu2qsNrGMVd2/Pbi5vNfF3v/AZCGN+wZ4bHcAlP7NzDjOJCM39cKmF8w54ZTmG/vzfds13z1VIJ4xv2/B6O4Y0U9iPcwiscx2t0pL3MjLQ3LY4wvmGrPc113Ghe3sRL6a6mgx9ST10vlTC+Yesz/nnclvLq1homSiaMb5h1T7NPOs+fkGpxC+P4UDJhfMOs+9Jvzdhpxo/y8hsIYXzDvv57utqMT4eBML5hdoYnMTlMhPENszM8IN3PfMbyMBDGN8zOcANfpLPhi2EgjG9YVVVVVVVVxW9aRjx8x3/aoAAAAABJRU5ErkJggg=='></img>\" })\n",
       "      \"True: 4, pred: 9\")\n",
       "    (div { style=Dict(\"display\"=>\"flex\",\"flex-direction\"=>\"column\") }\n",
       "      (div { setInnerHtml=\"<img src='data:image/png;base64,iVBORw0KGgoAAAANSUhEUgAAAHAAAABwCAAAAADji6uXAAAABGdBTUEAALGPC/xhBQAAACBjSFJNAAB6JgAAgIQAAPoAAACA6AAAdTAAAOpgAAA6mAAAF3CculE8AAAAAmJLR0QA/4ePzL8AAAGaSURBVGje7dkxaxRBHIbxn3JJSNJYCIJypJAIEUxlIdgFIV2KNNdo6QcQIYlYBGzUfAWx9zOkEFMZsBBsQgpFIU2aw0CI2kiKueIK986VxZv9M29z3MwsD8+97O7NLiUlJSUlJSUlJSWTz4VxCx6jh9uDxZ/wCG//EXjxfxvGB3aqJqbwCqt4jXXcwQs8UDrMCFh5Hs7hFEs4HBrfks7DK20xjA+s7HAGX3AL/aHxLr5hBe/aYBgfWHkt/YV7OKuYX2iLYXxgZ9TkwR/GZtpmGB/YqXtAb/D5tS2G8YG1O7yM99hri2F8YK0Ob+A+nrfJMD5w7B5/OLvS/5yP+I4T7GA/Z8P4wFodnuEYnwcHzkr7/iPclPaT2RnGB9bq8JrU08ng+xSuYgN38RAfcjOMD6zV4ag8lbpclp4BZGMYH9hYh6T75C42czKMD2y0wyfYxiX8zMUwPrDRDhel5+Pz+JGLYXxg7T3+qPT/Yk38n7TdHa7laBgf2FiH09I7/5fSO49sDOMDG+mwi2e4jjf4nZNhfGBJScnkcw4CdzEHbgJ9zgAAAABJRU5ErkJggg=='></img>\" })\n",
       "      \"True: 3, pred: 5\")\n",
       "    (div { style=Dict(\"display\"=>\"flex\",\"flex-direction\"=>\"column\") }\n",
       "      (div { setInnerHtml=\"<img src='data:image/png;base64,iVBORw0KGgoAAAANSUhEUgAAAHAAAABwCAAAAADji6uXAAAABGdBTUEAALGPC/xhBQAAACBjSFJNAAB6JgAAgIQAAPoAAACA6AAAdTAAAOpgAAA6mAAAF3CculE8AAAAAmJLR0QA/4ePzL8AAAIESURBVGje7dnNi45RHMbxj/FEFiz1GHmZTGaMbCzszEY2bJQUUtjM8C9MISllw0LGRqbYURMbZSOxs/faeMliMkkppbxMWZzz1ERzP0dqnDmdq57Oc9+/X+fq6tt9d59+VFVVVVVVVVUtfi1JbezFCRzCpnhvAg9wCz8S9+lZ6ITlG3Zl2IPDGMPAPD0vsBvTOSYs37ArwxFcjf+/4AZex+t+jGKp8CwewWxuCcs3bGR4EKcwiFfYg7e/9RzAJaxBH97nlrB8w1ZTcafAbwZ7/ckPbuO0wDDLhOUbtlKabuLNYk1YvmESw5ku9UkMYb/wXs0qYfmGSQxHcLGhvjWuW3JMWL5hEsNeDOPRPPWBlE3+V8LyDRsZTmAf2riMK3gZa33CuRE2xLWNZfieU8LyDbueD8dw7i82XIsPOSUs37Arw+XYhZPCmX4KO2LtCa5hG87Ge5VhXu9S+IZ78dcW+PTH2lRcV8zpH1QZLrCSvmk66rCZaugZwsOcEpZv2MhwNR7jLsbxLmHDydwSlm/YyPATruM8VuKCNI5ZJSzfsJHhrPDNckw45w8L54tp3JnTtz2uz/E1t4TlGybNgNfjPjbH65/CHKqjVcL8aVRgnlXC8g2T5/jrhPPD0XnqT4Xn9HNuCcs3TGbYaW4Js96NOC7MM57hDD7mmLB8w6qqqqqqf9cvbGBJ9wNT5ZMAAAAASUVORK5CYII='></img>\" })\n",
       "      \"True: 9, pred: 8\")\n",
       "    (div { style=Dict(\"display\"=>\"flex\",\"flex-direction\"=>\"column\") }\n",
       "      (div { setInnerHtml=\"<img src='data:image/png;base64,iVBORw0KGgoAAAANSUhEUgAAAHAAAABwCAAAAADji6uXAAAABGdBTUEAALGPC/xhBQAAACBjSFJNAAB6JgAAgIQAAPoAAACA6AAAdTAAAOpgAAA6mAAAF3CculE8AAAAAmJLR0QA/4ePzL8AAAHVSURBVGje7djNi81RHMfxF5k8LS6GMR53Y2UhzR+APMtalIVI2VFSFv4BSaTGzobFKGWjRknKWgYrK5LkYUHRJCMPi3PKVfdy595pHN/OZ/U9v98933efPn075/6oqqr615rVy+YFGMUzHO9wz+yZdhgf2FOG6/AUn7EaH0p0GB84ZzqavMNkqQ7jA6clwzFMlOowPrCnDI9J83ehZIfxgV2fh2vxCD/QX7LD+MCu53ArFuF06Q7jA7uawwHcRwMb8LZkh/GBXc3hLul/xQ0pv/m50acSHcYHTjnDhTiY67O5wSiWYzfel+YwPnDKGZ7AFtzDA2zH3vxujZph6Rmux9FcX8FSXMrr13hTosP4wI4y7MNOXMbK/OwmdmAor7/lZnPxpSSH8YF/vZc2pLw2ddjwJY7gTikO4wP/OIcNnPMrv4m8/oj9GG6x5ys2qhnOoNrOYR9GcLjp2Umcxzy8wmLpO80T3MUtPJQyLsZhfGDbORzye37XcDHX+7BEyu829pTsMD6wbYanmurnOCPdW2CZlN9VHCrdYXxgywz7sTnXkziAF03vV0l3z+v4XrrD+MCW5+EgHkvztk0665q1Iv9m/H9wGB9YVVVVVVVVVVVVVYJ+ArloQ6c+E04CAAAAAElFTkSuQmCC'></img>\" })\n",
       "      \"True: 4, pred: 6\")\n",
       "    (div { style=Dict(\"display\"=>\"flex\",\"flex-direction\"=>\"column\") }\n",
       "      (div { setInnerHtml=\"<img src='data:image/png;base64,iVBORw0KGgoAAAANSUhEUgAAAHAAAABwCAAAAADji6uXAAAABGdBTUEAALGPC/xhBQAAACBjSFJNAAB6JgAAgIQAAPoAAACA6AAAdTAAAOpgAAA6mAAAF3CculE8AAAAAmJLR0QA/4ePzL8AAAGsSURBVGje7dkxaxRBHIbxX0RBiRoECyFGgoohVppPIJiksrAIVjYBsRO/QBoRtLEMgrWFhVYStBMC2gmGNIGU9iGF2KhHLGbAFCG3uwFv9s+8cOwwt8PDy8MM7C41NTU1NTU1Nf3P2FEWr2MPt1qsOfa/G8YHHu+68ApuYqf0hvGBnR3O4ozqsABgJ4fjeCmdo2ulN4wP7OTwES7m8bvSG8YHtnI4hgd4tm+unqUjB7ZyOINXefwdl/rQMD6wscMb+JrHs/jSl4bxgY0cXsd7DDCHbelc3cq/ohvGBw51OImPOIf72MRdTOC55PWgLOAEPoy6YXzgUIfLmMITvM1zK/iNNwfcfw9XcRuvS2gYHzjU4cl8fYjFPJ7DD2lf/pT23Pn83zXs4oV/zkfaMD5w6PvSs5K7O9Lemszzf/bdsy09969Lrn+V1DA+sNU771PSvlvDksNdFdMwPrDV8+HjfF3Vzd9IGsYHtnI4n6+f+tQwPrCxw9O4LD1nDJouKqFhfGBjh+OYxlPpe0VvGsYHtjpLB/jWt4bxgY0dXsBnbPStYXxgTU1NTc3R8xeQYTS0fp8k3AAAAABJRU5ErkJggg=='></img>\" })\n",
       "      \"True: 4, pred: 1\")\n",
       "    (div { style=Dict(\"display\"=>\"flex\",\"flex-direction\"=>\"column\") }\n",
       "      (div { setInnerHtml=\"<img src='data:image/png;base64,iVBORw0KGgoAAAANSUhEUgAAAHAAAABwCAAAAADji6uXAAAABGdBTUEAALGPC/xhBQAAACBjSFJNAAB6JgAAgIQAAPoAAACA6AAAdTAAAOpgAAA6mAAAF3CculE8AAAAAmJLR0QA/4ePzL8AAAF7SURBVGje7dmxSxthHMbxT9RJHURRdBA6dZaKq5tjHLJ1l4COri7d/CeaUXAoLYUunSsigv+BsyDi4FIwauvwnrg45G4w7/14v0uS4y7fPHn4Xe7eUCgUCoVCoVAojJ9OnZ030MdHXOI7znFT4z0m3jthfOHIHa7gDKt4wmS1/QL7+JNrwvjCqVF3/IdZ3OEz5nCIdWwrHY5ROHKH1zhBF484rl7vYg+n+JFjwvjCkTuEI6nDAb5I8/cJM5jONWF8Ya0O/+K/9Js4qLbdY0fqN8uE8YW1rkuhhzUcVAefYDPnhPGFtTt8YSgNcR9fc04YX1jrXPoWD7knjC9s1OGC1wG+zT1hfGGjDrvSPf4Qv3JPGF/YqMPl6nHQ4Nj4X2n+HS5I1zHwrQ0J4wtrd7iED9XzuzYkjC9sdC7tSPf6rUgYX9iow6b9jSVhfGGZw/YLyxy2X1h7rW0ev6X/De+l9dKtnBPGFzZaL13EVfVpe/iZc8L4wkKhMH6eAZcsLt4BbLtrAAAAAElFTkSuQmCC'></img>\" })\n",
       "      \"True: 9, pred: 7\")\n",
       "    (div { style=Dict(\"display\"=>\"flex\",\"flex-direction\"=>\"column\") }\n",
       "      (div { setInnerHtml=\"<img src='data:image/png;base64,iVBORw0KGgoAAAANSUhEUgAAAHAAAABwCAAAAADji6uXAAAABGdBTUEAALGPC/xhBQAAACBjSFJNAAB6JgAAgIQAAPoAAACA6AAAdTAAAOpgAAA6mAAAF3CculE8AAAAAmJLR0QA/4ePzL8AAAHISURBVGje7dgvaFZRHMbxz+ZQ54oIom3JKZoEDVoMgsUlF4QJQzDMpMEgiqDC1qz+AYMaDJYVLYIgCgZxYZoMlm1FBBGLYnoN54SXF9zO3uDO++M85Zx77+/e7314+N17z6Wpqampqampqalp8zVUWrgT+zCdty+j03X8K45jeZ3rDP9vh/GBIyVF53Ad+7v2dfARW3EAe7BXy7DGDKfxAKP4gQUpu7dSXiNYxfZc+742h/GBaz5Ld+A5tmAO7/C7p2YU3/J4ItdU5TA+cM0+/IWT61zgipTfF3yu0WF8YNH78F86iqt5fh/fa3QYH9h3hsM4JfXgT7yu1WF8YN8ZXsDtPL+GT7U6jA/sO8PJPK7gSc0O4wP7yvCwlGEHd/CnZofxgRvOcAy38p2+wr3aHcYHbjjD8zgtrTseDYLD+MDi/6Wk/6WLUi/O4+YgOIwPLO7DIen7cyxvvxgUh/GBxRlOYSbPH+PDoDiMDyzOcKJrPt9z7Cye1eowPrA4wyN5nJPWhNtwBjdwqWaH8YHFGR7L4y4cxFOMSz35pmaH8YHF36V3Mdtz4kNcrN1hfGBxhrulNf0hLEn991JaJ1btMD6wqalp8/UXWic59rph5xUAAAAASUVORK5CYII='></img>\" })\n",
       "      \"True: 2, pred: 7\"))\n",
       "  (div { style=Dict(\"display\"=>\"flex\",\"flex-direction\"=>\"row\") }\n",
       "    (div { style=Dict(\"display\"=>\"flex\",\"flex-direction\"=>\"column\") }\n",
       "      (div { setInnerHtml=\"<img src='data:image/png;base64,iVBORw0KGgoAAAANSUhEUgAAAHAAAABwCAAAAADji6uXAAAABGdBTUEAALGPC/xhBQAAACBjSFJNAAB6JgAAgIQAAPoAAACA6AAAdTAAAOpgAAA6mAAAF3CculE8AAAAAmJLR0QA/4ePzL8AAAGnSURBVGje7dkxS5ZRGIfxn2EuWZDgEM0Nbo5uEhQugpNRQ9GaQ0QfwhKEhqIP0CJiDQ6CSDQ0RDRIEUW6CJFDQUGmglHUcBrEnt7zilHnPdzX9MB94OLPzXMO9zkEQRAEB6Urt2AS1zCKR39BeOhfJ6xf2LKHvVjDVcx0asL6hd2tiofRg6VOTli/sDu34Cs+dnLCEIYwhCEMYQjzZM/DHJdwHjfxuMSE9QtbzhbHsYr+P9QH8BQb+IYhvC8tYf3CA/2HY3iDcbzGZUyVlrB+YcsebuAlBvG8oT6OF3iLBzgrelhaD79L9zO3cLqhfkz6D0n9PlliwvqF2b10HjdwFF/21D51QsL6hdkebuIzLuLuntocJnACFzTvt/89Yf3CbA+3cQV3/N7De9j59f2q1IT1C7NvT3BEuvdekN6imrgtzRpnSktYv7Ct2WIL56RZ8CGeNawZw3SJCesXtj0frktn3qz0Jjy/q3ZKugd4UmLC+oVt7aW7GcEilnEfH3Bdep8axo/SEtYv3HcPu6Q7uGlp3ujDO+mcXCkxYf3CIAiCIAiCGvgJGi8+EZ2gQUAAAAAASUVORK5CYII='></img>\" })\n",
       "      \"True: 6, pred: 4\")\n",
       "    (div { style=Dict(\"display\"=>\"flex\",\"flex-direction\"=>\"column\") }\n",
       "      (div { setInnerHtml=\"<img src='data:image/png;base64,iVBORw0KGgoAAAANSUhEUgAAAHAAAABwCAAAAADji6uXAAAABGdBTUEAALGPC/xhBQAAACBjSFJNAAB6JgAAgIQAAPoAAACA6AAAdTAAAOpgAAA6mAAAF3CculE8AAAAAmJLR0QA/4ePzL8AAAGLSURBVGje7dkxSJRhHMfxT2IJhlKrtgpGSJOKNOkgCG6NUSC0FQ3SJLS3NweCi0MNgoEIIrg4SIuDUFMQXIFDCMaJN+TwXsPJRQePeo8P/x8cx8HzvN/78uM5/ve+RCKRSCQSiUQi3c+N1AvM4g3eY7mD9T1XbVg+sDf1277EIxyIDrsEbOlwCsP40OHmB5jP3bB8YEuHD7GIn/iM+n82P26+n2AzV8PygS0drmIaO/iGBnbxBVv4jpt4gjt41dy3jo+5GpYPbDvTPMVrjHV4kSW8zdWwfGDbmWZFdSZ7MYI+jJ9bs4dneJG7YfnAf86ljeZrv/l5r82aietgGMAABjCAl5+k//hreIdbORuWD0y619aPY3zFaK6G5QOTzmFddRbv52xYPjCpwz84zd2wfGBSh39zG3fxK0fD8oHJHR7hHiaxkaNh+cDk54dz+ISaqscj1ZyTjWH5wOQOh1TPDgewjQXVvfFsDMsHJv+W1nCIQczkaFg+8EJmmueqM/gDv3MzLB8YiUS6nzPMyTPreVlz6gAAAABJRU5ErkJggg=='></img>\" })\n",
       "      \"True: 7, pred: 4\")\n",
       "    (div { style=Dict(\"display\"=>\"flex\",\"flex-direction\"=>\"column\") }\n",
       "      (div { setInnerHtml=\"<img src='data:image/png;base64,iVBORw0KGgoAAAANSUhEUgAAAHAAAABwCAAAAADji6uXAAAABGdBTUEAALGPC/xhBQAAACBjSFJNAAB6JgAAgIQAAPoAAACA6AAAdTAAAOpgAAA6mAAAF3CculE8AAAAAmJLR0QA/4ePzL8AAAHFSURBVGje7dhBaI9xHMfx17QtmcVIaouU2ziSXR3ksINobUUhFwdHri7iwNGNg+TgJBdSyMEFpawls9PkQFtorSTk4PD77R9Fbc9T/Pr1fddTT7+eb5/n06fv9/d7HoIgCIIgCIIgCNrT9afFTbiAEbzG5fzgLN63FFz1rx3WL9jJcBQXsRXdWI15bMaP/Gbf8/1t3Mx1z7FQssP6BTsZPpH67pXUa1N4iB4po17swf78/C704xMu4Q5mSnRYv2Anw2FcxzSOL6NwADswhmN4h1N4XJrD+gV/2w8H8A1fllnci23SDD6A+3iAG1J/FuGwfsGupoWjuIL1WJPXFrBOmrePSnFYv2B308LBfMFLDOEsFv09v//isH7Bxn3Yg2vSfngIk5gr0WH9go0zhI04J83VFziKz6U5rF+wVYakYbwPt/AMZ6SeLMZh/YKtM1xiWPpGnMJJfCjFYf2Cjc80v9InffNvwEHsxpZSHNYv2CrDQRyW+m57XvuKeyU5rF+w0SwdwQROSP/blljEaem8WozD+gVXlOER7MU41ua1aTzFG1zFx9Ic1i+4ogz7cR47pf/bd/FWyrFYh/ULBkEQBEEQ1MBPcr1CZ2OlhH4AAAAASUVORK5CYII='></img>\" })\n",
       "      \"True: 3, pred: 7\")\n",
       "    (div { style=Dict(\"display\"=>\"flex\",\"flex-direction\"=>\"column\") }\n",
       "      (div { setInnerHtml=\"<img src='data:image/png;base64,iVBORw0KGgoAAAANSUhEUgAAAHAAAABwCAAAAADji6uXAAAABGdBTUEAALGPC/xhBQAAACBjSFJNAAB6JgAAgIQAAPoAAACA6AAAdTAAAOpgAAA6mAAAF3CculE8AAAAAmJLR0QA/4ePzL8AAAIHSURBVGje7dk/rA1BGAXw3+UpqEiehsJLFPIqJGqFREh0T01oRCL+VBoKIbQKr3iRSEhe6U9Cg1JNQ0FCiBKv0RJ3FbM3d+/ae3cLeTuZzGnu7H4zc+7JyXzfzgwZGRkZGRkZGRkZ/WMwK7gVT3CwfP6Bm7iDBRTl796yXZ20wFN8rc25Yb0Vpk841cPtuI8jDbHP2Fy2twheN3l4DC/6Vpg+4dy0wAHN/sFuk57V8QnX8SYGhekTTl2Hu3AaV6cMalp3o1y7HJPC9AkHbR2O45xxTRwNqnq4jEuxKkyfcK6twyPsMOlhHSeFungmRoXpE7auwwHeYrH2rp5Lvwu593lsCtMn7OTh74Z3TfXwo0mvo1CYPmGrh3ABtyvP77Ai5NmX2IdhGbsof9OsM1rrITzAfszjMZ5hrYwdxjez9xq9KkyfsJOHP4Va14S1LhP0qTB9wk65tA1/jNfhKxyKSWH6hP/Fw8K4HsLGmBSmT9iaSwc4WrZfC2cxdQzletgjYauHZ4V7CjiF1UpsJ07U+q/EpjB9wlYP91TaV0x6eNe/5+IfYlOYPmGnXDoqmttwXjh3W6r96yHumb037EVh+oStHhbGtW5e2OvXz2m+4CGuxagwfcLW79JFYV+/gE2VQQV+Cff0S3gfq8L0CTvvLW7hcmXQDeGud7XrBH0pTJ8wIyOjf/wFiVpQ2QfE0QQAAAAASUVORK5CYII='></img>\" })\n",
       "      \"True: 5, pred: 3\")\n",
       "    (div { style=Dict(\"display\"=>\"flex\",\"flex-direction\"=>\"column\") }\n",
       "      (div { setInnerHtml=\"<img src='data:image/png;base64,iVBORw0KGgoAAAANSUhEUgAAAHAAAABwCAAAAADji6uXAAAABGdBTUEAALGPC/xhBQAAACBjSFJNAAB6JgAAgIQAAPoAAACA6AAAdTAAAOpgAAA6mAAAF3CculE8AAAAAmJLR0QA/4ePzL8AAAH9SURBVGje7dlPiE1hHMbxz/UnC5ksRqMpU5M/SxaGUTYmycZyLDRlIUUWFhZIwkrKhilkoxBrEVEsKE2RUHakKH9Cs5qyMIbFe3Rv0z33HinnnLf3uzqd93fep+c8ved9f/eSSCQSiUQiUX8af1O8H+P/KDjnfzuMX7BQhgtxCoPYVjeH8QvOK1I0iH0YrqPD+AULZXgGr/C9jg7jF+ya4ZasaE3O+HIsxjOMYGPL2EvcKtth/IJdM9yKmVn3+nEju+7BAnxAL1a21H3DO6wv02H8gh0z7BfW324M4T2+4JKQXQMrstrLmIsjLc/34knZDuMX7JjhVWzCRQxgTMhwCtuFDPuy2kdYhlHhDDQf97CrbIfxC+ZmOIx1eI7DOIDJbGw055k3wnfznJD3R3wt22H8grkZ7hH6wmvCeWWs4IR9XWrjf6XV6PGP4SgmsBnTBSc7gUO4IOyLP/GjbIfxC7bNcAa/hD1upOBEJ4U+5LawD05UxWH8gm2/pQ0hw0VYis8dJhjCXuzEJ1zB2yo5jF+w4zqE+9iheZ75w2rhbHoQd/AUD/G4ag7jF2yb4WssEdYhPBB+Lz2t2Q/2CP9h3BXW36RixP9Kq5EhoY+fwgasnTU2jbO4jhdVdxi/YG6Gq4R9bQA3NXt5OI7zdXEYv2AikUgkEolEIlEFfgN/VUz0fYBEXgAAAABJRU5ErkJggg=='></img>\" })\n",
       "      \"True: 6, pred: 0\")\n",
       "    (div { style=Dict(\"display\"=>\"flex\",\"flex-direction\"=>\"column\") }\n",
       "      (div { setInnerHtml=\"<img src='data:image/png;base64,iVBORw0KGgoAAAANSUhEUgAAAHAAAABwCAAAAADji6uXAAAABGdBTUEAALGPC/xhBQAAACBjSFJNAAB6JgAAgIQAAPoAAACA6AAAdTAAAOpgAAA6mAAAF3CculE8AAAAAmJLR0QA/4ePzL8AAAIvSURBVGje7dlNiI1RHAbwH00ZFpKPlBhfNYU0WYiasBgiTT42NlYKs5CdlawpykJWviJsUGIp1mMhGTIZNU1GEbKwkMn4Wpxzm2nGnfveWcx953Seur3nnPd/znOf+3T/57z/l4yMjIyMjIyMjIzGY0atgGYsie0DOIzbuIH5eBdj3hcknDnVCtMnnNDDk9iJ9jHjA3HiQ+zDIjyJ9+7hVpkUpk/4Xw+X4abgXTWTe7AUC2L/S7xeQZ/qPqb/k5bDQ3iKNejHXQzjDg6OiWvDK3wXcu0vzEEr1gu5tqEK0yes6uFqzEJvgUUW4yVeoGPU+BZ0N1ph+oRN1W7017HIKSGndowZb5M9nAI0FQ1sxzNsjP2+2D6HVXFsKCoYxnlcLoPC9AlrPltU8BGfsS72e7E2ti9gP/bgD16XSWH6hIU9vI6taBk18S8G0Ymv+FRGhekTFvYQzghn1c44cRC7hLxaWoXpE9blYQUb8BxH8MDIs2EpFaZPOCkP4beQS6+iq8wK0ycsfC6tYDlOTCeF6RPW5eFcbMJR/BBq3d31LNAIhekTFvZwBR4Jvg3hA37iftkVpk9Y08OFOIZDQo17QNgLW4V98FvZFaZPWPNMsxmPhdppJbgLp7ENb8quMH3CcR7ujtcezBNqnm3Yi9m4JtTRWkxcjymNwvQJx+XSHTiOS8I7+8o3OouLwj7I5PxriML0Ccf9D1fGz4DwXrAZb7HdiH/TSmH6hBkZGY3HP+JiU6pONMnFAAAAAElFTkSuQmCC'></img>\" })\n",
       "      \"True: 3, pred: 7\")\n",
       "    (div { style=Dict(\"display\"=>\"flex\",\"flex-direction\"=>\"column\") }\n",
       "      (div { setInnerHtml=\"<img src='data:image/png;base64,iVBORw0KGgoAAAANSUhEUgAAAHAAAABwCAAAAADji6uXAAAABGdBTUEAALGPC/xhBQAAACBjSFJNAAB6JgAAgIQAAPoAAACA6AAAdTAAAOpgAAA6mAAAF3CculE8AAAAAmJLR0QA/4ePzL8AAAH9SURBVGje7dlNiM5BHAfwDz2oJ+VAROv9wIHaHJSSUspBFHmJg5ObI22Rw8penDg4KA4O20aS8lJIuUhyEFJelpPiIEVbWC+1h5nDk579P/+n1RrTfC/zn/nN/L99+9Y03xkKCgoKCgoKCv5/TKkzaR5OY0/LopcYwDWMdEE4dbIV5k/Y0cN1OINevMfjON4Tx25jL76kqjB/wkoP5+ABluMpNuNjrM3ELpzHKRzBzxQV5k9Y6eEqwbub2NamPhcf4vcSvEtRYf6Ejari9tg+r/GjfTiZosL8CSs9XNBh8Sdcx9aUFeZP2JjI4t/4nrrC/AkrPXwT2504Os6cZ8LZZoeyl/4jwsozTQO3sFHIF/1ChpiG6TiEPswQzjbL8CM1hfkTdsyHiwQfV8T+FSzGUrzAOZyI8w7ibGoK8yesdU8zH2uwO/bv4pWQ938J2XAA97ApNYX5E9bysBN68RD3FQ9TO9PUxRPcEHJ+E19TUpg/4V/xEIaFO4EtuJySwvwJu/KwiVEhF46HtYqHk4zaHm7AYezH5zb1ntheSE1h/oS1PGziKu5o799KIec/wtvUFOZPWMvDbxgU8t9C4d23db88JuT+1bE+nJLC/AlrZ4tZwjvheuE98U+M4gCGUlOYP2HX+XC2cPd2qWXsIo7jdYoK8ycsKCgoKJg4xgDgPUprkYY2eQAAAABJRU5ErkJggg=='></img>\" })\n",
       "      \"True: 9, pred: 3\")\n",
       "    (div { style=Dict(\"display\"=>\"flex\",\"flex-direction\"=>\"column\") }\n",
       "      (div { setInnerHtml=\"<img src='data:image/png;base64,iVBORw0KGgoAAAANSUhEUgAAAHAAAABwCAAAAADji6uXAAAABGdBTUEAALGPC/xhBQAAACBjSFJNAAB6JgAAgIQAAPoAAACA6AAAdTAAAOpgAAA6mAAAF3CculE8AAAAAmJLR0QA/4ePzL8AAAIWSURBVGje7dhPiI1RGAbwH2Mld8hKKCt2N//WNlZKUmwoqYkSCStjRRILIiyIQpRkaWMjf8piajZINlgSVtRMI8pci3Nv39zP/Wa+a0rH6Ty7+97z3ud77vO973nPISMjIyNjtpgzm+T1eIRv2IS3NXLm/muF6RP+lYfzcQ2bMdiOvcHqGBWmTziv34QmbmKt8AK02vFnsSpMn7AvD5fisOBfGUMYxd3YFKZP2FcvvYwDpeRWac0lvMKdWBSmT1jbw878srD0tJM9FNzHjlgUpk9Yu5ceFOaXTt29xFZhjjmCje34pDDrDOFWDArTJ6zt4W6Ff6PYjk/4iK8KD2ECX2JRmD5h33Mp3MB3NLAIe0rfP8HDWBSmT1h7P/ylqMMxvMc4NvT4wV24F4vC9Alr1eF53fPLINbpPdNsw4OYFKZPOGMdXsVOoW+2eiSXYzO9FOn/pXF52MRjLFb4NYZhrMAxf3p4DifwMxaF6RNOWzb7Bf86GMFxPG1/bmAfBqasOSr4fCYWhekTVnq4BltKsSsK/+CQcEZcVlrXjElh+oSVHq4S7kc7eKE4LzSwFxf0vqd5HpPC9AkrPWzp3utW4pRQdwNYIvhX3g+X43NMCtMnrH3GX6D7vruMHzgp3NtEpTB9wkoPR/BOqL8qfFD00us4G6PC9AmnPVsM4/SUhZ2+eRuvcfF/UJg+YUZGRkZGRkZGCvgNbipUXTFMqz0AAAAASUVORK5CYII='></img>\" })\n",
       "      \"True: 8, pred: 0\"))\n",
       "  (div { style=Dict(\"display\"=>\"flex\",\"flex-direction\"=>\"row\") }\n",
       "    (div { style=Dict(\"display\"=>\"flex\",\"flex-direction\"=>\"column\") }\n",
       "      (div { setInnerHtml=\"<img src='data:image/png;base64,iVBORw0KGgoAAAANSUhEUgAAAHAAAABwCAAAAADji6uXAAAABGdBTUEAALGPC/xhBQAAACBjSFJNAAB6JgAAgIQAAPoAAACA6AAAdTAAAOpgAAA6mAAAF3CculE8AAAAAmJLR0QA/4ePzL8AAAGiSURBVGje7dm/S1VhHMfxlz9IJwUX5xY3hyBxCodWcTDCIRxCcCghWpzFOXJzSmjJrX+gf6Ch1kLbdClwEtQKIR2ecyAuxOmcC/rcL88bHu7h3nN487kfnsPznEOhUCgUCoXC4DPUdMIa3uAn9rGHj30Ih286YXzhaNMJv3Ailf0UT/ABK9Vv2SeML2ychzV3sI4lPJR6fIyz3BPGF/53hzVTeI8FrOJd7gnjC1t3WPMHXzCbe8L4ws4d/sAEnuEljqT7bHYJ4wsb1zT/4gj38RqT0rzMMmF8YecO53Al9Qefc00YX9i5w15Oc00YX9jY4Uw1jrEs7St62cV2rgnjCxs7fCA9p7nq+b5eDG3iVc4J4wsb16VzeCR1OINvGMcLnGMeX3NOGF/YOA8/VeNvtqrPC+36u5WE8YWt1zRjWKyO2z6juZWE8YWtO7yLe9Xx70FIGF/YaW8xVI23g5AwvrBTh/UadRaHuSeML+xrjz/Z4Zr4f2l+e4teRrCDDWldeiC9hzrPNWF8Yaf3FtP4Lt1T9/Acl7kmjC8sFAqFQv9cA27hNJuH4MmbAAAAAElFTkSuQmCC'></img>\" })\n",
       "      \"True: 7, pred: 1\")\n",
       "    (div { style=Dict(\"display\"=>\"flex\",\"flex-direction\"=>\"column\") }\n",
       "      (div { setInnerHtml=\"<img src='data:image/png;base64,iVBORw0KGgoAAAANSUhEUgAAAHAAAABwCAAAAADji6uXAAAABGdBTUEAALGPC/xhBQAAACBjSFJNAAB6JgAAgIQAAPoAAACA6AAAdTAAAOpgAAA6mAAAF3CculE8AAAAAmJLR0QA/4ePzL8AAAG+SURBVGje7dmtb1VBEAXwXwEFEmopkgeOgCIEJDhagQIHtU3A0DYooPwLBEf4UFAkGnAVSKhsQFFedRWviLk3ISS8d98laTeTPWbFvbsnZ09mZneWioqKioqKipm+E0dYbxb4ggcd5x3ab4X5CXt7+At7zQJ7uCE8LU5hfsLeHi424yMcx2dcKFFhfsIjfSc+a8ZzuF2ywvyEvT38EzP4VKrC/IT/7eG8qIfvSlWYn7B3PWzxFHdwuFSF+Ql7x+EslkUcfi1ZYX7CqT2cw0/cxBJ2cblkhfkJp/ZwA3dxX9TBNWyWrDA/4VT1cAFvRO4cNOPZ0hXmJ+wUhwPhXxt7b3EG17GKxyUrzE840cM50YuZx0ecwmscE3H4EFt4VarC/IQTc+kHXMQOruEbhjjafD+NFeFr7ZceCOFYD2fxQ8TflQkLbeOq6JsWpTA/4dhcOk0P5paokdXDsjwcihy6iO/+nSsXxDlnhJelKcxPONbDdZwU7xLPRe1b++ufVXFeHel2Ps2/pWXVwxYDvMd5EZstXghfT+CeeqY5IMLOd/xL4i7RejgQPZsn4i1x2HGd/Fu674QVFRUVFRUV/AY6rUWs0ATO6wAAAABJRU5ErkJggg=='></img>\" })\n",
       "      \"True: 8, pred: 3\")\n",
       "    (div { style=Dict(\"display\"=>\"flex\",\"flex-direction\"=>\"column\") }\n",
       "      (div { setInnerHtml=\"<img src='data:image/png;base64,iVBORw0KGgoAAAANSUhEUgAAAHAAAABwCAAAAADji6uXAAAABGdBTUEAALGPC/xhBQAAACBjSFJNAAB6JgAAgIQAAPoAAACA6AAAdTAAAOpgAAA6mAAAF3CculE8AAAAAmJLR0QA/4ePzL8AAAH2SURBVGje7dkvbFNRFAbwH2RqSChBgRy1DE2Q4NZqkCQgQTLJMhRL5kgql+AoDs8fhcGxYYtks0yxIs4ljwKPtmvCe725n2nv7X3ve1+/nHvuOY+CgoKCgoKCguXHmVkXnsNV3EvjDjYwSOMXeDvDfc7+b4X5E071cFN4tYq1dMH4L58fcRuHbVOYP+FK3Q938AwXcZKe7BNGeJXWDIWHH7COy4qHbfLwAs7jeRoPcIBvv63rprXjtirMn3DmfFiHdRGHR7gu4rRVCvMnXFn0Bj0RgyUOGyNc2MOuCOaRyRi8IvbYEb42qTB/woX30u8iBnfxOc31cE3k0y94pDoH5f+XLpeHm3jiz1pjH8fiHPs0jRtTmD/hqffSPVE3/syF74RXdefXxhTmTzhXHPaxZbLWP8Zd1V7ZOoX5E84Uh32R4zZEv2aY5sbp+6z+NaIwf8J/etgR+a4n+qVDVX47SWvet11h/oS1HnbxWvTP9nFfFW9dVR4ctl1h/oS1Hr4U/j0QPv3aB30s8uG26f3RxhXmT1jr4ZqIs0OTPvVV59F58mBjCvMnrD2X3hBe3VL5NcBOmt8VtXvrFeZPOLW2WBXvfvdE36UjPL1k/n20EYX5E85VH+7gId7g5rIozJ9wrj7NgagpTpMHG1OYP2FBQUFBweL4AfEPW8iSHd5MAAAAAElFTkSuQmCC'></img>\" })\n",
       "      \"True: 2, pred: 7\")\n",
       "    (div { style=Dict(\"display\"=>\"flex\",\"flex-direction\"=>\"column\") }\n",
       "      (div { setInnerHtml=\"<img src='data:image/png;base64,iVBORw0KGgoAAAANSUhEUgAAAHAAAABwCAAAAADji6uXAAAABGdBTUEAALGPC/xhBQAAACBjSFJNAAB6JgAAgIQAAPoAAACA6AAAdTAAAOpgAAA6mAAAF3CculE8AAAAAmJLR0QA/4ePzL8AAAINSURBVGje7dlNiEhRGMbxH82ESaIpamrKEjVKLJRiMdJsqaGwUGZnYTMS+UhZWtjLlMaCkmQxxUKMsrAwC6UsfBVlUjL5LmHx3slgdO/djNPpPKtzzz3dp6d/5+u9FBUVFRUVFc1rM7gTPRjCXozjJJ63+Mb8uU6Yv2EjhguxAmPorfruYhteYAtepZowf8OOugGDOCY4nsZo1d+JO9iI5QrD/2hYy3ASZwS7IZzAORwS/JJPmL9hq/1wF0aw6I/+9ZhINWH+hrXzcKYuC34jM/o+4mvKCfM3bMUQ7uMDFlfPt/Eo5YT5G7ZaS6ELN7Cpep6s2k9TTZi/Yet5uFUwe4+XWI0jOIhPKSbM37AVwzUYrtrDuIqL2I83OJpiwvwNW62ll7ATU+jHA3TjHpaKu+R4agnzN2zMsF+cSzuwD9dmvBvEeXzBWrxOKWH+ho0Y9uAhlom5t2GWMVewAwO4mVLC/A0b7YfrBL8pUaeZTdMMD4ta6udUEuZvWMuwS9TViJr3WM34XixQGM6hahkex+aqff0fY1b6NT/P4l1KCfM3rGW4RGyaT/zNcLvYKw9gFR6Ls2tSCfM3bLQf/hBzbUDcI3ZjjziDTn9gVPyjeptawvwNa8+l3biFPlHb/u73/xajomZ6oXqXXML8DRvdLTrEutkn7oITOIVn+KYZu/+WMH/DoqKioqKiIn4CFHhRv0uxxioAAAAASUVORK5CYII='></img>\" })\n",
       "      \"True: 8, pred: 3\")\n",
       "    (div { style=Dict(\"display\"=>\"flex\",\"flex-direction\"=>\"column\") }\n",
       "      (div { setInnerHtml=\"<img src='data:image/png;base64,iVBORw0KGgoAAAANSUhEUgAAAHAAAABwCAAAAADji6uXAAAABGdBTUEAALGPC/xhBQAAACBjSFJNAAB6JgAAgIQAAPoAAACA6AAAdTAAAOpgAAA6mAAAF3CculE8AAAAAmJLR0QA/4ePzL8AAAHiSURBVGje7dm5ixRBGMbhZ3XWYzVTwWNAxEzFzCMQTURMDFRQMRAxEPwPBNfIAzZSUERQMTExMPACjURQzI0EDdRgE0ETL/AMqhZWmemd3RGp+agfDN1TXcU777xU19fVVCqVSqVSqVQqlUr/DPXSaSmOYCWO5rbPOI1beIWfPQrO+t8O4ws2ZrgMF7ERyxv6ncTZUh3GFxzq1ngA57AE3/ASd3Al95kvZbcfP7ALD0t0GF+w1alxB27gNc7gQpfBl6QMZ2OkVIfxBTtmOBdXcRwfugxcg635/CvGS3UYX7CnmmZy5xHswxgW5fY9uF2qw/iCrak6rMMw9kp16cFJ1z7hFO6X7DC+YOM83IYHmNPh2heM4nzpDuMLNs7Dd/mz4K8BC6W6dAyrcAIfS3UYX3Ba6yEsxk4cw+bc9gS78b5Eh/EFp53hBMM4jMv5+01/rpXFOIwvOOMMSffVDXiUf/l6vCjNYXzBKevSJr7jGd5iNdpqhoM2Dyc4hOt4jO2a97/j/6WDmWEbb/L5PGl/tRiH8QX7updOsCIfx/GrNIfxBf9JhqP5eFdaI4tyGF+w7ww3Se854GmJDuML9pXhWun5sIV70vvF4hzGF5xxTXNNqkHb0t73Fjwv0WF8wcrg8xvr4T1nBj1kIAAAAABJRU5ErkJggg=='></img>\" })\n",
       "      \"True: 3, pred: 9\")\n",
       "    (div { style=Dict(\"display\"=>\"flex\",\"flex-direction\"=>\"column\") }\n",
       "      (div { setInnerHtml=\"<img src='data:image/png;base64,iVBORw0KGgoAAAANSUhEUgAAAHAAAABwCAAAAADji6uXAAAABGdBTUEAALGPC/xhBQAAACBjSFJNAAB6JgAAgIQAAPoAAACA6AAAdTAAAOpgAAA6mAAAF3CculE8AAAAAmJLR0QA/4ePzL8AAAFUSURBVGje7dktSwRRGMXxny8YtZlEi8VgMWrUYlMEu5gWrAa/gsHkSxB8+QRaRItJDCajoF1EQRCDYFDDjrBq2J1ZcHYuz4GBexke/hwOz5175xIKhUKhdtVVpGgPSzjGfM7a7v92mD6wt0jRR/Z8VsFhAAMYwAAGMIABDGAAqwDMvS8dwXCVHKYPzJ3hDKaxjqsqOEwfWOh8CPu4rYLD9IG5MlzELpYVy68Uh+kDc2W4pdi/mVIdBjCAnQ9suQ+H0POrcLRhvoML1LL5Cx7U97DP6MNqGQ7TB7ac4SYGsvEU+rHR8P4JdzjK5pc4xBrOMIiJMhymD2zp7mkW2/6eC6/Vv5HwiJNOdJg+sKU+HPczv1cs4Ab3ne4wfWDTDOcwlo1P8a7ee+dVcZg+sOla+n3Xe4AVvFXNYfrApn1Yw6T6nrLd/EpxmD4wFAqFQqFQKAV9AXVzKhL/dVZXAAAAAElFTkSuQmCC'></img>\" })\n",
       "      \"True: 2, pred: 6\")\n",
       "    (div { style=Dict(\"display\"=>\"flex\",\"flex-direction\"=>\"column\") }\n",
       "      (div { setInnerHtml=\"<img src='data:image/png;base64,iVBORw0KGgoAAAANSUhEUgAAAHAAAABwCAAAAADji6uXAAAABGdBTUEAALGPC/xhBQAAACBjSFJNAAB6JgAAgIQAAPoAAACA6AAAdTAAAOpgAAA6mAAAF3CculE8AAAAAmJLR0QA/4ePzL8AAAHSSURBVGje7dnPi05RHMfx10iTQkmUjbJVkyxmZWHE7JQFJcVGfiz4B+wUf4Al5cd6rOzsNMqCwt7GBlmY4jGUpIbFOU/upNx7H+U599v5bO7tPOfcz/k8785zvuc+VFVVVVVVVVUNXzOTDlzCSVzF9R7jNvzvhPENN/bpvBvncAeb8BOX8BAvS00Y37Azw/1YxlbM40Nu34mjKsMpGnZmeF7iB09wZigJ4xt2ZjiXr59w03qGc10fMo2E8Q07MbyMg9L+t4JVqRgaF0TvS04Y37ATw2MSv7c4ntseYG9uny85YXzDVoaLOJTvl/Eq348afUZSzfNNWqcfS0oY37D1fHgfJ3LHw3iKA7iLPdI6bOoLruFGKQnjG/6V4Xa8lurRGTzCDuxrDG4yXMr9b+NdKQnjG7auw1u44E9e49muYZf0G1pkwviGrfvhFYnTImbxTDrXL+T2x9bvjcUljG/YynAkvU/bkme3KtU4C/nzFfwoOWF8w85n/K/5OovTQ0oY37DXO2/YhrNDShjfsDdDfhdCk8w2/lc6DIbj+nRtCAnjG07EsKkXpSeMb9ib4WfcwylsxvPSE8Y37M3wOy7iDY7o95/FVBLGN6yqqqqq+nf9AgJcQtX4ClbGAAAAAElFTkSuQmCC'></img>\" })\n",
       "      \"True: 4, pred: 9\")\n",
       "    (div { style=Dict(\"display\"=>\"flex\",\"flex-direction\"=>\"column\") }\n",
       "      (div { setInnerHtml=\"<img src='data:image/png;base64,iVBORw0KGgoAAAANSUhEUgAAAHAAAABwCAAAAADji6uXAAAABGdBTUEAALGPC/xhBQAAACBjSFJNAAB6JgAAgIQAAPoAAACA6AAAdTAAAOpgAAA6mAAAF3CculE8AAAAAmJLR0QA/4ePzL8AAAG/SURBVGje7djPiw9xHMfxB0uyreLix+aAg4skSvkD7N63FKGUIlHiyEmScpLDcpPsYXPZIo6c5OZm24SL8iuKUohaDp/ZjO078/2uHzvj0/tZU5/5zHvm1WtevZvPfAiCIAiCIAiCIPhzFnQr2IWTuIntGMQxPMPH3xBcON8O8xdc1K1gFXYUxwwPcQhX/weH+Qt27cMVuIsts+ZfYQO+tt1h/oK1fdiP01jZ4doa7Df3Xsz/lbanD1fjGoZqbv6Ctzgo9eP9NjrMX7Ayw324Xozf4VSHmit+NvIn3MBZPG+Tw/wFKzO8iOPS+nMEkx1qluCEtHbdVsx9wzSeSHneKuYac5i/YGWG36UsRqUs61iHrcX4PDaWrt3GJdxrymH+gpUZTks59pJhmUGcwW4MlOb7mnKYv2Blhuekb+AL7MGDOTx0GR5hbWkuMvxnVP5bTEjZrZf2aC7gDcYq6gdwpBgP+zW/O006zF+w9h9/M8al791SfMbjitrF2FQ6fyqtZQ5jCu+bcpi/YNd9GjiAvdjZQ+0oXuMyPrTBYf6CPWUIy4tjNkelvGZ4qX7/Lf9XOu+CQRAEQRAEQRAEf4MfIcVA6D0Y9fcAAAAASUVORK5CYII='></img>\" })\n",
       "      \"True: 0, pred: 6\"))\n",
       "  (div { style=Dict(\"display\"=>\"flex\",\"flex-direction\"=>\"row\") }\n",
       "    (div { style=Dict(\"display\"=>\"flex\",\"flex-direction\"=>\"column\") }\n",
       "      (div { setInnerHtml=\"<img src='data:image/png;base64,iVBORw0KGgoAAAANSUhEUgAAAHAAAABwCAAAAADji6uXAAAABGdBTUEAALGPC/xhBQAAACBjSFJNAAB6JgAAgIQAAPoAAACA6AAAdTAAAOpgAAA6mAAAF3CculE8AAAAAmJLR0QA/4ePzL8AAAGsSURBVGje7dg9i1NBFMbxn2JhI5pKxMoUFi4KvmBYhW22sd/azs4vIPgpFCwsBEEQEUEUi4Vt1WyTRWTdQjCdWElKC4VYzEiixd0kF8zsYZ5qmNzJP899OCf3XKqqqqqqqqqqqqqWr0OLHDqON3n9GI/mOHv4fzuMD5wrw2NYxwd8yYd/4iL2SnUYH3hk1gtX8BqncRXbWM1fcEHNcInAmTLs4CnOSDX4Ea+kDGEDz0p1GB+4by89iwdSD91FDz/QlfrpGH1cL9VhfGBjHfZwH1ekrF7iV/5smPfGOC9l/blEh/GBjXX4XOqT0xe/zftPMJIyhBvYKtFhfGBjHV6aWg/xHidwD3cOisP4wMYM16T/wT0MpvYvYzOv5x0w49/Ssnppkzr4rvbSAoAzz4f/aoRPOFe6w/jAhTOEHZMMu6U6jA9slWEfN/P6Gh6W6DA+sFWG76R5/6hUk0U6jA9sleEpKT/Se7giHcYHtspwID3bdPw9SxblMD5w4dnij77h5By/Pv4tPVh1yOSdabEO4wNbZ/gCt0t2GB/YOsO7+IpbpTqMD6yqqlq+fgPhfDqnayzqiAAAAABJRU5ErkJggg=='></img>\" })\n",
       "      \"True: 4, pred: 9\")\n",
       "    (div { style=Dict(\"display\"=>\"flex\",\"flex-direction\"=>\"column\") }\n",
       "      (div { setInnerHtml=\"<img src='data:image/png;base64,iVBORw0KGgoAAAANSUhEUgAAAHAAAABwCAAAAADji6uXAAAABGdBTUEAALGPC/xhBQAAACBjSFJNAAB6JgAAgIQAAPoAAACA6AAAdTAAAOpgAAA6mAAAF3CculE8AAAAAmJLR0QA/4ePzL8AAAHESURBVGje7dg9a1RBFMbxX2KI0WAnYkhjZaGFBDSfQAQLhVSxiS+lpZ8gjagfwCKNkCogQgiCYGEhgiJImqCFkEiCJIGgCCGFim/FnRBY2LsLu7izh3mqc+8M85+Hw5k791BUVFRUVFRUVFTUew10usA4juMWhnEeFzCf3jVq8H87jA8camfSNA5jEXtpl5M4jXsYa5i/hZ+5OIwPrK3Dq6o6e5iev+NviodxKMWb2MEClvEWP3JxGB/YNIeX8KyNHV3GO3zL1WF8YNOz9GTazQ08r1ngq4PazNJhfGDL7+EDPMVuvzqMD2yaw/07yZjq29e3DuMDa+80eziCCaz0q8P4wNqz9DFuYgrv8adhp0M4k8Z+5eowPrC2Dq9gKcUv8DnFT3A7jcMnXMRGjg7jA2tzOII5zLSx0Cau4U1uDuMDW/baBnEM11V3m0mcxUt8xAfcV/XY1lT/les5OYwP7LhfCiewilHcxWxODuMD2+qXttIOfufqsAALMH9gV+pwxMGhvJybw/jAruRwSnXv+YLXuTmMD+xKDvcXeaXqgWflMD6w4xwexZ0UP8rRYXxgxzk8hXPY1voc7YnD+MCioqLe6x+LoTqsSKDwFAAAAABJRU5ErkJggg=='></img>\" })\n",
       "      \"True: 5, pred: 9\")\n",
       "    (div { style=Dict(\"display\"=>\"flex\",\"flex-direction\"=>\"column\") }\n",
       "      (div { setInnerHtml=\"<img src='data:image/png;base64,iVBORw0KGgoAAAANSUhEUgAAAHAAAABwCAAAAADji6uXAAAABGdBTUEAALGPC/xhBQAAACBjSFJNAAB6JgAAgIQAAPoAAACA6AAAdTAAAOpgAAA6mAAAF3CculE8AAAAAmJLR0QA/4ePzL8AAAILSURBVGje7dk9aFRBFAXgb6M2ahEwNhYa0CYWpkgjiAoWsfAH1E4UUTAINvYiKMHCyh8sgmXAykKwUgvB9BYKYm1jo0W0sFESi/uWfVl4+ydkh2FONXfezDt79jBz78yjoKCgoKCgoPW/L3iB87X4BN73GD+x2QrzJxzZw2m8wQGs1/p/4SJep6Iwf8Kto07cg/21+Bs+4CxuKh5uIkbysIXbXX3L2JmiwvwJh/ZwVuyhU1X8EfM4glspKsyfcCgPD+ItdtX65vEDCziaosL8CYfycEGsv3oNs1zFc1W8iqcpKcyfcOSapo2TNnp6DispKcyfcCAPp3FG5MIJrHX94jW8wkO9/RuLwvwJB/LwAh5U7TUb1107XtLfv7EozJ+w1e/hNbG+tuN71TfVNWZdnAcviXyYlML8Cft6+KdqL+FZ1VevP4/p3LWtiLu2pBTmT9jXw7/4ilP40jDuDq5iH7akpjB/wsZ8uAOPxD75WbN/sIjD2JuiwvwJGz28J9YWkQebMCn20zmDIf+/NB0PZ2rt+z1ecFnUPMkqzJ+w0cOWTrJ8jNNdzyeFf0/E+WJVnO+TU5g/YWNNcwgvRZ3yG3fF2jwucuQ2kf/aZ4sreJ6iwvwJe9alM3iH3V0T6mf8n+K7/YK4+05OYf6Efb/jz+I6btQmLOr49clg9zNjU5g/YUFBQUFBQQH/AK+pSuOV3EwlAAAAAElFTkSuQmCC'></img>\" })\n",
       "      \"True: 8, pred: 3\")\n",
       "    (div { style=Dict(\"display\"=>\"flex\",\"flex-direction\"=>\"column\") }\n",
       "      (div { setInnerHtml=\"<img src='data:image/png;base64,iVBORw0KGgoAAAANSUhEUgAAAHAAAABwCAAAAADji6uXAAAABGdBTUEAALGPC/xhBQAAACBjSFJNAAB6JgAAgIQAAPoAAACA6AAAdTAAAOpgAAA6mAAAF3CculE8AAAAAmJLR0QA/4ePzL8AAAIHSURBVGje7dhPiE5RGMfxz6u3BpNJETakWYgaJiOxsrDAZmz8LSmysLGwYSMLShLJzmKysPGnmLJQlD87WVgoJqaUpZmihI1QFs9dSO/M685o3jOn89uc7u3e++3Xr+fc5zwUFRUVFRUVFc1+Ndo9sAJbsQV92IgxLMBKfKwJnDPTDvMHTprhPpzHEoziLm7iGw7hFR6k7jB/YMsMu3EVBzCCE3g4Wx3mD2y2utnAhmq94f/l1xGH+QMn3EuP4Aq68BjDuI0v//DRLvzErxQc5g+c9H/YJ/bRg9X1W5zBZxPXZlPkfRifUnCYP7BtX9rAXJHjOmxDL77jOs6KPhWW4jmO4X4qDvMHts3wb/WgH4PYgcW4hjs4ha9iH07GYf7A2hn+qWU4iePV9SjWpOYwf2BzOi+P4XXqDvMHTqsOV4veZlzssQuxHh9Scpg/cMp1OB+P8B47xUxgr5i/lQxnVFPKcB6eivwGxZmxB+/wIjWH+QOnlOGQ6E03i7PigOhRR/AjNYf5A2tnuAl7RI4vq3u7qvVCig7zB9bqabrxDIvEPHUcq8S++gbbtZ6vddRh/sBaddiPtWJuOl69fElkeln7/DriMH9grTq8J3qYATGPeYLlOI1zqTrMH1irDnurdT92i/yGcDFlh/kDa9XhUXEOJGpyGLe070U76jB/YFFRUVHR9PUbRRdNtFEXXBgAAAAASUVORK5CYII='></img>\" })\n",
       "      \"True: 8, pred: 3\")\n",
       "    (div { style=Dict(\"display\"=>\"flex\",\"flex-direction\"=>\"column\") }\n",
       "      (div { setInnerHtml=\"<img src='data:image/png;base64,iVBORw0KGgoAAAANSUhEUgAAAHAAAABwCAAAAADji6uXAAAABGdBTUEAALGPC/xhBQAAACBjSFJNAAB6JgAAgIQAAPoAAACA6AAAdTAAAOpgAAA6mAAAF3CculE8AAAAAmJLR0QA/4ePzL8AAAGtSURBVGje7di/SxdxHMfxxzcMiYZIMBrEtpbSyaFB6A+IpojQQaS1vSWCCHQTUZpqiILa2voxRNBSNOjg4CjS0Bb0YwhFzIa7L6XQ3TdPuo9vPk/4wufuPtyTFy/u8737kMlkMplMJpPJtE+n6uJ5vMZpfMJQeX4IY+V4Bev/IDzyvxPGF/ZVXZzGKfwsf13G8aQcf8AlfE01YXxhX9MbXMAxucMWhY07hOuYSTVhfOG+OnyOF4o1FC7LHbYorOzwjeI/8eSe82cwfFgSxhdWdvgKXxQdDuIOHuAiRg5LwvjCTt2ERdyomfMRV7GcYsL4wtoOzym6OVoz7zZmU0wYX1j7TrOKCdzHQMW8EZzAt9QSxhfWPoddruFpOX6Pe3hk9/M5qug8qYTxhT132EF/Od7GFt4pvvG75A5bEfb8fbiDjT3n7uJl6gnjCxvt07zFY0ylnDC+sFGHm/jxx/EkbqWWML7wQPZLu0xgHp9TShhf2PM7zd+4goc4Xh7P4WZKCeMLGz+Hz7Dgd4fJJYwvPNC19DuWUksYX9h4LaXYT13EGs6mljC+MJPJtM8v0wIz+4wCKC8AAAAASUVORK5CYII='></img>\" })\n",
       "      \"True: 4, pred: 9\")\n",
       "    (div { style=Dict(\"display\"=>\"flex\",\"flex-direction\"=>\"column\") }\n",
       "      (div { setInnerHtml=\"<img src='data:image/png;base64,iVBORw0KGgoAAAANSUhEUgAAAHAAAABwCAAAAADji6uXAAAABGdBTUEAALGPC/xhBQAAACBjSFJNAAB6JgAAgIQAAPoAAACA6AAAdTAAAOpgAAA6mAAAF3CculE8AAAAAmJLR0QA/4ePzL8AAAIxSURBVGje7dlNiE5RGAfwHzObqTHGAlPGhhQLUljIR0oishBhaWVlKJGQEpOlLH2FHUbysZFi5yMUZWF8RCkfCwuTzzAZi3OmeV+ad9551cyZ0/3X7dzn3p7zv//77zm3+xwKFChQoECBAgUKFBh+jKolaTI2lcTr8AoPY3wTd/rJHT3UCvMnrMrDRViNbSVJ9XHside+4DTa8BvXsSoFhfkT/uPhXCzEbnRiCiaiLj5dB97jHV7gRszrwTe04G0FNfm/0iEnrC8NOoTaaYjx+DieRReO4il+9TNZA07E8/upKMyfsMzDqfr8g3Nox3N0VzHZYqwUPF6WisL8Ccs8XIrmkviN6ryD5bgQzx/hcyoK8ycs87ArHoNFI3bFsRuHUlKYP2H9/04wBiexBD+xBVdTUpg/YU3/h72Yg51Yjx+4go2pKcyfsGYPm3AN82N8APtTVJg/YU1r6UycEurwO/bifKoK8yccdB024Rg2xPgZZpTcr8MEoQ+QhML8CQdVh9OENbPXv3tCDRJ6qK3Yg4s4k4rC/AmrrsN5Qg+0WVg/24UewCRsxWxcwl1cTklh/oRV1WErdgj+3cZBPI7XtuMDjmNfigrzJxywDltwS+h9wxrMwmahF/4Ea/EyVYX5E1b0cIHw/9D4V0IPPuGw8H1MWmH+hBXX0unK/YOvwt7EEbweCQrzJ6zo4QN8xDhhX7cTK/TtD44IhfkTDvg9bMNYYf+pYyQqzJ+wQIECw48/+cFX/IxA6noAAAAASUVORK5CYII='></img>\" })\n",
       "      \"True: 2, pred: 7\")\n",
       "    (div { style=Dict(\"display\"=>\"flex\",\"flex-direction\"=>\"column\") }\n",
       "      (div { setInnerHtml=\"<img src='data:image/png;base64,iVBORw0KGgoAAAANSUhEUgAAAHAAAABwCAAAAADji6uXAAAABGdBTUEAALGPC/xhBQAAACBjSFJNAAB6JgAAgIQAAPoAAACA6AAAdTAAAOpgAAA6mAAAF3CculE8AAAAAmJLR0QA/4ePzL8AAAIxSURBVGje7dlLiEhRGAfw32gmo0YyeU1qNh7ZWLA0MyujlLKwUsOCYutRXrGwEk1SFKVsMEpC5LVQyiysLEgps5FSKBZSRIzFd6cmM+bOo8xxOv+63XPv/c759+/fPef7zqGgoKCgoKCg4P9Hw2Q6dVT3bhzAQ9zEI7yu6TvjXyvMn7DWwybMwTfsxWaswOAoA53AodQU5k/YWBdwDtvwBu2jfO9HV8oK8ycc08NT2C7+uXYMiLlzoHq3E6ur2Gd4kKLC/AnH9PD9sHY/evC2ej6KLWjFK6z/Iz4ZhfkT1q6Hg9V1Fs1YLubOQbzENeFnsgrzJ6z1sAs3xP82hF5cFx5+SV1h/oS1OU0/nmLdsHdzMc/E/ZsWhfkTjqs+nIWN2IROtOGnyGOO4y6+pqowf8IJ1/gLsQYXRN1IzKsXcSdFhfkTTmqfZgjdon5cUg10GMdSU5g/4ZQ8hPnYiiNoET6exK9UFOZPOGUPh9CBx1V7AT6mojB/whEeNoo6cKI5ZxNeYCn24HQqCvMnHFFb9GCfWNeuTGCgHyJXhZkpKcyfcISHt7Afl8UZRa+oEeuwTNQcDfiQksL8CUddD1twFWvxScyN9/H5L4M043YV/x2Lq35JKMyfcMycphOXxJnFO+zAvWHf28T+zS6sEnuoZ7A7JYX5E9bmpS3Cy/NYhD4xV64Utf7sKu45Doqz/O8pKcyfcNy1Ras4vye82lC1+8Se+BPl7GmaCAsKCgoKpo7f0+RXWkyT8hEAAAAASUVORK5CYII='></img>\" })\n",
       "      \"True: 3, pred: 5\")\n",
       "    (div { style=Dict(\"display\"=>\"flex\",\"flex-direction\"=>\"column\") }\n",
       "      (div { setInnerHtml=\"<img src='data:image/png;base64,iVBORw0KGgoAAAANSUhEUgAAAHAAAABwCAAAAADji6uXAAAABGdBTUEAALGPC/xhBQAAACBjSFJNAAB6JgAAgIQAAPoAAACA6AAAdTAAAOpgAAA6mAAAF3CculE8AAAAAmJLR0QA/4ePzL8AAAIBSURBVGje7dlPiI5BAMfxDzab2Cism3JAiTiII3vgKEeSUg7sTSiFi8Me/C1chIuTFOLgb/bkYlMuEkXSbim3daC9sA7zbB6P1z7P+yrmneZ7eZ5n5pn59evXzPPMDJlMJpPJZDLdz4xOGu3BWhzAJIZxGo8btJ35rx2mL9hWhpexHQswq1I3gWc4gwcxOUxfsDbDubiIjVhZaTCBJ1he1MErbMGnWBymLzhthqtwSJg7y7zEBSGvESzFNSHnXmzDvVgcpi/Y86eK9biPhaWy9xjCHYyXykcxgHdYVmnz3x2mL9hyHM4Wvn27i+dxHMVVfJums1PCuH2N1bE4TF+w5Tjc5Wd+13EOLxp0NhKjw/QFe+peuK1ZftE6TF+wZYY3sAb9GOt2h+kLtszwKw520NmKGB2mL1g7l7bD3uL6MSaH6Qt2lOESDApr+zL9xfV8TA7TF2wrw14cwz4s6haH6Qs2znAAj/y+T1plVFjrR+MwfcFGe95bcVdY+8NNnMRbbCrqptiMpzE5TF+wdhzOE/5Rp/IbwxF8wBzsL737EM9jc5i+YG2G8/26b7YDn7ETh7GuKD+LK8JZRlQO0xdsNJeewPHifhh92FA8T+KNcGbxJUaH6Qs2yrBP+PYtrpR/F/bBB2N2mL5gW+f4t4RzfMI6fgiXYneYvmAmk8lk/p4fUFlH3qnLN6kAAAAASUVORK5CYII='></img>\" })\n",
       "      \"True: 2, pred: 0\")))"
      ]
     },
     "execution_count": 25,
     "metadata": {
      "application/vnd.webio.node+json": {
       "kernelId": null
      }
     },
     "output_type": "execute_result"
    }
   ],
   "source": [
    "vbox(hbox([vbox(Gray.(test_images[i]),\n",
    "                \"True: $(test_labels[i]), pred: $(predictions3[i])\") for i in wrong_predictions[1:8]]...),\n",
    "     hbox([vbox(Gray.(test_images[i]),\n",
    "                \"True: $(test_labels[i]), pred: $(predictions3[i])\") for i in wrong_predictions[9:16]]...),\n",
    "     hbox([vbox(Gray.(test_images[i]),\n",
    "                \"True: $(test_labels[i]), pred: $(predictions3[i])\") for i in wrong_predictions[17:24]]...),\n",
    "     hbox([vbox(Gray.(test_images[i]),\n",
    "                \"True: $(test_labels[i]), pred: $(predictions3[i])\") for i in wrong_predictions[25:32]]...))"
   ]
  },
  {
   "cell_type": "markdown",
   "metadata": {},
   "source": [
    "### A minimal intro to graph analysis"
   ]
  },
  {
   "cell_type": "code",
   "execution_count": 26,
   "metadata": {},
   "outputs": [],
   "source": [
    "using LightGraphs"
   ]
  },
  {
   "cell_type": "code",
   "execution_count": 27,
   "metadata": {},
   "outputs": [
    {
     "name": "stdout",
     "output_type": "stream",
     "text": [
      " 38.016522 seconds (11 allocations: 762.940 MiB, 0.02% gc time)\n"
     ]
    },
    {
     "data": {
      "text/plain": [
       "10000×10000 Array{Float64,2}:\n",
       "  0.0      11.2688    8.53553  10.4155   …   8.92657   9.62214  12.4499\n",
       " 11.2688    0.0       9.82534  11.2474      12.4085   10.2538   11.9218\n",
       "  8.53553   9.82534   0.0      11.3819       9.21445   8.90848  11.6149\n",
       " 10.4155   11.2474   11.3819    0.0         10.8698   10.4474    9.0114\n",
       "  8.70647  11.5588    9.2377   10.7562      10.1767   11.0094   11.3722\n",
       "  8.82369  10.2204    3.08158  11.581    …   9.01029   8.98499  11.9489\n",
       "  8.19329  11.1739    9.23948  11.9762       8.99899   9.7354   12.705 \n",
       "  9.72363  11.1096    8.65114  11.1223       9.0562   10.2768   11.5792\n",
       " 11.1542   11.5426    9.91136  11.172       11.5015   11.9752   10.9737\n",
       "  8.31466  12.3997    9.54172  10.3626       6.9696    9.41861  11.6234\n",
       " 11.1871   11.2395   10.5238   10.0597   …  12.2529   11.7772   11.1891\n",
       " 10.6671   10.2506    9.28776  10.0726      10.6484    9.26927  11.0633\n",
       "  7.70321  11.3261    9.36965  10.1071       8.05871   9.76374  11.062 \n",
       "  ⋮                                      ⋱                             \n",
       "  9.27794  11.3024    9.96944  10.7045       9.14807   8.0428   12.4155\n",
       " 11.6179   10.4665   10.3781    9.27681     10.3741    9.8137    7.6655\n",
       "  6.94833  11.9361    8.30142  10.9071   …   7.71871  10.1469   12.3329\n",
       " 11.8417   11.2071   12.1427   11.0093      10.9037   10.6897   12.7301\n",
       "  8.72188  12.0501   10.5121   10.0564       9.04535  10.3861   10.939 \n",
       " 13.6757   12.6824   13.1523   10.0833      12.4544   10.9115   11.3002\n",
       "  9.68985   9.45862   4.37768  11.4662       9.45858   8.90024  11.2603\n",
       " 10.96     11.1958   10.9216   11.4718   …  10.7798   11.8531   11.7241\n",
       " 10.352    10.1692   10.6424    9.63749     11.9014   11.5521   11.7718\n",
       "  8.92657  12.4085    9.21445  10.8698       0.0       9.2621   11.4023\n",
       "  9.62214  10.2538    8.90848  10.4474       9.2621    0.0      11.7018\n",
       " 12.4499   11.9218   11.6149    9.0114      11.4023   11.7018    0.0   "
      ]
     },
     "execution_count": 27,
     "metadata": {},
     "output_type": "execute_result"
    }
   ],
   "source": [
    "@time test_distances = euclidean.(test_images, permutedims(test_images))"
   ]
  },
  {
   "cell_type": "code",
   "execution_count": 28,
   "metadata": {},
   "outputs": [
    {
     "data": {
      "text/plain": [
       "10000-element Array{SubArray{Int64,1,Array{Int64,1},Tuple{UnitRange{Int64}},true},1}:\n",
       " [1, 4801, 495, 4084]     \n",
       " [2, 5522, 6801, 3259]    \n",
       " [3, 205, 3859, 3387]     \n",
       " [4, 2558, 6980, 3482]    \n",
       " [5, 7654, 4491, 2331]    \n",
       " [6, 4268, 9521, 5015]    \n",
       " [7, 2174, 4173, 3087]    \n",
       " [8, 6033, 4273, 6023]    \n",
       " [9, 68, 4178, 9134]      \n",
       " [10, 8978, 6659, 8275]   \n",
       " [11, 526, 425, 1778]     \n",
       " [12, 4687, 3902, 974]    \n",
       " [13, 5672, 6412, 9468]   \n",
       " ⋮                        \n",
       " [9989, 3571, 7998, 9261] \n",
       " [9990, 3383, 7051, 9196] \n",
       " [9991, 5564, 4774, 4678] \n",
       " [9992, 3988, 7661, 1115] \n",
       " [9993, 5492, 5003, 2478] \n",
       " [9994, 6063, 7869, 7856] \n",
       " [9995, 3639, 7354, 5763] \n",
       " [9996, 4067, 1519, 200]  \n",
       " [9997, 5626, 4636, 809]  \n",
       " [9998, 5077, 8040, 7077] \n",
       " [9999, 6137, 5112, 9261] \n",
       " [10000, 7173, 9054, 7153]"
      ]
     },
     "execution_count": 28,
     "metadata": {},
     "output_type": "execute_result"
    }
   ],
   "source": [
    "test_neighbors = partialsortperm.(eachrow(test_distances), Ref(1:4))"
   ]
  },
  {
   "cell_type": "code",
   "execution_count": 29,
   "metadata": {},
   "outputs": [],
   "source": [
    "g = SimpleGraph(10000)\n",
    "for (i, v) in enumerate(test_neighbors)\n",
    "    for j in 2:4\n",
    "        add_edge!(g, i, v[j])\n",
    "    end\n",
    "end"
   ]
  },
  {
   "cell_type": "markdown",
   "metadata": {},
   "source": [
    "we expect pictures that are bridges to be fuzzy (they match heterogenous images)"
   ]
  },
  {
   "cell_type": "code",
   "execution_count": 30,
   "metadata": {},
   "outputs": [
    {
     "name": "stdout",
     "output_type": "stream",
     "text": [
      " 50.287680 seconds (139.68 M allocations: 19.589 GiB, 6.22% gc time)\n"
     ]
    },
    {
     "data": {
      "text/plain": [
       "10000-element Array{Float64,1}:\n",
       " 0.0009580163816836042 \n",
       " 4.9425488103669694e-5 \n",
       " 0.000571080234959791  \n",
       " 0.0002636093876702154 \n",
       " 0.0006420473849252409 \n",
       " 0.00018385628672645926\n",
       " 0.008736303309726681  \n",
       " 0.00010958786693308285\n",
       " 0.002491660828076158  \n",
       " 0.000188704203857687  \n",
       " 4.558787004893013e-5  \n",
       " 8.276447654049255e-5  \n",
       " 0.000676649523651491  \n",
       " ⋮                     \n",
       " 0.001667153208042497  \n",
       " 0.005251745589170444  \n",
       " 0.00030911969268234324\n",
       " 0.0005759559955804378 \n",
       " 0.0008266046300215411 \n",
       " 0.0                   \n",
       " 0.0011832969552287246 \n",
       " 0.0001918601261827889 \n",
       " 0.00017246068801395303\n",
       " 0.0012676334593958558 \n",
       " 0.000338786403496966  \n",
       " 7.654923977942367e-5  "
      ]
     },
     "execution_count": 30,
     "metadata": {},
     "output_type": "execute_result"
    }
   ],
   "source": [
    "@time b = betweenness_centrality(g)"
   ]
  },
  {
   "cell_type": "code",
   "execution_count": 31,
   "metadata": {},
   "outputs": [
    {
     "data": {
      "text/plain": [
       "10000-element Array{Int64,1}:\n",
       " 6573\n",
       " 6562\n",
       " 6633\n",
       " 6577\n",
       " 6559\n",
       " 7452\n",
       "  304\n",
       " 2920\n",
       " 6570\n",
       " 2794\n",
       " 1717\n",
       " 1385\n",
       " 3190\n",
       "    ⋮\n",
       " 1580\n",
       " 1529\n",
       " 1412\n",
       " 1338\n",
       " 1187\n",
       " 1033\n",
       "  865\n",
       "  832\n",
       "  672\n",
       "  585\n",
       "  157\n",
       "  142"
      ]
     },
     "execution_count": 31,
     "metadata": {},
     "output_type": "execute_result"
    }
   ],
   "source": [
    "rspb = reverse(sortperm(b))"
   ]
  },
  {
   "cell_type": "code",
   "execution_count": 32,
   "metadata": {},
   "outputs": [
    {
     "data": {
      "application/vnd.webio.node+json": {
       "children": [
        {
         "children": [
          {
           "children": [],
           "instanceArgs": {
            "namespace": "html",
            "tag": "div"
           },
           "nodeType": "DOM",
           "props": {
            "setInnerHtml": "<img src='data:image/png;base64,iVBORw0KGgoAAAANSUhEUgAAAHAAAABwCAAAAADji6uXAAAABGdBTUEAALGPC/xhBQAAACBjSFJNAAB6JgAAgIQAAPoAAACA6AAAdTAAAOpgAAA6mAAAF3CculE8AAAAAmJLR0QA/4ePzL8AAAE8SURBVGje7dnBKkVRFMbxH8lAxMSVgZkxZga6MfUQHsHMTGYM5Qk8gXgE8QZSBoqh6NY1EmUgg3Mf4J6tdPZqfZNzJqt//77W7uwOmUwmk8lkMvVnonTwGIc4wBl+xpyb/G/D+MDiDm/QH72v4aGrhvGBU6WDX6PnKd66bBgfWLyHK5ozdB+vXTaMDyzukKbHTwy7bBgfmKk/xXvYw6BgLv5a1HOWXuAOJ103jA8s/i6dxkINhvGBxXu4o7lfDPHUZcP4wKI93MAc7vHddcP4wKIO57GI9xoM4wOLOuzjsRbD+MDWHa5jFbe1GMYHtu5wE3s4r8UwPrB1h0McYbkWw/jAVneLXczgErP4qMEwPrBVh1dYwlZNhvGBY5+lPc198KU2w/jAsTscaP7Xb+MZ17UYxgdmMplM5u/5BX8MId62Jo2hAAAAAElFTkSuQmCC'></img>"
           },
           "type": "node"
          },
          "True: 1, neighbors: [8, 1, 7, 4, 6, 5, 8, 1, 3, 1, 7, 3, 5]"
         ],
         "instanceArgs": {
          "namespace": "html",
          "tag": "div"
         },
         "nodeType": "DOM",
         "props": {
          "style": {
           "display": "flex",
           "flex-direction": "column"
          }
         },
         "type": "node"
        },
        {
         "children": [
          {
           "children": [],
           "instanceArgs": {
            "namespace": "html",
            "tag": "div"
           },
           "nodeType": "DOM",
           "props": {
            "setInnerHtml": "<img src='data:image/png;base64,iVBORw0KGgoAAAANSUhEUgAAAHAAAABwCAAAAADji6uXAAAABGdBTUEAALGPC/xhBQAAACBjSFJNAAB6JgAAgIQAAPoAAACA6AAAdTAAAOpgAAA6mAAAF3CculE8AAAAAmJLR0QA/4ePzL8AAAGISURBVGje7dmtTh1RFIbhp00FiFY0wXAkCEgQrSApBlSD4hpKUsMdIHGtqesFVFS0DoJAIBCtQFFBgISkh6TmIEgaMCAwFXNEgbTZMyTMnpX9mcn85c2blTV7Zg0lJSUlJSUlJSUl7edR0xtX8BaT2MAPfEy47/FDG8YHPkm98CUu8QyzWMP18NgyznM1jA9MquEMlnCIFxjHh+H2BGN4mqthfGDSs3QeP//aH9w6v6p6nh7naBgfmNSH3/5z7it2cZarYXxg8nr4r0xgC79zNYwPvFcNJ9HHds6G8YH37sMZXOVsGB/YuIajeIN1XORsGB/YqIY9vFbVcTN3w/jARnOaOXxR1XBa+vtMK4bxgY368Dl+4b169WvFMD6wUQ0HeIX9LhjGB9au4ZRqDVxwd16TpWF8YO318BN28LkrhvGBtfpwESOq2XdnDOMDk/uwp/qe77s5/87eMD4wuQ/fYQ8Hqm+KOrOZVg3jA5P6cApHOFX1Y6cM4wOT/wF/76phfGBJSUn7+QM+WS6UwCWeOQAAAABJRU5ErkJggg=='></img>"
           },
           "type": "node"
          },
          "True: 7, neighbors: [7, 3, 7, 8, 2, 5, 7, 9, 3, 1]"
         ],
         "instanceArgs": {
          "namespace": "html",
          "tag": "div"
         },
         "nodeType": "DOM",
         "props": {
          "style": {
           "display": "flex",
           "flex-direction": "column"
          }
         },
         "type": "node"
        },
        {
         "children": [
          {
           "children": [],
           "instanceArgs": {
            "namespace": "html",
            "tag": "div"
           },
           "nodeType": "DOM",
           "props": {
            "setInnerHtml": "<img src='data:image/png;base64,iVBORw0KGgoAAAANSUhEUgAAAHAAAABwCAAAAADji6uXAAAABGdBTUEAALGPC/xhBQAAACBjSFJNAAB6JgAAgIQAAPoAAACA6AAAdTAAAOpgAAA6mAAAF3CculE8AAAAAmJLR0QA/4ePzL8AAAGmSURBVGje7dmxS5VRHMbxjyEIkoPOgpqFgoP1FwRNLtnUGBJEQWuTm4OYkUMQLS2NIQ0NhS1BCBFE0RJNQUO0pIlNDYXY8F65S8O5J/Ce98d5lpf7wrlfvjycwznnpaampqampqam/RnIHTiFK1jGb0zgZ8K4E8dtGB84mDNoHJs4hxWM4RQ+lGgYH9hzh5c1/X3BJWyVbhgf2NNaOoPnuIVfeNkGw/jA5Hk4gle4g2c4bIthfGDyPFzDPBZx0Hk3iEl81exrijSMD0yah0P4g1Xd/mZwFvdxA09LNYwPTOpwAu/wtvN7AefxGI/wo2TD+MCktXQOtzXnv0PcxXfs4iHed55FGsYHJs3DT7im6W4DO5r+jrKb8if9MowPTN6X7mDpH+8H1A77DMy+a4OruKdZa7+VahgfmHXXdpQL2Mao2mEfgdkdnsEw1vGxZMP4wKwOR/AC+7rnxWIN4wOzOpzFNF7rnhmLNYwPzOrwuuZ+7UEbDOMDs/alb7CHi20wjA/seR7exGl8bothfGDP8/AJTmq+/6Z+q+irYXxgTU1NTc3/5y9LxTuYwSFWTQAAAABJRU5ErkJggg=='></img>"
           },
           "type": "node"
          },
          "True: 9, neighbors: [7, 7, 9, 5, 8, 9, 5, 9]"
         ],
         "instanceArgs": {
          "namespace": "html",
          "tag": "div"
         },
         "nodeType": "DOM",
         "props": {
          "style": {
           "display": "flex",
           "flex-direction": "column"
          }
         },
         "type": "node"
        },
        {
         "children": [
          {
           "children": [],
           "instanceArgs": {
            "namespace": "html",
            "tag": "div"
           },
           "nodeType": "DOM",
           "props": {
            "setInnerHtml": "<img src='data:image/png;base64,iVBORw0KGgoAAAANSUhEUgAAAHAAAABwCAAAAADji6uXAAAABGdBTUEAALGPC/xhBQAAACBjSFJNAAB6JgAAgIQAAPoAAACA6AAAdTAAAOpgAAA6mAAAF3CculE8AAAAAmJLR0QA/4ePzL8AAAGOSURBVGje7dm/S1VhHMfxV5KEmIRLgzg0aVzIHMKc3FocXQIHB8HBrX+gv8GpwWxqcxGEBhGcWhpa3PqBNQcJCSJYkQ3nQHeRc+450H3Ol+ez3HMfHnjzvh++zz33HnJycnJycnJuVG2YwAfsYQtfrtm3htc1gCP/2zA+8GbVhgc4wyzu9K1P4xt+le/r9DcUw/jAyjmk6O4P5vG2XLuNi3IdNnGIk9QM4wNrdViVSdzFxxQN4wMrz9I6WcELPPFvTpMxjA9s1eE4djCKVbxP0TA+sFWHI5gqr9/gZ4qG8YGtOhzDEr6q/8Ua/yPtVocL5esBLlM1jA9sdV/6Dj08wqdUDeMDG8/hfVxhV/3+hmIYH9hqDk+xjv2UDeMDG3U4gad4jI3UDeMDG52lPbzETBcM4wMH7vBh3/X3LhjGBw7c4T3FWfoZv7tgGB/Y6CzdxjLOu2AYHzjQPc0MXuEWFhW/LZI3jA+sPYfP8ANziuf6TfobimF8YO0Oj3Gk+F/7eZcM4wNzcnJycnJy+AtjTC429jnruAAAAABJRU5ErkJggg=='></img>"
           },
           "type": "node"
          },
          "True: 7, neighbors: [7, 6, 6, 9, 1, 7, 9]"
         ],
         "instanceArgs": {
          "namespace": "html",
          "tag": "div"
         },
         "nodeType": "DOM",
         "props": {
          "style": {
           "display": "flex",
           "flex-direction": "column"
          }
         },
         "type": "node"
        },
        {
         "children": [
          {
           "children": [],
           "instanceArgs": {
            "namespace": "html",
            "tag": "div"
           },
           "nodeType": "DOM",
           "props": {
            "setInnerHtml": "<img src='data:image/png;base64,iVBORw0KGgoAAAANSUhEUgAAAHAAAABwCAAAAADji6uXAAAABGdBTUEAALGPC/xhBQAAACBjSFJNAAB6JgAAgIQAAPoAAACA6AAAdTAAAOpgAAA6mAAAF3CculE8AAAAAmJLR0QA/4ePzL8AAAHCSURBVGje7dk9axZBGIXhy6hEEgwGTKegWIh26fwFFlYi2BgstBPT2FnF0koULEQQG0UQQYg2ChFBLKwUa/GDkEJ4IQmBKKKFxfPaBDG7i+jsw5xm2YXhcO/hzOzsUFVV9b+1pevAu5jBXiy1GDfyrwnzG27rMmg7XuI4fpROmN+wU4aTIrtX+Fw6YX7DThlew2vc6wNhfsPWGY5jN9Zwuw+E+Q1bZ3gM+/CgL4T5DVtneBor2NoXwvyGrfcWJ/AY3/tCmN+wdQ93+XN+41gviTC/Yec9/kYdwRmMifm2GML8hn8lw2lcxEl8E3m+LYUwv2Gn/eEvjYl5dQr3sUPkN1kSYX7DRj08KP7LvN/wfB7nRfcGoo+XxD+4YgjzGzbq4R48+83zRSzjy/D+Da6XRpjfcNMeHsUB3BjeT4tzigFGRQdHMIHVEgnzG26a4WFcximxZ3iKWbwT5xejuCC+YR6VSJjfsNF6OIdPeIGd4qxiP87iEO7gVqmE+Q0brYcDMU8u4LlY967io1gT50smzG/YqIdXROcm8FVk+hAfcFO7c+D8r7TMHhLr3tLweg5P+kKY37CqqqqqqqqqqqqqBP0EEnhB8GbyFvEAAAAASUVORK5CYII='></img>"
           },
           "type": "node"
          },
          "True: 6, neighbors: [2, 6, 6, 7, 5, 6]"
         ],
         "instanceArgs": {
          "namespace": "html",
          "tag": "div"
         },
         "nodeType": "DOM",
         "props": {
          "style": {
           "display": "flex",
           "flex-direction": "column"
          }
         },
         "type": "node"
        }
       ],
       "instanceArgs": {
        "namespace": "html",
        "tag": "div"
       },
       "nodeType": "DOM",
       "props": {
        "style": {
         "display": "flex",
         "flex-direction": "column"
        }
       },
       "type": "node"
      },
      "text/html": [
       "<div\n",
       "    class=\"webio-mountpoint\"\n",
       "    data-webio-mountpoint=\"11976353190765306075\"\n",
       ">\n",
       "    <script>\n",
       "    if (window.require && require.defined && require.defined(\"nbextensions/webio/main\")) {\n",
       "        console.log(\"Jupyter WebIO extension detected, not mounting.\");\n",
       "    } else if (window.WebIO) {\n",
       "        WebIO.mount(\n",
       "            document.querySelector('[data-webio-mountpoint=\"11976353190765306075\"]'),\n",
       "            {\"props\":{\"style\":{\"display\":\"flex\",\"flex-direction\":\"column\"}},\"nodeType\":\"DOM\",\"type\":\"node\",\"instanceArgs\":{\"namespace\":\"html\",\"tag\":\"div\"},\"children\":[{\"props\":{\"style\":{\"display\":\"flex\",\"flex-direction\":\"column\"}},\"nodeType\":\"DOM\",\"type\":\"node\",\"instanceArgs\":{\"namespace\":\"html\",\"tag\":\"div\"},\"children\":[{\"props\":{\"setInnerHtml\":\"<img src='data:image\\/png;base64,iVBORw0KGgoAAAANSUhEUgAAAHAAAABwCAAAAADji6uXAAAABGdBTUEAALGPC\\/xhBQAAACBjSFJNAAB6JgAAgIQAAPoAAACA6AAAdTAAAOpgAAA6mAAAF3CculE8AAAAAmJLR0QA\\/4ePzL8AAAE8SURBVGje7dnBKkVRFMbxH8lAxMSVgZkxZga6MfUQHsHMTGYM5Qk8gXgE8QZSBoqh6NY1EmUgg3Mf4J6tdPZqfZNzJqt\\/\\/77W7uwOmUwmk8lkMvVnonTwGIc4wBl+xpyb\\/G\\/D+MDiDm\\/QH72v4aGrhvGBU6WDX6PnKd66bBgfWLyHK5ozdB+vXTaMDyzukKbHTwy7bBgfmKk\\/xXvYw6BgLv5a1HOWXuAOJ103jA8s\\/i6dxkINhvGBxXu4o7lfDPHUZcP4wKI93MAc7vHddcP4wKIO57GI9xoM4wOLOuzjsRbD+MDWHa5jFbe1GMYHtu5wE3s4r8UwPrB1h0McYbkWw\\/jAVneLXczgErP4qMEwPrBVh1dYwlZNhvGBY5+lPc198KU2w\\/jAsTscaP7Xb+MZ17UYxgdmMplM5u\\/5BX8MId62Jo2hAAAAAElFTkSuQmCC'><\\/img>\"},\"nodeType\":\"DOM\",\"type\":\"node\",\"instanceArgs\":{\"namespace\":\"html\",\"tag\":\"div\"},\"children\":[]},\"True: 1, neighbors: [8, 1, 7, 4, 6, 5, 8, 1, 3, 1, 7, 3, 5]\"]},{\"props\":{\"style\":{\"display\":\"flex\",\"flex-direction\":\"column\"}},\"nodeType\":\"DOM\",\"type\":\"node\",\"instanceArgs\":{\"namespace\":\"html\",\"tag\":\"div\"},\"children\":[{\"props\":{\"setInnerHtml\":\"<img src='data:image\\/png;base64,iVBORw0KGgoAAAANSUhEUgAAAHAAAABwCAAAAADji6uXAAAABGdBTUEAALGPC\\/xhBQAAACBjSFJNAAB6JgAAgIQAAPoAAACA6AAAdTAAAOpgAAA6mAAAF3CculE8AAAAAmJLR0QA\\/4ePzL8AAAGISURBVGje7dmtTh1RFIbhp00FiFY0wXAkCEgQrSApBlSD4hpKUsMdIHGtqesFVFS0DoJAIBCtQFFBgISkh6TmIEgaMCAwFXNEgbTZMyTMnpX9mcn85c2blTV7Zg0lJSUlJSUlJSUl7edR0xtX8BaT2MAPfEy47\\/FDG8YHPkm98CUu8QyzWMP18NgyznM1jA9MquEMlnCIFxjHh+H2BGN4mqthfGDSs3QeP\\/\\/aH9w6v6p6nh7naBgfmNSH3\\/5z7it2cZarYXxg8nr4r0xgC79zNYwPvFcNJ9HHds6G8YH37sMZXOVsGB\\/YuIajeIN1XORsGB\\/YqIY9vFbVcTN3w\\/jARnOaOXxR1XBa+vtMK4bxgY368Dl+4b169WvFMD6wUQ0HeIX9LhjGB9au4ZRqDVxwd16TpWF8YO318BN28LkrhvGBtfpwESOq2XdnDOMDk\\/uwp\\/qe77s5\\/87eMD4wuQ\\/fYQ8Hqm+KOrOZVg3jA5P6cApHOFX1Y6cM4wOT\\/wF\\/76phfGBJSUn7+QM+WS6UwCWeOQAAAABJRU5ErkJggg=='><\\/img>\"},\"nodeType\":\"DOM\",\"type\":\"node\",\"instanceArgs\":{\"namespace\":\"html\",\"tag\":\"div\"},\"children\":[]},\"True: 7, neighbors: [7, 3, 7, 8, 2, 5, 7, 9, 3, 1]\"]},{\"props\":{\"style\":{\"display\":\"flex\",\"flex-direction\":\"column\"}},\"nodeType\":\"DOM\",\"type\":\"node\",\"instanceArgs\":{\"namespace\":\"html\",\"tag\":\"div\"},\"children\":[{\"props\":{\"setInnerHtml\":\"<img src='data:image\\/png;base64,iVBORw0KGgoAAAANSUhEUgAAAHAAAABwCAAAAADji6uXAAAABGdBTUEAALGPC\\/xhBQAAACBjSFJNAAB6JgAAgIQAAPoAAACA6AAAdTAAAOpgAAA6mAAAF3CculE8AAAAAmJLR0QA\\/4ePzL8AAAGmSURBVGje7dmxS5VRHMbxjyEIkoPOgpqFgoP1FwRNLtnUGBJEQWuTm4OYkUMQLS2NIQ0NhS1BCBFE0RJNQUO0pIlNDYXY8F65S8O5J\\/Ce98d5lpf7wrlfvjycwznnpaampqampqam\\/RnIHTiFK1jGb0zgZ8K4E8dtGB84mDNoHJs4hxWM4RQ+lGgYH9hzh5c1\\/X3BJWyVbhgf2NNaOoPnuIVfeNkGw\\/jA5Hk4gle4g2c4bIthfGDyPFzDPBZx0Hk3iEl81exrijSMD0yah0P4g1Xd\\/mZwFvdxA09LNYwPTOpwAu\\/wtvN7AefxGI\\/wo2TD+MCktXQOtzXnv0PcxXfs4iHed55FGsYHJs3DT7im6W4DO5r+jrKb8if9MowPTN6X7mDpH+8H1A77DMy+a4OruKdZa7+VahgfmHXXdpQL2Mao2mEfgdkdnsEw1vGxZMP4wKwOR\\/AC+7rnxWIN4wOzOpzFNF7rnhmLNYwPzOrwuuZ+7UEbDOMDs\\/alb7CHi20wjA\\/seR7exGl8bothfGDP8\\/AJTmq+\\/6Z+q+irYXxgTU1NTc3\\/5y9LxTuYwSFWTQAAAABJRU5ErkJggg=='><\\/img>\"},\"nodeType\":\"DOM\",\"type\":\"node\",\"instanceArgs\":{\"namespace\":\"html\",\"tag\":\"div\"},\"children\":[]},\"True: 9, neighbors: [7, 7, 9, 5, 8, 9, 5, 9]\"]},{\"props\":{\"style\":{\"display\":\"flex\",\"flex-direction\":\"column\"}},\"nodeType\":\"DOM\",\"type\":\"node\",\"instanceArgs\":{\"namespace\":\"html\",\"tag\":\"div\"},\"children\":[{\"props\":{\"setInnerHtml\":\"<img src='data:image\\/png;base64,iVBORw0KGgoAAAANSUhEUgAAAHAAAABwCAAAAADji6uXAAAABGdBTUEAALGPC\\/xhBQAAACBjSFJNAAB6JgAAgIQAAPoAAACA6AAAdTAAAOpgAAA6mAAAF3CculE8AAAAAmJLR0QA\\/4ePzL8AAAGOSURBVGje7dm\\/S1VhHMfxV5KEmIRLgzg0aVzIHMKc3FocXQIHB8HBrX+gv8GpwWxqcxGEBhGcWhpa3PqBNQcJCSJYkQ3nQHeRc+450H3Ol+ez3HMfHnjzvh++zz33HnJycnJycnJuVG2YwAfsYQtfrtm3htc1gCP\\/2zA+8GbVhgc4wyzu9K1P4xt+le\\/r9DcUw\\/jAyjmk6O4P5vG2XLuNi3IdNnGIk9QM4wNrdViVSdzFxxQN4wMrz9I6WcELPPFvTpMxjA9s1eE4djCKVbxP0TA+sFWHI5gqr9\\/gZ4qG8YGtOhzDEr6q\\/8Ua\\/yPtVocL5esBLlM1jA9sdV\\/6Dj08wqdUDeMDG8\\/hfVxhV\\/3+hmIYH9hqDk+xjv2UDeMDG3U4gad4jI3UDeMDG52lPbzETBcM4wMH7vBh3\\/X3LhjGBw7c4T3FWfoZv7tgGB\\/Y6CzdxjLOu2AYHzjQPc0MXuEWFhW\\/LZI3jA+sPYfP8ANziuf6TfobimF8YO0Oj3Gk+F\\/7eZcM4wNzcnJycnJy+AtjTC429jnruAAAAABJRU5ErkJggg=='><\\/img>\"},\"nodeType\":\"DOM\",\"type\":\"node\",\"instanceArgs\":{\"namespace\":\"html\",\"tag\":\"div\"},\"children\":[]},\"True: 7, neighbors: [7, 6, 6, 9, 1, 7, 9]\"]},{\"props\":{\"style\":{\"display\":\"flex\",\"flex-direction\":\"column\"}},\"nodeType\":\"DOM\",\"type\":\"node\",\"instanceArgs\":{\"namespace\":\"html\",\"tag\":\"div\"},\"children\":[{\"props\":{\"setInnerHtml\":\"<img src='data:image\\/png;base64,iVBORw0KGgoAAAANSUhEUgAAAHAAAABwCAAAAADji6uXAAAABGdBTUEAALGPC\\/xhBQAAACBjSFJNAAB6JgAAgIQAAPoAAACA6AAAdTAAAOpgAAA6mAAAF3CculE8AAAAAmJLR0QA\\/4ePzL8AAAHCSURBVGje7dk9axZBGIXhy6hEEgwGTKegWIh26fwFFlYi2BgstBPT2FnF0koULEQQG0UQQYg2ChFBLKwUa\\/GDkEJ4IQmBKKKFxfPaBDG7i+jsw5xm2YXhcO\\/hzOzsUFVV9b+1pevAu5jBXiy1GDfyrwnzG27rMmg7XuI4fpROmN+wU4aTIrtX+Fw6YX7DThlew2vc6wNhfsPWGY5jN9Zwuw+E+Q1bZ3gM+\\/CgL4T5DVtneBor2NoXwvyGrfcWJ\\/AY3\\/tCmN+wdQ93+XN+41gviTC\\/Yec9\\/kYdwRmMifm2GML8hn8lw2lcxEl8E3m+LYUwv2Gn\\/eEvjYl5dQr3sUPkN1kSYX7DRj08KP7LvN\\/wfB7nRfcGoo+XxD+4YgjzGzbq4R48+83zRSzjy\\/D+Da6XRpjfcNMeHsUB3BjeT4tzigFGRQdHMIHVEgnzG26a4WFcximxZ3iKWbwT5xejuCC+YR6VSJjfsNF6OIdPeIGd4qxiP87iEO7gVqmE+Q0brYcDMU8u4LlY967io1gT50smzG\\/YqIdXROcm8FVk+hAfcFO7c+D8r7TMHhLr3tLweg5P+kKY37CqqqqqqqqqqqqqBP0EEnhB8GbyFvEAAAAASUVORK5CYII='><\\/img>\"},\"nodeType\":\"DOM\",\"type\":\"node\",\"instanceArgs\":{\"namespace\":\"html\",\"tag\":\"div\"},\"children\":[]},\"True: 6, neighbors: [2, 6, 6, 7, 5, 6]\"]}]},\n",
       "            window,\n",
       "        );\n",
       "    } else {\n",
       "        document\n",
       "            .querySelector('[data-webio-mountpoint=\"11976353190765306075\"]')\n",
       "            .innerHTML = '<strong>WebIO not detected.</strong>';\n",
       "    }\n",
       "    </script>\n",
       "</div>\n"
      ],
      "text/plain": [
       "(div { style=Dict(\"display\"=>\"flex\",\"flex-direction\"=>\"column\") }\n",
       "  (div { style=Dict(\"display\"=>\"flex\",\"flex-direction\"=>\"column\") }\n",
       "    (div { setInnerHtml=\"<img src='data:image/png;base64,iVBORw0KGgoAAAANSUhEUgAAAHAAAABwCAAAAADji6uXAAAABGdBTUEAALGPC/xhBQAAACBjSFJNAAB6JgAAgIQAAPoAAACA6AAAdTAAAOpgAAA6mAAAF3CculE8AAAAAmJLR0QA/4ePzL8AAAE8SURBVGje7dnBKkVRFMbxH8lAxMSVgZkxZga6MfUQHsHMTGYM5Qk8gXgE8QZSBoqh6NY1EmUgg3Mf4J6tdPZqfZNzJqt//77W7uwOmUwmk8lkMvVnonTwGIc4wBl+xpyb/G/D+MDiDm/QH72v4aGrhvGBU6WDX6PnKd66bBgfWLyHK5ozdB+vXTaMDyzukKbHTwy7bBgfmKk/xXvYw6BgLv5a1HOWXuAOJ103jA8s/i6dxkINhvGBxXu4o7lfDPHUZcP4wKI93MAc7vHddcP4wKIO57GI9xoM4wOLOuzjsRbD+MDWHa5jFbe1GMYHtu5wE3s4r8UwPrB1h0McYbkWw/jAVneLXczgErP4qMEwPrBVh1dYwlZNhvGBY5+lPc198KU2w/jAsTscaP7Xb+MZ17UYxgdmMplM5u/5BX8MId62Jo2hAAAAAElFTkSuQmCC'></img>\" })\n",
       "    \"True: 1, neighbors: [8, 1, 7, 4, 6, 5, 8, 1, 3, 1, 7, 3, 5]\")\n",
       "  (div { style=Dict(\"display\"=>\"flex\",\"flex-direction\"=>\"column\") }\n",
       "    (div { setInnerHtml=\"<img src='data:image/png;base64,iVBORw0KGgoAAAANSUhEUgAAAHAAAABwCAAAAADji6uXAAAABGdBTUEAALGPC/xhBQAAACBjSFJNAAB6JgAAgIQAAPoAAACA6AAAdTAAAOpgAAA6mAAAF3CculE8AAAAAmJLR0QA/4ePzL8AAAGISURBVGje7dmtTh1RFIbhp00FiFY0wXAkCEgQrSApBlSD4hpKUsMdIHGtqesFVFS0DoJAIBCtQFFBgISkh6TmIEgaMCAwFXNEgbTZMyTMnpX9mcn85c2blTV7Zg0lJSUlJSUlJSUl7edR0xtX8BaT2MAPfEy47/FDG8YHPkm98CUu8QyzWMP18NgyznM1jA9MquEMlnCIFxjHh+H2BGN4mqthfGDSs3QeP//aH9w6v6p6nh7naBgfmNSH3/5z7it2cZarYXxg8nr4r0xgC79zNYwPvFcNJ9HHds6G8YH37sMZXOVsGB/YuIajeIN1XORsGB/YqIY9vFbVcTN3w/jARnOaOXxR1XBa+vtMK4bxgY368Dl+4b169WvFMD6wUQ0HeIX9LhjGB9au4ZRqDVxwd16TpWF8YO318BN28LkrhvGBtfpwESOq2XdnDOMDk/uwp/qe77s5/87eMD4wuQ/fYQ8Hqm+KOrOZVg3jA5P6cApHOFX1Y6cM4wOT/wF/76phfGBJSUn7+QM+WS6UwCWeOQAAAABJRU5ErkJggg=='></img>\" })\n",
       "    \"True: 7, neighbors: [7, 3, 7, 8, 2, 5, 7, 9, 3, 1]\")\n",
       "  (div { style=Dict(\"display\"=>\"flex\",\"flex-direction\"=>\"column\") }\n",
       "    (div { setInnerHtml=\"<img src='data:image/png;base64,iVBORw0KGgoAAAANSUhEUgAAAHAAAABwCAAAAADji6uXAAAABGdBTUEAALGPC/xhBQAAACBjSFJNAAB6JgAAgIQAAPoAAACA6AAAdTAAAOpgAAA6mAAAF3CculE8AAAAAmJLR0QA/4ePzL8AAAGmSURBVGje7dmxS5VRHMbxjyEIkoPOgpqFgoP1FwRNLtnUGBJEQWuTm4OYkUMQLS2NIQ0NhS1BCBFE0RJNQUO0pIlNDYXY8F65S8O5J/Ce98d5lpf7wrlfvjycwznnpaampqampqam/RnIHTiFK1jGb0zgZ8K4E8dtGB84mDNoHJs4hxWM4RQ+lGgYH9hzh5c1/X3BJWyVbhgf2NNaOoPnuIVfeNkGw/jA5Hk4gle4g2c4bIthfGDyPFzDPBZx0Hk3iEl81exrijSMD0yah0P4g1Xd/mZwFvdxA09LNYwPTOpwAu/wtvN7AefxGI/wo2TD+MCktXQOtzXnv0PcxXfs4iHed55FGsYHJs3DT7im6W4DO5r+jrKb8if9MowPTN6X7mDpH+8H1A77DMy+a4OruKdZa7+VahgfmHXXdpQL2Mao2mEfgdkdnsEw1vGxZMP4wKwOR/AC+7rnxWIN4wOzOpzFNF7rnhmLNYwPzOrwuuZ+7UEbDOMDs/alb7CHi20wjA/seR7exGl8bothfGDP8/AJTmq+/6Z+q+irYXxgTU1NTc3/5y9LxTuYwSFWTQAAAABJRU5ErkJggg=='></img>\" })\n",
       "    \"True: 9, neighbors: [7, 7, 9, 5, 8, 9, 5, 9]\")\n",
       "  (div { style=Dict(\"display\"=>\"flex\",\"flex-direction\"=>\"column\") }\n",
       "    (div { setInnerHtml=\"<img src='data:image/png;base64,iVBORw0KGgoAAAANSUhEUgAAAHAAAABwCAAAAADji6uXAAAABGdBTUEAALGPC/xhBQAAACBjSFJNAAB6JgAAgIQAAPoAAACA6AAAdTAAAOpgAAA6mAAAF3CculE8AAAAAmJLR0QA/4ePzL8AAAGOSURBVGje7dm/S1VhHMfxV5KEmIRLgzg0aVzIHMKc3FocXQIHB8HBrX+gv8GpwWxqcxGEBhGcWhpa3PqBNQcJCSJYkQ3nQHeRc+450H3Ol+ez3HMfHnjzvh++zz33HnJycnJycnJuVG2YwAfsYQtfrtm3htc1gCP/2zA+8GbVhgc4wyzu9K1P4xt+le/r9DcUw/jAyjmk6O4P5vG2XLuNi3IdNnGIk9QM4wNrdViVSdzFxxQN4wMrz9I6WcELPPFvTpMxjA9s1eE4djCKVbxP0TA+sFWHI5gqr9/gZ4qG8YGtOhzDEr6q/8Ua/yPtVocL5esBLlM1jA9sdV/6Dj08wqdUDeMDG8/hfVxhV/3+hmIYH9hqDk+xjv2UDeMDG3U4gad4jI3UDeMDG52lPbzETBcM4wMH7vBh3/X3LhjGBw7c4T3FWfoZv7tgGB/Y6CzdxjLOu2AYHzjQPc0MXuEWFhW/LZI3jA+sPYfP8ANziuf6TfobimF8YO0Oj3Gk+F/7eZcM4wNzcnJycnJy+AtjTC429jnruAAAAABJRU5ErkJggg=='></img>\" })\n",
       "    \"True: 7, neighbors: [7, 6, 6, 9, 1, 7, 9]\")\n",
       "  (div { style=Dict(\"display\"=>\"flex\",\"flex-direction\"=>\"column\") }\n",
       "    (div { setInnerHtml=\"<img src='data:image/png;base64,iVBORw0KGgoAAAANSUhEUgAAAHAAAABwCAAAAADji6uXAAAABGdBTUEAALGPC/xhBQAAACBjSFJNAAB6JgAAgIQAAPoAAACA6AAAdTAAAOpgAAA6mAAAF3CculE8AAAAAmJLR0QA/4ePzL8AAAHCSURBVGje7dk9axZBGIXhy6hEEgwGTKegWIh26fwFFlYi2BgstBPT2FnF0koULEQQG0UQQYg2ChFBLKwUa/GDkEJ4IQmBKKKFxfPaBDG7i+jsw5xm2YXhcO/hzOzsUFVV9b+1pevAu5jBXiy1GDfyrwnzG27rMmg7XuI4fpROmN+wU4aTIrtX+Fw6YX7DThlew2vc6wNhfsPWGY5jN9Zwuw+E+Q1bZ3gM+/CgL4T5DVtneBor2NoXwvyGrfcWJ/AY3/tCmN+wdQ93+XN+41gviTC/Yec9/kYdwRmMifm2GML8hn8lw2lcxEl8E3m+LYUwv2Gn/eEvjYl5dQr3sUPkN1kSYX7DRj08KP7LvN/wfB7nRfcGoo+XxD+4YgjzGzbq4R48+83zRSzjy/D+Da6XRpjfcNMeHsUB3BjeT4tzigFGRQdHMIHVEgnzG26a4WFcximxZ3iKWbwT5xejuCC+YR6VSJjfsNF6OIdPeIGd4qxiP87iEO7gVqmE+Q0brYcDMU8u4LlY967io1gT50smzG/YqIdXROcm8FVk+hAfcFO7c+D8r7TMHhLr3tLweg5P+kKY37CqqqqqqqqqqqqqBP0EEnhB8GbyFvEAAAAASUVORK5CYII='></img>\" })\n",
       "    \"True: 6, neighbors: [2, 6, 6, 7, 5, 6]\"))"
      ]
     },
     "execution_count": 32,
     "metadata": {
      "application/vnd.webio.node+json": {
       "kernelId": null
      }
     },
     "output_type": "execute_result"
    }
   ],
   "source": [
    "vbox([vbox(Gray.(test_images[i]),\n",
    "           \"True: $(test_labels[i]), neighbors: $(test_labels[neighbors(g, i)])\") for i in rspb[1:5]]...)"
   ]
  },
  {
   "cell_type": "markdown",
   "metadata": {},
   "source": [
    "on the other hand we expect that if an image has a high PageRank then it is of a good quality"
   ]
  },
  {
   "cell_type": "code",
   "execution_count": 33,
   "metadata": {},
   "outputs": [
    {
     "data": {
      "text/plain": [
       "10000-element Array{Float64,1}:\n",
       " 0.00011518214843225567\n",
       " 7.392316470865964e-5  \n",
       " 0.0001344597997224156 \n",
       " 6.943597761051035e-5  \n",
       " 0.00011067201687267097\n",
       " 0.00011768858930808276\n",
       " 0.00010516308215927994\n",
       " 7.287133219910816e-5  \n",
       " 7.243304807364018e-5  \n",
       " 7.036495516558956e-5  \n",
       " 7.219177511386835e-5  \n",
       " 9.361707025205462e-5  \n",
       " 0.00010544150377023322\n",
       " ⋮                     \n",
       " 0.0001293330224322122 \n",
       " 0.00015754170563513667\n",
       " 0.000149924828626793  \n",
       " 8.832118866348167e-5  \n",
       " 0.00013441542419314947\n",
       " 7.135329224607538e-5  \n",
       " 0.00015634523086937723\n",
       " 0.00011232933824627561\n",
       " 6.928862406644562e-5  \n",
       " 0.00010235431649177706\n",
       " 9.266878287581623e-5  \n",
       " 8.392882395876207e-5  "
      ]
     },
     "execution_count": 33,
     "metadata": {},
     "output_type": "execute_result"
    }
   ],
   "source": [
    "r = pagerank(g)"
   ]
  },
  {
   "cell_type": "code",
   "execution_count": 34,
   "metadata": {},
   "outputs": [
    {
     "data": {
      "text/plain": [
       "10000-element Array{Int64,1}:\n",
       " 9334\n",
       " 8742\n",
       " 8904\n",
       " 8990\n",
       " 5397\n",
       " 2031\n",
       " 4457\n",
       " 8586\n",
       " 2084\n",
       " 7818\n",
       " 3846\n",
       " 1295\n",
       " 7142\n",
       "    ⋮\n",
       " 3539\n",
       " 4130\n",
       " 4847\n",
       " 1167\n",
       " 2564\n",
       " 4645\n",
       "  337\n",
       " 3334\n",
       " 7429\n",
       " 2922\n",
       " 2898\n",
       " 1719"
      ]
     },
     "execution_count": 34,
     "metadata": {},
     "output_type": "execute_result"
    }
   ],
   "source": [
    "rspr = reverse(sortperm(r))"
   ]
  },
  {
   "cell_type": "code",
   "execution_count": 35,
   "metadata": {
    "scrolled": false
   },
   "outputs": [
    {
     "data": {
      "application/vnd.webio.node+json": {
       "children": [
        {
         "children": [
          {
           "children": [],
           "instanceArgs": {
            "namespace": "html",
            "tag": "div"
           },
           "nodeType": "DOM",
           "props": {
            "setInnerHtml": "<img src='data:image/png;base64,iVBORw0KGgoAAAANSUhEUgAAAHAAAABwCAAAAADji6uXAAAABGdBTUEAALGPC/xhBQAAACBjSFJNAAB6JgAAgIQAAPoAAACA6AAAdTAAAOpgAAA6mAAAF3CculE8AAAAAmJLR0QA/4ePzL8AAAGpSURBVGje7dk9a1RBFMbxn4lBo7VaiNHKyhcEQWKnIpjKwlIk+SxCPkKaqFjYWvkNBCsVQbGyURHUkEIsAgkEYjGzmGJ373V9mxzOA4e57Mzd/z48zGXOXlKpVCqVSqX2vvb9qS9awRrudqyb+tcO4wN7ZTiPLbwaMT+NVZzHxdYcxgfu77PoPg4oGW0Mmb+NJTxu0WF8YGeGp3BS2bCHDM9wvo5vWnQYH9iZ4THM4iHWR6w5i/d40KLD+MDODG91zM/gML7Was5hfGBnhlfreGTE/BWcw3KrDuMDx2Y4hzP1+umINZdbdxgfODbDaeVZCdeUHnBr1/wJ3GzdYXzg2AzX8VE5l97AN+zgc61Lfmb8slWH8YGdPf4d5Uw6NeTGnXr9HRfwoUWH8YGdZ5pHSkaLWFB6fUqfOFPrnn75/ReH8YG9/qd5Uus0jtfP3ir7c6F1h/GBvTIc6F2twS+d3QsO4wMnfm9xFF+wqfSIz1t1GB/4S/twt67X8aDSgzTrMIEJTGAC/74mfpYO9BovWnYYHzhxhp+U9xTPsN2yw/jAVCqVSv2+fgCfDjLVt4DaNAAAAABJRU5ErkJggg=='></img>"
           },
           "type": "node"
          },
          "True: 4, neighbors: [4, 4, 4, 4, 4, 4, 4, 4, 4, 4, 4, 4, 4, 4, 4, 4, 4]"
         ],
         "instanceArgs": {
          "namespace": "html",
          "tag": "div"
         },
         "nodeType": "DOM",
         "props": {
          "style": {
           "display": "flex",
           "flex-direction": "column"
          }
         },
         "type": "node"
        },
        {
         "children": [
          {
           "children": [],
           "instanceArgs": {
            "namespace": "html",
            "tag": "div"
           },
           "nodeType": "DOM",
           "props": {
            "setInnerHtml": "<img src='data:image/png;base64,iVBORw0KGgoAAAANSUhEUgAAAHAAAABwCAAAAADji6uXAAAABGdBTUEAALGPC/xhBQAAACBjSFJNAAB6JgAAgIQAAPoAAACA6AAAdTAAAOpgAAA6mAAAF3CculE8AAAAAmJLR0QA/4ePzL8AAAHzSURBVGje7dlPiE5RGMfxz3iHhYU/NQvFYkKKLGYzyZ+UZiHF1kIptnZSFpbeFFbCwtJESWKBBTsbkrIysZnlZKNolDLCWJx3crvm5b5eec88nd/qnnvPc7/9ejr3nuc5FBUVFRUVFQ39i5ccwXGMYgMuoI1vi8xd9r8dxgf2lcN1uIxDWFF7dhpX8GXQDuMDe85hC7ewHpsx0mXed2zF9KAdxgcO9xrwAPs710OYrzx7jYd4ifd+zd9AHMYH9pTDfZio3ZvDFC5K+fucm8P4wMY53IV7lYA5aZ21cSdnh/GBjXK4BuexqjN+g1N4vBQcxgc2yuEodlfG5/B8qTiMD2yUw0218U3M4Cwm8TVnh/GBjWqLMWmvuVjwVemf+C5Xh/GBjevDbRjvXB/GAT9ri2s4kavD+MC/6tMMSz2aG9iLWRzEsxwdxgf21WtbjfvYg1fSvudTbg7jA/vueW+X6sMtUr1xKTeH8YE999rqmpL6arA2R4fxgV3XYUs6UxrBB6meqNcQy6Uzi0msxAvszM1hfGDXdTiB65XxMXyUaohHnXsnsaMy53aODuMDu67DNs40CF44tyh7moEBu+Zwo7RXGftD8Dye4Cje5ugwPvC3+9KWVP+NS+e5pH/kwgf4Ke5K39zZXB3GBxYVFRUVFRXxA68MRk2LHEfdAAAAAElFTkSuQmCC'></img>"
           },
           "type": "node"
          },
          "True: 5, neighbors: [5, 5, 5, 5, 5, 5, 5, 5, 5, 5, 5, 5, 5, 5, 5]"
         ],
         "instanceArgs": {
          "namespace": "html",
          "tag": "div"
         },
         "nodeType": "DOM",
         "props": {
          "style": {
           "display": "flex",
           "flex-direction": "column"
          }
         },
         "type": "node"
        },
        {
         "children": [
          {
           "children": [],
           "instanceArgs": {
            "namespace": "html",
            "tag": "div"
           },
           "nodeType": "DOM",
           "props": {
            "setInnerHtml": "<img src='data:image/png;base64,iVBORw0KGgoAAAANSUhEUgAAAHAAAABwCAAAAADji6uXAAAABGdBTUEAALGPC/xhBQAAACBjSFJNAAB6JgAAgIQAAPoAAACA6AAAdTAAAOpgAAA6mAAAF3CculE8AAAAAmJLR0QA/4ePzL8AAAH8SURBVGje7dpNqE1RGMbx3xXXFV0SwumaGEii3BgYGRkY3zI18JVMRF0DkWRkopSJoYGhxMTE9CZFJj6K0JGSj3yElLgGa8t23GOfe4jV23pGe6+1Tv/19LTb6333oaioqKioqGigacEsHMRhXMODjvlLuIHnPQJn/GuH8YGNGbbwpGFNGxM4iVu5OYwPbMxwAKtwHvOqsdkYmWLtMyzPzWF8YGOGU2kYG7EQZ7CoGn+JJbk5jA+c2c+P3uEqjuFjbfxDjg7jA/vKcD524Ei140npTDOWo8P4wGllOBej2IZ91dgkXmAcN3N0GB/Y8/twLw5hRcf4BHbjTq4O4wN7zvCxX/MjvRsv4AQe5ugwPnDaGd6u7XJ1bb6NLbifm8P4wJ4zXIdBP2e4CeewtLq/izW5OYwP7Ks+rGsMp7Gsuj8l9eaycRgf+McZwk6cra7fYC2e5uIwPrCv+rBTV/AJQ1iAOTk5jA/8Kxl+xnspw+wcxgd2zbAl1QvrsRlvu6wbwn4/eqaP8Donh/GBXTM8gO3V9T2pjr9cm29hF7ZK/W/S83gcr3JyGB/Y9Uwziuu1HX2VnrHvGsbi2v0X6Uw6npvD+MDfnkv3SN/vR6S+aDe1cVSqFbNzGB/YWFuslOq9QalPs0E6e5LqiYtSr7v8F+O/AYuKioqKior4BjW6R2FTYq6AAAAAAElFTkSuQmCC'></img>"
           },
           "type": "node"
          },
          "True: 3, neighbors: [3, 3, 3, 3, 3, 3, 3, 3, 3, 3, 3, 3, 3, 3, 3]"
         ],
         "instanceArgs": {
          "namespace": "html",
          "tag": "div"
         },
         "nodeType": "DOM",
         "props": {
          "style": {
           "display": "flex",
           "flex-direction": "column"
          }
         },
         "type": "node"
        },
        {
         "children": [
          {
           "children": [],
           "instanceArgs": {
            "namespace": "html",
            "tag": "div"
           },
           "nodeType": "DOM",
           "props": {
            "setInnerHtml": "<img src='data:image/png;base64,iVBORw0KGgoAAAANSUhEUgAAAHAAAABwCAAAAADji6uXAAAABGdBTUEAALGPC/xhBQAAACBjSFJNAAB6JgAAgIQAAPoAAACA6AAAdTAAAOpgAAA6mAAAF3CculE8AAAAAmJLR0QA/4ePzL8AAAICSURBVGje7dnNq01RHMbxD1FnQPeWUwbeysBMpt6mXmJk5paXIuUtyURduWF21R25pQzkL5CJJKWk7gQ3eRkgg9tNKYpSDG5eBr9dDu3DPkfH2We1ntHaq1/72U/f1q+19iIrKysrKysra/A1r1cvbuIUXuJay/z8/50wfcMFvXrxbhzElMywx+qY4S6swwQ+tak5hHMYxo1+J0zfsKNeulL0xifYio8lNQ28xlJMYwfe9zNh+oaV12FTMJnDFeX8FuOk4PcFR/zKry8J0zesxLCJs6I33sPtNnUbcLgY38KjOiRM37ASwxEcE2vwDGZLajZhXKzBKVysS8L0Df/K8LxgCHfwoU3dAawtxmN4WJeE6Rv+keFx7MEqsZc5jRcldaPYW4xPiHVYm4TpG5buS8ewD8uwsGV+Fl+L8WPcx/Kidgneip46U6eE6RuWMpwWZ8AqX/ut5XkGGwXL2iRM37C0l05gP57jLrZhzW81K4q578XzHB7UMWH6hl3/Lz2KS4LhdVzAszomTN+wK4YjmBTnxafYgnd1TZi+YVf/vDdjSHDbqTq/viRM37BjhqN+nhev4k3dE6Zv2FEvHRLMGuIMuB2f654wfcPK63BY3Cc1xJ3TuM759SVh+oaVGa4Wd7pED705KAnTN6zcSxeJu8D1uIxXg5IwfcOsrKysrH/XD90LTld38kzqAAAAAElFTkSuQmCC'></img>"
           },
           "type": "node"
          },
          "True: 4, neighbors: [4, 4, 4, 4, 4, 4, 4, 4, 4, 4, 4, 4, 4, 4]"
         ],
         "instanceArgs": {
          "namespace": "html",
          "tag": "div"
         },
         "nodeType": "DOM",
         "props": {
          "style": {
           "display": "flex",
           "flex-direction": "column"
          }
         },
         "type": "node"
        },
        {
         "children": [
          {
           "children": [],
           "instanceArgs": {
            "namespace": "html",
            "tag": "div"
           },
           "nodeType": "DOM",
           "props": {
            "setInnerHtml": "<img src='data:image/png;base64,iVBORw0KGgoAAAANSUhEUgAAAHAAAABwCAAAAADji6uXAAAABGdBTUEAALGPC/xhBQAAACBjSFJNAAB6JgAAgIQAAPoAAACA6AAAdTAAAOpgAAA6mAAAF3CculE8AAAAAmJLR0QA/4ePzL8AAAG4SURBVGje7dkxaFUxGMXxn1oROgld6ubiIHQRV7XaRXEQXETRobu6uShICzqISGfBboqrqw5S1EGpe9ulIBbBwUFUcFBrhwTazeQVbN5HDlxeLtxw8ufw3fcll66urq6u7WrXdiZfxFP8wRm8LJiz+38TxjccGXTiJcxL+T1Slt+OEMY3HKgOD+BjXu1dzLRMGN+wug5HcDOv9AcetE4Y37A6wylczeNpfG+dML5h1bt0Aq+wH29xCr9aJ4xvWFWHh6X84I76/HaEML5hcR3uxQtM5vt9+D0MhPENi+tw0mZ+z6U9xVAQxjcszvD4lvES/g4LYXzD6r70Kx4OE2F8w6p3KXzGah4fwVGs5OtLi4TxDYszPJR/90i96TzOSr0NPMMFrLdGGN+wuC/9hPF/PHMQa60Rxjcc+Mz7Gx5jEXMYk87B77dGGN9woAzXcBIf8v0tKcPRFgnjGxZn+AQ38njBZn7Xpf/Kn3jXImF8w+IM30s96ThO4wrO4Vhe9Rtp798cYXzDqjPvWdzOk7bu8RdwTdpfNEcY37AqwzFcxnmcwDLu4bX0TbhJwviGXV1dXV1dXV0RtAHU0Tunl7ZRlAAAAABJRU5ErkJggg=='></img>"
           },
           "type": "node"
          },
          "True: 6, neighbors: [6, 6, 5, 6, 6, 6, 6, 6, 6, 6, 6, 6, 6, 6]"
         ],
         "instanceArgs": {
          "namespace": "html",
          "tag": "div"
         },
         "nodeType": "DOM",
         "props": {
          "style": {
           "display": "flex",
           "flex-direction": "column"
          }
         },
         "type": "node"
        }
       ],
       "instanceArgs": {
        "namespace": "html",
        "tag": "div"
       },
       "nodeType": "DOM",
       "props": {
        "style": {
         "display": "flex",
         "flex-direction": "column"
        }
       },
       "type": "node"
      },
      "text/html": [
       "<div\n",
       "    class=\"webio-mountpoint\"\n",
       "    data-webio-mountpoint=\"12022216100062043431\"\n",
       ">\n",
       "    <script>\n",
       "    if (window.require && require.defined && require.defined(\"nbextensions/webio/main\")) {\n",
       "        console.log(\"Jupyter WebIO extension detected, not mounting.\");\n",
       "    } else if (window.WebIO) {\n",
       "        WebIO.mount(\n",
       "            document.querySelector('[data-webio-mountpoint=\"12022216100062043431\"]'),\n",
       "            {\"props\":{\"style\":{\"display\":\"flex\",\"flex-direction\":\"column\"}},\"nodeType\":\"DOM\",\"type\":\"node\",\"instanceArgs\":{\"namespace\":\"html\",\"tag\":\"div\"},\"children\":[{\"props\":{\"style\":{\"display\":\"flex\",\"flex-direction\":\"column\"}},\"nodeType\":\"DOM\",\"type\":\"node\",\"instanceArgs\":{\"namespace\":\"html\",\"tag\":\"div\"},\"children\":[{\"props\":{\"setInnerHtml\":\"<img src='data:image\\/png;base64,iVBORw0KGgoAAAANSUhEUgAAAHAAAABwCAAAAADji6uXAAAABGdBTUEAALGPC\\/xhBQAAACBjSFJNAAB6JgAAgIQAAPoAAACA6AAAdTAAAOpgAAA6mAAAF3CculE8AAAAAmJLR0QA\\/4ePzL8AAAGpSURBVGje7dk9a1RBFMbxn4lBo7VaiNHKyhcEQWKnIpjKwlIk+SxCPkKaqFjYWvkNBCsVQbGyURHUkEIsAgkEYjGzmGJ373V9mxzOA4e57Mzd\\/z48zGXOXlKpVCqVSqX2vvb9qS9awRrudqyb+tcO4wN7ZTiPLbwaMT+NVZzHxdYcxgfu77PoPg4oGW0Mmb+NJTxu0WF8YGeGp3BS2bCHDM9wvo5vWnQYH9iZ4THM4iHWR6w5i\\/d40KLD+MDODG91zM\\/gML7Was5hfGBnhlfreGTE\\/BWcw3KrDuMDx2Y4hzP1+umINZdbdxgfODbDaeVZCdeUHnBr1\\/wJ3GzdYXzg2AzX8VE5l97AN+zgc61Lfmb8slWH8YGdPf4d5Uw6NeTGnXr9HRfwoUWH8YGdZ5pHSkaLWFB6fUqfOFPrnn75\\/ReH8YG9\\/qd5Uus0jtfP3ir7c6F1h\\/GBvTIc6F2twS+d3QsO4wMnfm9xFF+wqfSIz1t1GB\\/4S\\/twt67X8aDSgzTrMIEJTGAC\\/74mfpYO9BovWnYYHzhxhp+U9xTPsN2yw\\/jAVCqVSv2+fgCfDjLVt4DaNAAAAABJRU5ErkJggg=='><\\/img>\"},\"nodeType\":\"DOM\",\"type\":\"node\",\"instanceArgs\":{\"namespace\":\"html\",\"tag\":\"div\"},\"children\":[]},\"True: 4, neighbors: [4, 4, 4, 4, 4, 4, 4, 4, 4, 4, 4, 4, 4, 4, 4, 4, 4]\"]},{\"props\":{\"style\":{\"display\":\"flex\",\"flex-direction\":\"column\"}},\"nodeType\":\"DOM\",\"type\":\"node\",\"instanceArgs\":{\"namespace\":\"html\",\"tag\":\"div\"},\"children\":[{\"props\":{\"setInnerHtml\":\"<img src='data:image\\/png;base64,iVBORw0KGgoAAAANSUhEUgAAAHAAAABwCAAAAADji6uXAAAABGdBTUEAALGPC\\/xhBQAAACBjSFJNAAB6JgAAgIQAAPoAAACA6AAAdTAAAOpgAAA6mAAAF3CculE8AAAAAmJLR0QA\\/4ePzL8AAAHzSURBVGje7dlPiE5RGMfxz3iHhYU\\/NQvFYkKKLGYzyZ+UZiHF1kIptnZSFpbeFFbCwtJESWKBBTsbkrIysZnlZKNolDLCWJx3crvm5b5eec88nd\\/qnnvPc7\\/9ejr3nuc5FBUVFRUVFQ39i5ccwXGMYgMuoI1vi8xd9r8dxgf2lcN1uIxDWFF7dhpX8GXQDuMDe85hC7ewHpsx0mXed2zF9KAdxgcO9xrwAPs710OYrzx7jYd4ifd+zd9AHMYH9pTDfZio3ZvDFC5K+fucm8P4wMY53IV7lYA5aZ21cSdnh\\/GBjXK4BuexqjN+g1N4vBQcxgc2yuEodlfG5\\/B8qTiMD2yUw0218U3M4Cwm8TVnh\\/GBjWqLMWmvuVjwVemf+C5Xh\\/GBjevDbRjvXB\\/GAT9ri2s4kavD+MC\\/6tMMSz2aG9iLWRzEsxwdxgf21WtbjfvYg1fSvudTbg7jA\\/vueW+X6sMtUr1xKTeH8YE999rqmpL6arA2R4fxgV3XYUs6UxrBB6meqNcQy6Uzi0msxAvszM1hfGDXdTiB65XxMXyUaohHnXsnsaMy53aODuMDu67DNs40CF44tyh7moEBu+Zwo7RXGftD8Dye4Cje5ugwPvC3+9KWVP+NS+e5pH\\/kwgf4Ke5K39zZXB3GBxYVFRUVFRXxA68MRk2LHEfdAAAAAElFTkSuQmCC'><\\/img>\"},\"nodeType\":\"DOM\",\"type\":\"node\",\"instanceArgs\":{\"namespace\":\"html\",\"tag\":\"div\"},\"children\":[]},\"True: 5, neighbors: [5, 5, 5, 5, 5, 5, 5, 5, 5, 5, 5, 5, 5, 5, 5]\"]},{\"props\":{\"style\":{\"display\":\"flex\",\"flex-direction\":\"column\"}},\"nodeType\":\"DOM\",\"type\":\"node\",\"instanceArgs\":{\"namespace\":\"html\",\"tag\":\"div\"},\"children\":[{\"props\":{\"setInnerHtml\":\"<img src='data:image\\/png;base64,iVBORw0KGgoAAAANSUhEUgAAAHAAAABwCAAAAADji6uXAAAABGdBTUEAALGPC\\/xhBQAAACBjSFJNAAB6JgAAgIQAAPoAAACA6AAAdTAAAOpgAAA6mAAAF3CculE8AAAAAmJLR0QA\\/4ePzL8AAAH8SURBVGje7dpNqE1RGMbx3xXXFV0SwumaGEii3BgYGRkY3zI18JVMRF0DkWRkopSJoYGhxMTE9CZFJj6K0JGSj3yElLgGa8t23GOfe4jV23pGe6+1Tv\\/19LTb6333oaioqKioqGigacEsHMRhXMODjvlLuIHnPQJn\\/GuH8YGNGbbwpGFNGxM4iVu5OYwPbMxwAKtwHvOqsdkYmWLtMyzPzWF8YGOGU2kYG7EQZ7CoGn+JJbk5jA+c2c+P3uEqjuFjbfxDjg7jA\\/vKcD524Ei140npTDOWo8P4wGllOBej2IZ91dgkXmAcN3N0GB\\/Y8\\/twLw5hRcf4BHbjTq4O4wN7zvCxX\\/MjvRsv4AQe5ugwPnDaGd6u7XJ1bb6NLbifm8P4wJ4zXIdBP2e4CeewtLq\\/izW5OYwP7Ks+rGsMp7Gsuj8l9eaycRgf+McZwk6cra7fYC2e5uIwPrCv+rBTV\\/AJQ1iAOTk5jA\\/8Kxl+xnspw+wcxgd2zbAl1QvrsRlvu6wbwn4\\/eqaP8Donh\\/GBXTM8gO3V9T2pjr9cm29hF7ZK\\/W\\/S83gcr3JyGB\\/Y9Uwziuu1HX2VnrHvGsbi2v0X6Uw6npvD+MDfnkv3SN\\/vR6S+aDe1cVSqFbNzGB\\/YWFuslOq9QalPs0E6e5LqiYtSr7v8F+O\\/AYuKioqKior4BjW6R2FTYq6AAAAAAElFTkSuQmCC'><\\/img>\"},\"nodeType\":\"DOM\",\"type\":\"node\",\"instanceArgs\":{\"namespace\":\"html\",\"tag\":\"div\"},\"children\":[]},\"True: 3, neighbors: [3, 3, 3, 3, 3, 3, 3, 3, 3, 3, 3, 3, 3, 3, 3]\"]},{\"props\":{\"style\":{\"display\":\"flex\",\"flex-direction\":\"column\"}},\"nodeType\":\"DOM\",\"type\":\"node\",\"instanceArgs\":{\"namespace\":\"html\",\"tag\":\"div\"},\"children\":[{\"props\":{\"setInnerHtml\":\"<img src='data:image\\/png;base64,iVBORw0KGgoAAAANSUhEUgAAAHAAAABwCAAAAADji6uXAAAABGdBTUEAALGPC\\/xhBQAAACBjSFJNAAB6JgAAgIQAAPoAAACA6AAAdTAAAOpgAAA6mAAAF3CculE8AAAAAmJLR0QA\\/4ePzL8AAAICSURBVGje7dnNq01RHMbxD1FnQPeWUwbeysBMpt6mXmJk5paXIuUtyURduWF21R25pQzkL5CJJKWk7gQ3eRkgg9tNKYpSDG5eBr9dDu3DPkfH2We1ntHaq1\\/72U\\/f1q+19iIrKysrKysra\\/A1r1cvbuIUXuJay\\/z8\\/50wfcMFvXrxbhzElMywx+qY4S6swwQ+tak5hHMYxo1+J0zfsKNeulL0xifYio8lNQ28xlJMYwfe9zNh+oaV12FTMJnDFeX8FuOk4PcFR\\/zKry8J0zesxLCJs6I33sPtNnUbcLgY38KjOiRM37ASwxEcE2vwDGZLajZhXKzBKVysS8L0Df\\/K8LxgCHfwoU3dAawtxmN4WJeE6Rv+keFx7MEqsZc5jRcldaPYW4xPiHVYm4TpG5buS8ewD8uwsGV+Fl+L8WPcx\\/Kidgneip46U6eE6RuWMpwWZ8AqX\\/ut5XkGGwXL2iRM37C0l05gP57jLrZhzW81K4q578XzHB7UMWH6hl3\\/Lz2KS4LhdVzAszomTN+wK4YjmBTnxafYgnd1TZi+YVf\\/vDdjSHDbqTq\\/viRM37BjhqN+nhev4k3dE6Zv2FEvHRLMGuIMuB2f654wfcPK63BY3Cc1xJ3TuM759SVh+oaVGa4Wd7pED705KAnTN6zcSxeJu8D1uIxXg5IwfcOsrKysrH\\/XD90LTld38kzqAAAAAElFTkSuQmCC'><\\/img>\"},\"nodeType\":\"DOM\",\"type\":\"node\",\"instanceArgs\":{\"namespace\":\"html\",\"tag\":\"div\"},\"children\":[]},\"True: 4, neighbors: [4, 4, 4, 4, 4, 4, 4, 4, 4, 4, 4, 4, 4, 4]\"]},{\"props\":{\"style\":{\"display\":\"flex\",\"flex-direction\":\"column\"}},\"nodeType\":\"DOM\",\"type\":\"node\",\"instanceArgs\":{\"namespace\":\"html\",\"tag\":\"div\"},\"children\":[{\"props\":{\"setInnerHtml\":\"<img src='data:image\\/png;base64,iVBORw0KGgoAAAANSUhEUgAAAHAAAABwCAAAAADji6uXAAAABGdBTUEAALGPC\\/xhBQAAACBjSFJNAAB6JgAAgIQAAPoAAACA6AAAdTAAAOpgAAA6mAAAF3CculE8AAAAAmJLR0QA\\/4ePzL8AAAG4SURBVGje7dkxaFUxGMXxn1oROgld6ubiIHQRV7XaRXEQXETRobu6uShICzqISGfBboqrqw5S1EGpe9ulIBbBwUFUcFBrhwTazeQVbN5HDlxeLtxw8ufw3fcll66urq6u7WrXdiZfxFP8wRm8LJiz+38TxjccGXTiJcxL+T1Slt+OEMY3HKgOD+BjXu1dzLRMGN+wug5HcDOv9AcetE4Y37A6wylczeNpfG+dML5h1bt0Aq+wH29xCr9aJ4xvWFWHh6X84I76\\/HaEML5hcR3uxQtM5vt9+D0MhPENi+tw0mZ+z6U9xVAQxjcszvD4lvES\\/g4LYXzD6r70Kx4OE2F8w6p3KXzGah4fwVGs5OtLi4TxDYszPJR\\/90i96TzOSr0NPMMFrLdGGN+wuC\\/9hPF\\/PHMQa60Rxjcc+Mz7Gx5jEXMYk87B77dGGN9woAzXcBIf8v0tKcPRFgnjGxZn+AQ38njBZn7Xpf\\/Kn3jXImF8w+IM30s96ThO4wrO4Vhe9Rtp798cYXzDqjPvWdzOk7bu8RdwTdpfNEcY37AqwzFcxnmcwDLu4bX0TbhJwviGXV1dXV1dXV0RtAHU0Tunl7ZRlAAAAABJRU5ErkJggg=='><\\/img>\"},\"nodeType\":\"DOM\",\"type\":\"node\",\"instanceArgs\":{\"namespace\":\"html\",\"tag\":\"div\"},\"children\":[]},\"True: 6, neighbors: [6, 6, 5, 6, 6, 6, 6, 6, 6, 6, 6, 6, 6, 6]\"]}]},\n",
       "            window,\n",
       "        );\n",
       "    } else {\n",
       "        document\n",
       "            .querySelector('[data-webio-mountpoint=\"12022216100062043431\"]')\n",
       "            .innerHTML = '<strong>WebIO not detected.</strong>';\n",
       "    }\n",
       "    </script>\n",
       "</div>\n"
      ],
      "text/plain": [
       "(div { style=Dict(\"display\"=>\"flex\",\"flex-direction\"=>\"column\") }\n",
       "  (div { style=Dict(\"display\"=>\"flex\",\"flex-direction\"=>\"column\") }\n",
       "    (div { setInnerHtml=\"<img src='data:image/png;base64,iVBORw0KGgoAAAANSUhEUgAAAHAAAABwCAAAAADji6uXAAAABGdBTUEAALGPC/xhBQAAACBjSFJNAAB6JgAAgIQAAPoAAACA6AAAdTAAAOpgAAA6mAAAF3CculE8AAAAAmJLR0QA/4ePzL8AAAGpSURBVGje7dk9a1RBFMbxn4lBo7VaiNHKyhcEQWKnIpjKwlIk+SxCPkKaqFjYWvkNBCsVQbGyURHUkEIsAgkEYjGzmGJ373V9mxzOA4e57Mzd/z48zGXOXlKpVCqVSqX2vvb9qS9awRrudqyb+tcO4wN7ZTiPLbwaMT+NVZzHxdYcxgfu77PoPg4oGW0Mmb+NJTxu0WF8YGeGp3BS2bCHDM9wvo5vWnQYH9iZ4THM4iHWR6w5i/d40KLD+MDODG91zM/gML7Was5hfGBnhlfreGTE/BWcw3KrDuMDx2Y4hzP1+umINZdbdxgfODbDaeVZCdeUHnBr1/wJ3GzdYXzg2AzX8VE5l97AN+zgc61Lfmb8slWH8YGdPf4d5Uw6NeTGnXr9HRfwoUWH8YGdZ5pHSkaLWFB6fUqfOFPrnn75/ReH8YG9/qd5Uus0jtfP3ir7c6F1h/GBvTIc6F2twS+d3QsO4wMnfm9xFF+wqfSIz1t1GB/4S/twt67X8aDSgzTrMIEJTGAC/74mfpYO9BovWnYYHzhxhp+U9xTPsN2yw/jAVCqVSv2+fgCfDjLVt4DaNAAAAABJRU5ErkJggg=='></img>\" })\n",
       "    \"True: 4, neighbors: [4, 4, 4, 4, 4, 4, 4, 4, 4, 4, 4, 4, 4, 4, 4, 4, 4]\")\n",
       "  (div { style=Dict(\"display\"=>\"flex\",\"flex-direction\"=>\"column\") }\n",
       "    (div { setInnerHtml=\"<img src='data:image/png;base64,iVBORw0KGgoAAAANSUhEUgAAAHAAAABwCAAAAADji6uXAAAABGdBTUEAALGPC/xhBQAAACBjSFJNAAB6JgAAgIQAAPoAAACA6AAAdTAAAOpgAAA6mAAAF3CculE8AAAAAmJLR0QA/4ePzL8AAAHzSURBVGje7dlPiE5RGMfxz3iHhYU/NQvFYkKKLGYzyZ+UZiHF1kIptnZSFpbeFFbCwtJESWKBBTsbkrIysZnlZKNolDLCWJx3crvm5b5eec88nd/qnnvPc7/9ejr3nuc5FBUVFRUVFQ39i5ccwXGMYgMuoI1vi8xd9r8dxgf2lcN1uIxDWFF7dhpX8GXQDuMDe85hC7ewHpsx0mXed2zF9KAdxgcO9xrwAPs710OYrzx7jYd4ifd+zd9AHMYH9pTDfZio3ZvDFC5K+fucm8P4wMY53IV7lYA5aZ21cSdnh/GBjXK4BuexqjN+g1N4vBQcxgc2yuEodlfG5/B8qTiMD2yUw0218U3M4Cwm8TVnh/GBjWqLMWmvuVjwVemf+C5Xh/GBjevDbRjvXB/GAT9ri2s4kavD+MC/6tMMSz2aG9iLWRzEsxwdxgf21WtbjfvYg1fSvudTbg7jA/vueW+X6sMtUr1xKTeH8YE999rqmpL6arA2R4fxgV3XYUs6UxrBB6meqNcQy6Uzi0msxAvszM1hfGDXdTiB65XxMXyUaohHnXsnsaMy53aODuMDu67DNs40CF44tyh7moEBu+Zwo7RXGftD8Dye4Cje5ugwPvC3+9KWVP+NS+e5pH/kwgf4Ke5K39zZXB3GBxYVFRUVFRXxA68MRk2LHEfdAAAAAElFTkSuQmCC'></img>\" })\n",
       "    \"True: 5, neighbors: [5, 5, 5, 5, 5, 5, 5, 5, 5, 5, 5, 5, 5, 5, 5]\")\n",
       "  (div { style=Dict(\"display\"=>\"flex\",\"flex-direction\"=>\"column\") }\n",
       "    (div { setInnerHtml=\"<img src='data:image/png;base64,iVBORw0KGgoAAAANSUhEUgAAAHAAAABwCAAAAADji6uXAAAABGdBTUEAALGPC/xhBQAAACBjSFJNAAB6JgAAgIQAAPoAAACA6AAAdTAAAOpgAAA6mAAAF3CculE8AAAAAmJLR0QA/4ePzL8AAAH8SURBVGje7dpNqE1RGMbx3xXXFV0SwumaGEii3BgYGRkY3zI18JVMRF0DkWRkopSJoYGhxMTE9CZFJj6K0JGSj3yElLgGa8t23GOfe4jV23pGe6+1Tv/19LTb6333oaioqKioqGigacEsHMRhXMODjvlLuIHnPQJn/GuH8YGNGbbwpGFNGxM4iVu5OYwPbMxwAKtwHvOqsdkYmWLtMyzPzWF8YGOGU2kYG7EQZ7CoGn+JJbk5jA+c2c+P3uEqjuFjbfxDjg7jA/vKcD524Ei140npTDOWo8P4wGllOBej2IZ91dgkXmAcN3N0GB/Y8/twLw5hRcf4BHbjTq4O4wN7zvCxX/MjvRsv4AQe5ugwPnDaGd6u7XJ1bb6NLbifm8P4wJ4zXIdBP2e4CeewtLq/izW5OYwP7Ks+rGsMp7Gsuj8l9eaycRgf+McZwk6cra7fYC2e5uIwPrCv+rBTV/AJQ1iAOTk5jA/8Kxl+xnspw+wcxgd2zbAl1QvrsRlvu6wbwn4/eqaP8Donh/GBXTM8gO3V9T2pjr9cm29hF7ZK/W/S83gcr3JyGB/Y9Uwziuu1HX2VnrHvGsbi2v0X6Uw6npvD+MDfnkv3SN/vR6S+aDe1cVSqFbNzGB/YWFuslOq9QalPs0E6e5LqiYtSr7v8F+O/AYuKioqKior4BjW6R2FTYq6AAAAAAElFTkSuQmCC'></img>\" })\n",
       "    \"True: 3, neighbors: [3, 3, 3, 3, 3, 3, 3, 3, 3, 3, 3, 3, 3, 3, 3]\")\n",
       "  (div { style=Dict(\"display\"=>\"flex\",\"flex-direction\"=>\"column\") }\n",
       "    (div { setInnerHtml=\"<img src='data:image/png;base64,iVBORw0KGgoAAAANSUhEUgAAAHAAAABwCAAAAADji6uXAAAABGdBTUEAALGPC/xhBQAAACBjSFJNAAB6JgAAgIQAAPoAAACA6AAAdTAAAOpgAAA6mAAAF3CculE8AAAAAmJLR0QA/4ePzL8AAAICSURBVGje7dnNq01RHMbxD1FnQPeWUwbeysBMpt6mXmJk5paXIuUtyURduWF21R25pQzkL5CJJKWk7gQ3eRkgg9tNKYpSDG5eBr9dDu3DPkfH2We1ntHaq1/72U/f1q+19iIrKysrKysra/A1r1cvbuIUXuJay/z8/50wfcMFvXrxbhzElMywx+qY4S6swwQ+tak5hHMYxo1+J0zfsKNeulL0xifYio8lNQ28xlJMYwfe9zNh+oaV12FTMJnDFeX8FuOk4PcFR/zKry8J0zesxLCJs6I33sPtNnUbcLgY38KjOiRM37ASwxEcE2vwDGZLajZhXKzBKVysS8L0Df/K8LxgCHfwoU3dAawtxmN4WJeE6Rv+keFx7MEqsZc5jRcldaPYW4xPiHVYm4TpG5buS8ewD8uwsGV+Fl+L8WPcx/Kidgneip46U6eE6RuWMpwWZ8AqX/ut5XkGGwXL2iRM37C0l05gP57jLrZhzW81K4q578XzHB7UMWH6hl3/Lz2KS4LhdVzAszomTN+wK4YjmBTnxafYgnd1TZi+YVf/vDdjSHDbqTq/viRM37BjhqN+nhev4k3dE6Zv2FEvHRLMGuIMuB2f654wfcPK63BY3Cc1xJ3TuM759SVh+oaVGa4Wd7pED705KAnTN6zcSxeJu8D1uIxXg5IwfcOsrKysrH/XD90LTld38kzqAAAAAElFTkSuQmCC'></img>\" })\n",
       "    \"True: 4, neighbors: [4, 4, 4, 4, 4, 4, 4, 4, 4, 4, 4, 4, 4, 4]\")\n",
       "  (div { style=Dict(\"display\"=>\"flex\",\"flex-direction\"=>\"column\") }\n",
       "    (div { setInnerHtml=\"<img src='data:image/png;base64,iVBORw0KGgoAAAANSUhEUgAAAHAAAABwCAAAAADji6uXAAAABGdBTUEAALGPC/xhBQAAACBjSFJNAAB6JgAAgIQAAPoAAACA6AAAdTAAAOpgAAA6mAAAF3CculE8AAAAAmJLR0QA/4ePzL8AAAG4SURBVGje7dkxaFUxGMXxn1oROgld6ubiIHQRV7XaRXEQXETRobu6uShICzqISGfBboqrqw5S1EGpe9ulIBbBwUFUcFBrhwTazeQVbN5HDlxeLtxw8ufw3fcll66urq6u7WrXdiZfxFP8wRm8LJiz+38TxjccGXTiJcxL+T1Slt+OEMY3HKgOD+BjXu1dzLRMGN+wug5HcDOv9AcetE4Y37A6wylczeNpfG+dML5h1bt0Aq+wH29xCr9aJ4xvWFWHh6X84I76/HaEML5hcR3uxQtM5vt9+D0MhPENi+tw0mZ+z6U9xVAQxjcszvD4lvES/g4LYXzD6r70Kx4OE2F8w6p3KXzGah4fwVGs5OtLi4TxDYszPJR/90i96TzOSr0NPMMFrLdGGN+wuC/9hPF/PHMQa60Rxjcc+Mz7Gx5jEXMYk87B77dGGN9woAzXcBIf8v0tKcPRFgnjGxZn+AQ38njBZn7Xpf/Kn3jXImF8w+IM30s96ThO4wrO4Vhe9Rtp798cYXzDqjPvWdzOk7bu8RdwTdpfNEcY37AqwzFcxnmcwDLu4bX0TbhJwviGXV1dXV1dXV0RtAHU0Tunl7ZRlAAAAABJRU5ErkJggg=='></img>\" })\n",
       "    \"True: 6, neighbors: [6, 6, 5, 6, 6, 6, 6, 6, 6, 6, 6, 6, 6, 6]\"))"
      ]
     },
     "execution_count": 35,
     "metadata": {
      "application/vnd.webio.node+json": {
       "kernelId": null
      }
     },
     "output_type": "execute_result"
    }
   ],
   "source": [
    "vbox([vbox(Gray.(test_images[i]),\n",
    "           \"True: $(test_labels[i]), neighbors: $(test_labels[neighbors(g, i)])\") for i in rspr[1:5]]...)"
   ]
  }
 ],
 "metadata": {
  "@webio": {
   "lastCommId": null,
   "lastKernelId": null
  },
  "kernelspec": {
   "display_name": "Julia 1.1.0",
   "language": "julia",
   "name": "julia-1.1"
  },
  "language_info": {
   "file_extension": ".jl",
   "mimetype": "application/julia",
   "name": "julia",
   "version": "1.1.0"
  }
 },
 "nbformat": 4,
 "nbformat_minor": 2
}
